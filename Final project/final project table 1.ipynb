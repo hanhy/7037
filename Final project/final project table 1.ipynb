{
 "cells": [
  {
   "cell_type": "markdown",
   "source": [
    "# Task1 : Reproduce Table 1"
   ],
   "metadata": {
    "collapsed": false
   }
  },
  {
   "cell_type": "markdown",
   "source": [
    "## 1. merged data"
   ],
   "metadata": {
    "collapsed": false
   }
  },
  {
   "cell_type": "markdown",
   "source": [
    "* First, according to the research ideas of the paper, we integrate the factor return data with Fama’s 3-factor and 5-factor models."
   ],
   "metadata": {
    "collapsed": false
   }
  },
  {
   "cell_type": "code",
   "execution_count": 1,
   "outputs": [],
   "source": [
    "import pandas as pd\n",
    "import numpy as np\n",
    "import statsmodels.api as sm\n",
    "from scipy.stats import trim_mean"
   ],
   "metadata": {
    "collapsed": false,
    "ExecuteTime": {
     "end_time": "2025-03-14T08:10:08.782045Z",
     "start_time": "2025-03-14T08:10:05.367465Z"
    }
   }
  },
  {
   "cell_type": "code",
   "execution_count": 2,
   "outputs": [],
   "source": [
    "table1_data = pd.read_csv('data/merged_data.csv')\n",
    "table1_ff3 = pd.read_csv('data/FF3_daily.csv')\n",
    "table1_ff5 = pd.read_csv('data/FF5_daily.csv')"
   ],
   "metadata": {
    "collapsed": false,
    "ExecuteTime": {
     "end_time": "2025-03-14T08:10:17.725786Z",
     "start_time": "2025-03-14T08:10:09.841543Z"
    }
   }
  },
  {
   "cell_type": "code",
   "execution_count": 3,
   "outputs": [
    {
     "name": "stdout",
     "output_type": "stream",
     "text": [
      "['date', 'port01', 'port02', 'port03', 'port04', 'port05', 'portLS', 'predictor']\n",
      "['date', 'Mkt-RF', 'SMB', 'HML', 'RF']\n",
      "['date', 'Mkt-RF', 'SMB', 'HML', 'RMW', 'CMA', 'RF']\n"
     ]
    },
    {
     "data": {
      "text/plain": "date        int64\nMkt-RF    float64\nSMB       float64\nHML       float64\nRF        float64\ndtype: object"
     },
     "execution_count": 3,
     "metadata": {},
     "output_type": "execute_result"
    }
   ],
   "source": [
    "table1_ff3.columns =['date','Mkt-RF','SMB','HML','RF']\n",
    "table1_ff5.columns =['date','Mkt-RF','SMB','HML','RMW','CMA','RF']\n",
    "print(table1_data.columns.tolist())\n",
    "print(table1_ff3.columns.tolist())\n",
    "print(table1_ff5.columns.tolist())\n",
    "\n",
    "table1_ff3.dtypes"
   ],
   "metadata": {
    "collapsed": false,
    "ExecuteTime": {
     "end_time": "2025-03-14T08:10:44.175974Z",
     "start_time": "2025-03-14T08:10:44.039450Z"
    }
   }
  },
  {
   "cell_type": "code",
   "execution_count": 4,
   "outputs": [],
   "source": [
    "table1_data['date']= pd.to_datetime(table1_data['date']).dt.strftime('%Y-%m-%d')"
   ],
   "metadata": {
    "collapsed": false,
    "ExecuteTime": {
     "end_time": "2025-03-14T08:10:47.905294Z",
     "start_time": "2025-03-14T08:10:46.106229Z"
    }
   }
  },
  {
   "cell_type": "code",
   "execution_count": 5,
   "outputs": [
    {
     "data": {
      "text/plain": "               date    port01    port02    port03    port04    port05  \\\n0        1952-07-01  0.124831  0.336154  0.839240  0.637685  0.656345   \n1        1952-07-02 -0.246625 -0.244496 -0.049348 -0.189462 -0.104565   \n2        1952-07-03  0.023978  0.084967 -0.142413 -0.223899 -0.035177   \n3        1952-07-07 -0.171018 -0.076185 -0.263179 -0.661418 -0.503844   \n4        1952-07-08 -0.209479  0.235904 -0.025679  0.218441  0.140033   \n...             ...       ...       ...       ...       ...       ...   \n1237143  2023-12-22  1.857859  0.723824  0.498934  0.233261  0.428393   \n1237144  2023-12-26  3.266919  0.875071  1.303056  0.540725  0.561904   \n1237145  2023-12-27  2.341186  0.200744  0.285204  0.159429  0.059149   \n1237146  2023-12-28 -1.669881 -0.263774 -0.543158 -0.266308 -0.110725   \n1237147  2023-12-29 -2.447862 -1.850345 -0.757195 -0.082058 -0.068660   \n\n           portLS predictor  \n0        0.531514  Accruals  \n1        0.142060  Accruals  \n2       -0.059155  Accruals  \n3       -0.332827  Accruals  \n4        0.349512  Accruals  \n...           ...       ...  \n1237143 -1.429466  std_turn  \n1237144 -2.705015  std_turn  \n1237145 -2.282037  std_turn  \n1237146  1.559157  std_turn  \n1237147  2.379202  std_turn  \n\n[1237148 rows x 8 columns]",
      "text/html": "<div>\n<style scoped>\n    .dataframe tbody tr th:only-of-type {\n        vertical-align: middle;\n    }\n\n    .dataframe tbody tr th {\n        vertical-align: top;\n    }\n\n    .dataframe thead th {\n        text-align: right;\n    }\n</style>\n<table border=\"1\" class=\"dataframe\">\n  <thead>\n    <tr style=\"text-align: right;\">\n      <th></th>\n      <th>date</th>\n      <th>port01</th>\n      <th>port02</th>\n      <th>port03</th>\n      <th>port04</th>\n      <th>port05</th>\n      <th>portLS</th>\n      <th>predictor</th>\n    </tr>\n  </thead>\n  <tbody>\n    <tr>\n      <th>0</th>\n      <td>1952-07-01</td>\n      <td>0.124831</td>\n      <td>0.336154</td>\n      <td>0.839240</td>\n      <td>0.637685</td>\n      <td>0.656345</td>\n      <td>0.531514</td>\n      <td>Accruals</td>\n    </tr>\n    <tr>\n      <th>1</th>\n      <td>1952-07-02</td>\n      <td>-0.246625</td>\n      <td>-0.244496</td>\n      <td>-0.049348</td>\n      <td>-0.189462</td>\n      <td>-0.104565</td>\n      <td>0.142060</td>\n      <td>Accruals</td>\n    </tr>\n    <tr>\n      <th>2</th>\n      <td>1952-07-03</td>\n      <td>0.023978</td>\n      <td>0.084967</td>\n      <td>-0.142413</td>\n      <td>-0.223899</td>\n      <td>-0.035177</td>\n      <td>-0.059155</td>\n      <td>Accruals</td>\n    </tr>\n    <tr>\n      <th>3</th>\n      <td>1952-07-07</td>\n      <td>-0.171018</td>\n      <td>-0.076185</td>\n      <td>-0.263179</td>\n      <td>-0.661418</td>\n      <td>-0.503844</td>\n      <td>-0.332827</td>\n      <td>Accruals</td>\n    </tr>\n    <tr>\n      <th>4</th>\n      <td>1952-07-08</td>\n      <td>-0.209479</td>\n      <td>0.235904</td>\n      <td>-0.025679</td>\n      <td>0.218441</td>\n      <td>0.140033</td>\n      <td>0.349512</td>\n      <td>Accruals</td>\n    </tr>\n    <tr>\n      <th>...</th>\n      <td>...</td>\n      <td>...</td>\n      <td>...</td>\n      <td>...</td>\n      <td>...</td>\n      <td>...</td>\n      <td>...</td>\n      <td>...</td>\n    </tr>\n    <tr>\n      <th>1237143</th>\n      <td>2023-12-22</td>\n      <td>1.857859</td>\n      <td>0.723824</td>\n      <td>0.498934</td>\n      <td>0.233261</td>\n      <td>0.428393</td>\n      <td>-1.429466</td>\n      <td>std_turn</td>\n    </tr>\n    <tr>\n      <th>1237144</th>\n      <td>2023-12-26</td>\n      <td>3.266919</td>\n      <td>0.875071</td>\n      <td>1.303056</td>\n      <td>0.540725</td>\n      <td>0.561904</td>\n      <td>-2.705015</td>\n      <td>std_turn</td>\n    </tr>\n    <tr>\n      <th>1237145</th>\n      <td>2023-12-27</td>\n      <td>2.341186</td>\n      <td>0.200744</td>\n      <td>0.285204</td>\n      <td>0.159429</td>\n      <td>0.059149</td>\n      <td>-2.282037</td>\n      <td>std_turn</td>\n    </tr>\n    <tr>\n      <th>1237146</th>\n      <td>2023-12-28</td>\n      <td>-1.669881</td>\n      <td>-0.263774</td>\n      <td>-0.543158</td>\n      <td>-0.266308</td>\n      <td>-0.110725</td>\n      <td>1.559157</td>\n      <td>std_turn</td>\n    </tr>\n    <tr>\n      <th>1237147</th>\n      <td>2023-12-29</td>\n      <td>-2.447862</td>\n      <td>-1.850345</td>\n      <td>-0.757195</td>\n      <td>-0.082058</td>\n      <td>-0.068660</td>\n      <td>2.379202</td>\n      <td>std_turn</td>\n    </tr>\n  </tbody>\n</table>\n<p>1237148 rows × 8 columns</p>\n</div>"
     },
     "execution_count": 5,
     "metadata": {},
     "output_type": "execute_result"
    }
   ],
   "source": [
    "table1_data"
   ],
   "metadata": {
    "collapsed": false,
    "ExecuteTime": {
     "end_time": "2025-03-14T08:10:47.931877Z",
     "start_time": "2025-03-14T08:10:47.910343Z"
    }
   }
  },
  {
   "cell_type": "code",
   "execution_count": 6,
   "outputs": [
    {
     "data": {
      "text/plain": "             date  Mkt-RF   SMB   HML     RF\n0      1926-07-01    0.10 -0.25 -0.27  0.009\n1      1926-07-02    0.45 -0.33 -0.06  0.009\n2      1926-07-06    0.17  0.30 -0.39  0.009\n3      1926-07-07    0.09 -0.58  0.02  0.009\n4      1926-07-08    0.21 -0.38  0.19  0.009\n...           ...     ...   ...   ...    ...\n25896  2024-12-24    1.11 -0.09 -0.05  0.017\n25897  2024-12-26    0.02  1.04 -0.19  0.017\n25898  2024-12-27   -1.17 -0.66  0.56  0.017\n25899  2024-12-30   -1.09  0.12  0.74  0.017\n25900  2024-12-31   -0.46  0.00  0.71  0.017\n\n[25901 rows x 5 columns]",
      "text/html": "<div>\n<style scoped>\n    .dataframe tbody tr th:only-of-type {\n        vertical-align: middle;\n    }\n\n    .dataframe tbody tr th {\n        vertical-align: top;\n    }\n\n    .dataframe thead th {\n        text-align: right;\n    }\n</style>\n<table border=\"1\" class=\"dataframe\">\n  <thead>\n    <tr style=\"text-align: right;\">\n      <th></th>\n      <th>date</th>\n      <th>Mkt-RF</th>\n      <th>SMB</th>\n      <th>HML</th>\n      <th>RF</th>\n    </tr>\n  </thead>\n  <tbody>\n    <tr>\n      <th>0</th>\n      <td>1926-07-01</td>\n      <td>0.10</td>\n      <td>-0.25</td>\n      <td>-0.27</td>\n      <td>0.009</td>\n    </tr>\n    <tr>\n      <th>1</th>\n      <td>1926-07-02</td>\n      <td>0.45</td>\n      <td>-0.33</td>\n      <td>-0.06</td>\n      <td>0.009</td>\n    </tr>\n    <tr>\n      <th>2</th>\n      <td>1926-07-06</td>\n      <td>0.17</td>\n      <td>0.30</td>\n      <td>-0.39</td>\n      <td>0.009</td>\n    </tr>\n    <tr>\n      <th>3</th>\n      <td>1926-07-07</td>\n      <td>0.09</td>\n      <td>-0.58</td>\n      <td>0.02</td>\n      <td>0.009</td>\n    </tr>\n    <tr>\n      <th>4</th>\n      <td>1926-07-08</td>\n      <td>0.21</td>\n      <td>-0.38</td>\n      <td>0.19</td>\n      <td>0.009</td>\n    </tr>\n    <tr>\n      <th>...</th>\n      <td>...</td>\n      <td>...</td>\n      <td>...</td>\n      <td>...</td>\n      <td>...</td>\n    </tr>\n    <tr>\n      <th>25896</th>\n      <td>2024-12-24</td>\n      <td>1.11</td>\n      <td>-0.09</td>\n      <td>-0.05</td>\n      <td>0.017</td>\n    </tr>\n    <tr>\n      <th>25897</th>\n      <td>2024-12-26</td>\n      <td>0.02</td>\n      <td>1.04</td>\n      <td>-0.19</td>\n      <td>0.017</td>\n    </tr>\n    <tr>\n      <th>25898</th>\n      <td>2024-12-27</td>\n      <td>-1.17</td>\n      <td>-0.66</td>\n      <td>0.56</td>\n      <td>0.017</td>\n    </tr>\n    <tr>\n      <th>25899</th>\n      <td>2024-12-30</td>\n      <td>-1.09</td>\n      <td>0.12</td>\n      <td>0.74</td>\n      <td>0.017</td>\n    </tr>\n    <tr>\n      <th>25900</th>\n      <td>2024-12-31</td>\n      <td>-0.46</td>\n      <td>0.00</td>\n      <td>0.71</td>\n      <td>0.017</td>\n    </tr>\n  </tbody>\n</table>\n<p>25901 rows × 5 columns</p>\n</div>"
     },
     "execution_count": 6,
     "metadata": {},
     "output_type": "execute_result"
    }
   ],
   "source": [
    "table1_ff3['date'] = pd.to_datetime(table1_ff3['date'].astype(str), format='%Y%m%d').dt.strftime('%Y-%m-%d')\n",
    "table1_ff3"
   ],
   "metadata": {
    "collapsed": false,
    "ExecuteTime": {
     "end_time": "2025-03-14T08:10:48.751413Z",
     "start_time": "2025-03-14T08:10:48.664970Z"
    }
   }
  },
  {
   "cell_type": "code",
   "execution_count": 7,
   "outputs": [
    {
     "data": {
      "text/plain": "             date  Mkt-RF   SMB   HML   RMW   CMA     RF\n0      1963-07-01   -0.67  0.02 -0.35  0.03  0.13  0.012\n1      1963-07-02    0.79 -0.28  0.28 -0.08 -0.21  0.012\n2      1963-07-03    0.63 -0.18 -0.10  0.13 -0.25  0.012\n3      1963-07-05    0.40  0.09 -0.28  0.07 -0.30  0.012\n4      1963-07-08   -0.63  0.07 -0.20 -0.27  0.06  0.012\n...           ...     ...   ...   ...   ...   ...    ...\n15476  2024-12-24    1.11 -0.12 -0.05 -0.13 -0.37  0.017\n15477  2024-12-26    0.02  1.09 -0.19 -0.44  0.35  0.017\n15478  2024-12-27   -1.17 -0.44  0.56  0.41  0.03  0.017\n15479  2024-12-30   -1.09  0.24  0.74  0.55  0.14  0.017\n15480  2024-12-31   -0.46  0.31  0.71  0.33  0.00  0.017\n\n[15481 rows x 7 columns]",
      "text/html": "<div>\n<style scoped>\n    .dataframe tbody tr th:only-of-type {\n        vertical-align: middle;\n    }\n\n    .dataframe tbody tr th {\n        vertical-align: top;\n    }\n\n    .dataframe thead th {\n        text-align: right;\n    }\n</style>\n<table border=\"1\" class=\"dataframe\">\n  <thead>\n    <tr style=\"text-align: right;\">\n      <th></th>\n      <th>date</th>\n      <th>Mkt-RF</th>\n      <th>SMB</th>\n      <th>HML</th>\n      <th>RMW</th>\n      <th>CMA</th>\n      <th>RF</th>\n    </tr>\n  </thead>\n  <tbody>\n    <tr>\n      <th>0</th>\n      <td>1963-07-01</td>\n      <td>-0.67</td>\n      <td>0.02</td>\n      <td>-0.35</td>\n      <td>0.03</td>\n      <td>0.13</td>\n      <td>0.012</td>\n    </tr>\n    <tr>\n      <th>1</th>\n      <td>1963-07-02</td>\n      <td>0.79</td>\n      <td>-0.28</td>\n      <td>0.28</td>\n      <td>-0.08</td>\n      <td>-0.21</td>\n      <td>0.012</td>\n    </tr>\n    <tr>\n      <th>2</th>\n      <td>1963-07-03</td>\n      <td>0.63</td>\n      <td>-0.18</td>\n      <td>-0.10</td>\n      <td>0.13</td>\n      <td>-0.25</td>\n      <td>0.012</td>\n    </tr>\n    <tr>\n      <th>3</th>\n      <td>1963-07-05</td>\n      <td>0.40</td>\n      <td>0.09</td>\n      <td>-0.28</td>\n      <td>0.07</td>\n      <td>-0.30</td>\n      <td>0.012</td>\n    </tr>\n    <tr>\n      <th>4</th>\n      <td>1963-07-08</td>\n      <td>-0.63</td>\n      <td>0.07</td>\n      <td>-0.20</td>\n      <td>-0.27</td>\n      <td>0.06</td>\n      <td>0.012</td>\n    </tr>\n    <tr>\n      <th>...</th>\n      <td>...</td>\n      <td>...</td>\n      <td>...</td>\n      <td>...</td>\n      <td>...</td>\n      <td>...</td>\n      <td>...</td>\n    </tr>\n    <tr>\n      <th>15476</th>\n      <td>2024-12-24</td>\n      <td>1.11</td>\n      <td>-0.12</td>\n      <td>-0.05</td>\n      <td>-0.13</td>\n      <td>-0.37</td>\n      <td>0.017</td>\n    </tr>\n    <tr>\n      <th>15477</th>\n      <td>2024-12-26</td>\n      <td>0.02</td>\n      <td>1.09</td>\n      <td>-0.19</td>\n      <td>-0.44</td>\n      <td>0.35</td>\n      <td>0.017</td>\n    </tr>\n    <tr>\n      <th>15478</th>\n      <td>2024-12-27</td>\n      <td>-1.17</td>\n      <td>-0.44</td>\n      <td>0.56</td>\n      <td>0.41</td>\n      <td>0.03</td>\n      <td>0.017</td>\n    </tr>\n    <tr>\n      <th>15479</th>\n      <td>2024-12-30</td>\n      <td>-1.09</td>\n      <td>0.24</td>\n      <td>0.74</td>\n      <td>0.55</td>\n      <td>0.14</td>\n      <td>0.017</td>\n    </tr>\n    <tr>\n      <th>15480</th>\n      <td>2024-12-31</td>\n      <td>-0.46</td>\n      <td>0.31</td>\n      <td>0.71</td>\n      <td>0.33</td>\n      <td>0.00</td>\n      <td>0.017</td>\n    </tr>\n  </tbody>\n</table>\n<p>15481 rows × 7 columns</p>\n</div>"
     },
     "execution_count": 7,
     "metadata": {},
     "output_type": "execute_result"
    }
   ],
   "source": [
    "table1_ff5['date'] = pd.to_datetime(table1_ff5['date'].astype(str), format='%Y%m%d').dt.strftime('%Y-%m-%d')\n",
    "table1_ff5"
   ],
   "metadata": {
    "collapsed": false,
    "ExecuteTime": {
     "end_time": "2025-03-14T08:10:49.387735Z",
     "start_time": "2025-03-14T08:10:49.313615Z"
    }
   }
  },
  {
   "cell_type": "code",
   "execution_count": 8,
   "outputs": [
    {
     "data": {
      "text/plain": "date       object\nMkt-RF    float64\nSMB       float64\nHML       float64\nRF        float64\ndtype: object"
     },
     "execution_count": 8,
     "metadata": {},
     "output_type": "execute_result"
    }
   ],
   "source": [
    "table1_ff3.head()\n",
    "table1_ff3.dtypes"
   ],
   "metadata": {
    "collapsed": false,
    "ExecuteTime": {
     "end_time": "2025-03-14T08:10:49.984042Z",
     "start_time": "2025-03-14T08:10:49.966773Z"
    }
   }
  },
  {
   "cell_type": "markdown",
   "source": [
    "## 2.Divided the time & dataset"
   ],
   "metadata": {
    "collapsed": false
   }
  },
  {
   "cell_type": "markdown",
   "source": [
    "* The data analysis timeline of the paper is from 1963 to 2016. Combined with the data obtained by the team, we divided the research time into three groups: 2000_2016, 2017-2023, and 2000-2023, in order to explore the impact of long, medium and short time on factor regression."
   ],
   "metadata": {
    "collapsed": false
   }
  },
  {
   "cell_type": "code",
   "execution_count": 9,
   "outputs": [],
   "source": [
    "# all period from 2000 Jan 1 to 2023 Dec 31\n",
    "start_date = '2000-01-01'\n",
    "end_date = '2023-12-31'"
   ],
   "metadata": {
    "collapsed": false,
    "ExecuteTime": {
     "end_time": "2025-03-14T08:10:51.781821Z",
     "start_time": "2025-03-14T08:10:51.776318Z"
    }
   }
  },
  {
   "cell_type": "code",
   "execution_count": 10,
   "outputs": [],
   "source": [
    "# sample period from 2000 Jan 1 to 2016 Dec 31\n",
    "start_date_1 = '2000-01-01'\n",
    "end_date_1 = '2016-12-31'"
   ],
   "metadata": {
    "collapsed": false,
    "ExecuteTime": {
     "end_time": "2025-03-14T08:10:52.083433Z",
     "start_time": "2025-03-14T08:10:52.064651Z"
    }
   }
  },
  {
   "cell_type": "code",
   "execution_count": 11,
   "outputs": [],
   "source": [
    "# post sample period from 2017 Jan 1 to 2023 Dec 31\n",
    "start_date_2 = '2017-01-01'\n",
    "end_date_2 = '2023-12-31'"
   ],
   "metadata": {
    "collapsed": false,
    "ExecuteTime": {
     "end_time": "2025-03-14T08:10:52.347035Z",
     "start_time": "2025-03-14T08:10:52.325890Z"
    }
   }
  },
  {
   "cell_type": "code",
   "execution_count": 121,
   "outputs": [],
   "source": [
    "# original sample period from 1963 July 1 to 2016 Dec 31\n",
    "start_date_3 = '1963-07-01'\n",
    "end_date_3 = '2016-12-31'"
   ],
   "metadata": {
    "collapsed": false,
    "ExecuteTime": {
     "end_time": "2025-03-14T13:57:08.500650Z",
     "start_time": "2025-03-14T13:57:08.489596Z"
    }
   }
  },
  {
   "cell_type": "code",
   "execution_count": 122,
   "outputs": [],
   "source": [
    "filtered_data_1 = table1_data[(table1_data['date'] >= start_date) & (table1_data['date'] <= end_date)]\n",
    "filtered_ff3_1 = table1_ff3[(table1_ff3['date'] >= start_date) & (table1_ff3['date'] <= end_date)]\n",
    "filtered_ff5_1 = table1_ff5[(table1_ff5['date'] >= start_date) & (table1_ff5['date'] <= end_date)]\n",
    "filtered_data_2 = table1_data[(table1_data['date'] >= start_date_1) & (table1_data['date'] <= end_date_1)]\n",
    "filtered_ff3_2 = table1_ff3[(table1_ff3['date'] >= start_date_1) & (table1_ff3['date'] <= end_date_1)]\n",
    "filtered_ff5_2 = table1_ff5[(table1_ff5['date'] >= start_date_1) & (table1_ff5['date'] <= end_date_1)]\n",
    "filtered_data_3 = table1_data[(table1_data['date'] >= start_date_2) & (table1_data['date'] <= end_date_2)]\n",
    "filtered_ff3_3 = table1_ff3[(table1_ff3['date'] >= start_date_2) & (table1_ff3['date'] <= end_date_2)]\n",
    "filtered_ff5_3 = table1_ff5[(table1_ff5['date'] >= start_date_2) & (table1_ff5['date'] <= end_date_2)]\n",
    "filtered_data_4 = table1_data[(table1_data['date'] >= start_date_3) & (table1_data['date'] <= end_date_3)]\n",
    "filtered_ff3_4 = table1_ff3[(table1_ff3['date'] >= start_date_3) & (table1_ff3['date'] <= end_date_3)]\n",
    "filtered_ff5_4 = table1_ff5[(table1_ff5['date'] >= start_date_3) & (table1_ff5['date'] <= end_date_3)]"
   ],
   "metadata": {
    "collapsed": false,
    "ExecuteTime": {
     "end_time": "2025-03-14T13:57:30.817595Z",
     "start_time": "2025-03-14T13:57:24.674967Z"
    }
   }
  },
  {
   "cell_type": "code",
   "execution_count": 123,
   "outputs": [
    {
     "name": "stdout",
     "output_type": "stream",
     "text": [
      "['date', 'port01', 'port02', 'port03', 'port04', 'port05', 'portLS', 'predictor', 'Mkt-RF', 'SMB', 'HML', 'RF']\n",
      "['date', 'port01', 'port02', 'port03', 'port04', 'port05', 'portLS', 'predictor', 'Mkt-RF', 'SMB', 'HML', 'RMW', 'CMA', 'RF']\n",
      "['date', 'port01', 'port02', 'port03', 'port04', 'port05', 'portLS', 'predictor', 'Mkt-RF', 'SMB', 'HML', 'RF']\n",
      "['date', 'port01', 'port02', 'port03', 'port04', 'port05', 'portLS', 'predictor', 'Mkt-RF', 'SMB', 'HML', 'RMW', 'CMA', 'RF']\n",
      "['date', 'port01', 'port02', 'port03', 'port04', 'port05', 'portLS', 'predictor', 'Mkt-RF', 'SMB', 'HML', 'RF']\n",
      "['date', 'port01', 'port02', 'port03', 'port04', 'port05', 'portLS', 'predictor', 'Mkt-RF', 'SMB', 'HML', 'RMW', 'CMA', 'RF']\n",
      "['date', 'port01', 'port02', 'port03', 'port04', 'port05', 'portLS', 'predictor', 'Mkt-RF', 'SMB', 'HML', 'RF']\n",
      "['date', 'port01', 'port02', 'port03', 'port04', 'port05', 'portLS', 'predictor', 'Mkt-RF', 'SMB', 'HML', 'RMW', 'CMA', 'RF']\n"
     ]
    }
   ],
   "source": [
    "merged_data_1 = pd.merge(filtered_data_1, filtered_ff3_1, on='date', how='inner')\n",
    "merged_data_2 = pd.merge(filtered_data_1, filtered_ff5_1, on='date', how='inner')\n",
    "merged_data_3 = pd.merge(filtered_data_2, filtered_ff3_2, on='date', how='inner')\n",
    "merged_data_4 = pd.merge(filtered_data_2, filtered_ff5_2, on='date', how='inner')\n",
    "merged_data_5 = pd.merge(filtered_data_3, filtered_ff3_3, on='date', how='inner')\n",
    "merged_data_6 = pd.merge(filtered_data_3, filtered_ff5_3, on='date', how='inner')\n",
    "merged_data_7 = pd.merge(filtered_data_4, filtered_ff3_4, on='date', how='inner')\n",
    "merged_data_8 = pd.merge(filtered_data_4, filtered_ff5_4, on='date', how='inner')\n",
    "\n",
    "print(merged_data_1.columns.tolist())\n",
    "print(merged_data_2.columns.tolist())\n",
    "print(merged_data_3.columns.tolist())\n",
    "print(merged_data_4.columns.tolist())\n",
    "print(merged_data_5.columns.tolist())\n",
    "print(merged_data_6.columns.tolist())\n",
    "print(merged_data_7.columns.tolist())\n",
    "print(merged_data_8.columns.tolist())"
   ],
   "metadata": {
    "collapsed": false,
    "ExecuteTime": {
     "end_time": "2025-03-14T13:57:37.685124Z",
     "start_time": "2025-03-14T13:57:32.911759Z"
    }
   }
  },
  {
   "cell_type": "code",
   "execution_count": 124,
   "outputs": [],
   "source": [
    "merged_data_1.to_csv('data/merged_data_with_ff3_1.csv', index=False)\n",
    "merged_data_2.to_csv('data/merged_data_with_ff5_1.csv', index=False)\n",
    "merged_data_3.to_csv('data/merged_data_with_ff3_2.csv', index=False)\n",
    "merged_data_4.to_csv('data/merged_data_with_ff5_2.csv', index=False)\n",
    "merged_data_5.to_csv('data/merged_data_with_ff3_3.csv', index=False)\n",
    "merged_data_6.to_csv('data/merged_data_with_ff5_3.csv', index=False)\n",
    "merged_data_7.to_csv('data/merged_data_with_ff3_4.csv', index=False)\n",
    "merged_data_8.to_csv('data/merged_data_with_ff5_4.csv', index=False)"
   ],
   "metadata": {
    "collapsed": false,
    "ExecuteTime": {
     "end_time": "2025-03-14T13:58:41.815623Z",
     "start_time": "2025-03-14T13:57:40.291610Z"
    }
   }
  },
  {
   "cell_type": "code",
   "execution_count": 30,
   "outputs": [],
   "source": [
    "accounting_factors = [\n",
    "    'Accruals', 'AnalystValue', 'AssetGrowth', 'BM', 'BPEBM', 'BookLeverage',\n",
    "    'CBOperProf', 'CF', 'ChAssetTurnover', 'ChNWC', 'CompEquIss', 'CompositeDebtIssuance',\n",
    "    'EBM', 'EP', 'EarningsSurprise', 'FirmAge', 'GP', 'Herf', 'InvGrowth',\n",
    "    'NOA', 'OperProf', 'PS', 'RDAbility', 'RoE', 'SP', 'ShareIss1Y', 'ShareIss5Y',\n",
    "    'XFIN', 'cfp', 'roaq'\n",
    "]\n",
    "\n",
    "return_factors = [\n",
    "    'Beta', 'BetaLiquidityPS', 'CPVolSpread', 'Coskewness', 'CustomerMomentum',\n",
    "    'DolVol', 'High52', 'IdioVol3F', 'Illiquidity', 'IntMom', 'LRreversal', 'MaxRet',\n",
    "    'Mom12m', 'Mom6m', 'Mom6mJunk', 'MomOffSeason', 'MomOffSeason06YrPlus',\n",
    "    'MomOffSeason11YrPlus', 'MomOffSeason16YrPlus', 'MomSeason', 'MomSeason06YrPlus',\n",
    "    'MomSeason11YrPlus', 'MomSeason16YrPlus', 'MomSeasonShort', 'RIVolSpread',\n",
    "    'ResidualMomentum', 'STreversal', 'Size', 'VolMkt', 'VolSD', 'std_turn', 'Frontier'\n",
    "]"
   ],
   "metadata": {
    "collapsed": false,
    "ExecuteTime": {
     "end_time": "2025-03-14T08:37:28.827415Z",
     "start_time": "2025-03-14T08:37:28.824876Z"
    }
   }
  },
  {
   "cell_type": "markdown",
   "source": [
    "## 3. regression in the ‘all' time period"
   ],
   "metadata": {
    "collapsed": false
   }
  },
  {
   "cell_type": "markdown",
   "source": [
    "* In this section, calculations and regression studies will be conducted for the timeline 2000-2023.\n",
    "* In the first step, we will calculate the first two columns of Table 1 to obtain the average return rate and t value of each factor.\n",
    "* The second step is to calculate the regression results of each factor and the FF3 factor model, and output the excess return and the corresponding t value.\n",
    "* The third step is to calculate the regression results of each factor and the FF5 factor model. The overall idea is similar to the second step."
   ],
   "metadata": {
    "collapsed": false
   }
  },
  {
   "cell_type": "markdown",
   "source": [
    "+ <span style=\"color:red\">The Newey-West standard error can effectively deal with heteroscedasticity by adjusting the covariance matrix. At the same time, the Newey-West method introduces a lag term to correct the autocorrelation and provide a more accurate standard error.</span>"
   ],
   "metadata": {
    "collapsed": false
   }
  },
  {
   "cell_type": "markdown",
   "source": [
    "### 3.1 Preliminary analysis"
   ],
   "metadata": {
    "collapsed": false
   }
  },
  {
   "cell_type": "code",
   "execution_count": 76,
   "outputs": [],
   "source": [
    "# Read the merged data\n",
    "all_data = pd.read_csv('data/merged_data_with_ff3_1.csv')\n",
    "# Divide by 100\n",
    "port_columns_1 = ['port01', 'port02', 'port03', 'port04', 'port05']\n",
    "all_data[port_columns_1] = all_data[port_columns_1] / 100\n",
    "# only retain columns that are needed\n",
    "all_data = all_data[['date', 'predictor'] + port_columns_1]\n",
    "\n",
    "# Separate accounting and return data\n",
    "accounting_data_1 = all_data[all_data['predictor'].isin(accounting_factors)]\n",
    "return_data_1 = all_data[all_data['predictor'].isin(return_factors)]"
   ],
   "metadata": {
    "collapsed": false,
    "ExecuteTime": {
     "end_time": "2025-03-14T10:36:53.310662Z",
     "start_time": "2025-03-14T10:36:51.111185Z"
    }
   }
  },
  {
   "cell_type": "code",
   "execution_count": 79,
   "outputs": [],
   "source": [
    "# Calculate the dynamic factor return\n",
    "def calculate_dynamic_factor_return(row):\n",
    "    high_ports = row[['port04', 'port05']].values\n",
    "    low_ports = row[['port01', 'port02']].values\n",
    "    return np.mean(high_ports) - np.mean(low_ports)\n",
    "\n",
    "# Define a function to compound returns\n",
    "def compound_returns(x):\n",
    "    return (1 + x).prod() - 1\n",
    "\n",
    "# Resample and calculate dynamic factor return for each period\n",
    "def resample_and_calculate(df, freq):\n",
    "    df['date'] = pd.to_datetime(df['date'])\n",
    "    df_resampled = df.set_index('date').groupby('predictor').resample(freq).apply(compound_returns).reset_index()\n",
    "    return df_resampled\n",
    "\n",
    "# Calculate Newey-West t-value\n",
    "def calculate_newey_west_t_value(df, max_lag):\n",
    "    results = []\n",
    "\n",
    "    for factor, group in df.groupby('predictor'):\n",
    "        returns = group['factor_return'].dropna()\n",
    "        mean_returns = returns.mean() * 100  # Calculate mean returns for each factor\n",
    "\n",
    "        # Regression to compute t-stat using Newey-West standard errors\n",
    "        X = sm.add_constant(np.ones(len(returns)))  # Constant term\n",
    "        model = sm.OLS(returns, X).fit(cov_type='HAC', cov_kwds={'maxlags': max_lag})\n",
    "\n",
    "        t_value = model.tvalues.iloc[0]  # T-Value\n",
    "\n",
    "        results.append({\n",
    "            'Factor': factor,\n",
    "            'Average Returns': mean_returns,\n",
    "            'T-Value': t_value\n",
    "        })\n",
    "\n",
    "    return pd.DataFrame(results)"
   ],
   "metadata": {
    "collapsed": false,
    "ExecuteTime": {
     "end_time": "2025-03-14T10:45:05.285470Z",
     "start_time": "2025-03-14T10:45:05.272426Z"
    }
   }
  },
  {
   "cell_type": "code",
   "execution_count": 81,
   "outputs": [
    {
     "name": "stderr",
     "output_type": "stream",
     "text": [
      "/var/folders/sz/wn8m1w7133944wry01207fsh0000gn/T/ipykernel_29646/1147703945.py:13: SettingWithCopyWarning: \n",
      "A value is trying to be set on a copy of a slice from a DataFrame.\n",
      "Try using .loc[row_indexer,col_indexer] = value instead\n",
      "\n",
      "See the caveats in the documentation: https://pandas.pydata.org/pandas-docs/stable/user_guide/indexing.html#returning-a-view-versus-a-copy\n",
      "  df['date'] = pd.to_datetime(df['date'])\n",
      "/var/folders/sz/wn8m1w7133944wry01207fsh0000gn/T/ipykernel_29646/1147703945.py:14: FutureWarning: 'A' is deprecated and will be removed in a future version, please use 'YE' instead.\n",
      "  df_resampled = df.set_index('date').groupby('predictor').resample(freq).apply(compound_returns).reset_index()\n",
      "/var/folders/sz/wn8m1w7133944wry01207fsh0000gn/T/ipykernel_29646/1147703945.py:13: SettingWithCopyWarning: \n",
      "A value is trying to be set on a copy of a slice from a DataFrame.\n",
      "Try using .loc[row_indexer,col_indexer] = value instead\n",
      "\n",
      "See the caveats in the documentation: https://pandas.pydata.org/pandas-docs/stable/user_guide/indexing.html#returning-a-view-versus-a-copy\n",
      "  df['date'] = pd.to_datetime(df['date'])\n",
      "/var/folders/sz/wn8m1w7133944wry01207fsh0000gn/T/ipykernel_29646/1147703945.py:14: FutureWarning: 'M' is deprecated and will be removed in a future version, please use 'ME' instead.\n",
      "  df_resampled = df.set_index('date').groupby('predictor').resample(freq).apply(compound_returns).reset_index()\n"
     ]
    },
    {
     "name": "stdout",
     "output_type": "stream",
     "text": [
      "\n",
      "Accounting factors (annual rebalancing):\n",
      "                   Factor  Average Returns  T-Value\n",
      "0                Accruals           1.8641   1.3816\n",
      "1            AnalystValue           3.3016   0.8501\n",
      "2             AssetGrowth           2.2233   0.9308\n",
      "3                      BM           3.2310   1.0727\n",
      "4                   BPEBM           2.5179   1.5679\n",
      "5            BookLeverage          -2.1442  -1.1015\n",
      "6              CBOperProf           3.4958   2.1242\n",
      "7                      CF           2.6408   0.9466\n",
      "8         ChAssetTurnover          -0.5460  -0.6002\n",
      "9                   ChNWC          -1.4564  -1.6484\n",
      "10             CompEquIss           2.8295   1.3150\n",
      "11  CompositeDebtIssuance           0.4813   0.2808\n",
      "12                    EBM           0.2185   0.0780\n",
      "13                     EP           3.7061   1.4373\n",
      "14       EarningsSurprise           1.4133   1.4741\n",
      "15                FirmAge           1.3193   0.4778\n",
      "16                     GP           4.7328   2.2386\n",
      "17                   Herf          -1.4233  -1.0353\n",
      "18              InvGrowth           0.2109   0.0929\n",
      "19                    NOA           3.5142   1.9275\n",
      "20               OperProf           3.5321   1.3738\n",
      "21                     PS           6.4217   1.8527\n",
      "22              RDAbility           1.8946   0.5994\n",
      "23                    RoE           3.0473   1.5546\n",
      "24                     SP           3.5457   1.0940\n",
      "25             ShareIss1Y           3.4962   1.5055\n",
      "26             ShareIss5Y           3.6852   2.8859\n",
      "27                   XFIN           4.4854   1.5100\n",
      "28                    cfp           3.9893   1.1833\n",
      "29                   roaq           5.6103   1.8146\n",
      "\n",
      "Return factors (monthly rebalancing):\n",
      "                  Factor  Average Returns  T-Value\n",
      "0                   Beta          -0.1253  -0.3502\n",
      "1        BetaLiquidityPS           0.0926   0.8096\n",
      "2            CPVolSpread           0.3099   3.8225\n",
      "3             Coskewness           0.2145   1.7117\n",
      "4       CustomerMomentum           0.1039   0.4113\n",
      "5                 DolVol           0.0445   0.2755\n",
      "6               Frontier           0.2277   0.9500\n",
      "7                 High52           0.1038   0.3837\n",
      "8              IdioVol3F           0.3972   0.9925\n",
      "9            Illiquidity           0.0973   0.8232\n",
      "10                IntMom          -0.1414  -0.4414\n",
      "11            LRreversal           0.1493   0.5267\n",
      "12                MaxRet           0.4262   1.0938\n",
      "13                Mom12m           0.0216   0.0679\n",
      "14                 Mom6m           0.2399   0.9343\n",
      "15             Mom6mJunk           0.1966   0.8983\n",
      "16          MomOffSeason          -0.0262  -0.1107\n",
      "17  MomOffSeason06YrPlus           0.6039   4.0446\n",
      "18  MomOffSeason11YrPlus           0.1584   1.1954\n",
      "19  MomOffSeason16YrPlus           0.0783   0.7106\n",
      "20             MomSeason          -0.0929  -0.5740\n",
      "21     MomSeason06YrPlus           0.3097   2.0995\n",
      "22     MomSeason11YrPlus           0.0759   0.7361\n",
      "23     MomSeason16YrPlus           0.1417   1.2074\n",
      "24        MomSeasonShort          -0.0149  -0.0905\n",
      "25           RIVolSpread           0.3904   2.3881\n",
      "26      ResidualMomentum           0.1166   0.9282\n",
      "27            STreversal           0.1042   0.5123\n",
      "28                  Size          -0.0613  -0.2046\n",
      "29                VolMkt           0.0936   0.4214\n",
      "30                 VolSD           0.2226   2.4632\n",
      "31              std_turn          -0.3093  -0.8808\n"
     ]
    }
   ],
   "source": [
    "# Resample accounting data annually\n",
    "accounting_data_resampled = resample_and_calculate(accounting_data_1, 'A')\n",
    "\n",
    "# Resample return data monthly\n",
    "return_data_resampled = resample_and_calculate(return_data_1, 'M')\n",
    "\n",
    "# Calculate dynamic factor return\n",
    "accounting_data_resampled['factor_return'] = accounting_data_resampled.apply(calculate_dynamic_factor_return, axis=1)\n",
    "return_data_resampled['factor_return'] = return_data_resampled.apply(calculate_dynamic_factor_return, axis=1)\n",
    "\n",
    "# Calculate stats for accounting data\n",
    "accounting_results_1 = calculate_newey_west_t_value(accounting_data_resampled, max_lag=1)\n",
    "\n",
    "# Calculate stats for return data\n",
    "return_results_1 = calculate_newey_west_t_value(return_data_resampled, max_lag=12)\n",
    "\n",
    "# Display results\n",
    "print(\"\\nAccounting factors (annual rebalancing):\")\n",
    "print(accounting_results_1.round(4))\n",
    "\n",
    "print(\"\\nReturn factors (monthly rebalancing):\")\n",
    "print(return_results_1.round(4))"
   ],
   "metadata": {
    "collapsed": false,
    "ExecuteTime": {
     "end_time": "2025-03-14T10:54:58.417340Z",
     "start_time": "2025-03-14T10:54:37.907335Z"
    }
   }
  },
  {
   "cell_type": "markdown",
   "source": [
    "### 3.2 Regression 1 - FF3"
   ],
   "metadata": {
    "collapsed": false
   }
  },
  {
   "cell_type": "code",
   "execution_count": 92,
   "outputs": [],
   "source": [
    "# read the merged data\n",
    "all_data_2 = pd.read_csv('data/merged_data_with_ff3_1.csv')\n",
    "# divide by 100\n",
    "port_columns = ['port01', 'port02', 'port03', 'port04', 'port05', 'Mkt-RF', 'SMB', 'HML', 'RF']\n",
    "all_data_2[port_columns] = all_data_2[port_columns] / 100\n",
    "# only retain columns that are needed\n",
    "all_data_2 = all_data_2[['date', 'predictor'] + port_columns]\n",
    "\n",
    "# Separate accounting and return data\n",
    "accounting_data_2 = all_data_2[all_data_2['predictor'].isin(accounting_factors)]\n",
    "return_data_2 = all_data_2[all_data_2['predictor'].isin(return_factors)]"
   ],
   "metadata": {
    "collapsed": false,
    "ExecuteTime": {
     "end_time": "2025-03-14T13:19:48.059284Z",
     "start_time": "2025-03-14T13:19:46.669952Z"
    }
   }
  },
  {
   "cell_type": "code",
   "execution_count": 97,
   "outputs": [],
   "source": [
    "# Calculate alpha and Newey-West t-value\n",
    "def calculate_ff3_alpha_and_tvalues(df, max_lag):\n",
    "    results = []\n",
    "\n",
    "    for factor, group in df.groupby('predictor'):\n",
    "        group = group.dropna(subset=['factor_return', 'RF', 'Mkt-RF', 'SMB', 'HML'])\n",
    "        y = group['factor_return'] - group['RF']\n",
    "        X = sm.add_constant(group[['Mkt-RF', 'SMB', 'HML']])  # FF3 factors\n",
    "\n",
    "        # Perform regression with Newey-West standard errors\n",
    "        model = sm.OLS(y, X).fit(cov_type='HAC', cov_kwds={'maxlags': max_lag})\n",
    "\n",
    "        alpha = model.params['const'] * 100  # FF3 Alpha\n",
    "        t_value = model.tvalues['const']  # T-Value\n",
    "\n",
    "        results.append({\n",
    "            'Factor': factor,\n",
    "            'FF3 Alpha': alpha,\n",
    "            'T-Value': t_value\n",
    "        })\n",
    "\n",
    "    return pd.DataFrame(results)"
   ],
   "metadata": {
    "collapsed": false,
    "ExecuteTime": {
     "end_time": "2025-03-14T13:26:27.983899Z",
     "start_time": "2025-03-14T13:26:27.967233Z"
    }
   }
  },
  {
   "cell_type": "code",
   "execution_count": 98,
   "outputs": [
    {
     "name": "stderr",
     "output_type": "stream",
     "text": [
      "/var/folders/sz/wn8m1w7133944wry01207fsh0000gn/T/ipykernel_29646/1147703945.py:13: SettingWithCopyWarning: \n",
      "A value is trying to be set on a copy of a slice from a DataFrame.\n",
      "Try using .loc[row_indexer,col_indexer] = value instead\n",
      "\n",
      "See the caveats in the documentation: https://pandas.pydata.org/pandas-docs/stable/user_guide/indexing.html#returning-a-view-versus-a-copy\n",
      "  df['date'] = pd.to_datetime(df['date'])\n",
      "/var/folders/sz/wn8m1w7133944wry01207fsh0000gn/T/ipykernel_29646/1147703945.py:14: FutureWarning: 'A' is deprecated and will be removed in a future version, please use 'YE' instead.\n",
      "  df_resampled = df.set_index('date').groupby('predictor').resample(freq).apply(compound_returns).reset_index()\n",
      "/var/folders/sz/wn8m1w7133944wry01207fsh0000gn/T/ipykernel_29646/1147703945.py:13: SettingWithCopyWarning: \n",
      "A value is trying to be set on a copy of a slice from a DataFrame.\n",
      "Try using .loc[row_indexer,col_indexer] = value instead\n",
      "\n",
      "See the caveats in the documentation: https://pandas.pydata.org/pandas-docs/stable/user_guide/indexing.html#returning-a-view-versus-a-copy\n",
      "  df['date'] = pd.to_datetime(df['date'])\n",
      "/var/folders/sz/wn8m1w7133944wry01207fsh0000gn/T/ipykernel_29646/1147703945.py:14: FutureWarning: 'M' is deprecated and will be removed in a future version, please use 'ME' instead.\n",
      "  df_resampled = df.set_index('date').groupby('predictor').resample(freq).apply(compound_returns).reset_index()\n"
     ]
    },
    {
     "name": "stdout",
     "output_type": "stream",
     "text": [
      "\n",
      "Accounting factors (annual rebalancing):\n",
      "                   Factor  FF3 Alpha  T-Value\n",
      "0                Accruals     1.5755   1.5579\n",
      "1            AnalystValue     0.2005   0.1095\n",
      "2             AssetGrowth    -1.1236  -0.8602\n",
      "3                      BM    -2.2018  -1.7850\n",
      "4                   BPEBM    -0.7369  -0.5519\n",
      "5            BookLeverage    -3.1817  -1.7677\n",
      "6              CBOperProf     3.7576   2.7390\n",
      "7                      CF    -0.5388  -0.2611\n",
      "8         ChAssetTurnover    -2.2165  -2.7621\n",
      "9                   ChNWC    -3.3191  -2.4363\n",
      "10             CompEquIss     2.7804   2.0430\n",
      "11  CompositeDebtIssuance    -1.3495  -0.6716\n",
      "12                    EBM    -5.6587  -4.9423\n",
      "13                     EP    -0.9596  -0.7964\n",
      "14       EarningsSurprise     0.0569   0.0881\n",
      "15                FirmAge    -1.9017  -1.3101\n",
      "16                     GP     4.5335   2.0606\n",
      "17                   Herf    -3.2390  -2.8039\n",
      "18              InvGrowth    -2.7385  -1.4090\n",
      "19                    NOA     0.0817   0.0376\n",
      "20               OperProf     4.4293   2.4257\n",
      "21                     PS    -0.6215  -0.2817\n",
      "22              RDAbility    -2.8792  -0.9888\n",
      "23                    RoE     2.0675   1.2073\n",
      "24                     SP    -1.8832  -1.3338\n",
      "25             ShareIss1Y     2.0535   1.4015\n",
      "26             ShareIss5Y     2.6891   1.8597\n",
      "27                   XFIN     3.3236   2.2421\n",
      "28                    cfp     3.3020   2.3120\n",
      "29                   roaq     8.1245   5.1918\n",
      "\n",
      "Return factors (monthly rebalancing):\n",
      "                  Factor  FF3 Alpha  T-Value\n",
      "0                   Beta    -0.7597  -3.4045\n",
      "1        BetaLiquidityPS    -0.0391  -0.3415\n",
      "2            CPVolSpread     0.2184   2.0351\n",
      "3             Coskewness    -0.0322  -0.2510\n",
      "4       CustomerMomentum    -0.0381  -0.1433\n",
      "5                 DolVol    -0.0203  -0.1448\n",
      "6               Frontier    -0.1534  -0.8829\n",
      "7                 High52     0.3035   1.8116\n",
      "8              IdioVol3F     0.6248   2.8545\n",
      "9            Illiquidity    -0.0422  -0.4800\n",
      "10                IntMom    -0.0794  -0.2697\n",
      "11            LRreversal    -0.2336  -1.1447\n",
      "12                MaxRet     0.6700   3.2811\n",
      "13                Mom12m     0.2218   0.8286\n",
      "14                 Mom6m     0.2825   1.2152\n",
      "15             Mom6mJunk     0.2478   1.1890\n",
      "16          MomOffSeason    -0.2799  -1.7434\n",
      "17  MomOffSeason06YrPlus     0.5368   4.1807\n",
      "18  MomOffSeason11YrPlus     0.0202   0.1511\n",
      "19  MomOffSeason16YrPlus     0.0256   0.2257\n",
      "20             MomSeason    -0.2040  -1.3750\n",
      "21     MomSeason06YrPlus     0.1689   1.2071\n",
      "22     MomSeason11YrPlus    -0.0525  -0.4488\n",
      "23     MomSeason16YrPlus    -0.0011  -0.0088\n",
      "24        MomSeasonShort    -0.0864  -0.5329\n",
      "25           RIVolSpread     0.3145   2.1734\n",
      "26      ResidualMomentum     0.0534   0.4404\n",
      "27            STreversal    -0.2384  -1.1028\n",
      "28                  Size    -0.2444  -1.0612\n",
      "29                VolMkt     0.1723   1.5138\n",
      "30                 VolSD     0.1770   2.5276\n",
      "31              std_turn     0.2391   1.3646\n"
     ]
    }
   ],
   "source": [
    "# Resample accounting data annually\n",
    "accounting_data_resampled_2 = resample_and_calculate(accounting_data_2, 'A')\n",
    "\n",
    "# Resample return data monthly\n",
    "return_data_resampled_2 = resample_and_calculate(return_data_2, 'M')\n",
    "\n",
    "# Calculate dynamic factor return\n",
    "accounting_data_resampled_2['factor_return'] = accounting_data_resampled_2.apply(calculate_dynamic_factor_return, axis=1)\n",
    "return_data_resampled_2['factor_return'] = return_data_resampled_2.apply(calculate_dynamic_factor_return, axis=1)\n",
    "\n",
    "# Calculate alpha and t-values for accounting data\n",
    "accounting_results_2 = calculate_ff3_alpha_and_tvalues(accounting_data_resampled_2, max_lag=1)\n",
    "# Calculate stats for return data\n",
    "return_results_2 = calculate_ff3_alpha_and_tvalues(return_data_resampled_2, max_lag=12)\n",
    "\n",
    "# Dsiplay results\n",
    "print(\"\\nAccounting factors (annual rebalancing):\")\n",
    "print(accounting_results_2.round(4))\n",
    "\n",
    "print(\"\\nReturn factors (monthly rebalancing):\")\n",
    "print(return_results_2.round(4))"
   ],
   "metadata": {
    "collapsed": false,
    "ExecuteTime": {
     "end_time": "2025-03-14T13:27:06.797237Z",
     "start_time": "2025-03-14T13:26:28.695676Z"
    }
   }
  },
  {
   "cell_type": "markdown",
   "source": [
    "### 3.3 Regression 2 - FF5"
   ],
   "metadata": {
    "collapsed": false
   }
  },
  {
   "cell_type": "code",
   "execution_count": 109,
   "outputs": [],
   "source": [
    "# read the merged data\n",
    "all_data_3 = pd.read_csv('data/merged_data_with_ff5_1.csv')\n",
    "# divide by 100\n",
    "port_columns = ['port01', 'port02', 'port03', 'port04', 'port05', 'Mkt-RF', 'SMB', 'HML', 'RMW', 'CMA', 'RF']\n",
    "all_data_3[port_columns] = all_data_3[port_columns] / 100\n",
    "# only retain columns that are needed\n",
    "all_data_3 = all_data_3[['date', 'predictor'] + port_columns]\n",
    "\n",
    "# Separate accounting and return data\n",
    "accounting_data_3 = all_data_3[all_data_3['predictor'].isin(accounting_factors)]\n",
    "return_data_3 = all_data_3[all_data_3['predictor'].isin(return_factors)]"
   ],
   "metadata": {
    "collapsed": false,
    "ExecuteTime": {
     "end_time": "2025-03-14T13:37:42.831687Z",
     "start_time": "2025-03-14T13:37:41.341698Z"
    }
   }
  },
  {
   "cell_type": "code",
   "execution_count": 111,
   "outputs": [],
   "source": [
    "# Calculate alpha and Newey-West t-value\n",
    "def calculate_ff5_alpha_and_tvalues(df, max_lag):\n",
    "    results = []\n",
    "\n",
    "    for factor, group in df.groupby('predictor'):\n",
    "        group = group.dropna(subset=['factor_return', 'RF', 'Mkt-RF', 'SMB', 'HML', 'RMW', 'CMA'])\n",
    "        y = group['factor_return'] - group['RF']\n",
    "        X = sm.add_constant(group[['Mkt-RF', 'SMB', 'HML', 'RMW', 'CMA']])  # FF5 factors\n",
    "\n",
    "        # Perform regression with Newey-West standard errors\n",
    "        model = sm.OLS(y, X).fit(cov_type='HAC', cov_kwds={'maxlags': max_lag})\n",
    "\n",
    "        alpha = model.params['const'] * 100  # FF5 Alpha\n",
    "        t_value = model.tvalues['const']  # T-Value\n",
    "\n",
    "        results.append({\n",
    "            'Factor': factor,\n",
    "            'FF5 Alpha': alpha,\n",
    "            'T-Value': t_value\n",
    "        })\n",
    "\n",
    "    return pd.DataFrame(results)"
   ],
   "metadata": {
    "collapsed": false,
    "ExecuteTime": {
     "end_time": "2025-03-14T13:37:48.558868Z",
     "start_time": "2025-03-14T13:37:48.525612Z"
    }
   }
  },
  {
   "cell_type": "code",
   "execution_count": 112,
   "outputs": [
    {
     "name": "stderr",
     "output_type": "stream",
     "text": [
      "/var/folders/sz/wn8m1w7133944wry01207fsh0000gn/T/ipykernel_29646/1147703945.py:13: SettingWithCopyWarning: \n",
      "A value is trying to be set on a copy of a slice from a DataFrame.\n",
      "Try using .loc[row_indexer,col_indexer] = value instead\n",
      "\n",
      "See the caveats in the documentation: https://pandas.pydata.org/pandas-docs/stable/user_guide/indexing.html#returning-a-view-versus-a-copy\n",
      "  df['date'] = pd.to_datetime(df['date'])\n",
      "/var/folders/sz/wn8m1w7133944wry01207fsh0000gn/T/ipykernel_29646/1147703945.py:14: FutureWarning: 'A' is deprecated and will be removed in a future version, please use 'YE' instead.\n",
      "  df_resampled = df.set_index('date').groupby('predictor').resample(freq).apply(compound_returns).reset_index()\n",
      "/var/folders/sz/wn8m1w7133944wry01207fsh0000gn/T/ipykernel_29646/1147703945.py:13: SettingWithCopyWarning: \n",
      "A value is trying to be set on a copy of a slice from a DataFrame.\n",
      "Try using .loc[row_indexer,col_indexer] = value instead\n",
      "\n",
      "See the caveats in the documentation: https://pandas.pydata.org/pandas-docs/stable/user_guide/indexing.html#returning-a-view-versus-a-copy\n",
      "  df['date'] = pd.to_datetime(df['date'])\n",
      "/var/folders/sz/wn8m1w7133944wry01207fsh0000gn/T/ipykernel_29646/1147703945.py:14: FutureWarning: 'M' is deprecated and will be removed in a future version, please use 'ME' instead.\n",
      "  df_resampled = df.set_index('date').groupby('predictor').resample(freq).apply(compound_returns).reset_index()\n"
     ]
    },
    {
     "name": "stdout",
     "output_type": "stream",
     "text": [
      "\n",
      "Accounting factors (annual rebalancing) - FF5:\n",
      "                   Factor  FF5 Alpha  T-Value\n",
      "0                Accruals     1.3280   0.9866\n",
      "1            AnalystValue    -1.6779  -0.7135\n",
      "2             AssetGrowth    -0.4162  -0.3102\n",
      "3                      BM    -0.1508  -0.1114\n",
      "4                   BPEBM    -2.4170  -1.1428\n",
      "5            BookLeverage    -2.4197  -1.6582\n",
      "6              CBOperProf    -0.6778  -0.3477\n",
      "7                      CF    -2.2022  -1.0842\n",
      "8         ChAssetTurnover    -0.6244  -0.6621\n",
      "9                   ChNWC    -4.4258  -2.7449\n",
      "10             CompEquIss     3.1409   1.8614\n",
      "11  CompositeDebtIssuance     0.1916   0.0809\n",
      "12                    EBM    -4.7145  -2.8754\n",
      "13                     EP    -2.1844  -1.4730\n",
      "14       EarningsSurprise    -0.6025  -0.7805\n",
      "15                FirmAge     0.1260   0.0568\n",
      "16                     GP    -0.4867  -0.1634\n",
      "17                   Herf    -2.9240  -2.5937\n",
      "18              InvGrowth    -5.9937  -2.3858\n",
      "19                    NOA    -0.5617  -0.2208\n",
      "20               OperProf    -1.7699  -1.1390\n",
      "21                     PS    -2.2047  -0.6152\n",
      "22              RDAbility    -6.6461  -1.9808\n",
      "23                    RoE    -3.4382  -1.8954\n",
      "24                     SP    -0.3957  -0.3158\n",
      "25             ShareIss1Y    -3.0912  -2.2325\n",
      "26             ShareIss5Y     0.5484   0.2745\n",
      "27                   XFIN    -1.0514  -0.4400\n",
      "28                    cfp     0.8848   0.4875\n",
      "29                   roaq     2.2176   1.4599\n",
      "\n",
      "Return factors (monthly rebalancing) - FF5:\n",
      "                  Factor  FF5 Alpha  T-Value\n",
      "0                   Beta    -0.1370  -0.7139\n",
      "1        BetaLiquidityPS    -0.0667  -0.5485\n",
      "2            CPVolSpread     0.2134   1.8702\n",
      "3             Coskewness     0.1342   1.0972\n",
      "4       CustomerMomentum     0.0858   0.3035\n",
      "5                 DolVol    -0.0029  -0.0207\n",
      "6               Frontier     0.0188   0.1220\n",
      "7                 High52    -0.0706  -0.3440\n",
      "8              IdioVol3F     0.0685   0.3589\n",
      "9            Illiquidity    -0.0517  -0.5993\n",
      "10                IntMom    -0.1864  -0.6744\n",
      "11            LRreversal    -0.1096  -0.5520\n",
      "12                MaxRet     0.1206   0.8738\n",
      "13                Mom12m    -0.1090  -0.3368\n",
      "14                 Mom6m    -0.0165  -0.0615\n",
      "15             Mom6mJunk    -0.0022  -0.0088\n",
      "16          MomOffSeason    -0.2441  -1.3418\n",
      "17  MomOffSeason06YrPlus     0.4966   3.6704\n",
      "18  MomOffSeason11YrPlus     0.1067   0.6733\n",
      "19  MomOffSeason16YrPlus     0.0037   0.0341\n",
      "20             MomSeason    -0.2180  -1.4493\n",
      "21     MomSeason06YrPlus     0.2654   1.4870\n",
      "22     MomSeason11YrPlus    -0.0079  -0.0628\n",
      "23     MomSeason16YrPlus     0.0447   0.3577\n",
      "24        MomSeasonShort    -0.1912  -1.1626\n",
      "25           RIVolSpread     0.2231   1.4549\n",
      "26      ResidualMomentum    -0.0576  -0.5044\n",
      "27            STreversal    -0.0708  -0.3212\n",
      "28                  Size    -0.1097  -0.4951\n",
      "29                VolMkt    -0.1874  -1.6650\n",
      "30                 VolSD     0.1212   1.6315\n",
      "31              std_turn     0.0903   0.4991\n"
     ]
    }
   ],
   "source": [
    "# Resample accounting data annually\n",
    "accounting_data_resampled_3 = resample_and_calculate(accounting_data_3, 'A')\n",
    "\n",
    "# Resample return data monthly\n",
    "return_data_resampled_3 = resample_and_calculate(return_data_3, 'M')\n",
    "\n",
    "# Calculate dynamic factor return\n",
    "accounting_data_resampled_3['factor_return'] = accounting_data_resampled_3.apply(calculate_dynamic_factor_return, axis=1)\n",
    "return_data_resampled_3['factor_return'] = return_data_resampled_3.apply(calculate_dynamic_factor_return, axis=1)\n",
    "\n",
    "# Calculate alpha and t-values for accounting data for FF5\n",
    "accounting_results_3 = calculate_ff5_alpha_and_tvalues(accounting_data_resampled_3, max_lag=1)\n",
    "# Calculate stats for return data for FF5\n",
    "return_results_3 = calculate_ff5_alpha_and_tvalues(return_data_resampled_3, max_lag=12)\n",
    "\n",
    "# Display results for FF5\n",
    "print(\"\\nAccounting factors (annual rebalancing) - FF5:\")\n",
    "print(accounting_results_3.round(4))\n",
    "\n",
    "print(\"\\nReturn factors (monthly rebalancing) - FF5:\")\n",
    "print(return_results_3.round(4))"
   ],
   "metadata": {
    "collapsed": false,
    "ExecuteTime": {
     "end_time": "2025-03-14T13:38:42.515217Z",
     "start_time": "2025-03-14T13:38:11.752309Z"
    }
   }
  },
  {
   "cell_type": "markdown",
   "source": [
    "### 3.4 Combine all the regressions"
   ],
   "metadata": {
    "collapsed": false
   }
  },
  {
   "cell_type": "code",
   "execution_count": 116,
   "outputs": [
    {
     "name": "stdout",
     "output_type": "stream",
     "text": [
      "\n",
      "Accounting factors (annual rebalancing):\n",
      "                   Factor  Average Returns  T-Value_1  FF3 Alpha  T-Value_2  \\\n",
      "0                Accruals           1.8641     1.3816     1.5755     1.5579   \n",
      "1            AnalystValue           3.3016     0.8501     0.2005     0.1095   \n",
      "2             AssetGrowth           2.2233     0.9308    -1.1236    -0.8602   \n",
      "3                      BM           3.2310     1.0727    -2.2018    -1.7850   \n",
      "4                   BPEBM           2.5179     1.5679    -0.7369    -0.5519   \n",
      "5            BookLeverage          -2.1442    -1.1015    -3.1817    -1.7677   \n",
      "6              CBOperProf           3.4958     2.1242     3.7576     2.7390   \n",
      "7                      CF           2.6408     0.9466    -0.5388    -0.2611   \n",
      "8         ChAssetTurnover          -0.5460    -0.6002    -2.2165    -2.7621   \n",
      "9                   ChNWC          -1.4564    -1.6484    -3.3191    -2.4363   \n",
      "10             CompEquIss           2.8295     1.3150     2.7804     2.0430   \n",
      "11  CompositeDebtIssuance           0.4813     0.2808    -1.3495    -0.6716   \n",
      "12                    EBM           0.2185     0.0780    -5.6587    -4.9423   \n",
      "13                     EP           3.7061     1.4373    -0.9596    -0.7964   \n",
      "14       EarningsSurprise           1.4133     1.4741     0.0569     0.0881   \n",
      "15                FirmAge           1.3193     0.4778    -1.9017    -1.3101   \n",
      "16                     GP           4.7328     2.2386     4.5335     2.0606   \n",
      "17                   Herf          -1.4233    -1.0353    -3.2390    -2.8039   \n",
      "18              InvGrowth           0.2109     0.0929    -2.7385    -1.4090   \n",
      "19                    NOA           3.5142     1.9275     0.0817     0.0376   \n",
      "20               OperProf           3.5321     1.3738     4.4293     2.4257   \n",
      "21                     PS           6.4217     1.8527    -0.6215    -0.2817   \n",
      "22              RDAbility           1.8946     0.5994    -2.8792    -0.9888   \n",
      "23                    RoE           3.0473     1.5546     2.0675     1.2073   \n",
      "24                     SP           3.5457     1.0940    -1.8832    -1.3338   \n",
      "25             ShareIss1Y           3.4962     1.5055     2.0535     1.4015   \n",
      "26             ShareIss5Y           3.6852     2.8859     2.6891     1.8597   \n",
      "27                   XFIN           4.4854     1.5100     3.3236     2.2421   \n",
      "28                    cfp           3.9893     1.1833     3.3020     2.3120   \n",
      "29                   roaq           5.6103     1.8146     8.1245     5.1918   \n",
      "\n",
      "    FF5 Alpha  T-Value  \n",
      "0      1.3280   0.9866  \n",
      "1     -1.6779  -0.7135  \n",
      "2     -0.4162  -0.3102  \n",
      "3     -0.1508  -0.1114  \n",
      "4     -2.4170  -1.1428  \n",
      "5     -2.4197  -1.6582  \n",
      "6     -0.6778  -0.3477  \n",
      "7     -2.2022  -1.0842  \n",
      "8     -0.6244  -0.6621  \n",
      "9     -4.4258  -2.7449  \n",
      "10     3.1409   1.8614  \n",
      "11     0.1916   0.0809  \n",
      "12    -4.7145  -2.8754  \n",
      "13    -2.1844  -1.4730  \n",
      "14    -0.6025  -0.7805  \n",
      "15     0.1260   0.0568  \n",
      "16    -0.4867  -0.1634  \n",
      "17    -2.9240  -2.5937  \n",
      "18    -5.9937  -2.3858  \n",
      "19    -0.5617  -0.2208  \n",
      "20    -1.7699  -1.1390  \n",
      "21    -2.2047  -0.6152  \n",
      "22    -6.6461  -1.9808  \n",
      "23    -3.4382  -1.8954  \n",
      "24    -0.3957  -0.3158  \n",
      "25    -3.0912  -2.2325  \n",
      "26     0.5484   0.2745  \n",
      "27    -1.0514  -0.4400  \n",
      "28     0.8848   0.4875  \n",
      "29     2.2176   1.4599  \n",
      "\n",
      "Return factors (monthly rebalancing):\n",
      "                  Factor  Average Returns  T-Value_1  FF3 Alpha  T-Value_2  \\\n",
      "0                   Beta          -0.1253    -0.3502    -0.7597    -3.4045   \n",
      "1        BetaLiquidityPS           0.0926     0.8096    -0.0391    -0.3415   \n",
      "2            CPVolSpread           0.3099     3.8225     0.2184     2.0351   \n",
      "3             Coskewness           0.2145     1.7117    -0.0322    -0.2510   \n",
      "4       CustomerMomentum           0.1039     0.4113    -0.0381    -0.1433   \n",
      "5                 DolVol           0.0445     0.2755    -0.0203    -0.1448   \n",
      "6               Frontier           0.2277     0.9500    -0.1534    -0.8829   \n",
      "7                 High52           0.1038     0.3837     0.3035     1.8116   \n",
      "8              IdioVol3F           0.3972     0.9925     0.6248     2.8545   \n",
      "9            Illiquidity           0.0973     0.8232    -0.0422    -0.4800   \n",
      "10                IntMom          -0.1414    -0.4414    -0.0794    -0.2697   \n",
      "11            LRreversal           0.1493     0.5267    -0.2336    -1.1447   \n",
      "12                MaxRet           0.4262     1.0938     0.6700     3.2811   \n",
      "13                Mom12m           0.0216     0.0679     0.2218     0.8286   \n",
      "14                 Mom6m           0.2399     0.9343     0.2825     1.2152   \n",
      "15             Mom6mJunk           0.1966     0.8983     0.2478     1.1890   \n",
      "16          MomOffSeason          -0.0262    -0.1107    -0.2799    -1.7434   \n",
      "17  MomOffSeason06YrPlus           0.6039     4.0446     0.5368     4.1807   \n",
      "18  MomOffSeason11YrPlus           0.1584     1.1954     0.0202     0.1511   \n",
      "19  MomOffSeason16YrPlus           0.0783     0.7106     0.0256     0.2257   \n",
      "20             MomSeason          -0.0929    -0.5740    -0.2040    -1.3750   \n",
      "21     MomSeason06YrPlus           0.3097     2.0995     0.1689     1.2071   \n",
      "22     MomSeason11YrPlus           0.0759     0.7361    -0.0525    -0.4488   \n",
      "23     MomSeason16YrPlus           0.1417     1.2074    -0.0011    -0.0088   \n",
      "24        MomSeasonShort          -0.0149    -0.0905    -0.0864    -0.5329   \n",
      "25           RIVolSpread           0.3904     2.3881     0.3145     2.1734   \n",
      "26      ResidualMomentum           0.1166     0.9282     0.0534     0.4404   \n",
      "27            STreversal           0.1042     0.5123    -0.2384    -1.1028   \n",
      "28                  Size          -0.0613    -0.2046    -0.2444    -1.0612   \n",
      "29                VolMkt           0.0936     0.4214     0.1723     1.5138   \n",
      "30                 VolSD           0.2226     2.4632     0.1770     2.5276   \n",
      "31              std_turn          -0.3093    -0.8808     0.2391     1.3646   \n",
      "\n",
      "    FF5 Alpha  T-Value  \n",
      "0     -0.1370  -0.7139  \n",
      "1     -0.0667  -0.5485  \n",
      "2      0.2134   1.8702  \n",
      "3      0.1342   1.0972  \n",
      "4      0.0858   0.3035  \n",
      "5     -0.0029  -0.0207  \n",
      "6      0.0188   0.1220  \n",
      "7     -0.0706  -0.3440  \n",
      "8      0.0685   0.3589  \n",
      "9     -0.0517  -0.5993  \n",
      "10    -0.1864  -0.6744  \n",
      "11    -0.1096  -0.5520  \n",
      "12     0.1206   0.8738  \n",
      "13    -0.1090  -0.3368  \n",
      "14    -0.0165  -0.0615  \n",
      "15    -0.0022  -0.0088  \n",
      "16    -0.2441  -1.3418  \n",
      "17     0.4966   3.6704  \n",
      "18     0.1067   0.6733  \n",
      "19     0.0037   0.0341  \n",
      "20    -0.2180  -1.4493  \n",
      "21     0.2654   1.4870  \n",
      "22    -0.0079  -0.0628  \n",
      "23     0.0447   0.3577  \n",
      "24    -0.1912  -1.1626  \n",
      "25     0.2231   1.4549  \n",
      "26    -0.0576  -0.5044  \n",
      "27    -0.0708  -0.3212  \n",
      "28    -0.1097  -0.4951  \n",
      "29    -0.1874  -1.6650  \n",
      "30     0.1212   1.6315  \n",
      "31     0.0903   0.4991  \n"
     ]
    }
   ],
   "source": [
    "# combine the results of accounting_results_1, accounting_results_2, accounting_results_3 according to the factor\n",
    "accounting_results_all = accounting_results_1.merge(accounting_results_2, on='Factor', suffixes=('_1', '_2')).merge(accounting_results_3, on='Factor', suffixes=('', '_3'))\n",
    "\n",
    "# combine the results of return_results_1, return_results_2, return_results_3\n",
    "return_results_all = return_results_1.merge(return_results_2, on='Factor', suffixes=('_1', '_2')).merge(return_results_3, on='Factor', suffixes=('', '_3'))\n",
    "\n",
    "# display the results\n",
    "print(\"\\nAccounting factors (annual rebalancing):\")\n",
    "print(accounting_results_all.round(4))\n",
    "\n",
    "print(\"\\nReturn factors (monthly rebalancing):\")\n",
    "print(return_results_all.round(4))"
   ],
   "metadata": {
    "collapsed": false,
    "ExecuteTime": {
     "end_time": "2025-03-14T13:44:55.955551Z",
     "start_time": "2025-03-14T13:44:55.945222Z"
    }
   }
  },
  {
   "cell_type": "code",
   "execution_count": 120,
   "outputs": [],
   "source": [
    "# save the results\n",
    "accounting_results_all.to_csv('accounting_factors_annual_all_2000_2023.csv', index=False)\n",
    "return_results_all.to_csv('return_factors_monthly_all_2000_2023.csv', index=False)"
   ],
   "metadata": {
    "collapsed": false,
    "ExecuteTime": {
     "end_time": "2025-03-14T13:47:01.521873Z",
     "start_time": "2025-03-14T13:47:01.450161Z"
    }
   }
  },
  {
   "cell_type": "markdown",
   "source": [
    "## 4. Regression in the 2000-2016 time priod"
   ],
   "metadata": {
    "collapsed": false
   }
  },
  {
   "cell_type": "markdown",
   "source": [
    "### 4.1 Preliminary analysis"
   ],
   "metadata": {
    "collapsed": false
   }
  },
  {
   "cell_type": "code",
   "execution_count": null,
   "outputs": [],
   "source": [],
   "metadata": {
    "collapsed": false
   }
  }
 ],
 "metadata": {
  "kernelspec": {
   "display_name": "Python 3",
   "language": "python",
   "name": "python3"
  },
  "language_info": {
   "codemirror_mode": {
    "name": "ipython",
    "version": 2
   },
   "file_extension": ".py",
   "mimetype": "text/x-python",
   "name": "python",
   "nbconvert_exporter": "python",
   "pygments_lexer": "ipython2",
   "version": "2.7.6"
  }
 },
 "nbformat": 4,
 "nbformat_minor": 0
}
