{
 "cells": [
  {
   "cell_type": "markdown",
   "source": [
    "# Task1 : Reproduce Table 1"
   ],
   "metadata": {
    "collapsed": false
   }
  },
  {
   "cell_type": "markdown",
   "source": [
    "## 1. merged data"
   ],
   "metadata": {
    "collapsed": false
   }
  },
  {
   "cell_type": "markdown",
   "source": [
    "* First, according to the research ideas of the paper, we integrate the factor return data with Fama’s 3-factor and 5-factor models."
   ],
   "metadata": {
    "collapsed": false
   }
  },
  {
   "cell_type": "code",
   "execution_count": 1,
   "outputs": [],
   "source": [
    "import pandas as pd\n",
    "import numpy as np\n",
    "import statsmodels.api as sm"
   ],
   "metadata": {
    "collapsed": false,
    "ExecuteTime": {
     "end_time": "2025-03-16T08:36:14.829195Z",
     "start_time": "2025-03-16T08:36:09.369174Z"
    }
   }
  },
  {
   "cell_type": "code",
   "execution_count": 2,
   "outputs": [],
   "source": [
    "table1_data = pd.read_csv('data/merged_data.csv')\n",
    "table1_ff3 = pd.read_csv('data/FF3_daily.csv')\n",
    "table1_ff5 = pd.read_csv('data/FF5_daily.csv')"
   ],
   "metadata": {
    "collapsed": false,
    "ExecuteTime": {
     "end_time": "2025-03-16T08:36:24.117158Z",
     "start_time": "2025-03-16T08:36:19.313119Z"
    }
   }
  },
  {
   "cell_type": "code",
   "execution_count": 3,
   "outputs": [
    {
     "name": "stdout",
     "output_type": "stream",
     "text": [
      "['date', 'port01', 'port02', 'port03', 'port04', 'port05', 'portLS', 'predictor']\n",
      "['date', 'Mkt-RF', 'SMB', 'HML', 'RF']\n",
      "['date', 'Mkt-RF', 'SMB', 'HML', 'RMW', 'CMA', 'RF']\n"
     ]
    },
    {
     "data": {
      "text/plain": "date        int64\nMkt-RF    float64\nSMB       float64\nHML       float64\nRF        float64\ndtype: object"
     },
     "execution_count": 3,
     "metadata": {},
     "output_type": "execute_result"
    }
   ],
   "source": [
    "table1_ff3.columns =['date','Mkt-RF','SMB','HML','RF']\n",
    "table1_ff5.columns =['date','Mkt-RF','SMB','HML','RMW','CMA','RF']\n",
    "print(table1_data.columns.tolist())\n",
    "print(table1_ff3.columns.tolist())\n",
    "print(table1_ff5.columns.tolist())\n",
    "\n",
    "table1_ff3.dtypes"
   ],
   "metadata": {
    "collapsed": false,
    "ExecuteTime": {
     "end_time": "2025-03-16T08:36:25.269192Z",
     "start_time": "2025-03-16T08:36:25.169436Z"
    }
   }
  },
  {
   "cell_type": "code",
   "execution_count": 4,
   "outputs": [],
   "source": [
    "table1_data['date']= pd.to_datetime(table1_data['date']).dt.strftime('%Y-%m-%d')"
   ],
   "metadata": {
    "collapsed": false,
    "ExecuteTime": {
     "end_time": "2025-03-16T08:36:29.563188Z",
     "start_time": "2025-03-16T08:36:26.699961Z"
    }
   }
  },
  {
   "cell_type": "code",
   "execution_count": 5,
   "outputs": [
    {
     "data": {
      "text/plain": "               date    port01    port02    port03    port04    port05  \\\n0        1952-07-01  0.124831  0.336154  0.839240  0.637685  0.656345   \n1        1952-07-02 -0.246625 -0.244496 -0.049348 -0.189462 -0.104565   \n2        1952-07-03  0.023978  0.084967 -0.142413 -0.223899 -0.035177   \n3        1952-07-07 -0.171018 -0.076185 -0.263179 -0.661418 -0.503844   \n4        1952-07-08 -0.209479  0.235904 -0.025679  0.218441  0.140033   \n...             ...       ...       ...       ...       ...       ...   \n1237143  2023-12-22  1.857859  0.723824  0.498934  0.233261  0.428393   \n1237144  2023-12-26  3.266919  0.875071  1.303056  0.540725  0.561904   \n1237145  2023-12-27  2.341186  0.200744  0.285204  0.159429  0.059149   \n1237146  2023-12-28 -1.669881 -0.263774 -0.543158 -0.266308 -0.110725   \n1237147  2023-12-29 -2.447862 -1.850345 -0.757195 -0.082058 -0.068660   \n\n           portLS predictor  \n0        0.531514  Accruals  \n1        0.142060  Accruals  \n2       -0.059155  Accruals  \n3       -0.332827  Accruals  \n4        0.349512  Accruals  \n...           ...       ...  \n1237143 -1.429466  std_turn  \n1237144 -2.705015  std_turn  \n1237145 -2.282037  std_turn  \n1237146  1.559157  std_turn  \n1237147  2.379202  std_turn  \n\n[1237148 rows x 8 columns]",
      "text/html": "<div>\n<style scoped>\n    .dataframe tbody tr th:only-of-type {\n        vertical-align: middle;\n    }\n\n    .dataframe tbody tr th {\n        vertical-align: top;\n    }\n\n    .dataframe thead th {\n        text-align: right;\n    }\n</style>\n<table border=\"1\" class=\"dataframe\">\n  <thead>\n    <tr style=\"text-align: right;\">\n      <th></th>\n      <th>date</th>\n      <th>port01</th>\n      <th>port02</th>\n      <th>port03</th>\n      <th>port04</th>\n      <th>port05</th>\n      <th>portLS</th>\n      <th>predictor</th>\n    </tr>\n  </thead>\n  <tbody>\n    <tr>\n      <th>0</th>\n      <td>1952-07-01</td>\n      <td>0.124831</td>\n      <td>0.336154</td>\n      <td>0.839240</td>\n      <td>0.637685</td>\n      <td>0.656345</td>\n      <td>0.531514</td>\n      <td>Accruals</td>\n    </tr>\n    <tr>\n      <th>1</th>\n      <td>1952-07-02</td>\n      <td>-0.246625</td>\n      <td>-0.244496</td>\n      <td>-0.049348</td>\n      <td>-0.189462</td>\n      <td>-0.104565</td>\n      <td>0.142060</td>\n      <td>Accruals</td>\n    </tr>\n    <tr>\n      <th>2</th>\n      <td>1952-07-03</td>\n      <td>0.023978</td>\n      <td>0.084967</td>\n      <td>-0.142413</td>\n      <td>-0.223899</td>\n      <td>-0.035177</td>\n      <td>-0.059155</td>\n      <td>Accruals</td>\n    </tr>\n    <tr>\n      <th>3</th>\n      <td>1952-07-07</td>\n      <td>-0.171018</td>\n      <td>-0.076185</td>\n      <td>-0.263179</td>\n      <td>-0.661418</td>\n      <td>-0.503844</td>\n      <td>-0.332827</td>\n      <td>Accruals</td>\n    </tr>\n    <tr>\n      <th>4</th>\n      <td>1952-07-08</td>\n      <td>-0.209479</td>\n      <td>0.235904</td>\n      <td>-0.025679</td>\n      <td>0.218441</td>\n      <td>0.140033</td>\n      <td>0.349512</td>\n      <td>Accruals</td>\n    </tr>\n    <tr>\n      <th>...</th>\n      <td>...</td>\n      <td>...</td>\n      <td>...</td>\n      <td>...</td>\n      <td>...</td>\n      <td>...</td>\n      <td>...</td>\n      <td>...</td>\n    </tr>\n    <tr>\n      <th>1237143</th>\n      <td>2023-12-22</td>\n      <td>1.857859</td>\n      <td>0.723824</td>\n      <td>0.498934</td>\n      <td>0.233261</td>\n      <td>0.428393</td>\n      <td>-1.429466</td>\n      <td>std_turn</td>\n    </tr>\n    <tr>\n      <th>1237144</th>\n      <td>2023-12-26</td>\n      <td>3.266919</td>\n      <td>0.875071</td>\n      <td>1.303056</td>\n      <td>0.540725</td>\n      <td>0.561904</td>\n      <td>-2.705015</td>\n      <td>std_turn</td>\n    </tr>\n    <tr>\n      <th>1237145</th>\n      <td>2023-12-27</td>\n      <td>2.341186</td>\n      <td>0.200744</td>\n      <td>0.285204</td>\n      <td>0.159429</td>\n      <td>0.059149</td>\n      <td>-2.282037</td>\n      <td>std_turn</td>\n    </tr>\n    <tr>\n      <th>1237146</th>\n      <td>2023-12-28</td>\n      <td>-1.669881</td>\n      <td>-0.263774</td>\n      <td>-0.543158</td>\n      <td>-0.266308</td>\n      <td>-0.110725</td>\n      <td>1.559157</td>\n      <td>std_turn</td>\n    </tr>\n    <tr>\n      <th>1237147</th>\n      <td>2023-12-29</td>\n      <td>-2.447862</td>\n      <td>-1.850345</td>\n      <td>-0.757195</td>\n      <td>-0.082058</td>\n      <td>-0.068660</td>\n      <td>2.379202</td>\n      <td>std_turn</td>\n    </tr>\n  </tbody>\n</table>\n<p>1237148 rows × 8 columns</p>\n</div>"
     },
     "execution_count": 5,
     "metadata": {},
     "output_type": "execute_result"
    }
   ],
   "source": [
    "table1_data"
   ],
   "metadata": {
    "collapsed": false,
    "ExecuteTime": {
     "end_time": "2025-03-16T08:36:30.078344Z",
     "start_time": "2025-03-16T08:36:30.033868Z"
    }
   }
  },
  {
   "cell_type": "code",
   "execution_count": 6,
   "outputs": [
    {
     "data": {
      "text/plain": "             date  Mkt-RF   SMB   HML     RF\n0      1926-07-01    0.10 -0.25 -0.27  0.009\n1      1926-07-02    0.45 -0.33 -0.06  0.009\n2      1926-07-06    0.17  0.30 -0.39  0.009\n3      1926-07-07    0.09 -0.58  0.02  0.009\n4      1926-07-08    0.21 -0.38  0.19  0.009\n...           ...     ...   ...   ...    ...\n25896  2024-12-24    1.11 -0.09 -0.05  0.017\n25897  2024-12-26    0.02  1.04 -0.19  0.017\n25898  2024-12-27   -1.17 -0.66  0.56  0.017\n25899  2024-12-30   -1.09  0.12  0.74  0.017\n25900  2024-12-31   -0.46  0.00  0.71  0.017\n\n[25901 rows x 5 columns]",
      "text/html": "<div>\n<style scoped>\n    .dataframe tbody tr th:only-of-type {\n        vertical-align: middle;\n    }\n\n    .dataframe tbody tr th {\n        vertical-align: top;\n    }\n\n    .dataframe thead th {\n        text-align: right;\n    }\n</style>\n<table border=\"1\" class=\"dataframe\">\n  <thead>\n    <tr style=\"text-align: right;\">\n      <th></th>\n      <th>date</th>\n      <th>Mkt-RF</th>\n      <th>SMB</th>\n      <th>HML</th>\n      <th>RF</th>\n    </tr>\n  </thead>\n  <tbody>\n    <tr>\n      <th>0</th>\n      <td>1926-07-01</td>\n      <td>0.10</td>\n      <td>-0.25</td>\n      <td>-0.27</td>\n      <td>0.009</td>\n    </tr>\n    <tr>\n      <th>1</th>\n      <td>1926-07-02</td>\n      <td>0.45</td>\n      <td>-0.33</td>\n      <td>-0.06</td>\n      <td>0.009</td>\n    </tr>\n    <tr>\n      <th>2</th>\n      <td>1926-07-06</td>\n      <td>0.17</td>\n      <td>0.30</td>\n      <td>-0.39</td>\n      <td>0.009</td>\n    </tr>\n    <tr>\n      <th>3</th>\n      <td>1926-07-07</td>\n      <td>0.09</td>\n      <td>-0.58</td>\n      <td>0.02</td>\n      <td>0.009</td>\n    </tr>\n    <tr>\n      <th>4</th>\n      <td>1926-07-08</td>\n      <td>0.21</td>\n      <td>-0.38</td>\n      <td>0.19</td>\n      <td>0.009</td>\n    </tr>\n    <tr>\n      <th>...</th>\n      <td>...</td>\n      <td>...</td>\n      <td>...</td>\n      <td>...</td>\n      <td>...</td>\n    </tr>\n    <tr>\n      <th>25896</th>\n      <td>2024-12-24</td>\n      <td>1.11</td>\n      <td>-0.09</td>\n      <td>-0.05</td>\n      <td>0.017</td>\n    </tr>\n    <tr>\n      <th>25897</th>\n      <td>2024-12-26</td>\n      <td>0.02</td>\n      <td>1.04</td>\n      <td>-0.19</td>\n      <td>0.017</td>\n    </tr>\n    <tr>\n      <th>25898</th>\n      <td>2024-12-27</td>\n      <td>-1.17</td>\n      <td>-0.66</td>\n      <td>0.56</td>\n      <td>0.017</td>\n    </tr>\n    <tr>\n      <th>25899</th>\n      <td>2024-12-30</td>\n      <td>-1.09</td>\n      <td>0.12</td>\n      <td>0.74</td>\n      <td>0.017</td>\n    </tr>\n    <tr>\n      <th>25900</th>\n      <td>2024-12-31</td>\n      <td>-0.46</td>\n      <td>0.00</td>\n      <td>0.71</td>\n      <td>0.017</td>\n    </tr>\n  </tbody>\n</table>\n<p>25901 rows × 5 columns</p>\n</div>"
     },
     "execution_count": 6,
     "metadata": {},
     "output_type": "execute_result"
    }
   ],
   "source": [
    "table1_ff3['date'] = pd.to_datetime(table1_ff3['date'].astype(str), format='%Y%m%d').dt.strftime('%Y-%m-%d')\n",
    "table1_ff3"
   ],
   "metadata": {
    "collapsed": false,
    "ExecuteTime": {
     "end_time": "2025-03-16T08:36:30.920602Z",
     "start_time": "2025-03-16T08:36:30.836978Z"
    }
   }
  },
  {
   "cell_type": "code",
   "execution_count": 7,
   "outputs": [
    {
     "data": {
      "text/plain": "             date  Mkt-RF   SMB   HML   RMW   CMA     RF\n0      1963-07-01   -0.67  0.02 -0.35  0.03  0.13  0.012\n1      1963-07-02    0.79 -0.28  0.28 -0.08 -0.21  0.012\n2      1963-07-03    0.63 -0.18 -0.10  0.13 -0.25  0.012\n3      1963-07-05    0.40  0.09 -0.28  0.07 -0.30  0.012\n4      1963-07-08   -0.63  0.07 -0.20 -0.27  0.06  0.012\n...           ...     ...   ...   ...   ...   ...    ...\n15476  2024-12-24    1.11 -0.12 -0.05 -0.13 -0.37  0.017\n15477  2024-12-26    0.02  1.09 -0.19 -0.44  0.35  0.017\n15478  2024-12-27   -1.17 -0.44  0.56  0.41  0.03  0.017\n15479  2024-12-30   -1.09  0.24  0.74  0.55  0.14  0.017\n15480  2024-12-31   -0.46  0.31  0.71  0.33  0.00  0.017\n\n[15481 rows x 7 columns]",
      "text/html": "<div>\n<style scoped>\n    .dataframe tbody tr th:only-of-type {\n        vertical-align: middle;\n    }\n\n    .dataframe tbody tr th {\n        vertical-align: top;\n    }\n\n    .dataframe thead th {\n        text-align: right;\n    }\n</style>\n<table border=\"1\" class=\"dataframe\">\n  <thead>\n    <tr style=\"text-align: right;\">\n      <th></th>\n      <th>date</th>\n      <th>Mkt-RF</th>\n      <th>SMB</th>\n      <th>HML</th>\n      <th>RMW</th>\n      <th>CMA</th>\n      <th>RF</th>\n    </tr>\n  </thead>\n  <tbody>\n    <tr>\n      <th>0</th>\n      <td>1963-07-01</td>\n      <td>-0.67</td>\n      <td>0.02</td>\n      <td>-0.35</td>\n      <td>0.03</td>\n      <td>0.13</td>\n      <td>0.012</td>\n    </tr>\n    <tr>\n      <th>1</th>\n      <td>1963-07-02</td>\n      <td>0.79</td>\n      <td>-0.28</td>\n      <td>0.28</td>\n      <td>-0.08</td>\n      <td>-0.21</td>\n      <td>0.012</td>\n    </tr>\n    <tr>\n      <th>2</th>\n      <td>1963-07-03</td>\n      <td>0.63</td>\n      <td>-0.18</td>\n      <td>-0.10</td>\n      <td>0.13</td>\n      <td>-0.25</td>\n      <td>0.012</td>\n    </tr>\n    <tr>\n      <th>3</th>\n      <td>1963-07-05</td>\n      <td>0.40</td>\n      <td>0.09</td>\n      <td>-0.28</td>\n      <td>0.07</td>\n      <td>-0.30</td>\n      <td>0.012</td>\n    </tr>\n    <tr>\n      <th>4</th>\n      <td>1963-07-08</td>\n      <td>-0.63</td>\n      <td>0.07</td>\n      <td>-0.20</td>\n      <td>-0.27</td>\n      <td>0.06</td>\n      <td>0.012</td>\n    </tr>\n    <tr>\n      <th>...</th>\n      <td>...</td>\n      <td>...</td>\n      <td>...</td>\n      <td>...</td>\n      <td>...</td>\n      <td>...</td>\n      <td>...</td>\n    </tr>\n    <tr>\n      <th>15476</th>\n      <td>2024-12-24</td>\n      <td>1.11</td>\n      <td>-0.12</td>\n      <td>-0.05</td>\n      <td>-0.13</td>\n      <td>-0.37</td>\n      <td>0.017</td>\n    </tr>\n    <tr>\n      <th>15477</th>\n      <td>2024-12-26</td>\n      <td>0.02</td>\n      <td>1.09</td>\n      <td>-0.19</td>\n      <td>-0.44</td>\n      <td>0.35</td>\n      <td>0.017</td>\n    </tr>\n    <tr>\n      <th>15478</th>\n      <td>2024-12-27</td>\n      <td>-1.17</td>\n      <td>-0.44</td>\n      <td>0.56</td>\n      <td>0.41</td>\n      <td>0.03</td>\n      <td>0.017</td>\n    </tr>\n    <tr>\n      <th>15479</th>\n      <td>2024-12-30</td>\n      <td>-1.09</td>\n      <td>0.24</td>\n      <td>0.74</td>\n      <td>0.55</td>\n      <td>0.14</td>\n      <td>0.017</td>\n    </tr>\n    <tr>\n      <th>15480</th>\n      <td>2024-12-31</td>\n      <td>-0.46</td>\n      <td>0.31</td>\n      <td>0.71</td>\n      <td>0.33</td>\n      <td>0.00</td>\n      <td>0.017</td>\n    </tr>\n  </tbody>\n</table>\n<p>15481 rows × 7 columns</p>\n</div>"
     },
     "execution_count": 7,
     "metadata": {},
     "output_type": "execute_result"
    }
   ],
   "source": [
    "table1_ff5['date'] = pd.to_datetime(table1_ff5['date'].astype(str), format='%Y%m%d').dt.strftime('%Y-%m-%d')\n",
    "table1_ff5"
   ],
   "metadata": {
    "collapsed": false,
    "ExecuteTime": {
     "end_time": "2025-03-16T08:36:31.844793Z",
     "start_time": "2025-03-16T08:36:31.656490Z"
    }
   }
  },
  {
   "cell_type": "code",
   "execution_count": 8,
   "outputs": [
    {
     "data": {
      "text/plain": "date       object\nMkt-RF    float64\nSMB       float64\nHML       float64\nRF        float64\ndtype: object"
     },
     "execution_count": 8,
     "metadata": {},
     "output_type": "execute_result"
    }
   ],
   "source": [
    "table1_ff3.head()\n",
    "table1_ff3.dtypes"
   ],
   "metadata": {
    "collapsed": false,
    "ExecuteTime": {
     "end_time": "2025-03-16T08:36:32.162346Z",
     "start_time": "2025-03-16T08:36:31.987434Z"
    }
   }
  },
  {
   "cell_type": "markdown",
   "source": [
    "## 2.Divided the time & dataset"
   ],
   "metadata": {
    "collapsed": false
   }
  },
  {
   "cell_type": "markdown",
   "source": [
    "* The data analysis timeline of the paper is from 1963 to 2016. Combined with the data obtained by the team, we divided the research time into four groups: 2000_2016, 2017-2023, 2000-2023, and 1963-2016, in order to explore the impact of long, medium and short time on factor regression."
   ],
   "metadata": {
    "collapsed": false
   }
  },
  {
   "cell_type": "code",
   "execution_count": 9,
   "outputs": [],
   "source": [
    "# all period from 2000 Jan 1 to 2023 Dec 31\n",
    "start_date = '2000-01-01'\n",
    "end_date = '2023-12-31'"
   ],
   "metadata": {
    "collapsed": false,
    "ExecuteTime": {
     "end_time": "2025-03-16T08:36:33.810836Z",
     "start_time": "2025-03-16T08:36:33.769137Z"
    }
   }
  },
  {
   "cell_type": "code",
   "execution_count": 10,
   "outputs": [],
   "source": [
    "# sample period from 2000 Jan 1 to 2016 Dec 31\n",
    "start_date_1 = '2000-01-01'\n",
    "end_date_1 = '2016-12-31'"
   ],
   "metadata": {
    "collapsed": false,
    "ExecuteTime": {
     "end_time": "2025-03-16T08:36:34.198537Z",
     "start_time": "2025-03-16T08:36:34.160557Z"
    }
   }
  },
  {
   "cell_type": "code",
   "execution_count": 11,
   "outputs": [],
   "source": [
    "# post sample period from 2017 Jan 1 to 2023 Dec 31\n",
    "start_date_2 = '2017-01-01'\n",
    "end_date_2 = '2023-12-31'"
   ],
   "metadata": {
    "collapsed": false,
    "ExecuteTime": {
     "end_time": "2025-03-16T08:36:34.958532Z",
     "start_time": "2025-03-16T08:36:34.882753Z"
    }
   }
  },
  {
   "cell_type": "code",
   "execution_count": 12,
   "outputs": [],
   "source": [
    "# original sample period from 1963 July 1 to 2016 Dec 31\n",
    "start_date_3 = '1963-07-01'\n",
    "end_date_3 = '2016-12-31'"
   ],
   "metadata": {
    "collapsed": false,
    "ExecuteTime": {
     "end_time": "2025-03-16T08:36:35.424453Z",
     "start_time": "2025-03-16T08:36:35.404723Z"
    }
   }
  },
  {
   "cell_type": "code",
   "execution_count": 13,
   "outputs": [],
   "source": [
    "# Adjust for the time\n",
    "filtered_data_1 = table1_data[(table1_data['date'] >= start_date) & (table1_data['date'] <= end_date)]\n",
    "filtered_ff3_1 = table1_ff3[(table1_ff3['date'] >= start_date) & (table1_ff3['date'] <= end_date)]\n",
    "filtered_ff5_1 = table1_ff5[(table1_ff5['date'] >= start_date) & (table1_ff5['date'] <= end_date)]\n",
    "filtered_data_2 = table1_data[(table1_data['date'] >= start_date_1) & (table1_data['date'] <= end_date_1)]\n",
    "filtered_ff3_2 = table1_ff3[(table1_ff3['date'] >= start_date_1) & (table1_ff3['date'] <= end_date_1)]\n",
    "filtered_ff5_2 = table1_ff5[(table1_ff5['date'] >= start_date_1) & (table1_ff5['date'] <= end_date_1)]\n",
    "filtered_data_3 = table1_data[(table1_data['date'] >= start_date_2) & (table1_data['date'] <= end_date_2)]\n",
    "filtered_ff3_3 = table1_ff3[(table1_ff3['date'] >= start_date_2) & (table1_ff3['date'] <= end_date_2)]\n",
    "filtered_ff5_3 = table1_ff5[(table1_ff5['date'] >= start_date_2) & (table1_ff5['date'] <= end_date_2)]\n",
    "# Adjust for factors data in the original sample period, ensure all factors are available\n",
    "check_factor_original = table1_data[table1_data['date'] < start_date_3]['predictor'].unique()\n",
    "filtered_data_4 = table1_data[table1_data['predictor'].isin(check_factor_original)]\n",
    "filtered_data_4 = filtered_data_4[(filtered_data_4['date'] >= start_date_3) & (filtered_data_4['date'] <= end_date_3)]\n",
    "# Adjust for ff data time\n",
    "filtered_ff3_4 = table1_ff3[(table1_ff3['date'] >= start_date_3) & (table1_ff3['date'] <= end_date_3)]\n",
    "filtered_ff5_4 = table1_ff5[(table1_ff5['date'] >= start_date_3) & (table1_ff5['date'] <= end_date_3)]"
   ],
   "metadata": {
    "collapsed": false,
    "ExecuteTime": {
     "end_time": "2025-03-16T08:36:40.092114Z",
     "start_time": "2025-03-16T08:36:37.161064Z"
    }
   }
  },
  {
   "cell_type": "code",
   "execution_count": 14,
   "outputs": [
    {
     "name": "stdout",
     "output_type": "stream",
     "text": [
      "['date', 'port01', 'port02', 'port03', 'port04', 'port05', 'portLS', 'predictor', 'Mkt-RF', 'SMB', 'HML', 'RF']\n",
      "['date', 'port01', 'port02', 'port03', 'port04', 'port05', 'portLS', 'predictor', 'Mkt-RF', 'SMB', 'HML', 'RMW', 'CMA', 'RF']\n",
      "['date', 'port01', 'port02', 'port03', 'port04', 'port05', 'portLS', 'predictor', 'Mkt-RF', 'SMB', 'HML', 'RF']\n",
      "['date', 'port01', 'port02', 'port03', 'port04', 'port05', 'portLS', 'predictor', 'Mkt-RF', 'SMB', 'HML', 'RMW', 'CMA', 'RF']\n",
      "['date', 'port01', 'port02', 'port03', 'port04', 'port05', 'portLS', 'predictor', 'Mkt-RF', 'SMB', 'HML', 'RF']\n",
      "['date', 'port01', 'port02', 'port03', 'port04', 'port05', 'portLS', 'predictor', 'Mkt-RF', 'SMB', 'HML', 'RMW', 'CMA', 'RF']\n",
      "['date', 'port01', 'port02', 'port03', 'port04', 'port05', 'portLS', 'predictor', 'Mkt-RF', 'SMB', 'HML', 'RF']\n",
      "['date', 'port01', 'port02', 'port03', 'port04', 'port05', 'portLS', 'predictor', 'Mkt-RF', 'SMB', 'HML', 'RMW', 'CMA', 'RF']\n"
     ]
    }
   ],
   "source": [
    "merged_data_1 = pd.merge(filtered_data_1, filtered_ff3_1, on='date', how='inner')\n",
    "merged_data_2 = pd.merge(filtered_data_1, filtered_ff5_1, on='date', how='inner')\n",
    "merged_data_3 = pd.merge(filtered_data_2, filtered_ff3_2, on='date', how='inner')\n",
    "merged_data_4 = pd.merge(filtered_data_2, filtered_ff5_2, on='date', how='inner')\n",
    "merged_data_5 = pd.merge(filtered_data_3, filtered_ff3_3, on='date', how='inner')\n",
    "merged_data_6 = pd.merge(filtered_data_3, filtered_ff5_3, on='date', how='inner')\n",
    "merged_data_7 = pd.merge(filtered_data_4, filtered_ff3_4, on='date', how='inner')\n",
    "merged_data_8 = pd.merge(filtered_data_4, filtered_ff5_4, on='date', how='inner')\n",
    "\n",
    "print(merged_data_1.columns.tolist())\n",
    "print(merged_data_2.columns.tolist())\n",
    "print(merged_data_3.columns.tolist())\n",
    "print(merged_data_4.columns.tolist())\n",
    "print(merged_data_5.columns.tolist())\n",
    "print(merged_data_6.columns.tolist())\n",
    "print(merged_data_7.columns.tolist())\n",
    "print(merged_data_8.columns.tolist())"
   ],
   "metadata": {
    "collapsed": false,
    "ExecuteTime": {
     "end_time": "2025-03-16T08:36:45.886019Z",
     "start_time": "2025-03-16T08:36:42.930062Z"
    }
   }
  },
  {
   "cell_type": "code",
   "execution_count": 15,
   "outputs": [],
   "source": [
    "merged_data_1.to_csv('data/merged_data_with_ff3_1.csv', index=False)\n",
    "merged_data_2.to_csv('data/merged_data_with_ff5_1.csv', index=False)\n",
    "merged_data_3.to_csv('data/merged_data_with_ff3_2.csv', index=False)\n",
    "merged_data_4.to_csv('data/merged_data_with_ff5_2.csv', index=False)\n",
    "merged_data_5.to_csv('data/merged_data_with_ff3_3.csv', index=False)\n",
    "merged_data_6.to_csv('data/merged_data_with_ff5_3.csv', index=False)\n",
    "merged_data_7.to_csv('data/merged_data_with_ff3_4.csv', index=False)\n",
    "merged_data_8.to_csv('data/merged_data_with_ff5_4.csv', index=False)"
   ],
   "metadata": {
    "collapsed": false,
    "ExecuteTime": {
     "end_time": "2025-03-16T08:37:56.044199Z",
     "start_time": "2025-03-16T08:36:51.533969Z"
    }
   }
  },
  {
   "cell_type": "code",
   "execution_count": 16,
   "outputs": [
    {
     "data": {
      "text/plain": "array(['Accruals', 'AssetGrowth', 'BM', 'BPEBM', 'Beta', 'BookLeverage',\n       'CBOperProf', 'CF', 'ChAssetTurnover', 'ChNWC', 'CompEquIss',\n       'CompositeDebtIssuance', 'Coskewness', 'DolVol', 'EBM', 'EP',\n       'EarningsSurprise', 'FirmAge', 'GP', 'Herf', 'High52', 'IdioVol3F',\n       'Illiquidity', 'IntMom', 'InvGrowth', 'LRreversal', 'MaxRet',\n       'Mom12m', 'Mom6m', 'MomOffSeason', 'MomOffSeason06YrPlus',\n       'MomOffSeason11YrPlus', 'MomOffSeason16YrPlus', 'MomSeason',\n       'MomSeason06YrPlus', 'MomSeason11YrPlus', 'MomSeason16YrPlus',\n       'MomSeasonShort', 'NOA', 'RDAbility', 'ResidualMomentum', 'RoE',\n       'SP', 'STreversal', 'ShareIss1Y', 'ShareIss5Y', 'Size', 'VolMkt',\n       'VolSD', 'std_turn'], dtype=object)"
     },
     "execution_count": 16,
     "metadata": {},
     "output_type": "execute_result"
    }
   ],
   "source": [
    "# print the unique 'predictor' in the original sample period\n",
    "check_factor_original"
   ],
   "metadata": {
    "collapsed": false,
    "ExecuteTime": {
     "end_time": "2025-03-16T08:38:06.741931Z",
     "start_time": "2025-03-16T08:38:06.683656Z"
    }
   }
  },
  {
   "cell_type": "code",
   "execution_count": 17,
   "outputs": [],
   "source": [
    "# Define for accounting factors and return factors for \"all\" \"sample\" and \"post\" periods\n",
    "accounting_factors = [\n",
    "    'Accruals', 'AnalystValue', 'AssetGrowth', 'BM', 'BPEBM', 'BookLeverage',\n",
    "    'CBOperProf', 'CF', 'ChAssetTurnover', 'ChNWC', 'CompEquIss', 'CompositeDebtIssuance',\n",
    "    'EBM', 'EP', 'EarningsSurprise', 'GP', 'Herf', 'InvGrowth',\n",
    "    'NOA', 'OperProf', 'PS', 'RDAbility', 'RoE', 'SP', 'Size', 'ShareIss1Y', 'ShareIss5Y',\n",
    "    'XFIN', 'cfp', 'roaq'\n",
    "]\n",
    "\n",
    "return_factors = [\n",
    "    'Beta', 'BetaLiquidityPS', 'CPVolSpread', 'Coskewness', 'CustomerMomentum',\n",
    "    'DolVol', 'FirmAge', 'High52', 'IdioVol3F', 'Illiquidity', 'IntMom', 'LRreversal', 'MaxRet',\n",
    "    'Mom12m', 'Mom6m', 'Mom6mJunk', 'MomOffSeason', 'MomOffSeason06YrPlus',\n",
    "    'MomOffSeason11YrPlus', 'MomOffSeason16YrPlus', 'MomSeason', 'MomSeason06YrPlus',\n",
    "    'MomSeason11YrPlus', 'MomSeason16YrPlus', 'MomSeasonShort', 'RIVolSpread',\n",
    "    'ResidualMomentum', 'STreversal', 'VolMkt', 'VolSD', 'std_turn', 'Frontier'\n",
    "]"
   ],
   "metadata": {
    "collapsed": false,
    "ExecuteTime": {
     "end_time": "2025-03-16T08:48:06.940092Z",
     "start_time": "2025-03-16T08:48:06.903330Z"
    }
   }
  },
  {
   "cell_type": "code",
   "execution_count": 18,
   "outputs": [],
   "source": [
    "# Define for accounting factors and return factors for \"original\" sample period\n",
    "accounting_factors_original = [\n",
    "    'Accruals', 'AssetGrowth', 'BM', 'BPEBM', 'BookLeverage', 'CBOperProf', 'CF', 'ChAssetTurnover', 'ChNWC', 'CompEquIss', 'CompositeDebtIssuance', 'EBM', 'EP', 'EarningsSurprise', 'GP', 'Herf', 'InvGrowth', 'NOA', 'RDAbility', 'RoE', 'SP', 'Size', 'ShareIss1Y', 'ShareIss5Y'\n",
    "]\n",
    "\n",
    "return_factors_original = [\n",
    "    'Beta', 'Coskewness', 'DolVol', 'FirmAge', 'High52', 'IdioVol3F', 'Illiquidity', 'IntMom', 'LRreversal', 'MaxRet', 'Mom12m', 'Mom6m', 'MomOffSeason', 'MomOffSeason06YrPlus', 'MomOffSeason11YrPlus', 'MomOffSeason16YrPlus', 'MomSeason', 'MomSeason06YrPlus', 'MomSeason11YrPlus', 'MomSeason16YrPlus', 'MomSeasonShort', 'ResidualMomentum', 'STreversal', 'VolMkt', 'VolSD', 'std_turn'\n",
    "]"
   ],
   "metadata": {
    "collapsed": false,
    "ExecuteTime": {
     "end_time": "2025-03-16T08:48:09.068797Z",
     "start_time": "2025-03-16T08:48:09.002297Z"
    }
   }
  },
  {
   "cell_type": "markdown",
   "source": [
    "## 3. regression in the ‘all' time period"
   ],
   "metadata": {
    "collapsed": false
   }
  },
  {
   "cell_type": "markdown",
   "source": [
    "* In this section, calculations and regression studies will be conducted for the timeline 2000-2023.\n",
    "* In the first step, we will calculate the first two columns of Table 1 to obtain the average return rate and t value of each factor.\n",
    "* The second step is to calculate the regression results of each factor and the FF3 factor model, and output the excess return and the corresponding t value.\n",
    "* The third step is to calculate the regression results of each factor and the FF5 factor model. The overall idea is similar to the second step."
   ],
   "metadata": {
    "collapsed": false
   }
  },
  {
   "cell_type": "markdown",
   "source": [
    "+ <span style=\"color:red\">The Newey-West standard error can effectively deal with heteroscedasticity by adjusting the covariance matrix. At the same time, the Newey-West method introduces a lag term to correct the autocorrelation and provide a more accurate standard error.</span>"
   ],
   "metadata": {
    "collapsed": false
   }
  },
  {
   "cell_type": "markdown",
   "source": [
    "### 3.1 Preliminary analysis"
   ],
   "metadata": {
    "collapsed": false
   }
  },
  {
   "cell_type": "code",
   "execution_count": 26,
   "outputs": [],
   "source": [
    "# Read the merged data\n",
    "all_data = pd.read_csv('data/merged_data_with_ff3_1.csv')\n",
    "# Divide by 100\n",
    "port_columns_1 = ['port01', 'port02', 'port03', 'port04', 'port05']\n",
    "all_data[port_columns_1] = all_data[port_columns_1] / 100\n",
    "# only retain columns that are needed\n",
    "all_data = all_data[['date', 'predictor'] + port_columns_1]\n",
    "\n",
    "# Separate accounting and return data\n",
    "accounting_data_1 = all_data[all_data['predictor'].isin(accounting_factors)]\n",
    "return_data_1 = all_data[all_data['predictor'].isin(return_factors)]"
   ],
   "metadata": {
    "collapsed": false,
    "ExecuteTime": {
     "end_time": "2025-03-16T08:52:18.276291Z",
     "start_time": "2025-03-16T08:52:15.155516Z"
    }
   }
  },
  {
   "cell_type": "code",
   "execution_count": 27,
   "outputs": [],
   "source": [
    "# Calculate the dynamic factor return\n",
    "def calculate_dynamic_factor_return(row):\n",
    "    high_ports = row[['port04', 'port05']].values\n",
    "    low_ports = row[['port01', 'port02']].values\n",
    "    return np.mean(high_ports) - np.mean(low_ports)\n",
    "\n",
    "# Define a function to compound returns\n",
    "def compound_returns(x):\n",
    "    return (1 + x).prod() - 1\n",
    "\n",
    "# Resample and calculate dynamic factor return for each period\n",
    "def resample_and_calculate(df, freq):\n",
    "    df['date'] = pd.to_datetime(df['date'])\n",
    "    df_resampled = df.set_index('date').groupby('predictor').resample(freq).apply(compound_returns).reset_index()\n",
    "    return df_resampled\n",
    "\n",
    "# Calculate Newey-West t-value\n",
    "def calculate_newey_west_t_value(df, max_lag):\n",
    "    results = []\n",
    "\n",
    "    for factor, group in df.groupby('predictor'):\n",
    "        returns = group['factor_return'].dropna()\n",
    "        mean_returns = returns.mean() * 100  # Calculate mean returns for each factor\n",
    "\n",
    "        # Regression to compute t-stat using Newey-West standard errors\n",
    "        X = sm.add_constant(np.ones(len(returns)))  # Constant term\n",
    "        model = sm.OLS(returns, X).fit(cov_type='HAC', cov_kwds={'maxlags': max_lag})\n",
    "\n",
    "        t_value = model.tvalues.iloc[0]  # T-Value\n",
    "\n",
    "        # display results in 2 decimal places\n",
    "        results.append({\n",
    "            'Factor': factor,\n",
    "            'Average Returns': round(mean_returns, 2),\n",
    "            'T-Value': round(t_value, 2)\n",
    "        })\n",
    "\n",
    "    return pd.DataFrame(results)"
   ],
   "metadata": {
    "collapsed": false,
    "ExecuteTime": {
     "end_time": "2025-03-16T08:52:19.143333Z",
     "start_time": "2025-03-16T08:52:19.078909Z"
    }
   }
  },
  {
   "cell_type": "code",
   "execution_count": 28,
   "outputs": [],
   "source": [
    "# Suppress SettingWithCopyWarning\n",
    "pd.options.mode.chained_assignment = None  # default='warn'"
   ],
   "metadata": {
    "collapsed": false,
    "ExecuteTime": {
     "end_time": "2025-03-16T08:52:19.782982Z",
     "start_time": "2025-03-16T08:52:19.701175Z"
    }
   }
  },
  {
   "cell_type": "code",
   "execution_count": 29,
   "outputs": [
    {
     "name": "stdout",
     "output_type": "stream",
     "text": [
      "\n",
      "Accounting factors (annual rebalancing):\n",
      "                   Factor  Average Returns  T-Value\n",
      "0                Accruals             1.86     1.38\n",
      "1            AnalystValue             3.30     0.85\n",
      "2             AssetGrowth             2.22     0.93\n",
      "3                      BM             3.23     1.07\n",
      "4                   BPEBM             2.52     1.57\n",
      "5            BookLeverage            -2.14    -1.10\n",
      "6              CBOperProf             3.50     2.12\n",
      "7                      CF             2.64     0.95\n",
      "8         ChAssetTurnover            -0.55    -0.60\n",
      "9                   ChNWC            -1.46    -1.65\n",
      "10             CompEquIss             2.83     1.32\n",
      "11  CompositeDebtIssuance             0.48     0.28\n",
      "12                    EBM             0.22     0.08\n",
      "13                     EP             3.71     1.44\n",
      "14       EarningsSurprise             1.41     1.47\n",
      "15                     GP             4.73     2.24\n",
      "16                   Herf            -1.42    -1.04\n",
      "17              InvGrowth             0.21     0.09\n",
      "18                    NOA             3.51     1.93\n",
      "19               OperProf             3.53     1.37\n",
      "20                     PS             6.42     1.85\n",
      "21              RDAbility             1.89     0.60\n",
      "22                    RoE             3.05     1.55\n",
      "23                     SP             3.55     1.09\n",
      "24             ShareIss1Y             3.50     1.51\n",
      "25             ShareIss5Y             3.69     2.89\n",
      "26                   Size             0.97     0.21\n",
      "27                   XFIN             4.49     1.51\n",
      "28                    cfp             3.99     1.18\n",
      "29                   roaq             5.61     1.81\n",
      "\n",
      "Return factors (monthly rebalancing):\n",
      "                  Factor  Average Returns  T-Value\n",
      "0                   Beta            -0.13    -0.35\n",
      "1        BetaLiquidityPS             0.09     0.81\n",
      "2            CPVolSpread             0.31     3.82\n",
      "3             Coskewness             0.21     1.71\n",
      "4       CustomerMomentum             0.10     0.41\n",
      "5                 DolVol             0.04     0.28\n",
      "6                FirmAge             0.03     0.14\n",
      "7               Frontier             0.23     0.95\n",
      "8                 High52             0.10     0.38\n",
      "9              IdioVol3F             0.40     0.99\n",
      "10           Illiquidity             0.10     0.82\n",
      "11                IntMom            -0.14    -0.44\n",
      "12            LRreversal             0.15     0.53\n",
      "13                MaxRet             0.43     1.09\n",
      "14                Mom12m             0.02     0.07\n",
      "15                 Mom6m             0.24     0.93\n",
      "16             Mom6mJunk             0.20     0.90\n",
      "17          MomOffSeason            -0.03    -0.11\n",
      "18  MomOffSeason06YrPlus             0.60     4.04\n",
      "19  MomOffSeason11YrPlus             0.16     1.20\n",
      "20  MomOffSeason16YrPlus             0.08     0.71\n",
      "21             MomSeason            -0.09    -0.57\n",
      "22     MomSeason06YrPlus             0.31     2.10\n",
      "23     MomSeason11YrPlus             0.08     0.74\n",
      "24     MomSeason16YrPlus             0.14     1.21\n",
      "25        MomSeasonShort            -0.01    -0.09\n",
      "26           RIVolSpread             0.39     2.39\n",
      "27      ResidualMomentum             0.12     0.93\n",
      "28            STreversal             0.10     0.51\n",
      "29                VolMkt             0.09     0.42\n",
      "30                 VolSD             0.22     2.46\n",
      "31              std_turn            -0.31    -0.88\n"
     ]
    }
   ],
   "source": [
    "# Resample accounting data annually\n",
    "accounting_data_resampled = resample_and_calculate(accounting_data_1, 'YE')\n",
    "\n",
    "# Resample return data monthly\n",
    "return_data_resampled = resample_and_calculate(return_data_1, 'ME')\n",
    "\n",
    "# Calculate dynamic factor return\n",
    "accounting_data_resampled['factor_return'] = accounting_data_resampled.apply(calculate_dynamic_factor_return, axis=1)\n",
    "return_data_resampled['factor_return'] = return_data_resampled.apply(calculate_dynamic_factor_return, axis=1)\n",
    "\n",
    "# Calculate stats for accounting data\n",
    "accounting_results_1 = calculate_newey_west_t_value(accounting_data_resampled, max_lag=1)\n",
    "\n",
    "# Calculate stats for return data\n",
    "return_results_1 = calculate_newey_west_t_value(return_data_resampled, max_lag=12)\n",
    "\n",
    "# Display results\n",
    "print(\"\\nAccounting factors (annual rebalancing):\")\n",
    "print(accounting_results_1)\n",
    "\n",
    "print(\"\\nReturn factors (monthly rebalancing):\")\n",
    "print(return_results_1)"
   ],
   "metadata": {
    "collapsed": false,
    "ExecuteTime": {
     "end_time": "2025-03-16T08:52:42.830009Z",
     "start_time": "2025-03-16T08:52:20.195078Z"
    }
   }
  },
  {
   "cell_type": "markdown",
   "source": [
    "### 3.2 Regression 1 - FF3"
   ],
   "metadata": {
    "collapsed": false
   }
  },
  {
   "cell_type": "code",
   "execution_count": 30,
   "outputs": [],
   "source": [
    "# read the merged data\n",
    "all_data_2 = pd.read_csv('data/merged_data_with_ff3_1.csv')\n",
    "# divide by 100\n",
    "port_columns = ['port01', 'port02', 'port03', 'port04', 'port05', 'Mkt-RF', 'SMB', 'HML', 'RF']\n",
    "all_data_2[port_columns] = all_data_2[port_columns] / 100\n",
    "# only retain columns that are needed\n",
    "all_data_2 = all_data_2[['date', 'predictor'] + port_columns]\n",
    "\n",
    "# Separate accounting and return data\n",
    "accounting_data_2 = all_data_2[all_data_2['predictor'].isin(accounting_factors)]\n",
    "return_data_2 = all_data_2[all_data_2['predictor'].isin(return_factors)]"
   ],
   "metadata": {
    "collapsed": false,
    "ExecuteTime": {
     "end_time": "2025-03-16T08:53:06.196105Z",
     "start_time": "2025-03-16T08:53:04.946706Z"
    }
   }
  },
  {
   "cell_type": "code",
   "execution_count": 31,
   "outputs": [],
   "source": [
    "# Calculate alpha and Newey-West t-value\n",
    "def calculate_ff3_alpha_and_tvalues(df, max_lag):\n",
    "    results = []\n",
    "\n",
    "    for factor, group in df.groupby('predictor'):\n",
    "        group = group.dropna(subset=['factor_return', 'RF', 'Mkt-RF', 'SMB', 'HML'])\n",
    "        y = group['factor_return'] - group['RF']\n",
    "        X = sm.add_constant(group[['Mkt-RF', 'SMB', 'HML']])  # FF3 factors\n",
    "\n",
    "        # Perform regression with Newey-West standard errors\n",
    "        model = sm.OLS(y, X).fit(cov_type='HAC', cov_kwds={'maxlags': max_lag})\n",
    "\n",
    "        alpha = model.params['const'] * 100  # FF3 Alpha\n",
    "        t_value = model.tvalues['const']  # T-Value\n",
    "\n",
    "        results.append({\n",
    "            'Factor': factor,\n",
    "            'FF3 Alpha': round(alpha, 2),\n",
    "            'T-Value': round(t_value, 2)\n",
    "        })\n",
    "\n",
    "    return pd.DataFrame(results)"
   ],
   "metadata": {
    "collapsed": false,
    "ExecuteTime": {
     "end_time": "2025-03-16T08:53:08.945046Z",
     "start_time": "2025-03-16T08:53:08.931379Z"
    }
   }
  },
  {
   "cell_type": "code",
   "execution_count": 33,
   "outputs": [
    {
     "name": "stdout",
     "output_type": "stream",
     "text": [
      "\n",
      "Accounting factors (annual rebalancing):\n",
      "                   Factor  FF3 Alpha  T-Value\n",
      "0                Accruals       1.58     1.56\n",
      "1            AnalystValue       0.20     0.11\n",
      "2             AssetGrowth      -1.12    -0.86\n",
      "3                      BM      -2.20    -1.78\n",
      "4                   BPEBM      -0.74    -0.55\n",
      "5            BookLeverage      -3.18    -1.77\n",
      "6              CBOperProf       3.76     2.74\n",
      "7                      CF      -0.54    -0.26\n",
      "8         ChAssetTurnover      -2.22    -2.76\n",
      "9                   ChNWC      -3.32    -2.44\n",
      "10             CompEquIss       2.78     2.04\n",
      "11  CompositeDebtIssuance      -1.35    -0.67\n",
      "12                    EBM      -5.66    -4.94\n",
      "13                     EP      -0.96    -0.80\n",
      "14       EarningsSurprise       0.06     0.09\n",
      "15                     GP       4.53     2.06\n",
      "16                   Herf      -3.24    -2.80\n",
      "17              InvGrowth      -2.74    -1.41\n",
      "18                    NOA       0.08     0.04\n",
      "19               OperProf       4.43     2.43\n",
      "20                     PS      -0.62    -0.28\n",
      "21              RDAbility      -2.88    -0.99\n",
      "22                    RoE       2.07     1.21\n",
      "23                     SP      -1.88    -1.33\n",
      "24             ShareIss1Y       2.05     1.40\n",
      "25             ShareIss5Y       2.69     1.86\n",
      "26                   Size      -5.74    -2.83\n",
      "27                   XFIN       3.32     2.24\n",
      "28                    cfp       3.30     2.31\n",
      "29                   roaq       8.12     5.19\n",
      "\n",
      "Return factors (monthly rebalancing):\n",
      "                  Factor  FF3 Alpha  T-Value\n",
      "0                   Beta      -0.76    -3.40\n",
      "1        BetaLiquidityPS      -0.04    -0.34\n",
      "2            CPVolSpread       0.22     2.04\n",
      "3             Coskewness      -0.03    -0.25\n",
      "4       CustomerMomentum      -0.04    -0.14\n",
      "5                 DolVol      -0.02    -0.14\n",
      "6                FirmAge      -0.26    -1.91\n",
      "7               Frontier      -0.15    -0.88\n",
      "8                 High52       0.30     1.81\n",
      "9              IdioVol3F       0.62     2.85\n",
      "10           Illiquidity      -0.04    -0.48\n",
      "11                IntMom      -0.08    -0.27\n",
      "12            LRreversal      -0.23    -1.14\n",
      "13                MaxRet       0.67     3.28\n",
      "14                Mom12m       0.22     0.83\n",
      "15                 Mom6m       0.28     1.22\n",
      "16             Mom6mJunk       0.25     1.19\n",
      "17          MomOffSeason      -0.28    -1.74\n",
      "18  MomOffSeason06YrPlus       0.54     4.18\n",
      "19  MomOffSeason11YrPlus       0.02     0.15\n",
      "20  MomOffSeason16YrPlus       0.03     0.23\n",
      "21             MomSeason      -0.20    -1.37\n",
      "22     MomSeason06YrPlus       0.17     1.21\n",
      "23     MomSeason11YrPlus      -0.05    -0.45\n",
      "24     MomSeason16YrPlus      -0.00    -0.01\n",
      "25        MomSeasonShort      -0.09    -0.53\n",
      "26           RIVolSpread       0.31     2.17\n",
      "27      ResidualMomentum       0.05     0.44\n",
      "28            STreversal      -0.24    -1.10\n",
      "29                VolMkt       0.17     1.51\n",
      "30                 VolSD       0.18     2.53\n",
      "31              std_turn       0.24     1.36\n"
     ]
    }
   ],
   "source": [
    "# Resample accounting data annually\n",
    "accounting_data_resampled_2 = resample_and_calculate(accounting_data_2, 'YE')\n",
    "\n",
    "# Resample return data monthly\n",
    "return_data_resampled_2 = resample_and_calculate(return_data_2, 'ME')\n",
    "\n",
    "# Calculate dynamic factor return\n",
    "accounting_data_resampled_2['factor_return'] = accounting_data_resampled_2.apply(calculate_dynamic_factor_return, axis=1)\n",
    "return_data_resampled_2['factor_return'] = return_data_resampled_2.apply(calculate_dynamic_factor_return, axis=1)\n",
    "\n",
    "# Calculate alpha and t-values for accounting data\n",
    "accounting_results_2 = calculate_ff3_alpha_and_tvalues(accounting_data_resampled_2, max_lag=1)\n",
    "# Calculate stats for return data\n",
    "return_results_2 = calculate_ff3_alpha_and_tvalues(return_data_resampled_2, max_lag=12)\n",
    "\n",
    "# Display results\n",
    "print(\"\\nAccounting factors (annual rebalancing):\")\n",
    "print(accounting_results_2)\n",
    "\n",
    "print(\"\\nReturn factors (monthly rebalancing):\")\n",
    "print(return_results_2)"
   ],
   "metadata": {
    "collapsed": false,
    "ExecuteTime": {
     "end_time": "2025-03-16T08:53:57.427292Z",
     "start_time": "2025-03-16T08:53:25.577257Z"
    }
   }
  },
  {
   "cell_type": "markdown",
   "source": [
    "### 3.3 Regression 2 - FF5"
   ],
   "metadata": {
    "collapsed": false
   }
  },
  {
   "cell_type": "code",
   "execution_count": 34,
   "outputs": [],
   "source": [
    "# read the merged data\n",
    "all_data_3 = pd.read_csv('data/merged_data_with_ff5_1.csv')\n",
    "# divide by 100\n",
    "port_columns = ['port01', 'port02', 'port03', 'port04', 'port05', 'Mkt-RF', 'SMB', 'HML', 'RMW', 'CMA', 'RF']\n",
    "all_data_3[port_columns] = all_data_3[port_columns] / 100\n",
    "# only retain columns that are needed\n",
    "all_data_3 = all_data_3[['date', 'predictor'] + port_columns]\n",
    "\n",
    "# Separate accounting and return data\n",
    "accounting_data_3 = all_data_3[all_data_3['predictor'].isin(accounting_factors)]\n",
    "return_data_3 = all_data_3[all_data_3['predictor'].isin(return_factors)]"
   ],
   "metadata": {
    "collapsed": false,
    "ExecuteTime": {
     "end_time": "2025-03-16T08:54:11.332189Z",
     "start_time": "2025-03-16T08:54:09.970613Z"
    }
   }
  },
  {
   "cell_type": "code",
   "execution_count": 35,
   "outputs": [],
   "source": [
    "# Calculate alpha and Newey-West t-value\n",
    "def calculate_ff5_alpha_and_tvalues(df, max_lag):\n",
    "    results = []\n",
    "\n",
    "    for factor, group in df.groupby('predictor'):\n",
    "        group = group.dropna(subset=['factor_return', 'RF', 'Mkt-RF', 'SMB', 'HML', 'RMW', 'CMA'])\n",
    "        y = group['factor_return'] - group['RF']\n",
    "        X = sm.add_constant(group[['Mkt-RF', 'SMB', 'HML', 'RMW', 'CMA']])  # FF5 factors\n",
    "\n",
    "        # Perform regression with Newey-West standard errors\n",
    "        model = sm.OLS(y, X).fit(cov_type='HAC', cov_kwds={'maxlags': max_lag})\n",
    "\n",
    "        alpha = model.params['const'] * 100  # FF5 Alpha\n",
    "        t_value = model.tvalues['const']  # T-Value\n",
    "\n",
    "        results.append({\n",
    "            'Factor': factor,\n",
    "            'FF5 Alpha': round(alpha, 2),\n",
    "            'T-Value': round(t_value,2)\n",
    "        })\n",
    "\n",
    "    return pd.DataFrame(results)"
   ],
   "metadata": {
    "collapsed": false,
    "ExecuteTime": {
     "end_time": "2025-03-16T08:54:13.417046Z",
     "start_time": "2025-03-16T08:54:13.376907Z"
    }
   }
  },
  {
   "cell_type": "code",
   "execution_count": 36,
   "outputs": [
    {
     "name": "stdout",
     "output_type": "stream",
     "text": [
      "\n",
      "Accounting factors (annual rebalancing) - FF5:\n",
      "                   Factor  FF5 Alpha  T-Value\n",
      "0                Accruals       1.33     0.99\n",
      "1            AnalystValue      -1.68    -0.71\n",
      "2             AssetGrowth      -0.42    -0.31\n",
      "3                      BM      -0.15    -0.11\n",
      "4                   BPEBM      -2.42    -1.14\n",
      "5            BookLeverage      -2.42    -1.66\n",
      "6              CBOperProf      -0.68    -0.35\n",
      "7                      CF      -2.20    -1.08\n",
      "8         ChAssetTurnover      -0.62    -0.66\n",
      "9                   ChNWC      -4.43    -2.74\n",
      "10             CompEquIss       3.14     1.86\n",
      "11  CompositeDebtIssuance       0.19     0.08\n",
      "12                    EBM      -4.71    -2.88\n",
      "13                     EP      -2.18    -1.47\n",
      "14       EarningsSurprise      -0.60    -0.78\n",
      "15                     GP      -0.49    -0.16\n",
      "16                   Herf      -2.92    -2.59\n",
      "17              InvGrowth      -5.99    -2.39\n",
      "18                    NOA      -0.56    -0.22\n",
      "19               OperProf      -1.77    -1.14\n",
      "20                     PS      -2.20    -0.62\n",
      "21              RDAbility      -6.65    -1.98\n",
      "22                    RoE      -3.44    -1.90\n",
      "23                     SP      -0.40    -0.32\n",
      "24             ShareIss1Y      -3.09    -2.23\n",
      "25             ShareIss5Y       0.55     0.27\n",
      "26                   Size      -7.05    -2.46\n",
      "27                   XFIN      -1.05    -0.44\n",
      "28                    cfp       0.88     0.49\n",
      "29                   roaq       2.22     1.46\n",
      "\n",
      "Return factors (monthly rebalancing) - FF5:\n",
      "                  Factor  FF5 Alpha  T-Value\n",
      "0                   Beta      -0.14    -0.71\n",
      "1        BetaLiquidityPS      -0.07    -0.55\n",
      "2            CPVolSpread       0.21     1.87\n",
      "3             Coskewness       0.13     1.10\n",
      "4       CustomerMomentum       0.09     0.30\n",
      "5                 DolVol      -0.00    -0.02\n",
      "6                FirmAge      -0.13    -1.13\n",
      "7               Frontier       0.02     0.12\n",
      "8                 High52      -0.07    -0.34\n",
      "9              IdioVol3F       0.07     0.36\n",
      "10           Illiquidity      -0.05    -0.60\n",
      "11                IntMom      -0.19    -0.67\n",
      "12            LRreversal      -0.11    -0.55\n",
      "13                MaxRet       0.12     0.87\n",
      "14                Mom12m      -0.11    -0.34\n",
      "15                 Mom6m      -0.02    -0.06\n",
      "16             Mom6mJunk      -0.00    -0.01\n",
      "17          MomOffSeason      -0.24    -1.34\n",
      "18  MomOffSeason06YrPlus       0.50     3.67\n",
      "19  MomOffSeason11YrPlus       0.11     0.67\n",
      "20  MomOffSeason16YrPlus       0.00     0.03\n",
      "21             MomSeason      -0.22    -1.45\n",
      "22     MomSeason06YrPlus       0.27     1.49\n",
      "23     MomSeason11YrPlus      -0.01    -0.06\n",
      "24     MomSeason16YrPlus       0.04     0.36\n",
      "25        MomSeasonShort      -0.19    -1.16\n",
      "26           RIVolSpread       0.22     1.45\n",
      "27      ResidualMomentum      -0.06    -0.50\n",
      "28            STreversal      -0.07    -0.32\n",
      "29                VolMkt      -0.19    -1.66\n",
      "30                 VolSD       0.12     1.63\n",
      "31              std_turn       0.09     0.50\n"
     ]
    }
   ],
   "source": [
    "# Resample accounting data annually\n",
    "accounting_data_resampled_3 = resample_and_calculate(accounting_data_3, 'YE')\n",
    "\n",
    "# Resample return data monthly\n",
    "return_data_resampled_3 = resample_and_calculate(return_data_3, 'ME')\n",
    "\n",
    "# Calculate dynamic factor return\n",
    "accounting_data_resampled_3['factor_return'] = accounting_data_resampled_3.apply(calculate_dynamic_factor_return, axis=1)\n",
    "return_data_resampled_3['factor_return'] = return_data_resampled_3.apply(calculate_dynamic_factor_return, axis=1)\n",
    "\n",
    "# Calculate alpha and t-values for accounting data for FF5\n",
    "accounting_results_3 = calculate_ff5_alpha_and_tvalues(accounting_data_resampled_3, max_lag=1)\n",
    "# Calculate stats for return data for FF5\n",
    "return_results_3 = calculate_ff5_alpha_and_tvalues(return_data_resampled_3, max_lag=12)\n",
    "\n",
    "# Display results for FF5\n",
    "print(\"\\nAccounting factors (annual rebalancing) - FF5:\")\n",
    "print(accounting_results_3)\n",
    "\n",
    "print(\"\\nReturn factors (monthly rebalancing) - FF5:\")\n",
    "print(return_results_3)"
   ],
   "metadata": {
    "collapsed": false,
    "ExecuteTime": {
     "end_time": "2025-03-16T08:54:49.358981Z",
     "start_time": "2025-03-16T08:54:16.769216Z"
    }
   }
  },
  {
   "cell_type": "markdown",
   "source": [
    "### 3.4 Combine all the regressions"
   ],
   "metadata": {
    "collapsed": false
   }
  },
  {
   "cell_type": "code",
   "execution_count": 37,
   "outputs": [
    {
     "name": "stdout",
     "output_type": "stream",
     "text": [
      "\n",
      "Accounting factors (annual rebalancing):\n",
      "                   Factor  Average Returns  T-Value_1  FF3 Alpha  T-Value_2  \\\n",
      "0                Accruals             1.86       1.38       1.58       1.56   \n",
      "1            AnalystValue             3.30       0.85       0.20       0.11   \n",
      "2             AssetGrowth             2.22       0.93      -1.12      -0.86   \n",
      "3                      BM             3.23       1.07      -2.20      -1.78   \n",
      "4                   BPEBM             2.52       1.57      -0.74      -0.55   \n",
      "5            BookLeverage            -2.14      -1.10      -3.18      -1.77   \n",
      "6              CBOperProf             3.50       2.12       3.76       2.74   \n",
      "7                      CF             2.64       0.95      -0.54      -0.26   \n",
      "8         ChAssetTurnover            -0.55      -0.60      -2.22      -2.76   \n",
      "9                   ChNWC            -1.46      -1.65      -3.32      -2.44   \n",
      "10             CompEquIss             2.83       1.32       2.78       2.04   \n",
      "11  CompositeDebtIssuance             0.48       0.28      -1.35      -0.67   \n",
      "12                    EBM             0.22       0.08      -5.66      -4.94   \n",
      "13                     EP             3.71       1.44      -0.96      -0.80   \n",
      "14       EarningsSurprise             1.41       1.47       0.06       0.09   \n",
      "15                     GP             4.73       2.24       4.53       2.06   \n",
      "16                   Herf            -1.42      -1.04      -3.24      -2.80   \n",
      "17              InvGrowth             0.21       0.09      -2.74      -1.41   \n",
      "18                    NOA             3.51       1.93       0.08       0.04   \n",
      "19               OperProf             3.53       1.37       4.43       2.43   \n",
      "20                     PS             6.42       1.85      -0.62      -0.28   \n",
      "21              RDAbility             1.89       0.60      -2.88      -0.99   \n",
      "22                    RoE             3.05       1.55       2.07       1.21   \n",
      "23                     SP             3.55       1.09      -1.88      -1.33   \n",
      "24             ShareIss1Y             3.50       1.51       2.05       1.40   \n",
      "25             ShareIss5Y             3.69       2.89       2.69       1.86   \n",
      "26                   Size             0.97       0.21      -5.74      -2.83   \n",
      "27                   XFIN             4.49       1.51       3.32       2.24   \n",
      "28                    cfp             3.99       1.18       3.30       2.31   \n",
      "29                   roaq             5.61       1.81       8.12       5.19   \n",
      "\n",
      "    FF5 Alpha  T-Value  \n",
      "0        1.33     0.99  \n",
      "1       -1.68    -0.71  \n",
      "2       -0.42    -0.31  \n",
      "3       -0.15    -0.11  \n",
      "4       -2.42    -1.14  \n",
      "5       -2.42    -1.66  \n",
      "6       -0.68    -0.35  \n",
      "7       -2.20    -1.08  \n",
      "8       -0.62    -0.66  \n",
      "9       -4.43    -2.74  \n",
      "10       3.14     1.86  \n",
      "11       0.19     0.08  \n",
      "12      -4.71    -2.88  \n",
      "13      -2.18    -1.47  \n",
      "14      -0.60    -0.78  \n",
      "15      -0.49    -0.16  \n",
      "16      -2.92    -2.59  \n",
      "17      -5.99    -2.39  \n",
      "18      -0.56    -0.22  \n",
      "19      -1.77    -1.14  \n",
      "20      -2.20    -0.62  \n",
      "21      -6.65    -1.98  \n",
      "22      -3.44    -1.90  \n",
      "23      -0.40    -0.32  \n",
      "24      -3.09    -2.23  \n",
      "25       0.55     0.27  \n",
      "26      -7.05    -2.46  \n",
      "27      -1.05    -0.44  \n",
      "28       0.88     0.49  \n",
      "29       2.22     1.46  \n",
      "\n",
      "Return factors (monthly rebalancing):\n",
      "                  Factor  Average Returns  T-Value_1  FF3 Alpha  T-Value_2  \\\n",
      "0                   Beta            -0.13      -0.35      -0.76      -3.40   \n",
      "1        BetaLiquidityPS             0.09       0.81      -0.04      -0.34   \n",
      "2            CPVolSpread             0.31       3.82       0.22       2.04   \n",
      "3             Coskewness             0.21       1.71      -0.03      -0.25   \n",
      "4       CustomerMomentum             0.10       0.41      -0.04      -0.14   \n",
      "5                 DolVol             0.04       0.28      -0.02      -0.14   \n",
      "6                FirmAge             0.03       0.14      -0.26      -1.91   \n",
      "7               Frontier             0.23       0.95      -0.15      -0.88   \n",
      "8                 High52             0.10       0.38       0.30       1.81   \n",
      "9              IdioVol3F             0.40       0.99       0.62       2.85   \n",
      "10           Illiquidity             0.10       0.82      -0.04      -0.48   \n",
      "11                IntMom            -0.14      -0.44      -0.08      -0.27   \n",
      "12            LRreversal             0.15       0.53      -0.23      -1.14   \n",
      "13                MaxRet             0.43       1.09       0.67       3.28   \n",
      "14                Mom12m             0.02       0.07       0.22       0.83   \n",
      "15                 Mom6m             0.24       0.93       0.28       1.22   \n",
      "16             Mom6mJunk             0.20       0.90       0.25       1.19   \n",
      "17          MomOffSeason            -0.03      -0.11      -0.28      -1.74   \n",
      "18  MomOffSeason06YrPlus             0.60       4.04       0.54       4.18   \n",
      "19  MomOffSeason11YrPlus             0.16       1.20       0.02       0.15   \n",
      "20  MomOffSeason16YrPlus             0.08       0.71       0.03       0.23   \n",
      "21             MomSeason            -0.09      -0.57      -0.20      -1.37   \n",
      "22     MomSeason06YrPlus             0.31       2.10       0.17       1.21   \n",
      "23     MomSeason11YrPlus             0.08       0.74      -0.05      -0.45   \n",
      "24     MomSeason16YrPlus             0.14       1.21      -0.00      -0.01   \n",
      "25        MomSeasonShort            -0.01      -0.09      -0.09      -0.53   \n",
      "26           RIVolSpread             0.39       2.39       0.31       2.17   \n",
      "27      ResidualMomentum             0.12       0.93       0.05       0.44   \n",
      "28            STreversal             0.10       0.51      -0.24      -1.10   \n",
      "29                VolMkt             0.09       0.42       0.17       1.51   \n",
      "30                 VolSD             0.22       2.46       0.18       2.53   \n",
      "31              std_turn            -0.31      -0.88       0.24       1.36   \n",
      "\n",
      "    FF5 Alpha  T-Value  \n",
      "0       -0.14    -0.71  \n",
      "1       -0.07    -0.55  \n",
      "2        0.21     1.87  \n",
      "3        0.13     1.10  \n",
      "4        0.09     0.30  \n",
      "5       -0.00    -0.02  \n",
      "6       -0.13    -1.13  \n",
      "7        0.02     0.12  \n",
      "8       -0.07    -0.34  \n",
      "9        0.07     0.36  \n",
      "10      -0.05    -0.60  \n",
      "11      -0.19    -0.67  \n",
      "12      -0.11    -0.55  \n",
      "13       0.12     0.87  \n",
      "14      -0.11    -0.34  \n",
      "15      -0.02    -0.06  \n",
      "16      -0.00    -0.01  \n",
      "17      -0.24    -1.34  \n",
      "18       0.50     3.67  \n",
      "19       0.11     0.67  \n",
      "20       0.00     0.03  \n",
      "21      -0.22    -1.45  \n",
      "22       0.27     1.49  \n",
      "23      -0.01    -0.06  \n",
      "24       0.04     0.36  \n",
      "25      -0.19    -1.16  \n",
      "26       0.22     1.45  \n",
      "27      -0.06    -0.50  \n",
      "28      -0.07    -0.32  \n",
      "29      -0.19    -1.66  \n",
      "30       0.12     1.63  \n",
      "31       0.09     0.50  \n"
     ]
    }
   ],
   "source": [
    "# combine the results of accounting_results_1, accounting_results_2, accounting_results_3 according to the factor\n",
    "accounting_results_all = accounting_results_1.merge(accounting_results_2, on='Factor', suffixes=('_1', '_2')).merge(accounting_results_3, on='Factor', suffixes=('', '_3'))\n",
    "\n",
    "# combine the results of return_results_1, return_results_2, return_results_3\n",
    "return_results_all = return_results_1.merge(return_results_2, on='Factor', suffixes=('_1', '_2')).merge(return_results_3, on='Factor', suffixes=('', '_3'))\n",
    "\n",
    "# display the results\n",
    "print(\"\\nAccounting factors (annual rebalancing):\")\n",
    "print(accounting_results_all)\n",
    "\n",
    "print(\"\\nReturn factors (monthly rebalancing):\")\n",
    "print(return_results_all)"
   ],
   "metadata": {
    "collapsed": false,
    "ExecuteTime": {
     "end_time": "2025-03-16T08:54:55.851597Z",
     "start_time": "2025-03-16T08:54:55.818896Z"
    }
   }
  },
  {
   "cell_type": "code",
   "execution_count": 38,
   "outputs": [],
   "source": [
    "# save the results\n",
    "accounting_results_all.to_csv('accounting_factors_annual_all_2000_2023.csv', index=False)\n",
    "return_results_all.to_csv('return_factors_monthly_all_2000_2023.csv', index=False)"
   ],
   "metadata": {
    "collapsed": false,
    "ExecuteTime": {
     "end_time": "2025-03-16T08:55:03.024042Z",
     "start_time": "2025-03-16T08:55:02.950157Z"
    }
   }
  },
  {
   "cell_type": "markdown",
   "source": [
    "## 4. Regression in the 2000-2016 'sample' time period"
   ],
   "metadata": {
    "collapsed": false
   }
  },
  {
   "cell_type": "markdown",
   "source": [
    "* In this section, calculations and regression studies will be conducted for the timeline 2000-2016.\n",
    "* The calculation steps are the same as the previous section, and the results are output."
   ],
   "metadata": {
    "collapsed": false
   }
  },
  {
   "cell_type": "markdown",
   "source": [
    "### 4.1 Preliminary analysis"
   ],
   "metadata": {
    "collapsed": false
   }
  },
  {
   "cell_type": "code",
   "execution_count": 39,
   "outputs": [
    {
     "name": "stdout",
     "output_type": "stream",
     "text": [
      "\n",
      "Accounting factors (annual rebalancing):\n",
      "                   Factor  Average Returns  T-Value\n",
      "0                Accruals             1.37     0.75\n",
      "1            AnalystValue             5.24     1.35\n",
      "2             AssetGrowth             4.60     1.90\n",
      "3                      BM             5.51     1.82\n",
      "4                   BPEBM             0.47     0.38\n",
      "5            BookLeverage            -2.38    -0.90\n",
      "6              CBOperProf             1.28     0.76\n",
      "7                      CF             5.53     2.49\n",
      "8         ChAssetTurnover            -0.21    -0.21\n",
      "9                   ChNWC            -2.01    -2.86\n",
      "10             CompEquIss             1.75     0.66\n",
      "11  CompositeDebtIssuance             3.45     3.15\n",
      "12                    EBM             2.58     0.82\n",
      "13                     EP             4.98     1.60\n",
      "14       EarningsSurprise             1.62     1.26\n",
      "15                     GP             1.02     0.55\n",
      "16                   Herf            -2.57    -2.54\n",
      "17              InvGrowth             0.78     0.37\n",
      "18                    NOA             2.26     0.96\n",
      "19               OperProf             2.39     0.69\n",
      "20                     PS             8.39     1.82\n",
      "21              RDAbility            -1.09    -0.37\n",
      "22                    RoE             2.96     1.15\n",
      "23                     SP             7.25     2.62\n",
      "24             ShareIss1Y             4.23     1.62\n",
      "25             ShareIss5Y             2.82     2.01\n",
      "26                   Size             4.64     0.83\n",
      "27                   XFIN             5.33     1.61\n",
      "28                    cfp             5.91     1.77\n",
      "29                   roaq             4.43     1.14\n",
      "\n",
      "Return factors (monthly rebalancing):\n",
      "                  Factor  Average Returns  T-Value\n",
      "0                   Beta            -0.32    -0.70\n",
      "1        BetaLiquidityPS             0.25     1.77\n",
      "2            CPVolSpread             0.40     4.78\n",
      "3             Coskewness             0.04     0.30\n",
      "4       CustomerMomentum             0.09     0.29\n",
      "5                 DolVol             0.27     1.43\n",
      "6                FirmAge             0.09     0.53\n",
      "7               Frontier             0.54     2.08\n",
      "8                 High52             0.18     0.54\n",
      "9              IdioVol3F             0.46     0.89\n",
      "10           Illiquidity             0.30     2.39\n",
      "11                IntMom             0.05     0.13\n",
      "12            LRreversal             0.17     0.54\n",
      "13                MaxRet             0.59     1.17\n",
      "14                Mom12m             0.02     0.06\n",
      "15                 Mom6m             0.10     0.32\n",
      "16             Mom6mJunk             0.08     0.28\n",
      "17          MomOffSeason             0.04     0.15\n",
      "18  MomOffSeason06YrPlus             0.77     4.73\n",
      "19  MomOffSeason11YrPlus             0.38     2.92\n",
      "20  MomOffSeason16YrPlus             0.16     1.20\n",
      "21             MomSeason            -0.09    -0.56\n",
      "22     MomSeason06YrPlus             0.41     2.34\n",
      "23     MomSeason11YrPlus             0.17     1.49\n",
      "24     MomSeason16YrPlus             0.10     0.66\n",
      "25        MomSeasonShort             0.06     0.27\n",
      "26           RIVolSpread             0.42     2.33\n",
      "27      ResidualMomentum             0.24     1.52\n",
      "28            STreversal             0.18     0.71\n",
      "29                VolMkt             0.25     1.01\n",
      "30                 VolSD             0.32     2.82\n",
      "31              std_turn            -0.29    -0.70\n"
     ]
    }
   ],
   "source": [
    "# Read the merged data\n",
    "sample_data = pd.read_csv('data/merged_data_with_ff3_2.csv')\n",
    "# Divide by 100\n",
    "port_columns_1 = ['port01', 'port02', 'port03', 'port04', 'port05']\n",
    "sample_data[port_columns_1] = sample_data[port_columns_1] / 100\n",
    "# only retain columns that are needed\n",
    "sample_data = sample_data[['date', 'predictor'] + port_columns_1]\n",
    "\n",
    "# Separate accounting and return data\n",
    "accounting_data_4 = sample_data[sample_data['predictor'].isin(accounting_factors)]\n",
    "return_data_4 = sample_data[sample_data['predictor'].isin(return_factors)]\n",
    "# Resample accounting data annually\n",
    "accounting_data_resampled_4 = resample_and_calculate(accounting_data_4, 'YE')\n",
    "\n",
    "# Resample return data monthly\n",
    "return_data_resampled_4 = resample_and_calculate(return_data_4, 'ME')\n",
    "\n",
    "# Calculate dynamic factor return\n",
    "accounting_data_resampled_4['factor_return'] = accounting_data_resampled_4.apply(calculate_dynamic_factor_return, axis=1)\n",
    "return_data_resampled_4['factor_return'] = return_data_resampled_4.apply(calculate_dynamic_factor_return, axis=1)\n",
    "\n",
    "# Calculate stats for accounting data\n",
    "accounting_results_4 = calculate_newey_west_t_value(accounting_data_resampled_4, max_lag=1)\n",
    "\n",
    "# Calculate stats for return data\n",
    "return_results_4 = calculate_newey_west_t_value(return_data_resampled_4, max_lag=12)\n",
    "\n",
    "# Display results\n",
    "print(\"\\nAccounting factors (annual rebalancing):\")\n",
    "print(accounting_results_4)\n",
    "\n",
    "print(\"\\nReturn factors (monthly rebalancing):\")\n",
    "print(return_results_4)"
   ],
   "metadata": {
    "collapsed": false,
    "ExecuteTime": {
     "end_time": "2025-03-16T08:55:35.223660Z",
     "start_time": "2025-03-16T08:55:15.827373Z"
    }
   }
  },
  {
   "cell_type": "markdown",
   "source": [
    "### 4.2 Regression 1 - FF3"
   ],
   "metadata": {
    "collapsed": false
   }
  },
  {
   "cell_type": "code",
   "execution_count": 40,
   "outputs": [],
   "source": [
    "# read the merged data\n",
    "sample_data_2 = pd.read_csv('data/merged_data_with_ff3_2.csv')\n",
    "# divide by 100\n",
    "port_columns = ['port01', 'port02', 'port03', 'port04', 'port05', 'Mkt-RF', 'SMB', 'HML', 'RF']\n",
    "sample_data_2[port_columns] = sample_data_2[port_columns] / 100\n",
    "# only retain columns that are needed\n",
    "sample_data_2 = sample_data_2[['date', 'predictor'] + port_columns]\n",
    "\n",
    "# Separate accounting and return data\n",
    "accounting_data_5 = sample_data_2[sample_data_2['predictor'].isin(accounting_factors)]\n",
    "return_data_5 = sample_data_2[sample_data_2['predictor'].isin(return_factors)]"
   ],
   "metadata": {
    "collapsed": false,
    "ExecuteTime": {
     "end_time": "2025-03-16T08:55:51.697233Z",
     "start_time": "2025-03-16T08:55:50.636963Z"
    }
   }
  },
  {
   "cell_type": "code",
   "execution_count": 41,
   "outputs": [
    {
     "name": "stdout",
     "output_type": "stream",
     "text": [
      "\n",
      "Accounting factors (annual rebalancing):\n",
      "                   Factor  FF3 Alpha  T-Value\n",
      "0                Accruals       2.03     1.65\n",
      "1            AnalystValue       1.35     0.67\n",
      "2             AssetGrowth      -0.57    -0.44\n",
      "3                      BM      -1.12    -0.69\n",
      "4                   BPEBM      -2.14    -1.18\n",
      "5            BookLeverage      -1.36    -0.77\n",
      "6              CBOperProf       2.48     2.79\n",
      "7                      CF       2.54     1.38\n",
      "8         ChAssetTurnover      -2.24    -2.68\n",
      "9                   ChNWC      -3.12    -2.36\n",
      "10             CompEquIss       4.56     3.65\n",
      "11  CompositeDebtIssuance       2.64     2.29\n",
      "12                    EBM      -5.11    -3.80\n",
      "13                     EP      -1.17    -0.70\n",
      "14       EarningsSurprise      -0.30    -0.41\n",
      "15                     GP       1.84     0.60\n",
      "16                   Herf      -4.57    -4.04\n",
      "17              InvGrowth      -2.82    -1.70\n",
      "18                    NOA      -2.38    -0.84\n",
      "19               OperProf       3.96     1.88\n",
      "20                     PS       1.00     0.34\n",
      "21              RDAbility      -6.37    -3.70\n",
      "22                    RoE       2.25     1.13\n",
      "23                     SP       0.29     0.40\n",
      "24             ShareIss1Y       2.39     1.33\n",
      "25             ShareIss5Y       1.82     0.86\n",
      "26                   Size      -4.51    -1.87\n",
      "27                   XFIN       4.03     2.34\n",
      "28                    cfp       4.83     3.03\n",
      "29                   roaq       8.12     3.75\n",
      "\n",
      "Return factors (monthly rebalancing):\n",
      "                  Factor  FF3 Alpha  T-Value\n",
      "0                   Beta      -0.72    -2.86\n",
      "1        BetaLiquidityPS       0.19     1.70\n",
      "2            CPVolSpread       0.40     3.44\n",
      "3             Coskewness      -0.12    -0.89\n",
      "4       CustomerMomentum      -0.06    -0.20\n",
      "5                 DolVol       0.12     0.65\n",
      "6                FirmAge      -0.15    -1.17\n",
      "7               Frontier       0.03     0.18\n",
      "8                 High52       0.23     1.09\n",
      "9              IdioVol3F       0.53     2.11\n",
      "10           Illiquidity       0.11     1.13\n",
      "11                IntMom       0.20     0.69\n",
      "12            LRreversal      -0.34    -1.38\n",
      "13                MaxRet       0.70     3.38\n",
      "14                Mom12m       0.13     0.38\n",
      "15                 Mom6m      -0.05    -0.18\n",
      "16             Mom6mJunk       0.01     0.05\n",
      "17          MomOffSeason      -0.34    -1.96\n",
      "18  MomOffSeason06YrPlus       0.69     4.34\n",
      "19  MomOffSeason11YrPlus       0.31     2.39\n",
      "20  MomOffSeason16YrPlus       0.12     0.80\n",
      "21             MomSeason      -0.16    -1.10\n",
      "22     MomSeason06YrPlus       0.25     1.50\n",
      "23     MomSeason11YrPlus       0.06     0.47\n",
      "24     MomSeason16YrPlus      -0.01    -0.03\n",
      "25        MomSeasonShort       0.06     0.32\n",
      "26           RIVolSpread       0.26     1.69\n",
      "27      ResidualMomentum       0.15     1.04\n",
      "28            STreversal      -0.08    -0.30\n",
      "29                VolMkt       0.17     1.17\n",
      "30                 VolSD       0.23     2.54\n",
      "31              std_turn       0.32     1.53\n"
     ]
    }
   ],
   "source": [
    "# Resample accounting data annually\n",
    "accounting_data_resampled_5 = resample_and_calculate(accounting_data_5, 'YE')\n",
    "\n",
    "# Resample return data monthly\n",
    "return_data_resampled_5 = resample_and_calculate(return_data_5, 'ME')\n",
    "\n",
    "# Calculate dynamic factor return\n",
    "accounting_data_resampled_5['factor_return'] = accounting_data_resampled_5.apply(calculate_dynamic_factor_return, axis=1)\n",
    "return_data_resampled_5['factor_return'] = return_data_resampled_5.apply(calculate_dynamic_factor_return, axis=1)\n",
    "\n",
    "# Calculate alpha and t-values for accounting data\n",
    "accounting_results_5 = calculate_ff3_alpha_and_tvalues(accounting_data_resampled_5, max_lag=1)\n",
    "# Calculate stats for return data\n",
    "return_results_5 = calculate_ff3_alpha_and_tvalues(return_data_resampled_5, max_lag=12)\n",
    "\n",
    "# Display results\n",
    "print(\"\\nAccounting factors (annual rebalancing):\")\n",
    "print(accounting_results_5)\n",
    "\n",
    "print(\"\\nReturn factors (monthly rebalancing):\")\n",
    "print(return_results_5)"
   ],
   "metadata": {
    "collapsed": false,
    "ExecuteTime": {
     "end_time": "2025-03-16T08:56:17.727227Z",
     "start_time": "2025-03-16T08:55:53.377873Z"
    }
   }
  },
  {
   "cell_type": "markdown",
   "source": [
    "### 4.3 Regression 2 - FF5"
   ],
   "metadata": {
    "collapsed": false
   }
  },
  {
   "cell_type": "code",
   "execution_count": 42,
   "outputs": [],
   "source": [
    "# read the merged data\n",
    "sample_data_3 = pd.read_csv('data/merged_data_with_ff5_2.csv')\n",
    "# divide by 100\n",
    "port_columns = ['port01', 'port02', 'port03', 'port04', 'port05', 'Mkt-RF', 'SMB', 'HML', 'RMW', 'CMA', 'RF']\n",
    "sample_data_3[port_columns] = sample_data_3[port_columns] / 100\n",
    "# only retain columns that are needed\n",
    "sample_data_3 = sample_data_3[['date', 'predictor'] + port_columns]\n",
    "\n",
    "# Separate accounting and return data\n",
    "accounting_data_6 = sample_data_3[sample_data_3['predictor'].isin(accounting_factors)]\n",
    "return_data_6 = sample_data_3[sample_data_3['predictor'].isin(return_factors)]"
   ],
   "metadata": {
    "collapsed": false,
    "ExecuteTime": {
     "end_time": "2025-03-16T08:56:30.337048Z",
     "start_time": "2025-03-16T08:56:29.287329Z"
    }
   }
  },
  {
   "cell_type": "code",
   "execution_count": 43,
   "outputs": [
    {
     "name": "stdout",
     "output_type": "stream",
     "text": [
      "\n",
      "Accounting factors (annual rebalancing) - FF5:\n",
      "                   Factor  FF5 Alpha  T-Value\n",
      "0                Accruals       1.34     0.69\n",
      "1            AnalystValue      -1.48    -0.67\n",
      "2             AssetGrowth       2.50     1.47\n",
      "3                      BM       2.14     1.34\n",
      "4                   BPEBM       0.33     0.10\n",
      "5            BookLeverage      -0.42    -0.15\n",
      "6              CBOperProf       1.57     1.21\n",
      "7                      CF      -0.59    -0.22\n",
      "8         ChAssetTurnover      -1.26    -1.12\n",
      "9                   ChNWC      -4.61    -2.57\n",
      "10             CompEquIss       5.54     5.08\n",
      "11  CompositeDebtIssuance       4.17     1.93\n",
      "12                    EBM      -2.42    -1.10\n",
      "13                     EP      -2.15    -0.73\n",
      "14       EarningsSurprise       1.43     1.04\n",
      "15                     GP       0.86     0.19\n",
      "16                   Herf      -1.30    -0.71\n",
      "17              InvGrowth      -1.19    -0.42\n",
      "18                    NOA      -1.06    -0.22\n",
      "19               OperProf      -2.63    -1.18\n",
      "20                     PS     -13.22    -2.04\n",
      "21              RDAbility     -10.59    -4.06\n",
      "22                    RoE      -5.56    -2.57\n",
      "23                     SP      -0.21    -0.27\n",
      "24             ShareIss1Y      -4.45    -2.63\n",
      "25             ShareIss5Y      -2.29    -0.86\n",
      "26                   Size      -3.49    -0.63\n",
      "27                   XFIN      -0.20    -0.07\n",
      "28                    cfp      -0.10    -0.04\n",
      "29                   roaq      -0.12    -0.05\n",
      "\n",
      "Return factors (monthly rebalancing) - FF5:\n",
      "                  Factor  FF5 Alpha  T-Value\n",
      "0                   Beta      -0.11    -0.46\n",
      "1        BetaLiquidityPS       0.10     0.82\n",
      "2            CPVolSpread       0.37     3.08\n",
      "3             Coskewness       0.06     0.42\n",
      "4       CustomerMomentum       0.10     0.28\n",
      "5                 DolVol       0.13     0.75\n",
      "6                FirmAge      -0.08    -0.67\n",
      "7               Frontier       0.25     1.56\n",
      "8                 High52      -0.16    -0.61\n",
      "9              IdioVol3F      -0.10    -0.41\n",
      "10           Illiquidity       0.07     0.66\n",
      "11                IntMom       0.08     0.28\n",
      "12            LRreversal      -0.15    -0.72\n",
      "13                MaxRet       0.09     0.55\n",
      "14                Mom12m      -0.25    -0.63\n",
      "15                 Mom6m      -0.34    -0.99\n",
      "16             Mom6mJunk      -0.28    -0.82\n",
      "17          MomOffSeason      -0.24    -1.31\n",
      "18  MomOffSeason06YrPlus       0.63     4.07\n",
      "19  MomOffSeason11YrPlus       0.35     2.18\n",
      "20  MomOffSeason16YrPlus       0.05     0.38\n",
      "21             MomSeason      -0.08    -0.53\n",
      "22     MomSeason06YrPlus       0.40     1.89\n",
      "23     MomSeason11YrPlus       0.14     1.02\n",
      "24     MomSeason16YrPlus       0.10     0.57\n",
      "25        MomSeasonShort      -0.06    -0.28\n",
      "26           RIVolSpread       0.12     0.68\n",
      "27      ResidualMomentum       0.04     0.29\n",
      "28            STreversal       0.04     0.14\n",
      "29                VolMkt      -0.17    -1.17\n",
      "30                 VolSD       0.21     2.24\n",
      "31              std_turn       0.20     1.02\n"
     ]
    }
   ],
   "source": [
    "# Resample accounting data annually\n",
    "accounting_data_resampled_6 = resample_and_calculate(accounting_data_6, 'YE')\n",
    "\n",
    "# Resample return data monthly\n",
    "return_data_resampled_6 = resample_and_calculate(return_data_6, 'ME')\n",
    "\n",
    "# Calculate dynamic factor return\n",
    "accounting_data_resampled_6['factor_return'] = accounting_data_resampled_6.apply(calculate_dynamic_factor_return, axis=1)\n",
    "return_data_resampled_6['factor_return'] = return_data_resampled_6.apply(calculate_dynamic_factor_return, axis=1)\n",
    "\n",
    "# Calculate alpha and t-values for accounting data for FF5\n",
    "accounting_results_6 = calculate_ff5_alpha_and_tvalues(accounting_data_resampled_6, max_lag=1)\n",
    "# Calculate stats for return data for FF5\n",
    "return_results_6 = calculate_ff5_alpha_and_tvalues(return_data_resampled_6, max_lag=12)\n",
    "\n",
    "# Display results for FF5\n",
    "print(\"\\nAccounting factors (annual rebalancing) - FF5:\")\n",
    "print(accounting_results_6)\n",
    "\n",
    "print(\"\\nReturn factors (monthly rebalancing) - FF5:\")\n",
    "print(return_results_6)"
   ],
   "metadata": {
    "collapsed": false,
    "ExecuteTime": {
     "end_time": "2025-03-16T08:56:59.979116Z",
     "start_time": "2025-03-16T08:56:33.676506Z"
    }
   }
  },
  {
   "cell_type": "markdown",
   "source": [
    "### 4.4 Combine all the regressions"
   ],
   "metadata": {
    "collapsed": false
   }
  },
  {
   "cell_type": "code",
   "execution_count": 44,
   "outputs": [
    {
     "name": "stdout",
     "output_type": "stream",
     "text": [
      "\n",
      "Accounting factors (annual rebalancing):\n",
      "                   Factor  Average Returns  T-Value_1  FF3 Alpha  T-Value_2  \\\n",
      "0                Accruals             1.37       0.75       2.03       1.65   \n",
      "1            AnalystValue             5.24       1.35       1.35       0.67   \n",
      "2             AssetGrowth             4.60       1.90      -0.57      -0.44   \n",
      "3                      BM             5.51       1.82      -1.12      -0.69   \n",
      "4                   BPEBM             0.47       0.38      -2.14      -1.18   \n",
      "5            BookLeverage            -2.38      -0.90      -1.36      -0.77   \n",
      "6              CBOperProf             1.28       0.76       2.48       2.79   \n",
      "7                      CF             5.53       2.49       2.54       1.38   \n",
      "8         ChAssetTurnover            -0.21      -0.21      -2.24      -2.68   \n",
      "9                   ChNWC            -2.01      -2.86      -3.12      -2.36   \n",
      "10             CompEquIss             1.75       0.66       4.56       3.65   \n",
      "11  CompositeDebtIssuance             3.45       3.15       2.64       2.29   \n",
      "12                    EBM             2.58       0.82      -5.11      -3.80   \n",
      "13                     EP             4.98       1.60      -1.17      -0.70   \n",
      "14       EarningsSurprise             1.62       1.26      -0.30      -0.41   \n",
      "15                     GP             1.02       0.55       1.84       0.60   \n",
      "16                   Herf            -2.57      -2.54      -4.57      -4.04   \n",
      "17              InvGrowth             0.78       0.37      -2.82      -1.70   \n",
      "18                    NOA             2.26       0.96      -2.38      -0.84   \n",
      "19               OperProf             2.39       0.69       3.96       1.88   \n",
      "20                     PS             8.39       1.82       1.00       0.34   \n",
      "21              RDAbility            -1.09      -0.37      -6.37      -3.70   \n",
      "22                    RoE             2.96       1.15       2.25       1.13   \n",
      "23                     SP             7.25       2.62       0.29       0.40   \n",
      "24             ShareIss1Y             4.23       1.62       2.39       1.33   \n",
      "25             ShareIss5Y             2.82       2.01       1.82       0.86   \n",
      "26                   Size             4.64       0.83      -4.51      -1.87   \n",
      "27                   XFIN             5.33       1.61       4.03       2.34   \n",
      "28                    cfp             5.91       1.77       4.83       3.03   \n",
      "29                   roaq             4.43       1.14       8.12       3.75   \n",
      "\n",
      "    FF5 Alpha  T-Value  \n",
      "0        1.34     0.69  \n",
      "1       -1.48    -0.67  \n",
      "2        2.50     1.47  \n",
      "3        2.14     1.34  \n",
      "4        0.33     0.10  \n",
      "5       -0.42    -0.15  \n",
      "6        1.57     1.21  \n",
      "7       -0.59    -0.22  \n",
      "8       -1.26    -1.12  \n",
      "9       -4.61    -2.57  \n",
      "10       5.54     5.08  \n",
      "11       4.17     1.93  \n",
      "12      -2.42    -1.10  \n",
      "13      -2.15    -0.73  \n",
      "14       1.43     1.04  \n",
      "15       0.86     0.19  \n",
      "16      -1.30    -0.71  \n",
      "17      -1.19    -0.42  \n",
      "18      -1.06    -0.22  \n",
      "19      -2.63    -1.18  \n",
      "20     -13.22    -2.04  \n",
      "21     -10.59    -4.06  \n",
      "22      -5.56    -2.57  \n",
      "23      -0.21    -0.27  \n",
      "24      -4.45    -2.63  \n",
      "25      -2.29    -0.86  \n",
      "26      -3.49    -0.63  \n",
      "27      -0.20    -0.07  \n",
      "28      -0.10    -0.04  \n",
      "29      -0.12    -0.05  \n",
      "\n",
      "Return factors (monthly rebalancing):\n",
      "                  Factor  Average Returns  T-Value_1  FF3 Alpha  T-Value_2  \\\n",
      "0                   Beta            -0.32      -0.70      -0.72      -2.86   \n",
      "1        BetaLiquidityPS             0.25       1.77       0.19       1.70   \n",
      "2            CPVolSpread             0.40       4.78       0.40       3.44   \n",
      "3             Coskewness             0.04       0.30      -0.12      -0.89   \n",
      "4       CustomerMomentum             0.09       0.29      -0.06      -0.20   \n",
      "5                 DolVol             0.27       1.43       0.12       0.65   \n",
      "6                FirmAge             0.09       0.53      -0.15      -1.17   \n",
      "7               Frontier             0.54       2.08       0.03       0.18   \n",
      "8                 High52             0.18       0.54       0.23       1.09   \n",
      "9              IdioVol3F             0.46       0.89       0.53       2.11   \n",
      "10           Illiquidity             0.30       2.39       0.11       1.13   \n",
      "11                IntMom             0.05       0.13       0.20       0.69   \n",
      "12            LRreversal             0.17       0.54      -0.34      -1.38   \n",
      "13                MaxRet             0.59       1.17       0.70       3.38   \n",
      "14                Mom12m             0.02       0.06       0.13       0.38   \n",
      "15                 Mom6m             0.10       0.32      -0.05      -0.18   \n",
      "16             Mom6mJunk             0.08       0.28       0.01       0.05   \n",
      "17          MomOffSeason             0.04       0.15      -0.34      -1.96   \n",
      "18  MomOffSeason06YrPlus             0.77       4.73       0.69       4.34   \n",
      "19  MomOffSeason11YrPlus             0.38       2.92       0.31       2.39   \n",
      "20  MomOffSeason16YrPlus             0.16       1.20       0.12       0.80   \n",
      "21             MomSeason            -0.09      -0.56      -0.16      -1.10   \n",
      "22     MomSeason06YrPlus             0.41       2.34       0.25       1.50   \n",
      "23     MomSeason11YrPlus             0.17       1.49       0.06       0.47   \n",
      "24     MomSeason16YrPlus             0.10       0.66      -0.01      -0.03   \n",
      "25        MomSeasonShort             0.06       0.27       0.06       0.32   \n",
      "26           RIVolSpread             0.42       2.33       0.26       1.69   \n",
      "27      ResidualMomentum             0.24       1.52       0.15       1.04   \n",
      "28            STreversal             0.18       0.71      -0.08      -0.30   \n",
      "29                VolMkt             0.25       1.01       0.17       1.17   \n",
      "30                 VolSD             0.32       2.82       0.23       2.54   \n",
      "31              std_turn            -0.29      -0.70       0.32       1.53   \n",
      "\n",
      "    FF5 Alpha  T-Value  \n",
      "0       -0.11    -0.46  \n",
      "1        0.10     0.82  \n",
      "2        0.37     3.08  \n",
      "3        0.06     0.42  \n",
      "4        0.10     0.28  \n",
      "5        0.13     0.75  \n",
      "6       -0.08    -0.67  \n",
      "7        0.25     1.56  \n",
      "8       -0.16    -0.61  \n",
      "9       -0.10    -0.41  \n",
      "10       0.07     0.66  \n",
      "11       0.08     0.28  \n",
      "12      -0.15    -0.72  \n",
      "13       0.09     0.55  \n",
      "14      -0.25    -0.63  \n",
      "15      -0.34    -0.99  \n",
      "16      -0.28    -0.82  \n",
      "17      -0.24    -1.31  \n",
      "18       0.63     4.07  \n",
      "19       0.35     2.18  \n",
      "20       0.05     0.38  \n",
      "21      -0.08    -0.53  \n",
      "22       0.40     1.89  \n",
      "23       0.14     1.02  \n",
      "24       0.10     0.57  \n",
      "25      -0.06    -0.28  \n",
      "26       0.12     0.68  \n",
      "27       0.04     0.29  \n",
      "28       0.04     0.14  \n",
      "29      -0.17    -1.17  \n",
      "30       0.21     2.24  \n",
      "31       0.20     1.02  \n"
     ]
    }
   ],
   "source": [
    "# combine the results\n",
    "accounting_results_sample = accounting_results_4.merge(accounting_results_5, on='Factor', suffixes=('_1', '_2')).merge(accounting_results_6, on='Factor', suffixes=('', '_3'))\n",
    "\n",
    "# combine the results of return_results_1, return_results_2, return_results_3\n",
    "return_results_sample = return_results_4.merge(return_results_5, on='Factor', suffixes=('_1', '_2')).merge(return_results_6, on='Factor', suffixes=('', '_3'))\n",
    "\n",
    "# display the results\n",
    "print(\"\\nAccounting factors (annual rebalancing):\")\n",
    "print(accounting_results_sample)\n",
    "\n",
    "print(\"\\nReturn factors (monthly rebalancing):\")\n",
    "print(return_results_sample)"
   ],
   "metadata": {
    "collapsed": false,
    "ExecuteTime": {
     "end_time": "2025-03-16T08:57:06.534722Z",
     "start_time": "2025-03-16T08:57:06.466611Z"
    }
   }
  },
  {
   "cell_type": "code",
   "execution_count": 45,
   "outputs": [],
   "source": [
    "# save the results\n",
    "accounting_results_sample.to_csv('accounting_factors_annual_sample_2000_2016.csv', index=False)\n",
    "return_results_sample.to_csv('return_factors_monthly_sample_2000_2016.csv', index=False)"
   ],
   "metadata": {
    "collapsed": false,
    "ExecuteTime": {
     "end_time": "2025-03-16T08:57:12.799153Z",
     "start_time": "2025-03-16T08:57:12.769091Z"
    }
   }
  },
  {
   "cell_type": "markdown",
   "source": [
    "## 5. Regression in the 2017-2023 'post' time period"
   ],
   "metadata": {
    "collapsed": false
   }
  },
  {
   "cell_type": "markdown",
   "source": [
    "* In this section, calculations and regression studies will be conducted for the timeline 2017-2023.\n",
    "* The calculation steps are the same as the previous section, and the results are output."
   ],
   "metadata": {
    "collapsed": false
   }
  },
  {
   "cell_type": "markdown",
   "source": [
    "### 5.1 Preliminary analysis"
   ],
   "metadata": {
    "collapsed": false
   }
  },
  {
   "cell_type": "code",
   "execution_count": 46,
   "outputs": [
    {
     "name": "stdout",
     "output_type": "stream",
     "text": [
      "\n",
      "Accounting factors (annual rebalancing):\n",
      "                   Factor  Average Returns  T-Value\n",
      "0                Accruals             3.07     2.30\n",
      "1            AnalystValue            -1.40    -0.16\n",
      "2             AssetGrowth            -3.54    -0.68\n",
      "3                      BM            -2.30    -0.34\n",
      "4                   BPEBM             7.50     1.89\n",
      "5            BookLeverage            -1.57    -0.80\n",
      "6              CBOperProf             8.88     3.64\n",
      "7                      CF            -4.39    -0.65\n",
      "8         ChAssetTurnover            -1.37    -0.68\n",
      "9                   ChNWC            -0.11    -0.04\n",
      "10             CompEquIss             5.46     1.47\n",
      "11  CompositeDebtIssuance            -6.72    -2.14\n",
      "12                    EBM            -5.52    -1.10\n",
      "13                     EP             0.62     0.15\n",
      "14       EarningsSurprise             0.90     0.80\n",
      "15                     GP            13.75     5.13\n",
      "16                   Herf             1.37     0.37\n",
      "17              InvGrowth            -1.16    -0.20\n",
      "18                    NOA             6.56     4.02\n",
      "19               OperProf             6.29     3.12\n",
      "20                     PS             1.65     0.71\n",
      "21              RDAbility             9.13     1.50\n",
      "22                    RoE             3.25     1.41\n",
      "23                     SP            -5.44    -0.73\n",
      "24             ShareIss1Y             1.72     0.35\n",
      "25             ShareIss5Y             5.80     2.52\n",
      "26                   Size            -7.96    -1.32\n",
      "27                   XFIN             2.44     0.39\n",
      "28                    cfp            -0.68    -0.08\n",
      "29                   roaq             8.48     1.88\n",
      "\n",
      "Return factors (monthly rebalancing):\n",
      "                  Factor  Average Returns  T-Value\n",
      "0                   Beta             0.34     0.71\n",
      "1        BetaLiquidityPS            -0.28    -3.05\n",
      "2            CPVolSpread             0.05     0.31\n",
      "3             Coskewness             0.63     3.58\n",
      "4       CustomerMomentum             0.13     0.37\n",
      "5                 DolVol            -0.51    -3.08\n",
      "6                FirmAge            -0.13    -0.22\n",
      "7               Frontier            -0.53    -1.30\n",
      "8                 High52            -0.09    -0.22\n",
      "9              IdioVol3F             0.26     0.44\n",
      "10           Illiquidity            -0.40    -2.95\n",
      "11                IntMom            -0.61    -1.15\n",
      "12            LRreversal             0.10     0.17\n",
      "13                MaxRet             0.03     0.05\n",
      "14                Mom12m             0.02     0.04\n",
      "15                 Mom6m             0.59     1.35\n",
      "16             Mom6mJunk             0.47     2.25\n",
      "17          MomOffSeason            -0.18    -0.37\n",
      "18  MomOffSeason06YrPlus             0.20     0.70\n",
      "19  MomOffSeason11YrPlus            -0.38    -1.66\n",
      "20  MomOffSeason16YrPlus            -0.11    -0.62\n",
      "21             MomSeason            -0.09    -0.24\n",
      "22     MomSeason06YrPlus             0.07     0.32\n",
      "23     MomSeason11YrPlus            -0.16    -0.91\n",
      "24     MomSeason16YrPlus             0.24     1.58\n",
      "25        MomSeasonShort            -0.19    -0.89\n",
      "26           RIVolSpread             0.29     0.83\n",
      "27      ResidualMomentum            -0.18    -1.27\n",
      "28            STreversal            -0.07    -0.21\n",
      "29                VolMkt            -0.27    -0.60\n",
      "30                 VolSD            -0.02    -0.30\n",
      "31              std_turn            -0.35    -0.53\n"
     ]
    }
   ],
   "source": [
    "# Read the merged data\n",
    "post_data = pd.read_csv('data/merged_data_with_ff3_3.csv')\n",
    "# Divide by 100\n",
    "port_columns_1 = ['port01', 'port02', 'port03', 'port04', 'port05']\n",
    "post_data[port_columns_1] = post_data[port_columns_1] / 100\n",
    "# only retain columns that are needed\n",
    "post_data = post_data[['date', 'predictor'] + port_columns_1]\n",
    "\n",
    "# Separate accounting and return data\n",
    "accounting_data_7 = post_data[post_data['predictor'].isin(accounting_factors)]\n",
    "return_data_7 = post_data[post_data['predictor'].isin(return_factors)]\n",
    "# Resample accounting data annually\n",
    "accounting_data_resampled_7 = resample_and_calculate(accounting_data_7, 'YE')\n",
    "\n",
    "# Resample return data monthly\n",
    "return_data_resampled_7 = resample_and_calculate(return_data_7, 'ME')\n",
    "\n",
    "# Calculate dynamic factor return\n",
    "accounting_data_resampled_7['factor_return'] = accounting_data_resampled_7.apply(calculate_dynamic_factor_return, axis=1)\n",
    "return_data_resampled_7['factor_return'] = return_data_resampled_7.apply(calculate_dynamic_factor_return, axis=1)\n",
    "\n",
    "# Calculate stats for accounting data\n",
    "accounting_results_7 = calculate_newey_west_t_value(accounting_data_resampled_7, max_lag=1)\n",
    "\n",
    "# Calculate stats for return data\n",
    "return_results_7 = calculate_newey_west_t_value(return_data_resampled_7, max_lag=12)\n",
    "\n",
    "# Display results\n",
    "print(\"\\nAccounting factors (annual rebalancing):\")\n",
    "print(accounting_results_7)\n",
    "\n",
    "print(\"\\nReturn factors (monthly rebalancing):\")\n",
    "print(return_results_7)"
   ],
   "metadata": {
    "collapsed": false,
    "ExecuteTime": {
     "end_time": "2025-03-16T09:00:16.991906Z",
     "start_time": "2025-03-16T09:00:08.732043Z"
    }
   }
  },
  {
   "cell_type": "markdown",
   "source": [
    "### 5.2 Regression 1 - FF3"
   ],
   "metadata": {
    "collapsed": false
   }
  },
  {
   "cell_type": "code",
   "execution_count": 47,
   "outputs": [],
   "source": [
    "# read the merged data\n",
    "post_data_2 = pd.read_csv('data/merged_data_with_ff3_3.csv')\n",
    "# divide by 100\n",
    "port_columns = ['port01', 'port02', 'port03', 'port04', 'port05', 'Mkt-RF', 'SMB', 'HML', 'RF']\n",
    "post_data_2[port_columns] = post_data_2[port_columns] / 100\n",
    "# only retain columns that are needed\n",
    "post_data_2 = post_data_2[['date', 'predictor'] + port_columns]\n",
    "\n",
    "# Separate accounting and return data\n",
    "accounting_data_8 = post_data_2[post_data_2['predictor'].isin(accounting_factors)]\n",
    "return_data_8 = post_data_2[post_data_2['predictor'].isin(return_factors)]"
   ],
   "metadata": {
    "collapsed": false,
    "ExecuteTime": {
     "end_time": "2025-03-16T09:00:26.860137Z",
     "start_time": "2025-03-16T09:00:26.305506Z"
    }
   }
  },
  {
   "cell_type": "code",
   "execution_count": 48,
   "outputs": [
    {
     "name": "stdout",
     "output_type": "stream",
     "text": [
      "\n",
      "Accounting factors (annual rebalancing):\n",
      "                   Factor  FF3 Alpha  T-Value\n",
      "0                Accruals       2.29     1.34\n",
      "1            AnalystValue      -6.81    -2.86\n",
      "2             AssetGrowth       3.06     3.14\n",
      "3                      BM      -3.16    -8.96\n",
      "4                   BPEBM      -0.34    -0.16\n",
      "5            BookLeverage      -5.33   -22.75\n",
      "6              CBOperProf       2.71     0.86\n",
      "7                      CF     -10.23    -4.19\n",
      "8         ChAssetTurnover      -1.53    -1.77\n",
      "9                   ChNWC      -2.72    -1.00\n",
      "10             CompEquIss       2.02     0.87\n",
      "11  CompositeDebtIssuance      -7.34    -6.48\n",
      "12                    EBM      -7.82    -5.32\n",
      "13                     EP      -4.00    -6.75\n",
      "14       EarningsSurprise       1.94     3.17\n",
      "15                     GP       8.42     3.61\n",
      "16                   Herf       2.01     4.11\n",
      "17              InvGrowth       1.16     0.35\n",
      "18                    NOA       3.84    10.81\n",
      "19               OperProf       0.60     0.31\n",
      "20                     PS      -5.06    -6.30\n",
      "21              RDAbility       0.93     0.27\n",
      "22                    RoE      -4.44    -1.79\n",
      "23                     SP      -2.35    -2.05\n",
      "24             ShareIss1Y       0.45     0.15\n",
      "25             ShareIss5Y       3.75     3.65\n",
      "26                   Size      -4.27    -1.58\n",
      "27                   XFIN       2.43     0.88\n",
      "28                    cfp      -0.71    -0.35\n",
      "29                   roaq       5.62     3.60\n",
      "\n",
      "Return factors (monthly rebalancing):\n",
      "                  Factor  FF3 Alpha  T-Value\n",
      "0                   Beta      -0.10    -0.58\n",
      "1        BetaLiquidityPS      -0.46    -3.48\n",
      "2            CPVolSpread      -0.08    -0.41\n",
      "3             Coskewness       0.40     3.19\n",
      "4       CustomerMomentum       0.06     0.16\n",
      "5                 DolVol      -0.32    -1.97\n",
      "6                FirmAge      -0.54    -2.05\n",
      "7               Frontier      -0.36    -1.51\n",
      "8                 High52       0.11     0.36\n",
      "9              IdioVol3F       0.41     1.46\n",
      "10           Illiquidity      -0.38    -4.14\n",
      "11                IntMom      -0.69    -1.66\n",
      "12            LRreversal       0.29     0.94\n",
      "13                MaxRet       0.28     1.02\n",
      "14                Mom12m       0.12     0.26\n",
      "15                 Mom6m       0.67     1.47\n",
      "16             Mom6mJunk       0.41     1.46\n",
      "17          MomOffSeason      -0.07    -0.20\n",
      "18  MomOffSeason06YrPlus       0.29     1.33\n",
      "19  MomOffSeason11YrPlus      -0.41    -2.04\n",
      "20  MomOffSeason16YrPlus      -0.12    -0.88\n",
      "21             MomSeason      -0.53    -2.14\n",
      "22     MomSeason06YrPlus      -0.02    -0.10\n",
      "23     MomSeason11YrPlus      -0.27    -1.39\n",
      "24     MomSeason16YrPlus       0.04     0.32\n",
      "25        MomSeasonShort      -0.43    -1.60\n",
      "26           RIVolSpread       0.41     1.43\n",
      "27      ResidualMomentum      -0.32    -2.40\n",
      "28            STreversal      -0.46    -1.17\n",
      "29                VolMkt      -0.16    -0.68\n",
      "30                 VolSD      -0.11    -1.79\n",
      "31              std_turn      -0.19    -0.81\n"
     ]
    }
   ],
   "source": [
    "# Resample accounting data annually\n",
    "accounting_data_resampled_8 = resample_and_calculate(accounting_data_8, 'YE')\n",
    "\n",
    "# Resample return data monthly\n",
    "return_data_resampled_8 = resample_and_calculate(return_data_8, 'ME')\n",
    "\n",
    "# Calculate dynamic factor return\n",
    "accounting_data_resampled_8['factor_return'] = accounting_data_resampled_8.apply(calculate_dynamic_factor_return, axis=1)\n",
    "return_data_resampled_8['factor_return'] = return_data_resampled_8.apply(calculate_dynamic_factor_return, axis=1)\n",
    "\n",
    "# Calculate alpha and t-values for accounting data\n",
    "accounting_results_8 = calculate_ff3_alpha_and_tvalues(accounting_data_resampled_8, max_lag=1)\n",
    "# Calculate stats for return data\n",
    "return_results_8 = calculate_ff3_alpha_and_tvalues(return_data_resampled_8, max_lag=12)\n",
    "\n",
    "# Display results\n",
    "print(\"\\nAccounting factors (annual rebalancing):\")\n",
    "print(accounting_results_8)\n",
    "\n",
    "print(\"\\nReturn factors (monthly rebalancing):\")\n",
    "print(return_results_8)"
   ],
   "metadata": {
    "collapsed": false,
    "ExecuteTime": {
     "end_time": "2025-03-16T09:00:52.841347Z",
     "start_time": "2025-03-16T09:00:44.737965Z"
    }
   }
  },
  {
   "cell_type": "markdown",
   "source": [
    "### 5.3 Regression 2 - FF5"
   ],
   "metadata": {
    "collapsed": false
   }
  },
  {
   "cell_type": "code",
   "execution_count": 49,
   "outputs": [],
   "source": [
    "# read the merged data\n",
    "post_data_3 = pd.read_csv('data/merged_data_with_ff5_3.csv')\n",
    "# divide by 100\n",
    "port_columns = ['port01', 'port02', 'port03', 'port04', 'port05', 'Mkt-RF', 'SMB', 'HML', 'RMW', 'CMA', 'RF']\n",
    "post_data_3[port_columns] = post_data_3[port_columns] / 100\n",
    "# only retain columns that are needed\n",
    "post_data_3 = post_data_3[['date', 'predictor'] + port_columns]\n",
    "\n",
    "# Separate accounting and return data\n",
    "accounting_data_9 = post_data_3[post_data_3['predictor'].isin(accounting_factors)]\n",
    "return_data_9 = post_data_3[post_data_3['predictor'].isin(return_factors)]"
   ],
   "metadata": {
    "collapsed": false,
    "ExecuteTime": {
     "end_time": "2025-03-16T09:01:08.219980Z",
     "start_time": "2025-03-16T09:01:07.356694Z"
    }
   }
  },
  {
   "cell_type": "code",
   "execution_count": 50,
   "outputs": [
    {
     "name": "stdout",
     "output_type": "stream",
     "text": [
      "\n",
      "Accounting factors (annual rebalancing) - FF5:\n",
      "                   Factor  FF5 Alpha  T-Value\n",
      "0                Accruals       1.06    15.88\n",
      "1            AnalystValue      -4.23    -1.00\n",
      "2             AssetGrowth      -6.98   -18.83\n",
      "3                      BM      -2.87   -14.67\n",
      "4                   BPEBM      -0.92    -1.23\n",
      "5            BookLeverage      -4.52    -3.33\n",
      "6              CBOperProf      -4.64    -3.42\n",
      "7                      CF     -21.86    -6.92\n",
      "8         ChAssetTurnover      -4.25    -1.23\n",
      "9                   ChNWC     -17.39   -10.04\n",
      "10             CompEquIss      -8.21    -2.72\n",
      "11  CompositeDebtIssuance     -17.95    -7.41\n",
      "12                    EBM     -15.45    -6.99\n",
      "13                     EP       0.43     0.17\n",
      "14       EarningsSurprise      -3.01    -1.45\n",
      "15                     GP       9.17    62.58\n",
      "16                   Herf       3.10     3.84\n",
      "17              InvGrowth     -29.70   -11.41\n",
      "18                    NOA       6.10     9.35\n",
      "19               OperProf      -4.70    -3.68\n",
      "20                     PS      -0.17    -0.04\n",
      "21              RDAbility     -29.85   -35.03\n",
      "22                    RoE     -11.32   -25.18\n",
      "23                     SP     -12.67    -3.79\n",
      "24             ShareIss1Y     -14.68   -28.64\n",
      "25             ShareIss5Y       1.21     1.15\n",
      "26                   Size     -20.98    -9.27\n",
      "27                   XFIN     -12.15    -9.95\n",
      "28                    cfp      -5.42    -6.04\n",
      "29                   roaq       0.01     0.01\n",
      "\n",
      "Return factors (monthly rebalancing) - FF5:\n",
      "                  Factor  FF5 Alpha  T-Value\n",
      "0                   Beta       0.15     0.72\n",
      "1        BetaLiquidityPS      -0.43    -2.96\n",
      "2            CPVolSpread      -0.05    -0.25\n",
      "3             Coskewness       0.44     3.05\n",
      "4       CustomerMomentum       0.02     0.05\n",
      "5                 DolVol      -0.30    -1.86\n",
      "6                FirmAge      -0.34    -1.75\n",
      "7               Frontier      -0.41    -1.85\n",
      "8                 High52      -0.02    -0.06\n",
      "9              IdioVol3F       0.31     1.07\n",
      "10           Illiquidity      -0.31    -3.19\n",
      "11                IntMom      -0.82    -1.78\n",
      "12            LRreversal       0.23     0.81\n",
      "13                MaxRet       0.11     0.42\n",
      "14                Mom12m      -0.02    -0.03\n",
      "15                 Mom6m       0.53     1.35\n",
      "16             Mom6mJunk       0.48     1.63\n",
      "17          MomOffSeason      -0.10    -0.29\n",
      "18  MomOffSeason06YrPlus       0.29     1.27\n",
      "19  MomOffSeason11YrPlus      -0.44    -1.95\n",
      "20  MomOffSeason16YrPlus      -0.15    -0.89\n",
      "21             MomSeason      -0.55    -2.20\n",
      "22     MomSeason06YrPlus      -0.05    -0.19\n",
      "23     MomSeason11YrPlus      -0.28    -1.35\n",
      "24     MomSeason16YrPlus       0.03     0.19\n",
      "25        MomSeasonShort      -0.55    -2.17\n",
      "26           RIVolSpread       0.48     1.77\n",
      "27      ResidualMomentum      -0.31    -1.95\n",
      "28            STreversal      -0.27    -0.74\n",
      "29                VolMkt      -0.35    -1.71\n",
      "30                 VolSD      -0.10    -1.51\n",
      "31              std_turn      -0.20    -0.81\n"
     ]
    }
   ],
   "source": [
    "# Resample accounting data annually\n",
    "accounting_data_resampled_9 = resample_and_calculate(accounting_data_9, 'YE')\n",
    "\n",
    "# Resample return data monthly\n",
    "return_data_resampled_9 = resample_and_calculate(return_data_9, 'ME')\n",
    "\n",
    "# Calculate dynamic factor return\n",
    "accounting_data_resampled_9['factor_return'] = accounting_data_resampled_9.apply(calculate_dynamic_factor_return, axis=1)\n",
    "return_data_resampled_9['factor_return'] = return_data_resampled_9.apply(calculate_dynamic_factor_return, axis=1)\n",
    "\n",
    "# Calculate alpha and t-values for accounting data for FF5\n",
    "accounting_results_9 = calculate_ff5_alpha_and_tvalues(accounting_data_resampled_9, max_lag=1)\n",
    "# Calculate stats for return data for FF5\n",
    "return_results_9 = calculate_ff5_alpha_and_tvalues(return_data_resampled_9, max_lag=12)\n",
    "\n",
    "# Display results for FF5\n",
    "print(\"\\nAccounting factors (annual rebalancing) - FF5:\")\n",
    "print(accounting_results_9)\n",
    "\n",
    "print(\"\\nReturn factors (monthly rebalancing) - FF5:\")\n",
    "print(return_results_9)"
   ],
   "metadata": {
    "collapsed": false,
    "ExecuteTime": {
     "end_time": "2025-03-16T09:02:18.172381Z",
     "start_time": "2025-03-16T09:01:50.502840Z"
    }
   }
  },
  {
   "cell_type": "markdown",
   "source": [
    "### 5.4 Combine all the regressions"
   ],
   "metadata": {
    "collapsed": false
   }
  },
  {
   "cell_type": "code",
   "execution_count": 51,
   "outputs": [
    {
     "name": "stdout",
     "output_type": "stream",
     "text": [
      "\n",
      "Accounting factors (annual rebalancing):\n",
      "                   Factor  Average Returns  T-Value_1  FF3 Alpha  T-Value_2  \\\n",
      "0                Accruals             3.07       2.30       2.29       1.34   \n",
      "1            AnalystValue            -1.40      -0.16      -6.81      -2.86   \n",
      "2             AssetGrowth            -3.54      -0.68       3.06       3.14   \n",
      "3                      BM            -2.30      -0.34      -3.16      -8.96   \n",
      "4                   BPEBM             7.50       1.89      -0.34      -0.16   \n",
      "5            BookLeverage            -1.57      -0.80      -5.33     -22.75   \n",
      "6              CBOperProf             8.88       3.64       2.71       0.86   \n",
      "7                      CF            -4.39      -0.65     -10.23      -4.19   \n",
      "8         ChAssetTurnover            -1.37      -0.68      -1.53      -1.77   \n",
      "9                   ChNWC            -0.11      -0.04      -2.72      -1.00   \n",
      "10             CompEquIss             5.46       1.47       2.02       0.87   \n",
      "11  CompositeDebtIssuance            -6.72      -2.14      -7.34      -6.48   \n",
      "12                    EBM            -5.52      -1.10      -7.82      -5.32   \n",
      "13                     EP             0.62       0.15      -4.00      -6.75   \n",
      "14       EarningsSurprise             0.90       0.80       1.94       3.17   \n",
      "15                     GP            13.75       5.13       8.42       3.61   \n",
      "16                   Herf             1.37       0.37       2.01       4.11   \n",
      "17              InvGrowth            -1.16      -0.20       1.16       0.35   \n",
      "18                    NOA             6.56       4.02       3.84      10.81   \n",
      "19               OperProf             6.29       3.12       0.60       0.31   \n",
      "20                     PS             1.65       0.71      -5.06      -6.30   \n",
      "21              RDAbility             9.13       1.50       0.93       0.27   \n",
      "22                    RoE             3.25       1.41      -4.44      -1.79   \n",
      "23                     SP            -5.44      -0.73      -2.35      -2.05   \n",
      "24             ShareIss1Y             1.72       0.35       0.45       0.15   \n",
      "25             ShareIss5Y             5.80       2.52       3.75       3.65   \n",
      "26                   Size            -7.96      -1.32      -4.27      -1.58   \n",
      "27                   XFIN             2.44       0.39       2.43       0.88   \n",
      "28                    cfp            -0.68      -0.08      -0.71      -0.35   \n",
      "29                   roaq             8.48       1.88       5.62       3.60   \n",
      "\n",
      "    FF5 Alpha  T-Value  \n",
      "0        1.06    15.88  \n",
      "1       -4.23    -1.00  \n",
      "2       -6.98   -18.83  \n",
      "3       -2.87   -14.67  \n",
      "4       -0.92    -1.23  \n",
      "5       -4.52    -3.33  \n",
      "6       -4.64    -3.42  \n",
      "7      -21.86    -6.92  \n",
      "8       -4.25    -1.23  \n",
      "9      -17.39   -10.04  \n",
      "10      -8.21    -2.72  \n",
      "11     -17.95    -7.41  \n",
      "12     -15.45    -6.99  \n",
      "13       0.43     0.17  \n",
      "14      -3.01    -1.45  \n",
      "15       9.17    62.58  \n",
      "16       3.10     3.84  \n",
      "17     -29.70   -11.41  \n",
      "18       6.10     9.35  \n",
      "19      -4.70    -3.68  \n",
      "20      -0.17    -0.04  \n",
      "21     -29.85   -35.03  \n",
      "22     -11.32   -25.18  \n",
      "23     -12.67    -3.79  \n",
      "24     -14.68   -28.64  \n",
      "25       1.21     1.15  \n",
      "26     -20.98    -9.27  \n",
      "27     -12.15    -9.95  \n",
      "28      -5.42    -6.04  \n",
      "29       0.01     0.01  \n",
      "\n",
      "Return factors (monthly rebalancing):\n",
      "                  Factor  Average Returns  T-Value_1  FF3 Alpha  T-Value_2  \\\n",
      "0                   Beta             0.34       0.71      -0.10      -0.58   \n",
      "1        BetaLiquidityPS            -0.28      -3.05      -0.46      -3.48   \n",
      "2            CPVolSpread             0.05       0.31      -0.08      -0.41   \n",
      "3             Coskewness             0.63       3.58       0.40       3.19   \n",
      "4       CustomerMomentum             0.13       0.37       0.06       0.16   \n",
      "5                 DolVol            -0.51      -3.08      -0.32      -1.97   \n",
      "6                FirmAge            -0.13      -0.22      -0.54      -2.05   \n",
      "7               Frontier            -0.53      -1.30      -0.36      -1.51   \n",
      "8                 High52            -0.09      -0.22       0.11       0.36   \n",
      "9              IdioVol3F             0.26       0.44       0.41       1.46   \n",
      "10           Illiquidity            -0.40      -2.95      -0.38      -4.14   \n",
      "11                IntMom            -0.61      -1.15      -0.69      -1.66   \n",
      "12            LRreversal             0.10       0.17       0.29       0.94   \n",
      "13                MaxRet             0.03       0.05       0.28       1.02   \n",
      "14                Mom12m             0.02       0.04       0.12       0.26   \n",
      "15                 Mom6m             0.59       1.35       0.67       1.47   \n",
      "16             Mom6mJunk             0.47       2.25       0.41       1.46   \n",
      "17          MomOffSeason            -0.18      -0.37      -0.07      -0.20   \n",
      "18  MomOffSeason06YrPlus             0.20       0.70       0.29       1.33   \n",
      "19  MomOffSeason11YrPlus            -0.38      -1.66      -0.41      -2.04   \n",
      "20  MomOffSeason16YrPlus            -0.11      -0.62      -0.12      -0.88   \n",
      "21             MomSeason            -0.09      -0.24      -0.53      -2.14   \n",
      "22     MomSeason06YrPlus             0.07       0.32      -0.02      -0.10   \n",
      "23     MomSeason11YrPlus            -0.16      -0.91      -0.27      -1.39   \n",
      "24     MomSeason16YrPlus             0.24       1.58       0.04       0.32   \n",
      "25        MomSeasonShort            -0.19      -0.89      -0.43      -1.60   \n",
      "26           RIVolSpread             0.29       0.83       0.41       1.43   \n",
      "27      ResidualMomentum            -0.18      -1.27      -0.32      -2.40   \n",
      "28            STreversal            -0.07      -0.21      -0.46      -1.17   \n",
      "29                VolMkt            -0.27      -0.60      -0.16      -0.68   \n",
      "30                 VolSD            -0.02      -0.30      -0.11      -1.79   \n",
      "31              std_turn            -0.35      -0.53      -0.19      -0.81   \n",
      "\n",
      "    FF5 Alpha  T-Value  \n",
      "0        0.15     0.72  \n",
      "1       -0.43    -2.96  \n",
      "2       -0.05    -0.25  \n",
      "3        0.44     3.05  \n",
      "4        0.02     0.05  \n",
      "5       -0.30    -1.86  \n",
      "6       -0.34    -1.75  \n",
      "7       -0.41    -1.85  \n",
      "8       -0.02    -0.06  \n",
      "9        0.31     1.07  \n",
      "10      -0.31    -3.19  \n",
      "11      -0.82    -1.78  \n",
      "12       0.23     0.81  \n",
      "13       0.11     0.42  \n",
      "14      -0.02    -0.03  \n",
      "15       0.53     1.35  \n",
      "16       0.48     1.63  \n",
      "17      -0.10    -0.29  \n",
      "18       0.29     1.27  \n",
      "19      -0.44    -1.95  \n",
      "20      -0.15    -0.89  \n",
      "21      -0.55    -2.20  \n",
      "22      -0.05    -0.19  \n",
      "23      -0.28    -1.35  \n",
      "24       0.03     0.19  \n",
      "25      -0.55    -2.17  \n",
      "26       0.48     1.77  \n",
      "27      -0.31    -1.95  \n",
      "28      -0.27    -0.74  \n",
      "29      -0.35    -1.71  \n",
      "30      -0.10    -1.51  \n",
      "31      -0.20    -0.81  \n"
     ]
    }
   ],
   "source": [
    "# combine the results\n",
    "accounting_results_post = accounting_results_7.merge(accounting_results_8, on='Factor', suffixes=('_1', '_2')).merge(accounting_results_9, on='Factor', suffixes=('', '_3'))\n",
    "\n",
    "# combine the results\n",
    "return_results_post = return_results_7.merge(return_results_8, on='Factor', suffixes=('_1', '_2')).merge(return_results_9, on='Factor', suffixes=('', '_3'))\n",
    "\n",
    "# display the results\n",
    "print(\"\\nAccounting factors (annual rebalancing):\")\n",
    "print(accounting_results_post)\n",
    "\n",
    "print(\"\\nReturn factors (monthly rebalancing):\")\n",
    "print(return_results_post)"
   ],
   "metadata": {
    "collapsed": false,
    "ExecuteTime": {
     "end_time": "2025-03-16T09:02:33.623745Z",
     "start_time": "2025-03-16T09:02:33.441109Z"
    }
   }
  },
  {
   "cell_type": "code",
   "execution_count": 52,
   "outputs": [],
   "source": [
    "# save the results\n",
    "accounting_results_post.to_csv('accounting_factors_annual_post_2017_2023.csv', index=False)\n",
    "return_results_post.to_csv('return_factors_monthly_post_2017_2023.csv', index=False)"
   ],
   "metadata": {
    "collapsed": false,
    "ExecuteTime": {
     "end_time": "2025-03-16T09:02:52.893523Z",
     "start_time": "2025-03-16T09:02:52.836219Z"
    }
   }
  },
  {
   "cell_type": "markdown",
   "source": [
    "## 6. Regression in the 1963-2016 'original' time period"
   ],
   "metadata": {
    "collapsed": false
   }
  },
  {
   "cell_type": "markdown",
   "source": [
    "* In this section, calculations and regression studies will be conducted for the timeline 1963-2016.\n",
    "* The calculation steps are the same as the previous section, and the results are output."
   ],
   "metadata": {
    "collapsed": false
   }
  },
  {
   "cell_type": "markdown",
   "source": [
    "### 6.1 Preliminary analysis"
   ],
   "metadata": {
    "collapsed": false
   }
  },
  {
   "cell_type": "code",
   "execution_count": 53,
   "outputs": [
    {
     "name": "stdout",
     "output_type": "stream",
     "text": [
      "\n",
      "Accounting factors (annual rebalancing):\n",
      "                   Factor  Average Returns  T-Value\n",
      "0                Accruals             2.16     1.92\n",
      "1             AssetGrowth             2.88     2.02\n",
      "2                      BM             4.09     2.70\n",
      "3                   BPEBM             2.17     2.27\n",
      "4            BookLeverage            -0.79    -0.52\n",
      "5              CBOperProf             2.81     2.60\n",
      "6                      CF             3.39     2.04\n",
      "7         ChAssetTurnover             2.02     2.27\n",
      "8                   ChNWC             1.42     1.86\n",
      "9              CompEquIss             2.80     1.80\n",
      "10  CompositeDebtIssuance             1.66     2.09\n",
      "11                    EBM             2.56     1.68\n",
      "12                     EP             3.75     2.30\n",
      "13       EarningsSurprise             1.74     1.98\n",
      "14                     GP             2.50     1.72\n",
      "15                   Herf             1.39     1.10\n",
      "16              InvGrowth             2.80     2.44\n",
      "17                    NOA             3.65     3.25\n",
      "18              RDAbility             0.63     0.23\n",
      "19                    RoE             0.90     0.65\n",
      "20                     SP             4.94     2.27\n",
      "21             ShareIss1Y             0.89     0.64\n",
      "22             ShareIss5Y             3.14     4.22\n",
      "23                   Size             3.74     1.14\n",
      "\n",
      "Return factors (monthly rebalancing):\n",
      "                  Factor  Average Returns  T-Value\n",
      "0                   Beta             0.02     0.07\n",
      "1             Coskewness             0.15     1.90\n",
      "2                 DolVol             0.10     0.93\n",
      "3                FirmAge             0.08     0.91\n",
      "4                 High52             0.21     1.68\n",
      "5              IdioVol3F             0.50     2.10\n",
      "6            Illiquidity             0.22     2.43\n",
      "7                 IntMom             0.65     3.90\n",
      "8             LRreversal             0.19     1.17\n",
      "9                 MaxRet             0.28     1.27\n",
      "10                Mom12m             0.65     3.65\n",
      "11                 Mom6m             0.34     2.12\n",
      "12          MomOffSeason             0.34     2.50\n",
      "13  MomOffSeason06YrPlus             0.45     4.64\n",
      "14  MomOffSeason11YrPlus             0.23     2.73\n",
      "15  MomOffSeason16YrPlus             0.11     1.58\n",
      "16             MomSeason             0.25     2.17\n",
      "17     MomSeason06YrPlus             0.41     4.68\n",
      "18     MomSeason11YrPlus             0.31     4.88\n",
      "19     MomSeason16YrPlus             0.13     1.78\n",
      "20        MomSeasonShort             0.44     4.13\n",
      "21      ResidualMomentum             0.37     4.65\n",
      "22            STreversal             0.24     1.89\n",
      "23                VolMkt             0.04     0.24\n",
      "24                 VolSD             0.16     2.12\n",
      "25              std_turn             0.18     1.02\n"
     ]
    }
   ],
   "source": [
    "# Read the merged data\n",
    "original_data = pd.read_csv('data/merged_data_with_ff3_4.csv')\n",
    "# Divide by 100\n",
    "port_columns_1 = ['port01', 'port02', 'port03', 'port04', 'port05']\n",
    "original_data[port_columns_1] = original_data[port_columns_1] / 100\n",
    "# only retain columns that are needed\n",
    "original_data = original_data[['date', 'predictor'] + port_columns_1]\n",
    "\n",
    "# Separate accounting and return data\n",
    "accounting_data_10 = original_data[original_data['predictor'].isin(accounting_factors_original)]\n",
    "return_data_10 = original_data[original_data['predictor'].isin(return_factors_original)]\n",
    "# Resample accounting data annually\n",
    "accounting_data_resampled_10 = resample_and_calculate(accounting_data_10, 'YE')\n",
    "\n",
    "# Resample return data monthly\n",
    "return_data_resampled_10 = resample_and_calculate(return_data_10, 'ME')\n",
    "\n",
    "# Calculate dynamic factor return\n",
    "accounting_data_resampled_10['factor_return'] = accounting_data_resampled_10.apply(calculate_dynamic_factor_return, axis=1)\n",
    "return_data_resampled_10['factor_return'] = return_data_resampled_10.apply(calculate_dynamic_factor_return, axis=1)\n",
    "\n",
    "# Calculate stats for accounting data\n",
    "accounting_results_10 = calculate_newey_west_t_value(accounting_data_resampled_10, max_lag=1)\n",
    "\n",
    "# Calculate stats for return data\n",
    "return_results_10 = calculate_newey_west_t_value(return_data_resampled_10, max_lag=12)\n",
    "\n",
    "# Display results\n",
    "print(\"\\nAccounting factors (annual rebalancing):\")\n",
    "print(accounting_results_10)\n",
    "\n",
    "print(\"\\nReturn factors (monthly rebalancing):\")\n",
    "print(return_results_10)"
   ],
   "metadata": {
    "collapsed": false,
    "ExecuteTime": {
     "end_time": "2025-03-16T09:03:59.911938Z",
     "start_time": "2025-03-16T09:03:22.041508Z"
    }
   }
  },
  {
   "cell_type": "markdown",
   "source": [
    "### 6.2 Regression 1 - FF3"
   ],
   "metadata": {
    "collapsed": false
   }
  },
  {
   "cell_type": "code",
   "execution_count": 54,
   "outputs": [],
   "source": [
    "# read the merged data\n",
    "original_data_2 = pd.read_csv('data/merged_data_with_ff3_4.csv')\n",
    "# divide by 100\n",
    "port_columns = ['port01', 'port02', 'port03', 'port04', 'port05', 'Mkt-RF', 'SMB', 'HML', 'RF']\n",
    "original_data_2[port_columns] = original_data_2[port_columns] / 100\n",
    "# only retain columns that are needed\n",
    "original_data_2 = original_data_2[['date', 'predictor'] + port_columns]\n",
    "\n",
    "# Separate accounting and return data\n",
    "accounting_data_11 = original_data_2[original_data_2['predictor'].isin(accounting_factors_original)]\n",
    "return_data_11 = original_data_2[original_data_2['predictor'].isin(return_factors_original)]"
   ],
   "metadata": {
    "collapsed": false,
    "ExecuteTime": {
     "end_time": "2025-03-16T09:04:32.672509Z",
     "start_time": "2025-03-16T09:04:28.332530Z"
    }
   }
  },
  {
   "cell_type": "code",
   "execution_count": 55,
   "outputs": [
    {
     "name": "stdout",
     "output_type": "stream",
     "text": [
      "\n",
      "Accounting factors (annual rebalancing):\n",
      "                   Factor  FF3 Alpha  T-Value\n",
      "0                Accruals      -1.23    -0.85\n",
      "1             AssetGrowth      -4.40    -3.91\n",
      "2                      BM      -5.80    -5.14\n",
      "3                   BPEBM      -2.62    -1.94\n",
      "4            BookLeverage      -1.64    -1.00\n",
      "5              CBOperProf       0.97     1.02\n",
      "6                      CF      -4.91    -3.18\n",
      "7         ChAssetTurnover      -3.14    -3.18\n",
      "8                   ChNWC      -2.82    -3.14\n",
      "9              CompEquIss       0.28     0.19\n",
      "10  CompositeDebtIssuance      -2.92    -2.27\n",
      "11                    EBM      -7.70    -9.34\n",
      "12                     EP      -6.36    -5.46\n",
      "13       EarningsSurprise      -2.36    -3.37\n",
      "14                     GP       0.03     0.02\n",
      "15                   Herf      -3.48    -2.23\n",
      "16              InvGrowth      -2.93    -2.94\n",
      "17                    NOA      -3.76    -2.62\n",
      "18              RDAbility      -4.55    -1.56\n",
      "19                    RoE      -2.79    -1.73\n",
      "20                     SP      -5.78    -3.95\n",
      "21             ShareIss1Y      -3.07    -1.97\n",
      "22             ShareIss5Y      -1.34    -1.27\n",
      "23                   Size      -5.00    -3.11\n",
      "\n",
      "Return factors (monthly rebalancing):\n",
      "                  Factor  FF3 Alpha  T-Value\n",
      "0                   Beta      -0.66    -4.75\n",
      "1             Coskewness      -0.30    -3.78\n",
      "2                 DolVol      -0.36    -3.73\n",
      "3                FirmAge      -0.40    -6.01\n",
      "4                 High52      -0.02    -0.20\n",
      "5              IdioVol3F       0.32     2.21\n",
      "6            Illiquidity      -0.26    -3.81\n",
      "7                 IntMom       0.43     2.95\n",
      "8             LRreversal      -0.49    -3.26\n",
      "9                 MaxRet       0.09     0.61\n",
      "10                Mom12m       0.50     3.09\n",
      "11                 Mom6m       0.09     0.59\n",
      "12          MomOffSeason      -0.29    -2.59\n",
      "13  MomOffSeason06YrPlus       0.01     0.08\n",
      "14  MomOffSeason11YrPlus      -0.13    -1.39\n",
      "15  MomOffSeason16YrPlus      -0.27    -2.91\n",
      "16             MomSeason      -0.11    -1.04\n",
      "17     MomSeason06YrPlus       0.05     0.54\n",
      "18     MomSeason11YrPlus      -0.06    -0.77\n",
      "19     MomSeason16YrPlus      -0.23    -2.63\n",
      "20        MomSeasonShort       0.09     0.92\n",
      "21      ResidualMomentum       0.03     0.38\n",
      "22            STreversal      -0.30    -2.11\n",
      "23                VolMkt      -0.24    -2.23\n",
      "24                 VolSD      -0.24    -3.00\n",
      "25              std_turn       0.26     1.84\n"
     ]
    }
   ],
   "source": [
    "# Resample accounting data annually\n",
    "accounting_data_resampled_11 = resample_and_calculate(accounting_data_11, 'YE')\n",
    "\n",
    "# Resample return data monthly\n",
    "return_data_resampled_11 = resample_and_calculate(return_data_11, 'ME')\n",
    "\n",
    "# Calculate dynamic factor return\n",
    "accounting_data_resampled_11['factor_return'] = accounting_data_resampled_11.apply(calculate_dynamic_factor_return, axis=1)\n",
    "return_data_resampled_11['factor_return'] = return_data_resampled_11.apply(calculate_dynamic_factor_return, axis=1)\n",
    "\n",
    "# Calculate alpha and t-values for accounting data\n",
    "accounting_results_11 = calculate_ff3_alpha_and_tvalues(accounting_data_resampled_11, max_lag=1)\n",
    "# Calculate stats for return data\n",
    "return_results_11 = calculate_ff3_alpha_and_tvalues(return_data_resampled_11, max_lag=12)\n",
    "\n",
    "# Display results\n",
    "print(\"\\nAccounting factors (annual rebalancing):\")\n",
    "print(accounting_results_11)\n",
    "\n",
    "print(\"\\nReturn factors (monthly rebalancing):\")\n",
    "print(return_results_11)"
   ],
   "metadata": {
    "collapsed": false,
    "ExecuteTime": {
     "end_time": "2025-03-16T09:05:26.966854Z",
     "start_time": "2025-03-16T09:04:34.928980Z"
    }
   }
  },
  {
   "cell_type": "markdown",
   "source": [
    "### 6.3 Regression 2 - FF5"
   ],
   "metadata": {
    "collapsed": false
   }
  },
  {
   "cell_type": "code",
   "execution_count": 56,
   "outputs": [],
   "source": [
    "# read the merged data\n",
    "original_data_3 = pd.read_csv('data/merged_data_with_ff5_4.csv')\n",
    "# divide by 100\n",
    "port_columns = ['port01', 'port02', 'port03', 'port04', 'port05', 'Mkt-RF', 'SMB', 'HML', 'RMW', 'CMA', 'RF']\n",
    "original_data_3[port_columns] = original_data_3[port_columns] / 100\n",
    "# only retain columns that are needed\n",
    "original_data_3 = original_data_3[['date', 'predictor'] + port_columns]\n",
    "\n",
    "# Separate accounting and return data\n",
    "accounting_data_12 = original_data_3[original_data_3['predictor'].isin(accounting_factors_original)]\n",
    "return_data_12 = original_data_3[original_data_3['predictor'].isin(return_factors_original)]"
   ],
   "metadata": {
    "collapsed": false,
    "ExecuteTime": {
     "end_time": "2025-03-16T09:05:35.600942Z",
     "start_time": "2025-03-16T09:05:33.145238Z"
    }
   }
  },
  {
   "cell_type": "code",
   "execution_count": 57,
   "outputs": [
    {
     "name": "stdout",
     "output_type": "stream",
     "text": [
      "\n",
      "Accounting factors (annual rebalancing) - FF5:\n",
      "                   Factor  FF5 Alpha  T-Value\n",
      "0                Accruals       0.78     0.53\n",
      "1             AssetGrowth      -5.72    -4.24\n",
      "2                      BM      -4.28    -3.64\n",
      "3                   BPEBM      -1.07    -0.73\n",
      "4            BookLeverage       0.76     0.41\n",
      "5              CBOperProf      -0.28    -0.31\n",
      "6                      CF      -4.15    -2.24\n",
      "7         ChAssetTurnover      -3.31    -2.35\n",
      "8                   ChNWC      -2.37    -2.34\n",
      "9              CompEquIss       0.89     0.41\n",
      "10  CompositeDebtIssuance      -2.55    -2.00\n",
      "11                    EBM      -7.48    -6.68\n",
      "12                     EP      -7.22    -5.55\n",
      "13       EarningsSurprise      -2.53    -2.06\n",
      "14                     GP      -2.37    -1.31\n",
      "15                   Herf      -2.20    -1.09\n",
      "16              InvGrowth      -3.09    -3.18\n",
      "17                    NOA      -5.64    -3.54\n",
      "18              RDAbility      -4.90    -1.62\n",
      "19                    RoE      -7.27    -5.80\n",
      "20                     SP      -7.03    -4.05\n",
      "21             ShareIss1Y      -5.64    -3.33\n",
      "22             ShareIss5Y      -2.17    -2.11\n",
      "23                   Size      -3.91    -2.15\n",
      "\n",
      "Return factors (monthly rebalancing) - FF5:\n",
      "                  Factor  FF5 Alpha  T-Value\n",
      "0                   Beta      -0.25    -1.88\n",
      "1             Coskewness      -0.22    -2.39\n",
      "2                 DolVol      -0.37    -3.69\n",
      "3                FirmAge      -0.30    -4.56\n",
      "4                 High52      -0.23    -1.64\n",
      "5              IdioVol3F      -0.14    -1.30\n",
      "6            Illiquidity      -0.29    -4.26\n",
      "7                 IntMom       0.38     2.46\n",
      "8             LRreversal      -0.41    -2.94\n",
      "9                 MaxRet      -0.32    -2.94\n",
      "10                Mom12m       0.30     1.27\n",
      "11                 Mom6m      -0.05    -0.22\n",
      "12          MomOffSeason      -0.28    -2.40\n",
      "13  MomOffSeason06YrPlus      -0.02    -0.18\n",
      "14  MomOffSeason11YrPlus       0.02     0.24\n",
      "15  MomOffSeason16YrPlus      -0.26    -2.95\n",
      "16             MomSeason      -0.08    -0.69\n",
      "17     MomSeason06YrPlus       0.11     1.00\n",
      "18     MomSeason11YrPlus      -0.03    -0.34\n",
      "19     MomSeason16YrPlus      -0.19    -2.21\n",
      "20        MomSeasonShort       0.06     0.57\n",
      "21      ResidualMomentum      -0.05    -0.48\n",
      "22            STreversal      -0.23    -1.36\n",
      "23                VolMkt      -0.50    -4.23\n",
      "24                 VolSD      -0.27    -3.41\n",
      "25              std_turn       0.15     1.06\n"
     ]
    }
   ],
   "source": [
    "# Resample accounting data annually\n",
    "accounting_data_resampled_12 = resample_and_calculate(accounting_data_12, 'YE')\n",
    "\n",
    "# Resample return data monthly\n",
    "return_data_resampled_12 = resample_and_calculate(return_data_12, 'ME')\n",
    "\n",
    "# Calculate dynamic factor return\n",
    "accounting_data_resampled_12['factor_return'] = accounting_data_resampled_12.apply(calculate_dynamic_factor_return, axis=1)\n",
    "return_data_resampled_12['factor_return'] = return_data_resampled_12.apply(calculate_dynamic_factor_return, axis=1)\n",
    "\n",
    "# Calculate alpha and t-values for accounting data for FF5\n",
    "accounting_results_12 = calculate_ff5_alpha_and_tvalues(accounting_data_resampled_12, max_lag=1)\n",
    "# Calculate stats for return data for FF5\n",
    "return_results_12 = calculate_ff5_alpha_and_tvalues(return_data_resampled_12, max_lag=12)\n",
    "\n",
    "# Display results for FF5\n",
    "print(\"\\nAccounting factors (annual rebalancing) - FF5:\")\n",
    "print(accounting_results_12)\n",
    "\n",
    "print(\"\\nReturn factors (monthly rebalancing) - FF5:\")\n",
    "print(return_results_12)"
   ],
   "metadata": {
    "collapsed": false,
    "ExecuteTime": {
     "end_time": "2025-03-16T09:06:27.052208Z",
     "start_time": "2025-03-16T09:05:37.381068Z"
    }
   }
  },
  {
   "cell_type": "markdown",
   "source": [
    "### 6.4 Combine all the regressions"
   ],
   "metadata": {
    "collapsed": false
   }
  },
  {
   "cell_type": "code",
   "execution_count": 58,
   "outputs": [
    {
     "name": "stdout",
     "output_type": "stream",
     "text": [
      "\n",
      "Accounting factors (annual rebalancing):\n",
      "                   Factor  Average Returns  T-Value_1  FF3 Alpha  T-Value_2  \\\n",
      "0                Accruals             2.16       1.92      -1.23      -0.85   \n",
      "1             AssetGrowth             2.88       2.02      -4.40      -3.91   \n",
      "2                      BM             4.09       2.70      -5.80      -5.14   \n",
      "3                   BPEBM             2.17       2.27      -2.62      -1.94   \n",
      "4            BookLeverage            -0.79      -0.52      -1.64      -1.00   \n",
      "5              CBOperProf             2.81       2.60       0.97       1.02   \n",
      "6                      CF             3.39       2.04      -4.91      -3.18   \n",
      "7         ChAssetTurnover             2.02       2.27      -3.14      -3.18   \n",
      "8                   ChNWC             1.42       1.86      -2.82      -3.14   \n",
      "9              CompEquIss             2.80       1.80       0.28       0.19   \n",
      "10  CompositeDebtIssuance             1.66       2.09      -2.92      -2.27   \n",
      "11                    EBM             2.56       1.68      -7.70      -9.34   \n",
      "12                     EP             3.75       2.30      -6.36      -5.46   \n",
      "13       EarningsSurprise             1.74       1.98      -2.36      -3.37   \n",
      "14                     GP             2.50       1.72       0.03       0.02   \n",
      "15                   Herf             1.39       1.10      -3.48      -2.23   \n",
      "16              InvGrowth             2.80       2.44      -2.93      -2.94   \n",
      "17                    NOA             3.65       3.25      -3.76      -2.62   \n",
      "18              RDAbility             0.63       0.23      -4.55      -1.56   \n",
      "19                    RoE             0.90       0.65      -2.79      -1.73   \n",
      "20                     SP             4.94       2.27      -5.78      -3.95   \n",
      "21             ShareIss1Y             0.89       0.64      -3.07      -1.97   \n",
      "22             ShareIss5Y             3.14       4.22      -1.34      -1.27   \n",
      "23                   Size             3.74       1.14      -5.00      -3.11   \n",
      "\n",
      "    FF5 Alpha  T-Value  \n",
      "0        0.78     0.53  \n",
      "1       -5.72    -4.24  \n",
      "2       -4.28    -3.64  \n",
      "3       -1.07    -0.73  \n",
      "4        0.76     0.41  \n",
      "5       -0.28    -0.31  \n",
      "6       -4.15    -2.24  \n",
      "7       -3.31    -2.35  \n",
      "8       -2.37    -2.34  \n",
      "9        0.89     0.41  \n",
      "10      -2.55    -2.00  \n",
      "11      -7.48    -6.68  \n",
      "12      -7.22    -5.55  \n",
      "13      -2.53    -2.06  \n",
      "14      -2.37    -1.31  \n",
      "15      -2.20    -1.09  \n",
      "16      -3.09    -3.18  \n",
      "17      -5.64    -3.54  \n",
      "18      -4.90    -1.62  \n",
      "19      -7.27    -5.80  \n",
      "20      -7.03    -4.05  \n",
      "21      -5.64    -3.33  \n",
      "22      -2.17    -2.11  \n",
      "23      -3.91    -2.15  \n",
      "\n",
      "Return factors (monthly rebalancing):\n",
      "                  Factor  Average Returns  T-Value_1  FF3 Alpha  T-Value_2  \\\n",
      "0                   Beta             0.02       0.07      -0.66      -4.75   \n",
      "1             Coskewness             0.15       1.90      -0.30      -3.78   \n",
      "2                 DolVol             0.10       0.93      -0.36      -3.73   \n",
      "3                FirmAge             0.08       0.91      -0.40      -6.01   \n",
      "4                 High52             0.21       1.68      -0.02      -0.20   \n",
      "5              IdioVol3F             0.50       2.10       0.32       2.21   \n",
      "6            Illiquidity             0.22       2.43      -0.26      -3.81   \n",
      "7                 IntMom             0.65       3.90       0.43       2.95   \n",
      "8             LRreversal             0.19       1.17      -0.49      -3.26   \n",
      "9                 MaxRet             0.28       1.27       0.09       0.61   \n",
      "10                Mom12m             0.65       3.65       0.50       3.09   \n",
      "11                 Mom6m             0.34       2.12       0.09       0.59   \n",
      "12          MomOffSeason             0.34       2.50      -0.29      -2.59   \n",
      "13  MomOffSeason06YrPlus             0.45       4.64       0.01       0.08   \n",
      "14  MomOffSeason11YrPlus             0.23       2.73      -0.13      -1.39   \n",
      "15  MomOffSeason16YrPlus             0.11       1.58      -0.27      -2.91   \n",
      "16             MomSeason             0.25       2.17      -0.11      -1.04   \n",
      "17     MomSeason06YrPlus             0.41       4.68       0.05       0.54   \n",
      "18     MomSeason11YrPlus             0.31       4.88      -0.06      -0.77   \n",
      "19     MomSeason16YrPlus             0.13       1.78      -0.23      -2.63   \n",
      "20        MomSeasonShort             0.44       4.13       0.09       0.92   \n",
      "21      ResidualMomentum             0.37       4.65       0.03       0.38   \n",
      "22            STreversal             0.24       1.89      -0.30      -2.11   \n",
      "23                VolMkt             0.04       0.24      -0.24      -2.23   \n",
      "24                 VolSD             0.16       2.12      -0.24      -3.00   \n",
      "25              std_turn             0.18       1.02       0.26       1.84   \n",
      "\n",
      "    FF5 Alpha  T-Value  \n",
      "0       -0.25    -1.88  \n",
      "1       -0.22    -2.39  \n",
      "2       -0.37    -3.69  \n",
      "3       -0.30    -4.56  \n",
      "4       -0.23    -1.64  \n",
      "5       -0.14    -1.30  \n",
      "6       -0.29    -4.26  \n",
      "7        0.38     2.46  \n",
      "8       -0.41    -2.94  \n",
      "9       -0.32    -2.94  \n",
      "10       0.30     1.27  \n",
      "11      -0.05    -0.22  \n",
      "12      -0.28    -2.40  \n",
      "13      -0.02    -0.18  \n",
      "14       0.02     0.24  \n",
      "15      -0.26    -2.95  \n",
      "16      -0.08    -0.69  \n",
      "17       0.11     1.00  \n",
      "18      -0.03    -0.34  \n",
      "19      -0.19    -2.21  \n",
      "20       0.06     0.57  \n",
      "21      -0.05    -0.48  \n",
      "22      -0.23    -1.36  \n",
      "23      -0.50    -4.23  \n",
      "24      -0.27    -3.41  \n",
      "25       0.15     1.06  \n"
     ]
    }
   ],
   "source": [
    "# combine the results\n",
    "accounting_results_original = accounting_results_10.merge(accounting_results_11, on='Factor', suffixes=('_1', '_2')).merge(accounting_results_12, on='Factor', suffixes=('', '_3'))\n",
    "\n",
    "# combine the results\n",
    "return_results_original = return_results_10.merge(return_results_11, on='Factor', suffixes=('_1', '_2')).merge(return_results_12, on='Factor', suffixes=('', '_3'))\n",
    "\n",
    "# display the results\n",
    "print(\"\\nAccounting factors (annual rebalancing):\")\n",
    "print(accounting_results_original)\n",
    "\n",
    "print(\"\\nReturn factors (monthly rebalancing):\")\n",
    "print(return_results_original)"
   ],
   "metadata": {
    "collapsed": false,
    "ExecuteTime": {
     "end_time": "2025-03-16T09:07:43.287490Z",
     "start_time": "2025-03-16T09:07:43.267560Z"
    }
   }
  },
  {
   "cell_type": "code",
   "execution_count": 59,
   "outputs": [],
   "source": [
    "# save the results\n",
    "accounting_results_original.to_csv('accounting_factors_annual_original_1963_2016.csv', index=False)\n",
    "return_results_original.to_csv('return_factors_monthly_original_1963_2016.csv', index=False)"
   ],
   "metadata": {
    "collapsed": false,
    "ExecuteTime": {
     "end_time": "2025-03-16T09:07:58.164415Z",
     "start_time": "2025-03-16T09:07:58.129909Z"
    }
   }
  },
  {
   "cell_type": "code",
   "execution_count": null,
   "outputs": [],
   "source": [],
   "metadata": {
    "collapsed": false
   }
  }
 ],
 "metadata": {
  "kernelspec": {
   "display_name": "Python 3",
   "language": "python",
   "name": "python3"
  },
  "language_info": {
   "codemirror_mode": {
    "name": "ipython",
    "version": 2
   },
   "file_extension": ".py",
   "mimetype": "text/x-python",
   "name": "python",
   "nbconvert_exporter": "python",
   "pygments_lexer": "ipython2",
   "version": "2.7.6"
  }
 },
 "nbformat": 4,
 "nbformat_minor": 0
}
