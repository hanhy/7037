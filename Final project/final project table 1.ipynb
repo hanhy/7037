{
 "cells": [
  {
   "cell_type": "markdown",
   "source": [
    "# Task1 : Reproduce Table 1"
   ],
   "metadata": {
    "collapsed": false
   }
  },
  {
   "cell_type": "markdown",
   "source": [
    "## 1. merged data"
   ],
   "metadata": {
    "collapsed": false
   }
  },
  {
   "cell_type": "markdown",
   "source": [
    "* First, according to the research ideas of the paper, we integrate the factor return data with Fama’s 3-factor and 5-factor models."
   ],
   "metadata": {
    "collapsed": false
   }
  },
  {
   "cell_type": "code",
   "execution_count": 1,
   "outputs": [],
   "source": [
    "import pandas as pd\n",
    "import numpy as np\n",
    "import statsmodels.api as sm\n",
    "from scipy.stats import trim_mean"
   ],
   "metadata": {
    "collapsed": false,
    "ExecuteTime": {
     "end_time": "2025-03-15T03:00:28.991810Z",
     "start_time": "2025-03-15T03:00:23.130741Z"
    }
   }
  },
  {
   "cell_type": "code",
   "execution_count": 2,
   "outputs": [],
   "source": [
    "table1_data = pd.read_csv('data/merged_data.csv')\n",
    "table1_ff3 = pd.read_csv('data/FF3_daily.csv')\n",
    "table1_ff5 = pd.read_csv('data/FF5_daily.csv')"
   ],
   "metadata": {
    "collapsed": false,
    "ExecuteTime": {
     "end_time": "2025-03-15T03:00:36.300492Z",
     "start_time": "2025-03-15T03:00:33.480178Z"
    }
   }
  },
  {
   "cell_type": "code",
   "execution_count": 3,
   "outputs": [
    {
     "name": "stdout",
     "output_type": "stream",
     "text": [
      "['date', 'port01', 'port02', 'port03', 'port04', 'port05', 'portLS', 'predictor']\n",
      "['date', 'Mkt-RF', 'SMB', 'HML', 'RF']\n",
      "['date', 'Mkt-RF', 'SMB', 'HML', 'RMW', 'CMA', 'RF']\n"
     ]
    },
    {
     "data": {
      "text/plain": "date        int64\nMkt-RF    float64\nSMB       float64\nHML       float64\nRF        float64\ndtype: object"
     },
     "execution_count": 3,
     "metadata": {},
     "output_type": "execute_result"
    }
   ],
   "source": [
    "table1_ff3.columns =['date','Mkt-RF','SMB','HML','RF']\n",
    "table1_ff5.columns =['date','Mkt-RF','SMB','HML','RMW','CMA','RF']\n",
    "print(table1_data.columns.tolist())\n",
    "print(table1_ff3.columns.tolist())\n",
    "print(table1_ff5.columns.tolist())\n",
    "\n",
    "table1_ff3.dtypes"
   ],
   "metadata": {
    "collapsed": false,
    "ExecuteTime": {
     "end_time": "2025-03-15T03:00:43.655438Z",
     "start_time": "2025-03-15T03:00:43.623447Z"
    }
   }
  },
  {
   "cell_type": "code",
   "execution_count": 4,
   "outputs": [],
   "source": [
    "table1_data['date']= pd.to_datetime(table1_data['date']).dt.strftime('%Y-%m-%d')"
   ],
   "metadata": {
    "collapsed": false,
    "ExecuteTime": {
     "end_time": "2025-03-15T03:00:50.658737Z",
     "start_time": "2025-03-15T03:00:47.231521Z"
    }
   }
  },
  {
   "cell_type": "code",
   "execution_count": 5,
   "outputs": [
    {
     "data": {
      "text/plain": "               date    port01    port02    port03    port04    port05  \\\n0        1952-07-01  0.124831  0.336154  0.839240  0.637685  0.656345   \n1        1952-07-02 -0.246625 -0.244496 -0.049348 -0.189462 -0.104565   \n2        1952-07-03  0.023978  0.084967 -0.142413 -0.223899 -0.035177   \n3        1952-07-07 -0.171018 -0.076185 -0.263179 -0.661418 -0.503844   \n4        1952-07-08 -0.209479  0.235904 -0.025679  0.218441  0.140033   \n...             ...       ...       ...       ...       ...       ...   \n1237143  2023-12-22  1.857859  0.723824  0.498934  0.233261  0.428393   \n1237144  2023-12-26  3.266919  0.875071  1.303056  0.540725  0.561904   \n1237145  2023-12-27  2.341186  0.200744  0.285204  0.159429  0.059149   \n1237146  2023-12-28 -1.669881 -0.263774 -0.543158 -0.266308 -0.110725   \n1237147  2023-12-29 -2.447862 -1.850345 -0.757195 -0.082058 -0.068660   \n\n           portLS predictor  \n0        0.531514  Accruals  \n1        0.142060  Accruals  \n2       -0.059155  Accruals  \n3       -0.332827  Accruals  \n4        0.349512  Accruals  \n...           ...       ...  \n1237143 -1.429466  std_turn  \n1237144 -2.705015  std_turn  \n1237145 -2.282037  std_turn  \n1237146  1.559157  std_turn  \n1237147  2.379202  std_turn  \n\n[1237148 rows x 8 columns]",
      "text/html": "<div>\n<style scoped>\n    .dataframe tbody tr th:only-of-type {\n        vertical-align: middle;\n    }\n\n    .dataframe tbody tr th {\n        vertical-align: top;\n    }\n\n    .dataframe thead th {\n        text-align: right;\n    }\n</style>\n<table border=\"1\" class=\"dataframe\">\n  <thead>\n    <tr style=\"text-align: right;\">\n      <th></th>\n      <th>date</th>\n      <th>port01</th>\n      <th>port02</th>\n      <th>port03</th>\n      <th>port04</th>\n      <th>port05</th>\n      <th>portLS</th>\n      <th>predictor</th>\n    </tr>\n  </thead>\n  <tbody>\n    <tr>\n      <th>0</th>\n      <td>1952-07-01</td>\n      <td>0.124831</td>\n      <td>0.336154</td>\n      <td>0.839240</td>\n      <td>0.637685</td>\n      <td>0.656345</td>\n      <td>0.531514</td>\n      <td>Accruals</td>\n    </tr>\n    <tr>\n      <th>1</th>\n      <td>1952-07-02</td>\n      <td>-0.246625</td>\n      <td>-0.244496</td>\n      <td>-0.049348</td>\n      <td>-0.189462</td>\n      <td>-0.104565</td>\n      <td>0.142060</td>\n      <td>Accruals</td>\n    </tr>\n    <tr>\n      <th>2</th>\n      <td>1952-07-03</td>\n      <td>0.023978</td>\n      <td>0.084967</td>\n      <td>-0.142413</td>\n      <td>-0.223899</td>\n      <td>-0.035177</td>\n      <td>-0.059155</td>\n      <td>Accruals</td>\n    </tr>\n    <tr>\n      <th>3</th>\n      <td>1952-07-07</td>\n      <td>-0.171018</td>\n      <td>-0.076185</td>\n      <td>-0.263179</td>\n      <td>-0.661418</td>\n      <td>-0.503844</td>\n      <td>-0.332827</td>\n      <td>Accruals</td>\n    </tr>\n    <tr>\n      <th>4</th>\n      <td>1952-07-08</td>\n      <td>-0.209479</td>\n      <td>0.235904</td>\n      <td>-0.025679</td>\n      <td>0.218441</td>\n      <td>0.140033</td>\n      <td>0.349512</td>\n      <td>Accruals</td>\n    </tr>\n    <tr>\n      <th>...</th>\n      <td>...</td>\n      <td>...</td>\n      <td>...</td>\n      <td>...</td>\n      <td>...</td>\n      <td>...</td>\n      <td>...</td>\n      <td>...</td>\n    </tr>\n    <tr>\n      <th>1237143</th>\n      <td>2023-12-22</td>\n      <td>1.857859</td>\n      <td>0.723824</td>\n      <td>0.498934</td>\n      <td>0.233261</td>\n      <td>0.428393</td>\n      <td>-1.429466</td>\n      <td>std_turn</td>\n    </tr>\n    <tr>\n      <th>1237144</th>\n      <td>2023-12-26</td>\n      <td>3.266919</td>\n      <td>0.875071</td>\n      <td>1.303056</td>\n      <td>0.540725</td>\n      <td>0.561904</td>\n      <td>-2.705015</td>\n      <td>std_turn</td>\n    </tr>\n    <tr>\n      <th>1237145</th>\n      <td>2023-12-27</td>\n      <td>2.341186</td>\n      <td>0.200744</td>\n      <td>0.285204</td>\n      <td>0.159429</td>\n      <td>0.059149</td>\n      <td>-2.282037</td>\n      <td>std_turn</td>\n    </tr>\n    <tr>\n      <th>1237146</th>\n      <td>2023-12-28</td>\n      <td>-1.669881</td>\n      <td>-0.263774</td>\n      <td>-0.543158</td>\n      <td>-0.266308</td>\n      <td>-0.110725</td>\n      <td>1.559157</td>\n      <td>std_turn</td>\n    </tr>\n    <tr>\n      <th>1237147</th>\n      <td>2023-12-29</td>\n      <td>-2.447862</td>\n      <td>-1.850345</td>\n      <td>-0.757195</td>\n      <td>-0.082058</td>\n      <td>-0.068660</td>\n      <td>2.379202</td>\n      <td>std_turn</td>\n    </tr>\n  </tbody>\n</table>\n<p>1237148 rows × 8 columns</p>\n</div>"
     },
     "execution_count": 5,
     "metadata": {},
     "output_type": "execute_result"
    }
   ],
   "source": [
    "table1_data"
   ],
   "metadata": {
    "collapsed": false,
    "ExecuteTime": {
     "end_time": "2025-03-15T03:00:51.987555Z",
     "start_time": "2025-03-15T03:00:51.923386Z"
    }
   }
  },
  {
   "cell_type": "code",
   "execution_count": 6,
   "outputs": [
    {
     "data": {
      "text/plain": "             date  Mkt-RF   SMB   HML     RF\n0      1926-07-01    0.10 -0.25 -0.27  0.009\n1      1926-07-02    0.45 -0.33 -0.06  0.009\n2      1926-07-06    0.17  0.30 -0.39  0.009\n3      1926-07-07    0.09 -0.58  0.02  0.009\n4      1926-07-08    0.21 -0.38  0.19  0.009\n...           ...     ...   ...   ...    ...\n25896  2024-12-24    1.11 -0.09 -0.05  0.017\n25897  2024-12-26    0.02  1.04 -0.19  0.017\n25898  2024-12-27   -1.17 -0.66  0.56  0.017\n25899  2024-12-30   -1.09  0.12  0.74  0.017\n25900  2024-12-31   -0.46  0.00  0.71  0.017\n\n[25901 rows x 5 columns]",
      "text/html": "<div>\n<style scoped>\n    .dataframe tbody tr th:only-of-type {\n        vertical-align: middle;\n    }\n\n    .dataframe tbody tr th {\n        vertical-align: top;\n    }\n\n    .dataframe thead th {\n        text-align: right;\n    }\n</style>\n<table border=\"1\" class=\"dataframe\">\n  <thead>\n    <tr style=\"text-align: right;\">\n      <th></th>\n      <th>date</th>\n      <th>Mkt-RF</th>\n      <th>SMB</th>\n      <th>HML</th>\n      <th>RF</th>\n    </tr>\n  </thead>\n  <tbody>\n    <tr>\n      <th>0</th>\n      <td>1926-07-01</td>\n      <td>0.10</td>\n      <td>-0.25</td>\n      <td>-0.27</td>\n      <td>0.009</td>\n    </tr>\n    <tr>\n      <th>1</th>\n      <td>1926-07-02</td>\n      <td>0.45</td>\n      <td>-0.33</td>\n      <td>-0.06</td>\n      <td>0.009</td>\n    </tr>\n    <tr>\n      <th>2</th>\n      <td>1926-07-06</td>\n      <td>0.17</td>\n      <td>0.30</td>\n      <td>-0.39</td>\n      <td>0.009</td>\n    </tr>\n    <tr>\n      <th>3</th>\n      <td>1926-07-07</td>\n      <td>0.09</td>\n      <td>-0.58</td>\n      <td>0.02</td>\n      <td>0.009</td>\n    </tr>\n    <tr>\n      <th>4</th>\n      <td>1926-07-08</td>\n      <td>0.21</td>\n      <td>-0.38</td>\n      <td>0.19</td>\n      <td>0.009</td>\n    </tr>\n    <tr>\n      <th>...</th>\n      <td>...</td>\n      <td>...</td>\n      <td>...</td>\n      <td>...</td>\n      <td>...</td>\n    </tr>\n    <tr>\n      <th>25896</th>\n      <td>2024-12-24</td>\n      <td>1.11</td>\n      <td>-0.09</td>\n      <td>-0.05</td>\n      <td>0.017</td>\n    </tr>\n    <tr>\n      <th>25897</th>\n      <td>2024-12-26</td>\n      <td>0.02</td>\n      <td>1.04</td>\n      <td>-0.19</td>\n      <td>0.017</td>\n    </tr>\n    <tr>\n      <th>25898</th>\n      <td>2024-12-27</td>\n      <td>-1.17</td>\n      <td>-0.66</td>\n      <td>0.56</td>\n      <td>0.017</td>\n    </tr>\n    <tr>\n      <th>25899</th>\n      <td>2024-12-30</td>\n      <td>-1.09</td>\n      <td>0.12</td>\n      <td>0.74</td>\n      <td>0.017</td>\n    </tr>\n    <tr>\n      <th>25900</th>\n      <td>2024-12-31</td>\n      <td>-0.46</td>\n      <td>0.00</td>\n      <td>0.71</td>\n      <td>0.017</td>\n    </tr>\n  </tbody>\n</table>\n<p>25901 rows × 5 columns</p>\n</div>"
     },
     "execution_count": 6,
     "metadata": {},
     "output_type": "execute_result"
    }
   ],
   "source": [
    "table1_ff3['date'] = pd.to_datetime(table1_ff3['date'].astype(str), format='%Y%m%d').dt.strftime('%Y-%m-%d')\n",
    "table1_ff3"
   ],
   "metadata": {
    "collapsed": false,
    "ExecuteTime": {
     "end_time": "2025-03-15T03:00:54.097014Z",
     "start_time": "2025-03-15T03:00:53.865666Z"
    }
   }
  },
  {
   "cell_type": "code",
   "execution_count": 7,
   "outputs": [
    {
     "data": {
      "text/plain": "             date  Mkt-RF   SMB   HML   RMW   CMA     RF\n0      1963-07-01   -0.67  0.02 -0.35  0.03  0.13  0.012\n1      1963-07-02    0.79 -0.28  0.28 -0.08 -0.21  0.012\n2      1963-07-03    0.63 -0.18 -0.10  0.13 -0.25  0.012\n3      1963-07-05    0.40  0.09 -0.28  0.07 -0.30  0.012\n4      1963-07-08   -0.63  0.07 -0.20 -0.27  0.06  0.012\n...           ...     ...   ...   ...   ...   ...    ...\n15476  2024-12-24    1.11 -0.12 -0.05 -0.13 -0.37  0.017\n15477  2024-12-26    0.02  1.09 -0.19 -0.44  0.35  0.017\n15478  2024-12-27   -1.17 -0.44  0.56  0.41  0.03  0.017\n15479  2024-12-30   -1.09  0.24  0.74  0.55  0.14  0.017\n15480  2024-12-31   -0.46  0.31  0.71  0.33  0.00  0.017\n\n[15481 rows x 7 columns]",
      "text/html": "<div>\n<style scoped>\n    .dataframe tbody tr th:only-of-type {\n        vertical-align: middle;\n    }\n\n    .dataframe tbody tr th {\n        vertical-align: top;\n    }\n\n    .dataframe thead th {\n        text-align: right;\n    }\n</style>\n<table border=\"1\" class=\"dataframe\">\n  <thead>\n    <tr style=\"text-align: right;\">\n      <th></th>\n      <th>date</th>\n      <th>Mkt-RF</th>\n      <th>SMB</th>\n      <th>HML</th>\n      <th>RMW</th>\n      <th>CMA</th>\n      <th>RF</th>\n    </tr>\n  </thead>\n  <tbody>\n    <tr>\n      <th>0</th>\n      <td>1963-07-01</td>\n      <td>-0.67</td>\n      <td>0.02</td>\n      <td>-0.35</td>\n      <td>0.03</td>\n      <td>0.13</td>\n      <td>0.012</td>\n    </tr>\n    <tr>\n      <th>1</th>\n      <td>1963-07-02</td>\n      <td>0.79</td>\n      <td>-0.28</td>\n      <td>0.28</td>\n      <td>-0.08</td>\n      <td>-0.21</td>\n      <td>0.012</td>\n    </tr>\n    <tr>\n      <th>2</th>\n      <td>1963-07-03</td>\n      <td>0.63</td>\n      <td>-0.18</td>\n      <td>-0.10</td>\n      <td>0.13</td>\n      <td>-0.25</td>\n      <td>0.012</td>\n    </tr>\n    <tr>\n      <th>3</th>\n      <td>1963-07-05</td>\n      <td>0.40</td>\n      <td>0.09</td>\n      <td>-0.28</td>\n      <td>0.07</td>\n      <td>-0.30</td>\n      <td>0.012</td>\n    </tr>\n    <tr>\n      <th>4</th>\n      <td>1963-07-08</td>\n      <td>-0.63</td>\n      <td>0.07</td>\n      <td>-0.20</td>\n      <td>-0.27</td>\n      <td>0.06</td>\n      <td>0.012</td>\n    </tr>\n    <tr>\n      <th>...</th>\n      <td>...</td>\n      <td>...</td>\n      <td>...</td>\n      <td>...</td>\n      <td>...</td>\n      <td>...</td>\n      <td>...</td>\n    </tr>\n    <tr>\n      <th>15476</th>\n      <td>2024-12-24</td>\n      <td>1.11</td>\n      <td>-0.12</td>\n      <td>-0.05</td>\n      <td>-0.13</td>\n      <td>-0.37</td>\n      <td>0.017</td>\n    </tr>\n    <tr>\n      <th>15477</th>\n      <td>2024-12-26</td>\n      <td>0.02</td>\n      <td>1.09</td>\n      <td>-0.19</td>\n      <td>-0.44</td>\n      <td>0.35</td>\n      <td>0.017</td>\n    </tr>\n    <tr>\n      <th>15478</th>\n      <td>2024-12-27</td>\n      <td>-1.17</td>\n      <td>-0.44</td>\n      <td>0.56</td>\n      <td>0.41</td>\n      <td>0.03</td>\n      <td>0.017</td>\n    </tr>\n    <tr>\n      <th>15479</th>\n      <td>2024-12-30</td>\n      <td>-1.09</td>\n      <td>0.24</td>\n      <td>0.74</td>\n      <td>0.55</td>\n      <td>0.14</td>\n      <td>0.017</td>\n    </tr>\n    <tr>\n      <th>15480</th>\n      <td>2024-12-31</td>\n      <td>-0.46</td>\n      <td>0.31</td>\n      <td>0.71</td>\n      <td>0.33</td>\n      <td>0.00</td>\n      <td>0.017</td>\n    </tr>\n  </tbody>\n</table>\n<p>15481 rows × 7 columns</p>\n</div>"
     },
     "execution_count": 7,
     "metadata": {},
     "output_type": "execute_result"
    }
   ],
   "source": [
    "table1_ff5['date'] = pd.to_datetime(table1_ff5['date'].astype(str), format='%Y%m%d').dt.strftime('%Y-%m-%d')\n",
    "table1_ff5"
   ],
   "metadata": {
    "collapsed": false,
    "ExecuteTime": {
     "end_time": "2025-03-15T03:00:56.062137Z",
     "start_time": "2025-03-15T03:00:55.932681Z"
    }
   }
  },
  {
   "cell_type": "code",
   "execution_count": 8,
   "outputs": [
    {
     "data": {
      "text/plain": "date       object\nMkt-RF    float64\nSMB       float64\nHML       float64\nRF        float64\ndtype: object"
     },
     "execution_count": 8,
     "metadata": {},
     "output_type": "execute_result"
    }
   ],
   "source": [
    "table1_ff3.head()\n",
    "table1_ff3.dtypes"
   ],
   "metadata": {
    "collapsed": false,
    "ExecuteTime": {
     "end_time": "2025-03-15T03:00:57.719951Z",
     "start_time": "2025-03-15T03:00:57.673097Z"
    }
   }
  },
  {
   "cell_type": "markdown",
   "source": [
    "## 2.Divided the time & dataset"
   ],
   "metadata": {
    "collapsed": false
   }
  },
  {
   "cell_type": "markdown",
   "source": [
    "* The data analysis timeline of the paper is from 1963 to 2016. Combined with the data obtained by the team, we divided the research time into four groups: 2000_2016, 2017-2023, 2000-2023, and 1963-2016, in order to explore the impact of long, medium and short time on factor regression."
   ],
   "metadata": {
    "collapsed": false
   }
  },
  {
   "cell_type": "code",
   "execution_count": 9,
   "outputs": [],
   "source": [
    "# all period from 2000 Jan 1 to 2023 Dec 31\n",
    "start_date = '2000-01-01'\n",
    "end_date = '2023-12-31'"
   ],
   "metadata": {
    "collapsed": false,
    "ExecuteTime": {
     "end_time": "2025-03-15T03:01:28.352721Z",
     "start_time": "2025-03-15T03:01:28.264757Z"
    }
   }
  },
  {
   "cell_type": "code",
   "execution_count": 10,
   "outputs": [],
   "source": [
    "# sample period from 2000 Jan 1 to 2016 Dec 31\n",
    "start_date_1 = '2000-01-01'\n",
    "end_date_1 = '2016-12-31'"
   ],
   "metadata": {
    "collapsed": false,
    "ExecuteTime": {
     "end_time": "2025-03-15T03:01:28.850223Z",
     "start_time": "2025-03-15T03:01:28.816177Z"
    }
   }
  },
  {
   "cell_type": "code",
   "execution_count": 11,
   "outputs": [],
   "source": [
    "# post sample period from 2017 Jan 1 to 2023 Dec 31\n",
    "start_date_2 = '2017-01-01'\n",
    "end_date_2 = '2023-12-31'"
   ],
   "metadata": {
    "collapsed": false,
    "ExecuteTime": {
     "end_time": "2025-03-15T03:01:29.267617Z",
     "start_time": "2025-03-15T03:01:29.211985Z"
    }
   }
  },
  {
   "cell_type": "code",
   "execution_count": 12,
   "outputs": [],
   "source": [
    "# original sample period from 1963 July 1 to 2016 Dec 31\n",
    "start_date_3 = '1963-07-01'\n",
    "end_date_3 = '2016-12-31'"
   ],
   "metadata": {
    "collapsed": false,
    "ExecuteTime": {
     "end_time": "2025-03-15T03:01:29.704766Z",
     "start_time": "2025-03-15T03:01:29.652016Z"
    }
   }
  },
  {
   "cell_type": "code",
   "execution_count": 13,
   "outputs": [],
   "source": [
    "# Adjust for the time\n",
    "filtered_data_1 = table1_data[(table1_data['date'] >= start_date) & (table1_data['date'] <= end_date)]\n",
    "filtered_ff3_1 = table1_ff3[(table1_ff3['date'] >= start_date) & (table1_ff3['date'] <= end_date)]\n",
    "filtered_ff5_1 = table1_ff5[(table1_ff5['date'] >= start_date) & (table1_ff5['date'] <= end_date)]\n",
    "filtered_data_2 = table1_data[(table1_data['date'] >= start_date_1) & (table1_data['date'] <= end_date_1)]\n",
    "filtered_ff3_2 = table1_ff3[(table1_ff3['date'] >= start_date_1) & (table1_ff3['date'] <= end_date_1)]\n",
    "filtered_ff5_2 = table1_ff5[(table1_ff5['date'] >= start_date_1) & (table1_ff5['date'] <= end_date_1)]\n",
    "filtered_data_3 = table1_data[(table1_data['date'] >= start_date_2) & (table1_data['date'] <= end_date_2)]\n",
    "filtered_ff3_3 = table1_ff3[(table1_ff3['date'] >= start_date_2) & (table1_ff3['date'] <= end_date_2)]\n",
    "filtered_ff5_3 = table1_ff5[(table1_ff5['date'] >= start_date_2) & (table1_ff5['date'] <= end_date_2)]\n",
    "filtered_data_4 = table1_data[(table1_data['date'] >= start_date_3) & (table1_data['date'] <= end_date_3)]\n",
    "filtered_ff3_4 = table1_ff3[(table1_ff3['date'] >= start_date_3) & (table1_ff3['date'] <= end_date_3)]\n",
    "filtered_ff5_4 = table1_ff5[(table1_ff5['date'] >= start_date_3) & (table1_ff5['date'] <= end_date_3)]"
   ],
   "metadata": {
    "collapsed": false,
    "ExecuteTime": {
     "end_time": "2025-03-15T03:01:36.401781Z",
     "start_time": "2025-03-15T03:01:33.012510Z"
    }
   }
  },
  {
   "cell_type": "code",
   "execution_count": 14,
   "outputs": [
    {
     "name": "stdout",
     "output_type": "stream",
     "text": [
      "['date', 'port01', 'port02', 'port03', 'port04', 'port05', 'portLS', 'predictor', 'Mkt-RF', 'SMB', 'HML', 'RF']\n",
      "['date', 'port01', 'port02', 'port03', 'port04', 'port05', 'portLS', 'predictor', 'Mkt-RF', 'SMB', 'HML', 'RMW', 'CMA', 'RF']\n",
      "['date', 'port01', 'port02', 'port03', 'port04', 'port05', 'portLS', 'predictor', 'Mkt-RF', 'SMB', 'HML', 'RF']\n",
      "['date', 'port01', 'port02', 'port03', 'port04', 'port05', 'portLS', 'predictor', 'Mkt-RF', 'SMB', 'HML', 'RMW', 'CMA', 'RF']\n",
      "['date', 'port01', 'port02', 'port03', 'port04', 'port05', 'portLS', 'predictor', 'Mkt-RF', 'SMB', 'HML', 'RF']\n",
      "['date', 'port01', 'port02', 'port03', 'port04', 'port05', 'portLS', 'predictor', 'Mkt-RF', 'SMB', 'HML', 'RMW', 'CMA', 'RF']\n",
      "['date', 'port01', 'port02', 'port03', 'port04', 'port05', 'portLS', 'predictor', 'Mkt-RF', 'SMB', 'HML', 'RF']\n",
      "['date', 'port01', 'port02', 'port03', 'port04', 'port05', 'portLS', 'predictor', 'Mkt-RF', 'SMB', 'HML', 'RMW', 'CMA', 'RF']\n"
     ]
    }
   ],
   "source": [
    "merged_data_1 = pd.merge(filtered_data_1, filtered_ff3_1, on='date', how='inner')\n",
    "merged_data_2 = pd.merge(filtered_data_1, filtered_ff5_1, on='date', how='inner')\n",
    "merged_data_3 = pd.merge(filtered_data_2, filtered_ff3_2, on='date', how='inner')\n",
    "merged_data_4 = pd.merge(filtered_data_2, filtered_ff5_2, on='date', how='inner')\n",
    "merged_data_5 = pd.merge(filtered_data_3, filtered_ff3_3, on='date', how='inner')\n",
    "merged_data_6 = pd.merge(filtered_data_3, filtered_ff5_3, on='date', how='inner')\n",
    "merged_data_7 = pd.merge(filtered_data_4, filtered_ff3_4, on='date', how='inner')\n",
    "merged_data_8 = pd.merge(filtered_data_4, filtered_ff5_4, on='date', how='inner')\n",
    "\n",
    "print(merged_data_1.columns.tolist())\n",
    "print(merged_data_2.columns.tolist())\n",
    "print(merged_data_3.columns.tolist())\n",
    "print(merged_data_4.columns.tolist())\n",
    "print(merged_data_5.columns.tolist())\n",
    "print(merged_data_6.columns.tolist())\n",
    "print(merged_data_7.columns.tolist())\n",
    "print(merged_data_8.columns.tolist())"
   ],
   "metadata": {
    "collapsed": false,
    "ExecuteTime": {
     "end_time": "2025-03-15T03:03:20.127994Z",
     "start_time": "2025-03-15T03:03:17.397292Z"
    }
   }
  },
  {
   "cell_type": "code",
   "execution_count": 15,
   "outputs": [],
   "source": [
    "merged_data_1.to_csv('data/merged_data_with_ff3_1.csv', index=False)\n",
    "merged_data_2.to_csv('data/merged_data_with_ff5_1.csv', index=False)\n",
    "merged_data_3.to_csv('data/merged_data_with_ff3_2.csv', index=False)\n",
    "merged_data_4.to_csv('data/merged_data_with_ff5_2.csv', index=False)\n",
    "merged_data_5.to_csv('data/merged_data_with_ff3_3.csv', index=False)\n",
    "merged_data_6.to_csv('data/merged_data_with_ff5_3.csv', index=False)\n",
    "merged_data_7.to_csv('data/merged_data_with_ff3_4.csv', index=False)\n",
    "merged_data_8.to_csv('data/merged_data_with_ff5_4.csv', index=False)"
   ],
   "metadata": {
    "collapsed": false,
    "ExecuteTime": {
     "end_time": "2025-03-15T03:04:35.750391Z",
     "start_time": "2025-03-15T03:03:22.074936Z"
    }
   }
  },
  {
   "cell_type": "code",
   "execution_count": 16,
   "outputs": [],
   "source": [
    "# Define for accounting factors and return factors\n",
    "accounting_factors = [\n",
    "    'Accruals', 'AnalystValue', 'AssetGrowth', 'BM', 'BPEBM', 'BookLeverage',\n",
    "    'CBOperProf', 'CF', 'ChAssetTurnover', 'ChNWC', 'CompEquIss', 'CompositeDebtIssuance',\n",
    "    'EBM', 'EP', 'EarningsSurprise', 'GP', 'Herf', 'InvGrowth',\n",
    "    'NOA', 'OperProf', 'PS', 'RDAbility', 'RoE', 'SP', 'Size', 'ShareIss1Y', 'ShareIss5Y',\n",
    "    'XFIN', 'cfp', 'roaq'\n",
    "]\n",
    "\n",
    "return_factors = [\n",
    "    'Beta', 'BetaLiquidityPS', 'CPVolSpread', 'Coskewness', 'CustomerMomentum',\n",
    "    'DolVol', 'FirmAge', 'High52', 'IdioVol3F', 'Illiquidity', 'IntMom', 'LRreversal', 'MaxRet',\n",
    "    'Mom12m', 'Mom6m', 'Mom6mJunk', 'MomOffSeason', 'MomOffSeason06YrPlus',\n",
    "    'MomOffSeason11YrPlus', 'MomOffSeason16YrPlus', 'MomSeason', 'MomSeason06YrPlus',\n",
    "    'MomSeason11YrPlus', 'MomSeason16YrPlus', 'MomSeasonShort', 'RIVolSpread',\n",
    "    'ResidualMomentum', 'STreversal', 'VolMkt', 'VolSD', 'std_turn', 'Frontier'\n",
    "]"
   ],
   "metadata": {
    "collapsed": false,
    "ExecuteTime": {
     "end_time": "2025-03-15T03:05:05.267188Z",
     "start_time": "2025-03-15T03:05:05.092712Z"
    }
   }
  },
  {
   "cell_type": "markdown",
   "source": [
    "## 3. regression in the ‘all' time period"
   ],
   "metadata": {
    "collapsed": false
   }
  },
  {
   "cell_type": "markdown",
   "source": [
    "* In this section, calculations and regression studies will be conducted for the timeline 2000-2023.\n",
    "* In the first step, we will calculate the first two columns of Table 1 to obtain the average return rate and t value of each factor.\n",
    "* The second step is to calculate the regression results of each factor and the FF3 factor model, and output the excess return and the corresponding t value.\n",
    "* The third step is to calculate the regression results of each factor and the FF5 factor model. The overall idea is similar to the second step."
   ],
   "metadata": {
    "collapsed": false
   }
  },
  {
   "cell_type": "markdown",
   "source": [
    "+ <span style=\"color:red\">The Newey-West standard error can effectively deal with heteroscedasticity by adjusting the covariance matrix. At the same time, the Newey-West method introduces a lag term to correct the autocorrelation and provide a more accurate standard error.</span>"
   ],
   "metadata": {
    "collapsed": false
   }
  },
  {
   "cell_type": "markdown",
   "source": [
    "### 3.1 Preliminary analysis"
   ],
   "metadata": {
    "collapsed": false
   }
  },
  {
   "cell_type": "code",
   "execution_count": 17,
   "outputs": [],
   "source": [
    "# Read the merged data\n",
    "all_data = pd.read_csv('data/merged_data_with_ff3_1.csv')\n",
    "# Divide by 100\n",
    "port_columns_1 = ['port01', 'port02', 'port03', 'port04', 'port05']\n",
    "all_data[port_columns_1] = all_data[port_columns_1] / 100\n",
    "# only retain columns that are needed\n",
    "all_data = all_data[['date', 'predictor'] + port_columns_1]\n",
    "\n",
    "# Separate accounting and return data\n",
    "accounting_data_1 = all_data[all_data['predictor'].isin(accounting_factors)]\n",
    "return_data_1 = all_data[all_data['predictor'].isin(return_factors)]"
   ],
   "metadata": {
    "collapsed": false,
    "ExecuteTime": {
     "end_time": "2025-03-15T03:05:18.983952Z",
     "start_time": "2025-03-15T03:05:15.438831Z"
    }
   }
  },
  {
   "cell_type": "code",
   "execution_count": 18,
   "outputs": [],
   "source": [
    "# Calculate the dynamic factor return\n",
    "def calculate_dynamic_factor_return(row):\n",
    "    high_ports = row[['port04', 'port05']].values\n",
    "    low_ports = row[['port01', 'port02']].values\n",
    "    return np.mean(high_ports) - np.mean(low_ports)\n",
    "\n",
    "# Define a function to compound returns\n",
    "def compound_returns(x):\n",
    "    return (1 + x).prod() - 1\n",
    "\n",
    "# Resample and calculate dynamic factor return for each period\n",
    "def resample_and_calculate(df, freq):\n",
    "    df['date'] = pd.to_datetime(df['date'])\n",
    "    df_resampled = df.set_index('date').groupby('predictor').resample(freq).apply(compound_returns).reset_index()\n",
    "    return df_resampled\n",
    "\n",
    "# Calculate Newey-West t-value\n",
    "def calculate_newey_west_t_value(df, max_lag):\n",
    "    results = []\n",
    "\n",
    "    for factor, group in df.groupby('predictor'):\n",
    "        returns = group['factor_return'].dropna()\n",
    "        mean_returns = returns.mean() * 100  # Calculate mean returns for each factor\n",
    "\n",
    "        # Regression to compute t-stat using Newey-West standard errors\n",
    "        X = sm.add_constant(np.ones(len(returns)))  # Constant term\n",
    "        model = sm.OLS(returns, X).fit(cov_type='HAC', cov_kwds={'maxlags': max_lag})\n",
    "\n",
    "        t_value = model.tvalues.iloc[0]  # T-Value\n",
    "\n",
    "        results.append({\n",
    "            'Factor': factor,\n",
    "            'Average Returns': mean_returns,\n",
    "            'T-Value': t_value\n",
    "        })\n",
    "\n",
    "    return pd.DataFrame(results)"
   ],
   "metadata": {
    "collapsed": false,
    "ExecuteTime": {
     "end_time": "2025-03-15T03:05:23.134911Z",
     "start_time": "2025-03-15T03:05:22.799700Z"
    }
   }
  },
  {
   "cell_type": "code",
   "execution_count": 19,
   "outputs": [
    {
     "name": "stderr",
     "output_type": "stream",
     "text": [
      "/var/folders/sz/wn8m1w7133944wry01207fsh0000gn/T/ipykernel_42366/1147703945.py:13: SettingWithCopyWarning: \n",
      "A value is trying to be set on a copy of a slice from a DataFrame.\n",
      "Try using .loc[row_indexer,col_indexer] = value instead\n",
      "\n",
      "See the caveats in the documentation: https://pandas.pydata.org/pandas-docs/stable/user_guide/indexing.html#returning-a-view-versus-a-copy\n",
      "  df['date'] = pd.to_datetime(df['date'])\n",
      "/var/folders/sz/wn8m1w7133944wry01207fsh0000gn/T/ipykernel_42366/1147703945.py:14: FutureWarning: 'A' is deprecated and will be removed in a future version, please use 'YE' instead.\n",
      "  df_resampled = df.set_index('date').groupby('predictor').resample(freq).apply(compound_returns).reset_index()\n",
      "/var/folders/sz/wn8m1w7133944wry01207fsh0000gn/T/ipykernel_42366/1147703945.py:13: SettingWithCopyWarning: \n",
      "A value is trying to be set on a copy of a slice from a DataFrame.\n",
      "Try using .loc[row_indexer,col_indexer] = value instead\n",
      "\n",
      "See the caveats in the documentation: https://pandas.pydata.org/pandas-docs/stable/user_guide/indexing.html#returning-a-view-versus-a-copy\n",
      "  df['date'] = pd.to_datetime(df['date'])\n",
      "/var/folders/sz/wn8m1w7133944wry01207fsh0000gn/T/ipykernel_42366/1147703945.py:14: FutureWarning: 'M' is deprecated and will be removed in a future version, please use 'ME' instead.\n",
      "  df_resampled = df.set_index('date').groupby('predictor').resample(freq).apply(compound_returns).reset_index()\n"
     ]
    },
    {
     "name": "stdout",
     "output_type": "stream",
     "text": [
      "\n",
      "Accounting factors (annual rebalancing):\n",
      "                   Factor  Average Returns  T-Value\n",
      "0                Accruals           1.8641   1.3816\n",
      "1            AnalystValue           3.3016   0.8501\n",
      "2             AssetGrowth           2.2233   0.9308\n",
      "3                      BM           3.2310   1.0727\n",
      "4                   BPEBM           2.5179   1.5679\n",
      "5            BookLeverage          -2.1442  -1.1015\n",
      "6              CBOperProf           3.4958   2.1242\n",
      "7                      CF           2.6408   0.9466\n",
      "8         ChAssetTurnover          -0.5460  -0.6002\n",
      "9                   ChNWC          -1.4564  -1.6484\n",
      "10             CompEquIss           2.8295   1.3150\n",
      "11  CompositeDebtIssuance           0.4813   0.2808\n",
      "12                    EBM           0.2185   0.0780\n",
      "13                     EP           3.7061   1.4373\n",
      "14       EarningsSurprise           1.4133   1.4741\n",
      "15                     GP           4.7328   2.2386\n",
      "16                   Herf          -1.4233  -1.0353\n",
      "17              InvGrowth           0.2109   0.0929\n",
      "18                    NOA           3.5142   1.9275\n",
      "19               OperProf           3.5321   1.3738\n",
      "20                     PS           6.4217   1.8527\n",
      "21              RDAbility           1.8946   0.5994\n",
      "22                    RoE           3.0473   1.5546\n",
      "23                     SP           3.5457   1.0940\n",
      "24             ShareIss1Y           3.4962   1.5055\n",
      "25             ShareIss5Y           3.6852   2.8859\n",
      "26                   Size           0.9669   0.2102\n",
      "27                   XFIN           4.4854   1.5100\n",
      "28                    cfp           3.9893   1.1833\n",
      "29                   roaq           5.6103   1.8146\n",
      "\n",
      "Return factors (monthly rebalancing):\n",
      "                  Factor  Average Returns  T-Value\n",
      "0                   Beta          -0.1253  -0.3502\n",
      "1        BetaLiquidityPS           0.0926   0.8096\n",
      "2            CPVolSpread           0.3099   3.8225\n",
      "3             Coskewness           0.2145   1.7117\n",
      "4       CustomerMomentum           0.1039   0.4113\n",
      "5                 DolVol           0.0445   0.2755\n",
      "6                FirmAge           0.0298   0.1402\n",
      "7               Frontier           0.2277   0.9500\n",
      "8                 High52           0.1038   0.3837\n",
      "9              IdioVol3F           0.3972   0.9925\n",
      "10           Illiquidity           0.0973   0.8232\n",
      "11                IntMom          -0.1414  -0.4414\n",
      "12            LRreversal           0.1493   0.5267\n",
      "13                MaxRet           0.4262   1.0938\n",
      "14                Mom12m           0.0216   0.0679\n",
      "15                 Mom6m           0.2399   0.9343\n",
      "16             Mom6mJunk           0.1966   0.8983\n",
      "17          MomOffSeason          -0.0262  -0.1107\n",
      "18  MomOffSeason06YrPlus           0.6039   4.0446\n",
      "19  MomOffSeason11YrPlus           0.1584   1.1954\n",
      "20  MomOffSeason16YrPlus           0.0783   0.7106\n",
      "21             MomSeason          -0.0929  -0.5740\n",
      "22     MomSeason06YrPlus           0.3097   2.0995\n",
      "23     MomSeason11YrPlus           0.0759   0.7361\n",
      "24     MomSeason16YrPlus           0.1417   1.2074\n",
      "25        MomSeasonShort          -0.0149  -0.0905\n",
      "26           RIVolSpread           0.3904   2.3881\n",
      "27      ResidualMomentum           0.1166   0.9282\n",
      "28            STreversal           0.1042   0.5123\n",
      "29                VolMkt           0.0936   0.4214\n",
      "30                 VolSD           0.2226   2.4632\n",
      "31              std_turn          -0.3093  -0.8808\n"
     ]
    }
   ],
   "source": [
    "# Resample accounting data annually\n",
    "accounting_data_resampled = resample_and_calculate(accounting_data_1, 'A')\n",
    "\n",
    "# Resample return data monthly\n",
    "return_data_resampled = resample_and_calculate(return_data_1, 'M')\n",
    "\n",
    "# Calculate dynamic factor return\n",
    "accounting_data_resampled['factor_return'] = accounting_data_resampled.apply(calculate_dynamic_factor_return, axis=1)\n",
    "return_data_resampled['factor_return'] = return_data_resampled.apply(calculate_dynamic_factor_return, axis=1)\n",
    "\n",
    "# Calculate stats for accounting data\n",
    "accounting_results_1 = calculate_newey_west_t_value(accounting_data_resampled, max_lag=1)\n",
    "\n",
    "# Calculate stats for return data\n",
    "return_results_1 = calculate_newey_west_t_value(return_data_resampled, max_lag=12)\n",
    "\n",
    "# Display results\n",
    "print(\"\\nAccounting factors (annual rebalancing):\")\n",
    "print(accounting_results_1.round(4))\n",
    "\n",
    "print(\"\\nReturn factors (monthly rebalancing):\")\n",
    "print(return_results_1.round(4))"
   ],
   "metadata": {
    "collapsed": false,
    "ExecuteTime": {
     "end_time": "2025-03-15T03:05:48.313909Z",
     "start_time": "2025-03-15T03:05:24.288295Z"
    }
   }
  },
  {
   "cell_type": "markdown",
   "source": [
    "### 3.2 Regression 1 - FF3"
   ],
   "metadata": {
    "collapsed": false
   }
  },
  {
   "cell_type": "code",
   "execution_count": 20,
   "outputs": [],
   "source": [
    "# read the merged data\n",
    "all_data_2 = pd.read_csv('data/merged_data_with_ff3_1.csv')\n",
    "# divide by 100\n",
    "port_columns = ['port01', 'port02', 'port03', 'port04', 'port05', 'Mkt-RF', 'SMB', 'HML', 'RF']\n",
    "all_data_2[port_columns] = all_data_2[port_columns] / 100\n",
    "# only retain columns that are needed\n",
    "all_data_2 = all_data_2[['date', 'predictor'] + port_columns]\n",
    "\n",
    "# Separate accounting and return data\n",
    "accounting_data_2 = all_data_2[all_data_2['predictor'].isin(accounting_factors)]\n",
    "return_data_2 = all_data_2[all_data_2['predictor'].isin(return_factors)]"
   ],
   "metadata": {
    "collapsed": false,
    "ExecuteTime": {
     "end_time": "2025-03-15T03:05:50.690189Z",
     "start_time": "2025-03-15T03:05:48.281032Z"
    }
   }
  },
  {
   "cell_type": "code",
   "execution_count": 21,
   "outputs": [],
   "source": [
    "# Calculate alpha and Newey-West t-value\n",
    "def calculate_ff3_alpha_and_tvalues(df, max_lag):\n",
    "    results = []\n",
    "\n",
    "    for factor, group in df.groupby('predictor'):\n",
    "        group = group.dropna(subset=['factor_return', 'RF', 'Mkt-RF', 'SMB', 'HML'])\n",
    "        y = group['factor_return'] - group['RF']\n",
    "        X = sm.add_constant(group[['Mkt-RF', 'SMB', 'HML']])  # FF3 factors\n",
    "\n",
    "        # Perform regression with Newey-West standard errors\n",
    "        model = sm.OLS(y, X).fit(cov_type='HAC', cov_kwds={'maxlags': max_lag})\n",
    "\n",
    "        alpha = model.params['const'] * 100  # FF3 Alpha\n",
    "        t_value = model.tvalues['const']  # T-Value\n",
    "\n",
    "        results.append({\n",
    "            'Factor': factor,\n",
    "            'FF3 Alpha': alpha,\n",
    "            'T-Value': t_value\n",
    "        })\n",
    "\n",
    "    return pd.DataFrame(results)"
   ],
   "metadata": {
    "collapsed": false,
    "ExecuteTime": {
     "end_time": "2025-03-15T03:05:50.690737Z",
     "start_time": "2025-03-15T03:05:50.651245Z"
    }
   }
  },
  {
   "cell_type": "code",
   "execution_count": 22,
   "outputs": [
    {
     "name": "stderr",
     "output_type": "stream",
     "text": [
      "/var/folders/sz/wn8m1w7133944wry01207fsh0000gn/T/ipykernel_42366/1147703945.py:13: SettingWithCopyWarning: \n",
      "A value is trying to be set on a copy of a slice from a DataFrame.\n",
      "Try using .loc[row_indexer,col_indexer] = value instead\n",
      "\n",
      "See the caveats in the documentation: https://pandas.pydata.org/pandas-docs/stable/user_guide/indexing.html#returning-a-view-versus-a-copy\n",
      "  df['date'] = pd.to_datetime(df['date'])\n",
      "/var/folders/sz/wn8m1w7133944wry01207fsh0000gn/T/ipykernel_42366/1147703945.py:14: FutureWarning: 'A' is deprecated and will be removed in a future version, please use 'YE' instead.\n",
      "  df_resampled = df.set_index('date').groupby('predictor').resample(freq).apply(compound_returns).reset_index()\n",
      "/var/folders/sz/wn8m1w7133944wry01207fsh0000gn/T/ipykernel_42366/1147703945.py:13: SettingWithCopyWarning: \n",
      "A value is trying to be set on a copy of a slice from a DataFrame.\n",
      "Try using .loc[row_indexer,col_indexer] = value instead\n",
      "\n",
      "See the caveats in the documentation: https://pandas.pydata.org/pandas-docs/stable/user_guide/indexing.html#returning-a-view-versus-a-copy\n",
      "  df['date'] = pd.to_datetime(df['date'])\n",
      "/var/folders/sz/wn8m1w7133944wry01207fsh0000gn/T/ipykernel_42366/1147703945.py:14: FutureWarning: 'M' is deprecated and will be removed in a future version, please use 'ME' instead.\n",
      "  df_resampled = df.set_index('date').groupby('predictor').resample(freq).apply(compound_returns).reset_index()\n"
     ]
    },
    {
     "name": "stdout",
     "output_type": "stream",
     "text": [
      "\n",
      "Accounting factors (annual rebalancing):\n",
      "                   Factor  FF3 Alpha  T-Value\n",
      "0                Accruals     1.5755   1.5579\n",
      "1            AnalystValue     0.2005   0.1095\n",
      "2             AssetGrowth    -1.1236  -0.8602\n",
      "3                      BM    -2.2018  -1.7850\n",
      "4                   BPEBM    -0.7369  -0.5519\n",
      "5            BookLeverage    -3.1817  -1.7677\n",
      "6              CBOperProf     3.7576   2.7390\n",
      "7                      CF    -0.5388  -0.2611\n",
      "8         ChAssetTurnover    -2.2165  -2.7621\n",
      "9                   ChNWC    -3.3191  -2.4363\n",
      "10             CompEquIss     2.7804   2.0430\n",
      "11  CompositeDebtIssuance    -1.3495  -0.6716\n",
      "12                    EBM    -5.6587  -4.9423\n",
      "13                     EP    -0.9596  -0.7964\n",
      "14       EarningsSurprise     0.0569   0.0881\n",
      "15                     GP     4.5335   2.0606\n",
      "16                   Herf    -3.2390  -2.8039\n",
      "17              InvGrowth    -2.7385  -1.4090\n",
      "18                    NOA     0.0817   0.0376\n",
      "19               OperProf     4.4293   2.4257\n",
      "20                     PS    -0.6215  -0.2817\n",
      "21              RDAbility    -2.8792  -0.9888\n",
      "22                    RoE     2.0675   1.2073\n",
      "23                     SP    -1.8832  -1.3338\n",
      "24             ShareIss1Y     2.0535   1.4015\n",
      "25             ShareIss5Y     2.6891   1.8597\n",
      "26                   Size    -5.7374  -2.8314\n",
      "27                   XFIN     3.3236   2.2421\n",
      "28                    cfp     3.3020   2.3120\n",
      "29                   roaq     8.1245   5.1918\n",
      "\n",
      "Return factors (monthly rebalancing):\n",
      "                  Factor  FF3 Alpha  T-Value\n",
      "0                   Beta    -0.7597  -3.4045\n",
      "1        BetaLiquidityPS    -0.0391  -0.3415\n",
      "2            CPVolSpread     0.2184   2.0351\n",
      "3             Coskewness    -0.0322  -0.2510\n",
      "4       CustomerMomentum    -0.0381  -0.1433\n",
      "5                 DolVol    -0.0203  -0.1448\n",
      "6                FirmAge    -0.2590  -1.9116\n",
      "7               Frontier    -0.1534  -0.8829\n",
      "8                 High52     0.3035   1.8116\n",
      "9              IdioVol3F     0.6248   2.8545\n",
      "10           Illiquidity    -0.0422  -0.4800\n",
      "11                IntMom    -0.0794  -0.2697\n",
      "12            LRreversal    -0.2336  -1.1447\n",
      "13                MaxRet     0.6700   3.2811\n",
      "14                Mom12m     0.2218   0.8286\n",
      "15                 Mom6m     0.2825   1.2152\n",
      "16             Mom6mJunk     0.2478   1.1890\n",
      "17          MomOffSeason    -0.2799  -1.7434\n",
      "18  MomOffSeason06YrPlus     0.5368   4.1807\n",
      "19  MomOffSeason11YrPlus     0.0202   0.1511\n",
      "20  MomOffSeason16YrPlus     0.0256   0.2257\n",
      "21             MomSeason    -0.2040  -1.3750\n",
      "22     MomSeason06YrPlus     0.1689   1.2071\n",
      "23     MomSeason11YrPlus    -0.0525  -0.4488\n",
      "24     MomSeason16YrPlus    -0.0011  -0.0088\n",
      "25        MomSeasonShort    -0.0864  -0.5329\n",
      "26           RIVolSpread     0.3145   2.1734\n",
      "27      ResidualMomentum     0.0534   0.4404\n",
      "28            STreversal    -0.2384  -1.1028\n",
      "29                VolMkt     0.1723   1.5138\n",
      "30                 VolSD     0.1770   2.5276\n",
      "31              std_turn     0.2391   1.3646\n"
     ]
    }
   ],
   "source": [
    "# Resample accounting data annually\n",
    "accounting_data_resampled_2 = resample_and_calculate(accounting_data_2, 'A')\n",
    "\n",
    "# Resample return data monthly\n",
    "return_data_resampled_2 = resample_and_calculate(return_data_2, 'M')\n",
    "\n",
    "# Calculate dynamic factor return\n",
    "accounting_data_resampled_2['factor_return'] = accounting_data_resampled_2.apply(calculate_dynamic_factor_return, axis=1)\n",
    "return_data_resampled_2['factor_return'] = return_data_resampled_2.apply(calculate_dynamic_factor_return, axis=1)\n",
    "\n",
    "# Calculate alpha and t-values for accounting data\n",
    "accounting_results_2 = calculate_ff3_alpha_and_tvalues(accounting_data_resampled_2, max_lag=1)\n",
    "# Calculate stats for return data\n",
    "return_results_2 = calculate_ff3_alpha_and_tvalues(return_data_resampled_2, max_lag=12)\n",
    "\n",
    "# Dsiplay results\n",
    "print(\"\\nAccounting factors (annual rebalancing):\")\n",
    "print(accounting_results_2.round(4))\n",
    "\n",
    "print(\"\\nReturn factors (monthly rebalancing):\")\n",
    "print(return_results_2.round(4))"
   ],
   "metadata": {
    "collapsed": false,
    "ExecuteTime": {
     "end_time": "2025-03-15T03:06:37.813144Z",
     "start_time": "2025-03-15T03:05:50.707640Z"
    }
   }
  },
  {
   "cell_type": "markdown",
   "source": [
    "### 3.3 Regression 2 - FF5"
   ],
   "metadata": {
    "collapsed": false
   }
  },
  {
   "cell_type": "code",
   "execution_count": 23,
   "outputs": [],
   "source": [
    "# read the merged data\n",
    "all_data_3 = pd.read_csv('data/merged_data_with_ff5_1.csv')\n",
    "# divide by 100\n",
    "port_columns = ['port01', 'port02', 'port03', 'port04', 'port05', 'Mkt-RF', 'SMB', 'HML', 'RMW', 'CMA', 'RF']\n",
    "all_data_3[port_columns] = all_data_3[port_columns] / 100\n",
    "# only retain columns that are needed\n",
    "all_data_3 = all_data_3[['date', 'predictor'] + port_columns]\n",
    "\n",
    "# Separate accounting and return data\n",
    "accounting_data_3 = all_data_3[all_data_3['predictor'].isin(accounting_factors)]\n",
    "return_data_3 = all_data_3[all_data_3['predictor'].isin(return_factors)]"
   ],
   "metadata": {
    "collapsed": false,
    "ExecuteTime": {
     "end_time": "2025-03-15T03:06:40.217769Z",
     "start_time": "2025-03-15T03:06:37.767016Z"
    }
   }
  },
  {
   "cell_type": "code",
   "execution_count": 24,
   "outputs": [],
   "source": [
    "# Calculate alpha and Newey-West t-value\n",
    "def calculate_ff5_alpha_and_tvalues(df, max_lag):\n",
    "    results = []\n",
    "\n",
    "    for factor, group in df.groupby('predictor'):\n",
    "        group = group.dropna(subset=['factor_return', 'RF', 'Mkt-RF', 'SMB', 'HML', 'RMW', 'CMA'])\n",
    "        y = group['factor_return'] - group['RF']\n",
    "        X = sm.add_constant(group[['Mkt-RF', 'SMB', 'HML', 'RMW', 'CMA']])  # FF5 factors\n",
    "\n",
    "        # Perform regression with Newey-West standard errors\n",
    "        model = sm.OLS(y, X).fit(cov_type='HAC', cov_kwds={'maxlags': max_lag})\n",
    "\n",
    "        alpha = model.params['const'] * 100  # FF5 Alpha\n",
    "        t_value = model.tvalues['const']  # T-Value\n",
    "\n",
    "        results.append({\n",
    "            'Factor': factor,\n",
    "            'FF5 Alpha': alpha,\n",
    "            'T-Value': t_value\n",
    "        })\n",
    "\n",
    "    return pd.DataFrame(results)"
   ],
   "metadata": {
    "collapsed": false,
    "ExecuteTime": {
     "end_time": "2025-03-15T03:06:40.272230Z",
     "start_time": "2025-03-15T03:06:39.488164Z"
    }
   }
  },
  {
   "cell_type": "code",
   "execution_count": 25,
   "outputs": [
    {
     "name": "stderr",
     "output_type": "stream",
     "text": [
      "/var/folders/sz/wn8m1w7133944wry01207fsh0000gn/T/ipykernel_42366/1147703945.py:13: SettingWithCopyWarning: \n",
      "A value is trying to be set on a copy of a slice from a DataFrame.\n",
      "Try using .loc[row_indexer,col_indexer] = value instead\n",
      "\n",
      "See the caveats in the documentation: https://pandas.pydata.org/pandas-docs/stable/user_guide/indexing.html#returning-a-view-versus-a-copy\n",
      "  df['date'] = pd.to_datetime(df['date'])\n",
      "/var/folders/sz/wn8m1w7133944wry01207fsh0000gn/T/ipykernel_42366/1147703945.py:14: FutureWarning: 'A' is deprecated and will be removed in a future version, please use 'YE' instead.\n",
      "  df_resampled = df.set_index('date').groupby('predictor').resample(freq).apply(compound_returns).reset_index()\n",
      "/var/folders/sz/wn8m1w7133944wry01207fsh0000gn/T/ipykernel_42366/1147703945.py:13: SettingWithCopyWarning: \n",
      "A value is trying to be set on a copy of a slice from a DataFrame.\n",
      "Try using .loc[row_indexer,col_indexer] = value instead\n",
      "\n",
      "See the caveats in the documentation: https://pandas.pydata.org/pandas-docs/stable/user_guide/indexing.html#returning-a-view-versus-a-copy\n",
      "  df['date'] = pd.to_datetime(df['date'])\n",
      "/var/folders/sz/wn8m1w7133944wry01207fsh0000gn/T/ipykernel_42366/1147703945.py:14: FutureWarning: 'M' is deprecated and will be removed in a future version, please use 'ME' instead.\n",
      "  df_resampled = df.set_index('date').groupby('predictor').resample(freq).apply(compound_returns).reset_index()\n"
     ]
    },
    {
     "name": "stdout",
     "output_type": "stream",
     "text": [
      "\n",
      "Accounting factors (annual rebalancing) - FF5:\n",
      "                   Factor  FF5 Alpha  T-Value\n",
      "0                Accruals     1.3280   0.9866\n",
      "1            AnalystValue    -1.6779  -0.7135\n",
      "2             AssetGrowth    -0.4162  -0.3102\n",
      "3                      BM    -0.1508  -0.1114\n",
      "4                   BPEBM    -2.4170  -1.1428\n",
      "5            BookLeverage    -2.4197  -1.6582\n",
      "6              CBOperProf    -0.6778  -0.3477\n",
      "7                      CF    -2.2022  -1.0842\n",
      "8         ChAssetTurnover    -0.6244  -0.6621\n",
      "9                   ChNWC    -4.4258  -2.7449\n",
      "10             CompEquIss     3.1409   1.8614\n",
      "11  CompositeDebtIssuance     0.1916   0.0809\n",
      "12                    EBM    -4.7145  -2.8754\n",
      "13                     EP    -2.1844  -1.4730\n",
      "14       EarningsSurprise    -0.6025  -0.7805\n",
      "15                     GP    -0.4867  -0.1634\n",
      "16                   Herf    -2.9240  -2.5937\n",
      "17              InvGrowth    -5.9937  -2.3858\n",
      "18                    NOA    -0.5617  -0.2208\n",
      "19               OperProf    -1.7699  -1.1390\n",
      "20                     PS    -2.2047  -0.6152\n",
      "21              RDAbility    -6.6461  -1.9808\n",
      "22                    RoE    -3.4382  -1.8954\n",
      "23                     SP    -0.3957  -0.3158\n",
      "24             ShareIss1Y    -3.0912  -2.2325\n",
      "25             ShareIss5Y     0.5484   0.2745\n",
      "26                   Size    -7.0452  -2.4601\n",
      "27                   XFIN    -1.0514  -0.4400\n",
      "28                    cfp     0.8848   0.4875\n",
      "29                   roaq     2.2176   1.4599\n",
      "\n",
      "Return factors (monthly rebalancing) - FF5:\n",
      "                  Factor  FF5 Alpha  T-Value\n",
      "0                   Beta    -0.1370  -0.7139\n",
      "1        BetaLiquidityPS    -0.0667  -0.5485\n",
      "2            CPVolSpread     0.2134   1.8702\n",
      "3             Coskewness     0.1342   1.0972\n",
      "4       CustomerMomentum     0.0858   0.3035\n",
      "5                 DolVol    -0.0029  -0.0207\n",
      "6                FirmAge    -0.1313  -1.1345\n",
      "7               Frontier     0.0188   0.1220\n",
      "8                 High52    -0.0706  -0.3440\n",
      "9              IdioVol3F     0.0685   0.3589\n",
      "10           Illiquidity    -0.0517  -0.5993\n",
      "11                IntMom    -0.1864  -0.6744\n",
      "12            LRreversal    -0.1096  -0.5520\n",
      "13                MaxRet     0.1206   0.8738\n",
      "14                Mom12m    -0.1090  -0.3368\n",
      "15                 Mom6m    -0.0165  -0.0615\n",
      "16             Mom6mJunk    -0.0022  -0.0088\n",
      "17          MomOffSeason    -0.2441  -1.3418\n",
      "18  MomOffSeason06YrPlus     0.4966   3.6704\n",
      "19  MomOffSeason11YrPlus     0.1067   0.6733\n",
      "20  MomOffSeason16YrPlus     0.0037   0.0341\n",
      "21             MomSeason    -0.2180  -1.4493\n",
      "22     MomSeason06YrPlus     0.2654   1.4870\n",
      "23     MomSeason11YrPlus    -0.0079  -0.0628\n",
      "24     MomSeason16YrPlus     0.0447   0.3577\n",
      "25        MomSeasonShort    -0.1912  -1.1626\n",
      "26           RIVolSpread     0.2231   1.4549\n",
      "27      ResidualMomentum    -0.0576  -0.5044\n",
      "28            STreversal    -0.0708  -0.3212\n",
      "29                VolMkt    -0.1874  -1.6650\n",
      "30                 VolSD     0.1212   1.6315\n",
      "31              std_turn     0.0903   0.4991\n"
     ]
    }
   ],
   "source": [
    "# Resample accounting data annually\n",
    "accounting_data_resampled_3 = resample_and_calculate(accounting_data_3, 'A')\n",
    "\n",
    "# Resample return data monthly\n",
    "return_data_resampled_3 = resample_and_calculate(return_data_3, 'M')\n",
    "\n",
    "# Calculate dynamic factor return\n",
    "accounting_data_resampled_3['factor_return'] = accounting_data_resampled_3.apply(calculate_dynamic_factor_return, axis=1)\n",
    "return_data_resampled_3['factor_return'] = return_data_resampled_3.apply(calculate_dynamic_factor_return, axis=1)\n",
    "\n",
    "# Calculate alpha and t-values for accounting data for FF5\n",
    "accounting_results_3 = calculate_ff5_alpha_and_tvalues(accounting_data_resampled_3, max_lag=1)\n",
    "# Calculate stats for return data for FF5\n",
    "return_results_3 = calculate_ff5_alpha_and_tvalues(return_data_resampled_3, max_lag=12)\n",
    "\n",
    "# Display results for FF5\n",
    "print(\"\\nAccounting factors (annual rebalancing) - FF5:\")\n",
    "print(accounting_results_3.round(4))\n",
    "\n",
    "print(\"\\nReturn factors (monthly rebalancing) - FF5:\")\n",
    "print(return_results_3.round(4))"
   ],
   "metadata": {
    "collapsed": false,
    "ExecuteTime": {
     "end_time": "2025-03-15T03:07:29.067820Z",
     "start_time": "2025-03-15T03:06:39.594164Z"
    }
   }
  },
  {
   "cell_type": "markdown",
   "source": [
    "### 3.4 Combine all the regressions"
   ],
   "metadata": {
    "collapsed": false
   }
  },
  {
   "cell_type": "code",
   "execution_count": 26,
   "outputs": [
    {
     "name": "stdout",
     "output_type": "stream",
     "text": [
      "\n",
      "Accounting factors (annual rebalancing):\n",
      "                   Factor  Average Returns  T-Value_1  FF3 Alpha  T-Value_2  \\\n",
      "0                Accruals           1.8641     1.3816     1.5755     1.5579   \n",
      "1            AnalystValue           3.3016     0.8501     0.2005     0.1095   \n",
      "2             AssetGrowth           2.2233     0.9308    -1.1236    -0.8602   \n",
      "3                      BM           3.2310     1.0727    -2.2018    -1.7850   \n",
      "4                   BPEBM           2.5179     1.5679    -0.7369    -0.5519   \n",
      "5            BookLeverage          -2.1442    -1.1015    -3.1817    -1.7677   \n",
      "6              CBOperProf           3.4958     2.1242     3.7576     2.7390   \n",
      "7                      CF           2.6408     0.9466    -0.5388    -0.2611   \n",
      "8         ChAssetTurnover          -0.5460    -0.6002    -2.2165    -2.7621   \n",
      "9                   ChNWC          -1.4564    -1.6484    -3.3191    -2.4363   \n",
      "10             CompEquIss           2.8295     1.3150     2.7804     2.0430   \n",
      "11  CompositeDebtIssuance           0.4813     0.2808    -1.3495    -0.6716   \n",
      "12                    EBM           0.2185     0.0780    -5.6587    -4.9423   \n",
      "13                     EP           3.7061     1.4373    -0.9596    -0.7964   \n",
      "14       EarningsSurprise           1.4133     1.4741     0.0569     0.0881   \n",
      "15                     GP           4.7328     2.2386     4.5335     2.0606   \n",
      "16                   Herf          -1.4233    -1.0353    -3.2390    -2.8039   \n",
      "17              InvGrowth           0.2109     0.0929    -2.7385    -1.4090   \n",
      "18                    NOA           3.5142     1.9275     0.0817     0.0376   \n",
      "19               OperProf           3.5321     1.3738     4.4293     2.4257   \n",
      "20                     PS           6.4217     1.8527    -0.6215    -0.2817   \n",
      "21              RDAbility           1.8946     0.5994    -2.8792    -0.9888   \n",
      "22                    RoE           3.0473     1.5546     2.0675     1.2073   \n",
      "23                     SP           3.5457     1.0940    -1.8832    -1.3338   \n",
      "24             ShareIss1Y           3.4962     1.5055     2.0535     1.4015   \n",
      "25             ShareIss5Y           3.6852     2.8859     2.6891     1.8597   \n",
      "26                   Size           0.9669     0.2102    -5.7374    -2.8314   \n",
      "27                   XFIN           4.4854     1.5100     3.3236     2.2421   \n",
      "28                    cfp           3.9893     1.1833     3.3020     2.3120   \n",
      "29                   roaq           5.6103     1.8146     8.1245     5.1918   \n",
      "\n",
      "    FF5 Alpha  T-Value  \n",
      "0      1.3280   0.9866  \n",
      "1     -1.6779  -0.7135  \n",
      "2     -0.4162  -0.3102  \n",
      "3     -0.1508  -0.1114  \n",
      "4     -2.4170  -1.1428  \n",
      "5     -2.4197  -1.6582  \n",
      "6     -0.6778  -0.3477  \n",
      "7     -2.2022  -1.0842  \n",
      "8     -0.6244  -0.6621  \n",
      "9     -4.4258  -2.7449  \n",
      "10     3.1409   1.8614  \n",
      "11     0.1916   0.0809  \n",
      "12    -4.7145  -2.8754  \n",
      "13    -2.1844  -1.4730  \n",
      "14    -0.6025  -0.7805  \n",
      "15    -0.4867  -0.1634  \n",
      "16    -2.9240  -2.5937  \n",
      "17    -5.9937  -2.3858  \n",
      "18    -0.5617  -0.2208  \n",
      "19    -1.7699  -1.1390  \n",
      "20    -2.2047  -0.6152  \n",
      "21    -6.6461  -1.9808  \n",
      "22    -3.4382  -1.8954  \n",
      "23    -0.3957  -0.3158  \n",
      "24    -3.0912  -2.2325  \n",
      "25     0.5484   0.2745  \n",
      "26    -7.0452  -2.4601  \n",
      "27    -1.0514  -0.4400  \n",
      "28     0.8848   0.4875  \n",
      "29     2.2176   1.4599  \n",
      "\n",
      "Return factors (monthly rebalancing):\n",
      "                  Factor  Average Returns  T-Value_1  FF3 Alpha  T-Value_2  \\\n",
      "0                   Beta          -0.1253    -0.3502    -0.7597    -3.4045   \n",
      "1        BetaLiquidityPS           0.0926     0.8096    -0.0391    -0.3415   \n",
      "2            CPVolSpread           0.3099     3.8225     0.2184     2.0351   \n",
      "3             Coskewness           0.2145     1.7117    -0.0322    -0.2510   \n",
      "4       CustomerMomentum           0.1039     0.4113    -0.0381    -0.1433   \n",
      "5                 DolVol           0.0445     0.2755    -0.0203    -0.1448   \n",
      "6                FirmAge           0.0298     0.1402    -0.2590    -1.9116   \n",
      "7               Frontier           0.2277     0.9500    -0.1534    -0.8829   \n",
      "8                 High52           0.1038     0.3837     0.3035     1.8116   \n",
      "9              IdioVol3F           0.3972     0.9925     0.6248     2.8545   \n",
      "10           Illiquidity           0.0973     0.8232    -0.0422    -0.4800   \n",
      "11                IntMom          -0.1414    -0.4414    -0.0794    -0.2697   \n",
      "12            LRreversal           0.1493     0.5267    -0.2336    -1.1447   \n",
      "13                MaxRet           0.4262     1.0938     0.6700     3.2811   \n",
      "14                Mom12m           0.0216     0.0679     0.2218     0.8286   \n",
      "15                 Mom6m           0.2399     0.9343     0.2825     1.2152   \n",
      "16             Mom6mJunk           0.1966     0.8983     0.2478     1.1890   \n",
      "17          MomOffSeason          -0.0262    -0.1107    -0.2799    -1.7434   \n",
      "18  MomOffSeason06YrPlus           0.6039     4.0446     0.5368     4.1807   \n",
      "19  MomOffSeason11YrPlus           0.1584     1.1954     0.0202     0.1511   \n",
      "20  MomOffSeason16YrPlus           0.0783     0.7106     0.0256     0.2257   \n",
      "21             MomSeason          -0.0929    -0.5740    -0.2040    -1.3750   \n",
      "22     MomSeason06YrPlus           0.3097     2.0995     0.1689     1.2071   \n",
      "23     MomSeason11YrPlus           0.0759     0.7361    -0.0525    -0.4488   \n",
      "24     MomSeason16YrPlus           0.1417     1.2074    -0.0011    -0.0088   \n",
      "25        MomSeasonShort          -0.0149    -0.0905    -0.0864    -0.5329   \n",
      "26           RIVolSpread           0.3904     2.3881     0.3145     2.1734   \n",
      "27      ResidualMomentum           0.1166     0.9282     0.0534     0.4404   \n",
      "28            STreversal           0.1042     0.5123    -0.2384    -1.1028   \n",
      "29                VolMkt           0.0936     0.4214     0.1723     1.5138   \n",
      "30                 VolSD           0.2226     2.4632     0.1770     2.5276   \n",
      "31              std_turn          -0.3093    -0.8808     0.2391     1.3646   \n",
      "\n",
      "    FF5 Alpha  T-Value  \n",
      "0     -0.1370  -0.7139  \n",
      "1     -0.0667  -0.5485  \n",
      "2      0.2134   1.8702  \n",
      "3      0.1342   1.0972  \n",
      "4      0.0858   0.3035  \n",
      "5     -0.0029  -0.0207  \n",
      "6     -0.1313  -1.1345  \n",
      "7      0.0188   0.1220  \n",
      "8     -0.0706  -0.3440  \n",
      "9      0.0685   0.3589  \n",
      "10    -0.0517  -0.5993  \n",
      "11    -0.1864  -0.6744  \n",
      "12    -0.1096  -0.5520  \n",
      "13     0.1206   0.8738  \n",
      "14    -0.1090  -0.3368  \n",
      "15    -0.0165  -0.0615  \n",
      "16    -0.0022  -0.0088  \n",
      "17    -0.2441  -1.3418  \n",
      "18     0.4966   3.6704  \n",
      "19     0.1067   0.6733  \n",
      "20     0.0037   0.0341  \n",
      "21    -0.2180  -1.4493  \n",
      "22     0.2654   1.4870  \n",
      "23    -0.0079  -0.0628  \n",
      "24     0.0447   0.3577  \n",
      "25    -0.1912  -1.1626  \n",
      "26     0.2231   1.4549  \n",
      "27    -0.0576  -0.5044  \n",
      "28    -0.0708  -0.3212  \n",
      "29    -0.1874  -1.6650  \n",
      "30     0.1212   1.6315  \n",
      "31     0.0903   0.4991  \n"
     ]
    }
   ],
   "source": [
    "# combine the results of accounting_results_1, accounting_results_2, accounting_results_3 according to the factor\n",
    "accounting_results_all = accounting_results_1.merge(accounting_results_2, on='Factor', suffixes=('_1', '_2')).merge(accounting_results_3, on='Factor', suffixes=('', '_3'))\n",
    "\n",
    "# combine the results of return_results_1, return_results_2, return_results_3\n",
    "return_results_all = return_results_1.merge(return_results_2, on='Factor', suffixes=('_1', '_2')).merge(return_results_3, on='Factor', suffixes=('', '_3'))\n",
    "\n",
    "# display the results\n",
    "print(\"\\nAccounting factors (annual rebalancing):\")\n",
    "print(accounting_results_all.round(4))\n",
    "\n",
    "print(\"\\nReturn factors (monthly rebalancing):\")\n",
    "print(return_results_all.round(4))"
   ],
   "metadata": {
    "collapsed": false,
    "ExecuteTime": {
     "end_time": "2025-03-15T03:07:29.102483Z",
     "start_time": "2025-03-15T03:07:29.044001Z"
    }
   }
  },
  {
   "cell_type": "code",
   "execution_count": 27,
   "outputs": [],
   "source": [
    "# save the results\n",
    "accounting_results_all.to_csv('accounting_factors_annual_all_2000_2023.csv', index=False)\n",
    "return_results_all.to_csv('return_factors_monthly_all_2000_2023.csv', index=False)"
   ],
   "metadata": {
    "collapsed": false,
    "ExecuteTime": {
     "end_time": "2025-03-15T03:07:37.877703Z",
     "start_time": "2025-03-15T03:07:29.095658Z"
    }
   }
  },
  {
   "cell_type": "markdown",
   "source": [
    "## 4. Regression in the 2000-2016 'sample' time period"
   ],
   "metadata": {
    "collapsed": false
   }
  },
  {
   "cell_type": "markdown",
   "source": [
    "* In this section, calculations and regression studies will be conducted for the timeline 2000-2016.\n",
    "* The calculation steps are the same as the previous section, and the results are output."
   ],
   "metadata": {
    "collapsed": false
   }
  },
  {
   "cell_type": "markdown",
   "source": [
    "### 4.1 Preliminary analysis"
   ],
   "metadata": {
    "collapsed": false
   }
  },
  {
   "cell_type": "code",
   "execution_count": 28,
   "outputs": [
    {
     "name": "stderr",
     "output_type": "stream",
     "text": [
      "/var/folders/sz/wn8m1w7133944wry01207fsh0000gn/T/ipykernel_42366/1147703945.py:13: SettingWithCopyWarning: \n",
      "A value is trying to be set on a copy of a slice from a DataFrame.\n",
      "Try using .loc[row_indexer,col_indexer] = value instead\n",
      "\n",
      "See the caveats in the documentation: https://pandas.pydata.org/pandas-docs/stable/user_guide/indexing.html#returning-a-view-versus-a-copy\n",
      "  df['date'] = pd.to_datetime(df['date'])\n",
      "/var/folders/sz/wn8m1w7133944wry01207fsh0000gn/T/ipykernel_42366/1147703945.py:14: FutureWarning: 'A' is deprecated and will be removed in a future version, please use 'YE' instead.\n",
      "  df_resampled = df.set_index('date').groupby('predictor').resample(freq).apply(compound_returns).reset_index()\n",
      "/var/folders/sz/wn8m1w7133944wry01207fsh0000gn/T/ipykernel_42366/1147703945.py:13: SettingWithCopyWarning: \n",
      "A value is trying to be set on a copy of a slice from a DataFrame.\n",
      "Try using .loc[row_indexer,col_indexer] = value instead\n",
      "\n",
      "See the caveats in the documentation: https://pandas.pydata.org/pandas-docs/stable/user_guide/indexing.html#returning-a-view-versus-a-copy\n",
      "  df['date'] = pd.to_datetime(df['date'])\n",
      "/var/folders/sz/wn8m1w7133944wry01207fsh0000gn/T/ipykernel_42366/1147703945.py:14: FutureWarning: 'M' is deprecated and will be removed in a future version, please use 'ME' instead.\n",
      "  df_resampled = df.set_index('date').groupby('predictor').resample(freq).apply(compound_returns).reset_index()\n"
     ]
    },
    {
     "name": "stdout",
     "output_type": "stream",
     "text": [
      "\n",
      "Accounting factors (annual rebalancing):\n",
      "                   Factor  Average Returns  T-Value\n",
      "0                Accruals           1.3672   0.7513\n",
      "1            AnalystValue           5.2369   1.3515\n",
      "2             AssetGrowth           4.5956   1.9041\n",
      "3                      BM           5.5090   1.8247\n",
      "4                   BPEBM           0.4651   0.3839\n",
      "5            BookLeverage          -2.3794  -0.8972\n",
      "6              CBOperProf           1.2786   0.7626\n",
      "7                      CF           5.5339   2.4908\n",
      "8         ChAssetTurnover          -0.2058  -0.2138\n",
      "9                   ChNWC          -2.0116  -2.8594\n",
      "10             CompEquIss           1.7482   0.6605\n",
      "11  CompositeDebtIssuance           3.4452   3.1524\n",
      "12                    EBM           2.5826   0.8227\n",
      "13                     EP           4.9772   1.5964\n",
      "14       EarningsSurprise           1.6227   1.2572\n",
      "15                     GP           1.0183   0.5508\n",
      "16                   Herf          -2.5717  -2.5392\n",
      "17              InvGrowth           0.7770   0.3666\n",
      "18                    NOA           2.2584   0.9643\n",
      "19               OperProf           2.3946   0.6920\n",
      "20                     PS           8.3875   1.8196\n",
      "21              RDAbility          -1.0864  -0.3718\n",
      "22                    RoE           2.9630   1.1461\n",
      "23                     SP           7.2476   2.6179\n",
      "24             ShareIss1Y           4.2290   1.6234\n",
      "25             ShareIss5Y           2.8162   2.0095\n",
      "26                   Size           4.6445   0.8309\n",
      "27                   XFIN           5.3291   1.6087\n",
      "28                    cfp           5.9135   1.7731\n",
      "29                   roaq           4.4296   1.1411\n",
      "\n",
      "Return factors (monthly rebalancing):\n",
      "                  Factor  Average Returns  T-Value\n",
      "0                   Beta          -0.3170  -0.6951\n",
      "1        BetaLiquidityPS           0.2470   1.7710\n",
      "2            CPVolSpread           0.4038   4.7760\n",
      "3             Coskewness           0.0421   0.3008\n",
      "4       CustomerMomentum           0.0949   0.2889\n",
      "5                 DolVol           0.2743   1.4333\n",
      "6                FirmAge           0.0946   0.5281\n",
      "7               Frontier           0.5381   2.0760\n",
      "8                 High52           0.1832   0.5378\n",
      "9              IdioVol3F           0.4555   0.8933\n",
      "10           Illiquidity           0.3014   2.3917\n",
      "11                IntMom           0.0508   0.1315\n",
      "12            LRreversal           0.1681   0.5422\n",
      "13                MaxRet           0.5912   1.1746\n",
      "14                Mom12m           0.0215   0.0552\n",
      "15                 Mom6m           0.0963   0.3150\n",
      "16             Mom6mJunk           0.0823   0.2831\n",
      "17          MomOffSeason           0.0382   0.1455\n",
      "18  MomOffSeason06YrPlus           0.7713   4.7331\n",
      "19  MomOffSeason11YrPlus           0.3793   2.9156\n",
      "20  MomOffSeason16YrPlus           0.1568   1.2018\n",
      "21             MomSeason          -0.0930  -0.5618\n",
      "22     MomSeason06YrPlus           0.4071   2.3409\n",
      "23     MomSeason11YrPlus           0.1747   1.4870\n",
      "24     MomSeason16YrPlus           0.1009   0.6578\n",
      "25        MomSeasonShort           0.0585   0.2748\n",
      "26           RIVolSpread           0.4248   2.3338\n",
      "27      ResidualMomentum           0.2388   1.5189\n",
      "28            STreversal           0.1769   0.7130\n",
      "29                VolMkt           0.2450   1.0124\n",
      "30                 VolSD           0.3245   2.8222\n",
      "31              std_turn          -0.2933  -0.7028\n"
     ]
    }
   ],
   "source": [
    "# Read the merged data\n",
    "sample_data = pd.read_csv('data/merged_data_with_ff3_2.csv')\n",
    "# Divide by 100\n",
    "port_columns_1 = ['port01', 'port02', 'port03', 'port04', 'port05']\n",
    "sample_data[port_columns_1] = sample_data[port_columns_1] / 100\n",
    "# only retain columns that are needed\n",
    "sample_data = sample_data[['date', 'predictor'] + port_columns_1]\n",
    "\n",
    "# Separate accounting and return data\n",
    "accounting_data_4 = sample_data[sample_data['predictor'].isin(accounting_factors)]\n",
    "return_data_4 = sample_data[sample_data['predictor'].isin(return_factors)]\n",
    "# Resample accounting data annually\n",
    "accounting_data_resampled_4 = resample_and_calculate(accounting_data_4, 'A')\n",
    "\n",
    "# Resample return data monthly\n",
    "return_data_resampled_4 = resample_and_calculate(return_data_4, 'M')\n",
    "\n",
    "# Calculate dynamic factor return\n",
    "accounting_data_resampled_4['factor_return'] = accounting_data_resampled_4.apply(calculate_dynamic_factor_return, axis=1)\n",
    "return_data_resampled_4['factor_return'] = return_data_resampled_4.apply(calculate_dynamic_factor_return, axis=1)\n",
    "\n",
    "# Calculate stats for accounting data\n",
    "accounting_results_4 = calculate_newey_west_t_value(accounting_data_resampled_4, max_lag=1)\n",
    "\n",
    "# Calculate stats for return data\n",
    "return_results_4 = calculate_newey_west_t_value(return_data_resampled_4, max_lag=12)\n",
    "\n",
    "# Display results\n",
    "print(\"\\nAccounting factors (annual rebalancing):\")\n",
    "print(accounting_results_4.round(4))\n",
    "\n",
    "print(\"\\nReturn factors (monthly rebalancing):\")\n",
    "print(return_results_4.round(4))"
   ],
   "metadata": {
    "collapsed": false,
    "ExecuteTime": {
     "end_time": "2025-03-15T03:08:39.929503Z",
     "start_time": "2025-03-15T03:07:29.098390Z"
    }
   }
  },
  {
   "cell_type": "markdown",
   "source": [
    "### 4.2 Regression 1 - FF3"
   ],
   "metadata": {
    "collapsed": false
   }
  },
  {
   "cell_type": "code",
   "execution_count": 29,
   "outputs": [],
   "source": [
    "# read the merged data\n",
    "sample_data_2 = pd.read_csv('data/merged_data_with_ff3_2.csv')\n",
    "# divide by 100\n",
    "port_columns = ['port01', 'port02', 'port03', 'port04', 'port05', 'Mkt-RF', 'SMB', 'HML', 'RF']\n",
    "sample_data_2[port_columns] = sample_data_2[port_columns] / 100\n",
    "# only retain columns that are needed\n",
    "sample_data_2 = sample_data_2[['date', 'predictor'] + port_columns]\n",
    "\n",
    "# Separate accounting and return data\n",
    "accounting_data_5 = sample_data_2[sample_data_2['predictor'].isin(accounting_factors)]\n",
    "return_data_5 = sample_data_2[sample_data_2['predictor'].isin(return_factors)]"
   ],
   "metadata": {
    "collapsed": false,
    "ExecuteTime": {
     "end_time": "2025-03-15T03:08:39.976645Z",
     "start_time": "2025-03-15T03:07:48.634910Z"
    }
   }
  },
  {
   "cell_type": "code",
   "execution_count": 30,
   "outputs": [
    {
     "name": "stderr",
     "output_type": "stream",
     "text": [
      "/var/folders/sz/wn8m1w7133944wry01207fsh0000gn/T/ipykernel_42366/1147703945.py:13: SettingWithCopyWarning: \n",
      "A value is trying to be set on a copy of a slice from a DataFrame.\n",
      "Try using .loc[row_indexer,col_indexer] = value instead\n",
      "\n",
      "See the caveats in the documentation: https://pandas.pydata.org/pandas-docs/stable/user_guide/indexing.html#returning-a-view-versus-a-copy\n",
      "  df['date'] = pd.to_datetime(df['date'])\n",
      "/var/folders/sz/wn8m1w7133944wry01207fsh0000gn/T/ipykernel_42366/1147703945.py:14: FutureWarning: 'A' is deprecated and will be removed in a future version, please use 'YE' instead.\n",
      "  df_resampled = df.set_index('date').groupby('predictor').resample(freq).apply(compound_returns).reset_index()\n",
      "/var/folders/sz/wn8m1w7133944wry01207fsh0000gn/T/ipykernel_42366/1147703945.py:13: SettingWithCopyWarning: \n",
      "A value is trying to be set on a copy of a slice from a DataFrame.\n",
      "Try using .loc[row_indexer,col_indexer] = value instead\n",
      "\n",
      "See the caveats in the documentation: https://pandas.pydata.org/pandas-docs/stable/user_guide/indexing.html#returning-a-view-versus-a-copy\n",
      "  df['date'] = pd.to_datetime(df['date'])\n",
      "/var/folders/sz/wn8m1w7133944wry01207fsh0000gn/T/ipykernel_42366/1147703945.py:14: FutureWarning: 'M' is deprecated and will be removed in a future version, please use 'ME' instead.\n",
      "  df_resampled = df.set_index('date').groupby('predictor').resample(freq).apply(compound_returns).reset_index()\n"
     ]
    },
    {
     "name": "stdout",
     "output_type": "stream",
     "text": [
      "\n",
      "Accounting factors (annual rebalancing):\n",
      "                   Factor  FF3 Alpha  T-Value\n",
      "0                Accruals     2.0269   1.6537\n",
      "1            AnalystValue     1.3451   0.6741\n",
      "2             AssetGrowth    -0.5732  -0.4429\n",
      "3                      BM    -1.1189  -0.6940\n",
      "4                   BPEBM    -2.1438  -1.1774\n",
      "5            BookLeverage    -1.3604  -0.7662\n",
      "6              CBOperProf     2.4849   2.7927\n",
      "7                      CF     2.5372   1.3782\n",
      "8         ChAssetTurnover    -2.2388  -2.6820\n",
      "9                   ChNWC    -3.1211  -2.3622\n",
      "10             CompEquIss     4.5607   3.6458\n",
      "11  CompositeDebtIssuance     2.6408   2.2855\n",
      "12                    EBM    -5.1105  -3.7984\n",
      "13                     EP    -1.1724  -0.6967\n",
      "14       EarningsSurprise    -0.3017  -0.4078\n",
      "15                     GP     1.8384   0.6041\n",
      "16                   Herf    -4.5666  -4.0404\n",
      "17              InvGrowth    -2.8158  -1.6999\n",
      "18                    NOA    -2.3752  -0.8449\n",
      "19               OperProf     3.9567   1.8826\n",
      "20                     PS     1.0015   0.3426\n",
      "21              RDAbility    -6.3710  -3.6974\n",
      "22                    RoE     2.2527   1.1292\n",
      "23                     SP     0.2882   0.4014\n",
      "24             ShareIss1Y     2.3901   1.3325\n",
      "25             ShareIss5Y     1.8230   0.8632\n",
      "26                   Size    -4.5108  -1.8730\n",
      "27                   XFIN     4.0304   2.3380\n",
      "28                    cfp     4.8337   3.0332\n",
      "29                   roaq     8.1158   3.7547\n",
      "\n",
      "Return factors (monthly rebalancing):\n",
      "                  Factor  FF3 Alpha  T-Value\n",
      "0                   Beta    -0.7162  -2.8559\n",
      "1        BetaLiquidityPS     0.1928   1.6980\n",
      "2            CPVolSpread     0.3954   3.4405\n",
      "3             Coskewness    -0.1172  -0.8932\n",
      "4       CustomerMomentum    -0.0643  -0.2026\n",
      "5                 DolVol     0.1153   0.6534\n",
      "6                FirmAge    -0.1469  -1.1739\n",
      "7               Frontier     0.0319   0.1789\n",
      "8                 High52     0.2334   1.0876\n",
      "9              IdioVol3F     0.5342   2.1146\n",
      "10           Illiquidity     0.1064   1.1298\n",
      "11                IntMom     0.1978   0.6912\n",
      "12            LRreversal    -0.3396  -1.3824\n",
      "13                MaxRet     0.6963   3.3786\n",
      "14                Mom12m     0.1264   0.3764\n",
      "15                 Mom6m    -0.0533  -0.1813\n",
      "16             Mom6mJunk     0.0146   0.0499\n",
      "17          MomOffSeason    -0.3351  -1.9608\n",
      "18  MomOffSeason06YrPlus     0.6887   4.3422\n",
      "19  MomOffSeason11YrPlus     0.3061   2.3874\n",
      "20  MomOffSeason16YrPlus     0.1167   0.7969\n",
      "21             MomSeason    -0.1587  -1.0996\n",
      "22     MomSeason06YrPlus     0.2463   1.4959\n",
      "23     MomSeason11YrPlus     0.0610   0.4735\n",
      "24     MomSeason16YrPlus    -0.0055  -0.0320\n",
      "25        MomSeasonShort     0.0623   0.3186\n",
      "26           RIVolSpread     0.2563   1.6901\n",
      "27      ResidualMomentum     0.1474   1.0406\n",
      "28            STreversal    -0.0824  -0.2957\n",
      "29                VolMkt     0.1692   1.1695\n",
      "30                 VolSD     0.2268   2.5448\n",
      "31              std_turn     0.3158   1.5254\n"
     ]
    }
   ],
   "source": [
    "# Resample accounting data annually\n",
    "accounting_data_resampled_5 = resample_and_calculate(accounting_data_5, 'A')\n",
    "\n",
    "# Resample return data monthly\n",
    "return_data_resampled_5 = resample_and_calculate(return_data_5, 'M')\n",
    "\n",
    "# Calculate dynamic factor return\n",
    "accounting_data_resampled_5['factor_return'] = accounting_data_resampled_5.apply(calculate_dynamic_factor_return, axis=1)\n",
    "return_data_resampled_5['factor_return'] = return_data_resampled_5.apply(calculate_dynamic_factor_return, axis=1)\n",
    "\n",
    "# Calculate alpha and t-values for accounting data\n",
    "accounting_results_5 = calculate_ff3_alpha_and_tvalues(accounting_data_resampled_5, max_lag=1)\n",
    "# Calculate stats for return data\n",
    "return_results_5 = calculate_ff3_alpha_and_tvalues(return_data_resampled_5, max_lag=12)\n",
    "\n",
    "# Dsiplay results\n",
    "print(\"\\nAccounting factors (annual rebalancing):\")\n",
    "print(accounting_results_5.round(4))\n",
    "\n",
    "print(\"\\nReturn factors (monthly rebalancing):\")\n",
    "print(return_results_5.round(4))"
   ],
   "metadata": {
    "collapsed": false,
    "ExecuteTime": {
     "end_time": "2025-03-15T03:08:39.981128Z",
     "start_time": "2025-03-15T03:07:49.615164Z"
    }
   }
  },
  {
   "cell_type": "markdown",
   "source": [
    "### 4.3 Regression 2 - FF5"
   ],
   "metadata": {
    "collapsed": false
   }
  },
  {
   "cell_type": "code",
   "execution_count": 31,
   "outputs": [],
   "source": [
    "# read the merged data\n",
    "sample_data_3 = pd.read_csv('data/merged_data_with_ff5_2.csv')\n",
    "# divide by 100\n",
    "port_columns = ['port01', 'port02', 'port03', 'port04', 'port05', 'Mkt-RF', 'SMB', 'HML', 'RMW', 'CMA', 'RF']\n",
    "sample_data_3[port_columns] = sample_data_3[port_columns] / 100\n",
    "# only retain columns that are needed\n",
    "sample_data_3 = sample_data_3[['date', 'predictor'] + port_columns]\n",
    "\n",
    "# Separate accounting and return data\n",
    "accounting_data_6 = sample_data_3[sample_data_3['predictor'].isin(accounting_factors)]\n",
    "return_data_6 = sample_data_3[sample_data_3['predictor'].isin(return_factors)]"
   ],
   "metadata": {
    "collapsed": false,
    "ExecuteTime": {
     "end_time": "2025-03-15T03:08:39.982367Z",
     "start_time": "2025-03-15T03:08:26.577154Z"
    }
   }
  },
  {
   "cell_type": "code",
   "execution_count": 32,
   "outputs": [
    {
     "name": "stderr",
     "output_type": "stream",
     "text": [
      "/var/folders/sz/wn8m1w7133944wry01207fsh0000gn/T/ipykernel_42366/1147703945.py:13: SettingWithCopyWarning: \n",
      "A value is trying to be set on a copy of a slice from a DataFrame.\n",
      "Try using .loc[row_indexer,col_indexer] = value instead\n",
      "\n",
      "See the caveats in the documentation: https://pandas.pydata.org/pandas-docs/stable/user_guide/indexing.html#returning-a-view-versus-a-copy\n",
      "  df['date'] = pd.to_datetime(df['date'])\n",
      "/var/folders/sz/wn8m1w7133944wry01207fsh0000gn/T/ipykernel_42366/1147703945.py:14: FutureWarning: 'A' is deprecated and will be removed in a future version, please use 'YE' instead.\n",
      "  df_resampled = df.set_index('date').groupby('predictor').resample(freq).apply(compound_returns).reset_index()\n",
      "/var/folders/sz/wn8m1w7133944wry01207fsh0000gn/T/ipykernel_42366/1147703945.py:13: SettingWithCopyWarning: \n",
      "A value is trying to be set on a copy of a slice from a DataFrame.\n",
      "Try using .loc[row_indexer,col_indexer] = value instead\n",
      "\n",
      "See the caveats in the documentation: https://pandas.pydata.org/pandas-docs/stable/user_guide/indexing.html#returning-a-view-versus-a-copy\n",
      "  df['date'] = pd.to_datetime(df['date'])\n",
      "/var/folders/sz/wn8m1w7133944wry01207fsh0000gn/T/ipykernel_42366/1147703945.py:14: FutureWarning: 'M' is deprecated and will be removed in a future version, please use 'ME' instead.\n",
      "  df_resampled = df.set_index('date').groupby('predictor').resample(freq).apply(compound_returns).reset_index()\n"
     ]
    },
    {
     "name": "stdout",
     "output_type": "stream",
     "text": [
      "\n",
      "Accounting factors (annual rebalancing) - FF5:\n",
      "                   Factor  FF5 Alpha  T-Value\n",
      "0                Accruals     1.3354   0.6928\n",
      "1            AnalystValue    -1.4842  -0.6677\n",
      "2             AssetGrowth     2.4952   1.4692\n",
      "3                      BM     2.1416   1.3354\n",
      "4                   BPEBM     0.3251   0.1028\n",
      "5            BookLeverage    -0.4248  -0.1493\n",
      "6              CBOperProf     1.5739   1.2092\n",
      "7                      CF    -0.5907  -0.2185\n",
      "8         ChAssetTurnover    -1.2591  -1.1160\n",
      "9                   ChNWC    -4.6118  -2.5678\n",
      "10             CompEquIss     5.5441   5.0769\n",
      "11  CompositeDebtIssuance     4.1725   1.9266\n",
      "12                    EBM    -2.4192  -1.0973\n",
      "13                     EP    -2.1530  -0.7294\n",
      "14       EarningsSurprise     1.4258   1.0428\n",
      "15                     GP     0.8561   0.1872\n",
      "16                   Herf    -1.3029  -0.7080\n",
      "17              InvGrowth    -1.1852  -0.4215\n",
      "18                    NOA    -1.0558  -0.2155\n",
      "19               OperProf    -2.6252  -1.1847\n",
      "20                     PS   -13.2187  -2.0404\n",
      "21              RDAbility   -10.5891  -4.0616\n",
      "22                    RoE    -5.5634  -2.5671\n",
      "23                     SP    -0.2072  -0.2651\n",
      "24             ShareIss1Y    -4.4486  -2.6340\n",
      "25             ShareIss5Y    -2.2880  -0.8622\n",
      "26                   Size    -3.4855  -0.6336\n",
      "27                   XFIN    -0.1987  -0.0656\n",
      "28                    cfp    -0.0995  -0.0366\n",
      "29                   roaq    -0.1200  -0.0534\n",
      "\n",
      "Return factors (monthly rebalancing) - FF5:\n",
      "                  Factor  FF5 Alpha  T-Value\n",
      "0                   Beta    -0.1069  -0.4638\n",
      "1        BetaLiquidityPS     0.0991   0.8166\n",
      "2            CPVolSpread     0.3733   3.0789\n",
      "3             Coskewness     0.0626   0.4183\n",
      "4       CustomerMomentum     0.1011   0.2809\n",
      "5                 DolVol     0.1302   0.7484\n",
      "6                FirmAge    -0.0766  -0.6745\n",
      "7               Frontier     0.2494   1.5597\n",
      "8                 High52    -0.1597  -0.6065\n",
      "9              IdioVol3F    -0.0965  -0.4053\n",
      "10           Illiquidity     0.0654   0.6603\n",
      "11                IntMom     0.0762   0.2813\n",
      "12            LRreversal    -0.1541  -0.7211\n",
      "13                MaxRet     0.0907   0.5535\n",
      "14                Mom12m    -0.2536  -0.6283\n",
      "15                 Mom6m    -0.3441  -0.9896\n",
      "16             Mom6mJunk    -0.2816  -0.8201\n",
      "17          MomOffSeason    -0.2417  -1.3050\n",
      "18  MomOffSeason06YrPlus     0.6347   4.0682\n",
      "19  MomOffSeason11YrPlus     0.3529   2.1835\n",
      "20  MomOffSeason16YrPlus     0.0520   0.3771\n",
      "21             MomSeason    -0.0822  -0.5274\n",
      "22     MomSeason06YrPlus     0.4031   1.8874\n",
      "23     MomSeason11YrPlus     0.1444   1.0219\n",
      "24     MomSeason16YrPlus     0.0963   0.5656\n",
      "25        MomSeasonShort    -0.0569  -0.2819\n",
      "26           RIVolSpread     0.1247   0.6849\n",
      "27      ResidualMomentum     0.0385   0.2868\n",
      "28            STreversal     0.0408   0.1436\n",
      "29                VolMkt    -0.1728  -1.1655\n",
      "30                 VolSD     0.2118   2.2411\n",
      "31              std_turn     0.2033   1.0208\n"
     ]
    }
   ],
   "source": [
    "# Resample accounting data annually\n",
    "accounting_data_resampled_6 = resample_and_calculate(accounting_data_6, 'A')\n",
    "\n",
    "# Resample return data monthly\n",
    "return_data_resampled_6 = resample_and_calculate(return_data_6, 'M')\n",
    "\n",
    "# Calculate dynamic factor return\n",
    "accounting_data_resampled_6['factor_return'] = accounting_data_resampled_6.apply(calculate_dynamic_factor_return, axis=1)\n",
    "return_data_resampled_6['factor_return'] = return_data_resampled_6.apply(calculate_dynamic_factor_return, axis=1)\n",
    "\n",
    "# Calculate alpha and t-values for accounting data for FF5\n",
    "accounting_results_6 = calculate_ff5_alpha_and_tvalues(accounting_data_resampled_6, max_lag=1)\n",
    "# Calculate stats for return data for FF5\n",
    "return_results_6 = calculate_ff5_alpha_and_tvalues(return_data_resampled_6, max_lag=12)\n",
    "\n",
    "# Display results for FF5\n",
    "print(\"\\nAccounting factors (annual rebalancing) - FF5:\")\n",
    "print(accounting_results_6.round(4))\n",
    "\n",
    "print(\"\\nReturn factors (monthly rebalancing) - FF5:\")\n",
    "print(return_results_6.round(4))"
   ],
   "metadata": {
    "collapsed": false,
    "ExecuteTime": {
     "end_time": "2025-03-15T03:08:50.612658Z",
     "start_time": "2025-03-15T03:08:26.770682Z"
    }
   }
  },
  {
   "cell_type": "markdown",
   "source": [
    "### 4.4 Combine all the regressions"
   ],
   "metadata": {
    "collapsed": false
   }
  },
  {
   "cell_type": "code",
   "execution_count": 33,
   "outputs": [
    {
     "name": "stdout",
     "output_type": "stream",
     "text": [
      "\n",
      "Accounting factors (annual rebalancing):\n",
      "                   Factor  Average Returns  T-Value_1  FF3 Alpha  T-Value_2  \\\n",
      "0                Accruals           1.3672     0.7513     2.0269     1.6537   \n",
      "1            AnalystValue           5.2369     1.3515     1.3451     0.6741   \n",
      "2             AssetGrowth           4.5956     1.9041    -0.5732    -0.4429   \n",
      "3                      BM           5.5090     1.8247    -1.1189    -0.6940   \n",
      "4                   BPEBM           0.4651     0.3839    -2.1438    -1.1774   \n",
      "5            BookLeverage          -2.3794    -0.8972    -1.3604    -0.7662   \n",
      "6              CBOperProf           1.2786     0.7626     2.4849     2.7927   \n",
      "7                      CF           5.5339     2.4908     2.5372     1.3782   \n",
      "8         ChAssetTurnover          -0.2058    -0.2138    -2.2388    -2.6820   \n",
      "9                   ChNWC          -2.0116    -2.8594    -3.1211    -2.3622   \n",
      "10             CompEquIss           1.7482     0.6605     4.5607     3.6458   \n",
      "11  CompositeDebtIssuance           3.4452     3.1524     2.6408     2.2855   \n",
      "12                    EBM           2.5826     0.8227    -5.1105    -3.7984   \n",
      "13                     EP           4.9772     1.5964    -1.1724    -0.6967   \n",
      "14       EarningsSurprise           1.6227     1.2572    -0.3017    -0.4078   \n",
      "15                     GP           1.0183     0.5508     1.8384     0.6041   \n",
      "16                   Herf          -2.5717    -2.5392    -4.5666    -4.0404   \n",
      "17              InvGrowth           0.7770     0.3666    -2.8158    -1.6999   \n",
      "18                    NOA           2.2584     0.9643    -2.3752    -0.8449   \n",
      "19               OperProf           2.3946     0.6920     3.9567     1.8826   \n",
      "20                     PS           8.3875     1.8196     1.0015     0.3426   \n",
      "21              RDAbility          -1.0864    -0.3718    -6.3710    -3.6974   \n",
      "22                    RoE           2.9630     1.1461     2.2527     1.1292   \n",
      "23                     SP           7.2476     2.6179     0.2882     0.4014   \n",
      "24             ShareIss1Y           4.2290     1.6234     2.3901     1.3325   \n",
      "25             ShareIss5Y           2.8162     2.0095     1.8230     0.8632   \n",
      "26                   Size           4.6445     0.8309    -4.5108    -1.8730   \n",
      "27                   XFIN           5.3291     1.6087     4.0304     2.3380   \n",
      "28                    cfp           5.9135     1.7731     4.8337     3.0332   \n",
      "29                   roaq           4.4296     1.1411     8.1158     3.7547   \n",
      "\n",
      "    FF5 Alpha  T-Value  \n",
      "0      1.3354   0.6928  \n",
      "1     -1.4842  -0.6677  \n",
      "2      2.4952   1.4692  \n",
      "3      2.1416   1.3354  \n",
      "4      0.3251   0.1028  \n",
      "5     -0.4248  -0.1493  \n",
      "6      1.5739   1.2092  \n",
      "7     -0.5907  -0.2185  \n",
      "8     -1.2591  -1.1160  \n",
      "9     -4.6118  -2.5678  \n",
      "10     5.5441   5.0769  \n",
      "11     4.1725   1.9266  \n",
      "12    -2.4192  -1.0973  \n",
      "13    -2.1530  -0.7294  \n",
      "14     1.4258   1.0428  \n",
      "15     0.8561   0.1872  \n",
      "16    -1.3029  -0.7080  \n",
      "17    -1.1852  -0.4215  \n",
      "18    -1.0558  -0.2155  \n",
      "19    -2.6252  -1.1847  \n",
      "20   -13.2187  -2.0404  \n",
      "21   -10.5891  -4.0616  \n",
      "22    -5.5634  -2.5671  \n",
      "23    -0.2072  -0.2651  \n",
      "24    -4.4486  -2.6340  \n",
      "25    -2.2880  -0.8622  \n",
      "26    -3.4855  -0.6336  \n",
      "27    -0.1987  -0.0656  \n",
      "28    -0.0995  -0.0366  \n",
      "29    -0.1200  -0.0534  \n",
      "\n",
      "Return factors (monthly rebalancing):\n",
      "                  Factor  Average Returns  T-Value_1  FF3 Alpha  T-Value_2  \\\n",
      "0                   Beta          -0.3170    -0.6951    -0.7162    -2.8559   \n",
      "1        BetaLiquidityPS           0.2470     1.7710     0.1928     1.6980   \n",
      "2            CPVolSpread           0.4038     4.7760     0.3954     3.4405   \n",
      "3             Coskewness           0.0421     0.3008    -0.1172    -0.8932   \n",
      "4       CustomerMomentum           0.0949     0.2889    -0.0643    -0.2026   \n",
      "5                 DolVol           0.2743     1.4333     0.1153     0.6534   \n",
      "6                FirmAge           0.0946     0.5281    -0.1469    -1.1739   \n",
      "7               Frontier           0.5381     2.0760     0.0319     0.1789   \n",
      "8                 High52           0.1832     0.5378     0.2334     1.0876   \n",
      "9              IdioVol3F           0.4555     0.8933     0.5342     2.1146   \n",
      "10           Illiquidity           0.3014     2.3917     0.1064     1.1298   \n",
      "11                IntMom           0.0508     0.1315     0.1978     0.6912   \n",
      "12            LRreversal           0.1681     0.5422    -0.3396    -1.3824   \n",
      "13                MaxRet           0.5912     1.1746     0.6963     3.3786   \n",
      "14                Mom12m           0.0215     0.0552     0.1264     0.3764   \n",
      "15                 Mom6m           0.0963     0.3150    -0.0533    -0.1813   \n",
      "16             Mom6mJunk           0.0823     0.2831     0.0146     0.0499   \n",
      "17          MomOffSeason           0.0382     0.1455    -0.3351    -1.9608   \n",
      "18  MomOffSeason06YrPlus           0.7713     4.7331     0.6887     4.3422   \n",
      "19  MomOffSeason11YrPlus           0.3793     2.9156     0.3061     2.3874   \n",
      "20  MomOffSeason16YrPlus           0.1568     1.2018     0.1167     0.7969   \n",
      "21             MomSeason          -0.0930    -0.5618    -0.1587    -1.0996   \n",
      "22     MomSeason06YrPlus           0.4071     2.3409     0.2463     1.4959   \n",
      "23     MomSeason11YrPlus           0.1747     1.4870     0.0610     0.4735   \n",
      "24     MomSeason16YrPlus           0.1009     0.6578    -0.0055    -0.0320   \n",
      "25        MomSeasonShort           0.0585     0.2748     0.0623     0.3186   \n",
      "26           RIVolSpread           0.4248     2.3338     0.2563     1.6901   \n",
      "27      ResidualMomentum           0.2388     1.5189     0.1474     1.0406   \n",
      "28            STreversal           0.1769     0.7130    -0.0824    -0.2957   \n",
      "29                VolMkt           0.2450     1.0124     0.1692     1.1695   \n",
      "30                 VolSD           0.3245     2.8222     0.2268     2.5448   \n",
      "31              std_turn          -0.2933    -0.7028     0.3158     1.5254   \n",
      "\n",
      "    FF5 Alpha  T-Value  \n",
      "0     -0.1069  -0.4638  \n",
      "1      0.0991   0.8166  \n",
      "2      0.3733   3.0789  \n",
      "3      0.0626   0.4183  \n",
      "4      0.1011   0.2809  \n",
      "5      0.1302   0.7484  \n",
      "6     -0.0766  -0.6745  \n",
      "7      0.2494   1.5597  \n",
      "8     -0.1597  -0.6065  \n",
      "9     -0.0965  -0.4053  \n",
      "10     0.0654   0.6603  \n",
      "11     0.0762   0.2813  \n",
      "12    -0.1541  -0.7211  \n",
      "13     0.0907   0.5535  \n",
      "14    -0.2536  -0.6283  \n",
      "15    -0.3441  -0.9896  \n",
      "16    -0.2816  -0.8201  \n",
      "17    -0.2417  -1.3050  \n",
      "18     0.6347   4.0682  \n",
      "19     0.3529   2.1835  \n",
      "20     0.0520   0.3771  \n",
      "21    -0.0822  -0.5274  \n",
      "22     0.4031   1.8874  \n",
      "23     0.1444   1.0219  \n",
      "24     0.0963   0.5656  \n",
      "25    -0.0569  -0.2819  \n",
      "26     0.1247   0.6849  \n",
      "27     0.0385   0.2868  \n",
      "28     0.0408   0.1436  \n",
      "29    -0.1728  -1.1655  \n",
      "30     0.2118   2.2411  \n",
      "31     0.2033   1.0208  \n"
     ]
    }
   ],
   "source": [
    "# combine the results\n",
    "accounting_results_sample = accounting_results_4.merge(accounting_results_5, on='Factor', suffixes=('_1', '_2')).merge(accounting_results_6, on='Factor', suffixes=('', '_3'))\n",
    "\n",
    "# combine the results of return_results_1, return_results_2, return_results_3\n",
    "return_results_sample = return_results_4.merge(return_results_5, on='Factor', suffixes=('_1', '_2')).merge(return_results_6, on='Factor', suffixes=('', '_3'))\n",
    "\n",
    "# display the results\n",
    "print(\"\\nAccounting factors (annual rebalancing):\")\n",
    "print(accounting_results_sample.round(4))\n",
    "\n",
    "print(\"\\nReturn factors (monthly rebalancing):\")\n",
    "print(return_results_sample.round(4))"
   ],
   "metadata": {
    "collapsed": false,
    "ExecuteTime": {
     "end_time": "2025-03-15T03:08:51.574844Z",
     "start_time": "2025-03-15T03:08:50.633683Z"
    }
   }
  },
  {
   "cell_type": "code",
   "execution_count": 34,
   "outputs": [],
   "source": [
    "# save the results\n",
    "accounting_results_sample.to_csv('accounting_factors_annual_sample_2000_2016.csv', index=False)\n",
    "return_results_sample.to_csv('return_factors_monthly_sample_2000_2016.csv', index=False)"
   ],
   "metadata": {
    "collapsed": false,
    "ExecuteTime": {
     "end_time": "2025-03-15T03:08:52.315808Z",
     "start_time": "2025-03-15T03:08:50.716367Z"
    }
   }
  },
  {
   "cell_type": "markdown",
   "source": [
    "## 5. Regression in the 2017-2023 'post' time period"
   ],
   "metadata": {
    "collapsed": false
   }
  },
  {
   "cell_type": "markdown",
   "source": [
    "* In this section, calculations and regression studies will be conducted for the timeline 2017-2023.\n",
    "* The calculation steps are the same as the previous section, and the results are output."
   ],
   "metadata": {
    "collapsed": false
   }
  },
  {
   "cell_type": "markdown",
   "source": [
    "### 5.1 Preliminary analysis"
   ],
   "metadata": {
    "collapsed": false
   }
  },
  {
   "cell_type": "code",
   "execution_count": 35,
   "outputs": [
    {
     "name": "stderr",
     "output_type": "stream",
     "text": [
      "/var/folders/sz/wn8m1w7133944wry01207fsh0000gn/T/ipykernel_42366/1147703945.py:13: SettingWithCopyWarning: \n",
      "A value is trying to be set on a copy of a slice from a DataFrame.\n",
      "Try using .loc[row_indexer,col_indexer] = value instead\n",
      "\n",
      "See the caveats in the documentation: https://pandas.pydata.org/pandas-docs/stable/user_guide/indexing.html#returning-a-view-versus-a-copy\n",
      "  df['date'] = pd.to_datetime(df['date'])\n",
      "/var/folders/sz/wn8m1w7133944wry01207fsh0000gn/T/ipykernel_42366/1147703945.py:14: FutureWarning: 'A' is deprecated and will be removed in a future version, please use 'YE' instead.\n",
      "  df_resampled = df.set_index('date').groupby('predictor').resample(freq).apply(compound_returns).reset_index()\n",
      "/var/folders/sz/wn8m1w7133944wry01207fsh0000gn/T/ipykernel_42366/1147703945.py:13: SettingWithCopyWarning: \n",
      "A value is trying to be set on a copy of a slice from a DataFrame.\n",
      "Try using .loc[row_indexer,col_indexer] = value instead\n",
      "\n",
      "See the caveats in the documentation: https://pandas.pydata.org/pandas-docs/stable/user_guide/indexing.html#returning-a-view-versus-a-copy\n",
      "  df['date'] = pd.to_datetime(df['date'])\n",
      "/var/folders/sz/wn8m1w7133944wry01207fsh0000gn/T/ipykernel_42366/1147703945.py:14: FutureWarning: 'M' is deprecated and will be removed in a future version, please use 'ME' instead.\n",
      "  df_resampled = df.set_index('date').groupby('predictor').resample(freq).apply(compound_returns).reset_index()\n"
     ]
    },
    {
     "name": "stdout",
     "output_type": "stream",
     "text": [
      "\n",
      "Accounting factors (annual rebalancing):\n",
      "                   Factor  Average Returns  T-Value\n",
      "0                Accruals           3.0707   2.3000\n",
      "1            AnalystValue          -1.3983  -0.1554\n",
      "2             AssetGrowth          -3.5381  -0.6802\n",
      "3                      BM          -2.3012  -0.3411\n",
      "4                   BPEBM           7.5033   1.8866\n",
      "5            BookLeverage          -1.5729  -0.7963\n",
      "6              CBOperProf           8.8805   3.6424\n",
      "7                      CF          -4.3853  -0.6471\n",
      "8         ChAssetTurnover          -1.3721  -0.6764\n",
      "9                   ChNWC          -0.1080  -0.0441\n",
      "10             CompEquIss           5.4558   1.4655\n",
      "11  CompositeDebtIssuance          -6.7167  -2.1431\n",
      "12                    EBM          -5.5230  -1.0961\n",
      "13                     EP           0.6192   0.1521\n",
      "14       EarningsSurprise           0.9045   0.8006\n",
      "15                     GP          13.7538   5.1291\n",
      "16                   Herf           1.3655   0.3726\n",
      "17              InvGrowth          -1.1639  -0.1957\n",
      "18                    NOA           6.5640   4.0194\n",
      "19               OperProf           6.2947   3.1237\n",
      "20                     PS           1.6476   0.7051\n",
      "21              RDAbility           9.1343   1.4958\n",
      "22                    RoE           3.2521   1.4054\n",
      "23                     SP          -5.4446  -0.7320\n",
      "24             ShareIss1Y           1.7167   0.3499\n",
      "25             ShareIss5Y           5.7958   2.5215\n",
      "26                   Size          -7.9644  -1.3218\n",
      "27                   XFIN           2.4364   0.3884\n",
      "28                    cfp          -0.6839  -0.0833\n",
      "29                   roaq           8.4779   1.8766\n",
      "\n",
      "Return factors (monthly rebalancing):\n",
      "                  Factor  Average Returns  T-Value\n",
      "0                   Beta           0.3402   0.7138\n",
      "1        BetaLiquidityPS          -0.2822  -3.0510\n",
      "2            CPVolSpread           0.0475   0.3071\n",
      "3             Coskewness           0.6333   3.5786\n",
      "4       CustomerMomentum           0.1259   0.3733\n",
      "5                 DolVol          -0.5136  -3.0752\n",
      "6                FirmAge          -0.1274  -0.2205\n",
      "7               Frontier          -0.5262  -1.3017\n",
      "8                 High52          -0.0889  -0.2222\n",
      "9              IdioVol3F           0.2556   0.4370\n",
      "10           Illiquidity          -0.3984  -2.9525\n",
      "11                IntMom          -0.6081  -1.1470\n",
      "12            LRreversal           0.1037   0.1671\n",
      "13                MaxRet           0.0255   0.0501\n",
      "14                Mom12m           0.0219   0.0404\n",
      "15                 Mom6m           0.5886   1.3471\n",
      "16             Mom6mJunk           0.4742   2.2475\n",
      "17          MomOffSeason          -0.1826  -0.3653\n",
      "18  MomOffSeason06YrPlus           0.1973   0.7022\n",
      "19  MomOffSeason11YrPlus          -0.3782  -1.6647\n",
      "20  MomOffSeason16YrPlus          -0.1125  -0.6236\n",
      "21             MomSeason          -0.0925  -0.2397\n",
      "22     MomSeason06YrPlus           0.0731   0.3239\n",
      "23     MomSeason11YrPlus          -0.1639  -0.9107\n",
      "24     MomSeason16YrPlus           0.2409   1.5781\n",
      "25        MomSeasonShort          -0.1933  -0.8932\n",
      "26           RIVolSpread           0.2942   0.8336\n",
      "27      ResidualMomentum          -0.1803  -1.2714\n",
      "28            STreversal          -0.0723  -0.2133\n",
      "29                VolMkt          -0.2742  -0.6044\n",
      "30                 VolSD          -0.0247  -0.3018\n",
      "31              std_turn          -0.3483  -0.5261\n"
     ]
    }
   ],
   "source": [
    "# Read the merged data\n",
    "post_data = pd.read_csv('data/merged_data_with_ff3_3.csv')\n",
    "# Divide by 100\n",
    "port_columns_1 = ['port01', 'port02', 'port03', 'port04', 'port05']\n",
    "post_data[port_columns_1] = post_data[port_columns_1] / 100\n",
    "# only retain columns that are needed\n",
    "post_data = post_data[['date', 'predictor'] + port_columns_1]\n",
    "\n",
    "# Separate accounting and return data\n",
    "accounting_data_7 = post_data[post_data['predictor'].isin(accounting_factors)]\n",
    "return_data_7 = post_data[post_data['predictor'].isin(return_factors)]\n",
    "# Resample accounting data annually\n",
    "accounting_data_resampled_7 = resample_and_calculate(accounting_data_7, 'A')\n",
    "\n",
    "# Resample return data monthly\n",
    "return_data_resampled_7 = resample_and_calculate(return_data_7, 'M')\n",
    "\n",
    "# Calculate dynamic factor return\n",
    "accounting_data_resampled_7['factor_return'] = accounting_data_resampled_7.apply(calculate_dynamic_factor_return, axis=1)\n",
    "return_data_resampled_7['factor_return'] = return_data_resampled_7.apply(calculate_dynamic_factor_return, axis=1)\n",
    "\n",
    "# Calculate stats for accounting data\n",
    "accounting_results_7 = calculate_newey_west_t_value(accounting_data_resampled_7, max_lag=1)\n",
    "\n",
    "# Calculate stats for return data\n",
    "return_results_7 = calculate_newey_west_t_value(return_data_resampled_7, max_lag=12)\n",
    "\n",
    "# Display results\n",
    "print(\"\\nAccounting factors (annual rebalancing):\")\n",
    "print(accounting_results_7.round(4))\n",
    "\n",
    "print(\"\\nReturn factors (monthly rebalancing):\")\n",
    "print(return_results_7.round(4))"
   ],
   "metadata": {
    "collapsed": false,
    "ExecuteTime": {
     "end_time": "2025-03-15T03:08:58.391716Z",
     "start_time": "2025-03-15T03:08:50.816437Z"
    }
   }
  },
  {
   "cell_type": "markdown",
   "source": [
    "### 5.2 Regression 1 - FF3"
   ],
   "metadata": {
    "collapsed": false
   }
  },
  {
   "cell_type": "code",
   "execution_count": 36,
   "outputs": [],
   "source": [
    "# read the merged data\n",
    "post_data_2 = pd.read_csv('data/merged_data_with_ff3_3.csv')\n",
    "# divide by 100\n",
    "port_columns = ['port01', 'port02', 'port03', 'port04', 'port05', 'Mkt-RF', 'SMB', 'HML', 'RF']\n",
    "post_data_2[port_columns] = post_data_2[port_columns] / 100\n",
    "# only retain columns that are needed\n",
    "post_data_2 = post_data_2[['date', 'predictor'] + port_columns]\n",
    "\n",
    "# Separate accounting and return data\n",
    "accounting_data_8 = post_data_2[post_data_2['predictor'].isin(accounting_factors)]\n",
    "return_data_8 = post_data_2[post_data_2['predictor'].isin(return_factors)]"
   ],
   "metadata": {
    "collapsed": false,
    "ExecuteTime": {
     "end_time": "2025-03-15T03:08:59.066568Z",
     "start_time": "2025-03-15T03:08:58.421683Z"
    }
   }
  },
  {
   "cell_type": "code",
   "execution_count": 37,
   "outputs": [
    {
     "name": "stderr",
     "output_type": "stream",
     "text": [
      "/var/folders/sz/wn8m1w7133944wry01207fsh0000gn/T/ipykernel_42366/1147703945.py:13: SettingWithCopyWarning: \n",
      "A value is trying to be set on a copy of a slice from a DataFrame.\n",
      "Try using .loc[row_indexer,col_indexer] = value instead\n",
      "\n",
      "See the caveats in the documentation: https://pandas.pydata.org/pandas-docs/stable/user_guide/indexing.html#returning-a-view-versus-a-copy\n",
      "  df['date'] = pd.to_datetime(df['date'])\n",
      "/var/folders/sz/wn8m1w7133944wry01207fsh0000gn/T/ipykernel_42366/1147703945.py:14: FutureWarning: 'A' is deprecated and will be removed in a future version, please use 'YE' instead.\n",
      "  df_resampled = df.set_index('date').groupby('predictor').resample(freq).apply(compound_returns).reset_index()\n",
      "/var/folders/sz/wn8m1w7133944wry01207fsh0000gn/T/ipykernel_42366/1147703945.py:13: SettingWithCopyWarning: \n",
      "A value is trying to be set on a copy of a slice from a DataFrame.\n",
      "Try using .loc[row_indexer,col_indexer] = value instead\n",
      "\n",
      "See the caveats in the documentation: https://pandas.pydata.org/pandas-docs/stable/user_guide/indexing.html#returning-a-view-versus-a-copy\n",
      "  df['date'] = pd.to_datetime(df['date'])\n",
      "/var/folders/sz/wn8m1w7133944wry01207fsh0000gn/T/ipykernel_42366/1147703945.py:14: FutureWarning: 'M' is deprecated and will be removed in a future version, please use 'ME' instead.\n",
      "  df_resampled = df.set_index('date').groupby('predictor').resample(freq).apply(compound_returns).reset_index()\n"
     ]
    },
    {
     "name": "stdout",
     "output_type": "stream",
     "text": [
      "\n",
      "Accounting factors (annual rebalancing):\n",
      "                   Factor  FF3 Alpha  T-Value\n",
      "0                Accruals     2.2930   1.3350\n",
      "1            AnalystValue    -6.8087  -2.8550\n",
      "2             AssetGrowth     3.0637   3.1404\n",
      "3                      BM    -3.1577  -8.9570\n",
      "4                   BPEBM    -0.3409  -0.1605\n",
      "5            BookLeverage    -5.3331 -22.7514\n",
      "6              CBOperProf     2.7114   0.8592\n",
      "7                      CF   -10.2273  -4.1887\n",
      "8         ChAssetTurnover    -1.5310  -1.7689\n",
      "9                   ChNWC    -2.7247  -1.0012\n",
      "10             CompEquIss     2.0206   0.8748\n",
      "11  CompositeDebtIssuance    -7.3449  -6.4830\n",
      "12                    EBM    -7.8155  -5.3184\n",
      "13                     EP    -3.9997  -6.7482\n",
      "14       EarningsSurprise     1.9416   3.1652\n",
      "15                     GP     8.4199   3.6093\n",
      "16                   Herf     2.0073   4.1105\n",
      "17              InvGrowth     1.1586   0.3521\n",
      "18                    NOA     3.8384  10.8106\n",
      "19               OperProf     0.5956   0.3134\n",
      "20                     PS    -5.0596  -6.2994\n",
      "21              RDAbility     0.9262   0.2744\n",
      "22                    RoE    -4.4365  -1.7915\n",
      "23                     SP    -2.3491  -2.0532\n",
      "24             ShareIss1Y     0.4544   0.1544\n",
      "25             ShareIss5Y     3.7462   3.6541\n",
      "26                   Size    -4.2715  -1.5849\n",
      "27                   XFIN     2.4265   0.8767\n",
      "28                    cfp    -0.7080  -0.3456\n",
      "29                   roaq     5.6214   3.6045\n",
      "\n",
      "Return factors (monthly rebalancing):\n",
      "                  Factor  FF3 Alpha  T-Value\n",
      "0                   Beta    -0.1021  -0.5805\n",
      "1        BetaLiquidityPS    -0.4635  -3.4777\n",
      "2            CPVolSpread    -0.0791  -0.4098\n",
      "3             Coskewness     0.4022   3.1934\n",
      "4       CustomerMomentum     0.0574   0.1566\n",
      "5                 DolVol    -0.3219  -1.9660\n",
      "6                FirmAge    -0.5350  -2.0453\n",
      "7               Frontier    -0.3618  -1.5064\n",
      "8                 High52     0.1053   0.3567\n",
      "9              IdioVol3F     0.4104   1.4620\n",
      "10           Illiquidity    -0.3764  -4.1440\n",
      "11                IntMom    -0.6867  -1.6639\n",
      "12            LRreversal     0.2919   0.9384\n",
      "13                MaxRet     0.2800   1.0221\n",
      "14                Mom12m     0.1157   0.2618\n",
      "15                 Mom6m     0.6676   1.4675\n",
      "16             Mom6mJunk     0.4124   1.4641\n",
      "17          MomOffSeason    -0.0676  -0.1996\n",
      "18  MomOffSeason06YrPlus     0.2911   1.3336\n",
      "19  MomOffSeason11YrPlus    -0.4101  -2.0439\n",
      "20  MomOffSeason16YrPlus    -0.1226  -0.8831\n",
      "21             MomSeason    -0.5287  -2.1430\n",
      "22     MomSeason06YrPlus    -0.0230  -0.0955\n",
      "23     MomSeason11YrPlus    -0.2654  -1.3892\n",
      "24     MomSeason16YrPlus     0.0433   0.3160\n",
      "25        MomSeasonShort    -0.4333  -1.6049\n",
      "26           RIVolSpread     0.4050   1.4301\n",
      "27      ResidualMomentum    -0.3191  -2.3973\n",
      "28            STreversal    -0.4589  -1.1701\n",
      "29                VolMkt    -0.1605  -0.6844\n",
      "30                 VolSD    -0.1149  -1.7926\n",
      "31              std_turn    -0.1854  -0.8060\n"
     ]
    }
   ],
   "source": [
    "# Resample accounting data annually\n",
    "accounting_data_resampled_8 = resample_and_calculate(accounting_data_8, 'A')\n",
    "\n",
    "# Resample return data monthly\n",
    "return_data_resampled_8 = resample_and_calculate(return_data_8, 'M')\n",
    "\n",
    "# Calculate dynamic factor return\n",
    "accounting_data_resampled_8['factor_return'] = accounting_data_resampled_8.apply(calculate_dynamic_factor_return, axis=1)\n",
    "return_data_resampled_8['factor_return'] = return_data_resampled_8.apply(calculate_dynamic_factor_return, axis=1)\n",
    "\n",
    "# Calculate alpha and t-values for accounting data\n",
    "accounting_results_8 = calculate_ff3_alpha_and_tvalues(accounting_data_resampled_8, max_lag=1)\n",
    "# Calculate stats for return data\n",
    "return_results_8 = calculate_ff3_alpha_and_tvalues(return_data_resampled_8, max_lag=12)\n",
    "\n",
    "# Dsiplay results\n",
    "print(\"\\nAccounting factors (annual rebalancing):\")\n",
    "print(accounting_results_8.round(4))\n",
    "\n",
    "print(\"\\nReturn factors (monthly rebalancing):\")\n",
    "print(return_results_8.round(4))"
   ],
   "metadata": {
    "collapsed": false,
    "ExecuteTime": {
     "end_time": "2025-03-15T03:09:07.090706Z",
     "start_time": "2025-03-15T03:08:58.866249Z"
    }
   }
  },
  {
   "cell_type": "markdown",
   "source": [
    "### 5.3 Regression 2 - FF5"
   ],
   "metadata": {
    "collapsed": false
   }
  },
  {
   "cell_type": "code",
   "execution_count": 38,
   "outputs": [],
   "source": [
    "# read the merged data\n",
    "post_data_3 = pd.read_csv('data/merged_data_with_ff5_3.csv')\n",
    "# divide by 100\n",
    "port_columns = ['port01', 'port02', 'port03', 'port04', 'port05', 'Mkt-RF', 'SMB', 'HML', 'RMW', 'CMA', 'RF']\n",
    "post_data_3[port_columns] = post_data_3[port_columns] / 100\n",
    "# only retain columns that are needed\n",
    "post_data_3 = post_data_3[['date', 'predictor'] + port_columns]\n",
    "\n",
    "# Separate accounting and return data\n",
    "accounting_data_9 = post_data_3[post_data_3['predictor'].isin(accounting_factors)]\n",
    "return_data_9 = post_data_3[post_data_3['predictor'].isin(return_factors)]"
   ],
   "metadata": {
    "collapsed": false,
    "ExecuteTime": {
     "end_time": "2025-03-15T03:09:07.626800Z",
     "start_time": "2025-03-15T03:09:07.065584Z"
    }
   }
  },
  {
   "cell_type": "code",
   "execution_count": 39,
   "outputs": [
    {
     "name": "stderr",
     "output_type": "stream",
     "text": [
      "/var/folders/sz/wn8m1w7133944wry01207fsh0000gn/T/ipykernel_42366/1147703945.py:13: SettingWithCopyWarning: \n",
      "A value is trying to be set on a copy of a slice from a DataFrame.\n",
      "Try using .loc[row_indexer,col_indexer] = value instead\n",
      "\n",
      "See the caveats in the documentation: https://pandas.pydata.org/pandas-docs/stable/user_guide/indexing.html#returning-a-view-versus-a-copy\n",
      "  df['date'] = pd.to_datetime(df['date'])\n",
      "/var/folders/sz/wn8m1w7133944wry01207fsh0000gn/T/ipykernel_42366/1147703945.py:14: FutureWarning: 'A' is deprecated and will be removed in a future version, please use 'YE' instead.\n",
      "  df_resampled = df.set_index('date').groupby('predictor').resample(freq).apply(compound_returns).reset_index()\n",
      "/var/folders/sz/wn8m1w7133944wry01207fsh0000gn/T/ipykernel_42366/1147703945.py:13: SettingWithCopyWarning: \n",
      "A value is trying to be set on a copy of a slice from a DataFrame.\n",
      "Try using .loc[row_indexer,col_indexer] = value instead\n",
      "\n",
      "See the caveats in the documentation: https://pandas.pydata.org/pandas-docs/stable/user_guide/indexing.html#returning-a-view-versus-a-copy\n",
      "  df['date'] = pd.to_datetime(df['date'])\n",
      "/var/folders/sz/wn8m1w7133944wry01207fsh0000gn/T/ipykernel_42366/1147703945.py:14: FutureWarning: 'M' is deprecated and will be removed in a future version, please use 'ME' instead.\n",
      "  df_resampled = df.set_index('date').groupby('predictor').resample(freq).apply(compound_returns).reset_index()\n"
     ]
    },
    {
     "name": "stdout",
     "output_type": "stream",
     "text": [
      "\n",
      "Accounting factors (annual rebalancing) - FF5:\n",
      "                   Factor  FF5 Alpha  T-Value\n",
      "0                Accruals     1.0552  15.8763\n",
      "1            AnalystValue    -4.2300  -1.0039\n",
      "2             AssetGrowth    -6.9771 -18.8303\n",
      "3                      BM    -2.8743 -14.6652\n",
      "4                   BPEBM    -0.9187  -1.2294\n",
      "5            BookLeverage    -4.5181  -3.3281\n",
      "6              CBOperProf    -4.6434  -3.4164\n",
      "7                      CF   -21.8642  -6.9187\n",
      "8         ChAssetTurnover    -4.2547  -1.2284\n",
      "9                   ChNWC   -17.3889 -10.0382\n",
      "10             CompEquIss    -8.2143  -2.7239\n",
      "11  CompositeDebtIssuance   -17.9511  -7.4080\n",
      "12                    EBM   -15.4486  -6.9946\n",
      "13                     EP     0.4341   0.1699\n",
      "14       EarningsSurprise    -3.0109  -1.4495\n",
      "15                     GP     9.1686  62.5820\n",
      "16                   Herf     3.0969   3.8416\n",
      "17              InvGrowth   -29.6955 -11.4080\n",
      "18                    NOA     6.1038   9.3501\n",
      "19               OperProf    -4.7009  -3.6850\n",
      "20                     PS    -0.1738  -0.0425\n",
      "21              RDAbility   -29.8490 -35.0321\n",
      "22                    RoE   -11.3176 -25.1791\n",
      "23                     SP   -12.6724  -3.7934\n",
      "24             ShareIss1Y   -14.6846 -28.6383\n",
      "25             ShareIss5Y     1.2067   1.1509\n",
      "26                   Size   -20.9825  -9.2739\n",
      "27                   XFIN   -12.1513  -9.9544\n",
      "28                    cfp    -5.4198  -6.0360\n",
      "29                   roaq     0.0086   0.0066\n",
      "\n",
      "Return factors (monthly rebalancing) - FF5:\n",
      "                  Factor  FF5 Alpha  T-Value\n",
      "0                   Beta     0.1481   0.7182\n",
      "1        BetaLiquidityPS    -0.4280  -2.9639\n",
      "2            CPVolSpread    -0.0546  -0.2547\n",
      "3             Coskewness     0.4389   3.0511\n",
      "4       CustomerMomentum     0.0186   0.0475\n",
      "5                 DolVol    -0.2984  -1.8630\n",
      "6                FirmAge    -0.3414  -1.7464\n",
      "7               Frontier    -0.4132  -1.8538\n",
      "8                 High52    -0.0196  -0.0641\n",
      "9              IdioVol3F     0.3055   1.0745\n",
      "10           Illiquidity    -0.3110  -3.1946\n",
      "11                IntMom    -0.8202  -1.7758\n",
      "12            LRreversal     0.2344   0.8075\n",
      "13                MaxRet     0.1124   0.4247\n",
      "14                Mom12m    -0.0160  -0.0333\n",
      "15                 Mom6m     0.5258   1.3465\n",
      "16             Mom6mJunk     0.4841   1.6284\n",
      "17          MomOffSeason    -0.1005  -0.2886\n",
      "18  MomOffSeason06YrPlus     0.2926   1.2671\n",
      "19  MomOffSeason11YrPlus    -0.4390  -1.9523\n",
      "20  MomOffSeason16YrPlus    -0.1466  -0.8863\n",
      "21             MomSeason    -0.5538  -2.1968\n",
      "22     MomSeason06YrPlus    -0.0492  -0.1920\n",
      "23     MomSeason11YrPlus    -0.2844  -1.3550\n",
      "24     MomSeason16YrPlus     0.0285   0.1896\n",
      "25        MomSeasonShort    -0.5453  -2.1730\n",
      "26           RIVolSpread     0.4791   1.7709\n",
      "27      ResidualMomentum    -0.3063  -1.9515\n",
      "28            STreversal    -0.2740  -0.7410\n",
      "29                VolMkt    -0.3454  -1.7076\n",
      "30                 VolSD    -0.0972  -1.5106\n",
      "31              std_turn    -0.2048  -0.8072\n"
     ]
    }
   ],
   "source": [
    "# Resample accounting data annually\n",
    "accounting_data_resampled_9 = resample_and_calculate(accounting_data_9, 'A')\n",
    "\n",
    "# Resample return data monthly\n",
    "return_data_resampled_9 = resample_and_calculate(return_data_9, 'M')\n",
    "\n",
    "# Calculate dynamic factor return\n",
    "accounting_data_resampled_9['factor_return'] = accounting_data_resampled_9.apply(calculate_dynamic_factor_return, axis=1)\n",
    "return_data_resampled_9['factor_return'] = return_data_resampled_9.apply(calculate_dynamic_factor_return, axis=1)\n",
    "\n",
    "# Calculate alpha and t-values for accounting data for FF5\n",
    "accounting_results_9 = calculate_ff5_alpha_and_tvalues(accounting_data_resampled_9, max_lag=1)\n",
    "# Calculate stats for return data for FF5\n",
    "return_results_9 = calculate_ff5_alpha_and_tvalues(return_data_resampled_9, max_lag=12)\n",
    "\n",
    "# Display results for FF5\n",
    "print(\"\\nAccounting factors (annual rebalancing) - FF5:\")\n",
    "print(accounting_results_9.round(4))\n",
    "\n",
    "print(\"\\nReturn factors (monthly rebalancing) - FF5:\")\n",
    "print(return_results_9.round(4))"
   ],
   "metadata": {
    "collapsed": false,
    "ExecuteTime": {
     "end_time": "2025-03-15T03:09:17.594617Z",
     "start_time": "2025-03-15T03:09:07.528079Z"
    }
   }
  },
  {
   "cell_type": "markdown",
   "source": [
    "### 5.4 Combine all the regressions"
   ],
   "metadata": {
    "collapsed": false
   }
  },
  {
   "cell_type": "code",
   "execution_count": 40,
   "outputs": [
    {
     "name": "stdout",
     "output_type": "stream",
     "text": [
      "\n",
      "Accounting factors (annual rebalancing):\n",
      "                   Factor  Average Returns  T-Value_1  FF3 Alpha  T-Value_2  \\\n",
      "0                Accruals           3.0707     2.3000     2.2930     1.3350   \n",
      "1            AnalystValue          -1.3983    -0.1554    -6.8087    -2.8550   \n",
      "2             AssetGrowth          -3.5381    -0.6802     3.0637     3.1404   \n",
      "3                      BM          -2.3012    -0.3411    -3.1577    -8.9570   \n",
      "4                   BPEBM           7.5033     1.8866    -0.3409    -0.1605   \n",
      "5            BookLeverage          -1.5729    -0.7963    -5.3331   -22.7514   \n",
      "6              CBOperProf           8.8805     3.6424     2.7114     0.8592   \n",
      "7                      CF          -4.3853    -0.6471   -10.2273    -4.1887   \n",
      "8         ChAssetTurnover          -1.3721    -0.6764    -1.5310    -1.7689   \n",
      "9                   ChNWC          -0.1080    -0.0441    -2.7247    -1.0012   \n",
      "10             CompEquIss           5.4558     1.4655     2.0206     0.8748   \n",
      "11  CompositeDebtIssuance          -6.7167    -2.1431    -7.3449    -6.4830   \n",
      "12                    EBM          -5.5230    -1.0961    -7.8155    -5.3184   \n",
      "13                     EP           0.6192     0.1521    -3.9997    -6.7482   \n",
      "14       EarningsSurprise           0.9045     0.8006     1.9416     3.1652   \n",
      "15                     GP          13.7538     5.1291     8.4199     3.6093   \n",
      "16                   Herf           1.3655     0.3726     2.0073     4.1105   \n",
      "17              InvGrowth          -1.1639    -0.1957     1.1586     0.3521   \n",
      "18                    NOA           6.5640     4.0194     3.8384    10.8106   \n",
      "19               OperProf           6.2947     3.1237     0.5956     0.3134   \n",
      "20                     PS           1.6476     0.7051    -5.0596    -6.2994   \n",
      "21              RDAbility           9.1343     1.4958     0.9262     0.2744   \n",
      "22                    RoE           3.2521     1.4054    -4.4365    -1.7915   \n",
      "23                     SP          -5.4446    -0.7320    -2.3491    -2.0532   \n",
      "24             ShareIss1Y           1.7167     0.3499     0.4544     0.1544   \n",
      "25             ShareIss5Y           5.7958     2.5215     3.7462     3.6541   \n",
      "26                   Size          -7.9644    -1.3218    -4.2715    -1.5849   \n",
      "27                   XFIN           2.4364     0.3884     2.4265     0.8767   \n",
      "28                    cfp          -0.6839    -0.0833    -0.7080    -0.3456   \n",
      "29                   roaq           8.4779     1.8766     5.6214     3.6045   \n",
      "\n",
      "    FF5 Alpha  T-Value  \n",
      "0      1.0552  15.8763  \n",
      "1     -4.2300  -1.0039  \n",
      "2     -6.9771 -18.8303  \n",
      "3     -2.8743 -14.6652  \n",
      "4     -0.9187  -1.2294  \n",
      "5     -4.5181  -3.3281  \n",
      "6     -4.6434  -3.4164  \n",
      "7    -21.8642  -6.9187  \n",
      "8     -4.2547  -1.2284  \n",
      "9    -17.3889 -10.0382  \n",
      "10    -8.2143  -2.7239  \n",
      "11   -17.9511  -7.4080  \n",
      "12   -15.4486  -6.9946  \n",
      "13     0.4341   0.1699  \n",
      "14    -3.0109  -1.4495  \n",
      "15     9.1686  62.5820  \n",
      "16     3.0969   3.8416  \n",
      "17   -29.6955 -11.4080  \n",
      "18     6.1038   9.3501  \n",
      "19    -4.7009  -3.6850  \n",
      "20    -0.1738  -0.0425  \n",
      "21   -29.8490 -35.0321  \n",
      "22   -11.3176 -25.1791  \n",
      "23   -12.6724  -3.7934  \n",
      "24   -14.6846 -28.6383  \n",
      "25     1.2067   1.1509  \n",
      "26   -20.9825  -9.2739  \n",
      "27   -12.1513  -9.9544  \n",
      "28    -5.4198  -6.0360  \n",
      "29     0.0086   0.0066  \n",
      "\n",
      "Return factors (monthly rebalancing):\n",
      "                  Factor  Average Returns  T-Value_1  FF3 Alpha  T-Value_2  \\\n",
      "0                   Beta           0.3402     0.7138    -0.1021    -0.5805   \n",
      "1        BetaLiquidityPS          -0.2822    -3.0510    -0.4635    -3.4777   \n",
      "2            CPVolSpread           0.0475     0.3071    -0.0791    -0.4098   \n",
      "3             Coskewness           0.6333     3.5786     0.4022     3.1934   \n",
      "4       CustomerMomentum           0.1259     0.3733     0.0574     0.1566   \n",
      "5                 DolVol          -0.5136    -3.0752    -0.3219    -1.9660   \n",
      "6                FirmAge          -0.1274    -0.2205    -0.5350    -2.0453   \n",
      "7               Frontier          -0.5262    -1.3017    -0.3618    -1.5064   \n",
      "8                 High52          -0.0889    -0.2222     0.1053     0.3567   \n",
      "9              IdioVol3F           0.2556     0.4370     0.4104     1.4620   \n",
      "10           Illiquidity          -0.3984    -2.9525    -0.3764    -4.1440   \n",
      "11                IntMom          -0.6081    -1.1470    -0.6867    -1.6639   \n",
      "12            LRreversal           0.1037     0.1671     0.2919     0.9384   \n",
      "13                MaxRet           0.0255     0.0501     0.2800     1.0221   \n",
      "14                Mom12m           0.0219     0.0404     0.1157     0.2618   \n",
      "15                 Mom6m           0.5886     1.3471     0.6676     1.4675   \n",
      "16             Mom6mJunk           0.4742     2.2475     0.4124     1.4641   \n",
      "17          MomOffSeason          -0.1826    -0.3653    -0.0676    -0.1996   \n",
      "18  MomOffSeason06YrPlus           0.1973     0.7022     0.2911     1.3336   \n",
      "19  MomOffSeason11YrPlus          -0.3782    -1.6647    -0.4101    -2.0439   \n",
      "20  MomOffSeason16YrPlus          -0.1125    -0.6236    -0.1226    -0.8831   \n",
      "21             MomSeason          -0.0925    -0.2397    -0.5287    -2.1430   \n",
      "22     MomSeason06YrPlus           0.0731     0.3239    -0.0230    -0.0955   \n",
      "23     MomSeason11YrPlus          -0.1639    -0.9107    -0.2654    -1.3892   \n",
      "24     MomSeason16YrPlus           0.2409     1.5781     0.0433     0.3160   \n",
      "25        MomSeasonShort          -0.1933    -0.8932    -0.4333    -1.6049   \n",
      "26           RIVolSpread           0.2942     0.8336     0.4050     1.4301   \n",
      "27      ResidualMomentum          -0.1803    -1.2714    -0.3191    -2.3973   \n",
      "28            STreversal          -0.0723    -0.2133    -0.4589    -1.1701   \n",
      "29                VolMkt          -0.2742    -0.6044    -0.1605    -0.6844   \n",
      "30                 VolSD          -0.0247    -0.3018    -0.1149    -1.7926   \n",
      "31              std_turn          -0.3483    -0.5261    -0.1854    -0.8060   \n",
      "\n",
      "    FF5 Alpha  T-Value  \n",
      "0      0.1481   0.7182  \n",
      "1     -0.4280  -2.9639  \n",
      "2     -0.0546  -0.2547  \n",
      "3      0.4389   3.0511  \n",
      "4      0.0186   0.0475  \n",
      "5     -0.2984  -1.8630  \n",
      "6     -0.3414  -1.7464  \n",
      "7     -0.4132  -1.8538  \n",
      "8     -0.0196  -0.0641  \n",
      "9      0.3055   1.0745  \n",
      "10    -0.3110  -3.1946  \n",
      "11    -0.8202  -1.7758  \n",
      "12     0.2344   0.8075  \n",
      "13     0.1124   0.4247  \n",
      "14    -0.0160  -0.0333  \n",
      "15     0.5258   1.3465  \n",
      "16     0.4841   1.6284  \n",
      "17    -0.1005  -0.2886  \n",
      "18     0.2926   1.2671  \n",
      "19    -0.4390  -1.9523  \n",
      "20    -0.1466  -0.8863  \n",
      "21    -0.5538  -2.1968  \n",
      "22    -0.0492  -0.1920  \n",
      "23    -0.2844  -1.3550  \n",
      "24     0.0285   0.1896  \n",
      "25    -0.5453  -2.1730  \n",
      "26     0.4791   1.7709  \n",
      "27    -0.3063  -1.9515  \n",
      "28    -0.2740  -0.7410  \n",
      "29    -0.3454  -1.7076  \n",
      "30    -0.0972  -1.5106  \n",
      "31    -0.2048  -0.8072  \n"
     ]
    }
   ],
   "source": [
    "# combine the results\n",
    "accounting_results_post = accounting_results_7.merge(accounting_results_8, on='Factor', suffixes=('_1', '_2')).merge(accounting_results_9, on='Factor', suffixes=('', '_3'))\n",
    "\n",
    "# combine the results\n",
    "return_results_post = return_results_7.merge(return_results_8, on='Factor', suffixes=('_1', '_2')).merge(return_results_9, on='Factor', suffixes=('', '_3'))\n",
    "\n",
    "# display the results\n",
    "print(\"\\nAccounting factors (annual rebalancing):\")\n",
    "print(accounting_results_post.round(4))\n",
    "\n",
    "print(\"\\nReturn factors (monthly rebalancing):\")\n",
    "print(return_results_post.round(4))"
   ],
   "metadata": {
    "collapsed": false,
    "ExecuteTime": {
     "end_time": "2025-03-15T03:09:18.114015Z",
     "start_time": "2025-03-15T03:09:17.636339Z"
    }
   }
  },
  {
   "cell_type": "code",
   "execution_count": 41,
   "outputs": [],
   "source": [
    "# save the results\n",
    "accounting_results_post.to_csv('accounting_factors_annual_post_2017_2023.csv', index=False)\n",
    "return_results_post.to_csv('return_factors_monthly_post_2017_2023.csv', index=False)"
   ],
   "metadata": {
    "collapsed": false,
    "ExecuteTime": {
     "end_time": "2025-03-15T03:09:18.116297Z",
     "start_time": "2025-03-15T03:09:17.648838Z"
    }
   }
  },
  {
   "cell_type": "markdown",
   "source": [
    "## 6. Regression in the 1963-2016 'original' time period"
   ],
   "metadata": {
    "collapsed": false
   }
  },
  {
   "cell_type": "markdown",
   "source": [
    "* In this section, calculations and regression studies will be conducted for the timeline 1963-2016.\n",
    "* The calculation steps are the same as the previous section, and the results are output."
   ],
   "metadata": {
    "collapsed": false
   }
  },
  {
   "cell_type": "markdown",
   "source": [
    "### 6.1 Preliminary analysis"
   ],
   "metadata": {
    "collapsed": false
   }
  },
  {
   "cell_type": "code",
   "execution_count": 42,
   "outputs": [
    {
     "name": "stderr",
     "output_type": "stream",
     "text": [
      "/var/folders/sz/wn8m1w7133944wry01207fsh0000gn/T/ipykernel_42366/1147703945.py:13: SettingWithCopyWarning: \n",
      "A value is trying to be set on a copy of a slice from a DataFrame.\n",
      "Try using .loc[row_indexer,col_indexer] = value instead\n",
      "\n",
      "See the caveats in the documentation: https://pandas.pydata.org/pandas-docs/stable/user_guide/indexing.html#returning-a-view-versus-a-copy\n",
      "  df['date'] = pd.to_datetime(df['date'])\n",
      "/var/folders/sz/wn8m1w7133944wry01207fsh0000gn/T/ipykernel_42366/1147703945.py:14: FutureWarning: 'A' is deprecated and will be removed in a future version, please use 'YE' instead.\n",
      "  df_resampled = df.set_index('date').groupby('predictor').resample(freq).apply(compound_returns).reset_index()\n",
      "/var/folders/sz/wn8m1w7133944wry01207fsh0000gn/T/ipykernel_42366/1147703945.py:13: SettingWithCopyWarning: \n",
      "A value is trying to be set on a copy of a slice from a DataFrame.\n",
      "Try using .loc[row_indexer,col_indexer] = value instead\n",
      "\n",
      "See the caveats in the documentation: https://pandas.pydata.org/pandas-docs/stable/user_guide/indexing.html#returning-a-view-versus-a-copy\n",
      "  df['date'] = pd.to_datetime(df['date'])\n",
      "/var/folders/sz/wn8m1w7133944wry01207fsh0000gn/T/ipykernel_42366/1147703945.py:14: FutureWarning: 'M' is deprecated and will be removed in a future version, please use 'ME' instead.\n",
      "  df_resampled = df.set_index('date').groupby('predictor').resample(freq).apply(compound_returns).reset_index()\n"
     ]
    },
    {
     "name": "stdout",
     "output_type": "stream",
     "text": [
      "\n",
      "Accounting factors (annual rebalancing):\n",
      "                   Factor  Average Returns  T-Value\n",
      "0                Accruals           2.1615   1.9205\n",
      "1            AnalystValue           3.1375   1.4509\n",
      "2             AssetGrowth           2.8832   2.0183\n",
      "3                      BM           4.0902   2.7008\n",
      "4                   BPEBM           2.1676   2.2706\n",
      "5            BookLeverage          -0.7899  -0.5196\n",
      "6              CBOperProf           2.8133   2.6004\n",
      "7                      CF           3.3870   2.0365\n",
      "8         ChAssetTurnover           2.0172   2.2672\n",
      "9                   ChNWC           1.4237   1.8564\n",
      "10             CompEquIss           2.7986   1.8020\n",
      "11  CompositeDebtIssuance           1.6606   2.0889\n",
      "12                    EBM           2.5648   1.6827\n",
      "13                     EP           3.7493   2.3048\n",
      "14       EarningsSurprise           1.7377   1.9847\n",
      "15                     GP           2.5004   1.7160\n",
      "16                   Herf           1.3938   1.0963\n",
      "17              InvGrowth           2.8032   2.4359\n",
      "18                    NOA           3.6452   3.2475\n",
      "19               OperProf           1.9454   1.2253\n",
      "20                     PS          11.7881   4.9733\n",
      "21              RDAbility           0.6254   0.2304\n",
      "22                    RoE           0.8972   0.6493\n",
      "23                     SP           4.9414   2.2715\n",
      "24             ShareIss1Y           0.8852   0.6426\n",
      "25             ShareIss5Y           3.1354   4.2169\n",
      "26                   Size           3.7383   1.1365\n",
      "27                   XFIN           4.4174   2.8218\n",
      "28                    cfp           1.7015   0.9156\n",
      "29                   roaq           1.6832   0.9075\n",
      "\n",
      "Return factors (monthly rebalancing):\n",
      "                  Factor  Average Returns  T-Value\n",
      "0                   Beta           0.0170   0.0724\n",
      "1        BetaLiquidityPS           0.1402   1.8382\n",
      "2            CPVolSpread           0.4751   5.4187\n",
      "3             Coskewness           0.1538   1.9036\n",
      "4       CustomerMomentum           0.5439   2.8834\n",
      "5                 DolVol           0.0950   0.9340\n",
      "6                FirmAge           0.0768   0.9107\n",
      "7               Frontier           0.2467   1.8074\n",
      "8                 High52           0.2135   1.6786\n",
      "9              IdioVol3F           0.4963   2.1007\n",
      "10           Illiquidity           0.2240   2.4320\n",
      "11                IntMom           0.6474   3.9006\n",
      "12            LRreversal           0.1938   1.1690\n",
      "13                MaxRet           0.2817   1.2703\n",
      "14                Mom12m           0.6543   3.6520\n",
      "15                 Mom6m           0.3432   2.1171\n",
      "16             Mom6mJunk           0.3922   2.1745\n",
      "17          MomOffSeason           0.3363   2.5045\n",
      "18  MomOffSeason06YrPlus           0.4513   4.6373\n",
      "19  MomOffSeason11YrPlus           0.2326   2.7325\n",
      "20  MomOffSeason16YrPlus           0.1099   1.5836\n",
      "21             MomSeason           0.2460   2.1658\n",
      "22     MomSeason06YrPlus           0.4127   4.6773\n",
      "23     MomSeason11YrPlus           0.3140   4.8833\n",
      "24     MomSeason16YrPlus           0.1310   1.7753\n",
      "25        MomSeasonShort           0.4410   4.1306\n",
      "26           RIVolSpread           0.4457   2.5027\n",
      "27      ResidualMomentum           0.3737   4.6518\n",
      "28            STreversal           0.2400   1.8941\n",
      "29                VolMkt           0.0369   0.2400\n",
      "30                 VolSD           0.1563   2.1229\n",
      "31              std_turn           0.1825   1.0172\n"
     ]
    }
   ],
   "source": [
    "# Read the merged data\n",
    "original_data = pd.read_csv('data/merged_data_with_ff3_4.csv')\n",
    "# Divide by 100\n",
    "port_columns_1 = ['port01', 'port02', 'port03', 'port04', 'port05']\n",
    "original_data[port_columns_1] = original_data[port_columns_1] / 100\n",
    "# only retain columns that are needed\n",
    "original_data = original_data[['date', 'predictor'] + port_columns_1]\n",
    "\n",
    "# Separate accounting and return data\n",
    "accounting_data_10 = original_data[original_data['predictor'].isin(accounting_factors)]\n",
    "return_data_10 = original_data[original_data['predictor'].isin(return_factors)]\n",
    "# Resample accounting data annually\n",
    "accounting_data_resampled_10 = resample_and_calculate(accounting_data_10, 'A')\n",
    "\n",
    "# Resample return data monthly\n",
    "return_data_resampled_10 = resample_and_calculate(return_data_10, 'M')\n",
    "\n",
    "# Calculate dynamic factor return\n",
    "accounting_data_resampled_10['factor_return'] = accounting_data_resampled_10.apply(calculate_dynamic_factor_return, axis=1)\n",
    "return_data_resampled_10['factor_return'] = return_data_resampled_10.apply(calculate_dynamic_factor_return, axis=1)\n",
    "\n",
    "# Calculate stats for accounting data\n",
    "accounting_results_10 = calculate_newey_west_t_value(accounting_data_resampled_10, max_lag=1)\n",
    "\n",
    "# Calculate stats for return data\n",
    "return_results_10 = calculate_newey_west_t_value(return_data_resampled_10, max_lag=12)\n",
    "\n",
    "# Display results\n",
    "print(\"\\nAccounting factors (annual rebalancing):\")\n",
    "print(accounting_results_10.round(4))\n",
    "\n",
    "print(\"\\nReturn factors (monthly rebalancing):\")\n",
    "print(return_results_10.round(4))"
   ],
   "metadata": {
    "collapsed": false,
    "ExecuteTime": {
     "end_time": "2025-03-15T03:10:04.721663Z",
     "start_time": "2025-03-15T03:09:17.683486Z"
    }
   }
  },
  {
   "cell_type": "markdown",
   "source": [
    "### 6.2 Regression 1 - FF3"
   ],
   "metadata": {
    "collapsed": false
   }
  },
  {
   "cell_type": "code",
   "execution_count": 43,
   "outputs": [],
   "source": [
    "# read the merged data\n",
    "original_data_2 = pd.read_csv('data/merged_data_with_ff3_4.csv')\n",
    "# divide by 100\n",
    "port_columns = ['port01', 'port02', 'port03', 'port04', 'port05', 'Mkt-RF', 'SMB', 'HML', 'RF']\n",
    "original_data_2[port_columns] = original_data_2[port_columns] / 100\n",
    "# only retain columns that are needed\n",
    "original_data_2 = original_data_2[['date', 'predictor'] + port_columns]\n",
    "\n",
    "# Separate accounting and return data\n",
    "accounting_data_11 = original_data_2[original_data_2['predictor'].isin(accounting_factors)]\n",
    "return_data_11 = original_data_2[original_data_2['predictor'].isin(return_factors)]"
   ],
   "metadata": {
    "collapsed": false,
    "ExecuteTime": {
     "end_time": "2025-03-15T03:10:04.776098Z",
     "start_time": "2025-03-15T03:10:04.422935Z"
    }
   }
  },
  {
   "cell_type": "code",
   "execution_count": 44,
   "outputs": [
    {
     "name": "stderr",
     "output_type": "stream",
     "text": [
      "/var/folders/sz/wn8m1w7133944wry01207fsh0000gn/T/ipykernel_42366/1147703945.py:13: SettingWithCopyWarning: \n",
      "A value is trying to be set on a copy of a slice from a DataFrame.\n",
      "Try using .loc[row_indexer,col_indexer] = value instead\n",
      "\n",
      "See the caveats in the documentation: https://pandas.pydata.org/pandas-docs/stable/user_guide/indexing.html#returning-a-view-versus-a-copy\n",
      "  df['date'] = pd.to_datetime(df['date'])\n",
      "/var/folders/sz/wn8m1w7133944wry01207fsh0000gn/T/ipykernel_42366/1147703945.py:14: FutureWarning: 'A' is deprecated and will be removed in a future version, please use 'YE' instead.\n",
      "  df_resampled = df.set_index('date').groupby('predictor').resample(freq).apply(compound_returns).reset_index()\n",
      "/var/folders/sz/wn8m1w7133944wry01207fsh0000gn/T/ipykernel_42366/1147703945.py:13: SettingWithCopyWarning: \n",
      "A value is trying to be set on a copy of a slice from a DataFrame.\n",
      "Try using .loc[row_indexer,col_indexer] = value instead\n",
      "\n",
      "See the caveats in the documentation: https://pandas.pydata.org/pandas-docs/stable/user_guide/indexing.html#returning-a-view-versus-a-copy\n",
      "  df['date'] = pd.to_datetime(df['date'])\n",
      "/var/folders/sz/wn8m1w7133944wry01207fsh0000gn/T/ipykernel_42366/1147703945.py:14: FutureWarning: 'M' is deprecated and will be removed in a future version, please use 'ME' instead.\n",
      "  df_resampled = df.set_index('date').groupby('predictor').resample(freq).apply(compound_returns).reset_index()\n"
     ]
    },
    {
     "name": "stdout",
     "output_type": "stream",
     "text": [
      "\n",
      "Accounting factors (annual rebalancing):\n",
      "                   Factor  FF3 Alpha  T-Value\n",
      "0                Accruals    -1.2268  -0.8509\n",
      "1            AnalystValue    -3.5375  -1.7627\n",
      "2             AssetGrowth    -4.3966  -3.9094\n",
      "3                      BM    -5.7981  -5.1434\n",
      "4                   BPEBM    -2.6225  -1.9449\n",
      "5            BookLeverage    -1.6373  -1.0017\n",
      "6              CBOperProf     0.9729   1.0191\n",
      "7                      CF    -4.9085  -3.1751\n",
      "8         ChAssetTurnover    -3.1395  -3.1794\n",
      "9                   ChNWC    -2.8150  -3.1404\n",
      "10             CompEquIss     0.2845   0.1880\n",
      "11  CompositeDebtIssuance    -2.9208  -2.2690\n",
      "12                    EBM    -7.7047  -9.3412\n",
      "13                     EP    -6.3619  -5.4565\n",
      "14       EarningsSurprise    -2.3650  -3.3660\n",
      "15                     GP     0.0339   0.0180\n",
      "16                   Herf    -3.4756  -2.2343\n",
      "17              InvGrowth    -2.9281  -2.9424\n",
      "18                    NOA    -3.7608  -2.6158\n",
      "19               OperProf    -0.6302  -0.3860\n",
      "20                     PS     1.6080   0.8919\n",
      "21              RDAbility    -4.5540  -1.5611\n",
      "22                    RoE    -2.7854  -1.7263\n",
      "23                     SP    -5.7756  -3.9534\n",
      "24             ShareIss1Y    -3.0664  -1.9666\n",
      "25             ShareIss5Y    -1.3447  -1.2741\n",
      "26                   Size    -4.9993  -3.1066\n",
      "27                   XFIN     0.0500   0.0279\n",
      "28                    cfp    -2.5235  -1.2309\n",
      "29                   roaq     0.1395   0.0537\n",
      "\n",
      "Return factors (monthly rebalancing):\n",
      "                  Factor  FF3 Alpha  T-Value\n",
      "0                   Beta    -0.6608  -4.7476\n",
      "1        BetaLiquidityPS    -0.2350  -2.8274\n",
      "2            CPVolSpread     0.3543   3.4984\n",
      "3             Coskewness    -0.2991  -3.7764\n",
      "4       CustomerMomentum     0.1554   0.8737\n",
      "5                 DolVol    -0.3610  -3.7269\n",
      "6                FirmAge    -0.4020  -6.0053\n",
      "7               Frontier    -0.4626  -3.7077\n",
      "8                 High52    -0.0206  -0.2018\n",
      "9              IdioVol3F     0.3174   2.2074\n",
      "10           Illiquidity    -0.2635  -3.8113\n",
      "11                IntMom     0.4325   2.9457\n",
      "12            LRreversal    -0.4940  -3.2643\n",
      "13                MaxRet     0.0946   0.6076\n",
      "14                Mom12m     0.4995   3.0882\n",
      "15                 Mom6m     0.0867   0.5918\n",
      "16             Mom6mJunk     0.1859   1.0617\n",
      "17          MomOffSeason    -0.2897  -2.5938\n",
      "18  MomOffSeason06YrPlus     0.0098   0.0840\n",
      "19  MomOffSeason11YrPlus    -0.1342  -1.3913\n",
      "20  MomOffSeason16YrPlus    -0.2699  -2.9149\n",
      "21             MomSeason    -0.1137  -1.0411\n",
      "22     MomSeason06YrPlus     0.0502   0.5359\n",
      "23     MomSeason11YrPlus    -0.0568  -0.7722\n",
      "24     MomSeason16YrPlus    -0.2349  -2.6278\n",
      "25        MomSeasonShort     0.0891   0.9156\n",
      "26           RIVolSpread     0.3013   1.9993\n",
      "27      ResidualMomentum     0.0316   0.3769\n",
      "28            STreversal    -0.2995  -2.1135\n",
      "29                VolMkt    -0.2426  -2.2344\n",
      "30                 VolSD    -0.2412  -3.0024\n",
      "31              std_turn     0.2601   1.8358\n"
     ]
    }
   ],
   "source": [
    "# Resample accounting data annually\n",
    "accounting_data_resampled_11 = resample_and_calculate(accounting_data_11, 'A')\n",
    "\n",
    "# Resample return data monthly\n",
    "return_data_resampled_11 = resample_and_calculate(return_data_11, 'M')\n",
    "\n",
    "# Calculate dynamic factor return\n",
    "accounting_data_resampled_11['factor_return'] = accounting_data_resampled_11.apply(calculate_dynamic_factor_return, axis=1)\n",
    "return_data_resampled_11['factor_return'] = return_data_resampled_11.apply(calculate_dynamic_factor_return, axis=1)\n",
    "\n",
    "# Calculate alpha and t-values for accounting data\n",
    "accounting_results_11 = calculate_ff3_alpha_and_tvalues(accounting_data_resampled_11, max_lag=1)\n",
    "# Calculate stats for return data\n",
    "return_results_11 = calculate_ff3_alpha_and_tvalues(return_data_resampled_11, max_lag=12)\n",
    "\n",
    "# Dsiplay results\n",
    "print(\"\\nAccounting factors (annual rebalancing):\")\n",
    "print(accounting_results_11.round(4))\n",
    "\n",
    "print(\"\\nReturn factors (monthly rebalancing):\")\n",
    "print(return_results_11.round(4))"
   ],
   "metadata": {
    "collapsed": false,
    "ExecuteTime": {
     "end_time": "2025-03-15T03:11:00.302603Z",
     "start_time": "2025-03-15T03:10:04.467908Z"
    }
   }
  },
  {
   "cell_type": "markdown",
   "source": [
    "### 6.3 Regression 2 - FF5"
   ],
   "metadata": {
    "collapsed": false
   }
  },
  {
   "cell_type": "code",
   "execution_count": 45,
   "outputs": [],
   "source": [
    "# read the merged data\n",
    "original_data_3 = pd.read_csv('data/merged_data_with_ff5_4.csv')\n",
    "# divide by 100\n",
    "port_columns = ['port01', 'port02', 'port03', 'port04', 'port05', 'Mkt-RF', 'SMB', 'HML', 'RMW', 'CMA', 'RF']\n",
    "original_data_3[port_columns] = original_data_3[port_columns] / 100\n",
    "# only retain columns that are needed\n",
    "original_data_3 = original_data_3[['date', 'predictor'] + port_columns]\n",
    "\n",
    "# Separate accounting and return data\n",
    "accounting_data_12 = original_data_3[original_data_3['predictor'].isin(accounting_factors)]\n",
    "return_data_12 = original_data_3[original_data_3['predictor'].isin(return_factors)]"
   ],
   "metadata": {
    "collapsed": false,
    "ExecuteTime": {
     "end_time": "2025-03-15T03:11:05.989668Z",
     "start_time": "2025-03-15T03:11:00.280171Z"
    }
   }
  },
  {
   "cell_type": "code",
   "execution_count": 46,
   "outputs": [
    {
     "name": "stderr",
     "output_type": "stream",
     "text": [
      "/var/folders/sz/wn8m1w7133944wry01207fsh0000gn/T/ipykernel_42366/1147703945.py:13: SettingWithCopyWarning: \n",
      "A value is trying to be set on a copy of a slice from a DataFrame.\n",
      "Try using .loc[row_indexer,col_indexer] = value instead\n",
      "\n",
      "See the caveats in the documentation: https://pandas.pydata.org/pandas-docs/stable/user_guide/indexing.html#returning-a-view-versus-a-copy\n",
      "  df['date'] = pd.to_datetime(df['date'])\n",
      "/var/folders/sz/wn8m1w7133944wry01207fsh0000gn/T/ipykernel_42366/1147703945.py:14: FutureWarning: 'A' is deprecated and will be removed in a future version, please use 'YE' instead.\n",
      "  df_resampled = df.set_index('date').groupby('predictor').resample(freq).apply(compound_returns).reset_index()\n",
      "/var/folders/sz/wn8m1w7133944wry01207fsh0000gn/T/ipykernel_42366/1147703945.py:13: SettingWithCopyWarning: \n",
      "A value is trying to be set on a copy of a slice from a DataFrame.\n",
      "Try using .loc[row_indexer,col_indexer] = value instead\n",
      "\n",
      "See the caveats in the documentation: https://pandas.pydata.org/pandas-docs/stable/user_guide/indexing.html#returning-a-view-versus-a-copy\n",
      "  df['date'] = pd.to_datetime(df['date'])\n",
      "/var/folders/sz/wn8m1w7133944wry01207fsh0000gn/T/ipykernel_42366/1147703945.py:14: FutureWarning: 'M' is deprecated and will be removed in a future version, please use 'ME' instead.\n",
      "  df_resampled = df.set_index('date').groupby('predictor').resample(freq).apply(compound_returns).reset_index()\n"
     ]
    },
    {
     "name": "stdout",
     "output_type": "stream",
     "text": [
      "\n",
      "Accounting factors (annual rebalancing) - FF5:\n",
      "                   Factor  FF5 Alpha  T-Value\n",
      "0                Accruals     0.7805   0.5325\n",
      "1            AnalystValue    -9.3033  -3.8593\n",
      "2             AssetGrowth    -5.7178  -4.2401\n",
      "3                      BM    -4.2823  -3.6382\n",
      "4                   BPEBM    -1.0727  -0.7271\n",
      "5            BookLeverage     0.7618   0.4053\n",
      "6              CBOperProf    -0.2815  -0.3106\n",
      "7                      CF    -4.1535  -2.2421\n",
      "8         ChAssetTurnover    -3.3104  -2.3520\n",
      "9                   ChNWC    -2.3667  -2.3427\n",
      "10             CompEquIss     0.8863   0.4077\n",
      "11  CompositeDebtIssuance    -2.5527  -1.9976\n",
      "12                    EBM    -7.4816  -6.6767\n",
      "13                     EP    -7.2165  -5.5511\n",
      "14       EarningsSurprise    -2.5270  -2.0586\n",
      "15                     GP    -2.3743  -1.3106\n",
      "16                   Herf    -2.1972  -1.0904\n",
      "17              InvGrowth    -3.0900  -3.1815\n",
      "18                    NOA    -5.6445  -3.5354\n",
      "19               OperProf    -5.1163  -4.5372\n",
      "20                     PS     0.6140   0.2726\n",
      "21              RDAbility    -4.9044  -1.6160\n",
      "22                    RoE    -7.2736  -5.7982\n",
      "23                     SP    -7.0335  -4.0453\n",
      "24             ShareIss1Y    -5.6373  -3.3263\n",
      "25             ShareIss5Y    -2.1653  -2.1135\n",
      "26                   Size    -3.9146  -2.1513\n",
      "27                   XFIN    -3.7058  -2.5635\n",
      "28                    cfp    -6.5763  -3.7378\n",
      "29                   roaq    -7.1291  -3.2233\n",
      "\n",
      "Return factors (monthly rebalancing) - FF5:\n",
      "                  Factor  FF5 Alpha  T-Value\n",
      "0                   Beta    -0.2480  -1.8781\n",
      "1        BetaLiquidityPS    -0.2200  -2.5102\n",
      "2            CPVolSpread     0.3146   2.8224\n",
      "3             Coskewness    -0.2150  -2.3865\n",
      "4       CustomerMomentum     0.1947   1.0368\n",
      "5                 DolVol    -0.3723  -3.6883\n",
      "6                FirmAge    -0.3014  -4.5637\n",
      "7               Frontier    -0.3445  -2.7792\n",
      "8                 High52    -0.2268  -1.6361\n",
      "9              IdioVol3F    -0.1436  -1.2995\n",
      "10           Illiquidity    -0.2870  -4.2610\n",
      "11                IntMom     0.3841   2.4577\n",
      "12            LRreversal    -0.4104  -2.9431\n",
      "13                MaxRet    -0.3234  -2.9449\n",
      "14                Mom12m     0.2962   1.2697\n",
      "15                 Mom6m    -0.0480  -0.2191\n",
      "16             Mom6mJunk     0.0351   0.1399\n",
      "17          MomOffSeason    -0.2801  -2.4024\n",
      "18  MomOffSeason06YrPlus    -0.0212  -0.1813\n",
      "19  MomOffSeason11YrPlus     0.0231   0.2434\n",
      "20  MomOffSeason16YrPlus    -0.2626  -2.9525\n",
      "21             MomSeason    -0.0771  -0.6860\n",
      "22     MomSeason06YrPlus     0.1056   1.0021\n",
      "23     MomSeason11YrPlus    -0.0282  -0.3430\n",
      "24     MomSeason16YrPlus    -0.1904  -2.2110\n",
      "25        MomSeasonShort     0.0569   0.5722\n",
      "26           RIVolSpread     0.1821   1.1072\n",
      "27      ResidualMomentum    -0.0460  -0.4794\n",
      "28            STreversal    -0.2335  -1.3576\n",
      "29                VolMkt    -0.4989  -4.2254\n",
      "30                 VolSD    -0.2720  -3.4055\n",
      "31              std_turn     0.1465   1.0566\n"
     ]
    }
   ],
   "source": [
    "# Resample accounting data annually\n",
    "accounting_data_resampled_12 = resample_and_calculate(accounting_data_12, 'A')\n",
    "\n",
    "# Resample return data monthly\n",
    "return_data_resampled_12 = resample_and_calculate(return_data_12, 'M')\n",
    "\n",
    "# Calculate dynamic factor return\n",
    "accounting_data_resampled_12['factor_return'] = accounting_data_resampled_12.apply(calculate_dynamic_factor_return, axis=1)\n",
    "return_data_resampled_12['factor_return'] = return_data_resampled_12.apply(calculate_dynamic_factor_return, axis=1)\n",
    "\n",
    "# Calculate alpha and t-values for accounting data for FF5\n",
    "accounting_results_12 = calculate_ff5_alpha_and_tvalues(accounting_data_resampled_12, max_lag=1)\n",
    "# Calculate stats for return data for FF5\n",
    "return_results_12 = calculate_ff5_alpha_and_tvalues(return_data_resampled_12, max_lag=12)\n",
    "\n",
    "# Display results for FF5\n",
    "print(\"\\nAccounting factors (annual rebalancing) - FF5:\")\n",
    "print(accounting_results_12.round(4))\n",
    "\n",
    "print(\"\\nReturn factors (monthly rebalancing) - FF5:\")\n",
    "print(return_results_12.round(4))"
   ],
   "metadata": {
    "collapsed": false,
    "ExecuteTime": {
     "end_time": "2025-03-15T03:12:34.972165Z",
     "start_time": "2025-03-15T03:11:05.323030Z"
    }
   }
  },
  {
   "cell_type": "markdown",
   "source": [
    "### 6.4 Combine all the regressions"
   ],
   "metadata": {
    "collapsed": false
   }
  },
  {
   "cell_type": "code",
   "execution_count": 47,
   "outputs": [
    {
     "name": "stdout",
     "output_type": "stream",
     "text": [
      "\n",
      "Accounting factors (annual rebalancing):\n",
      "                   Factor  Average Returns  T-Value_1  FF3 Alpha  T-Value_2  \\\n",
      "0                Accruals           2.1615     1.9205    -1.2268    -0.8509   \n",
      "1            AnalystValue           3.1375     1.4509    -3.5375    -1.7627   \n",
      "2             AssetGrowth           2.8832     2.0183    -4.3966    -3.9094   \n",
      "3                      BM           4.0902     2.7008    -5.7981    -5.1434   \n",
      "4                   BPEBM           2.1676     2.2706    -2.6225    -1.9449   \n",
      "5            BookLeverage          -0.7899    -0.5196    -1.6373    -1.0017   \n",
      "6              CBOperProf           2.8133     2.6004     0.9729     1.0191   \n",
      "7                      CF           3.3870     2.0365    -4.9085    -3.1751   \n",
      "8         ChAssetTurnover           2.0172     2.2672    -3.1395    -3.1794   \n",
      "9                   ChNWC           1.4237     1.8564    -2.8150    -3.1404   \n",
      "10             CompEquIss           2.7986     1.8020     0.2845     0.1880   \n",
      "11  CompositeDebtIssuance           1.6606     2.0889    -2.9208    -2.2690   \n",
      "12                    EBM           2.5648     1.6827    -7.7047    -9.3412   \n",
      "13                     EP           3.7493     2.3048    -6.3619    -5.4565   \n",
      "14       EarningsSurprise           1.7377     1.9847    -2.3650    -3.3660   \n",
      "15                     GP           2.5004     1.7160     0.0339     0.0180   \n",
      "16                   Herf           1.3938     1.0963    -3.4756    -2.2343   \n",
      "17              InvGrowth           2.8032     2.4359    -2.9281    -2.9424   \n",
      "18                    NOA           3.6452     3.2475    -3.7608    -2.6158   \n",
      "19               OperProf           1.9454     1.2253    -0.6302    -0.3860   \n",
      "20                     PS          11.7881     4.9733     1.6080     0.8919   \n",
      "21              RDAbility           0.6254     0.2304    -4.5540    -1.5611   \n",
      "22                    RoE           0.8972     0.6493    -2.7854    -1.7263   \n",
      "23                     SP           4.9414     2.2715    -5.7756    -3.9534   \n",
      "24             ShareIss1Y           0.8852     0.6426    -3.0664    -1.9666   \n",
      "25             ShareIss5Y           3.1354     4.2169    -1.3447    -1.2741   \n",
      "26                   Size           3.7383     1.1365    -4.9993    -3.1066   \n",
      "27                   XFIN           4.4174     2.8218     0.0500     0.0279   \n",
      "28                    cfp           1.7015     0.9156    -2.5235    -1.2309   \n",
      "29                   roaq           1.6832     0.9075     0.1395     0.0537   \n",
      "\n",
      "    FF5 Alpha  T-Value  \n",
      "0      0.7805   0.5325  \n",
      "1     -9.3033  -3.8593  \n",
      "2     -5.7178  -4.2401  \n",
      "3     -4.2823  -3.6382  \n",
      "4     -1.0727  -0.7271  \n",
      "5      0.7618   0.4053  \n",
      "6     -0.2815  -0.3106  \n",
      "7     -4.1535  -2.2421  \n",
      "8     -3.3104  -2.3520  \n",
      "9     -2.3667  -2.3427  \n",
      "10     0.8863   0.4077  \n",
      "11    -2.5527  -1.9976  \n",
      "12    -7.4816  -6.6767  \n",
      "13    -7.2165  -5.5511  \n",
      "14    -2.5270  -2.0586  \n",
      "15    -2.3743  -1.3106  \n",
      "16    -2.1972  -1.0904  \n",
      "17    -3.0900  -3.1815  \n",
      "18    -5.6445  -3.5354  \n",
      "19    -5.1163  -4.5372  \n",
      "20     0.6140   0.2726  \n",
      "21    -4.9044  -1.6160  \n",
      "22    -7.2736  -5.7982  \n",
      "23    -7.0335  -4.0453  \n",
      "24    -5.6373  -3.3263  \n",
      "25    -2.1653  -2.1135  \n",
      "26    -3.9146  -2.1513  \n",
      "27    -3.7058  -2.5635  \n",
      "28    -6.5763  -3.7378  \n",
      "29    -7.1291  -3.2233  \n",
      "\n",
      "Return factors (monthly rebalancing):\n",
      "                  Factor  Average Returns  T-Value_1  FF3 Alpha  T-Value_2  \\\n",
      "0                   Beta           0.0170     0.0724    -0.6608    -4.7476   \n",
      "1        BetaLiquidityPS           0.1402     1.8382    -0.2350    -2.8274   \n",
      "2            CPVolSpread           0.4751     5.4187     0.3543     3.4984   \n",
      "3             Coskewness           0.1538     1.9036    -0.2991    -3.7764   \n",
      "4       CustomerMomentum           0.5439     2.8834     0.1554     0.8737   \n",
      "5                 DolVol           0.0950     0.9340    -0.3610    -3.7269   \n",
      "6                FirmAge           0.0768     0.9107    -0.4020    -6.0053   \n",
      "7               Frontier           0.2467     1.8074    -0.4626    -3.7077   \n",
      "8                 High52           0.2135     1.6786    -0.0206    -0.2018   \n",
      "9              IdioVol3F           0.4963     2.1007     0.3174     2.2074   \n",
      "10           Illiquidity           0.2240     2.4320    -0.2635    -3.8113   \n",
      "11                IntMom           0.6474     3.9006     0.4325     2.9457   \n",
      "12            LRreversal           0.1938     1.1690    -0.4940    -3.2643   \n",
      "13                MaxRet           0.2817     1.2703     0.0946     0.6076   \n",
      "14                Mom12m           0.6543     3.6520     0.4995     3.0882   \n",
      "15                 Mom6m           0.3432     2.1171     0.0867     0.5918   \n",
      "16             Mom6mJunk           0.3922     2.1745     0.1859     1.0617   \n",
      "17          MomOffSeason           0.3363     2.5045    -0.2897    -2.5938   \n",
      "18  MomOffSeason06YrPlus           0.4513     4.6373     0.0098     0.0840   \n",
      "19  MomOffSeason11YrPlus           0.2326     2.7325    -0.1342    -1.3913   \n",
      "20  MomOffSeason16YrPlus           0.1099     1.5836    -0.2699    -2.9149   \n",
      "21             MomSeason           0.2460     2.1658    -0.1137    -1.0411   \n",
      "22     MomSeason06YrPlus           0.4127     4.6773     0.0502     0.5359   \n",
      "23     MomSeason11YrPlus           0.3140     4.8833    -0.0568    -0.7722   \n",
      "24     MomSeason16YrPlus           0.1310     1.7753    -0.2349    -2.6278   \n",
      "25        MomSeasonShort           0.4410     4.1306     0.0891     0.9156   \n",
      "26           RIVolSpread           0.4457     2.5027     0.3013     1.9993   \n",
      "27      ResidualMomentum           0.3737     4.6518     0.0316     0.3769   \n",
      "28            STreversal           0.2400     1.8941    -0.2995    -2.1135   \n",
      "29                VolMkt           0.0369     0.2400    -0.2426    -2.2344   \n",
      "30                 VolSD           0.1563     2.1229    -0.2412    -3.0024   \n",
      "31              std_turn           0.1825     1.0172     0.2601     1.8358   \n",
      "\n",
      "    FF5 Alpha  T-Value  \n",
      "0     -0.2480  -1.8781  \n",
      "1     -0.2200  -2.5102  \n",
      "2      0.3146   2.8224  \n",
      "3     -0.2150  -2.3865  \n",
      "4      0.1947   1.0368  \n",
      "5     -0.3723  -3.6883  \n",
      "6     -0.3014  -4.5637  \n",
      "7     -0.3445  -2.7792  \n",
      "8     -0.2268  -1.6361  \n",
      "9     -0.1436  -1.2995  \n",
      "10    -0.2870  -4.2610  \n",
      "11     0.3841   2.4577  \n",
      "12    -0.4104  -2.9431  \n",
      "13    -0.3234  -2.9449  \n",
      "14     0.2962   1.2697  \n",
      "15    -0.0480  -0.2191  \n",
      "16     0.0351   0.1399  \n",
      "17    -0.2801  -2.4024  \n",
      "18    -0.0212  -0.1813  \n",
      "19     0.0231   0.2434  \n",
      "20    -0.2626  -2.9525  \n",
      "21    -0.0771  -0.6860  \n",
      "22     0.1056   1.0021  \n",
      "23    -0.0282  -0.3430  \n",
      "24    -0.1904  -2.2110  \n",
      "25     0.0569   0.5722  \n",
      "26     0.1821   1.1072  \n",
      "27    -0.0460  -0.4794  \n",
      "28    -0.2335  -1.3576  \n",
      "29    -0.4989  -4.2254  \n",
      "30    -0.2720  -3.4055  \n",
      "31     0.1465   1.0566  \n"
     ]
    }
   ],
   "source": [
    "# combine the results\n",
    "accounting_results_original = accounting_results_10.merge(accounting_results_11, on='Factor', suffixes=('_1', '_2')).merge(accounting_results_12, on='Factor', suffixes=('', '_3'))\n",
    "\n",
    "# combine the results\n",
    "return_results_original = return_results_10.merge(return_results_11, on='Factor', suffixes=('_1', '_2')).merge(return_results_12, on='Factor', suffixes=('', '_3'))\n",
    "\n",
    "# display the results\n",
    "print(\"\\nAccounting factors (annual rebalancing):\")\n",
    "print(accounting_results_original.round(4))\n",
    "\n",
    "print(\"\\nReturn factors (monthly rebalancing):\")\n",
    "print(return_results_original.round(4))"
   ],
   "metadata": {
    "collapsed": false,
    "ExecuteTime": {
     "end_time": "2025-03-15T03:12:35.245645Z",
     "start_time": "2025-03-15T03:12:34.964598Z"
    }
   }
  },
  {
   "cell_type": "code",
   "execution_count": 48,
   "outputs": [],
   "source": [
    "# save the results\n",
    "accounting_results_original.to_csv('accounting_factors_annual_original_1963_2016.csv', index=False)\n",
    "return_results_original.to_csv('return_factors_monthly_original_1963_2016.csv', index=False)"
   ],
   "metadata": {
    "collapsed": false,
    "ExecuteTime": {
     "end_time": "2025-03-15T03:12:35.246049Z",
     "start_time": "2025-03-15T03:12:35.014948Z"
    }
   }
  },
  {
   "cell_type": "code",
   "execution_count": null,
   "outputs": [],
   "source": [],
   "metadata": {
    "collapsed": false
   }
  }
 ],
 "metadata": {
  "kernelspec": {
   "display_name": "Python 3",
   "language": "python",
   "name": "python3"
  },
  "language_info": {
   "codemirror_mode": {
    "name": "ipython",
    "version": 2
   },
   "file_extension": ".py",
   "mimetype": "text/x-python",
   "name": "python",
   "nbconvert_exporter": "python",
   "pygments_lexer": "ipython2",
   "version": "2.7.6"
  }
 },
 "nbformat": 4,
 "nbformat_minor": 0
}
