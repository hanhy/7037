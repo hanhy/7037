{
 "cells": [
  {
   "cell_type": "markdown",
   "metadata": {},
   "source": [
    "# Basic imports"
   ]
  },
  {
   "cell_type": "code",
   "execution_count": 1,
   "metadata": {
    "ExecuteTime": {
     "end_time": "2025-03-17T07:29:32.330557Z",
     "start_time": "2025-03-17T07:29:26.660545Z"
    }
   },
   "outputs": [],
   "source": [
    "import pandas as pd\n",
    "import numpy as np\n",
    "from scipy import stats\n",
    "import statsmodels.api as sm\n",
    "import matplotlib.pyplot as plt\n",
    "from itertools import combinations\n",
    "from datetime import datetime\n",
    "import pandas as pd\n",
    "import numpy as np\n",
    "from statsmodels.stats.sandwich_covariance import cov_hac\n",
    "from statsmodels.regression.linear_model import OLS\n",
    "import os"
   ]
  },
  {
   "cell_type": "markdown",
   "metadata": {
    "jp-MarkdownHeadingCollapsed": true
   },
   "source": [
    "# 1. Data Fetching & Data Pre-Processing"
   ]
  },
  {
   "cell_type": "markdown",
   "metadata": {},
   "source": [
    "## 1.1. List all factors in the paper and factors we are interested"
   ]
  },
  {
   "cell_type": "code",
   "execution_count": 11,
   "metadata": {},
   "outputs": [
    {
     "data": {
      "text/plain": [
       "76"
      ]
     },
     "execution_count": 11,
     "metadata": {},
     "output_type": "execute_result"
    }
   ],
   "source": [
    "item1 = [ \"Accruals\", \"NOA\", \"PS\", \"ZScore\", \"CompositeDebtIssuance\", \"ShareIss1Y\", \"XFIN\", \"ShareIss5Y\", \"FirmAge\", \"AssetGrowth\", \"ChNWC\", \"BookLeverage\", \"Illiquidity\", \"VolSD\", \"LRreversal\", \"IntMom\", \"Mom12m\", \"Mom6m\", \"High52\", \"MomSeasonShort\", \"MomSeason11YrPlus\", \"MomSeason06YrPlus\", \"MomSeason\", \"MomSeason16YrPlus\", \"Herf\", \"InvGrowth\", \"CBOperProf\", \"roaq\", \"RoE\", \"PM\", \"OperProf\", \"GP\", \"pchsaleinv\", \"Beta\", \"ChAssetTurnover\", \"STreversal\", \"Size\", \"cfp\", \"SP\", \"BM\", \"EP\", \"IdioVol3F\", \"MaxRet\", \"DolVol\" ]\n",
    "item2 = [ \"Accruals\", \"OScore\", \"NOA\", \"ChNAnalyst\", \"ZScore\", \"FailureProbability\", \"EarningsSurprise\", \"CompEquIss\", \"FirmAge\", \"ChNWC\", \"MomVol\", \"CustomerMomentum\", \"BPEBM\", \"Illiquidity\", \"std_turn\", \"VolSD\", \"BetaLiquidityPS\", \"BetaBDLeverage\", \"DivSeason\", \"DivOmit\", \"DivInit\", \"ResidualMomentum\", \"Mom6mJunk\", \"CPVolSpread\", \"RIVolSpread\", \"MomSeasonShort\", \"MomSeason11YrPlus\", \"MomSeason06YrPlus\", \"MomOffSeason\", \"MomSeason\", \"MomOffSeason06YrPlus\", \"MomSeason16YrPlus\", \"MomOffSeason16YrPlus\", \"RDAbility\", \"MomOffSeason11YrPlus\", \"roaq\", \"RoE\", \"PM\", \"Coskewness\", \"ChAssetTurnover\", \"ChPM\", \"ShareVol\", \"BM\", \"EP\", \"Frontier\", \"CF\", \"EBM\", \"AnalystValue\", \"DivYield\", \"VolMkt\" ]\n",
    "\n",
    "csv_list = item1 + item2\n",
    "# delete the duplicate items\n",
    "csv_list = list(set(csv_list))\n",
    "len(csv_list)"
   ]
  },
  {
   "cell_type": "markdown",
   "metadata": {},
   "source": [
    "## 1.2. Ensure the factor file could be found(Need Factor Data)"
   ]
  },
  {
   "cell_type": "code",
   "execution_count": 12,
   "metadata": {},
   "outputs": [
    {
     "data": {
      "text/html": [
       "<div>\n",
       "<style scoped>\n",
       "    .dataframe tbody tr th:only-of-type {\n",
       "        vertical-align: middle;\n",
       "    }\n",
       "\n",
       "    .dataframe tbody tr th {\n",
       "        vertical-align: top;\n",
       "    }\n",
       "\n",
       "    .dataframe thead th {\n",
       "        text-align: right;\n",
       "    }\n",
       "</style>\n",
       "<table border=\"1\" class=\"dataframe\">\n",
       "  <thead>\n",
       "    <tr style=\"text-align: right;\">\n",
       "      <th></th>\n",
       "      <th>date</th>\n",
       "      <th>port01</th>\n",
       "      <th>port02</th>\n",
       "      <th>port03</th>\n",
       "      <th>port04</th>\n",
       "      <th>port05</th>\n",
       "      <th>portLS</th>\n",
       "      <th>predictor</th>\n",
       "    </tr>\n",
       "  </thead>\n",
       "  <tbody>\n",
       "    <tr>\n",
       "      <th>729584</th>\n",
       "      <td>1952-07-01</td>\n",
       "      <td>0.124831</td>\n",
       "      <td>0.336154</td>\n",
       "      <td>0.839240</td>\n",
       "      <td>0.637685</td>\n",
       "      <td>0.656345</td>\n",
       "      <td>0.531514</td>\n",
       "      <td>Accruals</td>\n",
       "    </tr>\n",
       "    <tr>\n",
       "      <th>729585</th>\n",
       "      <td>1952-07-02</td>\n",
       "      <td>-0.246625</td>\n",
       "      <td>-0.244496</td>\n",
       "      <td>-0.049348</td>\n",
       "      <td>-0.189462</td>\n",
       "      <td>-0.104565</td>\n",
       "      <td>0.142060</td>\n",
       "      <td>Accruals</td>\n",
       "    </tr>\n",
       "    <tr>\n",
       "      <th>729586</th>\n",
       "      <td>1952-07-03</td>\n",
       "      <td>0.023978</td>\n",
       "      <td>0.084967</td>\n",
       "      <td>-0.142413</td>\n",
       "      <td>-0.223899</td>\n",
       "      <td>-0.035177</td>\n",
       "      <td>-0.059155</td>\n",
       "      <td>Accruals</td>\n",
       "    </tr>\n",
       "    <tr>\n",
       "      <th>729587</th>\n",
       "      <td>1952-07-07</td>\n",
       "      <td>-0.171018</td>\n",
       "      <td>-0.076185</td>\n",
       "      <td>-0.263179</td>\n",
       "      <td>-0.661418</td>\n",
       "      <td>-0.503844</td>\n",
       "      <td>-0.332827</td>\n",
       "      <td>Accruals</td>\n",
       "    </tr>\n",
       "    <tr>\n",
       "      <th>729588</th>\n",
       "      <td>1952-07-08</td>\n",
       "      <td>-0.209479</td>\n",
       "      <td>0.235904</td>\n",
       "      <td>-0.025679</td>\n",
       "      <td>0.218441</td>\n",
       "      <td>0.140033</td>\n",
       "      <td>0.349512</td>\n",
       "      <td>Accruals</td>\n",
       "    </tr>\n",
       "    <tr>\n",
       "      <th>...</th>\n",
       "      <td>...</td>\n",
       "      <td>...</td>\n",
       "      <td>...</td>\n",
       "      <td>...</td>\n",
       "      <td>...</td>\n",
       "      <td>...</td>\n",
       "      <td>...</td>\n",
       "      <td>...</td>\n",
       "    </tr>\n",
       "    <tr>\n",
       "      <th>791052</th>\n",
       "      <td>2023-12-22</td>\n",
       "      <td>1.857859</td>\n",
       "      <td>0.723824</td>\n",
       "      <td>0.498934</td>\n",
       "      <td>0.233261</td>\n",
       "      <td>0.428393</td>\n",
       "      <td>-1.429466</td>\n",
       "      <td>std_turn</td>\n",
       "    </tr>\n",
       "    <tr>\n",
       "      <th>791053</th>\n",
       "      <td>2023-12-26</td>\n",
       "      <td>3.266919</td>\n",
       "      <td>0.875071</td>\n",
       "      <td>1.303056</td>\n",
       "      <td>0.540725</td>\n",
       "      <td>0.561904</td>\n",
       "      <td>-2.705015</td>\n",
       "      <td>std_turn</td>\n",
       "    </tr>\n",
       "    <tr>\n",
       "      <th>791054</th>\n",
       "      <td>2023-12-27</td>\n",
       "      <td>2.341186</td>\n",
       "      <td>0.200744</td>\n",
       "      <td>0.285204</td>\n",
       "      <td>0.159429</td>\n",
       "      <td>0.059149</td>\n",
       "      <td>-2.282037</td>\n",
       "      <td>std_turn</td>\n",
       "    </tr>\n",
       "    <tr>\n",
       "      <th>791055</th>\n",
       "      <td>2023-12-28</td>\n",
       "      <td>-1.669881</td>\n",
       "      <td>-0.263774</td>\n",
       "      <td>-0.543158</td>\n",
       "      <td>-0.266308</td>\n",
       "      <td>-0.110725</td>\n",
       "      <td>1.559157</td>\n",
       "      <td>std_turn</td>\n",
       "    </tr>\n",
       "    <tr>\n",
       "      <th>791056</th>\n",
       "      <td>2023-12-29</td>\n",
       "      <td>-2.447862</td>\n",
       "      <td>-1.850345</td>\n",
       "      <td>-0.757195</td>\n",
       "      <td>-0.082058</td>\n",
       "      <td>-0.068660</td>\n",
       "      <td>2.379202</td>\n",
       "      <td>std_turn</td>\n",
       "    </tr>\n",
       "  </tbody>\n",
       "</table>\n",
       "<p>1237148 rows × 8 columns</p>\n",
       "</div>"
      ],
      "text/plain": [
       "             date    port01    port02    port03    port04    port05    portLS  \\\n",
       "729584 1952-07-01  0.124831  0.336154  0.839240  0.637685  0.656345  0.531514   \n",
       "729585 1952-07-02 -0.246625 -0.244496 -0.049348 -0.189462 -0.104565  0.142060   \n",
       "729586 1952-07-03  0.023978  0.084967 -0.142413 -0.223899 -0.035177 -0.059155   \n",
       "729587 1952-07-07 -0.171018 -0.076185 -0.263179 -0.661418 -0.503844 -0.332827   \n",
       "729588 1952-07-08 -0.209479  0.235904 -0.025679  0.218441  0.140033  0.349512   \n",
       "...           ...       ...       ...       ...       ...       ...       ...   \n",
       "791052 2023-12-22  1.857859  0.723824  0.498934  0.233261  0.428393 -1.429466   \n",
       "791053 2023-12-26  3.266919  0.875071  1.303056  0.540725  0.561904 -2.705015   \n",
       "791054 2023-12-27  2.341186  0.200744  0.285204  0.159429  0.059149 -2.282037   \n",
       "791055 2023-12-28 -1.669881 -0.263774 -0.543158 -0.266308 -0.110725  1.559157   \n",
       "791056 2023-12-29 -2.447862 -1.850345 -0.757195 -0.082058 -0.068660  2.379202   \n",
       "\n",
       "       predictor  \n",
       "729584  Accruals  \n",
       "729585  Accruals  \n",
       "729586  Accruals  \n",
       "729587  Accruals  \n",
       "729588  Accruals  \n",
       "...          ...  \n",
       "791052  std_turn  \n",
       "791053  std_turn  \n",
       "791054  std_turn  \n",
       "791055  std_turn  \n",
       "791056  std_turn  \n",
       "\n",
       "[1237148 rows x 8 columns]"
      ]
     },
     "execution_count": 12,
     "metadata": {},
     "output_type": "execute_result"
    }
   ],
   "source": [
    "cd = 'CtsPredictorQuintileVW'\n",
    "df = pd.DataFrame()\n",
    "missing_files = []\n",
    "\n",
    "for file in csv_list:\n",
    "    file_path = f'{cd}/{file}_ret.csv'\n",
    "    if os.path.exists(file_path):\n",
    "        temp_df = pd.read_csv(file_path)\n",
    "        factor_name = file  \n",
    "        temp_df['predictor'] = factor_name  \n",
    "        df = pd.concat([df, temp_df], ignore_index=True)\n",
    "    else:\n",
    "        missing_files.append(file_path)\n",
    "\n",
    "df['date'] = pd.to_datetime(df['date'])\n",
    "df.sort_values(by=['predictor', 'date'], inplace=True)\n",
    "df"
   ]
  },
  {
   "cell_type": "markdown",
   "metadata": {},
   "source": [
    "## 1.3. Save the merged factor list to csv file"
   ]
  },
  {
   "cell_type": "code",
   "execution_count": 13,
   "metadata": {},
   "outputs": [
    {
     "name": "stdout",
     "output_type": "stream",
     "text": [
      "Unique factor number is 62\n",
      "The following files were not found:\n",
      "CtsPredictorQuintileVW/ZScore_ret.csv\n",
      "CtsPredictorQuintileVW/MomVol_ret.csv\n",
      "CtsPredictorQuintileVW/DivInit_ret.csv\n",
      "CtsPredictorQuintileVW/ShareVol_ret.csv\n",
      "CtsPredictorQuintileVW/BetaBDLeverage_ret.csv\n",
      "CtsPredictorQuintileVW/pchsaleinv_ret.csv\n",
      "CtsPredictorQuintileVW/DivSeason_ret.csv\n",
      "CtsPredictorQuintileVW/OScore_ret.csv\n",
      "CtsPredictorQuintileVW/PM_ret.csv\n",
      "CtsPredictorQuintileVW/FailureProbability_ret.csv\n",
      "CtsPredictorQuintileVW/DivOmit_ret.csv\n",
      "CtsPredictorQuintileVW/ChPM_ret.csv\n",
      "CtsPredictorQuintileVW/DivYield_ret.csv\n",
      "CtsPredictorQuintileVW/ChNAnalyst_ret.csv\n"
     ]
    }
   ],
   "source": [
    "# get the unique factors\n",
    "unique_factors = df['predictor'].nunique()\n",
    "print(f'Unique factor number is {unique_factors}')\n",
    "\n",
    "with open('factors.txt', 'w') as f:\n",
    "\tf.write(str(unique_factors))\n",
    "\n",
    "# get the missed files\n",
    "if missing_files:\n",
    "    print(\"The following files were not found:\")\n",
    "    for missing_file in missing_files:\n",
    "        print(missing_file)\n",
    "\n",
    "# save the merged DataFrame to a csv file\n",
    "df.to_csv(f'data/merged_data.csv', index=False)"
   ]
  },
  {
   "cell_type": "markdown",
   "metadata": {
    "collapsed": false,
    "jp-MarkdownHeadingCollapsed": true,
    "jupyter": {
     "outputs_hidden": false
    }
   },
   "source": [
    "# 2. Replicate Table 1"
   ]
  },
  {
   "cell_type": "markdown",
   "metadata": {
    "collapsed": false,
    "jp-MarkdownHeadingCollapsed": true,
    "jupyter": {
     "outputs_hidden": false
    }
   },
   "source": [
    "## 2.1. merged data"
   ]
  },
  {
   "cell_type": "markdown",
   "metadata": {
    "collapsed": false,
    "jupyter": {
     "outputs_hidden": false
    }
   },
   "source": [
    "* First, according to the research ideas of the paper, we integrate the factor return data with Fama’s 3-factor and 5-factor models."
   ]
  },
  {
   "cell_type": "code",
   "execution_count": 2,
   "metadata": {
    "ExecuteTime": {
     "end_time": "2025-03-16T08:36:24.117158Z",
     "start_time": "2025-03-16T08:36:19.313119Z"
    },
    "collapsed": false,
    "jupyter": {
     "outputs_hidden": false
    }
   },
   "outputs": [],
   "source": [
    "table1_data = pd.read_csv('data/merged_data.csv')\n",
    "table1_ff3 = pd.read_csv('data/FF3_daily.csv')\n",
    "table1_ff5 = pd.read_csv('data/FF5_daily.csv')"
   ]
  },
  {
   "cell_type": "code",
   "execution_count": 3,
   "metadata": {
    "ExecuteTime": {
     "end_time": "2025-03-16T08:36:25.269192Z",
     "start_time": "2025-03-16T08:36:25.169436Z"
    },
    "collapsed": false,
    "jupyter": {
     "outputs_hidden": false
    }
   },
   "outputs": [
    {
     "name": "stdout",
     "output_type": "stream",
     "text": [
      "['date', 'port01', 'port02', 'port03', 'port04', 'port05', 'portLS', 'predictor']\n",
      "['date', 'Mkt-RF', 'SMB', 'HML', 'RF']\n",
      "['date', 'Mkt-RF', 'SMB', 'HML', 'RMW', 'CMA', 'RF']\n"
     ]
    },
    {
     "data": {
      "text/plain": [
       "date        int64\n",
       "Mkt-RF    float64\n",
       "SMB       float64\n",
       "HML       float64\n",
       "RF        float64\n",
       "dtype: object"
      ]
     },
     "execution_count": 3,
     "metadata": {},
     "output_type": "execute_result"
    }
   ],
   "source": [
    "table1_ff3.columns =['date','Mkt-RF','SMB','HML','RF']\n",
    "table1_ff5.columns =['date','Mkt-RF','SMB','HML','RMW','CMA','RF']\n",
    "print(table1_data.columns.tolist())\n",
    "print(table1_ff3.columns.tolist())\n",
    "print(table1_ff5.columns.tolist())\n",
    "\n",
    "table1_ff3.dtypes"
   ]
  },
  {
   "cell_type": "code",
   "execution_count": 4,
   "metadata": {
    "ExecuteTime": {
     "end_time": "2025-03-16T08:36:29.563188Z",
     "start_time": "2025-03-16T08:36:26.699961Z"
    },
    "collapsed": false,
    "jupyter": {
     "outputs_hidden": false
    }
   },
   "outputs": [],
   "source": [
    "table1_data['date']= pd.to_datetime(table1_data['date']).dt.strftime('%Y-%m-%d')"
   ]
  },
  {
   "cell_type": "code",
   "execution_count": 5,
   "metadata": {
    "ExecuteTime": {
     "end_time": "2025-03-16T08:36:30.078344Z",
     "start_time": "2025-03-16T08:36:30.033868Z"
    },
    "collapsed": false,
    "jupyter": {
     "outputs_hidden": false
    }
   },
   "outputs": [
    {
     "data": {
      "text/html": [
       "<div>\n",
       "<style scoped>\n",
       "    .dataframe tbody tr th:only-of-type {\n",
       "        vertical-align: middle;\n",
       "    }\n",
       "\n",
       "    .dataframe tbody tr th {\n",
       "        vertical-align: top;\n",
       "    }\n",
       "\n",
       "    .dataframe thead th {\n",
       "        text-align: right;\n",
       "    }\n",
       "</style>\n",
       "<table border=\"1\" class=\"dataframe\">\n",
       "  <thead>\n",
       "    <tr style=\"text-align: right;\">\n",
       "      <th></th>\n",
       "      <th>date</th>\n",
       "      <th>port01</th>\n",
       "      <th>port02</th>\n",
       "      <th>port03</th>\n",
       "      <th>port04</th>\n",
       "      <th>port05</th>\n",
       "      <th>portLS</th>\n",
       "      <th>predictor</th>\n",
       "    </tr>\n",
       "  </thead>\n",
       "  <tbody>\n",
       "    <tr>\n",
       "      <th>0</th>\n",
       "      <td>1952-07-01</td>\n",
       "      <td>0.124831</td>\n",
       "      <td>0.336154</td>\n",
       "      <td>0.839240</td>\n",
       "      <td>0.637685</td>\n",
       "      <td>0.656345</td>\n",
       "      <td>0.531514</td>\n",
       "      <td>Accruals</td>\n",
       "    </tr>\n",
       "    <tr>\n",
       "      <th>1</th>\n",
       "      <td>1952-07-02</td>\n",
       "      <td>-0.246625</td>\n",
       "      <td>-0.244496</td>\n",
       "      <td>-0.049348</td>\n",
       "      <td>-0.189462</td>\n",
       "      <td>-0.104565</td>\n",
       "      <td>0.142060</td>\n",
       "      <td>Accruals</td>\n",
       "    </tr>\n",
       "    <tr>\n",
       "      <th>2</th>\n",
       "      <td>1952-07-03</td>\n",
       "      <td>0.023978</td>\n",
       "      <td>0.084967</td>\n",
       "      <td>-0.142413</td>\n",
       "      <td>-0.223899</td>\n",
       "      <td>-0.035177</td>\n",
       "      <td>-0.059155</td>\n",
       "      <td>Accruals</td>\n",
       "    </tr>\n",
       "    <tr>\n",
       "      <th>3</th>\n",
       "      <td>1952-07-07</td>\n",
       "      <td>-0.171018</td>\n",
       "      <td>-0.076185</td>\n",
       "      <td>-0.263179</td>\n",
       "      <td>-0.661418</td>\n",
       "      <td>-0.503844</td>\n",
       "      <td>-0.332827</td>\n",
       "      <td>Accruals</td>\n",
       "    </tr>\n",
       "    <tr>\n",
       "      <th>4</th>\n",
       "      <td>1952-07-08</td>\n",
       "      <td>-0.209479</td>\n",
       "      <td>0.235904</td>\n",
       "      <td>-0.025679</td>\n",
       "      <td>0.218441</td>\n",
       "      <td>0.140033</td>\n",
       "      <td>0.349512</td>\n",
       "      <td>Accruals</td>\n",
       "    </tr>\n",
       "    <tr>\n",
       "      <th>...</th>\n",
       "      <td>...</td>\n",
       "      <td>...</td>\n",
       "      <td>...</td>\n",
       "      <td>...</td>\n",
       "      <td>...</td>\n",
       "      <td>...</td>\n",
       "      <td>...</td>\n",
       "      <td>...</td>\n",
       "    </tr>\n",
       "    <tr>\n",
       "      <th>1237143</th>\n",
       "      <td>2023-12-22</td>\n",
       "      <td>1.857859</td>\n",
       "      <td>0.723824</td>\n",
       "      <td>0.498934</td>\n",
       "      <td>0.233261</td>\n",
       "      <td>0.428393</td>\n",
       "      <td>-1.429466</td>\n",
       "      <td>std_turn</td>\n",
       "    </tr>\n",
       "    <tr>\n",
       "      <th>1237144</th>\n",
       "      <td>2023-12-26</td>\n",
       "      <td>3.266919</td>\n",
       "      <td>0.875071</td>\n",
       "      <td>1.303056</td>\n",
       "      <td>0.540725</td>\n",
       "      <td>0.561904</td>\n",
       "      <td>-2.705015</td>\n",
       "      <td>std_turn</td>\n",
       "    </tr>\n",
       "    <tr>\n",
       "      <th>1237145</th>\n",
       "      <td>2023-12-27</td>\n",
       "      <td>2.341186</td>\n",
       "      <td>0.200744</td>\n",
       "      <td>0.285204</td>\n",
       "      <td>0.159429</td>\n",
       "      <td>0.059149</td>\n",
       "      <td>-2.282037</td>\n",
       "      <td>std_turn</td>\n",
       "    </tr>\n",
       "    <tr>\n",
       "      <th>1237146</th>\n",
       "      <td>2023-12-28</td>\n",
       "      <td>-1.669881</td>\n",
       "      <td>-0.263774</td>\n",
       "      <td>-0.543158</td>\n",
       "      <td>-0.266308</td>\n",
       "      <td>-0.110725</td>\n",
       "      <td>1.559157</td>\n",
       "      <td>std_turn</td>\n",
       "    </tr>\n",
       "    <tr>\n",
       "      <th>1237147</th>\n",
       "      <td>2023-12-29</td>\n",
       "      <td>-2.447862</td>\n",
       "      <td>-1.850345</td>\n",
       "      <td>-0.757195</td>\n",
       "      <td>-0.082058</td>\n",
       "      <td>-0.068660</td>\n",
       "      <td>2.379202</td>\n",
       "      <td>std_turn</td>\n",
       "    </tr>\n",
       "  </tbody>\n",
       "</table>\n",
       "<p>1237148 rows × 8 columns</p>\n",
       "</div>"
      ],
      "text/plain": [
       "               date    port01    port02    port03    port04    port05  \\\n",
       "0        1952-07-01  0.124831  0.336154  0.839240  0.637685  0.656345   \n",
       "1        1952-07-02 -0.246625 -0.244496 -0.049348 -0.189462 -0.104565   \n",
       "2        1952-07-03  0.023978  0.084967 -0.142413 -0.223899 -0.035177   \n",
       "3        1952-07-07 -0.171018 -0.076185 -0.263179 -0.661418 -0.503844   \n",
       "4        1952-07-08 -0.209479  0.235904 -0.025679  0.218441  0.140033   \n",
       "...             ...       ...       ...       ...       ...       ...   \n",
       "1237143  2023-12-22  1.857859  0.723824  0.498934  0.233261  0.428393   \n",
       "1237144  2023-12-26  3.266919  0.875071  1.303056  0.540725  0.561904   \n",
       "1237145  2023-12-27  2.341186  0.200744  0.285204  0.159429  0.059149   \n",
       "1237146  2023-12-28 -1.669881 -0.263774 -0.543158 -0.266308 -0.110725   \n",
       "1237147  2023-12-29 -2.447862 -1.850345 -0.757195 -0.082058 -0.068660   \n",
       "\n",
       "           portLS predictor  \n",
       "0        0.531514  Accruals  \n",
       "1        0.142060  Accruals  \n",
       "2       -0.059155  Accruals  \n",
       "3       -0.332827  Accruals  \n",
       "4        0.349512  Accruals  \n",
       "...           ...       ...  \n",
       "1237143 -1.429466  std_turn  \n",
       "1237144 -2.705015  std_turn  \n",
       "1237145 -2.282037  std_turn  \n",
       "1237146  1.559157  std_turn  \n",
       "1237147  2.379202  std_turn  \n",
       "\n",
       "[1237148 rows x 8 columns]"
      ]
     },
     "execution_count": 5,
     "metadata": {},
     "output_type": "execute_result"
    }
   ],
   "source": [
    "table1_data"
   ]
  },
  {
   "cell_type": "code",
   "execution_count": 6,
   "metadata": {
    "ExecuteTime": {
     "end_time": "2025-03-16T08:36:30.920602Z",
     "start_time": "2025-03-16T08:36:30.836978Z"
    },
    "collapsed": false,
    "jupyter": {
     "outputs_hidden": false
    }
   },
   "outputs": [
    {
     "data": {
      "text/html": [
       "<div>\n",
       "<style scoped>\n",
       "    .dataframe tbody tr th:only-of-type {\n",
       "        vertical-align: middle;\n",
       "    }\n",
       "\n",
       "    .dataframe tbody tr th {\n",
       "        vertical-align: top;\n",
       "    }\n",
       "\n",
       "    .dataframe thead th {\n",
       "        text-align: right;\n",
       "    }\n",
       "</style>\n",
       "<table border=\"1\" class=\"dataframe\">\n",
       "  <thead>\n",
       "    <tr style=\"text-align: right;\">\n",
       "      <th></th>\n",
       "      <th>date</th>\n",
       "      <th>Mkt-RF</th>\n",
       "      <th>SMB</th>\n",
       "      <th>HML</th>\n",
       "      <th>RF</th>\n",
       "    </tr>\n",
       "  </thead>\n",
       "  <tbody>\n",
       "    <tr>\n",
       "      <th>0</th>\n",
       "      <td>1926-07-01</td>\n",
       "      <td>0.10</td>\n",
       "      <td>-0.25</td>\n",
       "      <td>-0.27</td>\n",
       "      <td>0.009</td>\n",
       "    </tr>\n",
       "    <tr>\n",
       "      <th>1</th>\n",
       "      <td>1926-07-02</td>\n",
       "      <td>0.45</td>\n",
       "      <td>-0.33</td>\n",
       "      <td>-0.06</td>\n",
       "      <td>0.009</td>\n",
       "    </tr>\n",
       "    <tr>\n",
       "      <th>2</th>\n",
       "      <td>1926-07-06</td>\n",
       "      <td>0.17</td>\n",
       "      <td>0.30</td>\n",
       "      <td>-0.39</td>\n",
       "      <td>0.009</td>\n",
       "    </tr>\n",
       "    <tr>\n",
       "      <th>3</th>\n",
       "      <td>1926-07-07</td>\n",
       "      <td>0.09</td>\n",
       "      <td>-0.58</td>\n",
       "      <td>0.02</td>\n",
       "      <td>0.009</td>\n",
       "    </tr>\n",
       "    <tr>\n",
       "      <th>4</th>\n",
       "      <td>1926-07-08</td>\n",
       "      <td>0.21</td>\n",
       "      <td>-0.38</td>\n",
       "      <td>0.19</td>\n",
       "      <td>0.009</td>\n",
       "    </tr>\n",
       "    <tr>\n",
       "      <th>...</th>\n",
       "      <td>...</td>\n",
       "      <td>...</td>\n",
       "      <td>...</td>\n",
       "      <td>...</td>\n",
       "      <td>...</td>\n",
       "    </tr>\n",
       "    <tr>\n",
       "      <th>25896</th>\n",
       "      <td>2024-12-24</td>\n",
       "      <td>1.11</td>\n",
       "      <td>-0.09</td>\n",
       "      <td>-0.05</td>\n",
       "      <td>0.017</td>\n",
       "    </tr>\n",
       "    <tr>\n",
       "      <th>25897</th>\n",
       "      <td>2024-12-26</td>\n",
       "      <td>0.02</td>\n",
       "      <td>1.04</td>\n",
       "      <td>-0.19</td>\n",
       "      <td>0.017</td>\n",
       "    </tr>\n",
       "    <tr>\n",
       "      <th>25898</th>\n",
       "      <td>2024-12-27</td>\n",
       "      <td>-1.17</td>\n",
       "      <td>-0.66</td>\n",
       "      <td>0.56</td>\n",
       "      <td>0.017</td>\n",
       "    </tr>\n",
       "    <tr>\n",
       "      <th>25899</th>\n",
       "      <td>2024-12-30</td>\n",
       "      <td>-1.09</td>\n",
       "      <td>0.12</td>\n",
       "      <td>0.74</td>\n",
       "      <td>0.017</td>\n",
       "    </tr>\n",
       "    <tr>\n",
       "      <th>25900</th>\n",
       "      <td>2024-12-31</td>\n",
       "      <td>-0.46</td>\n",
       "      <td>0.00</td>\n",
       "      <td>0.71</td>\n",
       "      <td>0.017</td>\n",
       "    </tr>\n",
       "  </tbody>\n",
       "</table>\n",
       "<p>25901 rows × 5 columns</p>\n",
       "</div>"
      ],
      "text/plain": [
       "             date  Mkt-RF   SMB   HML     RF\n",
       "0      1926-07-01    0.10 -0.25 -0.27  0.009\n",
       "1      1926-07-02    0.45 -0.33 -0.06  0.009\n",
       "2      1926-07-06    0.17  0.30 -0.39  0.009\n",
       "3      1926-07-07    0.09 -0.58  0.02  0.009\n",
       "4      1926-07-08    0.21 -0.38  0.19  0.009\n",
       "...           ...     ...   ...   ...    ...\n",
       "25896  2024-12-24    1.11 -0.09 -0.05  0.017\n",
       "25897  2024-12-26    0.02  1.04 -0.19  0.017\n",
       "25898  2024-12-27   -1.17 -0.66  0.56  0.017\n",
       "25899  2024-12-30   -1.09  0.12  0.74  0.017\n",
       "25900  2024-12-31   -0.46  0.00  0.71  0.017\n",
       "\n",
       "[25901 rows x 5 columns]"
      ]
     },
     "execution_count": 6,
     "metadata": {},
     "output_type": "execute_result"
    }
   ],
   "source": [
    "table1_ff3['date'] = pd.to_datetime(table1_ff3['date'].astype(str), format='%Y%m%d').dt.strftime('%Y-%m-%d')\n",
    "table1_ff3"
   ]
  },
  {
   "cell_type": "code",
   "execution_count": 7,
   "metadata": {
    "ExecuteTime": {
     "end_time": "2025-03-16T08:36:31.844793Z",
     "start_time": "2025-03-16T08:36:31.656490Z"
    },
    "collapsed": false,
    "jupyter": {
     "outputs_hidden": false
    }
   },
   "outputs": [
    {
     "data": {
      "text/html": [
       "<div>\n",
       "<style scoped>\n",
       "    .dataframe tbody tr th:only-of-type {\n",
       "        vertical-align: middle;\n",
       "    }\n",
       "\n",
       "    .dataframe tbody tr th {\n",
       "        vertical-align: top;\n",
       "    }\n",
       "\n",
       "    .dataframe thead th {\n",
       "        text-align: right;\n",
       "    }\n",
       "</style>\n",
       "<table border=\"1\" class=\"dataframe\">\n",
       "  <thead>\n",
       "    <tr style=\"text-align: right;\">\n",
       "      <th></th>\n",
       "      <th>date</th>\n",
       "      <th>Mkt-RF</th>\n",
       "      <th>SMB</th>\n",
       "      <th>HML</th>\n",
       "      <th>RMW</th>\n",
       "      <th>CMA</th>\n",
       "      <th>RF</th>\n",
       "    </tr>\n",
       "  </thead>\n",
       "  <tbody>\n",
       "    <tr>\n",
       "      <th>0</th>\n",
       "      <td>1963-07-01</td>\n",
       "      <td>-0.67</td>\n",
       "      <td>0.02</td>\n",
       "      <td>-0.35</td>\n",
       "      <td>0.03</td>\n",
       "      <td>0.13</td>\n",
       "      <td>0.012</td>\n",
       "    </tr>\n",
       "    <tr>\n",
       "      <th>1</th>\n",
       "      <td>1963-07-02</td>\n",
       "      <td>0.79</td>\n",
       "      <td>-0.28</td>\n",
       "      <td>0.28</td>\n",
       "      <td>-0.08</td>\n",
       "      <td>-0.21</td>\n",
       "      <td>0.012</td>\n",
       "    </tr>\n",
       "    <tr>\n",
       "      <th>2</th>\n",
       "      <td>1963-07-03</td>\n",
       "      <td>0.63</td>\n",
       "      <td>-0.18</td>\n",
       "      <td>-0.10</td>\n",
       "      <td>0.13</td>\n",
       "      <td>-0.25</td>\n",
       "      <td>0.012</td>\n",
       "    </tr>\n",
       "    <tr>\n",
       "      <th>3</th>\n",
       "      <td>1963-07-05</td>\n",
       "      <td>0.40</td>\n",
       "      <td>0.09</td>\n",
       "      <td>-0.28</td>\n",
       "      <td>0.07</td>\n",
       "      <td>-0.30</td>\n",
       "      <td>0.012</td>\n",
       "    </tr>\n",
       "    <tr>\n",
       "      <th>4</th>\n",
       "      <td>1963-07-08</td>\n",
       "      <td>-0.63</td>\n",
       "      <td>0.07</td>\n",
       "      <td>-0.20</td>\n",
       "      <td>-0.27</td>\n",
       "      <td>0.06</td>\n",
       "      <td>0.012</td>\n",
       "    </tr>\n",
       "    <tr>\n",
       "      <th>...</th>\n",
       "      <td>...</td>\n",
       "      <td>...</td>\n",
       "      <td>...</td>\n",
       "      <td>...</td>\n",
       "      <td>...</td>\n",
       "      <td>...</td>\n",
       "      <td>...</td>\n",
       "    </tr>\n",
       "    <tr>\n",
       "      <th>15476</th>\n",
       "      <td>2024-12-24</td>\n",
       "      <td>1.11</td>\n",
       "      <td>-0.12</td>\n",
       "      <td>-0.05</td>\n",
       "      <td>-0.13</td>\n",
       "      <td>-0.37</td>\n",
       "      <td>0.017</td>\n",
       "    </tr>\n",
       "    <tr>\n",
       "      <th>15477</th>\n",
       "      <td>2024-12-26</td>\n",
       "      <td>0.02</td>\n",
       "      <td>1.09</td>\n",
       "      <td>-0.19</td>\n",
       "      <td>-0.44</td>\n",
       "      <td>0.35</td>\n",
       "      <td>0.017</td>\n",
       "    </tr>\n",
       "    <tr>\n",
       "      <th>15478</th>\n",
       "      <td>2024-12-27</td>\n",
       "      <td>-1.17</td>\n",
       "      <td>-0.44</td>\n",
       "      <td>0.56</td>\n",
       "      <td>0.41</td>\n",
       "      <td>0.03</td>\n",
       "      <td>0.017</td>\n",
       "    </tr>\n",
       "    <tr>\n",
       "      <th>15479</th>\n",
       "      <td>2024-12-30</td>\n",
       "      <td>-1.09</td>\n",
       "      <td>0.24</td>\n",
       "      <td>0.74</td>\n",
       "      <td>0.55</td>\n",
       "      <td>0.14</td>\n",
       "      <td>0.017</td>\n",
       "    </tr>\n",
       "    <tr>\n",
       "      <th>15480</th>\n",
       "      <td>2024-12-31</td>\n",
       "      <td>-0.46</td>\n",
       "      <td>0.31</td>\n",
       "      <td>0.71</td>\n",
       "      <td>0.33</td>\n",
       "      <td>0.00</td>\n",
       "      <td>0.017</td>\n",
       "    </tr>\n",
       "  </tbody>\n",
       "</table>\n",
       "<p>15481 rows × 7 columns</p>\n",
       "</div>"
      ],
      "text/plain": [
       "             date  Mkt-RF   SMB   HML   RMW   CMA     RF\n",
       "0      1963-07-01   -0.67  0.02 -0.35  0.03  0.13  0.012\n",
       "1      1963-07-02    0.79 -0.28  0.28 -0.08 -0.21  0.012\n",
       "2      1963-07-03    0.63 -0.18 -0.10  0.13 -0.25  0.012\n",
       "3      1963-07-05    0.40  0.09 -0.28  0.07 -0.30  0.012\n",
       "4      1963-07-08   -0.63  0.07 -0.20 -0.27  0.06  0.012\n",
       "...           ...     ...   ...   ...   ...   ...    ...\n",
       "15476  2024-12-24    1.11 -0.12 -0.05 -0.13 -0.37  0.017\n",
       "15477  2024-12-26    0.02  1.09 -0.19 -0.44  0.35  0.017\n",
       "15478  2024-12-27   -1.17 -0.44  0.56  0.41  0.03  0.017\n",
       "15479  2024-12-30   -1.09  0.24  0.74  0.55  0.14  0.017\n",
       "15480  2024-12-31   -0.46  0.31  0.71  0.33  0.00  0.017\n",
       "\n",
       "[15481 rows x 7 columns]"
      ]
     },
     "execution_count": 7,
     "metadata": {},
     "output_type": "execute_result"
    }
   ],
   "source": [
    "table1_ff5['date'] = pd.to_datetime(table1_ff5['date'].astype(str), format='%Y%m%d').dt.strftime('%Y-%m-%d')\n",
    "table1_ff5"
   ]
  },
  {
   "cell_type": "code",
   "execution_count": 8,
   "metadata": {
    "ExecuteTime": {
     "end_time": "2025-03-16T08:36:32.162346Z",
     "start_time": "2025-03-16T08:36:31.987434Z"
    },
    "collapsed": false,
    "jupyter": {
     "outputs_hidden": false
    }
   },
   "outputs": [
    {
     "data": {
      "text/plain": [
       "date       object\n",
       "Mkt-RF    float64\n",
       "SMB       float64\n",
       "HML       float64\n",
       "RF        float64\n",
       "dtype: object"
      ]
     },
     "execution_count": 8,
     "metadata": {},
     "output_type": "execute_result"
    }
   ],
   "source": [
    "table1_ff3.head()\n",
    "table1_ff3.dtypes"
   ]
  },
  {
   "cell_type": "markdown",
   "metadata": {
    "collapsed": false,
    "jp-MarkdownHeadingCollapsed": true,
    "jupyter": {
     "outputs_hidden": false
    }
   },
   "source": [
    "## 2.2.Divided the time & dataset"
   ]
  },
  {
   "cell_type": "markdown",
   "metadata": {
    "collapsed": false,
    "jupyter": {
     "outputs_hidden": false
    }
   },
   "source": [
    "* The data analysis timeline of the paper is from 1963 to 2016. Combined with the data obtained by the team, we divided the research time into four groups: 2000_2016, 2017-2023, 2000-2023, and 1963-2016, in order to explore the impact of long, medium and short time on factor regression."
   ]
  },
  {
   "cell_type": "code",
   "execution_count": 9,
   "metadata": {
    "ExecuteTime": {
     "end_time": "2025-03-16T08:36:33.810836Z",
     "start_time": "2025-03-16T08:36:33.769137Z"
    },
    "collapsed": false,
    "jupyter": {
     "outputs_hidden": false
    }
   },
   "outputs": [],
   "source": [
    "# all period from 2000 Jan 1 to 2023 Dec 31\n",
    "start_date = '2000-01-01'\n",
    "end_date = '2023-12-31'"
   ]
  },
  {
   "cell_type": "code",
   "execution_count": 10,
   "metadata": {
    "ExecuteTime": {
     "end_time": "2025-03-16T08:36:34.198537Z",
     "start_time": "2025-03-16T08:36:34.160557Z"
    },
    "collapsed": false,
    "jupyter": {
     "outputs_hidden": false
    }
   },
   "outputs": [],
   "source": [
    "# sample period from 2000 Jan 1 to 2016 Dec 31\n",
    "start_date_1 = '2000-01-01'\n",
    "end_date_1 = '2016-12-31'"
   ]
  },
  {
   "cell_type": "code",
   "execution_count": 11,
   "metadata": {
    "ExecuteTime": {
     "end_time": "2025-03-16T08:36:34.958532Z",
     "start_time": "2025-03-16T08:36:34.882753Z"
    },
    "collapsed": false,
    "jupyter": {
     "outputs_hidden": false
    }
   },
   "outputs": [],
   "source": [
    "# post sample period from 2017 Jan 1 to 2023 Dec 31\n",
    "start_date_2 = '2017-01-01'\n",
    "end_date_2 = '2023-12-31'"
   ]
  },
  {
   "cell_type": "code",
   "execution_count": 12,
   "metadata": {
    "ExecuteTime": {
     "end_time": "2025-03-16T08:36:35.424453Z",
     "start_time": "2025-03-16T08:36:35.404723Z"
    },
    "collapsed": false,
    "jupyter": {
     "outputs_hidden": false
    }
   },
   "outputs": [],
   "source": [
    "# original sample period from 1963 July 1 to 2016 Dec 31\n",
    "start_date_3 = '1963-07-01'\n",
    "end_date_3 = '2016-12-31'"
   ]
  },
  {
   "cell_type": "code",
   "execution_count": 13,
   "metadata": {
    "ExecuteTime": {
     "end_time": "2025-03-16T08:36:40.092114Z",
     "start_time": "2025-03-16T08:36:37.161064Z"
    },
    "collapsed": false,
    "jupyter": {
     "outputs_hidden": false
    }
   },
   "outputs": [],
   "source": [
    "# Adjust for the time\n",
    "filtered_data_1 = table1_data[(table1_data['date'] >= start_date) & (table1_data['date'] <= end_date)]\n",
    "filtered_ff3_1 = table1_ff3[(table1_ff3['date'] >= start_date) & (table1_ff3['date'] <= end_date)]\n",
    "filtered_ff5_1 = table1_ff5[(table1_ff5['date'] >= start_date) & (table1_ff5['date'] <= end_date)]\n",
    "filtered_data_2 = table1_data[(table1_data['date'] >= start_date_1) & (table1_data['date'] <= end_date_1)]\n",
    "filtered_ff3_2 = table1_ff3[(table1_ff3['date'] >= start_date_1) & (table1_ff3['date'] <= end_date_1)]\n",
    "filtered_ff5_2 = table1_ff5[(table1_ff5['date'] >= start_date_1) & (table1_ff5['date'] <= end_date_1)]\n",
    "filtered_data_3 = table1_data[(table1_data['date'] >= start_date_2) & (table1_data['date'] <= end_date_2)]\n",
    "filtered_ff3_3 = table1_ff3[(table1_ff3['date'] >= start_date_2) & (table1_ff3['date'] <= end_date_2)]\n",
    "filtered_ff5_3 = table1_ff5[(table1_ff5['date'] >= start_date_2) & (table1_ff5['date'] <= end_date_2)]\n",
    "# Adjust for factors data in the original sample period, ensure all factors are available\n",
    "check_factor_original = table1_data[table1_data['date'] < start_date_3]['predictor'].unique()\n",
    "filtered_data_4 = table1_data[table1_data['predictor'].isin(check_factor_original)]\n",
    "filtered_data_4 = filtered_data_4[(filtered_data_4['date'] >= start_date_3) & (filtered_data_4['date'] <= end_date_3)]\n",
    "# Adjust for ff data time\n",
    "filtered_ff3_4 = table1_ff3[(table1_ff3['date'] >= start_date_3) & (table1_ff3['date'] <= end_date_3)]\n",
    "filtered_ff5_4 = table1_ff5[(table1_ff5['date'] >= start_date_3) & (table1_ff5['date'] <= end_date_3)]"
   ]
  },
  {
   "cell_type": "code",
   "execution_count": 14,
   "metadata": {
    "ExecuteTime": {
     "end_time": "2025-03-16T08:36:45.886019Z",
     "start_time": "2025-03-16T08:36:42.930062Z"
    },
    "collapsed": false,
    "jupyter": {
     "outputs_hidden": false
    }
   },
   "outputs": [
    {
     "name": "stdout",
     "output_type": "stream",
     "text": [
      "['date', 'port01', 'port02', 'port03', 'port04', 'port05', 'portLS', 'predictor', 'Mkt-RF', 'SMB', 'HML', 'RF']\n",
      "['date', 'port01', 'port02', 'port03', 'port04', 'port05', 'portLS', 'predictor', 'Mkt-RF', 'SMB', 'HML', 'RMW', 'CMA', 'RF']\n",
      "['date', 'port01', 'port02', 'port03', 'port04', 'port05', 'portLS', 'predictor', 'Mkt-RF', 'SMB', 'HML', 'RF']\n",
      "['date', 'port01', 'port02', 'port03', 'port04', 'port05', 'portLS', 'predictor', 'Mkt-RF', 'SMB', 'HML', 'RMW', 'CMA', 'RF']\n",
      "['date', 'port01', 'port02', 'port03', 'port04', 'port05', 'portLS', 'predictor', 'Mkt-RF', 'SMB', 'HML', 'RF']\n",
      "['date', 'port01', 'port02', 'port03', 'port04', 'port05', 'portLS', 'predictor', 'Mkt-RF', 'SMB', 'HML', 'RMW', 'CMA', 'RF']\n",
      "['date', 'port01', 'port02', 'port03', 'port04', 'port05', 'portLS', 'predictor', 'Mkt-RF', 'SMB', 'HML', 'RF']\n",
      "['date', 'port01', 'port02', 'port03', 'port04', 'port05', 'portLS', 'predictor', 'Mkt-RF', 'SMB', 'HML', 'RMW', 'CMA', 'RF']\n"
     ]
    }
   ],
   "source": [
    "merged_data_1 = pd.merge(filtered_data_1, filtered_ff3_1, on='date', how='inner')\n",
    "merged_data_2 = pd.merge(filtered_data_1, filtered_ff5_1, on='date', how='inner')\n",
    "merged_data_3 = pd.merge(filtered_data_2, filtered_ff3_2, on='date', how='inner')\n",
    "merged_data_4 = pd.merge(filtered_data_2, filtered_ff5_2, on='date', how='inner')\n",
    "merged_data_5 = pd.merge(filtered_data_3, filtered_ff3_3, on='date', how='inner')\n",
    "merged_data_6 = pd.merge(filtered_data_3, filtered_ff5_3, on='date', how='inner')\n",
    "merged_data_7 = pd.merge(filtered_data_4, filtered_ff3_4, on='date', how='inner')\n",
    "merged_data_8 = pd.merge(filtered_data_4, filtered_ff5_4, on='date', how='inner')\n",
    "\n",
    "print(merged_data_1.columns.tolist())\n",
    "print(merged_data_2.columns.tolist())\n",
    "print(merged_data_3.columns.tolist())\n",
    "print(merged_data_4.columns.tolist())\n",
    "print(merged_data_5.columns.tolist())\n",
    "print(merged_data_6.columns.tolist())\n",
    "print(merged_data_7.columns.tolist())\n",
    "print(merged_data_8.columns.tolist())"
   ]
  },
  {
   "cell_type": "code",
   "execution_count": 15,
   "metadata": {
    "ExecuteTime": {
     "end_time": "2025-03-16T08:37:56.044199Z",
     "start_time": "2025-03-16T08:36:51.533969Z"
    },
    "collapsed": false,
    "jupyter": {
     "outputs_hidden": false
    }
   },
   "outputs": [],
   "source": [
    "merged_data_1.to_csv('data/merged_data_with_ff3_1.csv', index=False)\n",
    "merged_data_2.to_csv('data/merged_data_with_ff5_1.csv', index=False)\n",
    "merged_data_3.to_csv('data/merged_data_with_ff3_2.csv', index=False)\n",
    "merged_data_4.to_csv('data/merged_data_with_ff5_2.csv', index=False)\n",
    "merged_data_5.to_csv('data/merged_data_with_ff3_3.csv', index=False)\n",
    "merged_data_6.to_csv('data/merged_data_with_ff5_3.csv', index=False)\n",
    "merged_data_7.to_csv('data/merged_data_with_ff3_4.csv', index=False)\n",
    "merged_data_8.to_csv('data/merged_data_with_ff5_4.csv', index=False)"
   ]
  },
  {
   "cell_type": "code",
   "execution_count": 16,
   "metadata": {
    "ExecuteTime": {
     "end_time": "2025-03-16T08:38:06.741931Z",
     "start_time": "2025-03-16T08:38:06.683656Z"
    },
    "collapsed": false,
    "jupyter": {
     "outputs_hidden": false
    }
   },
   "outputs": [
    {
     "data": {
      "text/plain": [
       "array(['Accruals', 'AssetGrowth', 'BM', 'BPEBM', 'Beta', 'BookLeverage',\n",
       "       'CBOperProf', 'CF', 'ChAssetTurnover', 'ChNWC', 'CompEquIss',\n",
       "       'CompositeDebtIssuance', 'Coskewness', 'DolVol', 'EBM', 'EP',\n",
       "       'EarningsSurprise', 'FirmAge', 'GP', 'Herf', 'High52', 'IdioVol3F',\n",
       "       'Illiquidity', 'IntMom', 'InvGrowth', 'LRreversal', 'MaxRet',\n",
       "       'Mom12m', 'Mom6m', 'MomOffSeason', 'MomOffSeason06YrPlus',\n",
       "       'MomOffSeason11YrPlus', 'MomOffSeason16YrPlus', 'MomSeason',\n",
       "       'MomSeason06YrPlus', 'MomSeason11YrPlus', 'MomSeason16YrPlus',\n",
       "       'MomSeasonShort', 'NOA', 'RDAbility', 'ResidualMomentum', 'RoE',\n",
       "       'SP', 'STreversal', 'ShareIss1Y', 'ShareIss5Y', 'Size', 'VolMkt',\n",
       "       'VolSD', 'std_turn'], dtype=object)"
      ]
     },
     "execution_count": 16,
     "metadata": {},
     "output_type": "execute_result"
    }
   ],
   "source": [
    "# print the unique 'predictor' in the original sample period\n",
    "check_factor_original"
   ]
  },
  {
   "cell_type": "code",
   "execution_count": 17,
   "metadata": {
    "ExecuteTime": {
     "end_time": "2025-03-16T08:48:06.940092Z",
     "start_time": "2025-03-16T08:48:06.903330Z"
    },
    "collapsed": false,
    "jupyter": {
     "outputs_hidden": false
    }
   },
   "outputs": [],
   "source": [
    "# Define for accounting factors and return factors for \"all\" \"sample\" and \"post\" periods\n",
    "accounting_factors = [\n",
    "    'Accruals', 'AnalystValue', 'AssetGrowth', 'BM', 'BPEBM', 'BookLeverage',\n",
    "    'CBOperProf', 'CF', 'ChAssetTurnover', 'ChNWC', 'CompEquIss', 'CompositeDebtIssuance',\n",
    "    'EBM', 'EP', 'EarningsSurprise', 'GP', 'Herf', 'InvGrowth',\n",
    "    'NOA', 'OperProf', 'PS', 'RDAbility', 'RoE', 'SP', 'Size', 'ShareIss1Y', 'ShareIss5Y',\n",
    "    'XFIN', 'cfp', 'roaq'\n",
    "]\n",
    "\n",
    "return_factors = [\n",
    "    'Beta', 'BetaLiquidityPS', 'CPVolSpread', 'Coskewness', 'CustomerMomentum',\n",
    "    'DolVol', 'FirmAge', 'High52', 'IdioVol3F', 'Illiquidity', 'IntMom', 'LRreversal', 'MaxRet',\n",
    "    'Mom12m', 'Mom6m', 'Mom6mJunk', 'MomOffSeason', 'MomOffSeason06YrPlus',\n",
    "    'MomOffSeason11YrPlus', 'MomOffSeason16YrPlus', 'MomSeason', 'MomSeason06YrPlus',\n",
    "    'MomSeason11YrPlus', 'MomSeason16YrPlus', 'MomSeasonShort', 'RIVolSpread',\n",
    "    'ResidualMomentum', 'STreversal', 'VolMkt', 'VolSD', 'std_turn', 'Frontier'\n",
    "]"
   ]
  },
  {
   "cell_type": "code",
   "execution_count": 18,
   "metadata": {
    "ExecuteTime": {
     "end_time": "2025-03-16T08:48:09.068797Z",
     "start_time": "2025-03-16T08:48:09.002297Z"
    },
    "collapsed": false,
    "jupyter": {
     "outputs_hidden": false
    }
   },
   "outputs": [],
   "source": [
    "# Define for accounting factors and return factors for \"original\" sample period\n",
    "accounting_factors_original = [\n",
    "    'Accruals', 'AssetGrowth', 'BM', 'BPEBM', 'BookLeverage', 'CBOperProf', 'CF', 'ChAssetTurnover', 'ChNWC', 'CompEquIss', 'CompositeDebtIssuance', 'EBM', 'EP', 'EarningsSurprise', 'GP', 'Herf', 'InvGrowth', 'NOA', 'RDAbility', 'RoE', 'SP', 'Size', 'ShareIss1Y', 'ShareIss5Y'\n",
    "]\n",
    "\n",
    "return_factors_original = [\n",
    "    'Beta', 'Coskewness', 'DolVol', 'FirmAge', 'High52', 'IdioVol3F', 'Illiquidity', 'IntMom', 'LRreversal', 'MaxRet', 'Mom12m', 'Mom6m', 'MomOffSeason', 'MomOffSeason06YrPlus', 'MomOffSeason11YrPlus', 'MomOffSeason16YrPlus', 'MomSeason', 'MomSeason06YrPlus', 'MomSeason11YrPlus', 'MomSeason16YrPlus', 'MomSeasonShort', 'ResidualMomentum', 'STreversal', 'VolMkt', 'VolSD', 'std_turn'\n",
    "]"
   ]
  },
  {
   "cell_type": "markdown",
   "metadata": {
    "collapsed": false,
    "jp-MarkdownHeadingCollapsed": true,
    "jupyter": {
     "outputs_hidden": false
    }
   },
   "source": [
    "## 2.3. regression in the ‘all' time period"
   ]
  },
  {
   "cell_type": "markdown",
   "metadata": {
    "collapsed": false,
    "jupyter": {
     "outputs_hidden": false
    }
   },
   "source": [
    "* In this section, calculations and regression studies will be conducted for the timeline 2000-2023.\n",
    "* In the first step, we will calculate the first two columns of Table 1 to obtain the average return rate and t value of each factor.\n",
    "* The second step is to calculate the regression results of each factor and the FF3 factor model, and output the excess return and the corresponding t value.\n",
    "* The third step is to calculate the regression results of each factor and the FF5 factor model. The overall idea is similar to the second step."
   ]
  },
  {
   "cell_type": "markdown",
   "metadata": {
    "collapsed": false,
    "jupyter": {
     "outputs_hidden": false
    }
   },
   "source": [
    "+ <span style=\"color:red\">The Newey-West standard error can effectively deal with heteroscedasticity by adjusting the covariance matrix. At the same time, the Newey-West method introduces a lag term to correct the autocorrelation and provide a more accurate standard error.</span>"
   ]
  },
  {
   "cell_type": "markdown",
   "metadata": {
    "collapsed": false,
    "jupyter": {
     "outputs_hidden": false
    }
   },
   "source": [
    "### 3.1 Preliminary analysis"
   ]
  },
  {
   "cell_type": "code",
   "execution_count": 26,
   "metadata": {
    "ExecuteTime": {
     "end_time": "2025-03-16T08:52:18.276291Z",
     "start_time": "2025-03-16T08:52:15.155516Z"
    },
    "collapsed": false,
    "jupyter": {
     "outputs_hidden": false
    }
   },
   "outputs": [],
   "source": [
    "# Read the merged data\n",
    "all_data = pd.read_csv('data/merged_data_with_ff3_1.csv')\n",
    "# Divide by 100\n",
    "port_columns_1 = ['port01', 'port02', 'port03', 'port04', 'port05']\n",
    "all_data[port_columns_1] = all_data[port_columns_1] / 100\n",
    "# only retain columns that are needed\n",
    "all_data = all_data[['date', 'predictor'] + port_columns_1]\n",
    "\n",
    "# Separate accounting and return data\n",
    "accounting_data_1 = all_data[all_data['predictor'].isin(accounting_factors)]\n",
    "return_data_1 = all_data[all_data['predictor'].isin(return_factors)]"
   ]
  },
  {
   "cell_type": "code",
   "execution_count": 27,
   "metadata": {
    "ExecuteTime": {
     "end_time": "2025-03-16T08:52:19.143333Z",
     "start_time": "2025-03-16T08:52:19.078909Z"
    },
    "collapsed": false,
    "jupyter": {
     "outputs_hidden": false
    }
   },
   "outputs": [],
   "source": [
    "# Calculate the dynamic factor return\n",
    "def calculate_dynamic_factor_return(row):\n",
    "    high_ports = row[['port04', 'port05']].values\n",
    "    low_ports = row[['port01', 'port02']].values\n",
    "    return np.mean(high_ports) - np.mean(low_ports)\n",
    "\n",
    "# Define a function to compound returns\n",
    "def compound_returns(x):\n",
    "    return (1 + x).prod() - 1\n",
    "\n",
    "# Resample and calculate dynamic factor return for each period\n",
    "def resample_and_calculate(df, freq):\n",
    "    df['date'] = pd.to_datetime(df['date'])\n",
    "    df_resampled = df.set_index('date').groupby('predictor').resample(freq).apply(compound_returns).reset_index()\n",
    "    return df_resampled\n",
    "\n",
    "# Calculate Newey-West t-value\n",
    "def calculate_newey_west_t_value(df, max_lag):\n",
    "    results = []\n",
    "\n",
    "    for factor, group in df.groupby('predictor'):\n",
    "        returns = group['factor_return'].dropna()\n",
    "        mean_returns = returns.mean() * 100  # Calculate mean returns for each factor\n",
    "\n",
    "        # Regression to compute t-stat using Newey-West standard errors\n",
    "        X = sm.add_constant(np.ones(len(returns)))  # Constant term\n",
    "        model = sm.OLS(returns, X).fit(cov_type='HAC', cov_kwds={'maxlags': max_lag})\n",
    "\n",
    "        t_value = model.tvalues.iloc[0]  # T-Value\n",
    "\n",
    "        # display results in 2 decimal places\n",
    "        results.append({\n",
    "            'Factor': factor,\n",
    "            'Average Returns': round(mean_returns, 2),\n",
    "            'T-Value': round(t_value, 2)\n",
    "        })\n",
    "\n",
    "    return pd.DataFrame(results)"
   ]
  },
  {
   "cell_type": "code",
   "execution_count": 28,
   "metadata": {
    "ExecuteTime": {
     "end_time": "2025-03-16T08:52:19.782982Z",
     "start_time": "2025-03-16T08:52:19.701175Z"
    },
    "collapsed": false,
    "jupyter": {
     "outputs_hidden": false
    }
   },
   "outputs": [],
   "source": [
    "# Suppress SettingWithCopyWarning\n",
    "pd.options.mode.chained_assignment = None  # default='warn'"
   ]
  },
  {
   "cell_type": "code",
   "execution_count": 29,
   "metadata": {
    "ExecuteTime": {
     "end_time": "2025-03-16T08:52:42.830009Z",
     "start_time": "2025-03-16T08:52:20.195078Z"
    },
    "collapsed": false,
    "jupyter": {
     "outputs_hidden": false
    }
   },
   "outputs": [
    {
     "name": "stdout",
     "output_type": "stream",
     "text": [
      "\n",
      "Accounting factors (annual rebalancing):\n",
      "                   Factor  Average Returns  T-Value\n",
      "0                Accruals             1.86     1.38\n",
      "1            AnalystValue             3.30     0.85\n",
      "2             AssetGrowth             2.22     0.93\n",
      "3                      BM             3.23     1.07\n",
      "4                   BPEBM             2.52     1.57\n",
      "5            BookLeverage            -2.14    -1.10\n",
      "6              CBOperProf             3.50     2.12\n",
      "7                      CF             2.64     0.95\n",
      "8         ChAssetTurnover            -0.55    -0.60\n",
      "9                   ChNWC            -1.46    -1.65\n",
      "10             CompEquIss             2.83     1.32\n",
      "11  CompositeDebtIssuance             0.48     0.28\n",
      "12                    EBM             0.22     0.08\n",
      "13                     EP             3.71     1.44\n",
      "14       EarningsSurprise             1.41     1.47\n",
      "15                     GP             4.73     2.24\n",
      "16                   Herf            -1.42    -1.04\n",
      "17              InvGrowth             0.21     0.09\n",
      "18                    NOA             3.51     1.93\n",
      "19               OperProf             3.53     1.37\n",
      "20                     PS             6.42     1.85\n",
      "21              RDAbility             1.89     0.60\n",
      "22                    RoE             3.05     1.55\n",
      "23                     SP             3.55     1.09\n",
      "24             ShareIss1Y             3.50     1.51\n",
      "25             ShareIss5Y             3.69     2.89\n",
      "26                   Size             0.97     0.21\n",
      "27                   XFIN             4.49     1.51\n",
      "28                    cfp             3.99     1.18\n",
      "29                   roaq             5.61     1.81\n",
      "\n",
      "Return factors (monthly rebalancing):\n",
      "                  Factor  Average Returns  T-Value\n",
      "0                   Beta            -0.13    -0.35\n",
      "1        BetaLiquidityPS             0.09     0.81\n",
      "2            CPVolSpread             0.31     3.82\n",
      "3             Coskewness             0.21     1.71\n",
      "4       CustomerMomentum             0.10     0.41\n",
      "5                 DolVol             0.04     0.28\n",
      "6                FirmAge             0.03     0.14\n",
      "7               Frontier             0.23     0.95\n",
      "8                 High52             0.10     0.38\n",
      "9              IdioVol3F             0.40     0.99\n",
      "10           Illiquidity             0.10     0.82\n",
      "11                IntMom            -0.14    -0.44\n",
      "12            LRreversal             0.15     0.53\n",
      "13                MaxRet             0.43     1.09\n",
      "14                Mom12m             0.02     0.07\n",
      "15                 Mom6m             0.24     0.93\n",
      "16             Mom6mJunk             0.20     0.90\n",
      "17          MomOffSeason            -0.03    -0.11\n",
      "18  MomOffSeason06YrPlus             0.60     4.04\n",
      "19  MomOffSeason11YrPlus             0.16     1.20\n",
      "20  MomOffSeason16YrPlus             0.08     0.71\n",
      "21             MomSeason            -0.09    -0.57\n",
      "22     MomSeason06YrPlus             0.31     2.10\n",
      "23     MomSeason11YrPlus             0.08     0.74\n",
      "24     MomSeason16YrPlus             0.14     1.21\n",
      "25        MomSeasonShort            -0.01    -0.09\n",
      "26           RIVolSpread             0.39     2.39\n",
      "27      ResidualMomentum             0.12     0.93\n",
      "28            STreversal             0.10     0.51\n",
      "29                VolMkt             0.09     0.42\n",
      "30                 VolSD             0.22     2.46\n",
      "31              std_turn            -0.31    -0.88\n"
     ]
    }
   ],
   "source": [
    "# Resample accounting data annually\n",
    "accounting_data_resampled = resample_and_calculate(accounting_data_1, 'YE')\n",
    "\n",
    "# Resample return data monthly\n",
    "return_data_resampled = resample_and_calculate(return_data_1, 'ME')\n",
    "\n",
    "# Calculate dynamic factor return\n",
    "accounting_data_resampled['factor_return'] = accounting_data_resampled.apply(calculate_dynamic_factor_return, axis=1)\n",
    "return_data_resampled['factor_return'] = return_data_resampled.apply(calculate_dynamic_factor_return, axis=1)\n",
    "\n",
    "# Calculate stats for accounting data\n",
    "accounting_results_1 = calculate_newey_west_t_value(accounting_data_resampled, max_lag=1)\n",
    "\n",
    "# Calculate stats for return data\n",
    "return_results_1 = calculate_newey_west_t_value(return_data_resampled, max_lag=12)\n",
    "\n",
    "# Display results\n",
    "print(\"\\nAccounting factors (annual rebalancing):\")\n",
    "print(accounting_results_1)\n",
    "\n",
    "print(\"\\nReturn factors (monthly rebalancing):\")\n",
    "print(return_results_1)"
   ]
  },
  {
   "cell_type": "markdown",
   "metadata": {
    "collapsed": false,
    "jupyter": {
     "outputs_hidden": false
    }
   },
   "source": [
    "### 3.2 Regression 1 - FF3"
   ]
  },
  {
   "cell_type": "code",
   "execution_count": 30,
   "metadata": {
    "ExecuteTime": {
     "end_time": "2025-03-16T08:53:06.196105Z",
     "start_time": "2025-03-16T08:53:04.946706Z"
    },
    "collapsed": false,
    "jupyter": {
     "outputs_hidden": false
    }
   },
   "outputs": [],
   "source": [
    "# read the merged data\n",
    "all_data_2 = pd.read_csv('data/merged_data_with_ff3_1.csv')\n",
    "# divide by 100\n",
    "port_columns = ['port01', 'port02', 'port03', 'port04', 'port05', 'Mkt-RF', 'SMB', 'HML', 'RF']\n",
    "all_data_2[port_columns] = all_data_2[port_columns] / 100\n",
    "# only retain columns that are needed\n",
    "all_data_2 = all_data_2[['date', 'predictor'] + port_columns]\n",
    "\n",
    "# Separate accounting and return data\n",
    "accounting_data_2 = all_data_2[all_data_2['predictor'].isin(accounting_factors)]\n",
    "return_data_2 = all_data_2[all_data_2['predictor'].isin(return_factors)]"
   ]
  },
  {
   "cell_type": "code",
   "execution_count": 31,
   "metadata": {
    "ExecuteTime": {
     "end_time": "2025-03-16T08:53:08.945046Z",
     "start_time": "2025-03-16T08:53:08.931379Z"
    },
    "collapsed": false,
    "jupyter": {
     "outputs_hidden": false
    }
   },
   "outputs": [],
   "source": [
    "# Calculate alpha and Newey-West t-value\n",
    "def calculate_ff3_alpha_and_tvalues(df, max_lag):\n",
    "    results = []\n",
    "\n",
    "    for factor, group in df.groupby('predictor'):\n",
    "        group = group.dropna(subset=['factor_return', 'RF', 'Mkt-RF', 'SMB', 'HML'])\n",
    "        y = group['factor_return'] - group['RF']\n",
    "        X = sm.add_constant(group[['Mkt-RF', 'SMB', 'HML']])  # FF3 factors\n",
    "\n",
    "        # Perform regression with Newey-West standard errors\n",
    "        model = sm.OLS(y, X).fit(cov_type='HAC', cov_kwds={'maxlags': max_lag})\n",
    "\n",
    "        alpha = model.params['const'] * 100  # FF3 Alpha\n",
    "        t_value = model.tvalues['const']  # T-Value\n",
    "\n",
    "        results.append({\n",
    "            'Factor': factor,\n",
    "            'FF3 Alpha': round(alpha, 2),\n",
    "            'T-Value': round(t_value, 2)\n",
    "        })\n",
    "\n",
    "    return pd.DataFrame(results)"
   ]
  },
  {
   "cell_type": "code",
   "execution_count": 33,
   "metadata": {
    "ExecuteTime": {
     "end_time": "2025-03-16T08:53:57.427292Z",
     "start_time": "2025-03-16T08:53:25.577257Z"
    },
    "collapsed": false,
    "jupyter": {
     "outputs_hidden": false
    }
   },
   "outputs": [
    {
     "name": "stdout",
     "output_type": "stream",
     "text": [
      "\n",
      "Accounting factors (annual rebalancing):\n",
      "                   Factor  FF3 Alpha  T-Value\n",
      "0                Accruals       1.58     1.56\n",
      "1            AnalystValue       0.20     0.11\n",
      "2             AssetGrowth      -1.12    -0.86\n",
      "3                      BM      -2.20    -1.78\n",
      "4                   BPEBM      -0.74    -0.55\n",
      "5            BookLeverage      -3.18    -1.77\n",
      "6              CBOperProf       3.76     2.74\n",
      "7                      CF      -0.54    -0.26\n",
      "8         ChAssetTurnover      -2.22    -2.76\n",
      "9                   ChNWC      -3.32    -2.44\n",
      "10             CompEquIss       2.78     2.04\n",
      "11  CompositeDebtIssuance      -1.35    -0.67\n",
      "12                    EBM      -5.66    -4.94\n",
      "13                     EP      -0.96    -0.80\n",
      "14       EarningsSurprise       0.06     0.09\n",
      "15                     GP       4.53     2.06\n",
      "16                   Herf      -3.24    -2.80\n",
      "17              InvGrowth      -2.74    -1.41\n",
      "18                    NOA       0.08     0.04\n",
      "19               OperProf       4.43     2.43\n",
      "20                     PS      -0.62    -0.28\n",
      "21              RDAbility      -2.88    -0.99\n",
      "22                    RoE       2.07     1.21\n",
      "23                     SP      -1.88    -1.33\n",
      "24             ShareIss1Y       2.05     1.40\n",
      "25             ShareIss5Y       2.69     1.86\n",
      "26                   Size      -5.74    -2.83\n",
      "27                   XFIN       3.32     2.24\n",
      "28                    cfp       3.30     2.31\n",
      "29                   roaq       8.12     5.19\n",
      "\n",
      "Return factors (monthly rebalancing):\n",
      "                  Factor  FF3 Alpha  T-Value\n",
      "0                   Beta      -0.76    -3.40\n",
      "1        BetaLiquidityPS      -0.04    -0.34\n",
      "2            CPVolSpread       0.22     2.04\n",
      "3             Coskewness      -0.03    -0.25\n",
      "4       CustomerMomentum      -0.04    -0.14\n",
      "5                 DolVol      -0.02    -0.14\n",
      "6                FirmAge      -0.26    -1.91\n",
      "7               Frontier      -0.15    -0.88\n",
      "8                 High52       0.30     1.81\n",
      "9              IdioVol3F       0.62     2.85\n",
      "10           Illiquidity      -0.04    -0.48\n",
      "11                IntMom      -0.08    -0.27\n",
      "12            LRreversal      -0.23    -1.14\n",
      "13                MaxRet       0.67     3.28\n",
      "14                Mom12m       0.22     0.83\n",
      "15                 Mom6m       0.28     1.22\n",
      "16             Mom6mJunk       0.25     1.19\n",
      "17          MomOffSeason      -0.28    -1.74\n",
      "18  MomOffSeason06YrPlus       0.54     4.18\n",
      "19  MomOffSeason11YrPlus       0.02     0.15\n",
      "20  MomOffSeason16YrPlus       0.03     0.23\n",
      "21             MomSeason      -0.20    -1.37\n",
      "22     MomSeason06YrPlus       0.17     1.21\n",
      "23     MomSeason11YrPlus      -0.05    -0.45\n",
      "24     MomSeason16YrPlus      -0.00    -0.01\n",
      "25        MomSeasonShort      -0.09    -0.53\n",
      "26           RIVolSpread       0.31     2.17\n",
      "27      ResidualMomentum       0.05     0.44\n",
      "28            STreversal      -0.24    -1.10\n",
      "29                VolMkt       0.17     1.51\n",
      "30                 VolSD       0.18     2.53\n",
      "31              std_turn       0.24     1.36\n"
     ]
    }
   ],
   "source": [
    "# Resample accounting data annually\n",
    "accounting_data_resampled_2 = resample_and_calculate(accounting_data_2, 'YE')\n",
    "\n",
    "# Resample return data monthly\n",
    "return_data_resampled_2 = resample_and_calculate(return_data_2, 'ME')\n",
    "\n",
    "# Calculate dynamic factor return\n",
    "accounting_data_resampled_2['factor_return'] = accounting_data_resampled_2.apply(calculate_dynamic_factor_return, axis=1)\n",
    "return_data_resampled_2['factor_return'] = return_data_resampled_2.apply(calculate_dynamic_factor_return, axis=1)\n",
    "\n",
    "# Calculate alpha and t-values for accounting data\n",
    "accounting_results_2 = calculate_ff3_alpha_and_tvalues(accounting_data_resampled_2, max_lag=1)\n",
    "# Calculate stats for return data\n",
    "return_results_2 = calculate_ff3_alpha_and_tvalues(return_data_resampled_2, max_lag=12)\n",
    "\n",
    "# Display results\n",
    "print(\"\\nAccounting factors (annual rebalancing):\")\n",
    "print(accounting_results_2)\n",
    "\n",
    "print(\"\\nReturn factors (monthly rebalancing):\")\n",
    "print(return_results_2)"
   ]
  },
  {
   "cell_type": "markdown",
   "metadata": {
    "collapsed": false,
    "jupyter": {
     "outputs_hidden": false
    }
   },
   "source": [
    "### 3.3 Regression 2 - FF5"
   ]
  },
  {
   "cell_type": "code",
   "execution_count": 34,
   "metadata": {
    "ExecuteTime": {
     "end_time": "2025-03-16T08:54:11.332189Z",
     "start_time": "2025-03-16T08:54:09.970613Z"
    },
    "collapsed": false,
    "jupyter": {
     "outputs_hidden": false
    }
   },
   "outputs": [],
   "source": [
    "# read the merged data\n",
    "all_data_3 = pd.read_csv('data/merged_data_with_ff5_1.csv')\n",
    "# divide by 100\n",
    "port_columns = ['port01', 'port02', 'port03', 'port04', 'port05', 'Mkt-RF', 'SMB', 'HML', 'RMW', 'CMA', 'RF']\n",
    "all_data_3[port_columns] = all_data_3[port_columns] / 100\n",
    "# only retain columns that are needed\n",
    "all_data_3 = all_data_3[['date', 'predictor'] + port_columns]\n",
    "\n",
    "# Separate accounting and return data\n",
    "accounting_data_3 = all_data_3[all_data_3['predictor'].isin(accounting_factors)]\n",
    "return_data_3 = all_data_3[all_data_3['predictor'].isin(return_factors)]"
   ]
  },
  {
   "cell_type": "code",
   "execution_count": 35,
   "metadata": {
    "ExecuteTime": {
     "end_time": "2025-03-16T08:54:13.417046Z",
     "start_time": "2025-03-16T08:54:13.376907Z"
    },
    "collapsed": false,
    "jupyter": {
     "outputs_hidden": false
    }
   },
   "outputs": [],
   "source": [
    "# Calculate alpha and Newey-West t-value\n",
    "def calculate_ff5_alpha_and_tvalues(df, max_lag):\n",
    "    results = []\n",
    "\n",
    "    for factor, group in df.groupby('predictor'):\n",
    "        group = group.dropna(subset=['factor_return', 'RF', 'Mkt-RF', 'SMB', 'HML', 'RMW', 'CMA'])\n",
    "        y = group['factor_return'] - group['RF']\n",
    "        X = sm.add_constant(group[['Mkt-RF', 'SMB', 'HML', 'RMW', 'CMA']])  # FF5 factors\n",
    "\n",
    "        # Perform regression with Newey-West standard errors\n",
    "        model = sm.OLS(y, X).fit(cov_type='HAC', cov_kwds={'maxlags': max_lag})\n",
    "\n",
    "        alpha = model.params['const'] * 100  # FF5 Alpha\n",
    "        t_value = model.tvalues['const']  # T-Value\n",
    "\n",
    "        results.append({\n",
    "            'Factor': factor,\n",
    "            'FF5 Alpha': round(alpha, 2),\n",
    "            'T-Value': round(t_value,2)\n",
    "        })\n",
    "\n",
    "    return pd.DataFrame(results)"
   ]
  },
  {
   "cell_type": "code",
   "execution_count": 36,
   "metadata": {
    "ExecuteTime": {
     "end_time": "2025-03-16T08:54:49.358981Z",
     "start_time": "2025-03-16T08:54:16.769216Z"
    },
    "collapsed": false,
    "jupyter": {
     "outputs_hidden": false
    }
   },
   "outputs": [
    {
     "name": "stdout",
     "output_type": "stream",
     "text": [
      "\n",
      "Accounting factors (annual rebalancing) - FF5:\n",
      "                   Factor  FF5 Alpha  T-Value\n",
      "0                Accruals       1.33     0.99\n",
      "1            AnalystValue      -1.68    -0.71\n",
      "2             AssetGrowth      -0.42    -0.31\n",
      "3                      BM      -0.15    -0.11\n",
      "4                   BPEBM      -2.42    -1.14\n",
      "5            BookLeverage      -2.42    -1.66\n",
      "6              CBOperProf      -0.68    -0.35\n",
      "7                      CF      -2.20    -1.08\n",
      "8         ChAssetTurnover      -0.62    -0.66\n",
      "9                   ChNWC      -4.43    -2.74\n",
      "10             CompEquIss       3.14     1.86\n",
      "11  CompositeDebtIssuance       0.19     0.08\n",
      "12                    EBM      -4.71    -2.88\n",
      "13                     EP      -2.18    -1.47\n",
      "14       EarningsSurprise      -0.60    -0.78\n",
      "15                     GP      -0.49    -0.16\n",
      "16                   Herf      -2.92    -2.59\n",
      "17              InvGrowth      -5.99    -2.39\n",
      "18                    NOA      -0.56    -0.22\n",
      "19               OperProf      -1.77    -1.14\n",
      "20                     PS      -2.20    -0.62\n",
      "21              RDAbility      -6.65    -1.98\n",
      "22                    RoE      -3.44    -1.90\n",
      "23                     SP      -0.40    -0.32\n",
      "24             ShareIss1Y      -3.09    -2.23\n",
      "25             ShareIss5Y       0.55     0.27\n",
      "26                   Size      -7.05    -2.46\n",
      "27                   XFIN      -1.05    -0.44\n",
      "28                    cfp       0.88     0.49\n",
      "29                   roaq       2.22     1.46\n",
      "\n",
      "Return factors (monthly rebalancing) - FF5:\n",
      "                  Factor  FF5 Alpha  T-Value\n",
      "0                   Beta      -0.14    -0.71\n",
      "1        BetaLiquidityPS      -0.07    -0.55\n",
      "2            CPVolSpread       0.21     1.87\n",
      "3             Coskewness       0.13     1.10\n",
      "4       CustomerMomentum       0.09     0.30\n",
      "5                 DolVol      -0.00    -0.02\n",
      "6                FirmAge      -0.13    -1.13\n",
      "7               Frontier       0.02     0.12\n",
      "8                 High52      -0.07    -0.34\n",
      "9              IdioVol3F       0.07     0.36\n",
      "10           Illiquidity      -0.05    -0.60\n",
      "11                IntMom      -0.19    -0.67\n",
      "12            LRreversal      -0.11    -0.55\n",
      "13                MaxRet       0.12     0.87\n",
      "14                Mom12m      -0.11    -0.34\n",
      "15                 Mom6m      -0.02    -0.06\n",
      "16             Mom6mJunk      -0.00    -0.01\n",
      "17          MomOffSeason      -0.24    -1.34\n",
      "18  MomOffSeason06YrPlus       0.50     3.67\n",
      "19  MomOffSeason11YrPlus       0.11     0.67\n",
      "20  MomOffSeason16YrPlus       0.00     0.03\n",
      "21             MomSeason      -0.22    -1.45\n",
      "22     MomSeason06YrPlus       0.27     1.49\n",
      "23     MomSeason11YrPlus      -0.01    -0.06\n",
      "24     MomSeason16YrPlus       0.04     0.36\n",
      "25        MomSeasonShort      -0.19    -1.16\n",
      "26           RIVolSpread       0.22     1.45\n",
      "27      ResidualMomentum      -0.06    -0.50\n",
      "28            STreversal      -0.07    -0.32\n",
      "29                VolMkt      -0.19    -1.66\n",
      "30                 VolSD       0.12     1.63\n",
      "31              std_turn       0.09     0.50\n"
     ]
    }
   ],
   "source": [
    "# Resample accounting data annually\n",
    "accounting_data_resampled_3 = resample_and_calculate(accounting_data_3, 'YE')\n",
    "\n",
    "# Resample return data monthly\n",
    "return_data_resampled_3 = resample_and_calculate(return_data_3, 'ME')\n",
    "\n",
    "# Calculate dynamic factor return\n",
    "accounting_data_resampled_3['factor_return'] = accounting_data_resampled_3.apply(calculate_dynamic_factor_return, axis=1)\n",
    "return_data_resampled_3['factor_return'] = return_data_resampled_3.apply(calculate_dynamic_factor_return, axis=1)\n",
    "\n",
    "# Calculate alpha and t-values for accounting data for FF5\n",
    "accounting_results_3 = calculate_ff5_alpha_and_tvalues(accounting_data_resampled_3, max_lag=1)\n",
    "# Calculate stats for return data for FF5\n",
    "return_results_3 = calculate_ff5_alpha_and_tvalues(return_data_resampled_3, max_lag=12)\n",
    "\n",
    "# Display results for FF5\n",
    "print(\"\\nAccounting factors (annual rebalancing) - FF5:\")\n",
    "print(accounting_results_3)\n",
    "\n",
    "print(\"\\nReturn factors (monthly rebalancing) - FF5:\")\n",
    "print(return_results_3)"
   ]
  },
  {
   "cell_type": "markdown",
   "metadata": {
    "collapsed": false,
    "jupyter": {
     "outputs_hidden": false
    }
   },
   "source": [
    "### 3.4 Combine all the regressions"
   ]
  },
  {
   "cell_type": "code",
   "execution_count": 37,
   "metadata": {
    "ExecuteTime": {
     "end_time": "2025-03-16T08:54:55.851597Z",
     "start_time": "2025-03-16T08:54:55.818896Z"
    },
    "collapsed": false,
    "jupyter": {
     "outputs_hidden": false
    }
   },
   "outputs": [
    {
     "name": "stdout",
     "output_type": "stream",
     "text": [
      "\n",
      "Accounting factors (annual rebalancing):\n",
      "                   Factor  Average Returns  T-Value_1  FF3 Alpha  T-Value_2  \\\n",
      "0                Accruals             1.86       1.38       1.58       1.56   \n",
      "1            AnalystValue             3.30       0.85       0.20       0.11   \n",
      "2             AssetGrowth             2.22       0.93      -1.12      -0.86   \n",
      "3                      BM             3.23       1.07      -2.20      -1.78   \n",
      "4                   BPEBM             2.52       1.57      -0.74      -0.55   \n",
      "5            BookLeverage            -2.14      -1.10      -3.18      -1.77   \n",
      "6              CBOperProf             3.50       2.12       3.76       2.74   \n",
      "7                      CF             2.64       0.95      -0.54      -0.26   \n",
      "8         ChAssetTurnover            -0.55      -0.60      -2.22      -2.76   \n",
      "9                   ChNWC            -1.46      -1.65      -3.32      -2.44   \n",
      "10             CompEquIss             2.83       1.32       2.78       2.04   \n",
      "11  CompositeDebtIssuance             0.48       0.28      -1.35      -0.67   \n",
      "12                    EBM             0.22       0.08      -5.66      -4.94   \n",
      "13                     EP             3.71       1.44      -0.96      -0.80   \n",
      "14       EarningsSurprise             1.41       1.47       0.06       0.09   \n",
      "15                     GP             4.73       2.24       4.53       2.06   \n",
      "16                   Herf            -1.42      -1.04      -3.24      -2.80   \n",
      "17              InvGrowth             0.21       0.09      -2.74      -1.41   \n",
      "18                    NOA             3.51       1.93       0.08       0.04   \n",
      "19               OperProf             3.53       1.37       4.43       2.43   \n",
      "20                     PS             6.42       1.85      -0.62      -0.28   \n",
      "21              RDAbility             1.89       0.60      -2.88      -0.99   \n",
      "22                    RoE             3.05       1.55       2.07       1.21   \n",
      "23                     SP             3.55       1.09      -1.88      -1.33   \n",
      "24             ShareIss1Y             3.50       1.51       2.05       1.40   \n",
      "25             ShareIss5Y             3.69       2.89       2.69       1.86   \n",
      "26                   Size             0.97       0.21      -5.74      -2.83   \n",
      "27                   XFIN             4.49       1.51       3.32       2.24   \n",
      "28                    cfp             3.99       1.18       3.30       2.31   \n",
      "29                   roaq             5.61       1.81       8.12       5.19   \n",
      "\n",
      "    FF5 Alpha  T-Value  \n",
      "0        1.33     0.99  \n",
      "1       -1.68    -0.71  \n",
      "2       -0.42    -0.31  \n",
      "3       -0.15    -0.11  \n",
      "4       -2.42    -1.14  \n",
      "5       -2.42    -1.66  \n",
      "6       -0.68    -0.35  \n",
      "7       -2.20    -1.08  \n",
      "8       -0.62    -0.66  \n",
      "9       -4.43    -2.74  \n",
      "10       3.14     1.86  \n",
      "11       0.19     0.08  \n",
      "12      -4.71    -2.88  \n",
      "13      -2.18    -1.47  \n",
      "14      -0.60    -0.78  \n",
      "15      -0.49    -0.16  \n",
      "16      -2.92    -2.59  \n",
      "17      -5.99    -2.39  \n",
      "18      -0.56    -0.22  \n",
      "19      -1.77    -1.14  \n",
      "20      -2.20    -0.62  \n",
      "21      -6.65    -1.98  \n",
      "22      -3.44    -1.90  \n",
      "23      -0.40    -0.32  \n",
      "24      -3.09    -2.23  \n",
      "25       0.55     0.27  \n",
      "26      -7.05    -2.46  \n",
      "27      -1.05    -0.44  \n",
      "28       0.88     0.49  \n",
      "29       2.22     1.46  \n",
      "\n",
      "Return factors (monthly rebalancing):\n",
      "                  Factor  Average Returns  T-Value_1  FF3 Alpha  T-Value_2  \\\n",
      "0                   Beta            -0.13      -0.35      -0.76      -3.40   \n",
      "1        BetaLiquidityPS             0.09       0.81      -0.04      -0.34   \n",
      "2            CPVolSpread             0.31       3.82       0.22       2.04   \n",
      "3             Coskewness             0.21       1.71      -0.03      -0.25   \n",
      "4       CustomerMomentum             0.10       0.41      -0.04      -0.14   \n",
      "5                 DolVol             0.04       0.28      -0.02      -0.14   \n",
      "6                FirmAge             0.03       0.14      -0.26      -1.91   \n",
      "7               Frontier             0.23       0.95      -0.15      -0.88   \n",
      "8                 High52             0.10       0.38       0.30       1.81   \n",
      "9              IdioVol3F             0.40       0.99       0.62       2.85   \n",
      "10           Illiquidity             0.10       0.82      -0.04      -0.48   \n",
      "11                IntMom            -0.14      -0.44      -0.08      -0.27   \n",
      "12            LRreversal             0.15       0.53      -0.23      -1.14   \n",
      "13                MaxRet             0.43       1.09       0.67       3.28   \n",
      "14                Mom12m             0.02       0.07       0.22       0.83   \n",
      "15                 Mom6m             0.24       0.93       0.28       1.22   \n",
      "16             Mom6mJunk             0.20       0.90       0.25       1.19   \n",
      "17          MomOffSeason            -0.03      -0.11      -0.28      -1.74   \n",
      "18  MomOffSeason06YrPlus             0.60       4.04       0.54       4.18   \n",
      "19  MomOffSeason11YrPlus             0.16       1.20       0.02       0.15   \n",
      "20  MomOffSeason16YrPlus             0.08       0.71       0.03       0.23   \n",
      "21             MomSeason            -0.09      -0.57      -0.20      -1.37   \n",
      "22     MomSeason06YrPlus             0.31       2.10       0.17       1.21   \n",
      "23     MomSeason11YrPlus             0.08       0.74      -0.05      -0.45   \n",
      "24     MomSeason16YrPlus             0.14       1.21      -0.00      -0.01   \n",
      "25        MomSeasonShort            -0.01      -0.09      -0.09      -0.53   \n",
      "26           RIVolSpread             0.39       2.39       0.31       2.17   \n",
      "27      ResidualMomentum             0.12       0.93       0.05       0.44   \n",
      "28            STreversal             0.10       0.51      -0.24      -1.10   \n",
      "29                VolMkt             0.09       0.42       0.17       1.51   \n",
      "30                 VolSD             0.22       2.46       0.18       2.53   \n",
      "31              std_turn            -0.31      -0.88       0.24       1.36   \n",
      "\n",
      "    FF5 Alpha  T-Value  \n",
      "0       -0.14    -0.71  \n",
      "1       -0.07    -0.55  \n",
      "2        0.21     1.87  \n",
      "3        0.13     1.10  \n",
      "4        0.09     0.30  \n",
      "5       -0.00    -0.02  \n",
      "6       -0.13    -1.13  \n",
      "7        0.02     0.12  \n",
      "8       -0.07    -0.34  \n",
      "9        0.07     0.36  \n",
      "10      -0.05    -0.60  \n",
      "11      -0.19    -0.67  \n",
      "12      -0.11    -0.55  \n",
      "13       0.12     0.87  \n",
      "14      -0.11    -0.34  \n",
      "15      -0.02    -0.06  \n",
      "16      -0.00    -0.01  \n",
      "17      -0.24    -1.34  \n",
      "18       0.50     3.67  \n",
      "19       0.11     0.67  \n",
      "20       0.00     0.03  \n",
      "21      -0.22    -1.45  \n",
      "22       0.27     1.49  \n",
      "23      -0.01    -0.06  \n",
      "24       0.04     0.36  \n",
      "25      -0.19    -1.16  \n",
      "26       0.22     1.45  \n",
      "27      -0.06    -0.50  \n",
      "28      -0.07    -0.32  \n",
      "29      -0.19    -1.66  \n",
      "30       0.12     1.63  \n",
      "31       0.09     0.50  \n"
     ]
    }
   ],
   "source": [
    "# combine the results of accounting_results_1, accounting_results_2, accounting_results_3 according to the factor\n",
    "accounting_results_all = accounting_results_1.merge(accounting_results_2, on='Factor', suffixes=('_1', '_2')).merge(accounting_results_3, on='Factor', suffixes=('', '_3'))\n",
    "\n",
    "# combine the results of return_results_1, return_results_2, return_results_3\n",
    "return_results_all = return_results_1.merge(return_results_2, on='Factor', suffixes=('_1', '_2')).merge(return_results_3, on='Factor', suffixes=('', '_3'))\n",
    "\n",
    "# display the results\n",
    "print(\"\\nAccounting factors (annual rebalancing):\")\n",
    "print(accounting_results_all)\n",
    "\n",
    "print(\"\\nReturn factors (monthly rebalancing):\")\n",
    "print(return_results_all)"
   ]
  },
  {
   "cell_type": "code",
   "execution_count": 38,
   "metadata": {
    "ExecuteTime": {
     "end_time": "2025-03-16T08:55:03.024042Z",
     "start_time": "2025-03-16T08:55:02.950157Z"
    },
    "collapsed": false,
    "jupyter": {
     "outputs_hidden": false
    }
   },
   "outputs": [],
   "source": [
    "# save the results\n",
    "accounting_results_all.to_csv('accounting_factors_annual_all_2000_2023.csv', index=False)\n",
    "return_results_all.to_csv('return_factors_monthly_all_2000_2023.csv', index=False)"
   ]
  },
  {
   "cell_type": "markdown",
   "metadata": {
    "collapsed": false,
    "jp-MarkdownHeadingCollapsed": true,
    "jupyter": {
     "outputs_hidden": false
    }
   },
   "source": [
    "## 2.4. Regression in the 2000-2016 'sample' time period"
   ]
  },
  {
   "cell_type": "markdown",
   "metadata": {
    "collapsed": false,
    "jupyter": {
     "outputs_hidden": false
    }
   },
   "source": [
    "* In this section, calculations and regression studies will be conducted for the timeline 2000-2016.\n",
    "* The calculation steps are the same as the previous section, and the results are output."
   ]
  },
  {
   "cell_type": "markdown",
   "metadata": {
    "collapsed": false,
    "jupyter": {
     "outputs_hidden": false
    }
   },
   "source": [
    "### 2.4.1 Preliminary analysis"
   ]
  },
  {
   "cell_type": "code",
   "execution_count": 39,
   "metadata": {
    "ExecuteTime": {
     "end_time": "2025-03-16T08:55:35.223660Z",
     "start_time": "2025-03-16T08:55:15.827373Z"
    },
    "collapsed": false,
    "jupyter": {
     "outputs_hidden": false
    }
   },
   "outputs": [
    {
     "name": "stdout",
     "output_type": "stream",
     "text": [
      "\n",
      "Accounting factors (annual rebalancing):\n",
      "                   Factor  Average Returns  T-Value\n",
      "0                Accruals             1.37     0.75\n",
      "1            AnalystValue             5.24     1.35\n",
      "2             AssetGrowth             4.60     1.90\n",
      "3                      BM             5.51     1.82\n",
      "4                   BPEBM             0.47     0.38\n",
      "5            BookLeverage            -2.38    -0.90\n",
      "6              CBOperProf             1.28     0.76\n",
      "7                      CF             5.53     2.49\n",
      "8         ChAssetTurnover            -0.21    -0.21\n",
      "9                   ChNWC            -2.01    -2.86\n",
      "10             CompEquIss             1.75     0.66\n",
      "11  CompositeDebtIssuance             3.45     3.15\n",
      "12                    EBM             2.58     0.82\n",
      "13                     EP             4.98     1.60\n",
      "14       EarningsSurprise             1.62     1.26\n",
      "15                     GP             1.02     0.55\n",
      "16                   Herf            -2.57    -2.54\n",
      "17              InvGrowth             0.78     0.37\n",
      "18                    NOA             2.26     0.96\n",
      "19               OperProf             2.39     0.69\n",
      "20                     PS             8.39     1.82\n",
      "21              RDAbility            -1.09    -0.37\n",
      "22                    RoE             2.96     1.15\n",
      "23                     SP             7.25     2.62\n",
      "24             ShareIss1Y             4.23     1.62\n",
      "25             ShareIss5Y             2.82     2.01\n",
      "26                   Size             4.64     0.83\n",
      "27                   XFIN             5.33     1.61\n",
      "28                    cfp             5.91     1.77\n",
      "29                   roaq             4.43     1.14\n",
      "\n",
      "Return factors (monthly rebalancing):\n",
      "                  Factor  Average Returns  T-Value\n",
      "0                   Beta            -0.32    -0.70\n",
      "1        BetaLiquidityPS             0.25     1.77\n",
      "2            CPVolSpread             0.40     4.78\n",
      "3             Coskewness             0.04     0.30\n",
      "4       CustomerMomentum             0.09     0.29\n",
      "5                 DolVol             0.27     1.43\n",
      "6                FirmAge             0.09     0.53\n",
      "7               Frontier             0.54     2.08\n",
      "8                 High52             0.18     0.54\n",
      "9              IdioVol3F             0.46     0.89\n",
      "10           Illiquidity             0.30     2.39\n",
      "11                IntMom             0.05     0.13\n",
      "12            LRreversal             0.17     0.54\n",
      "13                MaxRet             0.59     1.17\n",
      "14                Mom12m             0.02     0.06\n",
      "15                 Mom6m             0.10     0.32\n",
      "16             Mom6mJunk             0.08     0.28\n",
      "17          MomOffSeason             0.04     0.15\n",
      "18  MomOffSeason06YrPlus             0.77     4.73\n",
      "19  MomOffSeason11YrPlus             0.38     2.92\n",
      "20  MomOffSeason16YrPlus             0.16     1.20\n",
      "21             MomSeason            -0.09    -0.56\n",
      "22     MomSeason06YrPlus             0.41     2.34\n",
      "23     MomSeason11YrPlus             0.17     1.49\n",
      "24     MomSeason16YrPlus             0.10     0.66\n",
      "25        MomSeasonShort             0.06     0.27\n",
      "26           RIVolSpread             0.42     2.33\n",
      "27      ResidualMomentum             0.24     1.52\n",
      "28            STreversal             0.18     0.71\n",
      "29                VolMkt             0.25     1.01\n",
      "30                 VolSD             0.32     2.82\n",
      "31              std_turn            -0.29    -0.70\n"
     ]
    }
   ],
   "source": [
    "# Read the merged data\n",
    "sample_data = pd.read_csv('data/merged_data_with_ff3_2.csv')\n",
    "# Divide by 100\n",
    "port_columns_1 = ['port01', 'port02', 'port03', 'port04', 'port05']\n",
    "sample_data[port_columns_1] = sample_data[port_columns_1] / 100\n",
    "# only retain columns that are needed\n",
    "sample_data = sample_data[['date', 'predictor'] + port_columns_1]\n",
    "\n",
    "# Separate accounting and return data\n",
    "accounting_data_4 = sample_data[sample_data['predictor'].isin(accounting_factors)]\n",
    "return_data_4 = sample_data[sample_data['predictor'].isin(return_factors)]\n",
    "# Resample accounting data annually\n",
    "accounting_data_resampled_4 = resample_and_calculate(accounting_data_4, 'YE')\n",
    "\n",
    "# Resample return data monthly\n",
    "return_data_resampled_4 = resample_and_calculate(return_data_4, 'ME')\n",
    "\n",
    "# Calculate dynamic factor return\n",
    "accounting_data_resampled_4['factor_return'] = accounting_data_resampled_4.apply(calculate_dynamic_factor_return, axis=1)\n",
    "return_data_resampled_4['factor_return'] = return_data_resampled_4.apply(calculate_dynamic_factor_return, axis=1)\n",
    "\n",
    "# Calculate stats for accounting data\n",
    "accounting_results_4 = calculate_newey_west_t_value(accounting_data_resampled_4, max_lag=1)\n",
    "\n",
    "# Calculate stats for return data\n",
    "return_results_4 = calculate_newey_west_t_value(return_data_resampled_4, max_lag=12)\n",
    "\n",
    "# Display results\n",
    "print(\"\\nAccounting factors (annual rebalancing):\")\n",
    "print(accounting_results_4)\n",
    "\n",
    "print(\"\\nReturn factors (monthly rebalancing):\")\n",
    "print(return_results_4)"
   ]
  },
  {
   "cell_type": "markdown",
   "metadata": {
    "collapsed": false,
    "jp-MarkdownHeadingCollapsed": true,
    "jupyter": {
     "outputs_hidden": false
    }
   },
   "source": [
    "### 2.4.2 Regression 1 - FF3"
   ]
  },
  {
   "cell_type": "code",
   "execution_count": 40,
   "metadata": {
    "ExecuteTime": {
     "end_time": "2025-03-16T08:55:51.697233Z",
     "start_time": "2025-03-16T08:55:50.636963Z"
    },
    "collapsed": false,
    "jupyter": {
     "outputs_hidden": false
    }
   },
   "outputs": [],
   "source": [
    "# read the merged data\n",
    "sample_data_2 = pd.read_csv('data/merged_data_with_ff3_2.csv')\n",
    "# divide by 100\n",
    "port_columns = ['port01', 'port02', 'port03', 'port04', 'port05', 'Mkt-RF', 'SMB', 'HML', 'RF']\n",
    "sample_data_2[port_columns] = sample_data_2[port_columns] / 100\n",
    "# only retain columns that are needed\n",
    "sample_data_2 = sample_data_2[['date', 'predictor'] + port_columns]\n",
    "\n",
    "# Separate accounting and return data\n",
    "accounting_data_5 = sample_data_2[sample_data_2['predictor'].isin(accounting_factors)]\n",
    "return_data_5 = sample_data_2[sample_data_2['predictor'].isin(return_factors)]"
   ]
  },
  {
   "cell_type": "code",
   "execution_count": 41,
   "metadata": {
    "ExecuteTime": {
     "end_time": "2025-03-16T08:56:17.727227Z",
     "start_time": "2025-03-16T08:55:53.377873Z"
    },
    "collapsed": false,
    "jupyter": {
     "outputs_hidden": false
    }
   },
   "outputs": [
    {
     "name": "stdout",
     "output_type": "stream",
     "text": [
      "\n",
      "Accounting factors (annual rebalancing):\n",
      "                   Factor  FF3 Alpha  T-Value\n",
      "0                Accruals       2.03     1.65\n",
      "1            AnalystValue       1.35     0.67\n",
      "2             AssetGrowth      -0.57    -0.44\n",
      "3                      BM      -1.12    -0.69\n",
      "4                   BPEBM      -2.14    -1.18\n",
      "5            BookLeverage      -1.36    -0.77\n",
      "6              CBOperProf       2.48     2.79\n",
      "7                      CF       2.54     1.38\n",
      "8         ChAssetTurnover      -2.24    -2.68\n",
      "9                   ChNWC      -3.12    -2.36\n",
      "10             CompEquIss       4.56     3.65\n",
      "11  CompositeDebtIssuance       2.64     2.29\n",
      "12                    EBM      -5.11    -3.80\n",
      "13                     EP      -1.17    -0.70\n",
      "14       EarningsSurprise      -0.30    -0.41\n",
      "15                     GP       1.84     0.60\n",
      "16                   Herf      -4.57    -4.04\n",
      "17              InvGrowth      -2.82    -1.70\n",
      "18                    NOA      -2.38    -0.84\n",
      "19               OperProf       3.96     1.88\n",
      "20                     PS       1.00     0.34\n",
      "21              RDAbility      -6.37    -3.70\n",
      "22                    RoE       2.25     1.13\n",
      "23                     SP       0.29     0.40\n",
      "24             ShareIss1Y       2.39     1.33\n",
      "25             ShareIss5Y       1.82     0.86\n",
      "26                   Size      -4.51    -1.87\n",
      "27                   XFIN       4.03     2.34\n",
      "28                    cfp       4.83     3.03\n",
      "29                   roaq       8.12     3.75\n",
      "\n",
      "Return factors (monthly rebalancing):\n",
      "                  Factor  FF3 Alpha  T-Value\n",
      "0                   Beta      -0.72    -2.86\n",
      "1        BetaLiquidityPS       0.19     1.70\n",
      "2            CPVolSpread       0.40     3.44\n",
      "3             Coskewness      -0.12    -0.89\n",
      "4       CustomerMomentum      -0.06    -0.20\n",
      "5                 DolVol       0.12     0.65\n",
      "6                FirmAge      -0.15    -1.17\n",
      "7               Frontier       0.03     0.18\n",
      "8                 High52       0.23     1.09\n",
      "9              IdioVol3F       0.53     2.11\n",
      "10           Illiquidity       0.11     1.13\n",
      "11                IntMom       0.20     0.69\n",
      "12            LRreversal      -0.34    -1.38\n",
      "13                MaxRet       0.70     3.38\n",
      "14                Mom12m       0.13     0.38\n",
      "15                 Mom6m      -0.05    -0.18\n",
      "16             Mom6mJunk       0.01     0.05\n",
      "17          MomOffSeason      -0.34    -1.96\n",
      "18  MomOffSeason06YrPlus       0.69     4.34\n",
      "19  MomOffSeason11YrPlus       0.31     2.39\n",
      "20  MomOffSeason16YrPlus       0.12     0.80\n",
      "21             MomSeason      -0.16    -1.10\n",
      "22     MomSeason06YrPlus       0.25     1.50\n",
      "23     MomSeason11YrPlus       0.06     0.47\n",
      "24     MomSeason16YrPlus      -0.01    -0.03\n",
      "25        MomSeasonShort       0.06     0.32\n",
      "26           RIVolSpread       0.26     1.69\n",
      "27      ResidualMomentum       0.15     1.04\n",
      "28            STreversal      -0.08    -0.30\n",
      "29                VolMkt       0.17     1.17\n",
      "30                 VolSD       0.23     2.54\n",
      "31              std_turn       0.32     1.53\n"
     ]
    }
   ],
   "source": [
    "# Resample accounting data annually\n",
    "accounting_data_resampled_5 = resample_and_calculate(accounting_data_5, 'YE')\n",
    "\n",
    "# Resample return data monthly\n",
    "return_data_resampled_5 = resample_and_calculate(return_data_5, 'ME')\n",
    "\n",
    "# Calculate dynamic factor return\n",
    "accounting_data_resampled_5['factor_return'] = accounting_data_resampled_5.apply(calculate_dynamic_factor_return, axis=1)\n",
    "return_data_resampled_5['factor_return'] = return_data_resampled_5.apply(calculate_dynamic_factor_return, axis=1)\n",
    "\n",
    "# Calculate alpha and t-values for accounting data\n",
    "accounting_results_5 = calculate_ff3_alpha_and_tvalues(accounting_data_resampled_5, max_lag=1)\n",
    "# Calculate stats for return data\n",
    "return_results_5 = calculate_ff3_alpha_and_tvalues(return_data_resampled_5, max_lag=12)\n",
    "\n",
    "# Display results\n",
    "print(\"\\nAccounting factors (annual rebalancing):\")\n",
    "print(accounting_results_5)\n",
    "\n",
    "print(\"\\nReturn factors (monthly rebalancing):\")\n",
    "print(return_results_5)"
   ]
  },
  {
   "cell_type": "markdown",
   "metadata": {
    "collapsed": false,
    "jp-MarkdownHeadingCollapsed": true,
    "jupyter": {
     "outputs_hidden": false
    }
   },
   "source": [
    "### 2.4.3 Regression 2 - FF5"
   ]
  },
  {
   "cell_type": "code",
   "execution_count": 42,
   "metadata": {
    "ExecuteTime": {
     "end_time": "2025-03-16T08:56:30.337048Z",
     "start_time": "2025-03-16T08:56:29.287329Z"
    },
    "collapsed": false,
    "jupyter": {
     "outputs_hidden": false
    }
   },
   "outputs": [],
   "source": [
    "# read the merged data\n",
    "sample_data_3 = pd.read_csv('data/merged_data_with_ff5_2.csv')\n",
    "# divide by 100\n",
    "port_columns = ['port01', 'port02', 'port03', 'port04', 'port05', 'Mkt-RF', 'SMB', 'HML', 'RMW', 'CMA', 'RF']\n",
    "sample_data_3[port_columns] = sample_data_3[port_columns] / 100\n",
    "# only retain columns that are needed\n",
    "sample_data_3 = sample_data_3[['date', 'predictor'] + port_columns]\n",
    "\n",
    "# Separate accounting and return data\n",
    "accounting_data_6 = sample_data_3[sample_data_3['predictor'].isin(accounting_factors)]\n",
    "return_data_6 = sample_data_3[sample_data_3['predictor'].isin(return_factors)]"
   ]
  },
  {
   "cell_type": "code",
   "execution_count": 43,
   "metadata": {
    "ExecuteTime": {
     "end_time": "2025-03-16T08:56:59.979116Z",
     "start_time": "2025-03-16T08:56:33.676506Z"
    },
    "collapsed": false,
    "jupyter": {
     "outputs_hidden": false
    }
   },
   "outputs": [
    {
     "name": "stdout",
     "output_type": "stream",
     "text": [
      "\n",
      "Accounting factors (annual rebalancing) - FF5:\n",
      "                   Factor  FF5 Alpha  T-Value\n",
      "0                Accruals       1.34     0.69\n",
      "1            AnalystValue      -1.48    -0.67\n",
      "2             AssetGrowth       2.50     1.47\n",
      "3                      BM       2.14     1.34\n",
      "4                   BPEBM       0.33     0.10\n",
      "5            BookLeverage      -0.42    -0.15\n",
      "6              CBOperProf       1.57     1.21\n",
      "7                      CF      -0.59    -0.22\n",
      "8         ChAssetTurnover      -1.26    -1.12\n",
      "9                   ChNWC      -4.61    -2.57\n",
      "10             CompEquIss       5.54     5.08\n",
      "11  CompositeDebtIssuance       4.17     1.93\n",
      "12                    EBM      -2.42    -1.10\n",
      "13                     EP      -2.15    -0.73\n",
      "14       EarningsSurprise       1.43     1.04\n",
      "15                     GP       0.86     0.19\n",
      "16                   Herf      -1.30    -0.71\n",
      "17              InvGrowth      -1.19    -0.42\n",
      "18                    NOA      -1.06    -0.22\n",
      "19               OperProf      -2.63    -1.18\n",
      "20                     PS     -13.22    -2.04\n",
      "21              RDAbility     -10.59    -4.06\n",
      "22                    RoE      -5.56    -2.57\n",
      "23                     SP      -0.21    -0.27\n",
      "24             ShareIss1Y      -4.45    -2.63\n",
      "25             ShareIss5Y      -2.29    -0.86\n",
      "26                   Size      -3.49    -0.63\n",
      "27                   XFIN      -0.20    -0.07\n",
      "28                    cfp      -0.10    -0.04\n",
      "29                   roaq      -0.12    -0.05\n",
      "\n",
      "Return factors (monthly rebalancing) - FF5:\n",
      "                  Factor  FF5 Alpha  T-Value\n",
      "0                   Beta      -0.11    -0.46\n",
      "1        BetaLiquidityPS       0.10     0.82\n",
      "2            CPVolSpread       0.37     3.08\n",
      "3             Coskewness       0.06     0.42\n",
      "4       CustomerMomentum       0.10     0.28\n",
      "5                 DolVol       0.13     0.75\n",
      "6                FirmAge      -0.08    -0.67\n",
      "7               Frontier       0.25     1.56\n",
      "8                 High52      -0.16    -0.61\n",
      "9              IdioVol3F      -0.10    -0.41\n",
      "10           Illiquidity       0.07     0.66\n",
      "11                IntMom       0.08     0.28\n",
      "12            LRreversal      -0.15    -0.72\n",
      "13                MaxRet       0.09     0.55\n",
      "14                Mom12m      -0.25    -0.63\n",
      "15                 Mom6m      -0.34    -0.99\n",
      "16             Mom6mJunk      -0.28    -0.82\n",
      "17          MomOffSeason      -0.24    -1.31\n",
      "18  MomOffSeason06YrPlus       0.63     4.07\n",
      "19  MomOffSeason11YrPlus       0.35     2.18\n",
      "20  MomOffSeason16YrPlus       0.05     0.38\n",
      "21             MomSeason      -0.08    -0.53\n",
      "22     MomSeason06YrPlus       0.40     1.89\n",
      "23     MomSeason11YrPlus       0.14     1.02\n",
      "24     MomSeason16YrPlus       0.10     0.57\n",
      "25        MomSeasonShort      -0.06    -0.28\n",
      "26           RIVolSpread       0.12     0.68\n",
      "27      ResidualMomentum       0.04     0.29\n",
      "28            STreversal       0.04     0.14\n",
      "29                VolMkt      -0.17    -1.17\n",
      "30                 VolSD       0.21     2.24\n",
      "31              std_turn       0.20     1.02\n"
     ]
    }
   ],
   "source": [
    "# Resample accounting data annually\n",
    "accounting_data_resampled_6 = resample_and_calculate(accounting_data_6, 'YE')\n",
    "\n",
    "# Resample return data monthly\n",
    "return_data_resampled_6 = resample_and_calculate(return_data_6, 'ME')\n",
    "\n",
    "# Calculate dynamic factor return\n",
    "accounting_data_resampled_6['factor_return'] = accounting_data_resampled_6.apply(calculate_dynamic_factor_return, axis=1)\n",
    "return_data_resampled_6['factor_return'] = return_data_resampled_6.apply(calculate_dynamic_factor_return, axis=1)\n",
    "\n",
    "# Calculate alpha and t-values for accounting data for FF5\n",
    "accounting_results_6 = calculate_ff5_alpha_and_tvalues(accounting_data_resampled_6, max_lag=1)\n",
    "# Calculate stats for return data for FF5\n",
    "return_results_6 = calculate_ff5_alpha_and_tvalues(return_data_resampled_6, max_lag=12)\n",
    "\n",
    "# Display results for FF5\n",
    "print(\"\\nAccounting factors (annual rebalancing) - FF5:\")\n",
    "print(accounting_results_6)\n",
    "\n",
    "print(\"\\nReturn factors (monthly rebalancing) - FF5:\")\n",
    "print(return_results_6)"
   ]
  },
  {
   "cell_type": "markdown",
   "metadata": {
    "collapsed": false,
    "jp-MarkdownHeadingCollapsed": true,
    "jupyter": {
     "outputs_hidden": false
    }
   },
   "source": [
    "### 2.4.4 Combine all the regressions"
   ]
  },
  {
   "cell_type": "code",
   "execution_count": 44,
   "metadata": {
    "ExecuteTime": {
     "end_time": "2025-03-16T08:57:06.534722Z",
     "start_time": "2025-03-16T08:57:06.466611Z"
    },
    "collapsed": false,
    "jupyter": {
     "outputs_hidden": false
    }
   },
   "outputs": [
    {
     "name": "stdout",
     "output_type": "stream",
     "text": [
      "\n",
      "Accounting factors (annual rebalancing):\n",
      "                   Factor  Average Returns  T-Value_1  FF3 Alpha  T-Value_2  \\\n",
      "0                Accruals             1.37       0.75       2.03       1.65   \n",
      "1            AnalystValue             5.24       1.35       1.35       0.67   \n",
      "2             AssetGrowth             4.60       1.90      -0.57      -0.44   \n",
      "3                      BM             5.51       1.82      -1.12      -0.69   \n",
      "4                   BPEBM             0.47       0.38      -2.14      -1.18   \n",
      "5            BookLeverage            -2.38      -0.90      -1.36      -0.77   \n",
      "6              CBOperProf             1.28       0.76       2.48       2.79   \n",
      "7                      CF             5.53       2.49       2.54       1.38   \n",
      "8         ChAssetTurnover            -0.21      -0.21      -2.24      -2.68   \n",
      "9                   ChNWC            -2.01      -2.86      -3.12      -2.36   \n",
      "10             CompEquIss             1.75       0.66       4.56       3.65   \n",
      "11  CompositeDebtIssuance             3.45       3.15       2.64       2.29   \n",
      "12                    EBM             2.58       0.82      -5.11      -3.80   \n",
      "13                     EP             4.98       1.60      -1.17      -0.70   \n",
      "14       EarningsSurprise             1.62       1.26      -0.30      -0.41   \n",
      "15                     GP             1.02       0.55       1.84       0.60   \n",
      "16                   Herf            -2.57      -2.54      -4.57      -4.04   \n",
      "17              InvGrowth             0.78       0.37      -2.82      -1.70   \n",
      "18                    NOA             2.26       0.96      -2.38      -0.84   \n",
      "19               OperProf             2.39       0.69       3.96       1.88   \n",
      "20                     PS             8.39       1.82       1.00       0.34   \n",
      "21              RDAbility            -1.09      -0.37      -6.37      -3.70   \n",
      "22                    RoE             2.96       1.15       2.25       1.13   \n",
      "23                     SP             7.25       2.62       0.29       0.40   \n",
      "24             ShareIss1Y             4.23       1.62       2.39       1.33   \n",
      "25             ShareIss5Y             2.82       2.01       1.82       0.86   \n",
      "26                   Size             4.64       0.83      -4.51      -1.87   \n",
      "27                   XFIN             5.33       1.61       4.03       2.34   \n",
      "28                    cfp             5.91       1.77       4.83       3.03   \n",
      "29                   roaq             4.43       1.14       8.12       3.75   \n",
      "\n",
      "    FF5 Alpha  T-Value  \n",
      "0        1.34     0.69  \n",
      "1       -1.48    -0.67  \n",
      "2        2.50     1.47  \n",
      "3        2.14     1.34  \n",
      "4        0.33     0.10  \n",
      "5       -0.42    -0.15  \n",
      "6        1.57     1.21  \n",
      "7       -0.59    -0.22  \n",
      "8       -1.26    -1.12  \n",
      "9       -4.61    -2.57  \n",
      "10       5.54     5.08  \n",
      "11       4.17     1.93  \n",
      "12      -2.42    -1.10  \n",
      "13      -2.15    -0.73  \n",
      "14       1.43     1.04  \n",
      "15       0.86     0.19  \n",
      "16      -1.30    -0.71  \n",
      "17      -1.19    -0.42  \n",
      "18      -1.06    -0.22  \n",
      "19      -2.63    -1.18  \n",
      "20     -13.22    -2.04  \n",
      "21     -10.59    -4.06  \n",
      "22      -5.56    -2.57  \n",
      "23      -0.21    -0.27  \n",
      "24      -4.45    -2.63  \n",
      "25      -2.29    -0.86  \n",
      "26      -3.49    -0.63  \n",
      "27      -0.20    -0.07  \n",
      "28      -0.10    -0.04  \n",
      "29      -0.12    -0.05  \n",
      "\n",
      "Return factors (monthly rebalancing):\n",
      "                  Factor  Average Returns  T-Value_1  FF3 Alpha  T-Value_2  \\\n",
      "0                   Beta            -0.32      -0.70      -0.72      -2.86   \n",
      "1        BetaLiquidityPS             0.25       1.77       0.19       1.70   \n",
      "2            CPVolSpread             0.40       4.78       0.40       3.44   \n",
      "3             Coskewness             0.04       0.30      -0.12      -0.89   \n",
      "4       CustomerMomentum             0.09       0.29      -0.06      -0.20   \n",
      "5                 DolVol             0.27       1.43       0.12       0.65   \n",
      "6                FirmAge             0.09       0.53      -0.15      -1.17   \n",
      "7               Frontier             0.54       2.08       0.03       0.18   \n",
      "8                 High52             0.18       0.54       0.23       1.09   \n",
      "9              IdioVol3F             0.46       0.89       0.53       2.11   \n",
      "10           Illiquidity             0.30       2.39       0.11       1.13   \n",
      "11                IntMom             0.05       0.13       0.20       0.69   \n",
      "12            LRreversal             0.17       0.54      -0.34      -1.38   \n",
      "13                MaxRet             0.59       1.17       0.70       3.38   \n",
      "14                Mom12m             0.02       0.06       0.13       0.38   \n",
      "15                 Mom6m             0.10       0.32      -0.05      -0.18   \n",
      "16             Mom6mJunk             0.08       0.28       0.01       0.05   \n",
      "17          MomOffSeason             0.04       0.15      -0.34      -1.96   \n",
      "18  MomOffSeason06YrPlus             0.77       4.73       0.69       4.34   \n",
      "19  MomOffSeason11YrPlus             0.38       2.92       0.31       2.39   \n",
      "20  MomOffSeason16YrPlus             0.16       1.20       0.12       0.80   \n",
      "21             MomSeason            -0.09      -0.56      -0.16      -1.10   \n",
      "22     MomSeason06YrPlus             0.41       2.34       0.25       1.50   \n",
      "23     MomSeason11YrPlus             0.17       1.49       0.06       0.47   \n",
      "24     MomSeason16YrPlus             0.10       0.66      -0.01      -0.03   \n",
      "25        MomSeasonShort             0.06       0.27       0.06       0.32   \n",
      "26           RIVolSpread             0.42       2.33       0.26       1.69   \n",
      "27      ResidualMomentum             0.24       1.52       0.15       1.04   \n",
      "28            STreversal             0.18       0.71      -0.08      -0.30   \n",
      "29                VolMkt             0.25       1.01       0.17       1.17   \n",
      "30                 VolSD             0.32       2.82       0.23       2.54   \n",
      "31              std_turn            -0.29      -0.70       0.32       1.53   \n",
      "\n",
      "    FF5 Alpha  T-Value  \n",
      "0       -0.11    -0.46  \n",
      "1        0.10     0.82  \n",
      "2        0.37     3.08  \n",
      "3        0.06     0.42  \n",
      "4        0.10     0.28  \n",
      "5        0.13     0.75  \n",
      "6       -0.08    -0.67  \n",
      "7        0.25     1.56  \n",
      "8       -0.16    -0.61  \n",
      "9       -0.10    -0.41  \n",
      "10       0.07     0.66  \n",
      "11       0.08     0.28  \n",
      "12      -0.15    -0.72  \n",
      "13       0.09     0.55  \n",
      "14      -0.25    -0.63  \n",
      "15      -0.34    -0.99  \n",
      "16      -0.28    -0.82  \n",
      "17      -0.24    -1.31  \n",
      "18       0.63     4.07  \n",
      "19       0.35     2.18  \n",
      "20       0.05     0.38  \n",
      "21      -0.08    -0.53  \n",
      "22       0.40     1.89  \n",
      "23       0.14     1.02  \n",
      "24       0.10     0.57  \n",
      "25      -0.06    -0.28  \n",
      "26       0.12     0.68  \n",
      "27       0.04     0.29  \n",
      "28       0.04     0.14  \n",
      "29      -0.17    -1.17  \n",
      "30       0.21     2.24  \n",
      "31       0.20     1.02  \n"
     ]
    }
   ],
   "source": [
    "# combine the results\n",
    "accounting_results_sample = accounting_results_4.merge(accounting_results_5, on='Factor', suffixes=('_1', '_2')).merge(accounting_results_6, on='Factor', suffixes=('', '_3'))\n",
    "\n",
    "# combine the results of return_results_1, return_results_2, return_results_3\n",
    "return_results_sample = return_results_4.merge(return_results_5, on='Factor', suffixes=('_1', '_2')).merge(return_results_6, on='Factor', suffixes=('', '_3'))\n",
    "\n",
    "# display the results\n",
    "print(\"\\nAccounting factors (annual rebalancing):\")\n",
    "print(accounting_results_sample)\n",
    "\n",
    "print(\"\\nReturn factors (monthly rebalancing):\")\n",
    "print(return_results_sample)"
   ]
  },
  {
   "cell_type": "code",
   "execution_count": 45,
   "metadata": {
    "ExecuteTime": {
     "end_time": "2025-03-16T08:57:12.799153Z",
     "start_time": "2025-03-16T08:57:12.769091Z"
    },
    "collapsed": false,
    "jupyter": {
     "outputs_hidden": false
    }
   },
   "outputs": [],
   "source": [
    "# save the results\n",
    "accounting_results_sample.to_csv('accounting_factors_annual_sample_2000_2016.csv', index=False)\n",
    "return_results_sample.to_csv('return_factors_monthly_sample_2000_2016.csv', index=False)"
   ]
  },
  {
   "cell_type": "markdown",
   "metadata": {
    "collapsed": false,
    "jp-MarkdownHeadingCollapsed": true,
    "jupyter": {
     "outputs_hidden": false
    }
   },
   "source": [
    "## 2.5. Regression in the 2017-2023 'post' time period"
   ]
  },
  {
   "cell_type": "markdown",
   "metadata": {
    "collapsed": false,
    "jupyter": {
     "outputs_hidden": false
    }
   },
   "source": [
    "* In this section, calculations and regression studies will be conducted for the timeline 2017-2023.\n",
    "* The calculation steps are the same as the previous section, and the results are output."
   ]
  },
  {
   "cell_type": "markdown",
   "metadata": {
    "collapsed": false,
    "jp-MarkdownHeadingCollapsed": true,
    "jupyter": {
     "outputs_hidden": false
    }
   },
   "source": [
    "### 2.5.1 Preliminary analysis"
   ]
  },
  {
   "cell_type": "code",
   "execution_count": 46,
   "metadata": {
    "ExecuteTime": {
     "end_time": "2025-03-16T09:00:16.991906Z",
     "start_time": "2025-03-16T09:00:08.732043Z"
    },
    "collapsed": false,
    "jupyter": {
     "outputs_hidden": false
    }
   },
   "outputs": [
    {
     "name": "stdout",
     "output_type": "stream",
     "text": [
      "\n",
      "Accounting factors (annual rebalancing):\n",
      "                   Factor  Average Returns  T-Value\n",
      "0                Accruals             3.07     2.30\n",
      "1            AnalystValue            -1.40    -0.16\n",
      "2             AssetGrowth            -3.54    -0.68\n",
      "3                      BM            -2.30    -0.34\n",
      "4                   BPEBM             7.50     1.89\n",
      "5            BookLeverage            -1.57    -0.80\n",
      "6              CBOperProf             8.88     3.64\n",
      "7                      CF            -4.39    -0.65\n",
      "8         ChAssetTurnover            -1.37    -0.68\n",
      "9                   ChNWC            -0.11    -0.04\n",
      "10             CompEquIss             5.46     1.47\n",
      "11  CompositeDebtIssuance            -6.72    -2.14\n",
      "12                    EBM            -5.52    -1.10\n",
      "13                     EP             0.62     0.15\n",
      "14       EarningsSurprise             0.90     0.80\n",
      "15                     GP            13.75     5.13\n",
      "16                   Herf             1.37     0.37\n",
      "17              InvGrowth            -1.16    -0.20\n",
      "18                    NOA             6.56     4.02\n",
      "19               OperProf             6.29     3.12\n",
      "20                     PS             1.65     0.71\n",
      "21              RDAbility             9.13     1.50\n",
      "22                    RoE             3.25     1.41\n",
      "23                     SP            -5.44    -0.73\n",
      "24             ShareIss1Y             1.72     0.35\n",
      "25             ShareIss5Y             5.80     2.52\n",
      "26                   Size            -7.96    -1.32\n",
      "27                   XFIN             2.44     0.39\n",
      "28                    cfp            -0.68    -0.08\n",
      "29                   roaq             8.48     1.88\n",
      "\n",
      "Return factors (monthly rebalancing):\n",
      "                  Factor  Average Returns  T-Value\n",
      "0                   Beta             0.34     0.71\n",
      "1        BetaLiquidityPS            -0.28    -3.05\n",
      "2            CPVolSpread             0.05     0.31\n",
      "3             Coskewness             0.63     3.58\n",
      "4       CustomerMomentum             0.13     0.37\n",
      "5                 DolVol            -0.51    -3.08\n",
      "6                FirmAge            -0.13    -0.22\n",
      "7               Frontier            -0.53    -1.30\n",
      "8                 High52            -0.09    -0.22\n",
      "9              IdioVol3F             0.26     0.44\n",
      "10           Illiquidity            -0.40    -2.95\n",
      "11                IntMom            -0.61    -1.15\n",
      "12            LRreversal             0.10     0.17\n",
      "13                MaxRet             0.03     0.05\n",
      "14                Mom12m             0.02     0.04\n",
      "15                 Mom6m             0.59     1.35\n",
      "16             Mom6mJunk             0.47     2.25\n",
      "17          MomOffSeason            -0.18    -0.37\n",
      "18  MomOffSeason06YrPlus             0.20     0.70\n",
      "19  MomOffSeason11YrPlus            -0.38    -1.66\n",
      "20  MomOffSeason16YrPlus            -0.11    -0.62\n",
      "21             MomSeason            -0.09    -0.24\n",
      "22     MomSeason06YrPlus             0.07     0.32\n",
      "23     MomSeason11YrPlus            -0.16    -0.91\n",
      "24     MomSeason16YrPlus             0.24     1.58\n",
      "25        MomSeasonShort            -0.19    -0.89\n",
      "26           RIVolSpread             0.29     0.83\n",
      "27      ResidualMomentum            -0.18    -1.27\n",
      "28            STreversal            -0.07    -0.21\n",
      "29                VolMkt            -0.27    -0.60\n",
      "30                 VolSD            -0.02    -0.30\n",
      "31              std_turn            -0.35    -0.53\n"
     ]
    }
   ],
   "source": [
    "# Read the merged data\n",
    "post_data = pd.read_csv('data/merged_data_with_ff3_3.csv')\n",
    "# Divide by 100\n",
    "port_columns_1 = ['port01', 'port02', 'port03', 'port04', 'port05']\n",
    "post_data[port_columns_1] = post_data[port_columns_1] / 100\n",
    "# only retain columns that are needed\n",
    "post_data = post_data[['date', 'predictor'] + port_columns_1]\n",
    "\n",
    "# Separate accounting and return data\n",
    "accounting_data_7 = post_data[post_data['predictor'].isin(accounting_factors)]\n",
    "return_data_7 = post_data[post_data['predictor'].isin(return_factors)]\n",
    "# Resample accounting data annually\n",
    "accounting_data_resampled_7 = resample_and_calculate(accounting_data_7, 'YE')\n",
    "\n",
    "# Resample return data monthly\n",
    "return_data_resampled_7 = resample_and_calculate(return_data_7, 'ME')\n",
    "\n",
    "# Calculate dynamic factor return\n",
    "accounting_data_resampled_7['factor_return'] = accounting_data_resampled_7.apply(calculate_dynamic_factor_return, axis=1)\n",
    "return_data_resampled_7['factor_return'] = return_data_resampled_7.apply(calculate_dynamic_factor_return, axis=1)\n",
    "\n",
    "# Calculate stats for accounting data\n",
    "accounting_results_7 = calculate_newey_west_t_value(accounting_data_resampled_7, max_lag=1)\n",
    "\n",
    "# Calculate stats for return data\n",
    "return_results_7 = calculate_newey_west_t_value(return_data_resampled_7, max_lag=12)\n",
    "\n",
    "# Display results\n",
    "print(\"\\nAccounting factors (annual rebalancing):\")\n",
    "print(accounting_results_7)\n",
    "\n",
    "print(\"\\nReturn factors (monthly rebalancing):\")\n",
    "print(return_results_7)"
   ]
  },
  {
   "cell_type": "markdown",
   "metadata": {
    "collapsed": false,
    "jp-MarkdownHeadingCollapsed": true,
    "jupyter": {
     "outputs_hidden": false
    }
   },
   "source": [
    "### 2.5.2 Regression 1 - FF3"
   ]
  },
  {
   "cell_type": "code",
   "execution_count": 47,
   "metadata": {
    "ExecuteTime": {
     "end_time": "2025-03-16T09:00:26.860137Z",
     "start_time": "2025-03-16T09:00:26.305506Z"
    },
    "collapsed": false,
    "jupyter": {
     "outputs_hidden": false
    }
   },
   "outputs": [],
   "source": [
    "# read the merged data\n",
    "post_data_2 = pd.read_csv('data/merged_data_with_ff3_3.csv')\n",
    "# divide by 100\n",
    "port_columns = ['port01', 'port02', 'port03', 'port04', 'port05', 'Mkt-RF', 'SMB', 'HML', 'RF']\n",
    "post_data_2[port_columns] = post_data_2[port_columns] / 100\n",
    "# only retain columns that are needed\n",
    "post_data_2 = post_data_2[['date', 'predictor'] + port_columns]\n",
    "\n",
    "# Separate accounting and return data\n",
    "accounting_data_8 = post_data_2[post_data_2['predictor'].isin(accounting_factors)]\n",
    "return_data_8 = post_data_2[post_data_2['predictor'].isin(return_factors)]"
   ]
  },
  {
   "cell_type": "code",
   "execution_count": 48,
   "metadata": {
    "ExecuteTime": {
     "end_time": "2025-03-16T09:00:52.841347Z",
     "start_time": "2025-03-16T09:00:44.737965Z"
    },
    "collapsed": false,
    "jupyter": {
     "outputs_hidden": false
    }
   },
   "outputs": [
    {
     "name": "stdout",
     "output_type": "stream",
     "text": [
      "\n",
      "Accounting factors (annual rebalancing):\n",
      "                   Factor  FF3 Alpha  T-Value\n",
      "0                Accruals       2.29     1.34\n",
      "1            AnalystValue      -6.81    -2.86\n",
      "2             AssetGrowth       3.06     3.14\n",
      "3                      BM      -3.16    -8.96\n",
      "4                   BPEBM      -0.34    -0.16\n",
      "5            BookLeverage      -5.33   -22.75\n",
      "6              CBOperProf       2.71     0.86\n",
      "7                      CF     -10.23    -4.19\n",
      "8         ChAssetTurnover      -1.53    -1.77\n",
      "9                   ChNWC      -2.72    -1.00\n",
      "10             CompEquIss       2.02     0.87\n",
      "11  CompositeDebtIssuance      -7.34    -6.48\n",
      "12                    EBM      -7.82    -5.32\n",
      "13                     EP      -4.00    -6.75\n",
      "14       EarningsSurprise       1.94     3.17\n",
      "15                     GP       8.42     3.61\n",
      "16                   Herf       2.01     4.11\n",
      "17              InvGrowth       1.16     0.35\n",
      "18                    NOA       3.84    10.81\n",
      "19               OperProf       0.60     0.31\n",
      "20                     PS      -5.06    -6.30\n",
      "21              RDAbility       0.93     0.27\n",
      "22                    RoE      -4.44    -1.79\n",
      "23                     SP      -2.35    -2.05\n",
      "24             ShareIss1Y       0.45     0.15\n",
      "25             ShareIss5Y       3.75     3.65\n",
      "26                   Size      -4.27    -1.58\n",
      "27                   XFIN       2.43     0.88\n",
      "28                    cfp      -0.71    -0.35\n",
      "29                   roaq       5.62     3.60\n",
      "\n",
      "Return factors (monthly rebalancing):\n",
      "                  Factor  FF3 Alpha  T-Value\n",
      "0                   Beta      -0.10    -0.58\n",
      "1        BetaLiquidityPS      -0.46    -3.48\n",
      "2            CPVolSpread      -0.08    -0.41\n",
      "3             Coskewness       0.40     3.19\n",
      "4       CustomerMomentum       0.06     0.16\n",
      "5                 DolVol      -0.32    -1.97\n",
      "6                FirmAge      -0.54    -2.05\n",
      "7               Frontier      -0.36    -1.51\n",
      "8                 High52       0.11     0.36\n",
      "9              IdioVol3F       0.41     1.46\n",
      "10           Illiquidity      -0.38    -4.14\n",
      "11                IntMom      -0.69    -1.66\n",
      "12            LRreversal       0.29     0.94\n",
      "13                MaxRet       0.28     1.02\n",
      "14                Mom12m       0.12     0.26\n",
      "15                 Mom6m       0.67     1.47\n",
      "16             Mom6mJunk       0.41     1.46\n",
      "17          MomOffSeason      -0.07    -0.20\n",
      "18  MomOffSeason06YrPlus       0.29     1.33\n",
      "19  MomOffSeason11YrPlus      -0.41    -2.04\n",
      "20  MomOffSeason16YrPlus      -0.12    -0.88\n",
      "21             MomSeason      -0.53    -2.14\n",
      "22     MomSeason06YrPlus      -0.02    -0.10\n",
      "23     MomSeason11YrPlus      -0.27    -1.39\n",
      "24     MomSeason16YrPlus       0.04     0.32\n",
      "25        MomSeasonShort      -0.43    -1.60\n",
      "26           RIVolSpread       0.41     1.43\n",
      "27      ResidualMomentum      -0.32    -2.40\n",
      "28            STreversal      -0.46    -1.17\n",
      "29                VolMkt      -0.16    -0.68\n",
      "30                 VolSD      -0.11    -1.79\n",
      "31              std_turn      -0.19    -0.81\n"
     ]
    }
   ],
   "source": [
    "# Resample accounting data annually\n",
    "accounting_data_resampled_8 = resample_and_calculate(accounting_data_8, 'YE')\n",
    "\n",
    "# Resample return data monthly\n",
    "return_data_resampled_8 = resample_and_calculate(return_data_8, 'ME')\n",
    "\n",
    "# Calculate dynamic factor return\n",
    "accounting_data_resampled_8['factor_return'] = accounting_data_resampled_8.apply(calculate_dynamic_factor_return, axis=1)\n",
    "return_data_resampled_8['factor_return'] = return_data_resampled_8.apply(calculate_dynamic_factor_return, axis=1)\n",
    "\n",
    "# Calculate alpha and t-values for accounting data\n",
    "accounting_results_8 = calculate_ff3_alpha_and_tvalues(accounting_data_resampled_8, max_lag=1)\n",
    "# Calculate stats for return data\n",
    "return_results_8 = calculate_ff3_alpha_and_tvalues(return_data_resampled_8, max_lag=12)\n",
    "\n",
    "# Display results\n",
    "print(\"\\nAccounting factors (annual rebalancing):\")\n",
    "print(accounting_results_8)\n",
    "\n",
    "print(\"\\nReturn factors (monthly rebalancing):\")\n",
    "print(return_results_8)"
   ]
  },
  {
   "cell_type": "markdown",
   "metadata": {
    "collapsed": false,
    "jp-MarkdownHeadingCollapsed": true,
    "jupyter": {
     "outputs_hidden": false
    }
   },
   "source": [
    "### 2.5.3 Regression 2 - FF5"
   ]
  },
  {
   "cell_type": "code",
   "execution_count": 49,
   "metadata": {
    "ExecuteTime": {
     "end_time": "2025-03-16T09:01:08.219980Z",
     "start_time": "2025-03-16T09:01:07.356694Z"
    },
    "collapsed": false,
    "jupyter": {
     "outputs_hidden": false
    }
   },
   "outputs": [],
   "source": [
    "# read the merged data\n",
    "post_data_3 = pd.read_csv('data/merged_data_with_ff5_3.csv')\n",
    "# divide by 100\n",
    "port_columns = ['port01', 'port02', 'port03', 'port04', 'port05', 'Mkt-RF', 'SMB', 'HML', 'RMW', 'CMA', 'RF']\n",
    "post_data_3[port_columns] = post_data_3[port_columns] / 100\n",
    "# only retain columns that are needed\n",
    "post_data_3 = post_data_3[['date', 'predictor'] + port_columns]\n",
    "\n",
    "# Separate accounting and return data\n",
    "accounting_data_9 = post_data_3[post_data_3['predictor'].isin(accounting_factors)]\n",
    "return_data_9 = post_data_3[post_data_3['predictor'].isin(return_factors)]"
   ]
  },
  {
   "cell_type": "code",
   "execution_count": 50,
   "metadata": {
    "ExecuteTime": {
     "end_time": "2025-03-16T09:02:18.172381Z",
     "start_time": "2025-03-16T09:01:50.502840Z"
    },
    "collapsed": false,
    "jupyter": {
     "outputs_hidden": false
    }
   },
   "outputs": [
    {
     "name": "stdout",
     "output_type": "stream",
     "text": [
      "\n",
      "Accounting factors (annual rebalancing) - FF5:\n",
      "                   Factor  FF5 Alpha  T-Value\n",
      "0                Accruals       1.06    15.88\n",
      "1            AnalystValue      -4.23    -1.00\n",
      "2             AssetGrowth      -6.98   -18.83\n",
      "3                      BM      -2.87   -14.67\n",
      "4                   BPEBM      -0.92    -1.23\n",
      "5            BookLeverage      -4.52    -3.33\n",
      "6              CBOperProf      -4.64    -3.42\n",
      "7                      CF     -21.86    -6.92\n",
      "8         ChAssetTurnover      -4.25    -1.23\n",
      "9                   ChNWC     -17.39   -10.04\n",
      "10             CompEquIss      -8.21    -2.72\n",
      "11  CompositeDebtIssuance     -17.95    -7.41\n",
      "12                    EBM     -15.45    -6.99\n",
      "13                     EP       0.43     0.17\n",
      "14       EarningsSurprise      -3.01    -1.45\n",
      "15                     GP       9.17    62.58\n",
      "16                   Herf       3.10     3.84\n",
      "17              InvGrowth     -29.70   -11.41\n",
      "18                    NOA       6.10     9.35\n",
      "19               OperProf      -4.70    -3.68\n",
      "20                     PS      -0.17    -0.04\n",
      "21              RDAbility     -29.85   -35.03\n",
      "22                    RoE     -11.32   -25.18\n",
      "23                     SP     -12.67    -3.79\n",
      "24             ShareIss1Y     -14.68   -28.64\n",
      "25             ShareIss5Y       1.21     1.15\n",
      "26                   Size     -20.98    -9.27\n",
      "27                   XFIN     -12.15    -9.95\n",
      "28                    cfp      -5.42    -6.04\n",
      "29                   roaq       0.01     0.01\n",
      "\n",
      "Return factors (monthly rebalancing) - FF5:\n",
      "                  Factor  FF5 Alpha  T-Value\n",
      "0                   Beta       0.15     0.72\n",
      "1        BetaLiquidityPS      -0.43    -2.96\n",
      "2            CPVolSpread      -0.05    -0.25\n",
      "3             Coskewness       0.44     3.05\n",
      "4       CustomerMomentum       0.02     0.05\n",
      "5                 DolVol      -0.30    -1.86\n",
      "6                FirmAge      -0.34    -1.75\n",
      "7               Frontier      -0.41    -1.85\n",
      "8                 High52      -0.02    -0.06\n",
      "9              IdioVol3F       0.31     1.07\n",
      "10           Illiquidity      -0.31    -3.19\n",
      "11                IntMom      -0.82    -1.78\n",
      "12            LRreversal       0.23     0.81\n",
      "13                MaxRet       0.11     0.42\n",
      "14                Mom12m      -0.02    -0.03\n",
      "15                 Mom6m       0.53     1.35\n",
      "16             Mom6mJunk       0.48     1.63\n",
      "17          MomOffSeason      -0.10    -0.29\n",
      "18  MomOffSeason06YrPlus       0.29     1.27\n",
      "19  MomOffSeason11YrPlus      -0.44    -1.95\n",
      "20  MomOffSeason16YrPlus      -0.15    -0.89\n",
      "21             MomSeason      -0.55    -2.20\n",
      "22     MomSeason06YrPlus      -0.05    -0.19\n",
      "23     MomSeason11YrPlus      -0.28    -1.35\n",
      "24     MomSeason16YrPlus       0.03     0.19\n",
      "25        MomSeasonShort      -0.55    -2.17\n",
      "26           RIVolSpread       0.48     1.77\n",
      "27      ResidualMomentum      -0.31    -1.95\n",
      "28            STreversal      -0.27    -0.74\n",
      "29                VolMkt      -0.35    -1.71\n",
      "30                 VolSD      -0.10    -1.51\n",
      "31              std_turn      -0.20    -0.81\n"
     ]
    }
   ],
   "source": [
    "# Resample accounting data annually\n",
    "accounting_data_resampled_9 = resample_and_calculate(accounting_data_9, 'YE')\n",
    "\n",
    "# Resample return data monthly\n",
    "return_data_resampled_9 = resample_and_calculate(return_data_9, 'ME')\n",
    "\n",
    "# Calculate dynamic factor return\n",
    "accounting_data_resampled_9['factor_return'] = accounting_data_resampled_9.apply(calculate_dynamic_factor_return, axis=1)\n",
    "return_data_resampled_9['factor_return'] = return_data_resampled_9.apply(calculate_dynamic_factor_return, axis=1)\n",
    "\n",
    "# Calculate alpha and t-values for accounting data for FF5\n",
    "accounting_results_9 = calculate_ff5_alpha_and_tvalues(accounting_data_resampled_9, max_lag=1)\n",
    "# Calculate stats for return data for FF5\n",
    "return_results_9 = calculate_ff5_alpha_and_tvalues(return_data_resampled_9, max_lag=12)\n",
    "\n",
    "# Display results for FF5\n",
    "print(\"\\nAccounting factors (annual rebalancing) - FF5:\")\n",
    "print(accounting_results_9)\n",
    "\n",
    "print(\"\\nReturn factors (monthly rebalancing) - FF5:\")\n",
    "print(return_results_9)"
   ]
  },
  {
   "cell_type": "markdown",
   "metadata": {
    "collapsed": false,
    "jp-MarkdownHeadingCollapsed": true,
    "jupyter": {
     "outputs_hidden": false
    }
   },
   "source": [
    "### 2.5.4 Combine all the regressions"
   ]
  },
  {
   "cell_type": "code",
   "execution_count": 51,
   "metadata": {
    "ExecuteTime": {
     "end_time": "2025-03-16T09:02:33.623745Z",
     "start_time": "2025-03-16T09:02:33.441109Z"
    },
    "collapsed": false,
    "jupyter": {
     "outputs_hidden": false
    }
   },
   "outputs": [
    {
     "name": "stdout",
     "output_type": "stream",
     "text": [
      "\n",
      "Accounting factors (annual rebalancing):\n",
      "                   Factor  Average Returns  T-Value_1  FF3 Alpha  T-Value_2  \\\n",
      "0                Accruals             3.07       2.30       2.29       1.34   \n",
      "1            AnalystValue            -1.40      -0.16      -6.81      -2.86   \n",
      "2             AssetGrowth            -3.54      -0.68       3.06       3.14   \n",
      "3                      BM            -2.30      -0.34      -3.16      -8.96   \n",
      "4                   BPEBM             7.50       1.89      -0.34      -0.16   \n",
      "5            BookLeverage            -1.57      -0.80      -5.33     -22.75   \n",
      "6              CBOperProf             8.88       3.64       2.71       0.86   \n",
      "7                      CF            -4.39      -0.65     -10.23      -4.19   \n",
      "8         ChAssetTurnover            -1.37      -0.68      -1.53      -1.77   \n",
      "9                   ChNWC            -0.11      -0.04      -2.72      -1.00   \n",
      "10             CompEquIss             5.46       1.47       2.02       0.87   \n",
      "11  CompositeDebtIssuance            -6.72      -2.14      -7.34      -6.48   \n",
      "12                    EBM            -5.52      -1.10      -7.82      -5.32   \n",
      "13                     EP             0.62       0.15      -4.00      -6.75   \n",
      "14       EarningsSurprise             0.90       0.80       1.94       3.17   \n",
      "15                     GP            13.75       5.13       8.42       3.61   \n",
      "16                   Herf             1.37       0.37       2.01       4.11   \n",
      "17              InvGrowth            -1.16      -0.20       1.16       0.35   \n",
      "18                    NOA             6.56       4.02       3.84      10.81   \n",
      "19               OperProf             6.29       3.12       0.60       0.31   \n",
      "20                     PS             1.65       0.71      -5.06      -6.30   \n",
      "21              RDAbility             9.13       1.50       0.93       0.27   \n",
      "22                    RoE             3.25       1.41      -4.44      -1.79   \n",
      "23                     SP            -5.44      -0.73      -2.35      -2.05   \n",
      "24             ShareIss1Y             1.72       0.35       0.45       0.15   \n",
      "25             ShareIss5Y             5.80       2.52       3.75       3.65   \n",
      "26                   Size            -7.96      -1.32      -4.27      -1.58   \n",
      "27                   XFIN             2.44       0.39       2.43       0.88   \n",
      "28                    cfp            -0.68      -0.08      -0.71      -0.35   \n",
      "29                   roaq             8.48       1.88       5.62       3.60   \n",
      "\n",
      "    FF5 Alpha  T-Value  \n",
      "0        1.06    15.88  \n",
      "1       -4.23    -1.00  \n",
      "2       -6.98   -18.83  \n",
      "3       -2.87   -14.67  \n",
      "4       -0.92    -1.23  \n",
      "5       -4.52    -3.33  \n",
      "6       -4.64    -3.42  \n",
      "7      -21.86    -6.92  \n",
      "8       -4.25    -1.23  \n",
      "9      -17.39   -10.04  \n",
      "10      -8.21    -2.72  \n",
      "11     -17.95    -7.41  \n",
      "12     -15.45    -6.99  \n",
      "13       0.43     0.17  \n",
      "14      -3.01    -1.45  \n",
      "15       9.17    62.58  \n",
      "16       3.10     3.84  \n",
      "17     -29.70   -11.41  \n",
      "18       6.10     9.35  \n",
      "19      -4.70    -3.68  \n",
      "20      -0.17    -0.04  \n",
      "21     -29.85   -35.03  \n",
      "22     -11.32   -25.18  \n",
      "23     -12.67    -3.79  \n",
      "24     -14.68   -28.64  \n",
      "25       1.21     1.15  \n",
      "26     -20.98    -9.27  \n",
      "27     -12.15    -9.95  \n",
      "28      -5.42    -6.04  \n",
      "29       0.01     0.01  \n",
      "\n",
      "Return factors (monthly rebalancing):\n",
      "                  Factor  Average Returns  T-Value_1  FF3 Alpha  T-Value_2  \\\n",
      "0                   Beta             0.34       0.71      -0.10      -0.58   \n",
      "1        BetaLiquidityPS            -0.28      -3.05      -0.46      -3.48   \n",
      "2            CPVolSpread             0.05       0.31      -0.08      -0.41   \n",
      "3             Coskewness             0.63       3.58       0.40       3.19   \n",
      "4       CustomerMomentum             0.13       0.37       0.06       0.16   \n",
      "5                 DolVol            -0.51      -3.08      -0.32      -1.97   \n",
      "6                FirmAge            -0.13      -0.22      -0.54      -2.05   \n",
      "7               Frontier            -0.53      -1.30      -0.36      -1.51   \n",
      "8                 High52            -0.09      -0.22       0.11       0.36   \n",
      "9              IdioVol3F             0.26       0.44       0.41       1.46   \n",
      "10           Illiquidity            -0.40      -2.95      -0.38      -4.14   \n",
      "11                IntMom            -0.61      -1.15      -0.69      -1.66   \n",
      "12            LRreversal             0.10       0.17       0.29       0.94   \n",
      "13                MaxRet             0.03       0.05       0.28       1.02   \n",
      "14                Mom12m             0.02       0.04       0.12       0.26   \n",
      "15                 Mom6m             0.59       1.35       0.67       1.47   \n",
      "16             Mom6mJunk             0.47       2.25       0.41       1.46   \n",
      "17          MomOffSeason            -0.18      -0.37      -0.07      -0.20   \n",
      "18  MomOffSeason06YrPlus             0.20       0.70       0.29       1.33   \n",
      "19  MomOffSeason11YrPlus            -0.38      -1.66      -0.41      -2.04   \n",
      "20  MomOffSeason16YrPlus            -0.11      -0.62      -0.12      -0.88   \n",
      "21             MomSeason            -0.09      -0.24      -0.53      -2.14   \n",
      "22     MomSeason06YrPlus             0.07       0.32      -0.02      -0.10   \n",
      "23     MomSeason11YrPlus            -0.16      -0.91      -0.27      -1.39   \n",
      "24     MomSeason16YrPlus             0.24       1.58       0.04       0.32   \n",
      "25        MomSeasonShort            -0.19      -0.89      -0.43      -1.60   \n",
      "26           RIVolSpread             0.29       0.83       0.41       1.43   \n",
      "27      ResidualMomentum            -0.18      -1.27      -0.32      -2.40   \n",
      "28            STreversal            -0.07      -0.21      -0.46      -1.17   \n",
      "29                VolMkt            -0.27      -0.60      -0.16      -0.68   \n",
      "30                 VolSD            -0.02      -0.30      -0.11      -1.79   \n",
      "31              std_turn            -0.35      -0.53      -0.19      -0.81   \n",
      "\n",
      "    FF5 Alpha  T-Value  \n",
      "0        0.15     0.72  \n",
      "1       -0.43    -2.96  \n",
      "2       -0.05    -0.25  \n",
      "3        0.44     3.05  \n",
      "4        0.02     0.05  \n",
      "5       -0.30    -1.86  \n",
      "6       -0.34    -1.75  \n",
      "7       -0.41    -1.85  \n",
      "8       -0.02    -0.06  \n",
      "9        0.31     1.07  \n",
      "10      -0.31    -3.19  \n",
      "11      -0.82    -1.78  \n",
      "12       0.23     0.81  \n",
      "13       0.11     0.42  \n",
      "14      -0.02    -0.03  \n",
      "15       0.53     1.35  \n",
      "16       0.48     1.63  \n",
      "17      -0.10    -0.29  \n",
      "18       0.29     1.27  \n",
      "19      -0.44    -1.95  \n",
      "20      -0.15    -0.89  \n",
      "21      -0.55    -2.20  \n",
      "22      -0.05    -0.19  \n",
      "23      -0.28    -1.35  \n",
      "24       0.03     0.19  \n",
      "25      -0.55    -2.17  \n",
      "26       0.48     1.77  \n",
      "27      -0.31    -1.95  \n",
      "28      -0.27    -0.74  \n",
      "29      -0.35    -1.71  \n",
      "30      -0.10    -1.51  \n",
      "31      -0.20    -0.81  \n"
     ]
    }
   ],
   "source": [
    "# combine the results\n",
    "accounting_results_post = accounting_results_7.merge(accounting_results_8, on='Factor', suffixes=('_1', '_2')).merge(accounting_results_9, on='Factor', suffixes=('', '_3'))\n",
    "\n",
    "# combine the results\n",
    "return_results_post = return_results_7.merge(return_results_8, on='Factor', suffixes=('_1', '_2')).merge(return_results_9, on='Factor', suffixes=('', '_3'))\n",
    "\n",
    "# display the results\n",
    "print(\"\\nAccounting factors (annual rebalancing):\")\n",
    "print(accounting_results_post)\n",
    "\n",
    "print(\"\\nReturn factors (monthly rebalancing):\")\n",
    "print(return_results_post)"
   ]
  },
  {
   "cell_type": "code",
   "execution_count": 52,
   "metadata": {
    "ExecuteTime": {
     "end_time": "2025-03-16T09:02:52.893523Z",
     "start_time": "2025-03-16T09:02:52.836219Z"
    },
    "collapsed": false,
    "jupyter": {
     "outputs_hidden": false
    }
   },
   "outputs": [],
   "source": [
    "# save the results\n",
    "accounting_results_post.to_csv('accounting_factors_annual_post_2017_2023.csv', index=False)\n",
    "return_results_post.to_csv('return_factors_monthly_post_2017_2023.csv', index=False)"
   ]
  },
  {
   "cell_type": "markdown",
   "metadata": {
    "collapsed": false,
    "jp-MarkdownHeadingCollapsed": true,
    "jupyter": {
     "outputs_hidden": false
    }
   },
   "source": [
    "## 2.6. Regression in the 1963-2016 'original' time period"
   ]
  },
  {
   "cell_type": "markdown",
   "metadata": {
    "collapsed": false,
    "jupyter": {
     "outputs_hidden": false
    }
   },
   "source": [
    "* In this section, calculations and regression studies will be conducted for the timeline 1963-2016.\n",
    "* The calculation steps are the same as the previous section, and the results are output."
   ]
  },
  {
   "cell_type": "markdown",
   "metadata": {
    "collapsed": false,
    "jp-MarkdownHeadingCollapsed": true,
    "jupyter": {
     "outputs_hidden": false
    }
   },
   "source": [
    "### 2.6.1 Preliminary analysis"
   ]
  },
  {
   "cell_type": "code",
   "execution_count": 53,
   "metadata": {
    "ExecuteTime": {
     "end_time": "2025-03-16T09:03:59.911938Z",
     "start_time": "2025-03-16T09:03:22.041508Z"
    },
    "collapsed": false,
    "jupyter": {
     "outputs_hidden": false
    }
   },
   "outputs": [
    {
     "name": "stdout",
     "output_type": "stream",
     "text": [
      "\n",
      "Accounting factors (annual rebalancing):\n",
      "                   Factor  Average Returns  T-Value\n",
      "0                Accruals             2.16     1.92\n",
      "1             AssetGrowth             2.88     2.02\n",
      "2                      BM             4.09     2.70\n",
      "3                   BPEBM             2.17     2.27\n",
      "4            BookLeverage            -0.79    -0.52\n",
      "5              CBOperProf             2.81     2.60\n",
      "6                      CF             3.39     2.04\n",
      "7         ChAssetTurnover             2.02     2.27\n",
      "8                   ChNWC             1.42     1.86\n",
      "9              CompEquIss             2.80     1.80\n",
      "10  CompositeDebtIssuance             1.66     2.09\n",
      "11                    EBM             2.56     1.68\n",
      "12                     EP             3.75     2.30\n",
      "13       EarningsSurprise             1.74     1.98\n",
      "14                     GP             2.50     1.72\n",
      "15                   Herf             1.39     1.10\n",
      "16              InvGrowth             2.80     2.44\n",
      "17                    NOA             3.65     3.25\n",
      "18              RDAbility             0.63     0.23\n",
      "19                    RoE             0.90     0.65\n",
      "20                     SP             4.94     2.27\n",
      "21             ShareIss1Y             0.89     0.64\n",
      "22             ShareIss5Y             3.14     4.22\n",
      "23                   Size             3.74     1.14\n",
      "\n",
      "Return factors (monthly rebalancing):\n",
      "                  Factor  Average Returns  T-Value\n",
      "0                   Beta             0.02     0.07\n",
      "1             Coskewness             0.15     1.90\n",
      "2                 DolVol             0.10     0.93\n",
      "3                FirmAge             0.08     0.91\n",
      "4                 High52             0.21     1.68\n",
      "5              IdioVol3F             0.50     2.10\n",
      "6            Illiquidity             0.22     2.43\n",
      "7                 IntMom             0.65     3.90\n",
      "8             LRreversal             0.19     1.17\n",
      "9                 MaxRet             0.28     1.27\n",
      "10                Mom12m             0.65     3.65\n",
      "11                 Mom6m             0.34     2.12\n",
      "12          MomOffSeason             0.34     2.50\n",
      "13  MomOffSeason06YrPlus             0.45     4.64\n",
      "14  MomOffSeason11YrPlus             0.23     2.73\n",
      "15  MomOffSeason16YrPlus             0.11     1.58\n",
      "16             MomSeason             0.25     2.17\n",
      "17     MomSeason06YrPlus             0.41     4.68\n",
      "18     MomSeason11YrPlus             0.31     4.88\n",
      "19     MomSeason16YrPlus             0.13     1.78\n",
      "20        MomSeasonShort             0.44     4.13\n",
      "21      ResidualMomentum             0.37     4.65\n",
      "22            STreversal             0.24     1.89\n",
      "23                VolMkt             0.04     0.24\n",
      "24                 VolSD             0.16     2.12\n",
      "25              std_turn             0.18     1.02\n"
     ]
    }
   ],
   "source": [
    "# Read the merged data\n",
    "original_data = pd.read_csv('data/merged_data_with_ff3_4.csv')\n",
    "# Divide by 100\n",
    "port_columns_1 = ['port01', 'port02', 'port03', 'port04', 'port05']\n",
    "original_data[port_columns_1] = original_data[port_columns_1] / 100\n",
    "# only retain columns that are needed\n",
    "original_data = original_data[['date', 'predictor'] + port_columns_1]\n",
    "\n",
    "# Separate accounting and return data\n",
    "accounting_data_10 = original_data[original_data['predictor'].isin(accounting_factors_original)]\n",
    "return_data_10 = original_data[original_data['predictor'].isin(return_factors_original)]\n",
    "# Resample accounting data annually\n",
    "accounting_data_resampled_10 = resample_and_calculate(accounting_data_10, 'YE')\n",
    "\n",
    "# Resample return data monthly\n",
    "return_data_resampled_10 = resample_and_calculate(return_data_10, 'ME')\n",
    "\n",
    "# Calculate dynamic factor return\n",
    "accounting_data_resampled_10['factor_return'] = accounting_data_resampled_10.apply(calculate_dynamic_factor_return, axis=1)\n",
    "return_data_resampled_10['factor_return'] = return_data_resampled_10.apply(calculate_dynamic_factor_return, axis=1)\n",
    "\n",
    "# Calculate stats for accounting data\n",
    "accounting_results_10 = calculate_newey_west_t_value(accounting_data_resampled_10, max_lag=1)\n",
    "\n",
    "# Calculate stats for return data\n",
    "return_results_10 = calculate_newey_west_t_value(return_data_resampled_10, max_lag=12)\n",
    "\n",
    "# Display results\n",
    "print(\"\\nAccounting factors (annual rebalancing):\")\n",
    "print(accounting_results_10)\n",
    "\n",
    "print(\"\\nReturn factors (monthly rebalancing):\")\n",
    "print(return_results_10)"
   ]
  },
  {
   "cell_type": "markdown",
   "metadata": {
    "collapsed": false,
    "jp-MarkdownHeadingCollapsed": true,
    "jupyter": {
     "outputs_hidden": false
    }
   },
   "source": [
    "### 2.6.2 Regression 1 - FF3"
   ]
  },
  {
   "cell_type": "code",
   "execution_count": 54,
   "metadata": {
    "ExecuteTime": {
     "end_time": "2025-03-16T09:04:32.672509Z",
     "start_time": "2025-03-16T09:04:28.332530Z"
    },
    "collapsed": false,
    "jupyter": {
     "outputs_hidden": false
    }
   },
   "outputs": [],
   "source": [
    "# read the merged data\n",
    "original_data_2 = pd.read_csv('data/merged_data_with_ff3_4.csv')\n",
    "# divide by 100\n",
    "port_columns = ['port01', 'port02', 'port03', 'port04', 'port05', 'Mkt-RF', 'SMB', 'HML', 'RF']\n",
    "original_data_2[port_columns] = original_data_2[port_columns] / 100\n",
    "# only retain columns that are needed\n",
    "original_data_2 = original_data_2[['date', 'predictor'] + port_columns]\n",
    "\n",
    "# Separate accounting and return data\n",
    "accounting_data_11 = original_data_2[original_data_2['predictor'].isin(accounting_factors_original)]\n",
    "return_data_11 = original_data_2[original_data_2['predictor'].isin(return_factors_original)]"
   ]
  },
  {
   "cell_type": "code",
   "execution_count": 55,
   "metadata": {
    "ExecuteTime": {
     "end_time": "2025-03-16T09:05:26.966854Z",
     "start_time": "2025-03-16T09:04:34.928980Z"
    },
    "collapsed": false,
    "jupyter": {
     "outputs_hidden": false
    }
   },
   "outputs": [
    {
     "name": "stdout",
     "output_type": "stream",
     "text": [
      "\n",
      "Accounting factors (annual rebalancing):\n",
      "                   Factor  FF3 Alpha  T-Value\n",
      "0                Accruals      -1.23    -0.85\n",
      "1             AssetGrowth      -4.40    -3.91\n",
      "2                      BM      -5.80    -5.14\n",
      "3                   BPEBM      -2.62    -1.94\n",
      "4            BookLeverage      -1.64    -1.00\n",
      "5              CBOperProf       0.97     1.02\n",
      "6                      CF      -4.91    -3.18\n",
      "7         ChAssetTurnover      -3.14    -3.18\n",
      "8                   ChNWC      -2.82    -3.14\n",
      "9              CompEquIss       0.28     0.19\n",
      "10  CompositeDebtIssuance      -2.92    -2.27\n",
      "11                    EBM      -7.70    -9.34\n",
      "12                     EP      -6.36    -5.46\n",
      "13       EarningsSurprise      -2.36    -3.37\n",
      "14                     GP       0.03     0.02\n",
      "15                   Herf      -3.48    -2.23\n",
      "16              InvGrowth      -2.93    -2.94\n",
      "17                    NOA      -3.76    -2.62\n",
      "18              RDAbility      -4.55    -1.56\n",
      "19                    RoE      -2.79    -1.73\n",
      "20                     SP      -5.78    -3.95\n",
      "21             ShareIss1Y      -3.07    -1.97\n",
      "22             ShareIss5Y      -1.34    -1.27\n",
      "23                   Size      -5.00    -3.11\n",
      "\n",
      "Return factors (monthly rebalancing):\n",
      "                  Factor  FF3 Alpha  T-Value\n",
      "0                   Beta      -0.66    -4.75\n",
      "1             Coskewness      -0.30    -3.78\n",
      "2                 DolVol      -0.36    -3.73\n",
      "3                FirmAge      -0.40    -6.01\n",
      "4                 High52      -0.02    -0.20\n",
      "5              IdioVol3F       0.32     2.21\n",
      "6            Illiquidity      -0.26    -3.81\n",
      "7                 IntMom       0.43     2.95\n",
      "8             LRreversal      -0.49    -3.26\n",
      "9                 MaxRet       0.09     0.61\n",
      "10                Mom12m       0.50     3.09\n",
      "11                 Mom6m       0.09     0.59\n",
      "12          MomOffSeason      -0.29    -2.59\n",
      "13  MomOffSeason06YrPlus       0.01     0.08\n",
      "14  MomOffSeason11YrPlus      -0.13    -1.39\n",
      "15  MomOffSeason16YrPlus      -0.27    -2.91\n",
      "16             MomSeason      -0.11    -1.04\n",
      "17     MomSeason06YrPlus       0.05     0.54\n",
      "18     MomSeason11YrPlus      -0.06    -0.77\n",
      "19     MomSeason16YrPlus      -0.23    -2.63\n",
      "20        MomSeasonShort       0.09     0.92\n",
      "21      ResidualMomentum       0.03     0.38\n",
      "22            STreversal      -0.30    -2.11\n",
      "23                VolMkt      -0.24    -2.23\n",
      "24                 VolSD      -0.24    -3.00\n",
      "25              std_turn       0.26     1.84\n"
     ]
    }
   ],
   "source": [
    "# Resample accounting data annually\n",
    "accounting_data_resampled_11 = resample_and_calculate(accounting_data_11, 'YE')\n",
    "\n",
    "# Resample return data monthly\n",
    "return_data_resampled_11 = resample_and_calculate(return_data_11, 'ME')\n",
    "\n",
    "# Calculate dynamic factor return\n",
    "accounting_data_resampled_11['factor_return'] = accounting_data_resampled_11.apply(calculate_dynamic_factor_return, axis=1)\n",
    "return_data_resampled_11['factor_return'] = return_data_resampled_11.apply(calculate_dynamic_factor_return, axis=1)\n",
    "\n",
    "# Calculate alpha and t-values for accounting data\n",
    "accounting_results_11 = calculate_ff3_alpha_and_tvalues(accounting_data_resampled_11, max_lag=1)\n",
    "# Calculate stats for return data\n",
    "return_results_11 = calculate_ff3_alpha_and_tvalues(return_data_resampled_11, max_lag=12)\n",
    "\n",
    "# Display results\n",
    "print(\"\\nAccounting factors (annual rebalancing):\")\n",
    "print(accounting_results_11)\n",
    "\n",
    "print(\"\\nReturn factors (monthly rebalancing):\")\n",
    "print(return_results_11)"
   ]
  },
  {
   "cell_type": "markdown",
   "metadata": {
    "collapsed": false,
    "jp-MarkdownHeadingCollapsed": true,
    "jupyter": {
     "outputs_hidden": false
    }
   },
   "source": [
    "### 2.6.3 Regression 2 - FF5"
   ]
  },
  {
   "cell_type": "code",
   "execution_count": 56,
   "metadata": {
    "ExecuteTime": {
     "end_time": "2025-03-16T09:05:35.600942Z",
     "start_time": "2025-03-16T09:05:33.145238Z"
    },
    "collapsed": false,
    "jupyter": {
     "outputs_hidden": false
    }
   },
   "outputs": [],
   "source": [
    "# read the merged data\n",
    "original_data_3 = pd.read_csv('data/merged_data_with_ff5_4.csv')\n",
    "# divide by 100\n",
    "port_columns = ['port01', 'port02', 'port03', 'port04', 'port05', 'Mkt-RF', 'SMB', 'HML', 'RMW', 'CMA', 'RF']\n",
    "original_data_3[port_columns] = original_data_3[port_columns] / 100\n",
    "# only retain columns that are needed\n",
    "original_data_3 = original_data_3[['date', 'predictor'] + port_columns]\n",
    "\n",
    "# Separate accounting and return data\n",
    "accounting_data_12 = original_data_3[original_data_3['predictor'].isin(accounting_factors_original)]\n",
    "return_data_12 = original_data_3[original_data_3['predictor'].isin(return_factors_original)]"
   ]
  },
  {
   "cell_type": "code",
   "execution_count": 57,
   "metadata": {
    "ExecuteTime": {
     "end_time": "2025-03-16T09:06:27.052208Z",
     "start_time": "2025-03-16T09:05:37.381068Z"
    },
    "collapsed": false,
    "jupyter": {
     "outputs_hidden": false
    }
   },
   "outputs": [
    {
     "name": "stdout",
     "output_type": "stream",
     "text": [
      "\n",
      "Accounting factors (annual rebalancing) - FF5:\n",
      "                   Factor  FF5 Alpha  T-Value\n",
      "0                Accruals       0.78     0.53\n",
      "1             AssetGrowth      -5.72    -4.24\n",
      "2                      BM      -4.28    -3.64\n",
      "3                   BPEBM      -1.07    -0.73\n",
      "4            BookLeverage       0.76     0.41\n",
      "5              CBOperProf      -0.28    -0.31\n",
      "6                      CF      -4.15    -2.24\n",
      "7         ChAssetTurnover      -3.31    -2.35\n",
      "8                   ChNWC      -2.37    -2.34\n",
      "9              CompEquIss       0.89     0.41\n",
      "10  CompositeDebtIssuance      -2.55    -2.00\n",
      "11                    EBM      -7.48    -6.68\n",
      "12                     EP      -7.22    -5.55\n",
      "13       EarningsSurprise      -2.53    -2.06\n",
      "14                     GP      -2.37    -1.31\n",
      "15                   Herf      -2.20    -1.09\n",
      "16              InvGrowth      -3.09    -3.18\n",
      "17                    NOA      -5.64    -3.54\n",
      "18              RDAbility      -4.90    -1.62\n",
      "19                    RoE      -7.27    -5.80\n",
      "20                     SP      -7.03    -4.05\n",
      "21             ShareIss1Y      -5.64    -3.33\n",
      "22             ShareIss5Y      -2.17    -2.11\n",
      "23                   Size      -3.91    -2.15\n",
      "\n",
      "Return factors (monthly rebalancing) - FF5:\n",
      "                  Factor  FF5 Alpha  T-Value\n",
      "0                   Beta      -0.25    -1.88\n",
      "1             Coskewness      -0.22    -2.39\n",
      "2                 DolVol      -0.37    -3.69\n",
      "3                FirmAge      -0.30    -4.56\n",
      "4                 High52      -0.23    -1.64\n",
      "5              IdioVol3F      -0.14    -1.30\n",
      "6            Illiquidity      -0.29    -4.26\n",
      "7                 IntMom       0.38     2.46\n",
      "8             LRreversal      -0.41    -2.94\n",
      "9                 MaxRet      -0.32    -2.94\n",
      "10                Mom12m       0.30     1.27\n",
      "11                 Mom6m      -0.05    -0.22\n",
      "12          MomOffSeason      -0.28    -2.40\n",
      "13  MomOffSeason06YrPlus      -0.02    -0.18\n",
      "14  MomOffSeason11YrPlus       0.02     0.24\n",
      "15  MomOffSeason16YrPlus      -0.26    -2.95\n",
      "16             MomSeason      -0.08    -0.69\n",
      "17     MomSeason06YrPlus       0.11     1.00\n",
      "18     MomSeason11YrPlus      -0.03    -0.34\n",
      "19     MomSeason16YrPlus      -0.19    -2.21\n",
      "20        MomSeasonShort       0.06     0.57\n",
      "21      ResidualMomentum      -0.05    -0.48\n",
      "22            STreversal      -0.23    -1.36\n",
      "23                VolMkt      -0.50    -4.23\n",
      "24                 VolSD      -0.27    -3.41\n",
      "25              std_turn       0.15     1.06\n"
     ]
    }
   ],
   "source": [
    "# Resample accounting data annually\n",
    "accounting_data_resampled_12 = resample_and_calculate(accounting_data_12, 'YE')\n",
    "\n",
    "# Resample return data monthly\n",
    "return_data_resampled_12 = resample_and_calculate(return_data_12, 'ME')\n",
    "\n",
    "# Calculate dynamic factor return\n",
    "accounting_data_resampled_12['factor_return'] = accounting_data_resampled_12.apply(calculate_dynamic_factor_return, axis=1)\n",
    "return_data_resampled_12['factor_return'] = return_data_resampled_12.apply(calculate_dynamic_factor_return, axis=1)\n",
    "\n",
    "# Calculate alpha and t-values for accounting data for FF5\n",
    "accounting_results_12 = calculate_ff5_alpha_and_tvalues(accounting_data_resampled_12, max_lag=1)\n",
    "# Calculate stats for return data for FF5\n",
    "return_results_12 = calculate_ff5_alpha_and_tvalues(return_data_resampled_12, max_lag=12)\n",
    "\n",
    "# Display results for FF5\n",
    "print(\"\\nAccounting factors (annual rebalancing) - FF5:\")\n",
    "print(accounting_results_12)\n",
    "\n",
    "print(\"\\nReturn factors (monthly rebalancing) - FF5:\")\n",
    "print(return_results_12)"
   ]
  },
  {
   "cell_type": "markdown",
   "metadata": {
    "collapsed": false,
    "jp-MarkdownHeadingCollapsed": true,
    "jupyter": {
     "outputs_hidden": false
    }
   },
   "source": [
    "### 2.6.4 Combine all the regressions"
   ]
  },
  {
   "cell_type": "code",
   "execution_count": 58,
   "metadata": {
    "ExecuteTime": {
     "end_time": "2025-03-16T09:07:43.287490Z",
     "start_time": "2025-03-16T09:07:43.267560Z"
    },
    "collapsed": false,
    "jupyter": {
     "outputs_hidden": false
    }
   },
   "outputs": [
    {
     "name": "stdout",
     "output_type": "stream",
     "text": [
      "\n",
      "Accounting factors (annual rebalancing):\n",
      "                   Factor  Average Returns  T-Value_1  FF3 Alpha  T-Value_2  \\\n",
      "0                Accruals             2.16       1.92      -1.23      -0.85   \n",
      "1             AssetGrowth             2.88       2.02      -4.40      -3.91   \n",
      "2                      BM             4.09       2.70      -5.80      -5.14   \n",
      "3                   BPEBM             2.17       2.27      -2.62      -1.94   \n",
      "4            BookLeverage            -0.79      -0.52      -1.64      -1.00   \n",
      "5              CBOperProf             2.81       2.60       0.97       1.02   \n",
      "6                      CF             3.39       2.04      -4.91      -3.18   \n",
      "7         ChAssetTurnover             2.02       2.27      -3.14      -3.18   \n",
      "8                   ChNWC             1.42       1.86      -2.82      -3.14   \n",
      "9              CompEquIss             2.80       1.80       0.28       0.19   \n",
      "10  CompositeDebtIssuance             1.66       2.09      -2.92      -2.27   \n",
      "11                    EBM             2.56       1.68      -7.70      -9.34   \n",
      "12                     EP             3.75       2.30      -6.36      -5.46   \n",
      "13       EarningsSurprise             1.74       1.98      -2.36      -3.37   \n",
      "14                     GP             2.50       1.72       0.03       0.02   \n",
      "15                   Herf             1.39       1.10      -3.48      -2.23   \n",
      "16              InvGrowth             2.80       2.44      -2.93      -2.94   \n",
      "17                    NOA             3.65       3.25      -3.76      -2.62   \n",
      "18              RDAbility             0.63       0.23      -4.55      -1.56   \n",
      "19                    RoE             0.90       0.65      -2.79      -1.73   \n",
      "20                     SP             4.94       2.27      -5.78      -3.95   \n",
      "21             ShareIss1Y             0.89       0.64      -3.07      -1.97   \n",
      "22             ShareIss5Y             3.14       4.22      -1.34      -1.27   \n",
      "23                   Size             3.74       1.14      -5.00      -3.11   \n",
      "\n",
      "    FF5 Alpha  T-Value  \n",
      "0        0.78     0.53  \n",
      "1       -5.72    -4.24  \n",
      "2       -4.28    -3.64  \n",
      "3       -1.07    -0.73  \n",
      "4        0.76     0.41  \n",
      "5       -0.28    -0.31  \n",
      "6       -4.15    -2.24  \n",
      "7       -3.31    -2.35  \n",
      "8       -2.37    -2.34  \n",
      "9        0.89     0.41  \n",
      "10      -2.55    -2.00  \n",
      "11      -7.48    -6.68  \n",
      "12      -7.22    -5.55  \n",
      "13      -2.53    -2.06  \n",
      "14      -2.37    -1.31  \n",
      "15      -2.20    -1.09  \n",
      "16      -3.09    -3.18  \n",
      "17      -5.64    -3.54  \n",
      "18      -4.90    -1.62  \n",
      "19      -7.27    -5.80  \n",
      "20      -7.03    -4.05  \n",
      "21      -5.64    -3.33  \n",
      "22      -2.17    -2.11  \n",
      "23      -3.91    -2.15  \n",
      "\n",
      "Return factors (monthly rebalancing):\n",
      "                  Factor  Average Returns  T-Value_1  FF3 Alpha  T-Value_2  \\\n",
      "0                   Beta             0.02       0.07      -0.66      -4.75   \n",
      "1             Coskewness             0.15       1.90      -0.30      -3.78   \n",
      "2                 DolVol             0.10       0.93      -0.36      -3.73   \n",
      "3                FirmAge             0.08       0.91      -0.40      -6.01   \n",
      "4                 High52             0.21       1.68      -0.02      -0.20   \n",
      "5              IdioVol3F             0.50       2.10       0.32       2.21   \n",
      "6            Illiquidity             0.22       2.43      -0.26      -3.81   \n",
      "7                 IntMom             0.65       3.90       0.43       2.95   \n",
      "8             LRreversal             0.19       1.17      -0.49      -3.26   \n",
      "9                 MaxRet             0.28       1.27       0.09       0.61   \n",
      "10                Mom12m             0.65       3.65       0.50       3.09   \n",
      "11                 Mom6m             0.34       2.12       0.09       0.59   \n",
      "12          MomOffSeason             0.34       2.50      -0.29      -2.59   \n",
      "13  MomOffSeason06YrPlus             0.45       4.64       0.01       0.08   \n",
      "14  MomOffSeason11YrPlus             0.23       2.73      -0.13      -1.39   \n",
      "15  MomOffSeason16YrPlus             0.11       1.58      -0.27      -2.91   \n",
      "16             MomSeason             0.25       2.17      -0.11      -1.04   \n",
      "17     MomSeason06YrPlus             0.41       4.68       0.05       0.54   \n",
      "18     MomSeason11YrPlus             0.31       4.88      -0.06      -0.77   \n",
      "19     MomSeason16YrPlus             0.13       1.78      -0.23      -2.63   \n",
      "20        MomSeasonShort             0.44       4.13       0.09       0.92   \n",
      "21      ResidualMomentum             0.37       4.65       0.03       0.38   \n",
      "22            STreversal             0.24       1.89      -0.30      -2.11   \n",
      "23                VolMkt             0.04       0.24      -0.24      -2.23   \n",
      "24                 VolSD             0.16       2.12      -0.24      -3.00   \n",
      "25              std_turn             0.18       1.02       0.26       1.84   \n",
      "\n",
      "    FF5 Alpha  T-Value  \n",
      "0       -0.25    -1.88  \n",
      "1       -0.22    -2.39  \n",
      "2       -0.37    -3.69  \n",
      "3       -0.30    -4.56  \n",
      "4       -0.23    -1.64  \n",
      "5       -0.14    -1.30  \n",
      "6       -0.29    -4.26  \n",
      "7        0.38     2.46  \n",
      "8       -0.41    -2.94  \n",
      "9       -0.32    -2.94  \n",
      "10       0.30     1.27  \n",
      "11      -0.05    -0.22  \n",
      "12      -0.28    -2.40  \n",
      "13      -0.02    -0.18  \n",
      "14       0.02     0.24  \n",
      "15      -0.26    -2.95  \n",
      "16      -0.08    -0.69  \n",
      "17       0.11     1.00  \n",
      "18      -0.03    -0.34  \n",
      "19      -0.19    -2.21  \n",
      "20       0.06     0.57  \n",
      "21      -0.05    -0.48  \n",
      "22      -0.23    -1.36  \n",
      "23      -0.50    -4.23  \n",
      "24      -0.27    -3.41  \n",
      "25       0.15     1.06  \n"
     ]
    }
   ],
   "source": [
    "# combine the results\n",
    "accounting_results_original = accounting_results_10.merge(accounting_results_11, on='Factor', suffixes=('_1', '_2')).merge(accounting_results_12, on='Factor', suffixes=('', '_3'))\n",
    "\n",
    "# combine the results\n",
    "return_results_original = return_results_10.merge(return_results_11, on='Factor', suffixes=('_1', '_2')).merge(return_results_12, on='Factor', suffixes=('', '_3'))\n",
    "\n",
    "# display the results\n",
    "print(\"\\nAccounting factors (annual rebalancing):\")\n",
    "print(accounting_results_original)\n",
    "\n",
    "print(\"\\nReturn factors (monthly rebalancing):\")\n",
    "print(return_results_original)"
   ]
  },
  {
   "cell_type": "code",
   "execution_count": 59,
   "metadata": {
    "ExecuteTime": {
     "end_time": "2025-03-16T09:07:58.164415Z",
     "start_time": "2025-03-16T09:07:58.129909Z"
    },
    "collapsed": false,
    "jupyter": {
     "outputs_hidden": false
    }
   },
   "outputs": [],
   "source": [
    "# save the results\n",
    "accounting_results_original.to_csv('accounting_factors_annual_original_1963_2016.csv', index=False)\n",
    "return_results_original.to_csv('return_factors_monthly_original_1963_2016.csv', index=False)"
   ]
  },
  {
   "cell_type": "markdown",
   "metadata": {
    "collapsed": false,
    "jupyter": {
     "outputs_hidden": false
    }
   },
   "source": [
    "# 3. Replicate Table 2"
   ]
  },
  {
   "cell_type": "markdown",
   "metadata": {},
   "source": [
    "## 3.1 Construct portfolio"
   ]
  },
  {
   "cell_type": "code",
   "execution_count": 2,
   "metadata": {
    "ExecuteTime": {
     "end_time": "2025-03-17T07:30:02.119753Z",
     "start_time": "2025-03-17T07:29:58.445592Z"
    }
   },
   "outputs": [],
   "source": [
    "table2_data_raw = pd.read_csv(\"data/merged_data.csv\")\n",
    "# only need the rows with the data, first 4 rows and last 1 row are not needed\n",
    "table2_ff5 = pd.read_csv(\"data/FF5_monthly.csv\")\n",
    "table2_UMD = pd.read_csv(\"data/FF_Momentum_monthly.csv\")\n",
    "# Rename columns to ensure 'date' column is correctly named\n",
    "\n",
    "table2_ff5.columns = ['date', 'Mkt-RF', 'SMB', 'HML', 'RMW', 'CMA', 'RF']\n",
    "table2_UMD.columns = ['date', 'UMD']\n",
    "\n",
    "table2_data_raw['date'] = pd.to_datetime(table2_data_raw['date'])\n",
    "table2_ff5['date'] = pd.to_datetime(table2_ff5['date'], format='%Y%m')\n",
    "table2_UMD['date'] = pd.to_datetime(table2_UMD['date'], format='%Y%m')"
   ]
  },
  {
   "cell_type": "code",
   "execution_count": 4,
   "metadata": {
    "ExecuteTime": {
     "end_time": "2025-03-17T07:33:36.577555Z",
     "start_time": "2025-03-17T07:33:34.190887Z"
    }
   },
   "outputs": [
    {
     "name": "stdout",
     "output_type": "stream",
     "text": [
      "Predictor number of start month: 50\n",
      "Predictor number of end month: 50\n"
     ]
    },
    {
     "data": {
      "text/plain": "           predictor    port01    port02    port03    port04    port05  \\\ndate                                                                     \n1963-07-01  Accruals -0.022245  0.007165 -0.002217  0.003021  0.003446   \n1963-08-01  Accruals  0.056922  0.053736  0.059434  0.048730  0.047843   \n1963-09-01  Accruals -0.010046 -0.014426 -0.025168 -0.002418 -0.008202   \n1963-10-01  Accruals  0.014035  0.020162  0.013247  0.027338  0.058784   \n1963-11-01  Accruals -0.005624 -0.008867 -0.007389  0.016824 -0.020129   \n...              ...       ...       ...       ...       ...       ...   \n2023-08-01  std_turn -0.188815 -0.068048 -0.025704 -0.032045 -0.022582   \n2023-09-01  std_turn -0.067067 -0.050836 -0.034021 -0.052222 -0.044330   \n2023-10-01  std_turn -0.138222 -0.100143 -0.061419 -0.033710 -0.044634   \n2023-11-01  std_turn  0.103273  0.050170  0.109865  0.095393  0.092045   \n2023-12-01  std_turn  0.131617  0.100998  0.079488  0.053675  0.055788   \n\n              portLS   portLS2  \ndate                            \n1963-07-01  0.025691  0.010773  \n1963-08-01 -0.009079 -0.007043  \n1963-09-01  0.001844  0.006926  \n1963-10-01  0.044749  0.025962  \n1963-11-01 -0.014506  0.005593  \n...              ...       ...  \n2023-08-01  0.166233  0.101118  \n2023-09-01  0.022738  0.010676  \n2023-10-01  0.093587  0.080010  \n2023-11-01 -0.011228  0.016997  \n2023-12-01 -0.075828 -0.061575  \n\n[36300 rows x 8 columns]",
      "text/html": "<div>\n<style scoped>\n    .dataframe tbody tr th:only-of-type {\n        vertical-align: middle;\n    }\n\n    .dataframe tbody tr th {\n        vertical-align: top;\n    }\n\n    .dataframe thead th {\n        text-align: right;\n    }\n</style>\n<table border=\"1\" class=\"dataframe\">\n  <thead>\n    <tr style=\"text-align: right;\">\n      <th></th>\n      <th>predictor</th>\n      <th>port01</th>\n      <th>port02</th>\n      <th>port03</th>\n      <th>port04</th>\n      <th>port05</th>\n      <th>portLS</th>\n      <th>portLS2</th>\n    </tr>\n    <tr>\n      <th>date</th>\n      <th></th>\n      <th></th>\n      <th></th>\n      <th></th>\n      <th></th>\n      <th></th>\n      <th></th>\n      <th></th>\n    </tr>\n  </thead>\n  <tbody>\n    <tr>\n      <th>1963-07-01</th>\n      <td>Accruals</td>\n      <td>-0.022245</td>\n      <td>0.007165</td>\n      <td>-0.002217</td>\n      <td>0.003021</td>\n      <td>0.003446</td>\n      <td>0.025691</td>\n      <td>0.010773</td>\n    </tr>\n    <tr>\n      <th>1963-08-01</th>\n      <td>Accruals</td>\n      <td>0.056922</td>\n      <td>0.053736</td>\n      <td>0.059434</td>\n      <td>0.048730</td>\n      <td>0.047843</td>\n      <td>-0.009079</td>\n      <td>-0.007043</td>\n    </tr>\n    <tr>\n      <th>1963-09-01</th>\n      <td>Accruals</td>\n      <td>-0.010046</td>\n      <td>-0.014426</td>\n      <td>-0.025168</td>\n      <td>-0.002418</td>\n      <td>-0.008202</td>\n      <td>0.001844</td>\n      <td>0.006926</td>\n    </tr>\n    <tr>\n      <th>1963-10-01</th>\n      <td>Accruals</td>\n      <td>0.014035</td>\n      <td>0.020162</td>\n      <td>0.013247</td>\n      <td>0.027338</td>\n      <td>0.058784</td>\n      <td>0.044749</td>\n      <td>0.025962</td>\n    </tr>\n    <tr>\n      <th>1963-11-01</th>\n      <td>Accruals</td>\n      <td>-0.005624</td>\n      <td>-0.008867</td>\n      <td>-0.007389</td>\n      <td>0.016824</td>\n      <td>-0.020129</td>\n      <td>-0.014506</td>\n      <td>0.005593</td>\n    </tr>\n    <tr>\n      <th>...</th>\n      <td>...</td>\n      <td>...</td>\n      <td>...</td>\n      <td>...</td>\n      <td>...</td>\n      <td>...</td>\n      <td>...</td>\n      <td>...</td>\n    </tr>\n    <tr>\n      <th>2023-08-01</th>\n      <td>std_turn</td>\n      <td>-0.188815</td>\n      <td>-0.068048</td>\n      <td>-0.025704</td>\n      <td>-0.032045</td>\n      <td>-0.022582</td>\n      <td>0.166233</td>\n      <td>0.101118</td>\n    </tr>\n    <tr>\n      <th>2023-09-01</th>\n      <td>std_turn</td>\n      <td>-0.067067</td>\n      <td>-0.050836</td>\n      <td>-0.034021</td>\n      <td>-0.052222</td>\n      <td>-0.044330</td>\n      <td>0.022738</td>\n      <td>0.010676</td>\n    </tr>\n    <tr>\n      <th>2023-10-01</th>\n      <td>std_turn</td>\n      <td>-0.138222</td>\n      <td>-0.100143</td>\n      <td>-0.061419</td>\n      <td>-0.033710</td>\n      <td>-0.044634</td>\n      <td>0.093587</td>\n      <td>0.080010</td>\n    </tr>\n    <tr>\n      <th>2023-11-01</th>\n      <td>std_turn</td>\n      <td>0.103273</td>\n      <td>0.050170</td>\n      <td>0.109865</td>\n      <td>0.095393</td>\n      <td>0.092045</td>\n      <td>-0.011228</td>\n      <td>0.016997</td>\n    </tr>\n    <tr>\n      <th>2023-12-01</th>\n      <td>std_turn</td>\n      <td>0.131617</td>\n      <td>0.100998</td>\n      <td>0.079488</td>\n      <td>0.053675</td>\n      <td>0.055788</td>\n      <td>-0.075828</td>\n      <td>-0.061575</td>\n    </tr>\n  </tbody>\n</table>\n<p>36300 rows × 8 columns</p>\n</div>"
     },
     "execution_count": 4,
     "metadata": {},
     "output_type": "execute_result"
    }
   ],
   "source": [
    "# Get the data original sample research, so first we need to get the data before 1963-07-01 to ensure we have the valid data for the whole period\n",
    "start_date_original = '1963-07-01'\n",
    "end_date = '2023-12-29' #20231230 and 20231231 are weekends, not in the data\n",
    "print(f\"Predictor number of start month: {len(table2_data_raw[table2_data_raw['date'] < start_date_original]['predictor'].unique())}\")  # check if the data available for the whole period\n",
    "factor_original_data = table2_data_raw[table2_data_raw['date'] < start_date_original]['predictor'].unique()\n",
    "table2_data_original = table2_data_raw[table2_data_raw['predictor'].isin(factor_original_data)]\n",
    "table2_data_original = table2_data_original[(table2_data_original['date'] >= start_date_original) & (table2_data_original['date'] <= end_date)]\n",
    "print(f\"Predictor number of end month: {len(table2_data_original[table2_data_original['date'] == end_date]['predictor'].unique())}\")  # check if the data available for the whole period\n",
    "\n",
    "# Get the data for original sample research, same data period\n",
    "# modify the table2_data_original like table2_data above\n",
    "table2_data_original['month'] = table2_data_original['date'].dt.month\n",
    "table2_data_original['year'] = table2_data_original['date'].dt.year\n",
    "table2_data_original['month_year'] = table2_data_original['date'].dt.to_period('M')\n",
    "# sum the daily returns by month\n",
    "table2_data_monthly_original = table2_data_original.groupby(['month_year', 'predictor'])[['port01','port02','port03','port04','port05','portLS']].sum().reset_index()\n",
    "table2_data_monthly_original['date'] = table2_data_monthly_original['month_year'].dt.to_timestamp()\n",
    "table2_data_monthly_original = table2_data_monthly_original.drop(['month_year'], axis=1)\n",
    "table2_data_monthly_original = table2_data_monthly_original.sort_values(by=['predictor','date'])\n",
    "table2_data_monthly_original = table2_data_monthly_original.reset_index(drop=True)\n",
    "# put date in first column\n",
    "cols = table2_data_monthly_original.columns.tolist()\n",
    "cols = cols[-1:] + cols[:-1]\n",
    "table2_data_monthly_original = table2_data_monthly_original[cols]\n",
    "table2_data_monthly_original.set_index('date', inplace=True)\n",
    "# divide 100\n",
    "table2_data_monthly_original[['port01', 'port02', 'port03', 'port04', 'port05', 'portLS']] = table2_data_monthly_original[['port01', 'port02', 'port03', 'port04', 'port05', 'portLS']] / 100\n",
    "table2_data_monthly_original['portLS2'] = (table2_data_monthly_original['port05'] + table2_data_monthly_original['port04'] - table2_data_monthly_original['port02'] - table2_data_monthly_original['port01'])/2\n",
    "table2_data_monthly_original"
   ]
  },
  {
   "cell_type": "code",
   "execution_count": 5,
   "metadata": {
    "ExecuteTime": {
     "end_time": "2025-03-17T07:33:46.086589Z",
     "start_time": "2025-03-17T07:33:45.862228Z"
    }
   },
   "outputs": [
    {
     "name": "stdout",
     "output_type": "stream",
     "text": [
      "The list of predictors is: \n",
      "['Accruals' 'AnalystValue' 'AssetGrowth' 'BM' 'BPEBM' 'Beta'\n",
      " 'BetaLiquidityPS' 'BookLeverage' 'CBOperProf' 'CF' 'CPVolSpread'\n",
      " 'ChAssetTurnover' 'ChNWC' 'CompEquIss' 'CompositeDebtIssuance'\n",
      " 'Coskewness' 'CustomerMomentum' 'DolVol' 'EBM' 'EP' 'EarningsSurprise'\n",
      " 'FirmAge' 'Frontier' 'GP' 'Herf' 'High52' 'IdioVol3F' 'Illiquidity'\n",
      " 'IntMom' 'InvGrowth' 'LRreversal' 'MaxRet' 'Mom12m' 'Mom6m' 'Mom6mJunk'\n",
      " 'MomOffSeason' 'MomOffSeason06YrPlus' 'MomOffSeason11YrPlus'\n",
      " 'MomOffSeason16YrPlus' 'MomSeason' 'MomSeason06YrPlus'\n",
      " 'MomSeason11YrPlus' 'MomSeason16YrPlus' 'MomSeasonShort' 'NOA' 'OperProf'\n",
      " 'PS' 'RDAbility' 'RIVolSpread' 'ResidualMomentum' 'RoE' 'SP' 'STreversal'\n",
      " 'ShareIss1Y' 'ShareIss5Y' 'Size' 'VolMkt' 'VolSD' 'XFIN' 'cfp' 'roaq'\n",
      " 'std_turn']\n",
      "Total predictor number is: 62\n"
     ]
    }
   ],
   "source": [
    "# Update data from 1999-01-01 to 2023-12-29, \n",
    "start_date_update = '1999-01-01'\n",
    "end_date = '2023-12-29'\n",
    "table2_data = table2_data_raw[(table2_data_raw['date'] >= start_date_update) & (table2_data_raw['date'] <= end_date)].copy()\n",
    "# Get the remaining factors belonging to the time frame\n",
    "unique_predictors_update = table2_data['predictor'].unique()\n",
    "print(f'The list of predictors is: \\n{unique_predictors_update}')\n",
    "print(f'Total predictor number is: {len(unique_predictors_update)}')"
   ]
  },
  {
   "cell_type": "code",
   "execution_count": 6,
   "metadata": {
    "ExecuteTime": {
     "end_time": "2025-03-17T07:33:50.719699Z",
     "start_time": "2025-03-17T07:33:50.374368Z"
    }
   },
   "outputs": [
    {
     "data": {
      "text/plain": "           predictor    port01    port02    port03    port04    port05  \\\ndate                                                                     \n1999-01-01  Accruals  0.079906 -0.001093  0.026478  0.005808  0.081018   \n1999-02-01  Accruals -0.049856 -0.016759 -0.012612 -0.026950 -0.072324   \n1999-03-01  Accruals  0.043410  0.037410  0.034296  0.036752  0.041223   \n1999-04-01  Accruals  0.067969  0.022862  0.022378  0.077499  0.028817   \n1999-05-01  Accruals -0.029193 -0.018245 -0.017828  0.001053 -0.024211   \n...              ...       ...       ...       ...       ...       ...   \n2023-08-01  std_turn -0.188815 -0.068048 -0.025704 -0.032045 -0.022582   \n2023-09-01  std_turn -0.067067 -0.050836 -0.034021 -0.052222 -0.044330   \n2023-10-01  std_turn -0.138222 -0.100143 -0.061419 -0.033710 -0.044634   \n2023-11-01  std_turn  0.103273  0.050170  0.109865  0.095393  0.092045   \n2023-12-01  std_turn  0.131617  0.100998  0.079488  0.053675  0.055788   \n\n              portLS   portLS2  \ndate                            \n1999-01-01  0.001112  0.004006  \n1999-02-01 -0.022469 -0.016330  \n1999-03-01 -0.002187 -0.001422  \n1999-04-01 -0.039152  0.007742  \n1999-05-01  0.004982  0.012140  \n...              ...       ...  \n2023-08-01  0.166233  0.101118  \n2023-09-01  0.022738  0.010676  \n2023-10-01  0.093587  0.080010  \n2023-11-01 -0.011228  0.016997  \n2023-12-01 -0.075828 -0.061575  \n\n[18578 rows x 8 columns]",
      "text/html": "<div>\n<style scoped>\n    .dataframe tbody tr th:only-of-type {\n        vertical-align: middle;\n    }\n\n    .dataframe tbody tr th {\n        vertical-align: top;\n    }\n\n    .dataframe thead th {\n        text-align: right;\n    }\n</style>\n<table border=\"1\" class=\"dataframe\">\n  <thead>\n    <tr style=\"text-align: right;\">\n      <th></th>\n      <th>predictor</th>\n      <th>port01</th>\n      <th>port02</th>\n      <th>port03</th>\n      <th>port04</th>\n      <th>port05</th>\n      <th>portLS</th>\n      <th>portLS2</th>\n    </tr>\n    <tr>\n      <th>date</th>\n      <th></th>\n      <th></th>\n      <th></th>\n      <th></th>\n      <th></th>\n      <th></th>\n      <th></th>\n      <th></th>\n    </tr>\n  </thead>\n  <tbody>\n    <tr>\n      <th>1999-01-01</th>\n      <td>Accruals</td>\n      <td>0.079906</td>\n      <td>-0.001093</td>\n      <td>0.026478</td>\n      <td>0.005808</td>\n      <td>0.081018</td>\n      <td>0.001112</td>\n      <td>0.004006</td>\n    </tr>\n    <tr>\n      <th>1999-02-01</th>\n      <td>Accruals</td>\n      <td>-0.049856</td>\n      <td>-0.016759</td>\n      <td>-0.012612</td>\n      <td>-0.026950</td>\n      <td>-0.072324</td>\n      <td>-0.022469</td>\n      <td>-0.016330</td>\n    </tr>\n    <tr>\n      <th>1999-03-01</th>\n      <td>Accruals</td>\n      <td>0.043410</td>\n      <td>0.037410</td>\n      <td>0.034296</td>\n      <td>0.036752</td>\n      <td>0.041223</td>\n      <td>-0.002187</td>\n      <td>-0.001422</td>\n    </tr>\n    <tr>\n      <th>1999-04-01</th>\n      <td>Accruals</td>\n      <td>0.067969</td>\n      <td>0.022862</td>\n      <td>0.022378</td>\n      <td>0.077499</td>\n      <td>0.028817</td>\n      <td>-0.039152</td>\n      <td>0.007742</td>\n    </tr>\n    <tr>\n      <th>1999-05-01</th>\n      <td>Accruals</td>\n      <td>-0.029193</td>\n      <td>-0.018245</td>\n      <td>-0.017828</td>\n      <td>0.001053</td>\n      <td>-0.024211</td>\n      <td>0.004982</td>\n      <td>0.012140</td>\n    </tr>\n    <tr>\n      <th>...</th>\n      <td>...</td>\n      <td>...</td>\n      <td>...</td>\n      <td>...</td>\n      <td>...</td>\n      <td>...</td>\n      <td>...</td>\n      <td>...</td>\n    </tr>\n    <tr>\n      <th>2023-08-01</th>\n      <td>std_turn</td>\n      <td>-0.188815</td>\n      <td>-0.068048</td>\n      <td>-0.025704</td>\n      <td>-0.032045</td>\n      <td>-0.022582</td>\n      <td>0.166233</td>\n      <td>0.101118</td>\n    </tr>\n    <tr>\n      <th>2023-09-01</th>\n      <td>std_turn</td>\n      <td>-0.067067</td>\n      <td>-0.050836</td>\n      <td>-0.034021</td>\n      <td>-0.052222</td>\n      <td>-0.044330</td>\n      <td>0.022738</td>\n      <td>0.010676</td>\n    </tr>\n    <tr>\n      <th>2023-10-01</th>\n      <td>std_turn</td>\n      <td>-0.138222</td>\n      <td>-0.100143</td>\n      <td>-0.061419</td>\n      <td>-0.033710</td>\n      <td>-0.044634</td>\n      <td>0.093587</td>\n      <td>0.080010</td>\n    </tr>\n    <tr>\n      <th>2023-11-01</th>\n      <td>std_turn</td>\n      <td>0.103273</td>\n      <td>0.050170</td>\n      <td>0.109865</td>\n      <td>0.095393</td>\n      <td>0.092045</td>\n      <td>-0.011228</td>\n      <td>0.016997</td>\n    </tr>\n    <tr>\n      <th>2023-12-01</th>\n      <td>std_turn</td>\n      <td>0.131617</td>\n      <td>0.100998</td>\n      <td>0.079488</td>\n      <td>0.053675</td>\n      <td>0.055788</td>\n      <td>-0.075828</td>\n      <td>-0.061575</td>\n    </tr>\n  </tbody>\n</table>\n<p>18578 rows × 8 columns</p>\n</div>"
     },
     "execution_count": 6,
     "metadata": {},
     "output_type": "execute_result"
    }
   ],
   "source": [
    "# first get the monthly returns for each stock, sum of the daily returns by month\n",
    "table2_data['month'] = table2_data['date'].dt.month\n",
    "table2_data['year'] = table2_data['date'].dt.year\n",
    "table2_data['month_year'] = table2_data['date'].dt.to_period('M')\n",
    "# sum the daily returns by month\n",
    "table2_data_monthly = table2_data.groupby(['month_year', 'predictor'])[['port01','port02','port03','port04','port05','portLS']].sum().reset_index()\n",
    "table2_data_monthly['date'] = table2_data_monthly['month_year'].dt.to_timestamp()\n",
    "table2_data_monthly = table2_data_monthly.drop(['month_year'], axis=1)\n",
    "table2_data_monthly = table2_data_monthly.sort_values(by=['predictor','date'])\n",
    "table2_data_monthly = table2_data_monthly.reset_index(drop=True)\n",
    "# put date in first column\n",
    "cols = table2_data_monthly.columns.tolist()\n",
    "cols = cols[-1:] + cols[:-1]\n",
    "table2_data_monthly = table2_data_monthly[cols]\n",
    "table2_data_monthly.set_index('date', inplace=True)\n",
    "# divide 100\n",
    "table2_data_monthly[['port01', 'port02', 'port03', 'port04', 'port05', 'portLS']] = table2_data_monthly[['port01', 'port02', 'port03', 'port04', 'port05', 'portLS']] / 100\n",
    "table2_data_monthly['portLS2'] = (table2_data_monthly['port05'] + table2_data_monthly['port04'] - table2_data_monthly['port02'] - table2_data_monthly['port01'])/2\n",
    "table2_data_monthly"
   ]
  },
  {
   "cell_type": "markdown",
   "metadata": {},
   "source": [
    "## 3.2 Panel A\n"
   ]
  },
  {
   "cell_type": "markdown",
   "metadata": {},
   "source": [
    "### 3.2.1 Oringinal Period and Post-2000 Periods Testing"
   ]
  },
  {
   "cell_type": "code",
   "execution_count": 7,
   "metadata": {
    "ExecuteTime": {
     "end_time": "2025-03-17T07:33:55.614050Z",
     "start_time": "2025-03-17T07:33:55.474609Z"
    }
   },
   "outputs": [],
   "source": [
    "# Define Factor Momentum Strategy Function\n",
    "def factor_momentum_strategy(returns, L, H, n_long_short):\n",
    "\n",
    "    strategy_returns = pd.Series(index=returns.index, dtype=float)\n",
    "    N = returns.shape[1]  \n",
    "    for t in range(L, len(returns)):\n",
    "        # Formation period: t-L to t-1 (using full data history up to t)\n",
    "        past_returns = returns.iloc[t-L:t].mean()  # Average return over last L months\n",
    "        # Rank factors\n",
    "        ranked_factors = past_returns.sort_values(ascending=False)\n",
    "        # Select top and bottom n_long_short factors\n",
    "        long_factors = ranked_factors.index[:n_long_short]\n",
    "        short_factors = ranked_factors.index[-n_long_short:]\n",
    "        \n",
    "        # Holding period: t to t+H-1\n",
    "        if H == 1:\n",
    "            # For H=1, take the next month's return\n",
    "            long_returns = returns.iloc[t][long_factors].mean()\n",
    "            short_returns = returns.iloc[t][short_factors].mean()\n",
    "            strategy_returns.iloc[t] = long_returns - short_returns\n",
    "        else:\n",
    "            holding_returns = []\n",
    "            for h in range(H):\n",
    "                if t - h >= L:  # to ensure the data have enough history L months\n",
    "                    past_h = returns.iloc[t-h-L:t-h].mean()  # to calculate the average return over last L months\n",
    "                    ranked_h = past_h.sort_values(ascending=False)\n",
    "                    long_h = ranked_h.index[:n_long_short]\n",
    "                    short_h = ranked_h.index[-n_long_short:]\n",
    "\n",
    "                    if t + h < len(returns):  # ensure the data not out of range\n",
    "                        future_h = returns.iloc[t+h][long_h].mean() - returns.iloc[t+h][short_h].mean()\n",
    "                        holding_returns.append(future_h)\n",
    "            if len(holding_returns) == H: # ensure the each month has H returns from the strategies\n",
    "                strategy_returns.iloc[t] = np.mean(holding_returns) if holding_returns else np.nan\n",
    "    \n",
    "    return strategy_returns"
   ]
  },
  {
   "cell_type": "code",
   "execution_count": 8,
   "metadata": {
    "ExecuteTime": {
     "end_time": "2025-03-17T07:34:21.806309Z",
     "start_time": "2025-03-17T07:33:56.403189Z"
    }
   },
   "outputs": [],
   "source": [
    "# get the data for table2 Panel A\n",
    "# Pivot the data to have each predictor's portLS as a column\n",
    "table2_LS1 = table2_data_monthly.pivot(columns='predictor', values='portLS') # long top 20%, short bottom 20%\n",
    "table2_LS2 = table2_data_monthly.pivot(columns='predictor', values='portLS2') # Long top 40%, short bottom 40%\n",
    "\n",
    "# Pivot the data to have each predictor's portLS as a column for the original data\n",
    "table2_LS1_original = table2_data_monthly_original.pivot(columns='predictor', values='portLS') # long top 20%, short bottom 20%\n",
    "table2_LS2_original = table2_data_monthly_original.pivot(columns='predictor', values='portLS2') # Long top 40%, short bottom 40%\n",
    "\n",
    "# Compute Strategies\n",
    "N = len(table2_data_monthly['predictor'].unique())  # Fixed number of factors\n",
    "n = max(round(3/20 * N), 1)  # n = 9\n",
    "\n",
    "# Long TOP 20% and Short BOTTOM 20% of factors for the update data\n",
    "# L=1, H=1\n",
    "LS1_1_1 = factor_momentum_strategy(table2_LS1, L=1, H=1, n_long_short=n)\n",
    "# L=6, H=6\n",
    "LS1_6_6 = factor_momentum_strategy(table2_LS1, L=6, H=6, n_long_short=n)\n",
    "\n",
    "# Long TOP 40% and Short BOTTOM 40% of factors\n",
    "# L=1, H=1\n",
    "LS2_1_1 = factor_momentum_strategy(table2_LS2, L=1, H=1, n_long_short=n)\n",
    "# L=6, H=6\n",
    "LS2_6_6 = factor_momentum_strategy(table2_LS2, L=6, H=6, n_long_short=n)\n",
    "\n",
    "# Long TOP 20% and Short BOTTOM 20% of factors for the original data\n",
    "# L=1, H=1\n",
    "LS1_1_1_original = factor_momentum_strategy(table2_LS1_original, L=1, H=1, n_long_short=n)\n",
    "# L=6, H=6\n",
    "LS1_6_6_original = factor_momentum_strategy(table2_LS1_original, L=6, H=6, n_long_short=n)\n",
    "\n",
    "# Long TOP 40% and Short BOTTOM 40% of factors for the original data\n",
    "# L=1, H=1\n",
    "LS2_1_1_original = factor_momentum_strategy(table2_LS2_original, L=1, H=1, n_long_short=n)\n",
    "# L=6, H=6\n",
    "LS2_6_6_original = factor_momentum_strategy(table2_LS2_original, L=6, H=6, n_long_short=n)"
   ]
  },
  {
   "cell_type": "code",
   "execution_count": 9,
   "metadata": {
    "ExecuteTime": {
     "end_time": "2025-03-17T07:34:24.420110Z",
     "start_time": "2025-03-17T07:34:24.269195Z"
    }
   },
   "outputs": [],
   "source": [
    "ff5_copy = table2_ff5.copy()\n",
    "def compute_statistics(returns, H):\n",
    "    returns = returns.dropna()\n",
    "\n",
    "    # Ensure date columns are in datetime format\n",
    "    returns.index = pd.to_datetime(returns.index)\n",
    "    ff5_copy['date'] = pd.to_datetime(ff5_copy['date'])\n",
    "    \n",
    "    # Merge returns with risk-free rate\n",
    "    merged_data = pd.merge(returns.to_frame(name='returns'), ff5_copy[['date', 'RF']], \n",
    "                           left_index=True, right_on='date', how='left').dropna()\n",
    "    \n",
    "    # Extract matched returns and risk-free rates\n",
    "    excess_returns = merged_data['returns'] - merged_data['RF'] / 100  # Convert RF to decimal\n",
    "    ann_excess_returns = excess_returns.mean() * 12 * 100  # In percentage\n",
    "    \n",
    "    # Annualized return: Monthly mean * 12\n",
    "    ann_return = returns.mean() * 12 * 100  # In percentage\n",
    "    \n",
    "    # Annualized standard deviation: Monthly std * sqrt(12)\n",
    "    ann_std = returns.std() * np.sqrt(12) * 100  # In percentage\n",
    "    \n",
    "    # Compute Newey-West t-value\n",
    "    # Fit a constant-only model (equivalent to computing the mean)\n",
    "    X = np.ones(len(returns))  # Constant term for mean\n",
    "    model = OLS(returns, X).fit()\n",
    "    \n",
    "    # Compute Newey-West standard error\n",
    "    # Choose lags based on H (e.g., H for overlapping returns, or a rule like floor(0.75 * T^(1/3)))\n",
    "    lags = H # lag H month\n",
    "    nw_cov = cov_hac(model, nlags=lags)  # Newey-West covariance matrix\n",
    "    nw_se = np.sqrt(nw_cov[0, 0])  # Standard error of the mean (constant term)\n",
    "    \n",
    "    # Newey-West t-value: mean / Newey-West standard error\n",
    "    t_value = returns.mean() / nw_se\n",
    "\n",
    "    # Compute Sharpe Ratio\n",
    "    sharpe_ratio = ann_excess_returns / ann_std if ann_std != 0 else np.nan  # Avoid division by zero\n",
    "    \n",
    "    return ann_return, ann_std, t_value, sharpe_ratio"
   ]
  },
  {
   "cell_type": "code",
   "execution_count": 10,
   "metadata": {
    "ExecuteTime": {
     "end_time": "2025-03-17T07:34:26.953366Z",
     "start_time": "2025-03-17T07:34:26.620927Z"
    }
   },
   "outputs": [
    {
     "name": "stdout",
     "output_type": "stream",
     "text": [
      "Panel A: Annualized percent returns and standard deviations\n"
     ]
    },
    {
     "data": {
      "text/plain": "      Period Factor  Formation period  Holding period  Annualized return  \\\n0        all    LS1                 1               1               5.64   \n1        all    LS1                 6               6               0.76   \n2        all    LS2                 1               1               6.06   \n3        all    LS2                 6               6               0.91   \n4     sample    LS1                 1               1               5.25   \n5     sample    LS1                 6               6               0.43   \n6     sample    LS2                 1               1               5.73   \n7     sample    LS2                 6               6               0.44   \n8       post    LS1                 1               1               6.61   \n9       post    LS1                 6               6               1.60   \n10      post    LS2                 1               1               6.86   \n11      post    LS2                 6               6               2.13   \n12  original    LS1                 1               1              11.11   \n13  original    LS1                 6               6               5.29   \n14  original    LS2                 1               1               9.22   \n15  original    LS2                 6               6               4.03   \n\n    Standard deviation  t-value  Sharpe ratio  \n0                25.44     1.17          0.16  \n1                 8.02     0.27         -0.10  \n2                19.35     1.62          0.23  \n3                 6.58     0.39         -0.10  \n4                27.50     0.86          0.13  \n5                 8.58     0.12         -0.14  \n6                20.75     1.22          0.20  \n7                 7.03     0.15         -0.17  \n8                19.69     0.88          0.25  \n9                 6.40     0.47          0.03  \n10               15.51     1.15          0.34  \n11                5.26     0.73          0.14  \n12               19.12     4.45          0.33  \n13                6.95     3.26          0.08  \n14               14.73     4.80          0.31  \n15                5.29     3.23         -0.13  ",
      "text/html": "<div>\n<style scoped>\n    .dataframe tbody tr th:only-of-type {\n        vertical-align: middle;\n    }\n\n    .dataframe tbody tr th {\n        vertical-align: top;\n    }\n\n    .dataframe thead th {\n        text-align: right;\n    }\n</style>\n<table border=\"1\" class=\"dataframe\">\n  <thead>\n    <tr style=\"text-align: right;\">\n      <th></th>\n      <th>Period</th>\n      <th>Factor</th>\n      <th>Formation period</th>\n      <th>Holding period</th>\n      <th>Annualized return</th>\n      <th>Standard deviation</th>\n      <th>t-value</th>\n      <th>Sharpe ratio</th>\n    </tr>\n  </thead>\n  <tbody>\n    <tr>\n      <th>0</th>\n      <td>all</td>\n      <td>LS1</td>\n      <td>1</td>\n      <td>1</td>\n      <td>5.64</td>\n      <td>25.44</td>\n      <td>1.17</td>\n      <td>0.16</td>\n    </tr>\n    <tr>\n      <th>1</th>\n      <td>all</td>\n      <td>LS1</td>\n      <td>6</td>\n      <td>6</td>\n      <td>0.76</td>\n      <td>8.02</td>\n      <td>0.27</td>\n      <td>-0.10</td>\n    </tr>\n    <tr>\n      <th>2</th>\n      <td>all</td>\n      <td>LS2</td>\n      <td>1</td>\n      <td>1</td>\n      <td>6.06</td>\n      <td>19.35</td>\n      <td>1.62</td>\n      <td>0.23</td>\n    </tr>\n    <tr>\n      <th>3</th>\n      <td>all</td>\n      <td>LS2</td>\n      <td>6</td>\n      <td>6</td>\n      <td>0.91</td>\n      <td>6.58</td>\n      <td>0.39</td>\n      <td>-0.10</td>\n    </tr>\n    <tr>\n      <th>4</th>\n      <td>sample</td>\n      <td>LS1</td>\n      <td>1</td>\n      <td>1</td>\n      <td>5.25</td>\n      <td>27.50</td>\n      <td>0.86</td>\n      <td>0.13</td>\n    </tr>\n    <tr>\n      <th>5</th>\n      <td>sample</td>\n      <td>LS1</td>\n      <td>6</td>\n      <td>6</td>\n      <td>0.43</td>\n      <td>8.58</td>\n      <td>0.12</td>\n      <td>-0.14</td>\n    </tr>\n    <tr>\n      <th>6</th>\n      <td>sample</td>\n      <td>LS2</td>\n      <td>1</td>\n      <td>1</td>\n      <td>5.73</td>\n      <td>20.75</td>\n      <td>1.22</td>\n      <td>0.20</td>\n    </tr>\n    <tr>\n      <th>7</th>\n      <td>sample</td>\n      <td>LS2</td>\n      <td>6</td>\n      <td>6</td>\n      <td>0.44</td>\n      <td>7.03</td>\n      <td>0.15</td>\n      <td>-0.17</td>\n    </tr>\n    <tr>\n      <th>8</th>\n      <td>post</td>\n      <td>LS1</td>\n      <td>1</td>\n      <td>1</td>\n      <td>6.61</td>\n      <td>19.69</td>\n      <td>0.88</td>\n      <td>0.25</td>\n    </tr>\n    <tr>\n      <th>9</th>\n      <td>post</td>\n      <td>LS1</td>\n      <td>6</td>\n      <td>6</td>\n      <td>1.60</td>\n      <td>6.40</td>\n      <td>0.47</td>\n      <td>0.03</td>\n    </tr>\n    <tr>\n      <th>10</th>\n      <td>post</td>\n      <td>LS2</td>\n      <td>1</td>\n      <td>1</td>\n      <td>6.86</td>\n      <td>15.51</td>\n      <td>1.15</td>\n      <td>0.34</td>\n    </tr>\n    <tr>\n      <th>11</th>\n      <td>post</td>\n      <td>LS2</td>\n      <td>6</td>\n      <td>6</td>\n      <td>2.13</td>\n      <td>5.26</td>\n      <td>0.73</td>\n      <td>0.14</td>\n    </tr>\n    <tr>\n      <th>12</th>\n      <td>original</td>\n      <td>LS1</td>\n      <td>1</td>\n      <td>1</td>\n      <td>11.11</td>\n      <td>19.12</td>\n      <td>4.45</td>\n      <td>0.33</td>\n    </tr>\n    <tr>\n      <th>13</th>\n      <td>original</td>\n      <td>LS1</td>\n      <td>6</td>\n      <td>6</td>\n      <td>5.29</td>\n      <td>6.95</td>\n      <td>3.26</td>\n      <td>0.08</td>\n    </tr>\n    <tr>\n      <th>14</th>\n      <td>original</td>\n      <td>LS2</td>\n      <td>1</td>\n      <td>1</td>\n      <td>9.22</td>\n      <td>14.73</td>\n      <td>4.80</td>\n      <td>0.31</td>\n    </tr>\n    <tr>\n      <th>15</th>\n      <td>original</td>\n      <td>LS2</td>\n      <td>6</td>\n      <td>6</td>\n      <td>4.03</td>\n      <td>5.29</td>\n      <td>3.23</td>\n      <td>-0.13</td>\n    </tr>\n  </tbody>\n</table>\n</div>"
     },
     "execution_count": 10,
     "metadata": {},
     "output_type": "execute_result"
    }
   ],
   "source": [
    "# Define the filter_returns function\n",
    "def filter_returns(returns, start_date, end_date):\n",
    "    return returns[(returns.index >= start_date) & (returns.index <= end_date)].dropna()\n",
    "\n",
    "# Define strategies with updated and original data\n",
    "strategies = {\n",
    "    'LS1_1_1': {'L': 1, 'H': 1, 'Factor': 'LS1', 'data': LS1_1_1},\n",
    "    'LS1_6_6': {'L': 6, 'H': 6, 'Factor': 'LS1', 'data': LS1_6_6},\n",
    "    'LS2_1_1': {'L': 1, 'H': 1, 'Factor': 'LS2', 'data': LS2_1_1},\n",
    "    'LS2_6_6': {'L': 6, 'H': 6, 'Factor': 'LS2', 'data': LS2_6_6},\n",
    "    'LS1_1_1_original': {'L': 1, 'H': 1, 'Factor': 'LS1', 'data': LS1_1_1_original},\n",
    "    'LS1_6_6_original': {'L': 6, 'H': 6, 'Factor': 'LS1', 'data': LS1_6_6_original},\n",
    "    'LS2_1_1_original': {'L': 1, 'H': 1, 'Factor': 'LS2', 'data': LS2_1_1_original},\n",
    "    'LS2_6_6_original': {'L': 6, 'H': 6, 'Factor': 'LS2', 'data': LS2_6_6_original}\n",
    "}\n",
    "\n",
    "# Define time periods, including the original period\n",
    "time_periods = [\n",
    "    ('all', datetime(2000, 1, 1), datetime(2023, 12, 31)),\n",
    "    ('sample', datetime(2000, 1, 1), datetime(2016, 12, 31)),\n",
    "    ('post', datetime(2017, 1, 1), datetime(2023, 12, 31)),\n",
    "    ('original', datetime(1963, 7, 1), datetime(2016, 12, 31))\n",
    "]\n",
    "\n",
    "# Compute statistics for each strategy and period\n",
    "results = []\n",
    "for period_name, start_date, end_date in time_periods:\n",
    "    for strategy_name, params in strategies.items():\n",
    "        L, H, factor, data = params['L'], params['H'], params['Factor'], params['data']\n",
    "        # Skip if the period is not applicable to the data\n",
    "        if period_name == 'original' and 'original' not in strategy_name:\n",
    "            continue\n",
    "        if period_name in ['all', 'sample', 'post'] and 'original' in strategy_name:\n",
    "            continue\n",
    "        \n",
    "        filtered_returns = filter_returns(data, start_date, end_date)\n",
    "        ann_return, ann_std, t_value, sharpe = compute_statistics(filtered_returns, H)\n",
    "        results.append({\n",
    "            'Factor': factor,\n",
    "            'Formation period': L,\n",
    "            'Holding period': H,\n",
    "            'Period': period_name,\n",
    "            'Annualized return': ann_return,\n",
    "            'Standard deviation': ann_std,\n",
    "            't-value': t_value,\n",
    "            'Sharpe ratio': sharpe\n",
    "        })\n",
    "\n",
    "# Create DataFrame and format the results\n",
    "table2_pa_results = pd.DataFrame(results)\n",
    "table2_pa_results['Period'] = pd.Categorical(table2_pa_results['Period'], categories=['all', 'sample', 'post', 'original'], ordered=True)\n",
    "table2_pa_results = table2_pa_results.sort_values(by=['Period', 'Factor', 'Formation period', 'Holding period'])\n",
    "table2_pa_results = table2_pa_results[['Period', 'Factor', 'Formation period', 'Holding period', 'Annualized return', 'Standard deviation', 't-value', 'Sharpe ratio']]\n",
    "table2_pa_results = table2_pa_results.round(2)\n",
    "\n",
    "# Print the results in the desired format\n",
    "print(\"Panel A: Annualized percent returns and standard deviations\")\n",
    "table2_pa_results"
   ]
  },
  {
   "cell_type": "markdown",
   "metadata": {},
   "source": [
    "### 3.2.2 Other Time Periods Testing"
   ]
  },
  {
   "cell_type": "code",
   "execution_count": 11,
   "metadata": {
    "ExecuteTime": {
     "end_time": "2025-03-17T07:35:08.920604Z",
     "start_time": "2025-03-17T07:35:08.787418Z"
    }
   },
   "outputs": [
    {
     "name": "stdout",
     "output_type": "stream",
     "text": [
      "Panel A: Annualized percent returns and standard deviations\n"
     ]
    },
    {
     "data": {
      "text/plain": "      Period Factor  Formation period  Holding period  Annualized return  \\\n0  2010-2019    LS1                 1               1               2.83   \n1  2010-2019    LS1                 6               6               0.98   \n2  2010-2019    LS2                 1               1               1.41   \n3  2010-2019    LS2                 6               6               2.04   \n4  1990-1999    LS1                 1               1              16.45   \n5  1990-1999    LS1                 6               6               9.89   \n6  1990-1999    LS2                 1               1              12.86   \n7  1990-1999    LS2                 6               6               6.87   \n\n   Standard deviation  t-value  Sharpe ratio  \n0               15.85     0.57          0.15  \n1                4.69     0.45          0.10  \n2               11.27     0.40          0.08  \n3                3.42     1.33          0.45  \n4               14.73     3.63          0.79  \n5                7.37     2.40          0.69  \n6               10.89     3.67          0.74  \n7                5.55     2.25          0.37  ",
      "text/html": "<div>\n<style scoped>\n    .dataframe tbody tr th:only-of-type {\n        vertical-align: middle;\n    }\n\n    .dataframe tbody tr th {\n        vertical-align: top;\n    }\n\n    .dataframe thead th {\n        text-align: right;\n    }\n</style>\n<table border=\"1\" class=\"dataframe\">\n  <thead>\n    <tr style=\"text-align: right;\">\n      <th></th>\n      <th>Period</th>\n      <th>Factor</th>\n      <th>Formation period</th>\n      <th>Holding period</th>\n      <th>Annualized return</th>\n      <th>Standard deviation</th>\n      <th>t-value</th>\n      <th>Sharpe ratio</th>\n    </tr>\n  </thead>\n  <tbody>\n    <tr>\n      <th>0</th>\n      <td>2010-2019</td>\n      <td>LS1</td>\n      <td>1</td>\n      <td>1</td>\n      <td>2.83</td>\n      <td>15.85</td>\n      <td>0.57</td>\n      <td>0.15</td>\n    </tr>\n    <tr>\n      <th>1</th>\n      <td>2010-2019</td>\n      <td>LS1</td>\n      <td>6</td>\n      <td>6</td>\n      <td>0.98</td>\n      <td>4.69</td>\n      <td>0.45</td>\n      <td>0.10</td>\n    </tr>\n    <tr>\n      <th>2</th>\n      <td>2010-2019</td>\n      <td>LS2</td>\n      <td>1</td>\n      <td>1</td>\n      <td>1.41</td>\n      <td>11.27</td>\n      <td>0.40</td>\n      <td>0.08</td>\n    </tr>\n    <tr>\n      <th>3</th>\n      <td>2010-2019</td>\n      <td>LS2</td>\n      <td>6</td>\n      <td>6</td>\n      <td>2.04</td>\n      <td>3.42</td>\n      <td>1.33</td>\n      <td>0.45</td>\n    </tr>\n    <tr>\n      <th>4</th>\n      <td>1990-1999</td>\n      <td>LS1</td>\n      <td>1</td>\n      <td>1</td>\n      <td>16.45</td>\n      <td>14.73</td>\n      <td>3.63</td>\n      <td>0.79</td>\n    </tr>\n    <tr>\n      <th>5</th>\n      <td>1990-1999</td>\n      <td>LS1</td>\n      <td>6</td>\n      <td>6</td>\n      <td>9.89</td>\n      <td>7.37</td>\n      <td>2.40</td>\n      <td>0.69</td>\n    </tr>\n    <tr>\n      <th>6</th>\n      <td>1990-1999</td>\n      <td>LS2</td>\n      <td>1</td>\n      <td>1</td>\n      <td>12.86</td>\n      <td>10.89</td>\n      <td>3.67</td>\n      <td>0.74</td>\n    </tr>\n    <tr>\n      <th>7</th>\n      <td>1990-1999</td>\n      <td>LS2</td>\n      <td>6</td>\n      <td>6</td>\n      <td>6.87</td>\n      <td>5.55</td>\n      <td>2.25</td>\n      <td>0.37</td>\n    </tr>\n  </tbody>\n</table>\n</div>"
     },
     "execution_count": 11,
     "metadata": {},
     "output_type": "execute_result"
    }
   ],
   "source": [
    "# Define the filter_returns function\n",
    "def filter_returns(returns, start_date, end_date):\n",
    "    return returns[(returns.index >= start_date) & (returns.index <= end_date)].dropna()\n",
    "\n",
    "# Define strategies with updated and original data\n",
    "strategies = {\n",
    "    'LS1_1_1': {'L': 1, 'H': 1, 'Factor': 'LS1', 'data': LS1_1_1},\n",
    "    'LS1_6_6': {'L': 6, 'H': 6, 'Factor': 'LS1', 'data': LS1_6_6},\n",
    "    'LS2_1_1': {'L': 1, 'H': 1, 'Factor': 'LS2', 'data': LS2_1_1},\n",
    "    'LS2_6_6': {'L': 6, 'H': 6, 'Factor': 'LS2', 'data': LS2_6_6},\n",
    "    'LS1_1_1_original': {'L': 1, 'H': 1, 'Factor': 'LS1', 'data': LS1_1_1_original},\n",
    "    'LS1_6_6_original': {'L': 6, 'H': 6, 'Factor': 'LS1', 'data': LS1_6_6_original},\n",
    "    'LS2_1_1_original': {'L': 1, 'H': 1, 'Factor': 'LS2', 'data': LS2_1_1_original},\n",
    "    'LS2_6_6_original': {'L': 6, 'H': 6, 'Factor': 'LS2', 'data': LS2_6_6_original}\n",
    "}\n",
    "\n",
    "# Define time periods, including the original period\n",
    "time_periods = [\n",
    "    ('2010-2019', datetime(2010, 1, 1), datetime(2019, 12, 31)),\n",
    "    ('1990-1999', datetime(1990, 1, 1), datetime(1999, 12, 31))\n",
    "]\n",
    "\n",
    "# Compute statistics for each strategy and period\n",
    "results = []\n",
    "for period_name, start_date, end_date in time_periods:\n",
    "    for strategy_name, params in strategies.items():\n",
    "        L, H, factor, data = params['L'], params['H'], params['Factor'], params['data']\n",
    "        # Skip if the period is not applicable to the data\n",
    "        if period_name == '1990-1999' and 'original' not in strategy_name:\n",
    "            continue\n",
    "        if period_name == '2010-2019' and 'original' in strategy_name:\n",
    "            continue\n",
    "        \n",
    "        filtered_returns = filter_returns(data, start_date, end_date)\n",
    "        ann_return, ann_std, t_value, sharpe = compute_statistics(filtered_returns, H)\n",
    "        results.append({\n",
    "            'Factor': factor,\n",
    "            'Formation period': L,\n",
    "            'Holding period': H,\n",
    "            'Period': period_name,\n",
    "            'Annualized return': ann_return,\n",
    "            'Standard deviation': ann_std,\n",
    "            't-value': t_value,\n",
    "            'Sharpe ratio': sharpe\n",
    "        })\n",
    "\n",
    "# Create DataFrame and format the results\n",
    "table2_pa_results = pd.DataFrame(results)\n",
    "table2_pa_results['Period'] = pd.Categorical(table2_pa_results['Period'], categories=['2010-2019', '1990-1999'], ordered=True)\n",
    "table2_pa_results = table2_pa_results.sort_values(by=['Period', 'Factor', 'Formation period', 'Holding period'])\n",
    "table2_pa_results = table2_pa_results[['Period', 'Factor', 'Formation period', 'Holding period', 'Annualized return', 'Standard deviation', 't-value', 'Sharpe ratio']]\n",
    "table2_pa_results = table2_pa_results.round(2)\n",
    "\n",
    "# Print the results in the desired format\n",
    "print(\"Panel A: Annualized percent returns and standard deviations\")\n",
    "table2_pa_results"
   ]
  },
  {
   "cell_type": "markdown",
   "metadata": {},
   "source": [
    "### 3.2.3 Unified Factors Testing\n",
    "Only use the 50 factors for both before and after 2000."
   ]
  },
  {
   "cell_type": "code",
   "execution_count": 12,
   "metadata": {
    "ExecuteTime": {
     "end_time": "2025-03-17T07:35:56.998010Z",
     "start_time": "2025-03-17T07:35:35.061179Z"
    }
   },
   "outputs": [
    {
     "name": "stdout",
     "output_type": "stream",
     "text": [
      "Panel A: Annualized percent returns and standard deviations\n"
     ]
    },
    {
     "data": {
      "text/plain": "      Period Factor  Formation period  Holding period  Annualized return  \\\n0        all    LS1                 1               1               4.64   \n1        all    LS1                 6               6               0.91   \n2        all    LS2                 1               1               4.50   \n3        all    LS2                 6               6               1.20   \n4     sample    LS1                 1               1               3.86   \n5     sample    LS1                 6               6               0.88   \n6     sample    LS2                 1               1               3.42   \n7     sample    LS2                 6               6               0.79   \n8       post    LS1                 1               1               6.52   \n9       post    LS1                 6               6               1.00   \n10      post    LS2                 1               1               7.13   \n11      post    LS2                 6               6               2.27   \n12  original    LS1                 1               1              11.43   \n13  original    LS1                 6               6               5.54   \n14  original    LS2                 1               1               9.63   \n15  original    LS2                 6               6               4.26   \n\n    Standard deviation  t-value  Sharpe ratio  \n0                25.00     0.96          0.12  \n1                 7.91     0.34         -0.08  \n2                19.43     1.20          0.15  \n3                 6.35     0.55         -0.06  \n4                26.62     0.64          0.08  \n5                 8.37     0.25         -0.09  \n6                20.80     0.73          0.09  \n7                 6.74     0.28         -0.12  \n8                20.68     0.86          0.24  \n9                 6.63     0.28         -0.06  \n10               15.67     1.21          0.35  \n11                5.26     0.78          0.17  \n12               20.04     4.39          0.34  \n13                7.31     3.25          0.11  \n14               15.43     4.77          0.32  \n15                5.70     3.17         -0.08  ",
      "text/html": "<div>\n<style scoped>\n    .dataframe tbody tr th:only-of-type {\n        vertical-align: middle;\n    }\n\n    .dataframe tbody tr th {\n        vertical-align: top;\n    }\n\n    .dataframe thead th {\n        text-align: right;\n    }\n</style>\n<table border=\"1\" class=\"dataframe\">\n  <thead>\n    <tr style=\"text-align: right;\">\n      <th></th>\n      <th>Period</th>\n      <th>Factor</th>\n      <th>Formation period</th>\n      <th>Holding period</th>\n      <th>Annualized return</th>\n      <th>Standard deviation</th>\n      <th>t-value</th>\n      <th>Sharpe ratio</th>\n    </tr>\n  </thead>\n  <tbody>\n    <tr>\n      <th>0</th>\n      <td>all</td>\n      <td>LS1</td>\n      <td>1</td>\n      <td>1</td>\n      <td>4.64</td>\n      <td>25.00</td>\n      <td>0.96</td>\n      <td>0.12</td>\n    </tr>\n    <tr>\n      <th>1</th>\n      <td>all</td>\n      <td>LS1</td>\n      <td>6</td>\n      <td>6</td>\n      <td>0.91</td>\n      <td>7.91</td>\n      <td>0.34</td>\n      <td>-0.08</td>\n    </tr>\n    <tr>\n      <th>2</th>\n      <td>all</td>\n      <td>LS2</td>\n      <td>1</td>\n      <td>1</td>\n      <td>4.50</td>\n      <td>19.43</td>\n      <td>1.20</td>\n      <td>0.15</td>\n    </tr>\n    <tr>\n      <th>3</th>\n      <td>all</td>\n      <td>LS2</td>\n      <td>6</td>\n      <td>6</td>\n      <td>1.20</td>\n      <td>6.35</td>\n      <td>0.55</td>\n      <td>-0.06</td>\n    </tr>\n    <tr>\n      <th>4</th>\n      <td>sample</td>\n      <td>LS1</td>\n      <td>1</td>\n      <td>1</td>\n      <td>3.86</td>\n      <td>26.62</td>\n      <td>0.64</td>\n      <td>0.08</td>\n    </tr>\n    <tr>\n      <th>5</th>\n      <td>sample</td>\n      <td>LS1</td>\n      <td>6</td>\n      <td>6</td>\n      <td>0.88</td>\n      <td>8.37</td>\n      <td>0.25</td>\n      <td>-0.09</td>\n    </tr>\n    <tr>\n      <th>6</th>\n      <td>sample</td>\n      <td>LS2</td>\n      <td>1</td>\n      <td>1</td>\n      <td>3.42</td>\n      <td>20.80</td>\n      <td>0.73</td>\n      <td>0.09</td>\n    </tr>\n    <tr>\n      <th>7</th>\n      <td>sample</td>\n      <td>LS2</td>\n      <td>6</td>\n      <td>6</td>\n      <td>0.79</td>\n      <td>6.74</td>\n      <td>0.28</td>\n      <td>-0.12</td>\n    </tr>\n    <tr>\n      <th>8</th>\n      <td>post</td>\n      <td>LS1</td>\n      <td>1</td>\n      <td>1</td>\n      <td>6.52</td>\n      <td>20.68</td>\n      <td>0.86</td>\n      <td>0.24</td>\n    </tr>\n    <tr>\n      <th>9</th>\n      <td>post</td>\n      <td>LS1</td>\n      <td>6</td>\n      <td>6</td>\n      <td>1.00</td>\n      <td>6.63</td>\n      <td>0.28</td>\n      <td>-0.06</td>\n    </tr>\n    <tr>\n      <th>10</th>\n      <td>post</td>\n      <td>LS2</td>\n      <td>1</td>\n      <td>1</td>\n      <td>7.13</td>\n      <td>15.67</td>\n      <td>1.21</td>\n      <td>0.35</td>\n    </tr>\n    <tr>\n      <th>11</th>\n      <td>post</td>\n      <td>LS2</td>\n      <td>6</td>\n      <td>6</td>\n      <td>2.27</td>\n      <td>5.26</td>\n      <td>0.78</td>\n      <td>0.17</td>\n    </tr>\n    <tr>\n      <th>12</th>\n      <td>original</td>\n      <td>LS1</td>\n      <td>1</td>\n      <td>1</td>\n      <td>11.43</td>\n      <td>20.04</td>\n      <td>4.39</td>\n      <td>0.34</td>\n    </tr>\n    <tr>\n      <th>13</th>\n      <td>original</td>\n      <td>LS1</td>\n      <td>6</td>\n      <td>6</td>\n      <td>5.54</td>\n      <td>7.31</td>\n      <td>3.25</td>\n      <td>0.11</td>\n    </tr>\n    <tr>\n      <th>14</th>\n      <td>original</td>\n      <td>LS2</td>\n      <td>1</td>\n      <td>1</td>\n      <td>9.63</td>\n      <td>15.43</td>\n      <td>4.77</td>\n      <td>0.32</td>\n    </tr>\n    <tr>\n      <th>15</th>\n      <td>original</td>\n      <td>LS2</td>\n      <td>6</td>\n      <td>6</td>\n      <td>4.26</td>\n      <td>5.70</td>\n      <td>3.17</td>\n      <td>-0.08</td>\n    </tr>\n  </tbody>\n</table>\n</div>"
     },
     "execution_count": 12,
     "metadata": {},
     "output_type": "execute_result"
    }
   ],
   "source": [
    "unique_50_factors = table2_data_monthly_original['predictor'].unique()\n",
    "\n",
    "table2_data_monthly = table2_data_monthly[table2_data_monthly['predictor'].isin(unique_50_factors)]\n",
    "table2_data_monthly_original = table2_data_monthly_original\n",
    "\n",
    "# get the data for table2 Panel A\n",
    "# Pivot the data to have each predictor's portLS as a column\n",
    "table2_LS1 = table2_data_monthly.pivot(columns='predictor', values='portLS') # long top 20%, short bottom 20%\n",
    "table2_LS2 = table2_data_monthly.pivot(columns='predictor', values='portLS2') # Long top 40%, short bottom 40%\n",
    "\n",
    "# Pivot the data to have each predictor's portLS as a column for the original data\n",
    "table2_LS1_original = table2_data_monthly_original.pivot(columns='predictor', values='portLS') # long top 20%, short bottom 20%\n",
    "table2_LS2_original = table2_data_monthly_original.pivot(columns='predictor', values='portLS2') # Long top 40%, short bottom 40%\n",
    "\n",
    "# Compute Strategies\n",
    "N = len(table2_data_monthly['predictor'].unique())  # Fixed number of factors\n",
    "n = max(round(3/20 * N), 1)  # n = 9\n",
    "\n",
    "# Long TOP 20% and Short BOTTOM 20% of factors for the update data\n",
    "# L=1, H=1\n",
    "LS1_1_1 = factor_momentum_strategy(table2_LS1, L=1, H=1, n_long_short=n)\n",
    "# L=6, H=6\n",
    "LS1_6_6 = factor_momentum_strategy(table2_LS1, L=6, H=6, n_long_short=n)\n",
    "\n",
    "# Long TOP 40% and Short BOTTOM 40% of factors\n",
    "# L=1, H=1\n",
    "LS2_1_1 = factor_momentum_strategy(table2_LS2, L=1, H=1, n_long_short=n)\n",
    "# L=6, H=6\n",
    "LS2_6_6 = factor_momentum_strategy(table2_LS2, L=6, H=6, n_long_short=n)\n",
    "\n",
    "# Long TOP 20% and Short BOTTOM 20% of factors for the original data\n",
    "# L=1, H=1\n",
    "LS1_1_1_original = factor_momentum_strategy(table2_LS1_original, L=1, H=1, n_long_short=n)\n",
    "# L=6, H=6\n",
    "LS1_6_6_original = factor_momentum_strategy(table2_LS1_original, L=6, H=6, n_long_short=n)\n",
    "\n",
    "# Long TOP 40% and Short BOTTOM 40% of factors for the original data\n",
    "# L=1, H=1\n",
    "LS2_1_1_original = factor_momentum_strategy(table2_LS2_original, L=1, H=1, n_long_short=n)\n",
    "# L=6, H=6\n",
    "LS2_6_6_original = factor_momentum_strategy(table2_LS2_original, L=6, H=6, n_long_short=n)\n",
    "\n",
    "\n",
    "\n",
    "# Define the filter_returns function\n",
    "def filter_returns(returns, start_date, end_date):\n",
    "    return returns[(returns.index >= start_date) & (returns.index <= end_date)].dropna()\n",
    "\n",
    "# Define strategies with updated and original data\n",
    "strategies = {\n",
    "    'LS1_1_1': {'L': 1, 'H': 1, 'Factor': 'LS1', 'data': LS1_1_1},\n",
    "    'LS1_6_6': {'L': 6, 'H': 6, 'Factor': 'LS1', 'data': LS1_6_6},\n",
    "    'LS2_1_1': {'L': 1, 'H': 1, 'Factor': 'LS2', 'data': LS2_1_1},\n",
    "    'LS2_6_6': {'L': 6, 'H': 6, 'Factor': 'LS2', 'data': LS2_6_6},\n",
    "    'LS1_1_1_original': {'L': 1, 'H': 1, 'Factor': 'LS1', 'data': LS1_1_1_original},\n",
    "    'LS1_6_6_original': {'L': 6, 'H': 6, 'Factor': 'LS1', 'data': LS1_6_6_original},\n",
    "    'LS2_1_1_original': {'L': 1, 'H': 1, 'Factor': 'LS2', 'data': LS2_1_1_original},\n",
    "    'LS2_6_6_original': {'L': 6, 'H': 6, 'Factor': 'LS2', 'data': LS2_6_6_original}\n",
    "}\n",
    "\n",
    "# Define time periods, including the original period\n",
    "time_periods = [\n",
    "    ('all', datetime(2000, 1, 1), datetime(2023, 12, 31)),\n",
    "    ('sample', datetime(2000, 1, 1), datetime(2016, 12, 31)),\n",
    "    ('post', datetime(2017, 1, 1), datetime(2023, 12, 31)),\n",
    "    ('original', datetime(1963, 7, 1), datetime(2016, 12, 31))\n",
    "]\n",
    "\n",
    "# Compute statistics for each strategy and period\n",
    "results = []\n",
    "for period_name, start_date, end_date in time_periods:\n",
    "    for strategy_name, params in strategies.items():\n",
    "        L, H, factor, data = params['L'], params['H'], params['Factor'], params['data']\n",
    "        # Skip if the period is not applicable to the data\n",
    "        if period_name == 'original' and 'original' not in strategy_name:\n",
    "            continue\n",
    "        if period_name in ['all', 'sample', 'post'] and 'original' in strategy_name:\n",
    "            continue\n",
    "        \n",
    "        filtered_returns = filter_returns(data, start_date, end_date)\n",
    "        ann_return, ann_std, t_value, sharpe = compute_statistics(filtered_returns, H)\n",
    "        results.append({\n",
    "            'Factor': factor,\n",
    "            'Formation period': L,\n",
    "            'Holding period': H,\n",
    "            'Period': period_name,\n",
    "            'Annualized return': ann_return,\n",
    "            'Standard deviation': ann_std,\n",
    "            't-value': t_value,\n",
    "            'Sharpe ratio': sharpe\n",
    "        })\n",
    "\n",
    "# Create DataFrame and format the results\n",
    "table2_pa_results = pd.DataFrame(results)\n",
    "table2_pa_results['Period'] = pd.Categorical(table2_pa_results['Period'], categories=['all', 'sample', 'post', 'original'], ordered=True)\n",
    "table2_pa_results = table2_pa_results.sort_values(by=['Period', 'Factor', 'Formation period', 'Holding period'])\n",
    "table2_pa_results = table2_pa_results[['Period', 'Factor', 'Formation period', 'Holding period', 'Annualized return', 'Standard deviation', 't-value', 'Sharpe ratio']]\n",
    "table2_pa_results = table2_pa_results.round(2)\n",
    "\n",
    "# Print the results in the desired format\n",
    "print(\"Panel A: Annualized percent returns and standard deviations\")\n",
    "table2_pa_results"
   ]
  },
  {
   "cell_type": "markdown",
   "metadata": {},
   "source": [
    "## 3.3 Panel B"
   ]
  },
  {
   "cell_type": "code",
   "execution_count": 13,
   "metadata": {
    "ExecuteTime": {
     "end_time": "2025-03-17T07:36:24.550882Z",
     "start_time": "2025-03-17T07:36:24.480180Z"
    }
   },
   "outputs": [],
   "source": [
    "# Panel B\n",
    "start_date = '1963-07-01'\n",
    "end_date = '2023-12-31'\n",
    "# combine the FF5 and UMD data\n",
    "table2_ff5 = table2_ff5[(table2_ff5['date'] >= start_date) & (table2_ff5['date'] <= end_date)]\n",
    "table2_UMD = table2_UMD[(table2_UMD['date'] >= start_date) & (table2_UMD['date'] <= end_date)]\n",
    "table2_FF5_UMD = pd.merge(table2_ff5, table2_UMD, on='date', how='inner')\n",
    "table2_FF5_UMD.set_index('date', inplace=True)\n",
    "table2_FF5_UMD = table2_FF5_UMD[['Mkt-RF', 'SMB', 'HML', 'RMW', 'CMA', 'RF','UMD']] / 100\n",
    "\n",
    "# combine the LS data\n",
    "table2_LS_11 = pd.concat([LS1_1_1, LS2_1_1], axis=1)\n",
    "table2_LS_11.columns = ['LS1_1_1', 'LS2_1_1']\n",
    "table2_LS_66 = pd.concat([LS1_6_6, LS2_6_6], axis=1)\n",
    "table2_LS_66.columns = ['LS1_6_6', 'LS2_6_6']\n",
    "table2_LS_11.dropna(inplace=True)\n",
    "table2_LS_66.dropna(inplace=True)\n",
    "# merge the LS data with FF5 and UMD data\n",
    "table2_FF5_UMD_LS_11 = pd.merge(table2_FF5_UMD, table2_LS_11, left_index=True, right_index=True, how='inner')\n",
    "table2_FF5_UMD_LS_66 = pd.merge(table2_FF5_UMD, table2_LS_66, left_index=True, right_index=True, how='inner')\n",
    "# Define the dependent variables (strategy returns from Panel A)\n",
    "dependent_vars = {\n",
    "   'LS1_1_1': table2_FF5_UMD_LS_11 ['LS1_1_1'],  #  L=1, H=1, Long top 20%, short bottom 20%\n",
    "   'LS1_6_6': table2_FF5_UMD_LS_66['LS1_6_6'],  # L=6, H=6, Long top 20%, short bottom 20%\n",
    "   'LS2_1_1': table2_FF5_UMD_LS_11 ['LS2_1_1'],  #  L=1, H=1, Long top 40%, short bottom 40%\n",
    "   'LS2_6_6': table2_FF5_UMD_LS_66['LS2_6_6']   #  L=6, H=6, Long top 40%, short bottom 40%\n",
    "}\n",
    "\n",
    "# Define the independent variables (factors, excluding RF as per factor model convention)\n",
    "factors = ['Mkt-RF', 'SMB', 'HML', 'RMW', 'CMA', 'UMD']\n",
    "\n",
    "# Function to run spanning regression\n",
    "def run_spanning_regression(dep_var, ind_vars, label):\n",
    "    X = sm.add_constant(ind_vars)\n",
    "    model = sm.OLS(dep_var, X).fit()  \n",
    "    print(f\"\\nRegression Results for {label}:\")\n",
    "    print(model.summary())\n",
    "    return model.params['const'], model.tvalues['const']"
   ]
  },
  {
   "cell_type": "code",
   "execution_count": 14,
   "metadata": {
    "ExecuteTime": {
     "end_time": "2025-03-17T07:36:25.485858Z",
     "start_time": "2025-03-17T07:36:25.380123Z"
    }
   },
   "outputs": [],
   "source": [
    "# Define the dependent variables (strategy returns from Panel A)\n",
    "dependent_vars = {\n",
    "   'LS1_1_1': table2_FF5_UMD_LS_11 ['LS1_1_1'],  #  L=1, H=1, Long top 20%, short bottom 20%\n",
    "   'LS1_6_6': table2_FF5_UMD_LS_66['LS1_6_6'],  # L=6, H=6, Long top 20%, short bottom 20%\n",
    "   'LS2_1_1': table2_FF5_UMD_LS_11 ['LS2_1_1'],  #  L=1, H=1, Long top 40%, short bottom 40%\n",
    "   'LS2_6_6': table2_FF5_UMD_LS_66['LS2_6_6']   #  L=6, H=6, Long top 40%, short bottom 40%\n",
    "}\n",
    "\n",
    "# Define the independent variables (factors, excluding RF as per factor model convention)\n",
    "factors = ['Mkt-RF', 'SMB', 'HML', 'RMW', 'CMA', 'UMD']\n",
    "\n",
    "# Function to run spanning regression\n",
    "def run_spanning_regression(dep_var, ind_vars, label):\n",
    "    X = sm.add_constant(ind_vars)\n",
    "    model = sm.OLS(dep_var, X).fit()  \n",
    "    print(f\"\\nRegression Results for {label}:\")\n",
    "    print(model.summary())\n",
    "    return model.params['const'], model.tvalues['const']"
   ]
  },
  {
   "cell_type": "code",
   "execution_count": 15,
   "metadata": {
    "ExecuteTime": {
     "end_time": "2025-03-17T07:36:26.253795Z",
     "start_time": "2025-03-17T07:36:26.142201Z"
    }
   },
   "outputs": [
    {
     "name": "stdout",
     "output_type": "stream",
     "text": [
      "\n",
      "Regression Results for Long-Short 20%, L=1, H=1:\n",
      "                            OLS Regression Results                            \n",
      "==============================================================================\n",
      "Dep. Variable:                LS1_1_1   R-squared:                       0.106\n",
      "Model:                            OLS   Adj. R-squared:                  0.087\n",
      "Method:                 Least Squares   F-statistic:                     5.750\n",
      "Date:                Mon, 17 Mar 2025   Prob (F-statistic):           1.13e-05\n",
      "Time:                        15:36:26   Log-Likelihood:                 378.44\n",
      "No. Observations:                 299   AIC:                            -742.9\n",
      "Df Residuals:                     292   BIC:                            -717.0\n",
      "Df Model:                           6                                         \n",
      "Covariance Type:            nonrobust                                         \n",
      "==============================================================================\n",
      "                 coef    std err          t      P>|t|      [0.025      0.975]\n",
      "------------------------------------------------------------------------------\n",
      "const          0.0030      0.004      0.719      0.473      -0.005       0.011\n",
      "Mkt-RF        -0.2514      0.103     -2.433      0.016      -0.455      -0.048\n",
      "SMB            0.0840      0.150      0.560      0.576      -0.211       0.380\n",
      "HML           -0.4146      0.169     -2.457      0.015      -0.747      -0.083\n",
      "RMW            0.1350      0.179      0.754      0.451      -0.217       0.487\n",
      "CMA            1.0374      0.242      4.280      0.000       0.560       1.514\n",
      "UMD           -0.1795      0.086     -2.088      0.038      -0.349      -0.010\n",
      "==============================================================================\n",
      "Omnibus:                       30.597   Durbin-Watson:                   2.218\n",
      "Prob(Omnibus):                  0.000   Jarque-Bera (JB):              147.317\n",
      "Skew:                          -0.135   Prob(JB):                     1.02e-32\n",
      "Kurtosis:                       6.428   Cond. No.                         69.6\n",
      "==============================================================================\n",
      "\n",
      "Notes:\n",
      "[1] Standard Errors assume that the covariance matrix of the errors is correctly specified.\n"
     ]
    }
   ],
   "source": [
    "# Run regressions for each strategy ( FF5 + UMD only)\n",
    "results = {}\n",
    "\n",
    "# 1. Long-Short 20% (L=1, H=1)\n",
    "ind_vars_1 = table2_FF5_UMD_LS_11[factors]\n",
    "alpha_1, t_stat_1 = run_spanning_regression(dependent_vars['LS1_1_1'], ind_vars_1, 'Long-Short 20%, L=1, H=1')\n",
    "results['LS1_1_1'] = (alpha_1, t_stat_1)  # Convert to percent"
   ]
  },
  {
   "cell_type": "code",
   "execution_count": 16,
   "metadata": {
    "ExecuteTime": {
     "end_time": "2025-03-17T07:36:32.875584Z",
     "start_time": "2025-03-17T07:36:32.770186Z"
    }
   },
   "outputs": [
    {
     "name": "stdout",
     "output_type": "stream",
     "text": [
      "\n",
      "Regression Results for Long-Short 20%, L=6, H=6:\n",
      "                            OLS Regression Results                            \n",
      "==============================================================================\n",
      "Dep. Variable:                LS1_6_6   R-squared:                       0.075\n",
      "Model:                            OLS   Adj. R-squared:                  0.055\n",
      "Method:                 Least Squares   F-statistic:                     3.757\n",
      "Date:                Mon, 17 Mar 2025   Prob (F-statistic):            0.00130\n",
      "Time:                        15:36:32   Log-Likelihood:                 680.70\n",
      "No. Observations:                 284   AIC:                            -1347.\n",
      "Df Residuals:                     277   BIC:                            -1322.\n",
      "Df Model:                           6                                         \n",
      "Covariance Type:            nonrobust                                         \n",
      "==============================================================================\n",
      "                 coef    std err          t      P>|t|      [0.025      0.975]\n",
      "------------------------------------------------------------------------------\n",
      "const          0.0005      0.001      0.384      0.701      -0.002       0.003\n",
      "Mkt-RF        -0.0215      0.034     -0.631      0.528      -0.089       0.046\n",
      "SMB            0.0477      0.052      0.922      0.357      -0.054       0.150\n",
      "HML            0.0900      0.056      1.622      0.106      -0.019       0.199\n",
      "RMW           -0.0252      0.060     -0.421      0.674      -0.143       0.092\n",
      "CMA            0.0682      0.080      0.851      0.395      -0.090       0.226\n",
      "UMD            0.0845      0.028      2.969      0.003       0.028       0.141\n",
      "==============================================================================\n",
      "Omnibus:                       50.226   Durbin-Watson:                   0.826\n",
      "Prob(Omnibus):                  0.000   Jarque-Bera (JB):              141.974\n",
      "Skew:                          -0.782   Prob(JB):                     1.48e-31\n",
      "Kurtosis:                       6.090   Cond. No.                         69.4\n",
      "==============================================================================\n",
      "\n",
      "Notes:\n",
      "[1] Standard Errors assume that the covariance matrix of the errors is correctly specified.\n"
     ]
    }
   ],
   "source": [
    "# 2. Long-Short 20% (L=6, H=6)\n",
    "ind_vars_2 = table2_FF5_UMD_LS_66[factors]\n",
    "alpha_2, t_stat_2 = run_spanning_regression(dependent_vars['LS1_6_6'], ind_vars_2, 'Long-Short 20%, L=6, H=6')\n",
    "results['LS1_6_6'] = (alpha_2, t_stat_2)"
   ]
  },
  {
   "cell_type": "code",
   "execution_count": 17,
   "metadata": {
    "ExecuteTime": {
     "end_time": "2025-03-17T07:36:34.117609Z",
     "start_time": "2025-03-17T07:36:33.981152Z"
    }
   },
   "outputs": [
    {
     "name": "stdout",
     "output_type": "stream",
     "text": [
      "\n",
      "Regression Results for Long-Short 40%, L=1, H=1:\n",
      "                            OLS Regression Results                            \n",
      "==============================================================================\n",
      "Dep. Variable:                LS2_1_1   R-squared:                       0.102\n",
      "Model:                            OLS   Adj. R-squared:                  0.084\n",
      "Method:                 Least Squares   F-statistic:                     5.540\n",
      "Date:                Mon, 17 Mar 2025   Prob (F-statistic):           1.87e-05\n",
      "Time:                        15:36:33   Log-Likelihood:                 453.97\n",
      "No. Observations:                 299   AIC:                            -893.9\n",
      "Df Residuals:                     292   BIC:                            -868.0\n",
      "Df Model:                           6                                         \n",
      "Covariance Type:            nonrobust                                         \n",
      "==============================================================================\n",
      "                 coef    std err          t      P>|t|      [0.025      0.975]\n",
      "------------------------------------------------------------------------------\n",
      "const          0.0032      0.003      0.971      0.333      -0.003       0.010\n",
      "Mkt-RF        -0.1833      0.080     -2.283      0.023      -0.341      -0.025\n",
      "SMB            0.0958      0.117      0.822      0.412      -0.134       0.325\n",
      "HML           -0.2772      0.131     -2.115      0.035      -0.535      -0.019\n",
      "RMW            0.1277      0.139      0.918      0.360      -0.146       0.401\n",
      "CMA            0.7733      0.188      4.108      0.000       0.403       1.144\n",
      "UMD           -0.1580      0.067     -2.366      0.019      -0.289      -0.027\n",
      "==============================================================================\n",
      "Omnibus:                       49.508   Durbin-Watson:                   2.211\n",
      "Prob(Omnibus):                  0.000   Jarque-Bera (JB):              457.978\n",
      "Skew:                          -0.229   Prob(JB):                    3.56e-100\n",
      "Kurtosis:                       9.046   Cond. No.                         69.6\n",
      "==============================================================================\n",
      "\n",
      "Notes:\n",
      "[1] Standard Errors assume that the covariance matrix of the errors is correctly specified.\n"
     ]
    }
   ],
   "source": [
    "# 3. Long-Short 40% (L=1, H=1)\n",
    "ind_vars_3 = table2_FF5_UMD_LS_11[factors]\n",
    "alpha_3, t_stat_3 = run_spanning_regression(dependent_vars['LS2_1_1'], ind_vars_3, 'Long-Short 40%, L=1, H=1')\n",
    "results['LS2_1_1'] = (alpha_3, t_stat_3)"
   ]
  },
  {
   "cell_type": "code",
   "execution_count": 18,
   "metadata": {
    "ExecuteTime": {
     "end_time": "2025-03-17T07:36:35.932587Z",
     "start_time": "2025-03-17T07:36:35.771748Z"
    }
   },
   "outputs": [
    {
     "name": "stdout",
     "output_type": "stream",
     "text": [
      "\n",
      "Regression Results for Long-Short 40%, L=6, H=6:\n",
      "                            OLS Regression Results                            \n",
      "==============================================================================\n",
      "Dep. Variable:                LS2_6_6   R-squared:                       0.059\n",
      "Model:                            OLS   Adj. R-squared:                  0.038\n",
      "Method:                 Least Squares   F-statistic:                     2.884\n",
      "Date:                Mon, 17 Mar 2025   Prob (F-statistic):            0.00963\n",
      "Time:                        15:36:35   Log-Likelihood:                 739.34\n",
      "No. Observations:                 284   AIC:                            -1465.\n",
      "Df Residuals:                     277   BIC:                            -1439.\n",
      "Df Model:                           6                                         \n",
      "Covariance Type:            nonrobust                                         \n",
      "==============================================================================\n",
      "                 coef    std err          t      P>|t|      [0.025      0.975]\n",
      "------------------------------------------------------------------------------\n",
      "const          0.0008      0.001      0.690      0.491      -0.001       0.003\n",
      "Mkt-RF        -0.0055      0.028     -0.199      0.842      -0.060       0.049\n",
      "SMB            0.0344      0.042      0.818      0.414      -0.048       0.117\n",
      "HML            0.0538      0.045      1.192      0.234      -0.035       0.143\n",
      "RMW           -0.0033      0.049     -0.068      0.946      -0.099       0.092\n",
      "CMA            0.0436      0.065      0.668      0.505      -0.085       0.172\n",
      "UMD            0.0694      0.023      2.997      0.003       0.024       0.115\n",
      "==============================================================================\n",
      "Omnibus:                       65.994   Durbin-Watson:                   0.770\n",
      "Prob(Omnibus):                  0.000   Jarque-Bera (JB):              220.964\n",
      "Skew:                          -0.972   Prob(JB):                     1.04e-48\n",
      "Kurtosis:                       6.860   Cond. No.                         69.4\n",
      "==============================================================================\n",
      "\n",
      "Notes:\n",
      "[1] Standard Errors assume that the covariance matrix of the errors is correctly specified.\n"
     ]
    }
   ],
   "source": [
    "# 4. Long-Short 40% (L=6, H=6)\n",
    "ind_vars_4 = table2_FF5_UMD_LS_66[factors]\n",
    "alpha_4, t_stat_4 = run_spanning_regression(dependent_vars['LS2_6_6'], ind_vars_4, 'Long-Short 40%, L=6, H=6')\n",
    "results['LS2_6_6'] = (alpha_4, t_stat_4)"
   ]
  },
  {
   "cell_type": "markdown",
   "metadata": {},
   "source": [
    "# 4. P&L Curve"
   ]
  },
  {
   "cell_type": "code",
   "execution_count": 23,
   "metadata": {
    "ExecuteTime": {
     "end_time": "2025-03-17T07:43:17.380900Z",
     "start_time": "2025-03-17T07:43:17.181821Z"
    }
   },
   "outputs": [
    {
     "data": {
      "text/plain": "              sprtrn\ndate                \n1963-07-01 -0.003460\n1963-08-01  0.048749\n1963-09-01 -0.011034\n1963-10-01  0.032218\n1963-11-01 -0.010539\n...              ...\n2023-08-01 -0.017716\n2023-09-01 -0.048719\n2023-10-01 -0.021980\n2023-11-01  0.089179\n2023-12-01  0.044229\n\n[726 rows x 1 columns]",
      "text/html": "<div>\n<style scoped>\n    .dataframe tbody tr th:only-of-type {\n        vertical-align: middle;\n    }\n\n    .dataframe tbody tr th {\n        vertical-align: top;\n    }\n\n    .dataframe thead th {\n        text-align: right;\n    }\n</style>\n<table border=\"1\" class=\"dataframe\">\n  <thead>\n    <tr style=\"text-align: right;\">\n      <th></th>\n      <th>sprtrn</th>\n    </tr>\n    <tr>\n      <th>date</th>\n      <th></th>\n    </tr>\n  </thead>\n  <tbody>\n    <tr>\n      <th>1963-07-01</th>\n      <td>-0.003460</td>\n    </tr>\n    <tr>\n      <th>1963-08-01</th>\n      <td>0.048749</td>\n    </tr>\n    <tr>\n      <th>1963-09-01</th>\n      <td>-0.011034</td>\n    </tr>\n    <tr>\n      <th>1963-10-01</th>\n      <td>0.032218</td>\n    </tr>\n    <tr>\n      <th>1963-11-01</th>\n      <td>-0.010539</td>\n    </tr>\n    <tr>\n      <th>...</th>\n      <td>...</td>\n    </tr>\n    <tr>\n      <th>2023-08-01</th>\n      <td>-0.017716</td>\n    </tr>\n    <tr>\n      <th>2023-09-01</th>\n      <td>-0.048719</td>\n    </tr>\n    <tr>\n      <th>2023-10-01</th>\n      <td>-0.021980</td>\n    </tr>\n    <tr>\n      <th>2023-11-01</th>\n      <td>0.089179</td>\n    </tr>\n    <tr>\n      <th>2023-12-01</th>\n      <td>0.044229</td>\n    </tr>\n  </tbody>\n</table>\n<p>726 rows × 1 columns</p>\n</div>"
     },
     "execution_count": 23,
     "metadata": {},
     "output_type": "execute_result"
    }
   ],
   "source": [
    "sp_500 = pd.read_csv(\"data/SP500 monthly.csv\")\n",
    "sp_500['caldt'] = pd.to_datetime(sp_500['caldt'], format=\"%d/%m/%Y\") - pd.offsets.MonthBegin(1)\n",
    "\n",
    "sp_500.set_index(\"caldt\", inplace=True)\n",
    "sp_500.index.name = \"date\"\n",
    "sp_500"
   ]
  },
  {
   "cell_type": "code",
   "execution_count": 24,
   "metadata": {
    "ExecuteTime": {
     "end_time": "2025-03-17T07:43:25.576453Z",
     "start_time": "2025-03-17T07:43:22.481509Z"
    }
   },
   "outputs": [
    {
     "data": {
      "text/plain": "<Figure size 1000x600 with 1 Axes>",
      "image/png": "[encoded data removed]"
     },
     "metadata": {},
     "output_type": "display_data"
    }
   ],
   "source": [
    "# the data period is from 2000-2023, use the 62 factors data\n",
    "# the factor momentum is the strategy return we got in Table 1 Panel A, with L=1, H=1\n",
    "# the stock momentum is the UMD factor in FF5_UMD data\n",
    "# the market factor is the Mkt-RF in FF5_UMD data\n",
    "# the risk-free rate is the RF in FF5_UMD data\n",
    "# the market is the sum of Mkt-RF and RF\n",
    "\n",
    "figure4_factor_mom = pd.concat([LS1_1_1, LS2_1_1], axis=1)\n",
    "figure4_factor_mom.columns = ['LS1_1_1', 'LS2_1_1']\n",
    "figure4_factor_mom.dropna(inplace=True)\n",
    "figure4_stock_mom = table2_FF5_UMD['UMD'].copy()\n",
    "figure4_stock_mom.columns = ['UMD']\n",
    "MKT_RET = table2_FF5_UMD[['Mkt-RF', 'RF']].copy()\n",
    "MKT_RET = pd.merge(MKT_RET, sp_500, on='date')\n",
    "MKT_RET = MKT_RET.rename(columns={'sprtrn': 'SP500'})\n",
    "MKT_RET.columns = ['Mkt-RF', 'RF', 'SP500']\n",
    "#MKT_RET['MKT'] = MKT_RET['RF'] + MKT_RET['Mkt-RF'] \n",
    "MKT_RET['SP500-RF'] = MKT_RET['SP500'] - MKT_RET['RF']\n",
    "MKT_RET.drop(['RF', 'SP500'], axis=1, inplace=True)\n",
    "\n",
    "PL_cruve = pd.concat([figure4_factor_mom, figure4_stock_mom, MKT_RET], axis=1)\n",
    "PL_cruve.columns = ['LS1_1_1', 'LS2_1_1', 'UMD','Mkt-RF', 'SP500-RF']\n",
    "PL_cruve.dropna(inplace=True)\n",
    "\n",
    "PL_cruve\n",
    "cumulative_log_returns = np.log(PL_cruve+1).cumsum() * 100\n",
    "plt.figure(figsize=(10, 6))\n",
    "plt.plot(cumulative_log_returns['LS1_1_1'], color='black', label='Factor momentum 20% Long-Short')\n",
    "plt.plot(cumulative_log_returns['LS2_1_1'], color='green', label='Factor momentum 40% Long-Short')\n",
    "plt.plot(cumulative_log_returns['UMD'], color='red', label='Stock momentum')\n",
    "plt.plot(cumulative_log_returns['Mkt-RF'], color='blue', label='Market-rf')\n",
    "#plt.plot(cumulative_log_returns['MKT'], color='orange', label='Market')\n",
    "plt.plot(cumulative_log_returns['SP500-RF'], color='pink', label='SP500-RF')\n",
    "#plt.plot(cumulative_log_returns['SP500'], color='purple', label='SP500')\n",
    "plt.legend()\n",
    "plt.xlabel(\"Year\")\n",
    "plt.ylabel(\"Cumulative log-return (%)\")\n",
    "plt.title(\"Performance of factor, stock momentum strategies, 2000-2023\")\n",
    "plt.show()"
   ]
  },
  {
   "cell_type": "code",
   "execution_count": 25,
   "metadata": {
    "ExecuteTime": {
     "end_time": "2025-03-17T07:43:34.276456Z",
     "start_time": "2025-03-17T07:43:33.515368Z"
    }
   },
   "outputs": [
    {
     "data": {
      "text/plain": "<Figure size 1000x600 with 1 Axes>",
      "image/png": "[encoded data removed]"
     },
     "metadata": {},
     "output_type": "display_data"
    }
   ],
   "source": [
    "# the data period is from 1963-2023, use the 50 factors data, the original data\n",
    "# the factor momentum is the strategy return we got in Table 1 Panel A, with L=1, H=1\n",
    "# the stock momentum is the UMD factor in FF5_UMD data\n",
    "# the market factor is the Mkt-RF in FF5_UMD data\n",
    "# the risk-free rate is the RF in FF5_UMD data\n",
    "# the market is the sum of Mkt-RF and RF\n",
    "\n",
    "table2_ff5 = pd.read_csv(\"data/FF5_monthly.csv\")\n",
    "table2_UMD = pd.read_csv(\"data/FF_Momentum_monthly.csv\")\n",
    "table2_ff5.columns = ['date', 'Mkt-RF', 'SMB', 'HML', 'RMW', 'CMA', 'RF']\n",
    "table2_UMD.columns = ['date', 'UMD']\n",
    "table2_ff5['date'] = pd.to_datetime(table2_ff5['date'], format='%Y%m')\n",
    "table2_UMD['date'] = pd.to_datetime(table2_UMD['date'], format='%Y%m')\n",
    "table2_ff5.set_index('date', inplace=True)\n",
    "table2_UMD.set_index('date', inplace=True)\n",
    "\n",
    "table_test = pd.merge(table2_ff5, table2_UMD, on='date')\n",
    "table_test = table_test[['Mkt-RF','SMB','HML','RMW','CMA','RF','UMD']]/ 100\n",
    "\n",
    "table_test = pd.merge(table_test, sp_500, on='date')\n",
    "table_test['SP500'] = table_test['sprtrn']\n",
    "\n",
    "# the original data from 1963 to 2023\n",
    "figure4_factor_test = pd.concat([LS1_1_1_original,LS2_1_1_original], axis=1)\n",
    "figure4_stock_test = table_test[['UMD','Mkt-RF', 'RF', 'SP500']].copy()\n",
    "figure4_stock_test.columns = ['UMD', 'Mkt-RF', 'RF', 'SP500']\n",
    "figure4_stock_test['MKT'] = figure4_stock_test['RF'] + figure4_stock_test['Mkt-RF']\n",
    "figure4_stock_test['SP500-RF'] = figure4_stock_test['SP500'] - figure4_stock_test['RF']\n",
    "figure4_stock_test.drop(['RF'], axis=1, inplace=True)\n",
    "PL_cruve_test = pd.concat([figure4_factor_test,figure4_stock_test], axis=1)\n",
    "PL_cruve_test.columns = ['LS1_1_1_original', 'LS2_1_1_original', 'UMD', 'Mkt-RF', 'SP500','MKT','SP500-RF']\n",
    "PL_cruve_test.dropna(inplace=True)\n",
    "cumulative_log_returns = np.log(PL_cruve_test+1).cumsum() * 100\n",
    "plt.figure(figsize=(10, 6))\n",
    "plt.plot(cumulative_log_returns['LS1_1_1_original'], color='black', label='Factor momentum 20% Long-Short (original)')\n",
    "plt.plot(cumulative_log_returns['LS2_1_1_original'], color='green', label='Factor momentum 40% Long-Short (original)')\n",
    "plt.plot(cumulative_log_returns['UMD'], color='red', label='Stock momentum')\n",
    "plt.plot(cumulative_log_returns['Mkt-RF'], color='blue', label='Market-RF')\n",
    "#plt.plot(cumulative_log_returns['MKT'], color='orange', label='Market')\n",
    "plt.plot(cumulative_log_returns['SP500-RF'], color='pink', label='SP500-RF')\n",
    "#plt.plot(cumulative_log_returns['SP500'], color='purple', label='SP500')\n",
    "plt.legend()\n",
    "plt.xlabel(\"Year\")\n",
    "plt.ylabel(\"Cumulative log-return (%)\")\n",
    "plt.title(\"Performance of factor, stock momentum strategies, 1963-2023\")\n",
    "plt.show()"
   ]
  },
  {
   "cell_type": "code",
   "execution_count": null,
   "metadata": {},
   "outputs": [],
   "source": []
  }
 ],
 "metadata": {
  "kernelspec": {
   "display_name": "Python 3 (ipykernel)",
   "language": "python",
   "name": "python3"
  },
  "language_info": {
   "codemirror_mode": {
    "name": "ipython",
    "version": 3
   },
   "file_extension": ".py",
   "mimetype": "text/x-python",
   "name": "python",
   "nbconvert_exporter": "python",
   "pygments_lexer": "ipython3",
   "version": "3.12.4"
  }
 },
 "nbformat": 4,
 "nbformat_minor": 4
}
