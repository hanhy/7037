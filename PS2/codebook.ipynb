{
 "cells": [
  {
   "cell_type": "code",
   "execution_count": 1,
   "id": "94d19346-df27-4717-bca6-3c757717c002",
   "metadata": {
    "ExecuteTime": {
     "end_time": "2025-02-19T08:26:23.377846Z",
     "start_time": "2025-02-19T08:26:20.393706Z"
    }
   },
   "outputs": [],
   "source": [
    "# Some basic imports\n",
    "\n",
    "import pandas as pd\n",
    "import numpy as np\n",
    "from pandas.tseries.offsets import MonthEnd\n",
    "import datetime as dt\n",
    "import matplotlib.pyplot as plt\n",
    "from pandas.tseries.offsets import *\n",
    "from scipy import stats\n",
    "from scipy.stats import gmean\n",
    "pd.options.display.max_rows = 12\n",
    "import statsmodels.api as sm\n",
    "import statsmodels.formula.api as smf\n",
    "from datetime import datetime\n",
    "from scipy.stats import ttest_1samp"
   ]
  },
  {
   "cell_type": "markdown",
   "source": [
    "# Q 1\n",
    "What information events happen during market hours and outside of market hours? Specifically\n",
    "- When are earnings of companies announced?\n",
    "- Typically, are macro announcements like non-farm payrolls during trading day or before market hours? Hm, why would macro announcements matter for individual stocks?"
   ],
   "metadata": {
    "collapsed": false
   }
  },
  {
   "cell_type": "markdown",
   "source": [
    "## Answer to Q 1\n",
    "- Earnings of companies are typically announced outside the market hours. The stock price usually surge before post-close earnings announcements and then drop after the announcement.\n",
    "- Macro announcements like non-farm payrolls are typically announced during the trading day.\n",
    "- Macro announcements matter for individual stocks because the macro announcements can affect the stock prices. Good or bad news may affect investor's sentiment and expectation in stock markets. For example, if the non-farm payrolls are better than expected, the stock prices can go up.\n",
    "- For example, if the Federal Reserve raises the interest rates, the stock prices can go down. If the Federal Reserve lowers the interest rates, the stock prices can go up.\n",
    "- For example, if the inflation rate is higher than expected, the stock prices can go down. If the inflation rate is lower than expected, the stock prices can go up."
   ],
   "metadata": {
    "collapsed": false
   }
  },
  {
   "cell_type": "markdown",
   "source": [
    "# Q 2\n",
    "Now read in the parquet file I provided. What is the correlation of intraday, overnight momentum and regular momentum?"
   ],
   "metadata": {
    "collapsed": false
   }
  },
  {
   "cell_type": "code",
   "execution_count": 2,
   "outputs": [
    {
     "data": {
      "text/plain": "          permno       date       ret  intraday_ret_month  \\\n0        10094.0 1993-01-29  0.144578           -0.073377   \n1        10094.0 1993-02-26 -0.031579           -0.152771   \n2        10094.0 1993-03-31 -0.065217           -0.105752   \n3        10094.0 1993-04-30  0.000000            0.113035   \n4        10094.0 1993-05-28 -0.069767           -0.196001   \n...          ...        ...       ...                 ...   \n1652474  93399.0 2018-02-28 -0.042735            0.097550   \n1652475  93399.0 2018-03-29  0.165893            0.228345   \n1652476  93399.0 2018-04-30 -0.208761           -0.122460   \n1652477  93399.0 2018-05-31  0.099206            0.284212   \n1652478  93399.0 2018-06-29 -0.164480           -0.392343   \n\n         overnight_ret_month      mcap_lag1  prc_lag1  mom_intraday       mom  \\\n0                   0.235213   89650.375000   10.3750     -0.533850 -0.151231   \n1                   0.143045  102611.875000   11.8750     -0.854891 -0.368651   \n2                   0.045330   99371.500000   11.5000     -0.950865 -0.328925   \n3                  -0.101555   92912.250000   10.7500     -0.580953 -0.103184   \n4                   0.157008   92912.250000   10.7500     -0.824477 -0.264152   \n...                      ...            ...       ...           ...       ...   \n1652474            -0.127817   28442.698957    1.1700     -0.926831 -0.441683   \n1652475            -0.050844   27250.720116    1.1200     -1.103907 -0.592295   \n1652476            -0.098346   31771.418853    1.3058     -0.838037 -0.647477   \n1652477            -0.144063   25138.789822    1.0332     -0.224259  0.041994   \n1652478             0.374985   27647.480494    1.1357     -0.298246 -0.449765   \n\n         mom_overnight  mcap_bin  \n0             0.382617       6.0  \n1             0.486240       6.0  \n2             0.621939       6.0  \n3             0.477767       6.0  \n4             0.560324       6.0  \n...                ...       ...  \n1652474       0.482610       1.0  \n1652475       0.509077       1.0  \n1652476       0.190561       1.0  \n1652477       0.266253       1.0  \n1652478      -0.151521       1.0  \n\n[1652479 rows x 11 columns]",
      "text/html": "<div>\n<style scoped>\n    .dataframe tbody tr th:only-of-type {\n        vertical-align: middle;\n    }\n\n    .dataframe tbody tr th {\n        vertical-align: top;\n    }\n\n    .dataframe thead th {\n        text-align: right;\n    }\n</style>\n<table border=\"1\" class=\"dataframe\">\n  <thead>\n    <tr style=\"text-align: right;\">\n      <th></th>\n      <th>permno</th>\n      <th>date</th>\n      <th>ret</th>\n      <th>intraday_ret_month</th>\n      <th>overnight_ret_month</th>\n      <th>mcap_lag1</th>\n      <th>prc_lag1</th>\n      <th>mom_intraday</th>\n      <th>mom</th>\n      <th>mom_overnight</th>\n      <th>mcap_bin</th>\n    </tr>\n  </thead>\n  <tbody>\n    <tr>\n      <th>0</th>\n      <td>10094.0</td>\n      <td>1993-01-29</td>\n      <td>0.144578</td>\n      <td>-0.073377</td>\n      <td>0.235213</td>\n      <td>89650.375000</td>\n      <td>10.3750</td>\n      <td>-0.533850</td>\n      <td>-0.151231</td>\n      <td>0.382617</td>\n      <td>6.0</td>\n    </tr>\n    <tr>\n      <th>1</th>\n      <td>10094.0</td>\n      <td>1993-02-26</td>\n      <td>-0.031579</td>\n      <td>-0.152771</td>\n      <td>0.143045</td>\n      <td>102611.875000</td>\n      <td>11.8750</td>\n      <td>-0.854891</td>\n      <td>-0.368651</td>\n      <td>0.486240</td>\n      <td>6.0</td>\n    </tr>\n    <tr>\n      <th>2</th>\n      <td>10094.0</td>\n      <td>1993-03-31</td>\n      <td>-0.065217</td>\n      <td>-0.105752</td>\n      <td>0.045330</td>\n      <td>99371.500000</td>\n      <td>11.5000</td>\n      <td>-0.950865</td>\n      <td>-0.328925</td>\n      <td>0.621939</td>\n      <td>6.0</td>\n    </tr>\n    <tr>\n      <th>3</th>\n      <td>10094.0</td>\n      <td>1993-04-30</td>\n      <td>0.000000</td>\n      <td>0.113035</td>\n      <td>-0.101555</td>\n      <td>92912.250000</td>\n      <td>10.7500</td>\n      <td>-0.580953</td>\n      <td>-0.103184</td>\n      <td>0.477767</td>\n      <td>6.0</td>\n    </tr>\n    <tr>\n      <th>4</th>\n      <td>10094.0</td>\n      <td>1993-05-28</td>\n      <td>-0.069767</td>\n      <td>-0.196001</td>\n      <td>0.157008</td>\n      <td>92912.250000</td>\n      <td>10.7500</td>\n      <td>-0.824477</td>\n      <td>-0.264152</td>\n      <td>0.560324</td>\n      <td>6.0</td>\n    </tr>\n    <tr>\n      <th>...</th>\n      <td>...</td>\n      <td>...</td>\n      <td>...</td>\n      <td>...</td>\n      <td>...</td>\n      <td>...</td>\n      <td>...</td>\n      <td>...</td>\n      <td>...</td>\n      <td>...</td>\n      <td>...</td>\n    </tr>\n    <tr>\n      <th>1652474</th>\n      <td>93399.0</td>\n      <td>2018-02-28</td>\n      <td>-0.042735</td>\n      <td>0.097550</td>\n      <td>-0.127817</td>\n      <td>28442.698957</td>\n      <td>1.1700</td>\n      <td>-0.926831</td>\n      <td>-0.441683</td>\n      <td>0.482610</td>\n      <td>1.0</td>\n    </tr>\n    <tr>\n      <th>1652475</th>\n      <td>93399.0</td>\n      <td>2018-03-29</td>\n      <td>0.165893</td>\n      <td>0.228345</td>\n      <td>-0.050844</td>\n      <td>27250.720116</td>\n      <td>1.1200</td>\n      <td>-1.103907</td>\n      <td>-0.592295</td>\n      <td>0.509077</td>\n      <td>1.0</td>\n    </tr>\n    <tr>\n      <th>1652476</th>\n      <td>93399.0</td>\n      <td>2018-04-30</td>\n      <td>-0.208761</td>\n      <td>-0.122460</td>\n      <td>-0.098346</td>\n      <td>31771.418853</td>\n      <td>1.3058</td>\n      <td>-0.838037</td>\n      <td>-0.647477</td>\n      <td>0.190561</td>\n      <td>1.0</td>\n    </tr>\n    <tr>\n      <th>1652477</th>\n      <td>93399.0</td>\n      <td>2018-05-31</td>\n      <td>0.099206</td>\n      <td>0.284212</td>\n      <td>-0.144063</td>\n      <td>25138.789822</td>\n      <td>1.0332</td>\n      <td>-0.224259</td>\n      <td>0.041994</td>\n      <td>0.266253</td>\n      <td>1.0</td>\n    </tr>\n    <tr>\n      <th>1652478</th>\n      <td>93399.0</td>\n      <td>2018-06-29</td>\n      <td>-0.164480</td>\n      <td>-0.392343</td>\n      <td>0.374985</td>\n      <td>27647.480494</td>\n      <td>1.1357</td>\n      <td>-0.298246</td>\n      <td>-0.449765</td>\n      <td>-0.151521</td>\n      <td>1.0</td>\n    </tr>\n  </tbody>\n</table>\n<p>1652479 rows × 11 columns</p>\n</div>"
     },
     "execution_count": 2,
     "metadata": {},
     "output_type": "execute_result"
    }
   ],
   "source": [
    "# read the data\n",
    "df = pd.read_parquet('data/hw2_mfin7037_data.parquet', engine='pyarrow')\n",
    "# convert the date to datetime\n",
    "df['date'] = pd.to_datetime(df['date'])\n",
    "# start the data in 1993\n",
    "df = df.query(\"date>='1993-01-01'\")\n",
    "\n",
    "# Filter out rows with missing values in the specified columns\n",
    "hw2_data = df[\n",
    "    (df['ret'].notnull()) &\n",
    "    (df['intraday_ret_month'].notnull()) &\n",
    "    (df['overnight_ret_month'].notnull()) &\n",
    "    (df['mom'].notnull()) &\n",
    "    (df['mom_intraday'].notnull()) &\n",
    "    (df['mom_overnight'].notnull()) &\n",
    "    (df['mcap_lag1'].notnull()) &\n",
    "    (np.abs(df['prc_lag1']) >= 1)\n",
    "]\n",
    "\n",
    "# Ensure each permno has at least 8 observations recently\n",
    "hw2_data = hw2_data.groupby('permno').filter(lambda x: len(x) >= 8)\n",
    "# reset index\n",
    "hw2_data.reset_index(drop=True, inplace=True)\n",
    "# Sort the data by date\n",
    "df = df.sort_values(['date'])\n",
    "\n",
    "hw2_data"
   ],
   "metadata": {
    "collapsed": false,
    "ExecuteTime": {
     "end_time": "2025-02-19T08:26:28.938447Z",
     "start_time": "2025-02-19T08:26:25.123788Z"
    }
   }
  },
  {
   "cell_type": "code",
   "execution_count": 3,
   "outputs": [
    {
     "name": "stdout",
     "output_type": "stream",
     "text": [
      "Correlation of Intraday, Overnight Momentum and Regular Momentum:\n"
     ]
    },
    {
     "data": {
      "text/plain": "                    Intraday Momentum  Overnight Momentum  Regular Momentum\nIntraday Momentum              1.0000             -0.6637            0.5818\nOvernight Momentum            -0.6637              1.0000            0.1546\nRegular Momentum               0.5818              0.1546            1.0000",
      "text/html": "<div>\n<style scoped>\n    .dataframe tbody tr th:only-of-type {\n        vertical-align: middle;\n    }\n\n    .dataframe tbody tr th {\n        vertical-align: top;\n    }\n\n    .dataframe thead th {\n        text-align: right;\n    }\n</style>\n<table border=\"1\" class=\"dataframe\">\n  <thead>\n    <tr style=\"text-align: right;\">\n      <th></th>\n      <th>Intraday Momentum</th>\n      <th>Overnight Momentum</th>\n      <th>Regular Momentum</th>\n    </tr>\n  </thead>\n  <tbody>\n    <tr>\n      <th>Intraday Momentum</th>\n      <td>1.0000</td>\n      <td>-0.6637</td>\n      <td>0.5818</td>\n    </tr>\n    <tr>\n      <th>Overnight Momentum</th>\n      <td>-0.6637</td>\n      <td>1.0000</td>\n      <td>0.1546</td>\n    </tr>\n    <tr>\n      <th>Regular Momentum</th>\n      <td>0.5818</td>\n      <td>0.1546</td>\n      <td>1.0000</td>\n    </tr>\n  </tbody>\n</table>\n</div>"
     },
     "execution_count": 3,
     "metadata": {},
     "output_type": "execute_result"
    }
   ],
   "source": [
    "# calculate the correlation of intraday, overnight momentum and regular momentum\n",
    "correlation = hw2_data[['mom_intraday', 'mom_overnight', 'mom']].corr()\n",
    "\n",
    "# Rename the columns\n",
    "correlation.columns = ['Intraday Momentum', 'Overnight Momentum', 'Regular Momentum']\n",
    "correlation.index = ['Intraday Momentum', 'Overnight Momentum', 'Regular Momentum']\n",
    "\n",
    "# Result of the correlation is limited to 4 decimal places\n",
    "correlation = correlation.round(4)\n",
    "\n",
    "# Display the correlation\n",
    "print('Correlation of Intraday, Overnight Momentum and Regular Momentum:')\n",
    "correlation"
   ],
   "metadata": {
    "collapsed": false,
    "ExecuteTime": {
     "end_time": "2025-02-19T08:26:30.720753Z",
     "start_time": "2025-02-19T08:26:30.613513Z"
    }
   }
  },
  {
   "cell_type": "markdown",
   "id": "6e2a9324-fd00-4079-862e-5bf4ac828af6",
   "metadata": {},
   "source": [
    "# Q 3"
   ]
  },
  {
   "cell_type": "markdown",
   "source": [
    "# Q 4\n",
    "Let’s now report three tables. Kick out anything that in the bottom 20% of market capitalization (already computed) at portfolio formation time (remember the return reported is the return you earn from close of t-1 to close of time t), and anything with a price less than 5 at that time. Now report the 12 row x 11 column table, where the columns are the average returns/t-statistics of those returns for portfolios 1..10 and then the long-short portfolio, and there are six sets of rows, one for EW, VW, EW overnight, VW overnight, EW intraday, EW overnight.\n",
    "\n",
    "- Based on the tables you produced, does intraday momentum predict intraday future returns or overnight returns? What about total returns? Likewise, does overnight momentum predict intraday future returns or overnight returns? What about total returns? Interesting patterns, right?"
   ],
   "metadata": {
    "collapsed": false
   }
  },
  {
   "cell_type": "code",
   "execution_count": 4,
   "outputs": [],
   "source": [
    "# Assign binning function\n",
    "def apply_quantiles(inputdata, col, bins=10):\n",
    "    def quantile_bin(s):\n",
    "        s = s.dropna()  # Drop missing values\n",
    "        try:\n",
    "            # Try pd.qcut first\n",
    "            return pd.qcut(s, q=bins, labels=False, duplicates=\"drop\") + 1\n",
    "        except ValueError:\n",
    "            # Fallback to ranking if pd.qcut fails (e.g., due to insufficient unique values)\n",
    "            return np.ceil(s.rank(method='min') / len(s) * bins)\n",
    "\n",
    "    # Apply the binning function within each date group\n",
    "    return inputdata.groupby('date')[col].transform(quantile_bin)"
   ],
   "metadata": {
    "collapsed": false,
    "ExecuteTime": {
     "end_time": "2025-02-19T08:26:34.133110Z",
     "start_time": "2025-02-19T08:26:34.121451Z"
    }
   }
  },
  {
   "cell_type": "code",
   "execution_count": 5,
   "outputs": [],
   "source": [
    "def produce_table(portfolios, subsetting=lambda df: df):\n",
    "    bins_df = portfolios['bin'][['date', 'bin', 'ew', 'vw',\n",
    "                                 'ew_intraday', 'vw_intraday',\n",
    "                                 'ew_overnight', 'vw_overnight']].copy()\n",
    "    pnl_df = portfolios['pnl'][['date', 'ew', 'vw',\n",
    "                                'ew_intraday', 'vw_intraday',\n",
    "                                'ew_overnight', 'vw_overnight']].copy()\n",
    "    pnl_df['bin'] = 11\n",
    "    combined = pd.concat([bins_df, pnl_df], ignore_index=True)\n",
    "    combined = subsetting(combined)\n",
    "\n",
    "    return_measures = ['ew', 'vw', 'ew_intraday', 'vw_intraday', 'ew_overnight', 'vw_overnight']\n",
    "    result = []\n",
    "\n",
    "    for measure in return_measures:\n",
    "        grouped = combined.groupby('bin')[measure].agg(\n",
    "            mean=lambda x: round(x.mean() * 100, 3),\n",
    "            t_stat=lambda x: f\"({round(ttest_1samp(x.dropna(), 0).statistic, 3)})\"\n",
    "        ).reset_index()\n",
    "\n",
    "        mean_row = {'Portfolio': measure.upper().replace('_', ' ')}\n",
    "        t_stat_row = {'Portfolio': ''}\n",
    "        for _, row in grouped.iterrows():\n",
    "            bin_ = row['bin']\n",
    "            mean_row[bin_] = row['mean']\n",
    "            t_stat_row[bin_] = row['t_stat']\n",
    "\n",
    "        result.append(pd.DataFrame([mean_row]))\n",
    "        result.append(pd.DataFrame([t_stat_row]))\n",
    "\n",
    "    table = pd.concat(result, ignore_index=True)\n",
    "    if 11 in table.columns:\n",
    "        table = table.rename(columns={11: '10-1'})\n",
    "\n",
    "    valid_portfolios = list(range(1, 11)) + ['10-1']\n",
    "    cols_to_keep = ['Portfolio'] + [col for col in table.columns if col in valid_portfolios]\n",
    "    table = table[cols_to_keep]\n",
    "\n",
    "    return table"
   ],
   "metadata": {
    "collapsed": false,
    "ExecuteTime": {
     "end_time": "2025-02-19T08:26:34.647069Z",
     "start_time": "2025-02-19T08:26:34.634706Z"
    }
   }
  },
  {
   "cell_type": "code",
   "execution_count": 6,
   "outputs": [],
   "source": [
    "# Filter out stocks in the bottom 20% of market capitalization and those with price < 5\n",
    "mcap_20th_percentile = hw2_data['mcap_lag1'].quantile(0.2)\n",
    "filtered_data = hw2_data.loc[\n",
    "    (hw2_data['mcap_lag1'] > mcap_20th_percentile) &\n",
    "    (hw2_data['prc_lag1'] >= 5)\n",
    "].copy()\n",
    "\n",
    "# Construct portfolios based on 'mom', 'mom_intraday', and 'mom_overnight'\n",
    "filtered_data['bin_mom'] = apply_quantiles(filtered_data, 'mom')\n",
    "filtered_data['bin_mom_intraday'] = apply_quantiles(filtered_data, 'mom_intraday')\n",
    "filtered_data['bin_mom_overnight'] = apply_quantiles(filtered_data, 'mom_overnight')"
   ],
   "metadata": {
    "collapsed": false,
    "ExecuteTime": {
     "end_time": "2025-02-19T08:26:38.240427Z",
     "start_time": "2025-02-19T08:26:35.354373Z"
    }
   }
  },
  {
   "cell_type": "code",
   "execution_count": 7,
   "outputs": [
    {
     "data": {
      "text/plain": "          permno       date       ret  intraday_ret_month  \\\n0        10094.0 1993-01-29  0.144578           -0.073377   \n1        10094.0 1993-02-26 -0.031579           -0.152771   \n2        10094.0 1993-03-31 -0.065217           -0.105752   \n3        10094.0 1993-04-30  0.000000            0.113035   \n4        10094.0 1993-05-28 -0.069767           -0.196001   \n...          ...        ...       ...                 ...   \n1652402  93399.0 2012-02-29 -0.087186           -0.013701   \n1652403  93399.0 2012-03-30 -0.083574           -0.022338   \n1652404  93399.0 2012-04-30 -0.169841           -0.133245   \n1652405  93399.0 2012-05-31 -0.254302           -0.209769   \n1652410  93399.0 2012-10-31 -0.180000           -0.221908   \n\n         overnight_ret_month      mcap_lag1  prc_lag1  mom_intraday       mom  \\\n0                   0.235213   89650.375000    10.375     -0.533850 -0.151231   \n1                   0.143045  102611.875000    11.875     -0.854891 -0.368651   \n2                   0.045330   99371.500000    11.500     -0.950865 -0.328925   \n3                  -0.101555   92912.250000    10.750     -0.580953 -0.103184   \n4                   0.157008   92912.250000    10.750     -0.824477 -0.264152   \n...                      ...            ...       ...           ...       ...   \n1652402            -0.074506  203746.554620     7.570     -0.474636 -0.293305   \n1652403            -0.062793  181090.366001     6.910     -0.427135 -0.139824   \n1652404            -0.042225  169564.505134     6.300     -0.189492 -0.031262   \n1652405            -0.056355  140765.450513     5.230     -0.135515 -0.105887   \n1652410             0.053860  127880.000000     5.000     -0.180095 -0.431837   \n\n         mom_overnight  mcap_bin  bin_mom  bin_mom_intraday  bin_mom_overnight  \n0             0.382617       6.0        1                 1                 10  \n1             0.486240       6.0        1                 1                 10  \n2             0.621939       6.0        1                 1                 10  \n3             0.477767       6.0        2                 1                 10  \n4             0.560324       6.0        1                 1                 10  \n...                ...       ...      ...               ...                ...  \n1652402       0.181675       4.0        2                 1                  9  \n1652403       0.287656       4.0        2                 1                 10  \n1652404       0.158456       4.0        1                 1                  7  \n1652405       0.029687       4.0        1                 2                  3  \n1652410      -0.251509       3.0        1                 2                  1  \n\n[1185391 rows x 14 columns]",
      "text/html": "<div>\n<style scoped>\n    .dataframe tbody tr th:only-of-type {\n        vertical-align: middle;\n    }\n\n    .dataframe tbody tr th {\n        vertical-align: top;\n    }\n\n    .dataframe thead th {\n        text-align: right;\n    }\n</style>\n<table border=\"1\" class=\"dataframe\">\n  <thead>\n    <tr style=\"text-align: right;\">\n      <th></th>\n      <th>permno</th>\n      <th>date</th>\n      <th>ret</th>\n      <th>intraday_ret_month</th>\n      <th>overnight_ret_month</th>\n      <th>mcap_lag1</th>\n      <th>prc_lag1</th>\n      <th>mom_intraday</th>\n      <th>mom</th>\n      <th>mom_overnight</th>\n      <th>mcap_bin</th>\n      <th>bin_mom</th>\n      <th>bin_mom_intraday</th>\n      <th>bin_mom_overnight</th>\n    </tr>\n  </thead>\n  <tbody>\n    <tr>\n      <th>0</th>\n      <td>10094.0</td>\n      <td>1993-01-29</td>\n      <td>0.144578</td>\n      <td>-0.073377</td>\n      <td>0.235213</td>\n      <td>89650.375000</td>\n      <td>10.375</td>\n      <td>-0.533850</td>\n      <td>-0.151231</td>\n      <td>0.382617</td>\n      <td>6.0</td>\n      <td>1</td>\n      <td>1</td>\n      <td>10</td>\n    </tr>\n    <tr>\n      <th>1</th>\n      <td>10094.0</td>\n      <td>1993-02-26</td>\n      <td>-0.031579</td>\n      <td>-0.152771</td>\n      <td>0.143045</td>\n      <td>102611.875000</td>\n      <td>11.875</td>\n      <td>-0.854891</td>\n      <td>-0.368651</td>\n      <td>0.486240</td>\n      <td>6.0</td>\n      <td>1</td>\n      <td>1</td>\n      <td>10</td>\n    </tr>\n    <tr>\n      <th>2</th>\n      <td>10094.0</td>\n      <td>1993-03-31</td>\n      <td>-0.065217</td>\n      <td>-0.105752</td>\n      <td>0.045330</td>\n      <td>99371.500000</td>\n      <td>11.500</td>\n      <td>-0.950865</td>\n      <td>-0.328925</td>\n      <td>0.621939</td>\n      <td>6.0</td>\n      <td>1</td>\n      <td>1</td>\n      <td>10</td>\n    </tr>\n    <tr>\n      <th>3</th>\n      <td>10094.0</td>\n      <td>1993-04-30</td>\n      <td>0.000000</td>\n      <td>0.113035</td>\n      <td>-0.101555</td>\n      <td>92912.250000</td>\n      <td>10.750</td>\n      <td>-0.580953</td>\n      <td>-0.103184</td>\n      <td>0.477767</td>\n      <td>6.0</td>\n      <td>2</td>\n      <td>1</td>\n      <td>10</td>\n    </tr>\n    <tr>\n      <th>4</th>\n      <td>10094.0</td>\n      <td>1993-05-28</td>\n      <td>-0.069767</td>\n      <td>-0.196001</td>\n      <td>0.157008</td>\n      <td>92912.250000</td>\n      <td>10.750</td>\n      <td>-0.824477</td>\n      <td>-0.264152</td>\n      <td>0.560324</td>\n      <td>6.0</td>\n      <td>1</td>\n      <td>1</td>\n      <td>10</td>\n    </tr>\n    <tr>\n      <th>...</th>\n      <td>...</td>\n      <td>...</td>\n      <td>...</td>\n      <td>...</td>\n      <td>...</td>\n      <td>...</td>\n      <td>...</td>\n      <td>...</td>\n      <td>...</td>\n      <td>...</td>\n      <td>...</td>\n      <td>...</td>\n      <td>...</td>\n      <td>...</td>\n    </tr>\n    <tr>\n      <th>1652402</th>\n      <td>93399.0</td>\n      <td>2012-02-29</td>\n      <td>-0.087186</td>\n      <td>-0.013701</td>\n      <td>-0.074506</td>\n      <td>203746.554620</td>\n      <td>7.570</td>\n      <td>-0.474636</td>\n      <td>-0.293305</td>\n      <td>0.181675</td>\n      <td>4.0</td>\n      <td>2</td>\n      <td>1</td>\n      <td>9</td>\n    </tr>\n    <tr>\n      <th>1652403</th>\n      <td>93399.0</td>\n      <td>2012-03-30</td>\n      <td>-0.083574</td>\n      <td>-0.022338</td>\n      <td>-0.062793</td>\n      <td>181090.366001</td>\n      <td>6.910</td>\n      <td>-0.427135</td>\n      <td>-0.139824</td>\n      <td>0.287656</td>\n      <td>4.0</td>\n      <td>2</td>\n      <td>1</td>\n      <td>10</td>\n    </tr>\n    <tr>\n      <th>1652404</th>\n      <td>93399.0</td>\n      <td>2012-04-30</td>\n      <td>-0.169841</td>\n      <td>-0.133245</td>\n      <td>-0.042225</td>\n      <td>169564.505134</td>\n      <td>6.300</td>\n      <td>-0.189492</td>\n      <td>-0.031262</td>\n      <td>0.158456</td>\n      <td>4.0</td>\n      <td>1</td>\n      <td>1</td>\n      <td>7</td>\n    </tr>\n    <tr>\n      <th>1652405</th>\n      <td>93399.0</td>\n      <td>2012-05-31</td>\n      <td>-0.254302</td>\n      <td>-0.209769</td>\n      <td>-0.056355</td>\n      <td>140765.450513</td>\n      <td>5.230</td>\n      <td>-0.135515</td>\n      <td>-0.105887</td>\n      <td>0.029687</td>\n      <td>4.0</td>\n      <td>1</td>\n      <td>2</td>\n      <td>3</td>\n    </tr>\n    <tr>\n      <th>1652410</th>\n      <td>93399.0</td>\n      <td>2012-10-31</td>\n      <td>-0.180000</td>\n      <td>-0.221908</td>\n      <td>0.053860</td>\n      <td>127880.000000</td>\n      <td>5.000</td>\n      <td>-0.180095</td>\n      <td>-0.431837</td>\n      <td>-0.251509</td>\n      <td>3.0</td>\n      <td>1</td>\n      <td>2</td>\n      <td>1</td>\n    </tr>\n  </tbody>\n</table>\n<p>1185391 rows × 14 columns</p>\n</div>"
     },
     "execution_count": 7,
     "metadata": {},
     "output_type": "execute_result"
    }
   ],
   "source": [
    "filtered_data"
   ],
   "metadata": {
    "collapsed": false,
    "ExecuteTime": {
     "end_time": "2025-02-19T08:26:43.706825Z",
     "start_time": "2025-02-19T08:26:43.654939Z"
    }
   }
  },
  {
   "cell_type": "code",
   "execution_count": 8,
   "outputs": [],
   "source": [
    "# Define function to calculate portfolios and PNL\n",
    "def calculate_portfolios_and_pnl(data, bin_column):\n",
    "    # Calculate portfolio returns\n",
    "    portfolios = (\n",
    "        data\n",
    "        .groupby(['date', bin_column])\n",
    "        .agg(\n",
    "            ew=('ret', 'mean'),\n",
    "            vw=('ret', lambda x: (x * data.loc[x.index, 'mcap_lag1']).sum() / data.loc[x.index, 'mcap_lag1'].sum()),\n",
    "            ew_intraday=('intraday_ret_month', 'mean'),\n",
    "            vw_intraday=('intraday_ret_month', lambda x: (x * data.loc[x.index, 'mcap_lag1']).sum() / data.loc[x.index, 'mcap_lag1'].sum()),\n",
    "            ew_overnight=('overnight_ret_month', 'mean'),\n",
    "            vw_overnight=('overnight_ret_month', lambda x: (x * data.loc[x.index, 'mcap_lag1']).sum() / data.loc[x.index, 'mcap_lag1'].sum())\n",
    "        )\n",
    "        .reset_index()\n",
    "    )\n",
    "\n",
    "    # Calculate PNL (long-short portfolio)\n",
    "    pnl = (\n",
    "        portfolios\n",
    "        .groupby('date')\n",
    "        .apply(lambda x: pd.Series({\n",
    "            'ew': x['ew'].iloc[-1] - x['ew'].iloc[0],\n",
    "            'vw': x['vw'].iloc[-1] - x['vw'].iloc[0],\n",
    "            'ew_intraday': x['ew_intraday'].iloc[-1] - x['ew_intraday'].iloc[0],\n",
    "            'vw_intraday': x['vw_intraday'].iloc[-1] - x['vw_intraday'].iloc[0],\n",
    "            'ew_overnight': x['ew_overnight'].iloc[-1] - x['ew_overnight'].iloc[0],\n",
    "            'vw_overnight': x['vw_overnight'].iloc[-1] - x['vw_overnight'].iloc[0]\n",
    "        }))\n",
    "        .reset_index()\n",
    "    )\n",
    "\n",
    "    return {'bin': portfolios, 'pnl': pnl}"
   ],
   "metadata": {
    "collapsed": false,
    "ExecuteTime": {
     "end_time": "2025-02-19T08:26:45.268246Z",
     "start_time": "2025-02-19T08:26:45.249485Z"
    }
   }
  },
  {
   "cell_type": "code",
   "execution_count": 9,
   "outputs": [],
   "source": [
    "# Calculate portfolios and pnl for each portfolio\n",
    "portfolios_mom = calculate_portfolios_and_pnl(filtered_data, 'bin_mom')\n",
    "portfolios_mom_intraday = calculate_portfolios_and_pnl(filtered_data, 'bin_mom_intraday')\n",
    "portfolios_mom_overnight = calculate_portfolios_and_pnl(filtered_data, 'bin_mom_overnight')\n",
    "\n",
    "# rename the bin columns\n",
    "portfolios_mom['bin'].rename(columns={'bin_mom': 'bin'}, inplace=True)\n",
    "portfolios_mom_intraday['bin'].rename(columns={'bin_mom_intraday': 'bin'}, inplace=True)\n",
    "portfolios_mom_overnight['bin'].rename(columns={'bin_mom_overnight': 'bin'}, inplace=True)"
   ],
   "metadata": {
    "collapsed": false,
    "ExecuteTime": {
     "end_time": "2025-02-19T08:27:09.306622Z",
     "start_time": "2025-02-19T08:26:46.065869Z"
    }
   }
  },
  {
   "cell_type": "code",
   "execution_count": 10,
   "outputs": [],
   "source": [
    "# Produce tables\n",
    "table_mom = produce_table(portfolios_mom)\n",
    "table_mom_intraday = produce_table(portfolios_mom_intraday)\n",
    "table_mom_overnight = produce_table(portfolios_mom_overnight)"
   ],
   "metadata": {
    "collapsed": false,
    "ExecuteTime": {
     "end_time": "2025-02-19T08:27:14.791018Z",
     "start_time": "2025-02-19T08:27:14.553019Z"
    }
   }
  },
  {
   "cell_type": "code",
   "execution_count": 11,
   "outputs": [
    {
     "name": "stdout",
     "output_type": "stream",
     "text": [
      "Table for Regular Momentum:\n"
     ]
    },
    {
     "data": {
      "text/plain": "       Portfolio         1        2        3        4        5        6  \\\n0             EW     0.105    0.694    0.843    0.961    0.947    1.037   \n1                  (0.238)  (2.097)  (2.915)  (3.781)  (3.895)  (4.379)   \n2             VW     0.176    0.839      0.7    0.845    0.928    0.797   \n3                  (0.399)  (2.551)  (2.444)  (3.382)  (4.083)  (3.644)   \n4    EW INTRADAY    -0.886    0.595    0.904    1.083    1.007    0.992   \n5                 (-2.309)  (2.071)  (3.676)  (5.005)  (4.989)   (5.19)   \n6    VW INTRADAY    -0.746    0.504    0.422    0.611    0.586    0.417   \n7                 (-2.004)  (1.821)  (1.758)  (2.844)  (3.026)  (2.359)   \n8   EW OVERNIGHT     1.698    0.554    0.266    0.184    0.197    0.274   \n9                  (8.688)  (3.729)  (1.984)  (1.486)  (1.565)   (2.18)   \n10  VW OVERNIGHT     1.234    0.496    0.391    0.342    0.433    0.459   \n11                 (5.613)  (2.753)  (2.562)  (2.364)  (3.138)  (3.365)   \n\n          7        8         9        10     10-1  \n0     0.962    1.058     1.049     1.375    1.269  \n1   (4.008)  (4.019)   (3.552)   (3.446)  (3.811)  \n2     0.808    0.849     0.722       1.4    1.224  \n3   (3.621)  (3.599)   (2.627)   (3.698)  (3.017)  \n4     0.806    0.707     0.447    -0.039    0.848  \n5   (4.159)  (3.362)   (1.887)  (-0.124)  (2.758)  \n6     0.276    0.005    -0.406    -0.723    0.024  \n7   (1.492)  (0.025)  (-1.799)  (-2.348)  (0.065)  \n8     0.407    0.629     0.931      1.85    0.153  \n9    (3.16)  (4.531)    (5.91)   (9.058)   (1.05)  \n10    0.625    0.946     1.273     2.335    1.101  \n11   (4.57)  (6.441)   (7.735)    (10.2)  (5.441)  ",
      "text/html": "<div>\n<style scoped>\n    .dataframe tbody tr th:only-of-type {\n        vertical-align: middle;\n    }\n\n    .dataframe tbody tr th {\n        vertical-align: top;\n    }\n\n    .dataframe thead th {\n        text-align: right;\n    }\n</style>\n<table border=\"1\" class=\"dataframe\">\n  <thead>\n    <tr style=\"text-align: right;\">\n      <th></th>\n      <th>Portfolio</th>\n      <th>1</th>\n      <th>2</th>\n      <th>3</th>\n      <th>4</th>\n      <th>5</th>\n      <th>6</th>\n      <th>7</th>\n      <th>8</th>\n      <th>9</th>\n      <th>10</th>\n      <th>10-1</th>\n    </tr>\n  </thead>\n  <tbody>\n    <tr>\n      <th>0</th>\n      <td>EW</td>\n      <td>0.105</td>\n      <td>0.694</td>\n      <td>0.843</td>\n      <td>0.961</td>\n      <td>0.947</td>\n      <td>1.037</td>\n      <td>0.962</td>\n      <td>1.058</td>\n      <td>1.049</td>\n      <td>1.375</td>\n      <td>1.269</td>\n    </tr>\n    <tr>\n      <th>1</th>\n      <td></td>\n      <td>(0.238)</td>\n      <td>(2.097)</td>\n      <td>(2.915)</td>\n      <td>(3.781)</td>\n      <td>(3.895)</td>\n      <td>(4.379)</td>\n      <td>(4.008)</td>\n      <td>(4.019)</td>\n      <td>(3.552)</td>\n      <td>(3.446)</td>\n      <td>(3.811)</td>\n    </tr>\n    <tr>\n      <th>2</th>\n      <td>VW</td>\n      <td>0.176</td>\n      <td>0.839</td>\n      <td>0.7</td>\n      <td>0.845</td>\n      <td>0.928</td>\n      <td>0.797</td>\n      <td>0.808</td>\n      <td>0.849</td>\n      <td>0.722</td>\n      <td>1.4</td>\n      <td>1.224</td>\n    </tr>\n    <tr>\n      <th>3</th>\n      <td></td>\n      <td>(0.399)</td>\n      <td>(2.551)</td>\n      <td>(2.444)</td>\n      <td>(3.382)</td>\n      <td>(4.083)</td>\n      <td>(3.644)</td>\n      <td>(3.621)</td>\n      <td>(3.599)</td>\n      <td>(2.627)</td>\n      <td>(3.698)</td>\n      <td>(3.017)</td>\n    </tr>\n    <tr>\n      <th>4</th>\n      <td>EW INTRADAY</td>\n      <td>-0.886</td>\n      <td>0.595</td>\n      <td>0.904</td>\n      <td>1.083</td>\n      <td>1.007</td>\n      <td>0.992</td>\n      <td>0.806</td>\n      <td>0.707</td>\n      <td>0.447</td>\n      <td>-0.039</td>\n      <td>0.848</td>\n    </tr>\n    <tr>\n      <th>5</th>\n      <td></td>\n      <td>(-2.309)</td>\n      <td>(2.071)</td>\n      <td>(3.676)</td>\n      <td>(5.005)</td>\n      <td>(4.989)</td>\n      <td>(5.19)</td>\n      <td>(4.159)</td>\n      <td>(3.362)</td>\n      <td>(1.887)</td>\n      <td>(-0.124)</td>\n      <td>(2.758)</td>\n    </tr>\n    <tr>\n      <th>6</th>\n      <td>VW INTRADAY</td>\n      <td>-0.746</td>\n      <td>0.504</td>\n      <td>0.422</td>\n      <td>0.611</td>\n      <td>0.586</td>\n      <td>0.417</td>\n      <td>0.276</td>\n      <td>0.005</td>\n      <td>-0.406</td>\n      <td>-0.723</td>\n      <td>0.024</td>\n    </tr>\n    <tr>\n      <th>7</th>\n      <td></td>\n      <td>(-2.004)</td>\n      <td>(1.821)</td>\n      <td>(1.758)</td>\n      <td>(2.844)</td>\n      <td>(3.026)</td>\n      <td>(2.359)</td>\n      <td>(1.492)</td>\n      <td>(0.025)</td>\n      <td>(-1.799)</td>\n      <td>(-2.348)</td>\n      <td>(0.065)</td>\n    </tr>\n    <tr>\n      <th>8</th>\n      <td>EW OVERNIGHT</td>\n      <td>1.698</td>\n      <td>0.554</td>\n      <td>0.266</td>\n      <td>0.184</td>\n      <td>0.197</td>\n      <td>0.274</td>\n      <td>0.407</td>\n      <td>0.629</td>\n      <td>0.931</td>\n      <td>1.85</td>\n      <td>0.153</td>\n    </tr>\n    <tr>\n      <th>9</th>\n      <td></td>\n      <td>(8.688)</td>\n      <td>(3.729)</td>\n      <td>(1.984)</td>\n      <td>(1.486)</td>\n      <td>(1.565)</td>\n      <td>(2.18)</td>\n      <td>(3.16)</td>\n      <td>(4.531)</td>\n      <td>(5.91)</td>\n      <td>(9.058)</td>\n      <td>(1.05)</td>\n    </tr>\n    <tr>\n      <th>10</th>\n      <td>VW OVERNIGHT</td>\n      <td>1.234</td>\n      <td>0.496</td>\n      <td>0.391</td>\n      <td>0.342</td>\n      <td>0.433</td>\n      <td>0.459</td>\n      <td>0.625</td>\n      <td>0.946</td>\n      <td>1.273</td>\n      <td>2.335</td>\n      <td>1.101</td>\n    </tr>\n    <tr>\n      <th>11</th>\n      <td></td>\n      <td>(5.613)</td>\n      <td>(2.753)</td>\n      <td>(2.562)</td>\n      <td>(2.364)</td>\n      <td>(3.138)</td>\n      <td>(3.365)</td>\n      <td>(4.57)</td>\n      <td>(6.441)</td>\n      <td>(7.735)</td>\n      <td>(10.2)</td>\n      <td>(5.441)</td>\n    </tr>\n  </tbody>\n</table>\n</div>"
     },
     "execution_count": 11,
     "metadata": {},
     "output_type": "execute_result"
    }
   ],
   "source": [
    "# Display the table for Regular Momentum\n",
    "print('Table for Regular Momentum:')\n",
    "table_mom"
   ],
   "metadata": {
    "collapsed": false,
    "ExecuteTime": {
     "end_time": "2025-02-19T08:27:15.487260Z",
     "start_time": "2025-02-19T08:27:15.394124Z"
    }
   }
  },
  {
   "cell_type": "code",
   "execution_count": 12,
   "outputs": [
    {
     "name": "stdout",
     "output_type": "stream",
     "text": [
      "Table for Intraday Momentum:\n"
     ]
    },
    {
     "data": {
      "text/plain": "       Portfolio         1         2        3        4        5        6  \\\n0             EW     0.099     0.738    0.944    1.044    0.989    0.999   \n1                  (0.218)   (2.167)  (3.224)  (3.957)  (3.964)  (4.138)   \n2             VW     0.443     0.668    0.882    0.975    0.898    0.892   \n3                  (0.989)   (2.003)  (3.141)  (4.039)  (3.932)  (3.872)   \n4    EW INTRADAY    -2.275      -0.3    0.293    0.592    0.668    0.769   \n5                 (-5.703)  (-1.047)  (1.181)  (2.757)  (3.231)  (3.937)   \n6    VW INTRADAY    -1.735    -0.437    0.044     0.28    0.338    0.409   \n7                 (-4.556)  (-1.582)  (0.191)  (1.466)   (1.83)  (2.181)   \n8   EW OVERNIGHT     3.252     1.437    0.922    0.651    0.494    0.388   \n9                 (14.595)   (8.854)  (6.487)  (4.835)  (3.933)  (3.039)   \n10  VW OVERNIGHT     2.621     1.271    0.944    0.792    0.645    0.561   \n11                (10.563)    (6.57)  (5.902)   (5.54)  (4.382)  (4.064)   \n\n          7        8        9        10       10-1  \n0     1.022    1.045    0.966     1.184      1.084  \n1   (4.322)  (4.201)  (3.579)   (3.603)    (4.014)  \n2     0.816    0.839    0.937     1.006      0.563  \n3   (3.631)  (3.557)  (3.676)   (2.878)    (1.681)  \n4     0.944    1.049    1.212     2.663      4.939  \n5   (4.898)  (5.226)  (5.554)   (9.538)   (16.751)  \n6     0.464    0.535    0.654     0.801      2.536  \n7   (2.487)   (2.74)  (3.093)   (2.831)    (8.211)  \n8     0.257    0.204    0.073    -0.689     -3.941  \n9   (2.043)  (1.527)   (0.52)  (-4.055)  (-21.658)  \n10    0.434      0.4    0.438     0.503     -2.119  \n11    (3.1)  (2.642)   (2.76)   (2.451)  (-11.328)  ",
      "text/html": "<div>\n<style scoped>\n    .dataframe tbody tr th:only-of-type {\n        vertical-align: middle;\n    }\n\n    .dataframe tbody tr th {\n        vertical-align: top;\n    }\n\n    .dataframe thead th {\n        text-align: right;\n    }\n</style>\n<table border=\"1\" class=\"dataframe\">\n  <thead>\n    <tr style=\"text-align: right;\">\n      <th></th>\n      <th>Portfolio</th>\n      <th>1</th>\n      <th>2</th>\n      <th>3</th>\n      <th>4</th>\n      <th>5</th>\n      <th>6</th>\n      <th>7</th>\n      <th>8</th>\n      <th>9</th>\n      <th>10</th>\n      <th>10-1</th>\n    </tr>\n  </thead>\n  <tbody>\n    <tr>\n      <th>0</th>\n      <td>EW</td>\n      <td>0.099</td>\n      <td>0.738</td>\n      <td>0.944</td>\n      <td>1.044</td>\n      <td>0.989</td>\n      <td>0.999</td>\n      <td>1.022</td>\n      <td>1.045</td>\n      <td>0.966</td>\n      <td>1.184</td>\n      <td>1.084</td>\n    </tr>\n    <tr>\n      <th>1</th>\n      <td></td>\n      <td>(0.218)</td>\n      <td>(2.167)</td>\n      <td>(3.224)</td>\n      <td>(3.957)</td>\n      <td>(3.964)</td>\n      <td>(4.138)</td>\n      <td>(4.322)</td>\n      <td>(4.201)</td>\n      <td>(3.579)</td>\n      <td>(3.603)</td>\n      <td>(4.014)</td>\n    </tr>\n    <tr>\n      <th>2</th>\n      <td>VW</td>\n      <td>0.443</td>\n      <td>0.668</td>\n      <td>0.882</td>\n      <td>0.975</td>\n      <td>0.898</td>\n      <td>0.892</td>\n      <td>0.816</td>\n      <td>0.839</td>\n      <td>0.937</td>\n      <td>1.006</td>\n      <td>0.563</td>\n    </tr>\n    <tr>\n      <th>3</th>\n      <td></td>\n      <td>(0.989)</td>\n      <td>(2.003)</td>\n      <td>(3.141)</td>\n      <td>(4.039)</td>\n      <td>(3.932)</td>\n      <td>(3.872)</td>\n      <td>(3.631)</td>\n      <td>(3.557)</td>\n      <td>(3.676)</td>\n      <td>(2.878)</td>\n      <td>(1.681)</td>\n    </tr>\n    <tr>\n      <th>4</th>\n      <td>EW INTRADAY</td>\n      <td>-2.275</td>\n      <td>-0.3</td>\n      <td>0.293</td>\n      <td>0.592</td>\n      <td>0.668</td>\n      <td>0.769</td>\n      <td>0.944</td>\n      <td>1.049</td>\n      <td>1.212</td>\n      <td>2.663</td>\n      <td>4.939</td>\n    </tr>\n    <tr>\n      <th>5</th>\n      <td></td>\n      <td>(-5.703)</td>\n      <td>(-1.047)</td>\n      <td>(1.181)</td>\n      <td>(2.757)</td>\n      <td>(3.231)</td>\n      <td>(3.937)</td>\n      <td>(4.898)</td>\n      <td>(5.226)</td>\n      <td>(5.554)</td>\n      <td>(9.538)</td>\n      <td>(16.751)</td>\n    </tr>\n    <tr>\n      <th>6</th>\n      <td>VW INTRADAY</td>\n      <td>-1.735</td>\n      <td>-0.437</td>\n      <td>0.044</td>\n      <td>0.28</td>\n      <td>0.338</td>\n      <td>0.409</td>\n      <td>0.464</td>\n      <td>0.535</td>\n      <td>0.654</td>\n      <td>0.801</td>\n      <td>2.536</td>\n    </tr>\n    <tr>\n      <th>7</th>\n      <td></td>\n      <td>(-4.556)</td>\n      <td>(-1.582)</td>\n      <td>(0.191)</td>\n      <td>(1.466)</td>\n      <td>(1.83)</td>\n      <td>(2.181)</td>\n      <td>(2.487)</td>\n      <td>(2.74)</td>\n      <td>(3.093)</td>\n      <td>(2.831)</td>\n      <td>(8.211)</td>\n    </tr>\n    <tr>\n      <th>8</th>\n      <td>EW OVERNIGHT</td>\n      <td>3.252</td>\n      <td>1.437</td>\n      <td>0.922</td>\n      <td>0.651</td>\n      <td>0.494</td>\n      <td>0.388</td>\n      <td>0.257</td>\n      <td>0.204</td>\n      <td>0.073</td>\n      <td>-0.689</td>\n      <td>-3.941</td>\n    </tr>\n    <tr>\n      <th>9</th>\n      <td></td>\n      <td>(14.595)</td>\n      <td>(8.854)</td>\n      <td>(6.487)</td>\n      <td>(4.835)</td>\n      <td>(3.933)</td>\n      <td>(3.039)</td>\n      <td>(2.043)</td>\n      <td>(1.527)</td>\n      <td>(0.52)</td>\n      <td>(-4.055)</td>\n      <td>(-21.658)</td>\n    </tr>\n    <tr>\n      <th>10</th>\n      <td>VW OVERNIGHT</td>\n      <td>2.621</td>\n      <td>1.271</td>\n      <td>0.944</td>\n      <td>0.792</td>\n      <td>0.645</td>\n      <td>0.561</td>\n      <td>0.434</td>\n      <td>0.4</td>\n      <td>0.438</td>\n      <td>0.503</td>\n      <td>-2.119</td>\n    </tr>\n    <tr>\n      <th>11</th>\n      <td></td>\n      <td>(10.563)</td>\n      <td>(6.57)</td>\n      <td>(5.902)</td>\n      <td>(5.54)</td>\n      <td>(4.382)</td>\n      <td>(4.064)</td>\n      <td>(3.1)</td>\n      <td>(2.642)</td>\n      <td>(2.76)</td>\n      <td>(2.451)</td>\n      <td>(-11.328)</td>\n    </tr>\n  </tbody>\n</table>\n</div>"
     },
     "execution_count": 12,
     "metadata": {},
     "output_type": "execute_result"
    }
   ],
   "source": [
    "# Display the table for Intraday Momentum\n",
    "print('Table for Intraday Momentum:')\n",
    "table_mom_intraday"
   ],
   "metadata": {
    "collapsed": false,
    "ExecuteTime": {
     "end_time": "2025-02-19T08:27:16.487124Z",
     "start_time": "2025-02-19T08:27:16.448355Z"
    }
   }
  },
  {
   "cell_type": "code",
   "execution_count": 13,
   "outputs": [
    {
     "name": "stdout",
     "output_type": "stream",
     "text": [
      "Table for Overnight Momentum:\n"
     ]
    },
    {
     "data": {
      "text/plain": "       Portfolio         1         2         3        4        5        6  \\\n0             EW      0.66     0.855     0.975    0.996    1.047    0.987   \n1                  (2.255)   (3.086)   (3.696)  (3.942)  (4.139)  (3.938)   \n2             VW     0.704     0.526     0.907     0.96    0.789    0.789   \n3                  (2.212)   (1.975)   (3.686)   (4.05)  (3.612)  (3.602)   \n4    EW INTRADAY     3.364     1.601     1.231    1.003    0.804    0.509   \n5                 (12.647)   (6.667)   (5.515)  (4.787)  (3.881)  (2.468)   \n6    VW INTRADAY     2.388     1.262     1.146    0.954    0.491    0.273   \n7                  (8.478)   (5.876)   (5.664)  (4.877)  (2.761)  (1.497)   \n8   EW OVERNIGHT    -1.968    -0.438    -0.033    0.191    0.417    0.646   \n9                 (-12.32)  (-3.224)  (-0.253)  (1.522)   (3.18)  (5.028)   \n10  VW OVERNIGHT    -1.335    -0.601    -0.146    0.076     0.38    0.595   \n11                (-7.511)  (-3.834)  (-1.019)  (0.536)  (2.717)  (4.438)   \n\n          7         8         9        10       10-1  \n0     1.025     1.047     0.926     0.512     -0.147  \n1   (3.852)   (3.576)   (2.693)   (1.203)   (-0.606)  \n2     0.925     0.908     0.797     0.916      0.212  \n3   (3.862)   (3.752)   (2.602)   (2.129)    (0.644)  \n4     0.266    -0.082    -0.691    -2.395     -5.758  \n5    (1.23)  (-0.351)  (-2.468)  (-6.802)   (-21.75)  \n6     0.025    -0.281    -1.075    -2.163     -4.551  \n7   (0.131)  (-1.425)  (-4.293)  (-6.337)  (-14.914)  \n8     0.985     1.403     2.025     3.765      5.733  \n9   (7.222)   (9.246)  (11.473)  (16.123)    (26.55)  \n10     0.98     1.311     2.029     3.475      4.809  \n11  (6.739)   (8.466)  (10.854)  (13.478)   (20.431)  ",
      "text/html": "<div>\n<style scoped>\n    .dataframe tbody tr th:only-of-type {\n        vertical-align: middle;\n    }\n\n    .dataframe tbody tr th {\n        vertical-align: top;\n    }\n\n    .dataframe thead th {\n        text-align: right;\n    }\n</style>\n<table border=\"1\" class=\"dataframe\">\n  <thead>\n    <tr style=\"text-align: right;\">\n      <th></th>\n      <th>Portfolio</th>\n      <th>1</th>\n      <th>2</th>\n      <th>3</th>\n      <th>4</th>\n      <th>5</th>\n      <th>6</th>\n      <th>7</th>\n      <th>8</th>\n      <th>9</th>\n      <th>10</th>\n      <th>10-1</th>\n    </tr>\n  </thead>\n  <tbody>\n    <tr>\n      <th>0</th>\n      <td>EW</td>\n      <td>0.66</td>\n      <td>0.855</td>\n      <td>0.975</td>\n      <td>0.996</td>\n      <td>1.047</td>\n      <td>0.987</td>\n      <td>1.025</td>\n      <td>1.047</td>\n      <td>0.926</td>\n      <td>0.512</td>\n      <td>-0.147</td>\n    </tr>\n    <tr>\n      <th>1</th>\n      <td></td>\n      <td>(2.255)</td>\n      <td>(3.086)</td>\n      <td>(3.696)</td>\n      <td>(3.942)</td>\n      <td>(4.139)</td>\n      <td>(3.938)</td>\n      <td>(3.852)</td>\n      <td>(3.576)</td>\n      <td>(2.693)</td>\n      <td>(1.203)</td>\n      <td>(-0.606)</td>\n    </tr>\n    <tr>\n      <th>2</th>\n      <td>VW</td>\n      <td>0.704</td>\n      <td>0.526</td>\n      <td>0.907</td>\n      <td>0.96</td>\n      <td>0.789</td>\n      <td>0.789</td>\n      <td>0.925</td>\n      <td>0.908</td>\n      <td>0.797</td>\n      <td>0.916</td>\n      <td>0.212</td>\n    </tr>\n    <tr>\n      <th>3</th>\n      <td></td>\n      <td>(2.212)</td>\n      <td>(1.975)</td>\n      <td>(3.686)</td>\n      <td>(4.05)</td>\n      <td>(3.612)</td>\n      <td>(3.602)</td>\n      <td>(3.862)</td>\n      <td>(3.752)</td>\n      <td>(2.602)</td>\n      <td>(2.129)</td>\n      <td>(0.644)</td>\n    </tr>\n    <tr>\n      <th>4</th>\n      <td>EW INTRADAY</td>\n      <td>3.364</td>\n      <td>1.601</td>\n      <td>1.231</td>\n      <td>1.003</td>\n      <td>0.804</td>\n      <td>0.509</td>\n      <td>0.266</td>\n      <td>-0.082</td>\n      <td>-0.691</td>\n      <td>-2.395</td>\n      <td>-5.758</td>\n    </tr>\n    <tr>\n      <th>5</th>\n      <td></td>\n      <td>(12.647)</td>\n      <td>(6.667)</td>\n      <td>(5.515)</td>\n      <td>(4.787)</td>\n      <td>(3.881)</td>\n      <td>(2.468)</td>\n      <td>(1.23)</td>\n      <td>(-0.351)</td>\n      <td>(-2.468)</td>\n      <td>(-6.802)</td>\n      <td>(-21.75)</td>\n    </tr>\n    <tr>\n      <th>6</th>\n      <td>VW INTRADAY</td>\n      <td>2.388</td>\n      <td>1.262</td>\n      <td>1.146</td>\n      <td>0.954</td>\n      <td>0.491</td>\n      <td>0.273</td>\n      <td>0.025</td>\n      <td>-0.281</td>\n      <td>-1.075</td>\n      <td>-2.163</td>\n      <td>-4.551</td>\n    </tr>\n    <tr>\n      <th>7</th>\n      <td></td>\n      <td>(8.478)</td>\n      <td>(5.876)</td>\n      <td>(5.664)</td>\n      <td>(4.877)</td>\n      <td>(2.761)</td>\n      <td>(1.497)</td>\n      <td>(0.131)</td>\n      <td>(-1.425)</td>\n      <td>(-4.293)</td>\n      <td>(-6.337)</td>\n      <td>(-14.914)</td>\n    </tr>\n    <tr>\n      <th>8</th>\n      <td>EW OVERNIGHT</td>\n      <td>-1.968</td>\n      <td>-0.438</td>\n      <td>-0.033</td>\n      <td>0.191</td>\n      <td>0.417</td>\n      <td>0.646</td>\n      <td>0.985</td>\n      <td>1.403</td>\n      <td>2.025</td>\n      <td>3.765</td>\n      <td>5.733</td>\n    </tr>\n    <tr>\n      <th>9</th>\n      <td></td>\n      <td>(-12.32)</td>\n      <td>(-3.224)</td>\n      <td>(-0.253)</td>\n      <td>(1.522)</td>\n      <td>(3.18)</td>\n      <td>(5.028)</td>\n      <td>(7.222)</td>\n      <td>(9.246)</td>\n      <td>(11.473)</td>\n      <td>(16.123)</td>\n      <td>(26.55)</td>\n    </tr>\n    <tr>\n      <th>10</th>\n      <td>VW OVERNIGHT</td>\n      <td>-1.335</td>\n      <td>-0.601</td>\n      <td>-0.146</td>\n      <td>0.076</td>\n      <td>0.38</td>\n      <td>0.595</td>\n      <td>0.98</td>\n      <td>1.311</td>\n      <td>2.029</td>\n      <td>3.475</td>\n      <td>4.809</td>\n    </tr>\n    <tr>\n      <th>11</th>\n      <td></td>\n      <td>(-7.511)</td>\n      <td>(-3.834)</td>\n      <td>(-1.019)</td>\n      <td>(0.536)</td>\n      <td>(2.717)</td>\n      <td>(4.438)</td>\n      <td>(6.739)</td>\n      <td>(8.466)</td>\n      <td>(10.854)</td>\n      <td>(13.478)</td>\n      <td>(20.431)</td>\n    </tr>\n  </tbody>\n</table>\n</div>"
     },
     "execution_count": 13,
     "metadata": {},
     "output_type": "execute_result"
    }
   ],
   "source": [
    "# Display the table for Overnight Momentum\n",
    "print('Table for Overnight Momentum:')\n",
    "table_mom_overnight"
   ],
   "metadata": {
    "collapsed": false,
    "ExecuteTime": {
     "end_time": "2025-02-19T08:27:17.335885Z",
     "start_time": "2025-02-19T08:27:17.312214Z"
    }
   }
  },
  {
   "cell_type": "markdown",
   "source": [
    "# Answer to Q 4\n",
    "- Based on the tables produced, the intraday momentum predicts the intraday future returns more than the overnight returns. A hedge portfolio based on past one-month intraday returns earns an average EW intraday return of 4.939% per month with an associated t-statistic of 16.75. However, hedge portfolio based on past one-month intraday returns earns an average EW overnight return of -3.94% per month with an associated t-statistic of -21.658. The intraday momentum also predicts the total returns more than the overnight returns, but less than the intraday future returns.\n",
    "\n",
    "- The overnight momentum predicts the overnight returns more than the intraday future returns. A hedge portfolio based on past one-month overnight returns earns an average EW intraday return of -5.758% per month with an associated t-statistic of -21.75. However, hedge portfolio based on past one-month overnight returns earns an average EW overnight return of 5.733% per month with an associated t-statistic of 26.55. The overnight momentum also predicts the total returns more than the intraday future returns, but less than the overnight returns."
   ],
   "metadata": {
    "collapsed": false
   }
  },
  {
   "cell_type": "markdown",
   "source": [
    "# Extra credit to Q 4\n",
    "- Extra credit (1 point): For just the regular momentum portfolios, for a typical month, what is the fraction of winners that outperform the market return (i.e. from the fama French factor file)? I would first compute the monthly fraction, then average across time. Why are portfolios necessary in our quant trading strategies, why can’t we just pick one stock?"
   ],
   "metadata": {
    "collapsed": false
   }
  },
  {
   "cell_type": "code",
   "execution_count": 14,
   "outputs": [],
   "source": [
    "# Read the Fama French factor file\n",
    "ff_data = pd.read_parquet('data/hw1_factors.parquet', engine='pyarrow')\n",
    "ff_data['dt'] = pd.to_datetime(ff_data['dt'])\n",
    "ff_data = ff_data.sort_values(by='dt', ascending=True)\n",
    "ff_data.set_index('dt', inplace=True)\n",
    "\n",
    "# Calculate market return in decimal format\n",
    "ff_data['Mkt'] = ff_data['mkt_rf'] + ff_data['rf']\n",
    "ff_data['Mkt'] = ff_data['Mkt']/100\n",
    "ff_data['mkt_rf'] = ff_data['mkt_rf']/100\n",
    "ff_data['rf'] = ff_data['rf']/100\n",
    "\n",
    "# Ensure the data is not missing\n",
    "ff_data = ff_data.dropna()\n",
    "\n",
    "# Convert the daily data to monthly data to align with the monthly momentum data\n",
    "ff_data_mkt = ff_data.resample('M').agg({\n",
    "    'Mkt': lambda x: (1 + x).prod() - 1  # Cumulative monthly return\n",
    "}).reset_index()"
   ],
   "metadata": {
    "collapsed": false,
    "ExecuteTime": {
     "end_time": "2025-02-19T08:27:19.161288Z",
     "start_time": "2025-02-19T08:27:18.987992Z"
    }
   }
  },
  {
   "cell_type": "code",
   "execution_count": 15,
   "outputs": [
    {
     "data": {
      "text/plain": "            dt       Mkt\n0   1963-07-31 -0.001394\n1   1963-08-31  0.053341\n2   1963-09-30 -0.012966\n3   1963-10-31  0.028168\n4   1963-11-30 -0.005799\n..         ...       ...\n732 2024-07-31  0.016669\n733 2024-08-31  0.020874\n734 2024-09-30  0.021422\n735 2024-10-31 -0.005719\n736 2024-11-30  0.069089\n\n[737 rows x 2 columns]",
      "text/html": "<div>\n<style scoped>\n    .dataframe tbody tr th:only-of-type {\n        vertical-align: middle;\n    }\n\n    .dataframe tbody tr th {\n        vertical-align: top;\n    }\n\n    .dataframe thead th {\n        text-align: right;\n    }\n</style>\n<table border=\"1\" class=\"dataframe\">\n  <thead>\n    <tr style=\"text-align: right;\">\n      <th></th>\n      <th>dt</th>\n      <th>Mkt</th>\n    </tr>\n  </thead>\n  <tbody>\n    <tr>\n      <th>0</th>\n      <td>1963-07-31</td>\n      <td>-0.001394</td>\n    </tr>\n    <tr>\n      <th>1</th>\n      <td>1963-08-31</td>\n      <td>0.053341</td>\n    </tr>\n    <tr>\n      <th>2</th>\n      <td>1963-09-30</td>\n      <td>-0.012966</td>\n    </tr>\n    <tr>\n      <th>3</th>\n      <td>1963-10-31</td>\n      <td>0.028168</td>\n    </tr>\n    <tr>\n      <th>4</th>\n      <td>1963-11-30</td>\n      <td>-0.005799</td>\n    </tr>\n    <tr>\n      <th>...</th>\n      <td>...</td>\n      <td>...</td>\n    </tr>\n    <tr>\n      <th>732</th>\n      <td>2024-07-31</td>\n      <td>0.016669</td>\n    </tr>\n    <tr>\n      <th>733</th>\n      <td>2024-08-31</td>\n      <td>0.020874</td>\n    </tr>\n    <tr>\n      <th>734</th>\n      <td>2024-09-30</td>\n      <td>0.021422</td>\n    </tr>\n    <tr>\n      <th>735</th>\n      <td>2024-10-31</td>\n      <td>-0.005719</td>\n    </tr>\n    <tr>\n      <th>736</th>\n      <td>2024-11-30</td>\n      <td>0.069089</td>\n    </tr>\n  </tbody>\n</table>\n<p>737 rows × 2 columns</p>\n</div>"
     },
     "execution_count": 15,
     "metadata": {},
     "output_type": "execute_result"
    }
   ],
   "source": [
    "ff_data_mkt"
   ],
   "metadata": {
    "collapsed": false,
    "ExecuteTime": {
     "end_time": "2025-02-19T08:27:19.636963Z",
     "start_time": "2025-02-19T08:27:19.628646Z"
    }
   }
  },
  {
   "cell_type": "code",
   "execution_count": 24,
   "outputs": [
    {
     "data": {
      "text/plain": "           date  bin  winner\n0    1993-01-31    1     1.0\n1    1993-01-31    2     1.0\n2    1993-01-31    3     1.0\n3    1993-01-31    4     1.0\n4    1993-01-31    5     1.0\n...         ...  ...     ...\n3565 2022-09-30    6     1.0\n3566 2022-09-30    7     1.0\n3567 2022-09-30    8     1.0\n3568 2022-09-30    9     1.0\n3569 2022-09-30   10     1.0\n\n[3570 rows x 3 columns]",
      "text/html": "<div>\n<style scoped>\n    .dataframe tbody tr th:only-of-type {\n        vertical-align: middle;\n    }\n\n    .dataframe tbody tr th {\n        vertical-align: top;\n    }\n\n    .dataframe thead th {\n        text-align: right;\n    }\n</style>\n<table border=\"1\" class=\"dataframe\">\n  <thead>\n    <tr style=\"text-align: right;\">\n      <th></th>\n      <th>date</th>\n      <th>bin</th>\n      <th>winner</th>\n    </tr>\n  </thead>\n  <tbody>\n    <tr>\n      <th>0</th>\n      <td>1993-01-31</td>\n      <td>1</td>\n      <td>1.0</td>\n    </tr>\n    <tr>\n      <th>1</th>\n      <td>1993-01-31</td>\n      <td>2</td>\n      <td>1.0</td>\n    </tr>\n    <tr>\n      <th>2</th>\n      <td>1993-01-31</td>\n      <td>3</td>\n      <td>1.0</td>\n    </tr>\n    <tr>\n      <th>3</th>\n      <td>1993-01-31</td>\n      <td>4</td>\n      <td>1.0</td>\n    </tr>\n    <tr>\n      <th>4</th>\n      <td>1993-01-31</td>\n      <td>5</td>\n      <td>1.0</td>\n    </tr>\n    <tr>\n      <th>...</th>\n      <td>...</td>\n      <td>...</td>\n      <td>...</td>\n    </tr>\n    <tr>\n      <th>3565</th>\n      <td>2022-09-30</td>\n      <td>6</td>\n      <td>1.0</td>\n    </tr>\n    <tr>\n      <th>3566</th>\n      <td>2022-09-30</td>\n      <td>7</td>\n      <td>1.0</td>\n    </tr>\n    <tr>\n      <th>3567</th>\n      <td>2022-09-30</td>\n      <td>8</td>\n      <td>1.0</td>\n    </tr>\n    <tr>\n      <th>3568</th>\n      <td>2022-09-30</td>\n      <td>9</td>\n      <td>1.0</td>\n    </tr>\n    <tr>\n      <th>3569</th>\n      <td>2022-09-30</td>\n      <td>10</td>\n      <td>1.0</td>\n    </tr>\n  </tbody>\n</table>\n<p>3570 rows × 3 columns</p>\n</div>"
     },
     "execution_count": 24,
     "metadata": {},
     "output_type": "execute_result"
    }
   ],
   "source": [
    "# Make a copy of the filtered data\n",
    "regular_mom_data = portfolios_mom['bin'].copy()\n",
    "\n",
    "# Convert the date column to monthly end to align with the monthly Fama French factor data\n",
    "regular_mom_data['date'] = regular_mom_data['date'] + MonthEnd(0)\n",
    "\n",
    "# Sort the data by date\n",
    "regular_mom_data = regular_mom_data.sort_values(['date'])\n",
    "\n",
    "# Merge the regular momentum data with the monthly Fama French factor data\n",
    "combined_data = regular_mom_data.merge(ff_data_mkt, left_on='date', right_on='dt', how='inner')\n",
    "\n",
    "# sort the data by date\n",
    "combined_data = combined_data.sort_values(['date'])\n",
    "\n",
    "# Calculate the fraction of winners for each month\n",
    "combined_data['winner'] = combined_data['ew'] > combined_data['Mkt']\n",
    "monthly_fraction = combined_data.groupby(['date', 'bin'])['winner'].mean().reset_index()\n",
    "\n",
    "monthly_fraction"
   ],
   "metadata": {
    "collapsed": false,
    "ExecuteTime": {
     "end_time": "2025-02-19T08:30:57.397461Z",
     "start_time": "2025-02-19T08:30:57.348087Z"
    }
   }
  },
  {
   "cell_type": "code",
   "execution_count": 28,
   "outputs": [
    {
     "data": {
      "text/plain": "   bin    winner\n0    1  0.420168\n1    2  0.467787\n2    3  0.484594\n3    4  0.521008\n4    5  0.487395\n5    6  0.532213\n6    7  0.495798\n7    8  0.518207\n8    9  0.523810\n9   10  0.563025",
      "text/html": "<div>\n<style scoped>\n    .dataframe tbody tr th:only-of-type {\n        vertical-align: middle;\n    }\n\n    .dataframe tbody tr th {\n        vertical-align: top;\n    }\n\n    .dataframe thead th {\n        text-align: right;\n    }\n</style>\n<table border=\"1\" class=\"dataframe\">\n  <thead>\n    <tr style=\"text-align: right;\">\n      <th></th>\n      <th>bin</th>\n      <th>winner</th>\n    </tr>\n  </thead>\n  <tbody>\n    <tr>\n      <th>0</th>\n      <td>1</td>\n      <td>0.420168</td>\n    </tr>\n    <tr>\n      <th>1</th>\n      <td>2</td>\n      <td>0.467787</td>\n    </tr>\n    <tr>\n      <th>2</th>\n      <td>3</td>\n      <td>0.484594</td>\n    </tr>\n    <tr>\n      <th>3</th>\n      <td>4</td>\n      <td>0.521008</td>\n    </tr>\n    <tr>\n      <th>4</th>\n      <td>5</td>\n      <td>0.487395</td>\n    </tr>\n    <tr>\n      <th>5</th>\n      <td>6</td>\n      <td>0.532213</td>\n    </tr>\n    <tr>\n      <th>6</th>\n      <td>7</td>\n      <td>0.495798</td>\n    </tr>\n    <tr>\n      <th>7</th>\n      <td>8</td>\n      <td>0.518207</td>\n    </tr>\n    <tr>\n      <th>8</th>\n      <td>9</td>\n      <td>0.523810</td>\n    </tr>\n    <tr>\n      <th>9</th>\n      <td>10</td>\n      <td>0.563025</td>\n    </tr>\n  </tbody>\n</table>\n</div>"
     },
     "execution_count": 28,
     "metadata": {},
     "output_type": "execute_result"
    }
   ],
   "source": [
    "# Average the monthly fractions across time\n",
    "average_fraction = monthly_fraction.groupby(['bin'])['winner'].mean().reset_index()\n",
    "average_fraction"
   ],
   "metadata": {
    "collapsed": false,
    "ExecuteTime": {
     "end_time": "2025-02-19T08:32:56.633654Z",
     "start_time": "2025-02-19T08:32:56.619109Z"
    }
   }
  },
  {
   "cell_type": "code",
   "execution_count": 29,
   "outputs": [
    {
     "name": "stdout",
     "output_type": "stream",
     "text": [
      "Average fraction of winners that outperform the market return: 50.14%\n"
     ]
    }
   ],
   "source": [
    "# average fraction of winners that outperform the market return across time\n",
    "average = average_fraction['winner'].mean() * 100\n",
    "print('Average fraction of winners that outperform the market return: {:.2f}%'.format(average))"
   ],
   "metadata": {
    "collapsed": false,
    "ExecuteTime": {
     "end_time": "2025-02-19T08:33:07.285559Z",
     "start_time": "2025-02-19T08:33:07.273045Z"
    }
   }
  },
  {
   "cell_type": "code",
   "execution_count": 30,
   "outputs": [
    {
     "name": "stdout",
     "output_type": "stream",
     "text": [
      "Average fraction of winners that outperform the market return for the long-short portfolio: 54.06%\n"
     ]
    }
   ],
   "source": [
    "# construct long-short portfolio\n",
    "long_short = portfolios_mom['pnl'].copy()\n",
    "# adjust date to align with the monthly end Fama French factor data\n",
    "long_short['date'] = long_short['date'] + MonthEnd(0)\n",
    "\n",
    "# merge the long-short portfolio with the monthly Fama French factor data\n",
    "long_short = long_short.merge(ff_data_mkt, left_on='date', right_on='dt', how='inner')\n",
    "\n",
    "# calculate the fraction of winners for each month for the long-short portfolio\n",
    "long_short['winner'] = long_short['ew'] > long_short['Mkt']\n",
    "long_short_monthly_fraction = long_short.groupby(['date'])['winner'].mean().reset_index()\n",
    "\n",
    "# Average the monthly fractions across time for the long-short portfolio\n",
    "long_short_average_fraction = long_short_monthly_fraction['winner'].mean() * 100\n",
    "print('Average fraction of winners that outperform the market return for the long-short portfolio: {:.2f}%'.format(long_short_average_fraction))"
   ],
   "metadata": {
    "collapsed": false,
    "ExecuteTime": {
     "end_time": "2025-02-19T08:33:14.092952Z",
     "start_time": "2025-02-19T08:33:14.073724Z"
    }
   }
  },
  {
   "cell_type": "markdown",
   "source": [
    "# Answer to Extra credit to Q 4\n",
    "- The portfolios are necessary in our quant trading strategies because the portfolios allow us to diversify our investments and reduce the risk of investing in a single stock. If we just pick one stock, we are exposed to the risk of that stock. The chance of a single stock beating the market return is not consistent. By investing in a portfolio of stocks, we can reduce the risk of investing in a single stock and have higher overall chance of beating the market return."
   ],
   "metadata": {
    "collapsed": false
   }
  },
  {
   "cell_type": "markdown",
   "id": "83f477cb-fc64-4486-81bf-5760096e0ef8",
   "metadata": {},
   "source": [
    "# End"
   ]
  },
  {
   "cell_type": "code",
   "execution_count": null,
   "outputs": [],
   "source": [],
   "metadata": {
    "collapsed": false
   }
  }
 ],
 "metadata": {
  "kernelspec": {
   "display_name": "Python 3 (ipykernel)",
   "language": "python",
   "name": "python3"
  },
  "language_info": {
   "codemirror_mode": {
    "name": "ipython",
    "version": 3
   },
   "file_extension": ".py",
   "mimetype": "text/x-python",
   "name": "python",
   "nbconvert_exporter": "python",
   "pygments_lexer": "ipython3",
   "version": "3.12.4"
  }
 },
 "nbformat": 4,
 "nbformat_minor": 5
}
