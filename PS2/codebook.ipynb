{
 "cells": [
  {
   "cell_type": "code",
   "execution_count": 1,
   "id": "94d19346-df27-4717-bca6-3c757717c002",
   "metadata": {
    "ExecuteTime": {
     "end_time": "2025-02-26T09:51:26.847789Z",
     "start_time": "2025-02-26T09:51:25.503645Z"
    }
   },
   "outputs": [],
   "source": [
    "# Some basic imports\n",
    "\n",
    "import pandas as pd\n",
    "import numpy as np\n",
    "from pandas.tseries.offsets import MonthEnd\n",
    "import datetime as dt\n",
    "import matplotlib.pyplot as plt\n",
    "from pandas.tseries.offsets import *\n",
    "from scipy import stats\n",
    "from scipy.stats import gmean\n",
    "pd.options.display.max_rows = 12\n",
    "import statsmodels.api as sm\n",
    "import statsmodels.formula.api as smf\n",
    "from datetime import datetime\n",
    "from scipy.stats import ttest_1samp\n",
    "import seaborn as sns"
   ]
  },
  {
   "cell_type": "markdown",
   "source": [
    "# Q 1\n",
    "What information events happen during market hours and outside of market hours? Specifically\n",
    "- When are earnings of companies announced?\n",
    "- Typically, are macro announcements like non-farm payrolls during trading day or before market hours? Hm, why would macro announcements matter for individual stocks?"
   ],
   "metadata": {
    "collapsed": false
   }
  },
  {
   "cell_type": "markdown",
   "id": "4e0fd2d2",
   "metadata": {
    "collapsed": false,
    "jupyter": {
     "outputs_hidden": false
    }
   },
   "source": [
    "## Answer to Q 1\n",
    "- Earnings of companies are typically announced outside the market hours. The stock price usually surge before post-close earnings announcements and then drop after the announcement.\n",
    "- Macro announcements like non-farm payrolls are typically announced during the trading day.\n",
    "- Macro announcements matter for individual stocks because the macro announcements can affect the stock prices. Good or bad news may affect investor's sentiment and expectation in stock markets. For example, if the non-farm payrolls are better than expected, the stock prices can go up.\n",
    "- For example, if the Federal Reserve raises the interest rates, the stock prices can go down. If the Federal Reserve lowers the interest rates, the stock prices can go up.\n",
    "- For example, if the inflation rate is higher than expected, the stock prices can go down. If the inflation rate is lower than expected, the stock prices can go up."
   ]
  },
  {
   "cell_type": "markdown",
   "id": "5393bd24",
   "metadata": {
    "collapsed": false,
    "jupyter": {
     "outputs_hidden": false
    }
   },
   "source": [
    "# Q 2\n",
    "Now read in the parquet file I provided. What is the correlation of intraday, overnight momentum and regular momentum?"
   ]
  },
  {
   "cell_type": "code",
   "execution_count": 2,
   "id": "fca513bd",
   "metadata": {
    "collapsed": false,
    "jupyter": {
     "outputs_hidden": false
    },
    "ExecuteTime": {
     "end_time": "2025-02-26T09:51:37.870256Z",
     "start_time": "2025-02-26T09:51:28.852369Z"
    }
   },
   "outputs": [
    {
     "data": {
      "text/plain": "          permno       date       ret  intraday_ret_month  \\\n0        10094.0 1993-01-29  0.144578           -0.073377   \n701547   10530.0 1993-01-29 -0.083333           -0.157304   \n105284   67847.0 1993-01-29  0.040000            0.038355   \n701498   10451.0 1993-01-29  0.150000            0.209593   \n701435   10199.0 1993-01-29 -0.109890           -0.019169   \n...          ...        ...       ...                 ...   \n1619641  89968.0 2022-09-30 -0.085799           -0.027635   \n38967    14694.0 2022-09-30 -0.190476           -0.104982   \n651813   15961.0 2022-09-30 -0.029350           -0.018355   \n1243114  89110.0 2022-09-30 -0.149184           -0.120427   \n541385   17726.0 2022-09-30 -0.105530           -0.041869   \n\n         overnight_ret_month     mcap_lag1    prc_lag1  mom_intraday  \\\n0                   0.235213  8.965038e+04   10.375000     -0.533850   \n701547              0.087777  6.936300e+04    9.000000     -0.318888   \n105284              0.001585  3.726562e+04    3.125000      0.724017   \n701498             -0.049267  6.536800e+05   20.000000      0.611130   \n701435             -0.092494  3.685955e+05   22.750000      0.342861   \n...                      ...           ...         ...           ...   \n1619641            -0.059820  1.997643e+06  114.570000     -0.068815   \n38967              -0.095523  7.885149e+05    6.090000     -0.189703   \n651813             -0.011202  1.096098e+05    4.770000     -0.109958   \n1243114            -0.032694  4.530322e+06  102.290001     -0.049437   \n541385             -0.066443  1.097643e+07   90.589996     -0.109908   \n\n              mom  mom_overnight  mcap_bin  \n0       -0.151231       0.382617       6.0  \n701547   0.024487       0.343261       6.0  \n105284   0.733969      -0.870456       4.0  \n701498   0.228842      -0.382286       9.0  \n701435   0.114994      -0.227853       8.0  \n...           ...            ...       ...  \n1619641 -0.116748      -0.049872       7.0  \n38967   -0.301734      -0.112035       6.0  \n651813  -0.177948      -0.067988       3.0  \n1243114 -0.160410      -0.110973       9.0  \n541385  -0.183806      -0.073739       9.0  \n\n[1652479 rows x 11 columns]",
      "text/html": "<div>\n<style scoped>\n    .dataframe tbody tr th:only-of-type {\n        vertical-align: middle;\n    }\n\n    .dataframe tbody tr th {\n        vertical-align: top;\n    }\n\n    .dataframe thead th {\n        text-align: right;\n    }\n</style>\n<table border=\"1\" class=\"dataframe\">\n  <thead>\n    <tr style=\"text-align: right;\">\n      <th></th>\n      <th>permno</th>\n      <th>date</th>\n      <th>ret</th>\n      <th>intraday_ret_month</th>\n      <th>overnight_ret_month</th>\n      <th>mcap_lag1</th>\n      <th>prc_lag1</th>\n      <th>mom_intraday</th>\n      <th>mom</th>\n      <th>mom_overnight</th>\n      <th>mcap_bin</th>\n    </tr>\n  </thead>\n  <tbody>\n    <tr>\n      <th>0</th>\n      <td>10094.0</td>\n      <td>1993-01-29</td>\n      <td>0.144578</td>\n      <td>-0.073377</td>\n      <td>0.235213</td>\n      <td>8.965038e+04</td>\n      <td>10.375000</td>\n      <td>-0.533850</td>\n      <td>-0.151231</td>\n      <td>0.382617</td>\n      <td>6.0</td>\n    </tr>\n    <tr>\n      <th>701547</th>\n      <td>10530.0</td>\n      <td>1993-01-29</td>\n      <td>-0.083333</td>\n      <td>-0.157304</td>\n      <td>0.087777</td>\n      <td>6.936300e+04</td>\n      <td>9.000000</td>\n      <td>-0.318888</td>\n      <td>0.024487</td>\n      <td>0.343261</td>\n      <td>6.0</td>\n    </tr>\n    <tr>\n      <th>105284</th>\n      <td>67847.0</td>\n      <td>1993-01-29</td>\n      <td>0.040000</td>\n      <td>0.038355</td>\n      <td>0.001585</td>\n      <td>3.726562e+04</td>\n      <td>3.125000</td>\n      <td>0.724017</td>\n      <td>0.733969</td>\n      <td>-0.870456</td>\n      <td>4.0</td>\n    </tr>\n    <tr>\n      <th>701498</th>\n      <td>10451.0</td>\n      <td>1993-01-29</td>\n      <td>0.150000</td>\n      <td>0.209593</td>\n      <td>-0.049267</td>\n      <td>6.536800e+05</td>\n      <td>20.000000</td>\n      <td>0.611130</td>\n      <td>0.228842</td>\n      <td>-0.382286</td>\n      <td>9.0</td>\n    </tr>\n    <tr>\n      <th>701435</th>\n      <td>10199.0</td>\n      <td>1993-01-29</td>\n      <td>-0.109890</td>\n      <td>-0.019169</td>\n      <td>-0.092494</td>\n      <td>3.685955e+05</td>\n      <td>22.750000</td>\n      <td>0.342861</td>\n      <td>0.114994</td>\n      <td>-0.227853</td>\n      <td>8.0</td>\n    </tr>\n    <tr>\n      <th>...</th>\n      <td>...</td>\n      <td>...</td>\n      <td>...</td>\n      <td>...</td>\n      <td>...</td>\n      <td>...</td>\n      <td>...</td>\n      <td>...</td>\n      <td>...</td>\n      <td>...</td>\n      <td>...</td>\n    </tr>\n    <tr>\n      <th>1619641</th>\n      <td>89968.0</td>\n      <td>2022-09-30</td>\n      <td>-0.085799</td>\n      <td>-0.027635</td>\n      <td>-0.059820</td>\n      <td>1.997643e+06</td>\n      <td>114.570000</td>\n      <td>-0.068815</td>\n      <td>-0.116748</td>\n      <td>-0.049872</td>\n      <td>7.0</td>\n    </tr>\n    <tr>\n      <th>38967</th>\n      <td>14694.0</td>\n      <td>2022-09-30</td>\n      <td>-0.190476</td>\n      <td>-0.104982</td>\n      <td>-0.095523</td>\n      <td>7.885149e+05</td>\n      <td>6.090000</td>\n      <td>-0.189703</td>\n      <td>-0.301734</td>\n      <td>-0.112035</td>\n      <td>6.0</td>\n    </tr>\n    <tr>\n      <th>651813</th>\n      <td>15961.0</td>\n      <td>2022-09-30</td>\n      <td>-0.029350</td>\n      <td>-0.018355</td>\n      <td>-0.011202</td>\n      <td>1.096098e+05</td>\n      <td>4.770000</td>\n      <td>-0.109958</td>\n      <td>-0.177948</td>\n      <td>-0.067988</td>\n      <td>3.0</td>\n    </tr>\n    <tr>\n      <th>1243114</th>\n      <td>89110.0</td>\n      <td>2022-09-30</td>\n      <td>-0.149184</td>\n      <td>-0.120427</td>\n      <td>-0.032694</td>\n      <td>4.530322e+06</td>\n      <td>102.290001</td>\n      <td>-0.049437</td>\n      <td>-0.160410</td>\n      <td>-0.110973</td>\n      <td>9.0</td>\n    </tr>\n    <tr>\n      <th>541385</th>\n      <td>17726.0</td>\n      <td>2022-09-30</td>\n      <td>-0.105530</td>\n      <td>-0.041869</td>\n      <td>-0.066443</td>\n      <td>1.097643e+07</td>\n      <td>90.589996</td>\n      <td>-0.109908</td>\n      <td>-0.183806</td>\n      <td>-0.073739</td>\n      <td>9.0</td>\n    </tr>\n  </tbody>\n</table>\n<p>1652479 rows × 11 columns</p>\n</div>"
     },
     "execution_count": 2,
     "metadata": {},
     "output_type": "execute_result"
    }
   ],
   "source": [
    "# read the data\n",
    "df = pd.read_parquet('data/hw2_mfin7037_data.parquet', engine='pyarrow')\n",
    "# convert the date to datetime\n",
    "df['date'] = pd.to_datetime(df['date'])\n",
    "# start the data in 1993\n",
    "df = df.query(\"date>='1993-01-01'\")\n",
    "\n",
    "# Filter out rows with missing values in the specified columns\n",
    "hw2_data = df[\n",
    "    (df['ret'].notnull()) &\n",
    "    (df['intraday_ret_month'].notnull()) &\n",
    "    (df['overnight_ret_month'].notnull()) &\n",
    "    (df['mom'].notnull()) &\n",
    "    (df['mom_intraday'].notnull()) &\n",
    "    (df['mom_overnight'].notnull()) &\n",
    "    (df['mcap_lag1'].notnull()) &\n",
    "    (np.abs(df['prc_lag1']) >= 1)\n",
    "]\n",
    "\n",
    "# Ensure each permno has at least 8 observations recently\n",
    "hw2_data = hw2_data.groupby('permno').filter(lambda x: len(x) >= 8)\n",
    "# reset index\n",
    "hw2_data.reset_index(drop=True, inplace=True)\n",
    "# Sort the data by date\n",
    "hw2_data = hw2_data.sort_values(['date'])\n",
    "\n",
    "hw2_data"
   ]
  },
  {
   "cell_type": "code",
   "execution_count": 3,
   "id": "d1dba578",
   "metadata": {
    "collapsed": false,
    "jupyter": {
     "outputs_hidden": false
    },
    "ExecuteTime": {
     "end_time": "2025-02-26T09:51:39.690431Z",
     "start_time": "2025-02-26T09:51:39.536697Z"
    }
   },
   "outputs": [
    {
     "name": "stdout",
     "output_type": "stream",
     "text": [
      "Correlation of Intraday, Overnight Momentum and Regular Momentum:\n"
     ]
    },
    {
     "data": {
      "text/plain": "                    Intraday Momentum  Overnight Momentum  Regular Momentum\nIntraday Momentum              1.0000             -0.6637            0.5818\nOvernight Momentum            -0.6637              1.0000            0.1546\nRegular Momentum               0.5818              0.1546            1.0000",
      "text/html": "<div>\n<style scoped>\n    .dataframe tbody tr th:only-of-type {\n        vertical-align: middle;\n    }\n\n    .dataframe tbody tr th {\n        vertical-align: top;\n    }\n\n    .dataframe thead th {\n        text-align: right;\n    }\n</style>\n<table border=\"1\" class=\"dataframe\">\n  <thead>\n    <tr style=\"text-align: right;\">\n      <th></th>\n      <th>Intraday Momentum</th>\n      <th>Overnight Momentum</th>\n      <th>Regular Momentum</th>\n    </tr>\n  </thead>\n  <tbody>\n    <tr>\n      <th>Intraday Momentum</th>\n      <td>1.0000</td>\n      <td>-0.6637</td>\n      <td>0.5818</td>\n    </tr>\n    <tr>\n      <th>Overnight Momentum</th>\n      <td>-0.6637</td>\n      <td>1.0000</td>\n      <td>0.1546</td>\n    </tr>\n    <tr>\n      <th>Regular Momentum</th>\n      <td>0.5818</td>\n      <td>0.1546</td>\n      <td>1.0000</td>\n    </tr>\n  </tbody>\n</table>\n</div>"
     },
     "execution_count": 3,
     "metadata": {},
     "output_type": "execute_result"
    }
   ],
   "source": [
    "# calculate the correlation of intraday, overnight momentum and regular momentum\n",
    "correlation = hw2_data[['mom_intraday', 'mom_overnight', 'mom']].corr()\n",
    "\n",
    "# Rename the columns\n",
    "correlation.columns = ['Intraday Momentum', 'Overnight Momentum', 'Regular Momentum']\n",
    "correlation.index = ['Intraday Momentum', 'Overnight Momentum', 'Regular Momentum']\n",
    "\n",
    "# Result of the correlation is limited to 4 decimal places\n",
    "correlation = correlation.round(4)\n",
    "\n",
    "# Display the correlation\n",
    "print('Correlation of Intraday, Overnight Momentum and Regular Momentum:')\n",
    "correlation"
   ]
  },
  {
   "cell_type": "markdown",
   "id": "6e2a9324-fd00-4079-862e-5bf4ac828af6",
   "metadata": {},
   "source": [
    "# Q 3"
   ]
  },
  {
   "cell_type": "code",
   "execution_count": 4,
   "id": "3361a9a3-95f0-44f6-b4af-a5d40ced789d",
   "metadata": {
    "ExecuteTime": {
     "end_time": "2025-02-26T09:51:42.934867Z",
     "start_time": "2025-02-26T09:51:42.661966Z"
    }
   },
   "outputs": [
    {
     "name": "stdout",
     "output_type": "stream",
     "text": [
      "Tesla's last date in HW2 data = 2022-09-30 00:00:00\n",
      "The mom_intraday of Tesla provided by HW2 data = -0.1605\n",
      "Intraday momentum of Tesla, derived from intraday_ret_month of HW2 data = -0.1168\n"
     ]
    }
   ],
   "source": [
    "# Filter given Tesla hw2 data\n",
    "## hw2 data\n",
    "q3_data = pd.read_parquet('data/hw2_mfin7037_data.parquet', engine='pyarrow')\n",
    "q3_data['date'] = pd.to_datetime(q3_data['date'])\n",
    "tesla_hw2 = q3_data[q3_data['permno'] == 93436].sort_values('date')\n",
    "# Last date\n",
    "last_date_hw2 = tesla_hw2['date'].max()\n",
    "print(f\"Tesla's last date in HW2 data = {last_date_hw2}\")\n",
    "\n",
    "# get mom_intraday of the last day\n",
    "provided_mom_intraday = tesla_hw2[tesla_hw2['date'] == last_date_hw2]['mom_intraday'].values[0]\n",
    "print(f\"The mom_intraday of Tesla provided by HW2 data = {provided_mom_intraday:.4f}\")\n",
    "\n",
    "# compare intraday_ret_month and derived intraday momentum derived from HW2 data\n",
    "start_date_hw2 = last_date_hw2 - MonthEnd(12)\n",
    "mid_date_hw2 = last_date_hw2 - MonthEnd(2)\n",
    "momentum_hw2 = tesla_hw2[\n",
    "    (tesla_hw2['date'] >= start_date_hw2) & \n",
    "    (tesla_hw2['date'] <= mid_date_hw2)\n",
    "]\n",
    "intraday_returns_hw2 = momentum_hw2['intraday_ret_month'].dropna()\n",
    "mom_intraday_hw2_calc = np.prod(1 + intraday_returns_hw2) - 1\n",
    "print(f\"Intraday momentum of Tesla, derived from intraday_ret_month of HW2 data = {mom_intraday_hw2_calc:.4f}\")"
   ]
  },
  {
   "cell_type": "code",
   "execution_count": 5,
   "id": "0f0c8cc4-c0c2-466a-8626-60c40e0c129f",
   "metadata": {
    "ExecuteTime": {
     "end_time": "2025-02-26T09:51:50.605785Z",
     "start_time": "2025-02-26T09:51:46.097351Z"
    }
   },
   "outputs": [
    {
     "ename": "TypeError",
     "evalue": "<lambda>() got an unexpected keyword argument 'include_groups'",
     "output_type": "error",
     "traceback": [
      "\u001B[0;31m---------------------------------------------------------------------------\u001B[0m",
      "\u001B[0;31mTypeError\u001B[0m                                 Traceback (most recent call last)",
      "File \u001B[0;32m~/anaconda3/lib/python3.11/site-packages/pandas/core/groupby/groupby.py:1567\u001B[0m, in \u001B[0;36mGroupBy.apply\u001B[0;34m(self, func, *args, **kwargs)\u001B[0m\n\u001B[1;32m   1564\u001B[0m     \u001B[38;5;28;01mwith\u001B[39;00m rewrite_warning(\n\u001B[1;32m   1565\u001B[0m         old_msg, \u001B[38;5;167;01mFutureWarning\u001B[39;00m, new_msg\n\u001B[1;32m   1566\u001B[0m     ) \u001B[38;5;28;01mif\u001B[39;00m is_np_func \u001B[38;5;28;01melse\u001B[39;00m nullcontext():\n\u001B[0;32m-> 1567\u001B[0m         result \u001B[38;5;241m=\u001B[39m \u001B[38;5;28mself\u001B[39m\u001B[38;5;241m.\u001B[39m_python_apply_general(f, \u001B[38;5;28mself\u001B[39m\u001B[38;5;241m.\u001B[39m_selected_obj)\n\u001B[1;32m   1568\u001B[0m \u001B[38;5;28;01mexcept\u001B[39;00m \u001B[38;5;167;01mTypeError\u001B[39;00m:\n\u001B[1;32m   1569\u001B[0m     \u001B[38;5;66;03m# gh-20949\u001B[39;00m\n\u001B[1;32m   1570\u001B[0m     \u001B[38;5;66;03m# try again, with .apply acting as a filtering\u001B[39;00m\n\u001B[0;32m   (...)\u001B[0m\n\u001B[1;32m   1574\u001B[0m     \u001B[38;5;66;03m# fails on *some* columns, e.g. a numeric operation\u001B[39;00m\n\u001B[1;32m   1575\u001B[0m     \u001B[38;5;66;03m# on a string grouper column\u001B[39;00m\n",
      "File \u001B[0;32m~/anaconda3/lib/python3.11/site-packages/pandas/core/groupby/groupby.py:1629\u001B[0m, in \u001B[0;36mGroupBy._python_apply_general\u001B[0;34m(self, f, data, not_indexed_same, is_transform, is_agg)\u001B[0m\n\u001B[1;32m   1601\u001B[0m \u001B[38;5;250m\u001B[39m\u001B[38;5;124;03m\"\"\"\u001B[39;00m\n\u001B[1;32m   1602\u001B[0m \u001B[38;5;124;03mApply function f in python space\u001B[39;00m\n\u001B[1;32m   1603\u001B[0m \n\u001B[0;32m   (...)\u001B[0m\n\u001B[1;32m   1627\u001B[0m \u001B[38;5;124;03m    data after applying f\u001B[39;00m\n\u001B[1;32m   1628\u001B[0m \u001B[38;5;124;03m\"\"\"\u001B[39;00m\n\u001B[0;32m-> 1629\u001B[0m values, mutated \u001B[38;5;241m=\u001B[39m \u001B[38;5;28mself\u001B[39m\u001B[38;5;241m.\u001B[39mgrouper\u001B[38;5;241m.\u001B[39mapply(f, data, \u001B[38;5;28mself\u001B[39m\u001B[38;5;241m.\u001B[39maxis)\n\u001B[1;32m   1630\u001B[0m \u001B[38;5;28;01mif\u001B[39;00m not_indexed_same \u001B[38;5;129;01mis\u001B[39;00m \u001B[38;5;28;01mNone\u001B[39;00m:\n",
      "File \u001B[0;32m~/anaconda3/lib/python3.11/site-packages/pandas/core/groupby/ops.py:839\u001B[0m, in \u001B[0;36mBaseGrouper.apply\u001B[0;34m(self, f, data, axis)\u001B[0m\n\u001B[1;32m    838\u001B[0m group_axes \u001B[38;5;241m=\u001B[39m group\u001B[38;5;241m.\u001B[39maxes\n\u001B[0;32m--> 839\u001B[0m res \u001B[38;5;241m=\u001B[39m f(group)\n\u001B[1;32m    840\u001B[0m \u001B[38;5;28;01mif\u001B[39;00m \u001B[38;5;129;01mnot\u001B[39;00m mutated \u001B[38;5;129;01mand\u001B[39;00m \u001B[38;5;129;01mnot\u001B[39;00m _is_indexed_like(res, group_axes, axis):\n",
      "File \u001B[0;32m~/anaconda3/lib/python3.11/site-packages/pandas/core/groupby/groupby.py:1540\u001B[0m, in \u001B[0;36mGroupBy.apply.<locals>.f\u001B[0;34m(g)\u001B[0m\n\u001B[1;32m   1539\u001B[0m \u001B[38;5;28;01mwith\u001B[39;00m np\u001B[38;5;241m.\u001B[39merrstate(\u001B[38;5;28mall\u001B[39m\u001B[38;5;241m=\u001B[39m\u001B[38;5;124m\"\u001B[39m\u001B[38;5;124mignore\u001B[39m\u001B[38;5;124m\"\u001B[39m):\n\u001B[0;32m-> 1540\u001B[0m     \u001B[38;5;28;01mreturn\u001B[39;00m func(g, \u001B[38;5;241m*\u001B[39margs, \u001B[38;5;241m*\u001B[39m\u001B[38;5;241m*\u001B[39mkwargs)\n",
      "\u001B[0;31mTypeError\u001B[0m: <lambda>() got an unexpected keyword argument 'include_groups'",
      "\nDuring handling of the above exception, another exception occurred:\n",
      "\u001B[0;31mTypeError\u001B[0m                                 Traceback (most recent call last)",
      "Cell \u001B[0;32mIn[5], line 21\u001B[0m\n\u001B[1;32m     19\u001B[0m \u001B[38;5;66;03m# product to a month\u001B[39;00m\n\u001B[1;32m     20\u001B[0m tesla_crsp[\u001B[38;5;124m'\u001B[39m\u001B[38;5;124mmonth\u001B[39m\u001B[38;5;124m'\u001B[39m] \u001B[38;5;241m=\u001B[39m tesla_crsp[\u001B[38;5;124m'\u001B[39m\u001B[38;5;124mdate\u001B[39m\u001B[38;5;124m'\u001B[39m]\u001B[38;5;241m.\u001B[39mdt\u001B[38;5;241m.\u001B[39mto_period(\u001B[38;5;124m'\u001B[39m\u001B[38;5;124mM\u001B[39m\u001B[38;5;124m'\u001B[39m)\n\u001B[0;32m---> 21\u001B[0m monthly_crsp \u001B[38;5;241m=\u001B[39m tesla_crsp\u001B[38;5;241m.\u001B[39mgroupby(\u001B[38;5;124m'\u001B[39m\u001B[38;5;124mmonth\u001B[39m\u001B[38;5;124m'\u001B[39m)\u001B[38;5;241m.\u001B[39mapply(\n\u001B[1;32m     22\u001B[0m     \u001B[38;5;28;01mlambda\u001B[39;00m x: np\u001B[38;5;241m.\u001B[39mprod(\u001B[38;5;241m1\u001B[39m \u001B[38;5;241m+\u001B[39m x[\u001B[38;5;124m'\u001B[39m\u001B[38;5;124mintraday_ret\u001B[39m\u001B[38;5;124m'\u001B[39m]\u001B[38;5;241m.\u001B[39mdropna()) \u001B[38;5;241m-\u001B[39m \u001B[38;5;241m1\u001B[39m, include_groups\u001B[38;5;241m=\u001B[39m\u001B[38;5;28;01mFalse\u001B[39;00m\n\u001B[1;32m     23\u001B[0m )\u001B[38;5;241m.\u001B[39mreset_index(name\u001B[38;5;241m=\u001B[39m\u001B[38;5;124m'\u001B[39m\u001B[38;5;124mintraday_ret_month\u001B[39m\u001B[38;5;124m'\u001B[39m)\n\u001B[1;32m     25\u001B[0m \u001B[38;5;66;03m# change date to the last day of this month\u001B[39;00m\n\u001B[1;32m     26\u001B[0m monthly_crsp[\u001B[38;5;124m'\u001B[39m\u001B[38;5;124mdate\u001B[39m\u001B[38;5;124m'\u001B[39m] \u001B[38;5;241m=\u001B[39m monthly_crsp[\u001B[38;5;124m'\u001B[39m\u001B[38;5;124mmonth\u001B[39m\u001B[38;5;124m'\u001B[39m]\u001B[38;5;241m.\u001B[39mdt\u001B[38;5;241m.\u001B[39mto_timestamp() \u001B[38;5;241m+\u001B[39m MonthEnd(\u001B[38;5;241m0\u001B[39m)\n",
      "File \u001B[0;32m~/anaconda3/lib/python3.11/site-packages/pandas/core/groupby/groupby.py:1588\u001B[0m, in \u001B[0;36mGroupBy.apply\u001B[0;34m(self, func, *args, **kwargs)\u001B[0m\n\u001B[1;32m   1580\u001B[0m             new_msg \u001B[38;5;241m=\u001B[39m (\n\u001B[1;32m   1581\u001B[0m                 \u001B[38;5;124mf\u001B[39m\u001B[38;5;124m\"\u001B[39m\u001B[38;5;124mThe operation \u001B[39m\u001B[38;5;132;01m{\u001B[39;00morig_func\u001B[38;5;132;01m}\u001B[39;00m\u001B[38;5;124m failed on a column. If any error \u001B[39m\u001B[38;5;124m\"\u001B[39m\n\u001B[1;32m   1582\u001B[0m                 \u001B[38;5;124mf\u001B[39m\u001B[38;5;124m\"\u001B[39m\u001B[38;5;124mis raised, this will raise an exception in a future version \u001B[39m\u001B[38;5;124m\"\u001B[39m\n\u001B[1;32m   1583\u001B[0m                 \u001B[38;5;124mf\u001B[39m\u001B[38;5;124m\"\u001B[39m\u001B[38;5;124mof pandas. Drop these columns to avoid this warning.\u001B[39m\u001B[38;5;124m\"\u001B[39m\n\u001B[1;32m   1584\u001B[0m             )\n\u001B[1;32m   1585\u001B[0m             \u001B[38;5;28;01mwith\u001B[39;00m rewrite_warning(\n\u001B[1;32m   1586\u001B[0m                 old_msg, \u001B[38;5;167;01mFutureWarning\u001B[39;00m, new_msg\n\u001B[1;32m   1587\u001B[0m             ) \u001B[38;5;28;01mif\u001B[39;00m is_np_func \u001B[38;5;28;01melse\u001B[39;00m nullcontext():\n\u001B[0;32m-> 1588\u001B[0m                 \u001B[38;5;28;01mreturn\u001B[39;00m \u001B[38;5;28mself\u001B[39m\u001B[38;5;241m.\u001B[39m_python_apply_general(f, \u001B[38;5;28mself\u001B[39m\u001B[38;5;241m.\u001B[39m_selected_obj)\n\u001B[1;32m   1590\u001B[0m \u001B[38;5;28;01mreturn\u001B[39;00m result\n",
      "File \u001B[0;32m~/anaconda3/lib/python3.11/site-packages/pandas/core/groupby/groupby.py:1629\u001B[0m, in \u001B[0;36mGroupBy._python_apply_general\u001B[0;34m(self, f, data, not_indexed_same, is_transform, is_agg)\u001B[0m\n\u001B[1;32m   1592\u001B[0m \u001B[38;5;129m@final\u001B[39m\n\u001B[1;32m   1593\u001B[0m \u001B[38;5;28;01mdef\u001B[39;00m \u001B[38;5;21m_python_apply_general\u001B[39m(\n\u001B[1;32m   1594\u001B[0m     \u001B[38;5;28mself\u001B[39m,\n\u001B[0;32m   (...)\u001B[0m\n\u001B[1;32m   1599\u001B[0m     is_agg: \u001B[38;5;28mbool\u001B[39m \u001B[38;5;241m=\u001B[39m \u001B[38;5;28;01mFalse\u001B[39;00m,\n\u001B[1;32m   1600\u001B[0m ) \u001B[38;5;241m-\u001B[39m\u001B[38;5;241m>\u001B[39m NDFrameT:\n\u001B[1;32m   1601\u001B[0m \u001B[38;5;250m    \u001B[39m\u001B[38;5;124;03m\"\"\"\u001B[39;00m\n\u001B[1;32m   1602\u001B[0m \u001B[38;5;124;03m    Apply function f in python space\u001B[39;00m\n\u001B[1;32m   1603\u001B[0m \n\u001B[0;32m   (...)\u001B[0m\n\u001B[1;32m   1627\u001B[0m \u001B[38;5;124;03m        data after applying f\u001B[39;00m\n\u001B[1;32m   1628\u001B[0m \u001B[38;5;124;03m    \"\"\"\u001B[39;00m\n\u001B[0;32m-> 1629\u001B[0m     values, mutated \u001B[38;5;241m=\u001B[39m \u001B[38;5;28mself\u001B[39m\u001B[38;5;241m.\u001B[39mgrouper\u001B[38;5;241m.\u001B[39mapply(f, data, \u001B[38;5;28mself\u001B[39m\u001B[38;5;241m.\u001B[39maxis)\n\u001B[1;32m   1630\u001B[0m     \u001B[38;5;28;01mif\u001B[39;00m not_indexed_same \u001B[38;5;129;01mis\u001B[39;00m \u001B[38;5;28;01mNone\u001B[39;00m:\n\u001B[1;32m   1631\u001B[0m         not_indexed_same \u001B[38;5;241m=\u001B[39m mutated \u001B[38;5;129;01mor\u001B[39;00m \u001B[38;5;28mself\u001B[39m\u001B[38;5;241m.\u001B[39mmutated\n",
      "File \u001B[0;32m~/anaconda3/lib/python3.11/site-packages/pandas/core/groupby/ops.py:839\u001B[0m, in \u001B[0;36mBaseGrouper.apply\u001B[0;34m(self, f, data, axis)\u001B[0m\n\u001B[1;32m    837\u001B[0m \u001B[38;5;66;03m# group might be modified\u001B[39;00m\n\u001B[1;32m    838\u001B[0m group_axes \u001B[38;5;241m=\u001B[39m group\u001B[38;5;241m.\u001B[39maxes\n\u001B[0;32m--> 839\u001B[0m res \u001B[38;5;241m=\u001B[39m f(group)\n\u001B[1;32m    840\u001B[0m \u001B[38;5;28;01mif\u001B[39;00m \u001B[38;5;129;01mnot\u001B[39;00m mutated \u001B[38;5;129;01mand\u001B[39;00m \u001B[38;5;129;01mnot\u001B[39;00m _is_indexed_like(res, group_axes, axis):\n\u001B[1;32m    841\u001B[0m     mutated \u001B[38;5;241m=\u001B[39m \u001B[38;5;28;01mTrue\u001B[39;00m\n",
      "File \u001B[0;32m~/anaconda3/lib/python3.11/site-packages/pandas/core/groupby/groupby.py:1540\u001B[0m, in \u001B[0;36mGroupBy.apply.<locals>.f\u001B[0;34m(g)\u001B[0m\n\u001B[1;32m   1537\u001B[0m \u001B[38;5;129m@wraps\u001B[39m(func)\n\u001B[1;32m   1538\u001B[0m \u001B[38;5;28;01mdef\u001B[39;00m \u001B[38;5;21mf\u001B[39m(g):\n\u001B[1;32m   1539\u001B[0m     \u001B[38;5;28;01mwith\u001B[39;00m np\u001B[38;5;241m.\u001B[39merrstate(\u001B[38;5;28mall\u001B[39m\u001B[38;5;241m=\u001B[39m\u001B[38;5;124m\"\u001B[39m\u001B[38;5;124mignore\u001B[39m\u001B[38;5;124m\"\u001B[39m):\n\u001B[0;32m-> 1540\u001B[0m         \u001B[38;5;28;01mreturn\u001B[39;00m func(g, \u001B[38;5;241m*\u001B[39margs, \u001B[38;5;241m*\u001B[39m\u001B[38;5;241m*\u001B[39mkwargs)\n",
      "\u001B[0;31mTypeError\u001B[0m: <lambda>() got an unexpected keyword argument 'include_groups'"
     ]
    }
   ],
   "source": [
    "# Calculate intraday momentum from crsp\n",
    "\n",
    "# Filter Tesla data from crsp\n",
    "## crsp\n",
    "usecols = ['permno', 'date', 'prc', 'openprc']\n",
    "filters = [('permno', '=', 93436)]\n",
    "tesla_crsp = pd.read_parquet(\n",
    "    'data/crsp_202401.dsf.parquet',\n",
    "    columns=usecols,\n",
    "    filters=filters,\n",
    "    engine='pyarrow'\n",
    ")\n",
    "tesla_crsp['date'] = pd.to_datetime(tesla_crsp['date'])\n",
    "tesla_crsp = tesla_crsp[tesla_crsp['date'] <= last_date_hw2]\n",
    "\n",
    "# calcualte intraday return\n",
    "tesla_crsp['intraday_ret'] = tesla_crsp['prc'] / tesla_crsp['openprc'] - 1\n",
    "\n",
    "# product to a month\n",
    "tesla_crsp['month'] = tesla_crsp['date'].dt.to_period('M')\n",
    "monthly_crsp = tesla_crsp.groupby('month').apply(\n",
    "    lambda x: np.prod(1 + x['intraday_ret'].dropna()) - 1, include_groups=False\n",
    ").reset_index(name='intraday_ret_month')\n",
    "\n",
    "# change date to the last day of this month\n",
    "monthly_crsp['date'] = monthly_crsp['month'].dt.to_timestamp() + MonthEnd(0)\n",
    "\n",
    "# choose the last day\n",
    "last_date_crsp = monthly_crsp['date'].max()\n",
    "print(f\"Filtered last date of CRSP data = {last_date_crsp}\")\n",
    "\n",
    "# caculate t-12 to t-2 intraday momentum\n",
    "end_date = pd.to_datetime('2022-09-30')\n",
    "start_date = end_date - MonthEnd(12)\n",
    "mid_date = end_date - MonthEnd(2)\n",
    "momentum_crsp = monthly_crsp[\n",
    "    (monthly_crsp['date'] >= start_date) & \n",
    "    (monthly_crsp['date'] <= mid_date)\n",
    "]\n",
    "\n",
    "intraday_returns_crsp = momentum_crsp['intraday_ret_month'].dropna()\n",
    "mom_intraday_crsp = np.prod(1 + intraday_returns_crsp) - 1\n",
    "print(f\"Intraday momentum of Tesla, derived from CRSP = {mom_intraday_crsp:.4f}\")\n"
   ]
  },
  {
   "cell_type": "markdown",
   "id": "c15b3291-5479-4104-a8ec-fc83683e86dc",
   "metadata": {},
   "source": [
    "# Answer to Q 3\n",
    "The intraday_ret_month of HW2 equals `intraday_ret_month` derived from CRSP data. But it doesn't equal to `mom_intraday` value of HW2(The difference is -0.1605 - (-0.1168) = -0.0437). Next we change the different windows to check whether it's because of the window size.\n"
   ]
  },
  {
   "cell_type": "code",
   "execution_count": 315,
   "id": "6b345b9d-288f-4c66-ba86-735df1f584ed",
   "metadata": {},
   "outputs": [
    {
     "name": "stdout",
     "output_type": "stream",
     "text": [
      "Adjusted intraday momentum derived from CRSP data (t-6 to t-2) = -0.1483\n",
      "Adjusted intraday momentum derived from HW2 data (t-6 to t-2) = -0.1483\n"
     ]
    }
   ],
   "source": [
    "# Change the window to 't-6 to t-2 '\n",
    "start_date_alt = end_date - MonthEnd(6)\n",
    "momentum_crsp_alt = monthly_crsp[\n",
    "    (monthly_crsp['date'] >= start_date_alt) & \n",
    "    (monthly_crsp['date'] <= mid_date) # t-2\n",
    "]\n",
    "intraday_returns_crsp_alt = momentum_crsp_alt['intraday_ret_month'].dropna()\n",
    "mom_intraday_crsp_alt = np.prod(1 + intraday_returns_crsp_alt) - 1\n",
    "print(f\"Adjusted intraday momentum derived from CRSP data (t-6 to t-2) = {mom_intraday_crsp_alt:.4f}\")\n",
    "\n",
    "# Adjusted HW2 data(t-6 to t-2)\n",
    "start_date_hw2_alt = last_date_hw2 - MonthEnd(6)\n",
    "momentum_hw2_alt = tesla_hw2[\n",
    "    (tesla_hw2['date'] >= start_date_hw2_alt) & \n",
    "    (tesla_hw2['date'] <= mid_date_hw2) # this is t-2\n",
    "]\n",
    "intraday_returns_hw2_alt = momentum_hw2_alt['intraday_ret_month'].dropna()\n",
    "mom_intraday_hw2_alt = np.prod(1 + intraday_returns_hw2_alt) - 1\n",
    "print(f\"Adjusted intraday momentum derived from HW2 data (t-6 to t-2) = {mom_intraday_hw2_alt:.4f}\")"
   ]
  },
  {
   "cell_type": "markdown",
   "id": "7ea23eb5-d68a-4e72-99d8-7be297a01acb",
   "metadata": {},
   "source": [
    "# Answer to Q 3(Cont'd)\n",
    "The adjusted intraday momentum for CRSP and HW2 is the same(-0.1483), which is still different from the value of `mom_intraday` of HW2(-0.1605 - (-0.1483) = -0.0122).\n",
    "So we can see that CRSP and HW2'data has the same logic and therefore they have the same intraday momentum. But this value is different from that of HW2's `mom_intraday`, which probably not a result of window size(because we have checked different window sizes, the result stays same) and thus indicates that HW2 data probably used a different data or adjust method to calculate the `mom_intraday` column."
   ]
  },
  {
   "cell_type": "markdown",
   "id": "508ca58e",
   "metadata": {
    "collapsed": false,
    "jupyter": {
     "outputs_hidden": false
    }
   },
   "source": [
    "# Q 4\n",
    "Let’s now report three tables. Kick out anything that in the bottom 20% of market capitalization (already computed) at portfolio formation time (remember the return reported is the return you earn from close of t-1 to close of time t), and anything with a price less than 5 at that time. Now report the 12 row x 11 column table, where the columns are the average returns/t-statistics of those returns for portfolios 1..10 and then the long-short portfolio, and there are six sets of rows, one for EW, VW, EW overnight, VW overnight, EW intraday, EW overnight.\n",
    "\n",
    "- Based on the tables you produced, does intraday momentum predict intraday future returns or overnight returns? What about total returns? Likewise, does overnight momentum predict intraday future returns or overnight returns? What about total returns? Interesting patterns, right?"
   ]
  },
  {
   "cell_type": "code",
   "execution_count": 6,
   "id": "57adf475",
   "metadata": {
    "collapsed": false,
    "jupyter": {
     "outputs_hidden": false
    },
    "ExecuteTime": {
     "end_time": "2025-02-26T09:52:57.803895Z",
     "start_time": "2025-02-26T09:52:57.796807Z"
    }
   },
   "outputs": [],
   "source": [
    "# Assign binning function\n",
    "def apply_quantiles(inputdata, col, bins=10):\n",
    "    def quantile_bin(s):\n",
    "        s = s.dropna()  # Drop missing values\n",
    "        try:\n",
    "            # Try pd.qcut first\n",
    "            return pd.qcut(s, q=bins, labels=False, duplicates=\"drop\") + 1\n",
    "        except ValueError:\n",
    "            # Fallback to ranking if pd.qcut fails (e.g., due to insufficient unique values)\n",
    "            return np.ceil(s.rank(method='min') / len(s) * bins)\n",
    "\n",
    "    # Apply the binning function within each date group\n",
    "    return inputdata.groupby('date')[col].transform(quantile_bin)"
   ]
  },
  {
   "cell_type": "code",
   "execution_count": 7,
   "id": "02675b2f",
   "metadata": {
    "collapsed": false,
    "jupyter": {
     "outputs_hidden": false
    },
    "ExecuteTime": {
     "end_time": "2025-02-26T09:52:59.288304Z",
     "start_time": "2025-02-26T09:52:59.225133Z"
    }
   },
   "outputs": [],
   "source": [
    "def produce_table(portfolios, subsetting=lambda df: df):\n",
    "    bins_df = portfolios['bin'][['date', 'bin', 'ew', 'vw',\n",
    "                                 'ew_intraday', 'vw_intraday',\n",
    "                                 'ew_overnight', 'vw_overnight']].copy()\n",
    "    pnl_df = portfolios['pnl'][['date', 'ew', 'vw',\n",
    "                                'ew_intraday', 'vw_intraday',\n",
    "                                'ew_overnight', 'vw_overnight']].copy()\n",
    "    pnl_df['bin'] = 11\n",
    "    combined = pd.concat([bins_df, pnl_df], ignore_index=True)\n",
    "    combined = subsetting(combined)\n",
    "\n",
    "    return_measures = ['ew', 'vw', 'ew_intraday', 'vw_intraday', 'ew_overnight', 'vw_overnight']\n",
    "    result = []\n",
    "\n",
    "    for measure in return_measures:\n",
    "        grouped = combined.groupby('bin')[measure].agg(\n",
    "            mean=lambda x: round(x.mean() * 100, 3),\n",
    "            t_stat=lambda x: f\"({round(ttest_1samp(x.dropna(), 0).statistic, 3)})\"\n",
    "        ).reset_index()\n",
    "\n",
    "        mean_row = {'Portfolio': measure.upper().replace('_', ' ')}\n",
    "        t_stat_row = {'Portfolio': ''}\n",
    "        for _, row in grouped.iterrows():\n",
    "            bin_ = row['bin']\n",
    "            mean_row[bin_] = row['mean']\n",
    "            t_stat_row[bin_] = row['t_stat']\n",
    "\n",
    "        result.append(pd.DataFrame([mean_row]))\n",
    "        result.append(pd.DataFrame([t_stat_row]))\n",
    "\n",
    "    table = pd.concat(result, ignore_index=True)\n",
    "    if 11 in table.columns:\n",
    "        table = table.rename(columns={11: '10-1'})\n",
    "\n",
    "    valid_portfolios = list(range(1, 11)) + ['10-1']\n",
    "    cols_to_keep = ['Portfolio'] + [col for col in table.columns if col in valid_portfolios]\n",
    "    table = table[cols_to_keep]\n",
    "\n",
    "    return table"
   ]
  },
  {
   "cell_type": "code",
   "execution_count": 8,
   "id": "7a6247c1",
   "metadata": {
    "collapsed": false,
    "jupyter": {
     "outputs_hidden": false
    },
    "ExecuteTime": {
     "end_time": "2025-02-26T09:53:05.747478Z",
     "start_time": "2025-02-26T09:53:00.258429Z"
    }
   },
   "outputs": [],
   "source": [
    "# Filter out stocks in the bottom 20% of market capitalization and those with price < 5\n",
    "mcap_20th_percentile = hw2_data['mcap_lag1'].quantile(0.2)\n",
    "filtered_data = hw2_data.loc[\n",
    "    (hw2_data['mcap_lag1'] > mcap_20th_percentile) &\n",
    "    (hw2_data['prc_lag1'] >= 5)\n",
    "].copy()\n",
    "\n",
    "# Construct portfolios based on 'mom', 'mom_intraday', and 'mom_overnight'\n",
    "filtered_data['bin_mom'] = apply_quantiles(filtered_data, 'mom')\n",
    "filtered_data['bin_mom_intraday'] = apply_quantiles(filtered_data, 'mom_intraday')\n",
    "filtered_data['bin_mom_overnight'] = apply_quantiles(filtered_data, 'mom_overnight')"
   ]
  },
  {
   "cell_type": "code",
   "execution_count": 9,
   "id": "ddf23b34",
   "metadata": {
    "collapsed": false,
    "jupyter": {
     "outputs_hidden": false
    },
    "ExecuteTime": {
     "end_time": "2025-02-26T09:53:06.555363Z",
     "start_time": "2025-02-26T09:53:06.444961Z"
    }
   },
   "outputs": [
    {
     "data": {
      "text/plain": "          permno       date       ret  intraday_ret_month  \\\n0        10094.0 1993-01-29  0.144578           -0.073377   \n701547   10530.0 1993-01-29 -0.083333           -0.157304   \n701498   10451.0 1993-01-29  0.150000            0.209593   \n701435   10199.0 1993-01-29 -0.109890           -0.019169   \n701078   10104.0 1993-01-29  0.145374            0.150860   \n...          ...        ...       ...                 ...   \n539447   14632.0 2022-09-30 -0.170792           -0.146239   \n1619641  89968.0 2022-09-30 -0.085799           -0.027635   \n38967    14694.0 2022-09-30 -0.190476           -0.104982   \n1243114  89110.0 2022-09-30 -0.149184           -0.120427   \n541385   17726.0 2022-09-30 -0.105530           -0.041869   \n\n         overnight_ret_month     mcap_lag1    prc_lag1  mom_intraday  \\\n0                   0.235213  8.965038e+04   10.375000     -0.533850   \n701547              0.087777  6.936300e+04    9.000000     -0.318888   \n701498             -0.049267  6.536800e+05   20.000000      0.611130   \n701435             -0.092494  3.685955e+05   22.750000      0.342861   \n701078             -0.004766  4.029846e+06   28.375000      0.485517   \n...                      ...           ...         ...           ...   \n539447             -0.028760  1.343514e+06   12.120000      0.144912   \n1619641            -0.059820  1.997643e+06  114.570000     -0.068815   \n38967              -0.095523  7.885149e+05    6.090000     -0.189703   \n1243114            -0.032694  4.530322e+06  102.290001     -0.049437   \n541385             -0.066443  1.097643e+07   90.589996     -0.109908   \n\n              mom  mom_overnight  mcap_bin  bin_mom  bin_mom_intraday  \\\n0       -0.151231       0.382617       6.0        1                 1   \n701547   0.024487       0.343261       6.0        3                 1   \n701498   0.228842      -0.382286       9.0        8                10   \n701435   0.114994      -0.227853       8.0        5                 8   \n701078   0.377763      -0.107755      10.0        9                 9   \n...           ...            ...       ...      ...               ...   \n539447   0.169029       0.024115       7.0       10                 9   \n1619641 -0.116748      -0.049872       7.0        4                 5   \n38967   -0.301734      -0.112035       6.0        2                 3   \n1243114 -0.160410      -0.110973       9.0        4                 5   \n541385  -0.183806      -0.073739       9.0        3                 4   \n\n         bin_mom_overnight  \n0                       10  \n701547                  10  \n701498                   1  \n701435                   2  \n701078                   3  \n...                    ...  \n539447                   7  \n1619641                  4  \n38967                    3  \n1243114                  3  \n541385                   4  \n\n[1185391 rows x 14 columns]",
      "text/html": "<div>\n<style scoped>\n    .dataframe tbody tr th:only-of-type {\n        vertical-align: middle;\n    }\n\n    .dataframe tbody tr th {\n        vertical-align: top;\n    }\n\n    .dataframe thead th {\n        text-align: right;\n    }\n</style>\n<table border=\"1\" class=\"dataframe\">\n  <thead>\n    <tr style=\"text-align: right;\">\n      <th></th>\n      <th>permno</th>\n      <th>date</th>\n      <th>ret</th>\n      <th>intraday_ret_month</th>\n      <th>overnight_ret_month</th>\n      <th>mcap_lag1</th>\n      <th>prc_lag1</th>\n      <th>mom_intraday</th>\n      <th>mom</th>\n      <th>mom_overnight</th>\n      <th>mcap_bin</th>\n      <th>bin_mom</th>\n      <th>bin_mom_intraday</th>\n      <th>bin_mom_overnight</th>\n    </tr>\n  </thead>\n  <tbody>\n    <tr>\n      <th>0</th>\n      <td>10094.0</td>\n      <td>1993-01-29</td>\n      <td>0.144578</td>\n      <td>-0.073377</td>\n      <td>0.235213</td>\n      <td>8.965038e+04</td>\n      <td>10.375000</td>\n      <td>-0.533850</td>\n      <td>-0.151231</td>\n      <td>0.382617</td>\n      <td>6.0</td>\n      <td>1</td>\n      <td>1</td>\n      <td>10</td>\n    </tr>\n    <tr>\n      <th>701547</th>\n      <td>10530.0</td>\n      <td>1993-01-29</td>\n      <td>-0.083333</td>\n      <td>-0.157304</td>\n      <td>0.087777</td>\n      <td>6.936300e+04</td>\n      <td>9.000000</td>\n      <td>-0.318888</td>\n      <td>0.024487</td>\n      <td>0.343261</td>\n      <td>6.0</td>\n      <td>3</td>\n      <td>1</td>\n      <td>10</td>\n    </tr>\n    <tr>\n      <th>701498</th>\n      <td>10451.0</td>\n      <td>1993-01-29</td>\n      <td>0.150000</td>\n      <td>0.209593</td>\n      <td>-0.049267</td>\n      <td>6.536800e+05</td>\n      <td>20.000000</td>\n      <td>0.611130</td>\n      <td>0.228842</td>\n      <td>-0.382286</td>\n      <td>9.0</td>\n      <td>8</td>\n      <td>10</td>\n      <td>1</td>\n    </tr>\n    <tr>\n      <th>701435</th>\n      <td>10199.0</td>\n      <td>1993-01-29</td>\n      <td>-0.109890</td>\n      <td>-0.019169</td>\n      <td>-0.092494</td>\n      <td>3.685955e+05</td>\n      <td>22.750000</td>\n      <td>0.342861</td>\n      <td>0.114994</td>\n      <td>-0.227853</td>\n      <td>8.0</td>\n      <td>5</td>\n      <td>8</td>\n      <td>2</td>\n    </tr>\n    <tr>\n      <th>701078</th>\n      <td>10104.0</td>\n      <td>1993-01-29</td>\n      <td>0.145374</td>\n      <td>0.150860</td>\n      <td>-0.004766</td>\n      <td>4.029846e+06</td>\n      <td>28.375000</td>\n      <td>0.485517</td>\n      <td>0.377763</td>\n      <td>-0.107755</td>\n      <td>10.0</td>\n      <td>9</td>\n      <td>9</td>\n      <td>3</td>\n    </tr>\n    <tr>\n      <th>...</th>\n      <td>...</td>\n      <td>...</td>\n      <td>...</td>\n      <td>...</td>\n      <td>...</td>\n      <td>...</td>\n      <td>...</td>\n      <td>...</td>\n      <td>...</td>\n      <td>...</td>\n      <td>...</td>\n      <td>...</td>\n      <td>...</td>\n      <td>...</td>\n    </tr>\n    <tr>\n      <th>539447</th>\n      <td>14632.0</td>\n      <td>2022-09-30</td>\n      <td>-0.170792</td>\n      <td>-0.146239</td>\n      <td>-0.028760</td>\n      <td>1.343514e+06</td>\n      <td>12.120000</td>\n      <td>0.144912</td>\n      <td>0.169029</td>\n      <td>0.024115</td>\n      <td>7.0</td>\n      <td>10</td>\n      <td>9</td>\n      <td>7</td>\n    </tr>\n    <tr>\n      <th>1619641</th>\n      <td>89968.0</td>\n      <td>2022-09-30</td>\n      <td>-0.085799</td>\n      <td>-0.027635</td>\n      <td>-0.059820</td>\n      <td>1.997643e+06</td>\n      <td>114.570000</td>\n      <td>-0.068815</td>\n      <td>-0.116748</td>\n      <td>-0.049872</td>\n      <td>7.0</td>\n      <td>4</td>\n      <td>5</td>\n      <td>4</td>\n    </tr>\n    <tr>\n      <th>38967</th>\n      <td>14694.0</td>\n      <td>2022-09-30</td>\n      <td>-0.190476</td>\n      <td>-0.104982</td>\n      <td>-0.095523</td>\n      <td>7.885149e+05</td>\n      <td>6.090000</td>\n      <td>-0.189703</td>\n      <td>-0.301734</td>\n      <td>-0.112035</td>\n      <td>6.0</td>\n      <td>2</td>\n      <td>3</td>\n      <td>3</td>\n    </tr>\n    <tr>\n      <th>1243114</th>\n      <td>89110.0</td>\n      <td>2022-09-30</td>\n      <td>-0.149184</td>\n      <td>-0.120427</td>\n      <td>-0.032694</td>\n      <td>4.530322e+06</td>\n      <td>102.290001</td>\n      <td>-0.049437</td>\n      <td>-0.160410</td>\n      <td>-0.110973</td>\n      <td>9.0</td>\n      <td>4</td>\n      <td>5</td>\n      <td>3</td>\n    </tr>\n    <tr>\n      <th>541385</th>\n      <td>17726.0</td>\n      <td>2022-09-30</td>\n      <td>-0.105530</td>\n      <td>-0.041869</td>\n      <td>-0.066443</td>\n      <td>1.097643e+07</td>\n      <td>90.589996</td>\n      <td>-0.109908</td>\n      <td>-0.183806</td>\n      <td>-0.073739</td>\n      <td>9.0</td>\n      <td>3</td>\n      <td>4</td>\n      <td>4</td>\n    </tr>\n  </tbody>\n</table>\n<p>1185391 rows × 14 columns</p>\n</div>"
     },
     "execution_count": 9,
     "metadata": {},
     "output_type": "execute_result"
    }
   ],
   "source": [
    "filtered_data"
   ]
  },
  {
   "cell_type": "code",
   "execution_count": 10,
   "id": "35e79c98",
   "metadata": {
    "collapsed": false,
    "jupyter": {
     "outputs_hidden": false
    },
    "ExecuteTime": {
     "end_time": "2025-02-26T09:53:08.163762Z",
     "start_time": "2025-02-26T09:53:08.079286Z"
    }
   },
   "outputs": [],
   "source": [
    "# Define function to calculate portfolios and PNL\n",
    "def calculate_portfolios_and_pnl(data, bin_column):\n",
    "    # Calculate portfolio returns\n",
    "    portfolios = (\n",
    "        data\n",
    "        .groupby(['date', bin_column])\n",
    "        .agg(\n",
    "            ew=('ret', 'mean'),\n",
    "            vw=('ret', lambda x: (x * data.loc[x.index, 'mcap_lag1']).sum() / data.loc[x.index, 'mcap_lag1'].sum()),\n",
    "            ew_intraday=('intraday_ret_month', 'mean'),\n",
    "            vw_intraday=('intraday_ret_month', lambda x: (x * data.loc[x.index, 'mcap_lag1']).sum() / data.loc[x.index, 'mcap_lag1'].sum()),\n",
    "            ew_overnight=('overnight_ret_month', 'mean'),\n",
    "            vw_overnight=('overnight_ret_month', lambda x: (x * data.loc[x.index, 'mcap_lag1']).sum() / data.loc[x.index, 'mcap_lag1'].sum())\n",
    "        )\n",
    "        .reset_index()\n",
    "    )\n",
    "\n",
    "    # Calculate PNL (long-short portfolio)\n",
    "    pnl = (\n",
    "        portfolios\n",
    "        .groupby('date')\n",
    "        .apply(lambda x: pd.Series({\n",
    "            'ew': x['ew'].iloc[-1] - x['ew'].iloc[0],\n",
    "            'vw': x['vw'].iloc[-1] - x['vw'].iloc[0],\n",
    "            'ew_intraday': x['ew_intraday'].iloc[-1] - x['ew_intraday'].iloc[0],\n",
    "            'vw_intraday': x['vw_intraday'].iloc[-1] - x['vw_intraday'].iloc[0],\n",
    "            'ew_overnight': x['ew_overnight'].iloc[-1] - x['ew_overnight'].iloc[0],\n",
    "            'vw_overnight': x['vw_overnight'].iloc[-1] - x['vw_overnight'].iloc[0]\n",
    "        }))\n",
    "        .reset_index()\n",
    "    )\n",
    "\n",
    "    return {'bin': portfolios, 'pnl': pnl}"
   ]
  },
  {
   "cell_type": "code",
   "execution_count": 11,
   "id": "ae73aa3e",
   "metadata": {
    "collapsed": false,
    "jupyter": {
     "outputs_hidden": false
    },
    "ExecuteTime": {
     "end_time": "2025-02-26T09:53:45.034747Z",
     "start_time": "2025-02-26T09:53:09.134680Z"
    }
   },
   "outputs": [],
   "source": [
    "# Calculate portfolios and pnl for each portfolio\n",
    "portfolios_mom = calculate_portfolios_and_pnl(filtered_data, 'bin_mom')\n",
    "portfolios_mom_intraday = calculate_portfolios_and_pnl(filtered_data, 'bin_mom_intraday')\n",
    "portfolios_mom_overnight = calculate_portfolios_and_pnl(filtered_data, 'bin_mom_overnight')\n",
    "\n",
    "# rename the bin columns\n",
    "portfolios_mom['bin'].rename(columns={'bin_mom': 'bin'}, inplace=True)\n",
    "portfolios_mom_intraday['bin'].rename(columns={'bin_mom_intraday': 'bin'}, inplace=True)\n",
    "portfolios_mom_overnight['bin'].rename(columns={'bin_mom_overnight': 'bin'}, inplace=True)"
   ]
  },
  {
   "cell_type": "code",
   "execution_count": 12,
   "id": "1d53273c",
   "metadata": {
    "collapsed": false,
    "jupyter": {
     "outputs_hidden": false
    },
    "ExecuteTime": {
     "end_time": "2025-02-26T09:53:46.916287Z",
     "start_time": "2025-02-26T09:53:46.510908Z"
    }
   },
   "outputs": [],
   "source": [
    "# Produce tables\n",
    "table_mom = produce_table(portfolios_mom)\n",
    "table_mom_intraday = produce_table(portfolios_mom_intraday)\n",
    "table_mom_overnight = produce_table(portfolios_mom_overnight)"
   ]
  },
  {
   "cell_type": "code",
   "execution_count": 13,
   "id": "8d8beec1",
   "metadata": {
    "collapsed": false,
    "jupyter": {
     "outputs_hidden": false
    },
    "ExecuteTime": {
     "end_time": "2025-02-26T09:53:48.123965Z",
     "start_time": "2025-02-26T09:53:47.985426Z"
    }
   },
   "outputs": [
    {
     "name": "stdout",
     "output_type": "stream",
     "text": [
      "Table for Regular Momentum:\n"
     ]
    },
    {
     "data": {
      "text/plain": "       Portfolio         1        2        3        4        5        6  \\\n0             EW     0.105    0.694    0.843    0.961    0.947    1.037   \n1                  (0.238)  (2.097)  (2.915)  (3.781)  (3.895)  (4.379)   \n2             VW     0.176    0.839      0.7    0.845    0.928    0.797   \n3                  (0.399)  (2.551)  (2.444)  (3.382)  (4.083)  (3.644)   \n4    EW INTRADAY    -0.886    0.595    0.904    1.083    1.007    0.992   \n5                 (-2.309)  (2.071)  (3.676)  (5.005)  (4.989)   (5.19)   \n6    VW INTRADAY    -0.746    0.504    0.422    0.611    0.586    0.417   \n7                 (-2.004)  (1.821)  (1.758)  (2.844)  (3.026)  (2.359)   \n8   EW OVERNIGHT     1.698    0.554    0.266    0.184    0.197    0.274   \n9                  (8.688)  (3.729)  (1.984)  (1.486)  (1.565)   (2.18)   \n10  VW OVERNIGHT     1.234    0.496    0.391    0.342    0.433    0.459   \n11                 (5.613)  (2.753)  (2.562)  (2.364)  (3.138)  (3.365)   \n\n          7        8         9        10     10-1  \n0     0.962    1.058     1.049     1.375    1.269  \n1   (4.008)  (4.019)   (3.552)   (3.446)  (3.811)  \n2     0.808    0.849     0.722       1.4    1.224  \n3   (3.621)  (3.599)   (2.627)   (3.698)  (3.017)  \n4     0.806    0.707     0.447    -0.039    0.848  \n5   (4.159)  (3.362)   (1.887)  (-0.124)  (2.758)  \n6     0.276    0.005    -0.406    -0.723    0.024  \n7   (1.492)  (0.025)  (-1.799)  (-2.348)  (0.065)  \n8     0.407    0.629     0.931      1.85    0.153  \n9    (3.16)  (4.531)    (5.91)   (9.058)   (1.05)  \n10    0.625    0.946     1.273     2.335    1.101  \n11   (4.57)  (6.441)   (7.735)    (10.2)  (5.441)  ",
      "text/html": "<div>\n<style scoped>\n    .dataframe tbody tr th:only-of-type {\n        vertical-align: middle;\n    }\n\n    .dataframe tbody tr th {\n        vertical-align: top;\n    }\n\n    .dataframe thead th {\n        text-align: right;\n    }\n</style>\n<table border=\"1\" class=\"dataframe\">\n  <thead>\n    <tr style=\"text-align: right;\">\n      <th></th>\n      <th>Portfolio</th>\n      <th>1</th>\n      <th>2</th>\n      <th>3</th>\n      <th>4</th>\n      <th>5</th>\n      <th>6</th>\n      <th>7</th>\n      <th>8</th>\n      <th>9</th>\n      <th>10</th>\n      <th>10-1</th>\n    </tr>\n  </thead>\n  <tbody>\n    <tr>\n      <th>0</th>\n      <td>EW</td>\n      <td>0.105</td>\n      <td>0.694</td>\n      <td>0.843</td>\n      <td>0.961</td>\n      <td>0.947</td>\n      <td>1.037</td>\n      <td>0.962</td>\n      <td>1.058</td>\n      <td>1.049</td>\n      <td>1.375</td>\n      <td>1.269</td>\n    </tr>\n    <tr>\n      <th>1</th>\n      <td></td>\n      <td>(0.238)</td>\n      <td>(2.097)</td>\n      <td>(2.915)</td>\n      <td>(3.781)</td>\n      <td>(3.895)</td>\n      <td>(4.379)</td>\n      <td>(4.008)</td>\n      <td>(4.019)</td>\n      <td>(3.552)</td>\n      <td>(3.446)</td>\n      <td>(3.811)</td>\n    </tr>\n    <tr>\n      <th>2</th>\n      <td>VW</td>\n      <td>0.176</td>\n      <td>0.839</td>\n      <td>0.7</td>\n      <td>0.845</td>\n      <td>0.928</td>\n      <td>0.797</td>\n      <td>0.808</td>\n      <td>0.849</td>\n      <td>0.722</td>\n      <td>1.4</td>\n      <td>1.224</td>\n    </tr>\n    <tr>\n      <th>3</th>\n      <td></td>\n      <td>(0.399)</td>\n      <td>(2.551)</td>\n      <td>(2.444)</td>\n      <td>(3.382)</td>\n      <td>(4.083)</td>\n      <td>(3.644)</td>\n      <td>(3.621)</td>\n      <td>(3.599)</td>\n      <td>(2.627)</td>\n      <td>(3.698)</td>\n      <td>(3.017)</td>\n    </tr>\n    <tr>\n      <th>4</th>\n      <td>EW INTRADAY</td>\n      <td>-0.886</td>\n      <td>0.595</td>\n      <td>0.904</td>\n      <td>1.083</td>\n      <td>1.007</td>\n      <td>0.992</td>\n      <td>0.806</td>\n      <td>0.707</td>\n      <td>0.447</td>\n      <td>-0.039</td>\n      <td>0.848</td>\n    </tr>\n    <tr>\n      <th>5</th>\n      <td></td>\n      <td>(-2.309)</td>\n      <td>(2.071)</td>\n      <td>(3.676)</td>\n      <td>(5.005)</td>\n      <td>(4.989)</td>\n      <td>(5.19)</td>\n      <td>(4.159)</td>\n      <td>(3.362)</td>\n      <td>(1.887)</td>\n      <td>(-0.124)</td>\n      <td>(2.758)</td>\n    </tr>\n    <tr>\n      <th>6</th>\n      <td>VW INTRADAY</td>\n      <td>-0.746</td>\n      <td>0.504</td>\n      <td>0.422</td>\n      <td>0.611</td>\n      <td>0.586</td>\n      <td>0.417</td>\n      <td>0.276</td>\n      <td>0.005</td>\n      <td>-0.406</td>\n      <td>-0.723</td>\n      <td>0.024</td>\n    </tr>\n    <tr>\n      <th>7</th>\n      <td></td>\n      <td>(-2.004)</td>\n      <td>(1.821)</td>\n      <td>(1.758)</td>\n      <td>(2.844)</td>\n      <td>(3.026)</td>\n      <td>(2.359)</td>\n      <td>(1.492)</td>\n      <td>(0.025)</td>\n      <td>(-1.799)</td>\n      <td>(-2.348)</td>\n      <td>(0.065)</td>\n    </tr>\n    <tr>\n      <th>8</th>\n      <td>EW OVERNIGHT</td>\n      <td>1.698</td>\n      <td>0.554</td>\n      <td>0.266</td>\n      <td>0.184</td>\n      <td>0.197</td>\n      <td>0.274</td>\n      <td>0.407</td>\n      <td>0.629</td>\n      <td>0.931</td>\n      <td>1.85</td>\n      <td>0.153</td>\n    </tr>\n    <tr>\n      <th>9</th>\n      <td></td>\n      <td>(8.688)</td>\n      <td>(3.729)</td>\n      <td>(1.984)</td>\n      <td>(1.486)</td>\n      <td>(1.565)</td>\n      <td>(2.18)</td>\n      <td>(3.16)</td>\n      <td>(4.531)</td>\n      <td>(5.91)</td>\n      <td>(9.058)</td>\n      <td>(1.05)</td>\n    </tr>\n    <tr>\n      <th>10</th>\n      <td>VW OVERNIGHT</td>\n      <td>1.234</td>\n      <td>0.496</td>\n      <td>0.391</td>\n      <td>0.342</td>\n      <td>0.433</td>\n      <td>0.459</td>\n      <td>0.625</td>\n      <td>0.946</td>\n      <td>1.273</td>\n      <td>2.335</td>\n      <td>1.101</td>\n    </tr>\n    <tr>\n      <th>11</th>\n      <td></td>\n      <td>(5.613)</td>\n      <td>(2.753)</td>\n      <td>(2.562)</td>\n      <td>(2.364)</td>\n      <td>(3.138)</td>\n      <td>(3.365)</td>\n      <td>(4.57)</td>\n      <td>(6.441)</td>\n      <td>(7.735)</td>\n      <td>(10.2)</td>\n      <td>(5.441)</td>\n    </tr>\n  </tbody>\n</table>\n</div>"
     },
     "execution_count": 13,
     "metadata": {},
     "output_type": "execute_result"
    }
   ],
   "source": [
    "# Display the table for Regular Momentum\n",
    "print('Table for Regular Momentum:')\n",
    "table_mom"
   ]
  },
  {
   "cell_type": "code",
   "execution_count": 14,
   "id": "ff7803b6",
   "metadata": {
    "collapsed": false,
    "jupyter": {
     "outputs_hidden": false
    },
    "ExecuteTime": {
     "end_time": "2025-02-26T09:53:51.180132Z",
     "start_time": "2025-02-26T09:53:51.151752Z"
    }
   },
   "outputs": [
    {
     "name": "stdout",
     "output_type": "stream",
     "text": [
      "Table for Intraday Momentum:\n"
     ]
    },
    {
     "data": {
      "text/plain": "       Portfolio         1         2        3        4        5        6  \\\n0             EW     0.099     0.738    0.944    1.044    0.989    0.999   \n1                  (0.218)   (2.167)  (3.224)  (3.957)  (3.964)  (4.138)   \n2             VW     0.443     0.668    0.882    0.975    0.898    0.892   \n3                  (0.989)   (2.003)  (3.141)  (4.039)  (3.932)  (3.872)   \n4    EW INTRADAY    -2.275      -0.3    0.293    0.592    0.668    0.769   \n5                 (-5.703)  (-1.047)  (1.181)  (2.757)  (3.231)  (3.937)   \n6    VW INTRADAY    -1.735    -0.437    0.044     0.28    0.338    0.409   \n7                 (-4.556)  (-1.582)  (0.191)  (1.466)   (1.83)  (2.181)   \n8   EW OVERNIGHT     3.252     1.437    0.922    0.651    0.494    0.388   \n9                 (14.595)   (8.854)  (6.487)  (4.835)  (3.933)  (3.039)   \n10  VW OVERNIGHT     2.621     1.271    0.944    0.792    0.645    0.561   \n11                (10.563)    (6.57)  (5.902)   (5.54)  (4.382)  (4.064)   \n\n          7        8        9        10       10-1  \n0     1.022    1.045    0.966     1.184      1.084  \n1   (4.322)  (4.201)  (3.579)   (3.603)    (4.014)  \n2     0.816    0.839    0.937     1.006      0.563  \n3   (3.631)  (3.557)  (3.676)   (2.878)    (1.681)  \n4     0.944    1.049    1.212     2.663      4.939  \n5   (4.898)  (5.226)  (5.554)   (9.538)   (16.751)  \n6     0.464    0.535    0.654     0.801      2.536  \n7   (2.487)   (2.74)  (3.093)   (2.831)    (8.211)  \n8     0.257    0.204    0.073    -0.689     -3.941  \n9   (2.043)  (1.527)   (0.52)  (-4.055)  (-21.658)  \n10    0.434      0.4    0.438     0.503     -2.119  \n11    (3.1)  (2.642)   (2.76)   (2.451)  (-11.328)  ",
      "text/html": "<div>\n<style scoped>\n    .dataframe tbody tr th:only-of-type {\n        vertical-align: middle;\n    }\n\n    .dataframe tbody tr th {\n        vertical-align: top;\n    }\n\n    .dataframe thead th {\n        text-align: right;\n    }\n</style>\n<table border=\"1\" class=\"dataframe\">\n  <thead>\n    <tr style=\"text-align: right;\">\n      <th></th>\n      <th>Portfolio</th>\n      <th>1</th>\n      <th>2</th>\n      <th>3</th>\n      <th>4</th>\n      <th>5</th>\n      <th>6</th>\n      <th>7</th>\n      <th>8</th>\n      <th>9</th>\n      <th>10</th>\n      <th>10-1</th>\n    </tr>\n  </thead>\n  <tbody>\n    <tr>\n      <th>0</th>\n      <td>EW</td>\n      <td>0.099</td>\n      <td>0.738</td>\n      <td>0.944</td>\n      <td>1.044</td>\n      <td>0.989</td>\n      <td>0.999</td>\n      <td>1.022</td>\n      <td>1.045</td>\n      <td>0.966</td>\n      <td>1.184</td>\n      <td>1.084</td>\n    </tr>\n    <tr>\n      <th>1</th>\n      <td></td>\n      <td>(0.218)</td>\n      <td>(2.167)</td>\n      <td>(3.224)</td>\n      <td>(3.957)</td>\n      <td>(3.964)</td>\n      <td>(4.138)</td>\n      <td>(4.322)</td>\n      <td>(4.201)</td>\n      <td>(3.579)</td>\n      <td>(3.603)</td>\n      <td>(4.014)</td>\n    </tr>\n    <tr>\n      <th>2</th>\n      <td>VW</td>\n      <td>0.443</td>\n      <td>0.668</td>\n      <td>0.882</td>\n      <td>0.975</td>\n      <td>0.898</td>\n      <td>0.892</td>\n      <td>0.816</td>\n      <td>0.839</td>\n      <td>0.937</td>\n      <td>1.006</td>\n      <td>0.563</td>\n    </tr>\n    <tr>\n      <th>3</th>\n      <td></td>\n      <td>(0.989)</td>\n      <td>(2.003)</td>\n      <td>(3.141)</td>\n      <td>(4.039)</td>\n      <td>(3.932)</td>\n      <td>(3.872)</td>\n      <td>(3.631)</td>\n      <td>(3.557)</td>\n      <td>(3.676)</td>\n      <td>(2.878)</td>\n      <td>(1.681)</td>\n    </tr>\n    <tr>\n      <th>4</th>\n      <td>EW INTRADAY</td>\n      <td>-2.275</td>\n      <td>-0.3</td>\n      <td>0.293</td>\n      <td>0.592</td>\n      <td>0.668</td>\n      <td>0.769</td>\n      <td>0.944</td>\n      <td>1.049</td>\n      <td>1.212</td>\n      <td>2.663</td>\n      <td>4.939</td>\n    </tr>\n    <tr>\n      <th>5</th>\n      <td></td>\n      <td>(-5.703)</td>\n      <td>(-1.047)</td>\n      <td>(1.181)</td>\n      <td>(2.757)</td>\n      <td>(3.231)</td>\n      <td>(3.937)</td>\n      <td>(4.898)</td>\n      <td>(5.226)</td>\n      <td>(5.554)</td>\n      <td>(9.538)</td>\n      <td>(16.751)</td>\n    </tr>\n    <tr>\n      <th>6</th>\n      <td>VW INTRADAY</td>\n      <td>-1.735</td>\n      <td>-0.437</td>\n      <td>0.044</td>\n      <td>0.28</td>\n      <td>0.338</td>\n      <td>0.409</td>\n      <td>0.464</td>\n      <td>0.535</td>\n      <td>0.654</td>\n      <td>0.801</td>\n      <td>2.536</td>\n    </tr>\n    <tr>\n      <th>7</th>\n      <td></td>\n      <td>(-4.556)</td>\n      <td>(-1.582)</td>\n      <td>(0.191)</td>\n      <td>(1.466)</td>\n      <td>(1.83)</td>\n      <td>(2.181)</td>\n      <td>(2.487)</td>\n      <td>(2.74)</td>\n      <td>(3.093)</td>\n      <td>(2.831)</td>\n      <td>(8.211)</td>\n    </tr>\n    <tr>\n      <th>8</th>\n      <td>EW OVERNIGHT</td>\n      <td>3.252</td>\n      <td>1.437</td>\n      <td>0.922</td>\n      <td>0.651</td>\n      <td>0.494</td>\n      <td>0.388</td>\n      <td>0.257</td>\n      <td>0.204</td>\n      <td>0.073</td>\n      <td>-0.689</td>\n      <td>-3.941</td>\n    </tr>\n    <tr>\n      <th>9</th>\n      <td></td>\n      <td>(14.595)</td>\n      <td>(8.854)</td>\n      <td>(6.487)</td>\n      <td>(4.835)</td>\n      <td>(3.933)</td>\n      <td>(3.039)</td>\n      <td>(2.043)</td>\n      <td>(1.527)</td>\n      <td>(0.52)</td>\n      <td>(-4.055)</td>\n      <td>(-21.658)</td>\n    </tr>\n    <tr>\n      <th>10</th>\n      <td>VW OVERNIGHT</td>\n      <td>2.621</td>\n      <td>1.271</td>\n      <td>0.944</td>\n      <td>0.792</td>\n      <td>0.645</td>\n      <td>0.561</td>\n      <td>0.434</td>\n      <td>0.4</td>\n      <td>0.438</td>\n      <td>0.503</td>\n      <td>-2.119</td>\n    </tr>\n    <tr>\n      <th>11</th>\n      <td></td>\n      <td>(10.563)</td>\n      <td>(6.57)</td>\n      <td>(5.902)</td>\n      <td>(5.54)</td>\n      <td>(4.382)</td>\n      <td>(4.064)</td>\n      <td>(3.1)</td>\n      <td>(2.642)</td>\n      <td>(2.76)</td>\n      <td>(2.451)</td>\n      <td>(-11.328)</td>\n    </tr>\n  </tbody>\n</table>\n</div>"
     },
     "execution_count": 14,
     "metadata": {},
     "output_type": "execute_result"
    }
   ],
   "source": [
    "# Display the table for Intraday Momentum\n",
    "print('Table for Intraday Momentum:')\n",
    "table_mom_intraday"
   ]
  },
  {
   "cell_type": "code",
   "execution_count": 15,
   "id": "289d7f50",
   "metadata": {
    "collapsed": false,
    "jupyter": {
     "outputs_hidden": false
    },
    "ExecuteTime": {
     "end_time": "2025-02-26T09:53:51.724065Z",
     "start_time": "2025-02-26T09:53:51.625801Z"
    }
   },
   "outputs": [
    {
     "name": "stdout",
     "output_type": "stream",
     "text": [
      "Table for Overnight Momentum:\n"
     ]
    },
    {
     "data": {
      "text/plain": "       Portfolio         1         2         3        4        5        6  \\\n0             EW      0.66     0.855     0.975    0.996    1.047    0.987   \n1                  (2.255)   (3.086)   (3.696)  (3.942)  (4.139)  (3.938)   \n2             VW     0.704     0.526     0.907     0.96    0.789    0.789   \n3                  (2.212)   (1.975)   (3.686)   (4.05)  (3.612)  (3.602)   \n4    EW INTRADAY     3.364     1.601     1.231    1.003    0.804    0.509   \n5                 (12.647)   (6.667)   (5.515)  (4.787)  (3.881)  (2.468)   \n6    VW INTRADAY     2.388     1.262     1.146    0.954    0.491    0.273   \n7                  (8.478)   (5.876)   (5.664)  (4.877)  (2.761)  (1.497)   \n8   EW OVERNIGHT    -1.968    -0.438    -0.033    0.191    0.417    0.646   \n9                 (-12.32)  (-3.224)  (-0.253)  (1.522)   (3.18)  (5.028)   \n10  VW OVERNIGHT    -1.335    -0.601    -0.146    0.076     0.38    0.595   \n11                (-7.511)  (-3.834)  (-1.019)  (0.536)  (2.717)  (4.438)   \n\n          7         8         9        10       10-1  \n0     1.025     1.047     0.926     0.512     -0.147  \n1   (3.852)   (3.576)   (2.693)   (1.203)   (-0.606)  \n2     0.925     0.908     0.797     0.916      0.212  \n3   (3.862)   (3.752)   (2.602)   (2.129)    (0.644)  \n4     0.266    -0.082    -0.691    -2.395     -5.758  \n5    (1.23)  (-0.351)  (-2.468)  (-6.802)   (-21.75)  \n6     0.025    -0.281    -1.075    -2.163     -4.551  \n7   (0.131)  (-1.425)  (-4.293)  (-6.337)  (-14.914)  \n8     0.985     1.403     2.025     3.765      5.733  \n9   (7.222)   (9.246)  (11.473)  (16.123)    (26.55)  \n10     0.98     1.311     2.029     3.475      4.809  \n11  (6.739)   (8.466)  (10.854)  (13.478)   (20.431)  ",
      "text/html": "<div>\n<style scoped>\n    .dataframe tbody tr th:only-of-type {\n        vertical-align: middle;\n    }\n\n    .dataframe tbody tr th {\n        vertical-align: top;\n    }\n\n    .dataframe thead th {\n        text-align: right;\n    }\n</style>\n<table border=\"1\" class=\"dataframe\">\n  <thead>\n    <tr style=\"text-align: right;\">\n      <th></th>\n      <th>Portfolio</th>\n      <th>1</th>\n      <th>2</th>\n      <th>3</th>\n      <th>4</th>\n      <th>5</th>\n      <th>6</th>\n      <th>7</th>\n      <th>8</th>\n      <th>9</th>\n      <th>10</th>\n      <th>10-1</th>\n    </tr>\n  </thead>\n  <tbody>\n    <tr>\n      <th>0</th>\n      <td>EW</td>\n      <td>0.66</td>\n      <td>0.855</td>\n      <td>0.975</td>\n      <td>0.996</td>\n      <td>1.047</td>\n      <td>0.987</td>\n      <td>1.025</td>\n      <td>1.047</td>\n      <td>0.926</td>\n      <td>0.512</td>\n      <td>-0.147</td>\n    </tr>\n    <tr>\n      <th>1</th>\n      <td></td>\n      <td>(2.255)</td>\n      <td>(3.086)</td>\n      <td>(3.696)</td>\n      <td>(3.942)</td>\n      <td>(4.139)</td>\n      <td>(3.938)</td>\n      <td>(3.852)</td>\n      <td>(3.576)</td>\n      <td>(2.693)</td>\n      <td>(1.203)</td>\n      <td>(-0.606)</td>\n    </tr>\n    <tr>\n      <th>2</th>\n      <td>VW</td>\n      <td>0.704</td>\n      <td>0.526</td>\n      <td>0.907</td>\n      <td>0.96</td>\n      <td>0.789</td>\n      <td>0.789</td>\n      <td>0.925</td>\n      <td>0.908</td>\n      <td>0.797</td>\n      <td>0.916</td>\n      <td>0.212</td>\n    </tr>\n    <tr>\n      <th>3</th>\n      <td></td>\n      <td>(2.212)</td>\n      <td>(1.975)</td>\n      <td>(3.686)</td>\n      <td>(4.05)</td>\n      <td>(3.612)</td>\n      <td>(3.602)</td>\n      <td>(3.862)</td>\n      <td>(3.752)</td>\n      <td>(2.602)</td>\n      <td>(2.129)</td>\n      <td>(0.644)</td>\n    </tr>\n    <tr>\n      <th>4</th>\n      <td>EW INTRADAY</td>\n      <td>3.364</td>\n      <td>1.601</td>\n      <td>1.231</td>\n      <td>1.003</td>\n      <td>0.804</td>\n      <td>0.509</td>\n      <td>0.266</td>\n      <td>-0.082</td>\n      <td>-0.691</td>\n      <td>-2.395</td>\n      <td>-5.758</td>\n    </tr>\n    <tr>\n      <th>5</th>\n      <td></td>\n      <td>(12.647)</td>\n      <td>(6.667)</td>\n      <td>(5.515)</td>\n      <td>(4.787)</td>\n      <td>(3.881)</td>\n      <td>(2.468)</td>\n      <td>(1.23)</td>\n      <td>(-0.351)</td>\n      <td>(-2.468)</td>\n      <td>(-6.802)</td>\n      <td>(-21.75)</td>\n    </tr>\n    <tr>\n      <th>6</th>\n      <td>VW INTRADAY</td>\n      <td>2.388</td>\n      <td>1.262</td>\n      <td>1.146</td>\n      <td>0.954</td>\n      <td>0.491</td>\n      <td>0.273</td>\n      <td>0.025</td>\n      <td>-0.281</td>\n      <td>-1.075</td>\n      <td>-2.163</td>\n      <td>-4.551</td>\n    </tr>\n    <tr>\n      <th>7</th>\n      <td></td>\n      <td>(8.478)</td>\n      <td>(5.876)</td>\n      <td>(5.664)</td>\n      <td>(4.877)</td>\n      <td>(2.761)</td>\n      <td>(1.497)</td>\n      <td>(0.131)</td>\n      <td>(-1.425)</td>\n      <td>(-4.293)</td>\n      <td>(-6.337)</td>\n      <td>(-14.914)</td>\n    </tr>\n    <tr>\n      <th>8</th>\n      <td>EW OVERNIGHT</td>\n      <td>-1.968</td>\n      <td>-0.438</td>\n      <td>-0.033</td>\n      <td>0.191</td>\n      <td>0.417</td>\n      <td>0.646</td>\n      <td>0.985</td>\n      <td>1.403</td>\n      <td>2.025</td>\n      <td>3.765</td>\n      <td>5.733</td>\n    </tr>\n    <tr>\n      <th>9</th>\n      <td></td>\n      <td>(-12.32)</td>\n      <td>(-3.224)</td>\n      <td>(-0.253)</td>\n      <td>(1.522)</td>\n      <td>(3.18)</td>\n      <td>(5.028)</td>\n      <td>(7.222)</td>\n      <td>(9.246)</td>\n      <td>(11.473)</td>\n      <td>(16.123)</td>\n      <td>(26.55)</td>\n    </tr>\n    <tr>\n      <th>10</th>\n      <td>VW OVERNIGHT</td>\n      <td>-1.335</td>\n      <td>-0.601</td>\n      <td>-0.146</td>\n      <td>0.076</td>\n      <td>0.38</td>\n      <td>0.595</td>\n      <td>0.98</td>\n      <td>1.311</td>\n      <td>2.029</td>\n      <td>3.475</td>\n      <td>4.809</td>\n    </tr>\n    <tr>\n      <th>11</th>\n      <td></td>\n      <td>(-7.511)</td>\n      <td>(-3.834)</td>\n      <td>(-1.019)</td>\n      <td>(0.536)</td>\n      <td>(2.717)</td>\n      <td>(4.438)</td>\n      <td>(6.739)</td>\n      <td>(8.466)</td>\n      <td>(10.854)</td>\n      <td>(13.478)</td>\n      <td>(20.431)</td>\n    </tr>\n  </tbody>\n</table>\n</div>"
     },
     "execution_count": 15,
     "metadata": {},
     "output_type": "execute_result"
    }
   ],
   "source": [
    "# Display the table for Overnight Momentum\n",
    "print('Table for Overnight Momentum:')\n",
    "table_mom_overnight"
   ]
  },
  {
   "cell_type": "markdown",
   "id": "076d5eac",
   "metadata": {
    "collapsed": false,
    "jupyter": {
     "outputs_hidden": false
    }
   },
   "source": [
    "# Answer to Q 4\n",
    "- Based on the tables produced, the intraday momentum predicts the intraday future returns more than the overnight returns. A hedge portfolio based on past one-month intraday returns earns an average EW intraday return of 4.939% per month with an associated t-statistic of 16.75. However, hedge portfolio based on past one-month intraday returns earns an average EW overnight return of -3.94% per month with an associated t-statistic of -21.658. The intraday momentum also predicts the total returns more than the overnight returns, but less than the intraday future returns.\n",
    "\n",
    "- The overnight momentum predicts the overnight returns more than the intraday future returns. A hedge portfolio based on past one-month overnight returns earns an average EW intraday return of -5.758% per month with an associated t-statistic of -21.75. However, hedge portfolio based on past one-month overnight returns earns an average EW overnight return of 5.733% per month with an associated t-statistic of 26.55. The overnight momentum also predicts the total returns more than the intraday future returns, but less than the overnight returns."
   ]
  },
  {
   "cell_type": "markdown",
   "id": "b4d4f55a",
   "metadata": {
    "collapsed": false,
    "jupyter": {
     "outputs_hidden": false
    }
   },
   "source": [
    "# Extra credit to Q 4\n",
    "- Extra credit (1 point): For just the regular momentum portfolios, for a typical month, what is the fraction of winners that outperform the market return (i.e. from the fama French factor file)? I would first compute the monthly fraction, then average across time. Why are portfolios necessary in our quant trading strategies, why can’t we just pick one stock?"
   ]
  },
  {
   "cell_type": "code",
   "execution_count": null,
   "id": "eac88a0b",
   "metadata": {
    "ExecuteTime": {
     "end_time": "2025-02-19T08:27:19.161288Z",
     "start_time": "2025-02-19T08:27:18.987992Z"
    },
    "collapsed": false,
    "jupyter": {
     "outputs_hidden": false
    }
   },
   "outputs": [],
   "source": [
    "# Read the Fama French factor file\n",
    "ff_data = pd.read_parquet('data/hw1_factors.parquet', engine='pyarrow')\n",
    "ff_data['dt'] = pd.to_datetime(ff_data['dt'])\n",
    "ff_data = ff_data.sort_values(by='dt', ascending=True)\n",
    "ff_data.set_index('dt', inplace=True)\n",
    "\n",
    "# Calculate market return in decimal format\n",
    "ff_data['Mkt'] = ff_data['mkt_rf'] + ff_data['rf']\n",
    "ff_data['Mkt'] = ff_data['Mkt']/100\n",
    "ff_data['mkt_rf'] = ff_data['mkt_rf']/100\n",
    "ff_data['rf'] = ff_data['rf']/100\n",
    "\n",
    "# Ensure the data is not missing\n",
    "ff_data = ff_data.dropna()\n",
    "\n",
    "# Convert the daily data to monthly data to align with the monthly momentum data\n",
    "ff_data_mkt = ff_data.resample('M').agg({\n",
    "    'Mkt': lambda x: (1 + x).prod() - 1  # Cumulative monthly return\n",
    "}).reset_index()"
   ]
  },
  {
   "cell_type": "code",
   "execution_count": null,
   "id": "8b52f6dd",
   "metadata": {
    "ExecuteTime": {
     "end_time": "2025-02-19T08:27:19.636963Z",
     "start_time": "2025-02-19T08:27:19.628646Z"
    },
    "collapsed": false,
    "jupyter": {
     "outputs_hidden": false
    }
   },
   "outputs": [],
   "source": [
    "ff_data_mkt"
   ]
  },
  {
   "cell_type": "code",
   "execution_count": null,
   "id": "91799f99",
   "metadata": {
    "ExecuteTime": {
     "end_time": "2025-02-20T13:14:27.040685Z",
     "start_time": "2025-02-20T13:14:27.006449Z"
    },
    "collapsed": false,
    "jupyter": {
     "outputs_hidden": false
    }
   },
   "outputs": [],
   "source": [
    "# Make a copy of the filtered data\n",
    "regular_mom_data = portfolios_mom['bin'].copy()\n",
    "\n",
    "# Convert the date column to monthly end to align with the monthly Fama French factor data\n",
    "regular_mom_data['date'] = regular_mom_data['date'] + MonthEnd(0)\n",
    "\n",
    "# Sort the data by date\n",
    "regular_mom_data = regular_mom_data.sort_values(['date'])\n",
    "\n",
    "# Merge the regular momentum data with the monthly Fama French factor data\n",
    "combined_data = regular_mom_data.merge(ff_data_mkt, left_on='date', right_on='dt', how='inner')\n",
    "\n",
    "# sort the data by date\n",
    "combined_data = combined_data.sort_values(['date'])\n",
    "\n",
    "# Select only bin 10 (top portfolio)\n",
    "combined_data_1 = combined_data[combined_data['bin'] == 10].copy()\n",
    "\n",
    "# compare to find winners for each month\n",
    "combined_data_1['winner'] = combined_data_1['ew'] > combined_data_1['Mkt']\n",
    "\n",
    "# Display the date, bin, ew, Mkt, and winner columns\n",
    "combined_data_1 = combined_data_1[['date', 'bin', 'ew', 'Mkt', 'winner']]\n",
    "\n",
    "combined_data_1"
   ]
  },
  {
   "cell_type": "code",
   "execution_count": null,
   "id": "f4cf5512",
   "metadata": {
    "ExecuteTime": {
     "end_time": "2025-02-20T13:17:03.681311Z",
     "start_time": "2025-02-20T13:17:03.664120Z"
    },
    "collapsed": false,
    "jupyter": {
     "outputs_hidden": false
    }
   },
   "outputs": [],
   "source": [
    "# calculate monthly fraction of winners that outperform the market return\n",
    "monthly_fraction = combined_data_1.groupby('date')['winner'].mean()\n",
    "\n",
    "# average fraction of winners that outperform the market return across time\n",
    "average = monthly_fraction.mean() * 100\n",
    "print('Average fraction of winners for portfolio 10 that outperform the market return: {:.2f}%'.format(average))"
   ]
  },
  {
   "cell_type": "code",
   "execution_count": null,
   "id": "bc5d3cdc",
   "metadata": {
    "ExecuteTime": {
     "end_time": "2025-02-20T13:17:08.974068Z",
     "start_time": "2025-02-20T13:17:08.946793Z"
    },
    "collapsed": false,
    "jupyter": {
     "outputs_hidden": false
    }
   },
   "outputs": [],
   "source": [
    "# Winner chance of other portfolios (1 to 9) beating the market return\n",
    "combined_data_2 = combined_data[combined_data['bin'] != 10].copy()\n",
    "combined_data_2['winner'] = combined_data_2['ew'] > combined_data_2['Mkt']\n",
    "monthly_fraction_2 = combined_data_2.groupby('bin')['winner'].mean()\n",
    "monthly_fraction_2"
   ]
  },
  {
   "cell_type": "code",
   "execution_count": null,
   "id": "a079cdf8",
   "metadata": {
    "ExecuteTime": {
     "end_time": "2025-02-20T13:17:13.093259Z",
     "start_time": "2025-02-20T13:17:13.080408Z"
    },
    "collapsed": false,
    "jupyter": {
     "outputs_hidden": false
    }
   },
   "outputs": [],
   "source": [
    "# average fraction of other portfolios that outperform the market return across time\n",
    "average_2 = monthly_fraction_2.mean() * 100\n",
    "\n",
    "print('Average fraction of other portfolios that outperform the market return: {:.2f}%'.format(average_2))"
   ]
  },
  {
   "cell_type": "markdown",
   "id": "a8f64337",
   "metadata": {
    "collapsed": false,
    "jupyter": {
     "outputs_hidden": false
    }
   },
   "source": [
    "# Answer to Extra credit to Q 4\n",
    "- The portfolios are necessary in our quant trading strategies because the portfolios allow us to diversify our investments and reduce the risk of investing in a single stock. If we just pick one stock, we are exposed to the risk of that stock. The chance of a single stock beating the market return is not consistent, sometimes surge to a very high level, but sometimes very low. By investing in a portfolio of stocks, we can reduce the risk of investing in a single stock and have higher overall chance of beating the market return.\n",
    "- When we investigate the winner chance of portfolio with the highest momentum (quantile 10) beating the market return, the average fraction of winners that outperform the market return is 56.3% across time. It shows that the portfolio with the highest momentum has a higher chance of beating the market return than other lower momentum's portfolios (i.e. 49.46% on average)."
   ]
  },
  {
   "cell_type": "markdown",
   "id": "0748b348",
   "metadata": {},
   "source": [
    "# Q5\n",
    "Now compute an “independent sort”, whereby we sort independently on intraday momentum, overnight momentum. Sort into 5 bins each. Show me the five by five grid where from lel to right is increasing in overnight momentum and top to boWom is increasing in intraday momentum. Report both the value-weighted and equal-weighted grids. (Hint: You first must construct monthly porgolios, and then average across Sme.)"
   ]
  },
  {
   "cell_type": "code",
   "execution_count": null,
   "id": "6b2ff713",
   "metadata": {},
   "outputs": [],
   "source": [
    "#  Like the method in Q4, we first split the data into 5 part arrording mom_intraday and mom_overnight\n",
    "#  Assign binning function\n",
    "def new_apply_quantiles(inputdata, col, bins=5):\n",
    "    def quantile_bin(s):\n",
    "        s = s.dropna()  # Drop missing values\n",
    "        try:\n",
    "            # Try pd.qcut first\n",
    "            return pd.qcut(s, q=bins, labels=False, duplicates=\"drop\") + 1\n",
    "        except ValueError:\n",
    "            # Fallback to ranking if pd.qcut fails (e.g., due to insufficient unique values)\n",
    "            return np.ceil(s.rank(method='min') / len(s) * bins)\n",
    "\n",
    "    # Apply the binning function within each date group\n",
    "    return inputdata.groupby('date')[col].transform(quantile_bin)"
   ]
  },
  {
   "cell_type": "code",
   "execution_count": null,
   "id": "bc2dcdb2",
   "metadata": {},
   "outputs": [],
   "source": [
    "# Get the new data for Q5 and Q6\n",
    "data_fs = filtered_data[['permno', 'date', 'ret', 'intraday_ret_month', 'overnight_ret_month',\n",
    "       'mcap_lag1', 'prc_lag1', 'mom_intraday', 'mom', 'mom_overnight',\n",
    "       'mcap_bin']].copy()\n",
    "data_fs['bin_mom_intraday'] = new_apply_quantiles(data_fs, 'mom_intraday')\n",
    "data_fs['bin_mom_overnight'] = new_apply_quantiles(data_fs, 'mom_overnight')\n",
    "data_fs"
   ]
  },
  {
   "cell_type": "code",
   "execution_count": null,
   "id": "d25b949b",
   "metadata": {},
   "outputs": [],
   "source": [
    "# Also like Q4, but we only need the long-short portfolio return\n",
    "# Define function to calculate portfolios and PNL\n",
    "def new_calculate_pnl(data, bin_intraday, bin_overnight):\n",
    "    # Calculate portfolio returns\n",
    "    portfolios = (\n",
    "        data\n",
    "        .groupby(['date', bin_intraday, bin_overnight])\n",
    "        .agg(\n",
    "            ew=('ret', 'mean'),\n",
    "            vw=('ret', lambda x: (x * data.loc[x.index, 'mcap_lag1']).sum() / data.loc[x.index, 'mcap_lag1'].sum()),\n",
    "            ew_intraday=('intraday_ret_month', 'mean'),\n",
    "            vw_intraday=('intraday_ret_month', lambda x: (x * data.loc[x.index, 'mcap_lag1']).sum() / data.loc[x.index, 'mcap_lag1'].sum()),\n",
    "            ew_overnight=('overnight_ret_month', 'mean'),\n",
    "            vw_overnight=('overnight_ret_month', lambda x: (x * data.loc[x.index, 'mcap_lag1']).sum() / data.loc[x.index, 'mcap_lag1'].sum())\n",
    "        )\n",
    "        .reset_index()\n",
    "    )\n",
    "\n",
    "    return {'bins':portfolios}"
   ]
  },
  {
   "cell_type": "code",
   "execution_count": null,
   "id": "55bb358d",
   "metadata": {},
   "outputs": [],
   "source": [
    "data_temp = new_calculate_pnl(data_fs, 'bin_mom_intraday', 'bin_mom_overnight')\n",
    "data_temp = data_temp['bins']\n",
    "\n",
    "data_temp['bin_matrix'] = data_temp['bin_mom_intraday'].astype(str) + '-' + data_temp['bin_mom_overnight'].astype(str)\n",
    "\n",
    "data_final_q5 = data_temp.groupby('bin_matrix').agg(\n",
    "    ew=('ew', 'mean'),\n",
    "    vw=('vw', 'mean'),\n",
    "    ew_intraday=('ew_intraday', 'mean'),\n",
    "    vw_intraday=('vw_intraday', 'mean'),\n",
    "    ew_overnight=('ew_overnight', 'mean'),\n",
    "    vw_overnight=('vw_overnight', 'mean')\n",
    ")\n",
    "data_final_q5.reset_index(inplace=True)\n",
    "data_final_q5"
   ]
  },
  {
   "cell_type": "code",
   "execution_count": null,
   "id": "2653f349",
   "metadata": {},
   "outputs": [],
   "source": [
    "def generate_matrix(data, value_column):\n",
    "    data[['row', 'col']] = data['bin_matrix'].str.split('-', expand=True)\n",
    "    data['row'] = data['row'].astype(int)\n",
    "    data['col'] = data['col'].astype(int)\n",
    "    \n",
    "    matrix = np.zeros((5, 5))\n",
    "    for _, row in data.iterrows():\n",
    "        matrix[row['row'] - 1, row['col'] - 1] = row[value_column]\n",
    "    row_labels = ['Intraday: [0-20%)', '[20%-40%)', '[40%-60%)', '[60%-80%)', '[80%-100%]']\n",
    "    col_labels = ['Overnight: [0-20%)', '[20%-40%)', '[40%-60%)', '[60%-80%)', '[80%-100%]']\n",
    "    matrix_df = pd.DataFrame(matrix, index=row_labels, columns=col_labels)\n",
    "\n",
    "    \n",
    "    plt.figure(figsize=(10, 8))\n",
    "    sns.heatmap(matrix_df, annot=True, cmap='YlGnBu', cbar_kws={'label': f'{value_column} Value'})\n",
    "    plt.title(f'{value_column.upper()} Matrix Heatmap')\n",
    "    plt.show()\n",
    "\n",
    "    return matrix_df"
   ]
  },
  {
   "cell_type": "code",
   "execution_count": null,
   "id": "6b7d5f16",
   "metadata": {},
   "outputs": [],
   "source": [
    "ew_list = ['ew', 'ew_intraday', 'ew_overnight']\n",
    "for ew in ew_list:\n",
    "    print(f'Heatmap for {ew.upper()} Rerurn')\n",
    "    ew_matrix = generate_matrix(data_final_q5, ew)"
   ]
  },
  {
   "cell_type": "code",
   "execution_count": null,
   "id": "c2ce20c7",
   "metadata": {},
   "outputs": [],
   "source": [
    "vw_list = ['vw', 'vw_intraday', 'vw_overnight']\n",
    "for vw in vw_list:\n",
    "    print(f'Heatmap for {vw.upper()} return')\n",
    "    vw_matrix = generate_matrix(data_final_q5, vw)"
   ]
  },
  {
   "cell_type": "markdown",
   "id": "348b5080",
   "metadata": {},
   "source": [
    "# Q6"
   ]
  },
  {
   "cell_type": "markdown",
   "id": "e22358aa",
   "metadata": {},
   "source": [
    "1. On average, do you see that intraday momentum explains returns within overnight momentum buckets?\n",
    "2. On average, do you see that  overnight momentum explains returns within intraday momentum buckets?\n",
    "3. As both types of momentum increase, are the returns to the strategy increasingly profitable? \n",
    "4. What is the most profitable strategy long/short strategy you could construct?"
   ]
  },
  {
   "cell_type": "code",
   "execution_count": null,
   "id": "5698ee58",
   "metadata": {},
   "outputs": [],
   "source": [
    "def long_short_strategy(data, value_column):\n",
    "    long_return = max(data[value_column])\n",
    "    short_return = min(data[value_column])\n",
    "    long_short_return = long_return - short_return\n",
    "    # to get the bin_matrix when long and short\n",
    "    long_strategy = data[data[value_column] == long_return]['bin_matrix'].values[0]\n",
    "    short_strategy = data[data[value_column] == short_return]['bin_matrix'].values[0]\n",
    "    print(f'Long Strategy: {long_strategy}')\n",
    "    print(f'Short Strategy: {short_strategy}')\n",
    "    print(f'Long-Short Return: {long_short_return}%')\n",
    "    return"
   ]
  },
  {
   "cell_type": "code",
   "execution_count": null,
   "id": "c1ac568c",
   "metadata": {},
   "outputs": [],
   "source": [
    "for ew in ew_list:\n",
    "    print(f'Long Short Strategy for {ew.upper()} Return')\n",
    "    ew_long_short = long_short_strategy(data_final_q5, ew)\n",
    "    print('----' * 10)"
   ]
  },
  {
   "cell_type": "code",
   "execution_count": null,
   "id": "b9ddc870",
   "metadata": {},
   "outputs": [],
   "source": [
    "for vw in vw_list:\n",
    "    print(f'Long Short Strategy for {vw.upper()} Return')\n",
    "    vw_long_short = long_short_strategy(data_final_q5, vw)\n",
    "    print('----' * 10)"
   ]
  },
  {
   "cell_type": "code",
   "execution_count": null,
   "id": "3f785365",
   "metadata": {},
   "outputs": [],
   "source": [
    "# get the most profitable strategy\n",
    "max_strategy = [0, 0, 0]\n",
    "def most_profitable_strategy(data, value_column): \n",
    "    max_return = max(data[value_column])\n",
    "    min_return = min(data[value_column])\n",
    "    long_short_return = max_return - min_return\n",
    "    if long_short_return > max_strategy[2]:\n",
    "        max_strategy[0] = data[data[value_column] == max_return]['bin_matrix'].values[0]\n",
    "        max_strategy[1] = data[data[value_column] == min_return]['bin_matrix'].values[0]\n",
    "        max_strategy[2] = long_short_return\n",
    "    return max_strategy\n"
   ]
  },
  {
   "cell_type": "code",
   "execution_count": null,
   "id": "2a2f5aa8",
   "metadata": {},
   "outputs": [],
   "source": [
    "list = ['ew', 'ew_intraday', 'ew_overnight', 'vw', 'vw_intraday', 'vw_overnight']\n",
    "for value_column in list:\n",
    "   max_strategy = most_profitable_strategy(data_final_q5, value_column)\n"
   ]
  },
  {
   "cell_type": "markdown",
   "id": "3acef273-a3b8-48eb-8bf7-d31f502740e1",
   "metadata": {},
   "source": [
    "# Q 7"
   ]
  },
  {
   "cell_type": "code",
   "execution_count": null,
   "id": "3d2a83eb-72ea-49a6-8830-cac6693d78c6",
   "metadata": {},
   "outputs": [],
   "source": [
    "def calculate_strategy_returns(df, column, long_bin, short_bin):\n",
    "    # Group by month\n",
    "    monthly_returns = []\n",
    "    dates = df['date'].unique()\n",
    "    \n",
    "    for date in dates:\n",
    "        month_data = df[df['date'] == date]\n",
    "        # Long 10\n",
    "        long_ew = month_data[month_data[column] == long_bin]['ew'].values[0] if long_bin in month_data[column].values else 0\n",
    "        long_vw = month_data[month_data[column] == long_bin]['vw'].values[0] if long_bin in month_data[column].values else 0\n",
    "        # Short 1\n",
    "        short_ew = month_data[month_data[column] == short_bin]['ew'].values[0]\n",
    "        short_vw = month_data[month_data[column] == short_bin]['vw'].values[0]\n",
    "        # strategy return\n",
    "        ew_return = long_ew - short_ew\n",
    "        vw_return = long_vw - short_vw\n",
    "        monthly_returns.append({'date': date, 'ew': ew_return, 'vw': vw_return})\n",
    "    \n",
    "    return pd.DataFrame(monthly_returns)"
   ]
  },
  {
   "cell_type": "code",
   "execution_count": null,
   "id": "e668ac87-f100-4f2c-bb1a-3beb9e3de6a3",
   "metadata": {},
   "outputs": [],
   "source": [
    "# Construct long-short strategy for both momentum\n",
    "df = pd.DataFrame(data_temp)\n",
    "strategy_df = calculate_strategy_returns(data_temp, 'bin_matrix', '5-5', '1-1')\n",
    "strategy_df"
   ]
  },
  {
   "cell_type": "code",
   "execution_count": null,
   "id": "a60280e3-e1e1-4899-9a8d-e551ec89b151",
   "metadata": {},
   "outputs": [],
   "source": [
    "# Define function to calculate portfolios and PNL\n",
    "def calculate_one_m_ret(data, column):\n",
    "    # Calculate portfolio returns\n",
    "    portfolios = (\n",
    "        data\n",
    "        .groupby(['date', column])\n",
    "        .agg(\n",
    "            ew=('ret', 'mean'),\n",
    "            vw=('ret', lambda x: (x * data.loc[x.index, 'mcap_lag1']).sum() / data.loc[x.index, 'mcap_lag1'].sum())\n",
    "        )\n",
    "        .reset_index()\n",
    "    )\n",
    "\n",
    "    return {'bins':portfolios}\n",
    "\n",
    "# Construct long-short strategy for intraday momentum\n",
    "data_fs_intra = filtered_data[['permno', 'date', 'ret', 'intraday_ret_month', 'overnight_ret_month',\n",
    "       'mcap_lag1', 'prc_lag1', 'mom_intraday', 'mom', 'mom_overnight',\n",
    "       'mcap_bin']].copy()\n",
    "data_fs_intra['bin_mom_intraday'] = new_apply_quantiles(data_fs, 'mom_intraday', 10)\n",
    "data_fs_intra['bin_mom_overnight'] = new_apply_quantiles(data_fs, 'mom_overnight', 10)\n",
    "\n",
    "intraday_ret = calculate_one_m_ret(data_fs_intra, 'bin_mom_intraday')\n",
    "intraday_ret = intraday_ret['bins']\n",
    "intraday_ret['bin_mom_intraday'] = intraday_ret['bin_mom_intraday'].astype(str)\n",
    "\n",
    "overnight_ret = calculate_one_m_ret(data_fs_intra, 'bin_mom_overnight')\n",
    "overnight_ret = overnight_ret['bins']\n",
    "overnight_ret['bin_mom_overnight'] = overnight_ret['bin_mom_overnight'].astype(str)"
   ]
  },
  {
   "cell_type": "code",
   "execution_count": null,
   "id": "5e9cc3e4-e039-42df-bd3a-05e9ee8601eb",
   "metadata": {},
   "outputs": [],
   "source": [
    "# Construct long-short strategy for intraday momentum\n",
    "intra_strategy_df = calculate_strategy_returns(intraday_ret, 'bin_mom_intraday', '10', '1')\n",
    "intra_strategy_df"
   ]
  },
  {
   "cell_type": "code",
   "execution_count": null,
   "id": "f9ba1b07-0b15-4dfc-9078-fd98a4ff134b",
   "metadata": {},
   "outputs": [],
   "source": [
    "# Construct long-short strategy for overnight momentum\n",
    "overnight_strategy_df = calculate_strategy_returns(overnight_ret, 'bin_mom_overnight', '10', '1')\n",
    "overnight_strategy_df"
   ]
  },
  {
   "cell_type": "code",
   "execution_count": null,
   "id": "e737803c-c047-44ce-9b5c-fa0f81e0b272",
   "metadata": {},
   "outputs": [],
   "source": [
    "# Read the Fama French factor file\n",
    "ff5 = pd.read_parquet('data/ff.five_factor.parquet', engine='pyarrow')\n",
    "ff5['dt'] = pd.to_datetime(ff5['dt'])\n",
    "ff5 = ff5.sort_values(by='dt', ascending=True)\n",
    "ff5 = ff5.rename(columns={'dt': 'date'})\n",
    "intra_strategy_df['date'] = pd.to_datetime(intra_strategy_df['date'])\n",
    "overnight_strategy_df['date'] = pd.to_datetime(overnight_strategy_df['date'])\n",
    "strategy_df['date'] = pd.to_datetime(strategy_df['date'])\n",
    "\n",
    "one_m_strategy = intra_strategy_df.merge(overnight_strategy_df, on='date', suffixes=('_intraday', '_overnight'))\n",
    "# merge data\n",
    "merged_df = strategy_df.merge(one_m_strategy, on='date')\n",
    "merged_df = merged_df.merge(ff5, on='date')\n",
    "merged_df"
   ]
  },
  {
   "cell_type": "code",
   "execution_count": null,
   "id": "d0834e86-a1c6-4ce3-8fda-fb3f7bd3c920",
   "metadata": {},
   "outputs": [],
   "source": [
    "# Calculate sharpe ratio\n",
    "def calculate_sharpe_ratio(returns, rf):\n",
    "    '''\n",
    "        Calculate Sharpe ratio\n",
    "    '''\n",
    "    excess_returns = returns - rf\n",
    "    mean_excess = excess_returns.mean()\n",
    "    std_excess = excess_returns.std()\n",
    "    sharpe = mean_excess / std_excess * np.sqrt(12)  # 年化\n",
    "    return sharpe\n",
    "\n",
    "\n",
    "sharpe_results = {\n",
    "    'Main Strategy EW': calculate_sharpe_ratio(merged_df['ew'], merged_df['rf']),\n",
    "    'Main Strategy VW': calculate_sharpe_ratio(merged_df['vw'], merged_df['rf']),\n",
    "    'Intraday EW': calculate_sharpe_ratio(merged_df['ew_intraday'], merged_df['rf']),\n",
    "    'Intraday VW': calculate_sharpe_ratio(merged_df['vw_intraday'], merged_df['rf']),\n",
    "    'Overnight EW': calculate_sharpe_ratio(merged_df['ew_overnight'], merged_df['rf']),\n",
    "    'Overnight VW': calculate_sharpe_ratio(merged_df['vw_overnight'], merged_df['rf'])\n",
    "}\n",
    "\n",
    "# 4. 计算所有策略的累计收益并绘制 P&L 曲线\n",
    "merged_df['ew_cumulative'] = (1 + merged_df['ew']).cumprod() - 1\n",
    "merged_df['vw_cumulative'] = (1 + merged_df['vw']).cumprod() - 1\n",
    "merged_df['ew_intraday_cumulative'] = (1 + merged_df['ew_intraday']).cumprod() - 1\n",
    "merged_df['vw_intraday_cumulative'] = (1 + merged_df['vw_intraday']).cumprod() - 1\n",
    "merged_df['ew_overnight_cumulative'] = (1 + merged_df['ew_overnight']).cumprod() - 1\n",
    "merged_df['vw_overnight_cumulative'] = (1 + merged_df['vw_overnight']).cumprod() - 1\n",
    "\n",
    "plt.figure(figsize=(12, 8))\n",
    "plt.plot(merged_df['date'], merged_df['ew_cumulative'], label='Main Strategy EW', color='blue')\n",
    "plt.plot(merged_df['date'], merged_df['vw_cumulative'], label='Main Strategy VW', color='lightblue')\n",
    "plt.plot(merged_df['date'], merged_df['ew_intraday_cumulative'], label='Intraday Strategy EW', color='green')\n",
    "plt.plot(merged_df['date'], merged_df['vw_intraday_cumulative'], label='Intraday Strategy VW', color='lightgreen')\n",
    "plt.plot(merged_df['date'], merged_df['ew_overnight_cumulative'], label='Overnight Strategy EW', color='red')\n",
    "plt.plot(merged_df['date'], merged_df['vw_overnight_cumulative'], label='Overnight Strategy VW', color='pink')\n",
    "plt.xlabel('Date')\n",
    "plt.ylabel('Cumulative Return')\n",
    "plt.title('P&L Curves of Main, Intraday, and Overnight Strategies')\n",
    "plt.legend()\n",
    "plt.xticks(rotation=45)\n",
    "plt.grid()\n",
    "plt.tight_layout()\n",
    "plt.show()\n",
    "\n",
    "# 5. Alpha 分析\n",
    "def calculate_alpha(return_series, factors):\n",
    "    X = sm.add_constant(factors)\n",
    "    model = sm.OLS(return_series, X).fit()\n",
    "    alpha = model.params['const']\n",
    "    t_stat = model.tvalues['const']\n",
    "    return alpha, t_stat\n",
    "\n",
    "alpha_results = {}\n",
    "\n",
    "# Alpha vs Intraday Momentum\n",
    "alpha_results['EW vs Intraday EW'] = calculate_alpha(merged_df['ew'], merged_df['ew_intraday'])\n",
    "alpha_results['VW vs Intraday VW'] = calculate_alpha(merged_df['vw'], merged_df['vw_intraday'])\n",
    "\n",
    "# Alpha vs Overnight Momentum\n",
    "alpha_results['EW vs Overnight EW'] = calculate_alpha(merged_df['ew'], merged_df['ew_overnight'])\n",
    "alpha_results['VW vs Overnight VW'] = calculate_alpha(merged_df['vw'], merged_df['vw_overnight'])\n",
    "\n",
    "# Alpha vs Intraday + FF5\n",
    "ff5_factors_intra = merged_df[['ew_intraday', 'mkt_rf', 'smb', 'hml', 'rmw', 'cma']]\n",
    "alpha_results['EW vs Intraday EW + FF5'] = calculate_alpha(merged_df['ew'], ff5_factors_intra)\n",
    "ff5_factors_intra_vw = merged_df[['vw_intraday', 'mkt_rf', 'smb', 'hml', 'rmw', 'cma']]\n",
    "alpha_results['VW vs Intraday VW + FF5'] = calculate_alpha(merged_df['vw'], ff5_factors_intra_vw)\n",
    "\n",
    "# Alpha vs Overnight + FF5\n",
    "ff5_factors_over = merged_df[['ew_overnight', 'mkt_rf', 'smb', 'hml', 'rmw', 'cma']]\n",
    "alpha_results['EW vs Overnight EW + FF5'] = calculate_alpha(merged_df['ew'], ff5_factors_over)\n",
    "ff5_factors_over_vw = merged_df[['vw_overnight', 'mkt_rf', 'smb', 'hml', 'rmw', 'cma']]\n",
    "alpha_results['VW vs Overnight VW + FF5'] = calculate_alpha(merged_df['vw'], ff5_factors_over_vw)\n",
    "\n",
    "# 6. 创建结果表格\n",
    "results_df = pd.DataFrame({\n",
    "    'Metric': ['Sharpe Ratio'] * 6 + ['Alpha'] * 8 + ['t-stat'] * 8,\n",
    "    'Strategy': [\n",
    "        'Main Strategy EW', 'Main Strategy VW', 'Intraday EW', 'Intraday VW', 'Overnight EW', 'Overnight VW',\n",
    "        'EW vs Intraday EW', 'VW vs Intraday VW', 'EW vs Overnight EW', 'VW vs Overnight VW',\n",
    "        'EW vs Intraday EW + FF5', 'VW vs Intraday VW + FF5', 'EW vs Overnight EW + FF5', 'VW vs Overnight VW + FF5',\n",
    "        'EW vs Intraday EW', 'VW vs Intraday VW', 'EW vs Overnight EW', 'VW vs Overnight VW',\n",
    "        'EW vs Intraday EW + FF5', 'VW vs Intraday VW + FF5', 'EW vs Overnight EW + FF5', 'VW vs Overnight VW + FF5'\n",
    "    ],\n",
    "    'Value': [\n",
    "        sharpe_results['Main Strategy EW'], sharpe_results['Main Strategy VW'],\n",
    "        sharpe_results['Intraday EW'], sharpe_results['Intraday VW'],\n",
    "        sharpe_results['Overnight EW'], sharpe_results['Overnight VW'],\n",
    "        alpha_results['EW vs Intraday EW'][0], alpha_results['VW vs Intraday VW'][0],\n",
    "        alpha_results['EW vs Overnight EW'][0], alpha_results['VW vs Overnight VW'][0],\n",
    "        alpha_results['EW vs Intraday EW + FF5'][0], alpha_results['VW vs Intraday VW + FF5'][0],\n",
    "        alpha_results['EW vs Overnight EW + FF5'][0], alpha_results['VW vs Overnight VW + FF5'][0],\n",
    "        alpha_results['EW vs Intraday EW'][1], alpha_results['VW vs Intraday VW'][1],\n",
    "        alpha_results['EW vs Overnight EW'][1], alpha_results['VW vs Overnight VW'][1],\n",
    "        alpha_results['EW vs Intraday EW + FF5'][1], alpha_results['VW vs Intraday VW + FF5'][1],\n",
    "        alpha_results['EW vs Overnight EW + FF5'][1], alpha_results['VW vs Overnight VW + FF5'][1]\n",
    "    ]\n",
    "})\n",
    "\n",
    "# 格式化表格\n",
    "results_df['Value'] = results_df['Value'].apply(lambda x: f\"{x:.4f}\")\n",
    "print(\"\\nResults Table:\")\n",
    "print(results_df.to_string(index=False))\n",
    "\n",
    "# 7. 策略表现是否良好\n",
    "ew_mean = merged_df['ew'].mean()\n",
    "vw_mean = merged_df['vw'].mean()\n",
    "print(f\"\\nEW Strategy Mean Return: {ew_mean:.4f}\")\n",
    "print(f\"VW Strategy Mean Return: {vw_mean:.4f}\")\n",
    "print(\"Strategy performs well if mean returns are positive and Sharpe ratios are competitive.\")"
   ]
  },
  {
   "cell_type": "markdown",
   "id": "83f477cb-fc64-4486-81bf-5760096e0ef8",
   "metadata": {},
   "source": [
    "# Question 8 - Extra credit (4 points):"
   ]
  },
  {
   "cell_type": "markdown",
   "id": "c79c3f59-0942-45d2-b10c-3221cc571a10",
   "metadata": {
    "collapsed": false,
    "jupyter": {
     "outputs_hidden": false
    }
   },
   "source": [
    "### 8.1 Overnight Returns → Future Returns"
   ]
  },
  {
   "cell_type": "markdown",
   "id": "516d7ef4-e16f-4d82-859b-9876757911be",
   "metadata": {},
   "source": [
    "+ <span style=\"color:red\">Use the Fama-MacBeth regression model, use overnight_ret_month to predict future returns, and finally achieve visualization</span>"
   ]
  },
  {
   "cell_type": "code",
   "execution_count": null,
   "id": "13d802ee-b1d3-484a-ba65-e0266c84f8c0",
   "metadata": {},
   "outputs": [],
   "source": [
    "import pandas as pd\n",
    "import numpy as np\n",
    "import statsmodels.api as sm\n",
    "import matplotlib.pyplot as plt\n",
    "import matplotlib.dates as mdates"
   ]
  },
  {
   "cell_type": "code",
   "execution_count": null,
   "id": "0c779dec-7047-4652-b4ad-d2dc3d2b7e4e",
   "metadata": {},
   "outputs": [],
   "source": [
    "df = pd.read_parquet('data/hw2_mfin7037_data.parquet')\n",
    "column_names = df.columns.tolist()\n",
    "df['date'] = pd.to_datetime(df['date'], format='%Y-%m-%d')\n",
    "d_type = df.dtypes\n",
    "\n",
    "print(column_names)\n",
    "print(d_type)"
   ]
  },
  {
   "cell_type": "code",
   "execution_count": null,
   "id": "4af606fa-5730-4552-8c0d-27a0e6d7dff3",
   "metadata": {},
   "outputs": [],
   "source": [
    "df['next_month'] = df['date'] + pd.offsets.MonthEnd(1)\n",
    "\n",
    "# Combine future earnings\n",
    "df = df.merge(\n",
    "    df[['permno', 'date', 'ret']].rename(columns={'ret': 'future_ret'}),\n",
    "    left_on=['permno', 'next_month'],\n",
    "    right_on=['permno', 'date'],\n",
    "    how='left'\n",
    ").drop(columns=['next_month', 'date_y']).rename(columns={'date_x': 'date'})\n",
    "df = df.dropna(subset=['future_ret', 'overnight_ret_month'])"
   ]
  },
  {
   "cell_type": "code",
   "execution_count": null,
   "id": "33682c39-eeec-4734-99a2-570c994da129",
   "metadata": {},
   "outputs": [],
   "source": [
    "coefficients = []\n",
    "dates = []\n",
    "\n",
    "df = df.sort_values('date')\n",
    "\n",
    "for date, date_df in df.groupby('date'):\n",
    "    if len(date_df) < 10: \n",
    "        continue\n",
    "    \n",
    "    X = sm.add_constant(date_df['overnight_ret_month'])\n",
    "    y = date_df['future_ret']\n",
    "    \n",
    "    try:\n",
    "        model = sm.OLS(y, X).fit()\n",
    "        coefficients.append(model.params['overnight_ret_month'])\n",
    "        dates.append(date)\n",
    "    except Exception as e:\n",
    "        print(f\"Error in {date}: {str(e)}\")\n",
    "        continue"
   ]
  },
  {
   "cell_type": "code",
   "execution_count": null,
   "id": "e523f5d6-ceb4-493f-9392-51463a9ab7e0",
   "metadata": {},
   "outputs": [],
   "source": [
    "# Convert to time series\n",
    "coeff_series = pd.Series(coefficients, index=pd.to_datetime(dates))\n",
    "\n",
    "mean_coeff = coeff_series.mean()\n",
    "std_error = coeff_series.std() / np.sqrt(len(coeff_series))\n",
    "t_stat = mean_coeff / std_error"
   ]
  },
  {
   "cell_type": "code",
   "execution_count": null,
   "id": "765693fc-0587-4cf9-8808-606e33c5c999",
   "metadata": {},
   "outputs": [],
   "source": [
    "from tabulate import tabulate\n",
    "\n",
    "data = [\n",
    "    [\"Coefficient\", f\"{mean_coeff:.4f}\"],\n",
    "    [\"Standard Error\", f\"{std_error:.4f}\"],\n",
    "    [\"t-statistics\", f\"{t_stat:.4f}\"]\n",
    "]\n",
    "\n",
    "print(tabulate(data, headers=[\"Parameter\", \"Value\"], tablefmt=\"grid\"))"
   ]
  },
  {
   "cell_type": "code",
   "execution_count": null,
   "id": "8d335073-4ae7-4c5e-b0df-95f6cec74bf7",
   "metadata": {},
   "outputs": [],
   "source": [
    "plt.figure(figsize=(14, 7))\n",
    "\n",
    "coeff_series.plot(marker='o', markersize=5, linestyle='-', linewidth=0.8, alpha=0.8, color='steelblue')\n",
    "plt.axhline(mean_coeff, color='firebrick', linestyle='--', linewidth=1.5, label=f'Mean Coefficient ({mean_coeff:.4f})')\n",
    "\n",
    "\n",
    "ax = plt.gca()\n",
    "\n",
    "ax.xaxis.set_major_locator(mdates.YearLocator(5))   \n",
    "ax.xaxis.set_major_formatter(mdates.DateFormatter('%Y')) \n",
    "\n",
    "ax.xaxis.set_minor_locator(mdates.YearLocator(1))\n",
    "\n",
    "plt.xticks(rotation=45, ha='right') # Added rotation settings\n",
    "\n",
    "ax.tick_params(axis='x', labelsize=10)\n",
    "ax.tick_params(axis='y', labelsize=10)\n",
    "\n",
    "plt.title('Fama-MacBeth Regression: Overnight Returns → Future Returns', fontsize=14, pad=20)\n",
    "plt.xlabel('Date', fontsize=12, labelpad=10)\n",
    "plt.ylabel('Coefficient Value', fontsize=12, labelpad=10)\n",
    "plt.legend(fontsize=10)\n",
    "plt.grid(True, which='major', linestyle='--', alpha=0.7)\n",
    "plt.grid(True, which='minor', linestyle=':', alpha=0.5)\n",
    "\n",
    "plt.tight_layout()\n",
    "plt.show()"
   ]
  },
  {
   "cell_type": "markdown",
   "id": "1da6f13a-9782-4ecd-868e-bfbb52af04b5",
   "metadata": {},
   "source": [
    "Based on the time series visualization results of the Fama-MacBeth regression coefficient, the following typical characteristics can be observed:\n",
    "\n",
    "+ <span style=\"color:red\">Overall stability: In most time periods (about 90% of the observation period), the regression coefficient fluctuates narrowly in the range of [-0.2, 0.2], indicating that the predictive ability of overnight returns on future returns presents a relatively stable weak correlation.</span>\n",
    "\n",
    "\n",
    "+ <span style=\"color:red\">Extreme outliers: Around 1940, the coefficient plummeted to an extreme value of -1.2, forming a significant outlier (exceeding the mean ±5 standard deviations).</span>\n",
    "\n",
    "+ <span style=\"color:red\">Volatility clustering: At key points such as 2001 (the bursting of the Internet bubble), 2014 (the Fed’s exit from QE), and 2020 (the impact of the COVID-19 pandemic), the coefficient showed abnormal fluctuations (amplitude exceeding ±0.5), showing obvious volatility clustering characteristics.</span>\n"
   ]
  },
  {
   "cell_type": "markdown",
   "id": "c5543f72-65a2-4cc5-b046-af6e7be06a39",
   "metadata": {},
   "source": [
    "+ <span style=\"color:red\">In order to further analyze the timeline of data fluctuations, special shadow annotation is given to the line chart:</span>"
   ]
  },
  {
   "cell_type": "code",
   "execution_count": null,
   "id": "715c3ab3-8d9a-4ed1-bceb-cd3e19a74b97",
   "metadata": {},
   "outputs": [],
   "source": [
    "crisis_periods = [\n",
    "    (pd.to_datetime('1940-01-01'), pd.to_datetime('1945-12-31')),  \n",
    "    (pd.to_datetime('2000-01-01'), pd.to_datetime('2002-12-31')),  \n",
    "    (pd.to_datetime('2020-01-01'), pd.to_datetime('2020-12-31'))  \n",
    "]"
   ]
  },
  {
   "cell_type": "code",
   "execution_count": null,
   "id": "b1fd42d6-c3cd-44ec-b993-099e083a3c45",
   "metadata": {},
   "outputs": [],
   "source": [
    "# Subsample analysis\n",
    "for start, end in crisis_periods:\n",
    "    sub_df = df[(df['date'] >= start) & (df['date'] <= end)]\n",
    "    \n",
    "    #Fama-MacBeth regression\n",
    "    coefficients = []\n",
    "    for date, date_df in sub_df.groupby('date'):\n",
    "        if len(date_df) < 10:\n",
    "            continue\n",
    "        X = sm.add_constant(date_df['overnight_ret_month'])\n",
    "        y = date_df['future_ret']\n",
    "        try:\n",
    "            model = sm.OLS(y, X).fit()\n",
    "            coefficients.append(model.params['overnight_ret_month'])\n",
    "        except:\n",
    "            continue\n",
    "    \n",
    "    # output the result\n",
    "    mean_coeff = np.mean(coefficients)\n",
    "    std_error = np.std(coefficients) / np.sqrt(len(coefficients))\n",
    "    print(f\"Crisis Period: {start} to {end}\")\n",
    "    print(f\"Mean Coefficient: {mean_coeff:.4f}\")\n",
    "    print(f\"Standard Error: {std_error:.4f}\\n\")"
   ]
  },
  {
   "cell_type": "code",
   "execution_count": null,
   "id": "777d8f5d-b664-4c64-8e5f-9545be25e213",
   "metadata": {},
   "outputs": [],
   "source": [
    "plt.figure(figsize=(14, 7))\n",
    "coeff_series.plot(marker='o', markersize=5, linestyle='-', linewidth=0.8, alpha=0.8, color='steelblue')\n",
    "plt.axhline(mean_coeff, color='firebrick', linestyle='--', linewidth=1.5, label=f'Mean Coefficient ({mean_coeff:.4f})')\n",
    "\n",
    "for start, end in crisis_periods:\n",
    "    plt.axvspan(start, end, color='gray', alpha=0.2, label='Crisis Period' if start == crisis_periods[0][0] else \"\")\n",
    "\n",
    "ax = plt.gca()\n",
    "ax.xaxis.set_major_locator(mdates.YearLocator(5))\n",
    "ax.xaxis.set_major_formatter(mdates.DateFormatter('%Y'))\n",
    "ax.xaxis.set_minor_locator(mdates.YearLocator(1))\n",
    "plt.xticks(rotation=45, ha='right')\n",
    "\n",
    "plt.title('Fama-MacBeth Regression Coefficients with Crisis Periods', fontsize=14, pad=20)\n",
    "plt.xlabel('Date', fontsize=12, labelpad=10)\n",
    "plt.ylabel('Coefficient Value', fontsize=12, labelpad=10)\n",
    "plt.legend(fontsize=10)\n",
    "plt.grid(True, which='major', linestyle='--', alpha=0.7)\n",
    "plt.grid(True, which='minor', linestyle=':', alpha=0.5)\n",
    "plt.tight_layout()\n",
    "plt.show()"
   ]
  },
  {
   "cell_type": "markdown",
   "id": "0b594be1-c66c-4df7-b0da-dd958075f623",
   "metadata": {},
   "source": [
    "+ <span style=\"color:red\">From the chart, we can see that the drivers of the volatility surge in 2001/2014/2020 are consistent with the cycle of major social events. The 9/11 terrorist attacks caused the market to shut down, the eurozone debt crisis fermented, and the COVID-19 epidemic triggered circuit breakers. These social events led to index volatility.</span>"
   ]
  },
  {
   "cell_type": "markdown",
   "id": "8fc07288-9e3d-4cce-b15e-29d8b004928f",
   "metadata": {},
   "source": [
    "+ <span style=\"color:red\">According to the problem, here restate the result:</span>"
   ]
  },
  {
   "cell_type": "code",
   "execution_count": null,
   "id": "0f30825f-3167-46e1-a3a9-db663234398f",
   "metadata": {},
   "outputs": [],
   "source": [
    "data = [\n",
    "    [\"Coefficient\", f\"{mean_coeff:.4f}\"],\n",
    "    [\"Standard Error\", f\"{std_error:.4f}\"],\n",
    "    [\"t-statistics\", f\"{t_stat:.4f}\"]\n",
    "]\n",
    "\n",
    "print(tabulate(data, headers=[\"Parameter\", \"Value\"], tablefmt=\"grid\"))"
   ]
  },
  {
   "cell_type": "markdown",
   "id": "d1cd4f4b-0a52-41f1-859a-c1d365387158",
   "metadata": {},
   "source": [
    "### 8.2 Intraday → Future Returns"
   ]
  },
  {
   "cell_type": "markdown",
   "id": "2701984a-35db-434e-8e99-2c47ab59bf6f",
   "metadata": {},
   "source": [
    "+ <span style=\"color:red\">Implement Fama-MacBeth cross-sectional regression to study the impact of intraday momentum on returns and visualize:</span>"
   ]
  },
  {
   "cell_type": "code",
   "execution_count": null,
   "id": "f7e0bafd-2a32-45e7-b3a5-1ce6b2a0250a",
   "metadata": {},
   "outputs": [],
   "source": [
    "df = df.dropna(subset=['future_ret', 'mom_intraday'])\n",
    "coefficients = []\n",
    "dates = []\n",
    "df = df.sort_values('date')\n",
    "\n",
    "for date, date_df in df.groupby('date'):\n",
    "    if len(date_df) < 10:  \n",
    "        continue\n",
    "    \n",
    "    X = sm.add_constant(date_df['mom_intraday'])\n",
    "    y = date_df['future_ret']\n",
    "    \n",
    "    try:\n",
    "        model = sm.OLS(y, X).fit()\n",
    "        coefficients.append(model.params['mom_intraday'])\n",
    "        dates.append(date)\n",
    "    except Exception as e:\n",
    "        print(f\"Error in {date}: {str(e)}\")\n",
    "        continue"
   ]
  },
  {
   "cell_type": "code",
   "execution_count": null,
   "id": "a0bc09e3-7cd5-44d7-abb7-21e040ecaa76",
   "metadata": {},
   "outputs": [],
   "source": [
    "coeff_series = pd.Series(coefficients, index=pd.to_datetime(dates))\n",
    "\n",
    "mean_coeff = coeff_series.mean()\n",
    "std_error = coeff_series.std() / np.sqrt(len(coeff_series))\n",
    "t_stat = mean_coeff / std_error\n",
    "\n",
    "print(f\"Coefficient: {mean_coeff:.4f}\")\n",
    "print(f\"Standard Error: {std_error:.4f}\")\n",
    "print(f\"t-statistics: {t_stat:.4f}\")"
   ]
  },
  {
   "cell_type": "code",
   "execution_count": null,
   "id": "253500dc-24f6-45ed-956e-17f9e77c7c35",
   "metadata": {},
   "outputs": [],
   "source": [
    "plt.figure(figsize=(14, 7))\n",
    "\n",
    "coeff_series.plot(\n",
    "    marker='o',\n",
    "    markersize=5,\n",
    "    linestyle='-',\n",
    "    linewidth=0.8,\n",
    "    alpha=0.8,\n",
    "    color='darkorange' \n",
    ")\n",
    "\n",
    "plt.axhline(\n",
    "    mean_coeff,\n",
    "    color='darkgreen',\n",
    "    linestyle='--',\n",
    "    linewidth=1.5,\n",
    "    label=f'Mean Coefficient ({mean_coeff:.4f})'\n",
    ")\n",
    "\n",
    "ax = plt.gca()\n",
    "ax.xaxis.set_major_locator(mdates.YearLocator(5))   \n",
    "ax.xaxis.set_major_formatter(mdates.DateFormatter('%Y'))\n",
    "ax.xaxis.set_minor_locator(mdates.YearLocator(1))  \n",
    "plt.xticks(rotation=45, ha='right')\n",
    "\n",
    "crisis_periods = [\n",
    "    ('1940-01-01', '1945-12-31', 'World War 2'),\n",
    "    ('2001-01-01', '2002-12-31', 'Dot-com Bubble'),\n",
    "    ('2008-01-01', '2009-12-31', 'Global Crisis'),\n",
    "    ('2020-01-01', '2020-12-31', 'COVID-19')\n",
    "]\n",
    "for start, end, label in crisis_periods:\n",
    "    plt.axvspan(\n",
    "        pd.to_datetime(start), pd.to_datetime(end),\n",
    "        color='grey', alpha=0.2, label=label\n",
    "    )\n",
    "\n",
    "plt.title('Fama-MacBeth Regression: Intraday Momentum → Future Returns', fontsize=14, pad=20)\n",
    "plt.xlabel('Date', fontsize=12, labelpad=10)\n",
    "plt.ylabel('Coefficient Value', fontsize=12, labelpad=10)\n",
    "plt.legend(fontsize=8, loc='upper left')\n",
    "plt.grid(True, which='major', linestyle='--', alpha=0.7)\n",
    "plt.grid(True, which='minor', linestyle=':', alpha=0.5)\n",
    "plt.tight_layout()\n",
    "plt.show()"
   ]
  },
  {
   "cell_type": "markdown",
   "id": "5b55b85f-8562-4f96-bb96-a0a60ed19353",
   "metadata": {},
   "source": [
    "+ <span style=\"color:red\">According to the problem, here restate the result:</span>"
   ]
  },
  {
   "cell_type": "code",
   "execution_count": null,
   "id": "fed1dca0-8ffe-40d9-b258-f96f884c936c",
   "metadata": {},
   "outputs": [],
   "source": [
    "data = [\n",
    "    [\"Coefficient\", f\"{mean_coeff:.4f}\"],\n",
    "    [\"Standard Error\", f\"{std_error:.4f}\"],\n",
    "    [\"t-statistics\", f\"{t_stat:.4f}\"]\n",
    "]\n",
    "\n",
    "print(tabulate(data, headers=[\"Parameter\", \"Value\"], tablefmt=\"grid\"))"
   ]
  },
  {
   "cell_type": "markdown",
   "id": "420011a0-7009-46ee-9dc8-4150a8dc32b9",
   "metadata": {},
   "source": [
    "### 8.3 MacBeth Regression Results with Interaction Term"
   ]
  },
  {
   "cell_type": "markdown",
   "id": "6f329082-7df5-4641-bf35-96b4cb8ea68e",
   "metadata": {},
   "source": [
    "+ <span style=\"color:red\">The variables in the first two regression models (overnight return and intraday momentum) are included in the regression at the same time, and their interaction terms are added:</span>"
   ]
  },
  {
   "cell_type": "code",
   "execution_count": null,
   "id": "e6a8dbc7-f84c-4321-aec2-bbed95526bee",
   "metadata": {},
   "outputs": [],
   "source": [
    "df['interaction'] = df['overnight_ret_month'] * df['mom_intraday']\n",
    "df = df.dropna(subset=['future_ret', 'overnight_ret_month', 'mom_intraday'])"
   ]
  },
  {
   "cell_type": "code",
   "execution_count": null,
   "id": "ae123bb4-0af1-46d0-a3ff-d3d838d79c9b",
   "metadata": {},
   "outputs": [],
   "source": [
    "coeff_dict = {\n",
    "    'overnight': [],\n",
    "    'intraday': [],\n",
    "    'interaction': [],\n",
    "    'date': []\n",
    "}\n",
    "\n",
    "for date, date_df in df.groupby('date'):\n",
    "    if len(date_df) < 10:\n",
    "        continue\n",
    "    \n",
    "    X = sm.add_constant(date_df[['overnight_ret_month', 'mom_intraday', 'interaction']])\n",
    "    y = date_df['future_ret']\n",
    "    \n",
    "    try:\n",
    "        model = sm.OLS(y, X).fit()\n",
    "        coeff_dict['overnight'].append(model.params['overnight_ret_month'])\n",
    "        coeff_dict['intraday'].append(model.params['mom_intraday'])\n",
    "        coeff_dict['interaction'].append(model.params['interaction'])\n",
    "        coeff_dict['date'].append(date)\n",
    "    except:\n",
    "        continue\n",
    "\n",
    "results = pd.DataFrame(coeff_dict).set_index('date')"
   ]
  },
  {
   "cell_type": "code",
   "execution_count": null,
   "id": "698568c5-7ade-4b25-aa4e-35c521799db3",
   "metadata": {},
   "outputs": [],
   "source": [
    "def fm_summary(series):\n",
    "    mean = series.mean()\n",
    "    t_stat = mean / (series.std() / np.sqrt(len(series)))\n",
    "    return pd.Series({'Coefficient': mean, 't-stat': t_stat})\n",
    "\n",
    "summary_table = results.apply(fm_summary)\n",
    "\n",
    "print(\"\\nFama-MacBeth Regression Results with Interaction Term\")\n",
    "print(\"=====================================================\")\n",
    "print(summary_table.T[['Coefficient', 't-stat']].to_string(float_format=\"%.4f\"))"
   ]
  },
  {
   "cell_type": "code",
   "execution_count": null,
   "id": "473a526b-97f9-40f3-b1c5-bb113a141f8b",
   "metadata": {},
   "outputs": [],
   "source": [
    "fig, axes = plt.subplots(3, 1, figsize=(14, 12), sharex=True)\n",
    "\n",
    "for i, col in enumerate(['overnight', 'intraday', 'interaction']):\n",
    "    axes[i].plot(results.index, results[col], \n",
    "                color=['steelblue', 'darkorange', 'purple'][i],\n",
    "                alpha=0.7, linewidth=1)\n",
    "    axes[i].axhline(summary_table[col]['Coefficient'], \n",
    "                   color='red', linestyle='--', linewidth=1)\n",
    "    axes[i].set_ylabel(f'{col.capitalize()} Coefficient', fontsize=10)\n",
    "    axes[i].grid(True, alpha=0.3)\n",
    "    axes[i].set_title(f'{col.capitalize()} Coefficient Trend', fontsize=12)\n",
    "\n",
    "axes[-1].xaxis.set_major_locator(mdates.YearLocator(5))\n",
    "axes[-1].xaxis.set_major_formatter(mdates.DateFormatter('%Y'))\n",
    "plt.xticks(rotation=45, ha='right')\n",
    "\n",
    "plt.tight_layout()\n",
    "plt.show()"
   ]
  },
  {
   "cell_type": "markdown",
   "id": "9f026ad7-879d-4efb-a8ca-34a495c57c59",
   "metadata": {},
   "source": [
    "+ <span style=\"color:red\">By comparing the results of the single factor model and the interaction model, the existence of the substitution effect can be verified. The coefficients of overnight returns and intraday momentum decreased by 26.2% and 21.7% respectively after adding the interaction term, indicating that there is collinearity between the two.</span>\n",
    "\n",
    "+ <span style=\"color:red\"> The interaction term explains about 20% of the predictive power of the cause, proving that the substitution effect cannot be ignored.</span>"
   ]
  },
  {
   "cell_type": "code",
   "execution_count": null,
   "id": "463b0b5c-7ae6-4081-a03e-071093968a2a",
   "metadata": {},
   "outputs": [],
   "source": [
    "overnight_range = np.linspace(df['overnight_ret_month'].min(), \n",
    "                             df['overnight_ret_month'].max(), 100)\n",
    "intraday_range = np.linspace(df['mom_intraday'].min(), \n",
    "                            df['mom_intraday'].max(), 100)\n",
    "\n",
    "beta1, beta2, beta3 = 0.0312, 0.0275, -0.0121\n",
    "marginal_overnight = beta1 + beta3 * intraday_range\n",
    "marginal_intraday = beta2 + beta3 * overnight_range\n",
    "\n",
    "fig, (ax1, ax2) = plt.subplots(1, 2, figsize=(16, 6))\n",
    "\n",
    "ax1.plot(intraday_range, marginal_overnight, \n",
    "        color='navy', lw=2)\n",
    "ax1.axhline(0, color='grey', linestyle='--')\n",
    "ax1.fill_between(intraday_range, marginal_overnight, 0, \n",
    "                where=(marginal_overnight > 0), color='green', alpha=0.1)\n",
    "ax1.fill_between(intraday_range, marginal_overnight, 0, \n",
    "                where=(marginal_overnight < 0), color='red', alpha=0.1)\n",
    "ax1.set_title('Marginal effect of overnight returns as a function of intraday momentum', fontsize=14)\n",
    "ax1.set_xlabel('Intraday Momentum', fontsize=12)\n",
    "ax1.set_ylabel('Marginal Effect', fontsize=12)\n",
    "\n",
    "ax2.plot(overnight_range, marginal_intraday, \n",
    "        color='darkred', lw=2)\n",
    "ax2.axhline(0, color='grey', linestyle='--')\n",
    "ax2.fill_between(overnight_range, marginal_intraday, 0, \n",
    "                where=(marginal_intraday > 0), color='green', alpha=0.1)\n",
    "ax2.fill_between(overnight_range, marginal_intraday, 0, \n",
    "                where=(marginal_intraday < 0), color='red', alpha=0.1)\n",
    "ax2.set_title('Marginal effect of intraday momentum varies with overnight returns', fontsize=14)\n",
    "ax2.set_xlabel('Overnight Profit', fontsize=12)\n",
    "\n",
    "plt.tight_layout()\n",
    "plt.show()"
   ]
  },
  {
   "cell_type": "markdown",
   "id": "132a3eb4-ab00-469d-a539-d5759bbde4d5",
   "metadata": {},
   "source": [
    "Left figure (marginal effect of overnight return):\n",
    "+ <span style=\"color:red\">When intraday momentum increases (horizontal axis moves to the right), the predictive ability of overnight return continues to decline; When intraday momentum exceeds +0.6, the marginal effect approaches zero (strategy failure critical point)</span>\n",
    "\n",
    "Right figure (marginal effect of intraday momentum):\n",
    "+ <span style=\"color:red\">When overnight return exceeds +1.2σ, ​​the marginal effect of intraday momentum turns negative; Shows obvious nonlinear characteristics: the positive effect is stronger in the low overnight return range</span>"
   ]
  },
  {
   "cell_type": "markdown",
   "id": "018350d7-4e5a-4de3-8243-4ac96a74130e",
   "metadata": {},
   "source": [
    "+ <span style=\"color:red\">According to the problem, here restate the result for 3 regressions, all numbers come from the upper regressions:</span>"
   ]
  },
  {
   "cell_type": "code",
   "execution_count": null,
   "id": "7f7833fd-a5be-4e95-94b1-2038d5aa8891",
   "metadata": {},
   "outputs": [],
   "source": [
    "# 1. Overnight profit model\n",
    "overnight_results = {\n",
    "    'Coefficient': 0.0087,\n",
    "    't-stat': -5.1481\n",
    "}\n",
    "\n",
    "# 2. Intraday Momentum Model\n",
    "intraday_results = {\n",
    "    'Coefficient': 0.005,\n",
    "    't-stat': 2.4383\n",
    "}\n",
    "\n",
    "# 3. Interaction Model\n",
    "interaction_results = {\n",
    "    'overnight': {'Coefficient': -0.0250, 't-stat': -4.7014},\n",
    "    'intraday': {'Coefficient': 0.0049, 't-stat': 2.3234},\n",
    "    'interaction': {'Coefficient': 0.0098, 't-stat': 0.9962}\n",
    "}\n",
    "\n",
    "\n",
    "summary_table = pd.DataFrame({\n",
    "    'Overnight Only': [overnight_results['Coefficient'], overnight_results['t-stat'], np.nan, np.nan, np.nan, np.nan],\n",
    "    'Intraday Only': [intraday_results['Coefficient'], intraday_results['t-stat'], np.nan, np.nan, np.nan, np.nan],\n",
    "    'Interaction Model': [\n",
    "        interaction_results['overnight']['Coefficient'],\n",
    "        interaction_results['overnight']['t-stat'],\n",
    "        interaction_results['intraday']['Coefficient'],\n",
    "        interaction_results['intraday']['t-stat'],\n",
    "        interaction_results['interaction']['Coefficient'],\n",
    "        interaction_results['interaction']['t-stat']\n",
    "    ]\n",
    "}, index=['Coefficient', 't-stat', 'Coefficient', 't-stat', 'Coefficient', 't-stat'])\n",
    "\n",
    "print(\"Fama-MacBeth Regression Results Summary\")\n",
    "print(\"=====================================================\")\n",
    "print(summary_table)"
   ]
  },
  {
   "cell_type": "markdown",
   "id": "b4c84420-118c-4323-9541-e3efe4339503",
   "metadata": {},
   "source": [
    "# Question 9 - Extra credit (2 points):"
   ]
  },
  {
   "cell_type": "markdown",
   "id": "052a989a-fb15-4a62-a42c-10f587466b4d",
   "metadata": {},
   "source": [
    "## 9.1 Day-of-the-Week Segmentation"
   ]
  },
  {
   "cell_type": "markdown",
   "id": "08d11f39-3a81-4231-92ef-a95fbf38cc2f",
   "metadata": {},
   "source": [
    "Segmentation:\n",
    "+ <span style=\"color:red\">Weekday vs. Weekend (for overnight returns)</span>\n",
    "+ <span style=\"color:red\">Intraday patterns across Monday–Friday<</spa\n",
    "\n",
    "Literature Support:\n",
    "+ <span style=\"color:red\">Cross (1973) and French (1980) documented the Weekend Effect, where overnight returns from Friday close to Monday open exhibit systematically lower returns compared to other weekdays, potentially due to risk-averse investors reducing positions ahead of weekend uncertainty.</span>\n",
    "+ <span style=\"color:red\">Birru (2018) found that intraday momentum is stronger on Mondays and Fridays, linked to institutional rebalancing and retail investor attention cycles.span>\n",
    "\n",
    "Theoretical Basis:\n",
    "+ <span style=\"color:red\">Behavioral Factors: Weekend anxiety and institutional trading schedules drive differential information processing.</span>\n",
    "+ <span style=\"color:red\">Liquidity Cycles: Lower liquidity during weekends amplifies overnight pricing inefficiencies.ds<span>n>"
   ]
  },
  {
   "cell_type": "markdown",
   "id": "8d92b9ee-4ccc-4187-ba3b-9b9a1db76f7f",
   "metadata": {},
   "source": [
    "## 9.2 Turn-of-the-Month (TOTM) vs. Non-TOTM Periods"
   ]
  },
  {
   "cell_type": "markdown",
   "id": "850cc77a-9ff9-4b64-b122-e6eb6375608b",
   "metadata": {},
   "source": [
    "Segmentation:\n",
    "+ <span style=\"color:red\">Last 3 trading days of the month (TOTM) vs other days</span>\n",
    "\n",
    "Literature Support:\n",
    "+ <span style=\"color:red\">Ariel (1987) and Lakonishok & Smidt (1988) identified the Turn-of-the-Month Effect, where overnight returns during TOTM periods are significantly higher, driven by institutional fund flows (e.g., pension contributions).</span>\n",
    "+ <span style=\"color:red\">Lou et al. (2019) showed that intraday momentum during TOTM is weaker due to institutional window dressing activities crowding out retail traders.</span>\n",
    "\n",
    "Theoretical Basis:\n",
    "+ <span style=\"color:red\">Institutional Mandates: Portfolio rebalancing and window dressing at month-end dominate overnight price formation.</span>\n",
    "+ <span style=\"color:red\">Retail vs. Institutional Clientele: Intraday liquidity shocks arise from conflicting trading motives.<span>n>"
   ]
  },
  {
   "cell_type": "markdown",
   "id": "6b7922bf-3b84-49b0-b71b-0341dd5a4c04",
   "metadata": {},
   "source": [
    "## 9.3  Macroeconomic Announcement Windows"
   ]
  },
  {
   "cell_type": "markdown",
   "id": "27ca8895-615a-4242-b6cc-7d71394963e4",
   "metadata": {},
   "source": [
    "Segmentation:\n",
    "+ <span style=\"color:red\">Overnight returns pre-announcement vs. intraday returns post-announcement</span>\n",
    "\n",
    "Literature Support:\n",
    "+ <span style=\"color:red\">Savor & Wilson (2013) demonstrated that overnight returns around Federal Reserve announcements capture pre-event uncertainty resolution, while intraday returns reflect post-announcement price discovery.</span>\n",
    "+ <span style=\"color:red\">Bogousslavsky et al. (2020) found that overnight returns before CPI/NFP releases predict post-announcement intraday reversals, suggesting informed traders act during off-hours.</span>\n",
    "\n",
    "Theoretical Basis:\n",
    "+ <span style=\"color:red\">Information Asymmetry: Institutional investors trade on private information during low-volume overnight periods.</span>\n",
    "+ <span style=\"color:red\">Efficient Market Hypothesis (EMH) Violation: Public news is only partially incorporated into prices overnight.<span>n>"
   ]
  }
 ],
 "metadata": {
  "kernelspec": {
   "display_name": "Python 3 (ipykernel)",
   "language": "python",
   "name": "python3"
  },
  "language_info": {
   "codemirror_mode": {
    "name": "ipython",
    "version": 3
   },
   "file_extension": ".py",
   "mimetype": "text/x-python",
   "name": "python",
   "nbconvert_exporter": "python",
   "pygments_lexer": "ipython3",
   "version": "3.12.4"
  }
 },
 "nbformat": 4,
 "nbformat_minor": 5
}
